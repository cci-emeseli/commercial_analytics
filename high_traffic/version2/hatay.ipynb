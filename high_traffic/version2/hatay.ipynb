{
 "cells": [
  {
   "cell_type": "markdown",
   "metadata": {},
   "source": [
    "<h1><center>High Traffic Clustering</center></h1>"
   ]
  },
  {
   "cell_type": "markdown",
   "metadata": {},
   "source": [
    "Bu notebook, high ve non-high trafik noktalarının belirlenmesi için **Türkiye genelinde** Traditional channel'da 2'li hierarchical clustering çalışmasıdır."
   ]
  },
  {
   "cell_type": "code",
   "execution_count": 1,
   "metadata": {},
   "outputs": [],
   "source": [
    "# Database Connection\n",
    "from google.cloud import bigquery, bigquery_storage_v1beta1\n",
    "\n",
    "# Basic\n",
    "import os\n",
    "import numpy as np\n",
    "import pandas as pd\n",
    "import datetime\n",
    "from datetime import datetime\n",
    "import datetime as dt\n",
    "\n",
    "# visualization\n",
    "import matplotlib.pyplot as plt\n",
    "import seaborn as sns\n",
    "import plotly.express as px\n",
    "\n",
    "# Model\n",
    "import pickle\n",
    "import sklearn\n",
    "from sklearn import preprocessing\n",
    "from sklearn import model_selection\n",
    "from sklearn.preprocessing import MinMaxScaler\n",
    "from sklearn import svm\n",
    "from sklearn.svm import SVC\n",
    "from scipy.special import boxcox1p\n",
    "from scipy import stats\n",
    "from sklearn.cluster import KMeans, DBSCAN, AffinityPropagation, Birch, MeanShift, AgglomerativeClustering\n",
    "from sklearn.mixture import GaussianMixture\n",
    "from sklearn.metrics import silhouette_score, accuracy_score\n",
    "from sklearn.ensemble import IsolationForest\n",
    "from sklearn.tree import DecisionTreeClassifier\n",
    "from sklearn import tree\n",
    "from sklearn.preprocessing import MinMaxScaler\n",
    "import plotly.graph_objects as go\n",
    "from sklearn.metrics import confusion_matrix\n",
    "\n",
    "sns.set_style(\"whitegrid\")\n",
    "# sns.color_palette('bright')\n",
    "sns.set_palette('dark')"
   ]
  },
  {
   "cell_type": "code",
   "execution_count": 2,
   "metadata": {},
   "outputs": [],
   "source": [
    "xls = pd.ExcelFile('traffic_high_low.xlsx')\n",
    "df_high = pd.read_excel(xls, 'High Traffic')\n",
    "df_non = pd.read_excel(xls, 'Non-high Traffic')\n",
    "all_data = pd.read_excel(xls, 'all_data')"
   ]
  },
  {
   "cell_type": "code",
   "execution_count": 3,
   "metadata": {},
   "outputs": [
    {
     "data": {
      "text/html": [
       "<div>\n",
       "<style scoped>\n",
       "    .dataframe tbody tr th:only-of-type {\n",
       "        vertical-align: middle;\n",
       "    }\n",
       "\n",
       "    .dataframe tbody tr th {\n",
       "        vertical-align: top;\n",
       "    }\n",
       "\n",
       "    .dataframe thead th {\n",
       "        text-align: right;\n",
       "    }\n",
       "</style>\n",
       "<table border=\"1\" class=\"dataframe\">\n",
       "  <thead>\n",
       "    <tr style=\"text-align: right;\">\n",
       "      <th></th>\n",
       "      <th>outlet_number</th>\n",
       "      <th>outlet_name</th>\n",
       "      <th>high_traffic</th>\n",
       "    </tr>\n",
       "  </thead>\n",
       "  <tbody>\n",
       "    <tr>\n",
       "      <th>0</th>\n",
       "      <td>9422535</td>\n",
       "      <td>Şampiyon Tekel &amp; Gıda</td>\n",
       "      <td>0</td>\n",
       "    </tr>\n",
       "    <tr>\n",
       "      <th>1</th>\n",
       "      <td>9109019</td>\n",
       "      <td>Flamingo Tekel</td>\n",
       "      <td>0</td>\n",
       "    </tr>\n",
       "    <tr>\n",
       "      <th>2</th>\n",
       "      <td>9489908</td>\n",
       "      <td>Fıçı Tekel</td>\n",
       "      <td>0</td>\n",
       "    </tr>\n",
       "    <tr>\n",
       "      <th>3</th>\n",
       "      <td>3008089</td>\n",
       "      <td>Yerlisu Gıda</td>\n",
       "      <td>0</td>\n",
       "    </tr>\n",
       "    <tr>\n",
       "      <th>4</th>\n",
       "      <td>9566010</td>\n",
       "      <td>Kupa Tekel</td>\n",
       "      <td>0</td>\n",
       "    </tr>\n",
       "  </tbody>\n",
       "</table>\n",
       "</div>"
      ],
      "text/plain": [
       "   outlet_number            outlet_name  high_traffic\n",
       "0        9422535  Şampiyon Tekel & Gıda             0\n",
       "1        9109019         Flamingo Tekel             0\n",
       "2        9489908             Fıçı Tekel             0\n",
       "3        3008089           Yerlisu Gıda             0\n",
       "4        9566010             Kupa Tekel             0"
      ]
     },
     "execution_count": 3,
     "metadata": {},
     "output_type": "execute_result"
    }
   ],
   "source": [
    "all_data.head()"
   ]
  },
  {
   "cell_type": "code",
   "execution_count": 4,
   "metadata": {},
   "outputs": [],
   "source": [
    "shopper_df = pd.read_csv('shopper_data.csv')"
   ]
  },
  {
   "cell_type": "code",
   "execution_count": 5,
   "metadata": {},
   "outputs": [],
   "source": [
    "shopper_df = shopper_df.fillna(0)"
   ]
  },
  {
   "cell_type": "code",
   "execution_count": 6,
   "metadata": {},
   "outputs": [
    {
     "data": {
      "text/plain": [
       "304608"
      ]
     },
     "execution_count": 6,
     "metadata": {},
     "output_type": "execute_result"
    }
   ],
   "source": [
    "len(shopper_df)"
   ]
  },
  {
   "cell_type": "code",
   "execution_count": 7,
   "metadata": {},
   "outputs": [
    {
     "data": {
      "text/html": [
       "<div>\n",
       "<style scoped>\n",
       "    .dataframe tbody tr th:only-of-type {\n",
       "        vertical-align: middle;\n",
       "    }\n",
       "\n",
       "    .dataframe tbody tr th {\n",
       "        vertical-align: top;\n",
       "    }\n",
       "\n",
       "    .dataframe thead th {\n",
       "        text-align: right;\n",
       "    }\n",
       "</style>\n",
       "<table border=\"1\" class=\"dataframe\">\n",
       "  <thead>\n",
       "    <tr style=\"text-align: right;\">\n",
       "      <th></th>\n",
       "      <th>outlet_number</th>\n",
       "      <th>outlet_name</th>\n",
       "      <th>GEOGPOINT</th>\n",
       "      <th>IDARIID</th>\n",
       "      <th>MAIN_CHANNEL</th>\n",
       "      <th>SES</th>\n",
       "      <th>YAS_CLUSTER</th>\n",
       "      <th>ILADI</th>\n",
       "      <th>ILCEADI</th>\n",
       "      <th>HANE_BUYUKLUGU</th>\n",
       "      <th>...</th>\n",
       "      <th>COCACOLA_ENERGY</th>\n",
       "      <th>DAMLA_MINERA</th>\n",
       "      <th>DAMLA_WATER</th>\n",
       "      <th>EXOTIC</th>\n",
       "      <th>FANTA</th>\n",
       "      <th>FUSETEA</th>\n",
       "      <th>MONSTER</th>\n",
       "      <th>POWERADE</th>\n",
       "      <th>SCHWEPPES</th>\n",
       "      <th>SPRITE</th>\n",
       "    </tr>\n",
       "  </thead>\n",
       "  <tbody>\n",
       "    <tr>\n",
       "      <th>0</th>\n",
       "      <td>7173090</td>\n",
       "      <td>DAVUT BIRLES</td>\n",
       "      <td>POINT(29.06531874 40.1851168)</td>\n",
       "      <td>22528</td>\n",
       "      <td>ON-PREMISE</td>\n",
       "      <td>C1</td>\n",
       "      <td>SIFIR</td>\n",
       "      <td>Bursa</td>\n",
       "      <td>Osmangazi</td>\n",
       "      <td>0.663415</td>\n",
       "      <td>...</td>\n",
       "      <td>0.0</td>\n",
       "      <td>0.000</td>\n",
       "      <td>0.000</td>\n",
       "      <td>0.0</td>\n",
       "      <td>4.225</td>\n",
       "      <td>0.000</td>\n",
       "      <td>0.0</td>\n",
       "      <td>0.0</td>\n",
       "      <td>0.000</td>\n",
       "      <td>0.00</td>\n",
       "    </tr>\n",
       "    <tr>\n",
       "      <th>1</th>\n",
       "      <td>7158909</td>\n",
       "      <td>DOGAN TEKEL</td>\n",
       "      <td>POINT(29.06616217 40.18558327)</td>\n",
       "      <td>22528</td>\n",
       "      <td>TRADITIONAL RETAIL</td>\n",
       "      <td>C1</td>\n",
       "      <td>SIFIR</td>\n",
       "      <td>Bursa</td>\n",
       "      <td>Osmangazi</td>\n",
       "      <td>0.663415</td>\n",
       "      <td>...</td>\n",
       "      <td>0.0</td>\n",
       "      <td>0.000</td>\n",
       "      <td>0.000</td>\n",
       "      <td>0.0</td>\n",
       "      <td>70.906</td>\n",
       "      <td>33.571</td>\n",
       "      <td>0.0</td>\n",
       "      <td>0.0</td>\n",
       "      <td>8.452</td>\n",
       "      <td>0.00</td>\n",
       "    </tr>\n",
       "    <tr>\n",
       "      <th>2</th>\n",
       "      <td>9082733</td>\n",
       "      <td>KARDESLER PIDE</td>\n",
       "      <td>POINT(29.06576674 40.18505304)</td>\n",
       "      <td>22528</td>\n",
       "      <td>ON-PREMISE</td>\n",
       "      <td>C1</td>\n",
       "      <td>SIFIR</td>\n",
       "      <td>Bursa</td>\n",
       "      <td>Osmangazi</td>\n",
       "      <td>0.663415</td>\n",
       "      <td>...</td>\n",
       "      <td>0.0</td>\n",
       "      <td>49.855</td>\n",
       "      <td>1605.880</td>\n",
       "      <td>0.0</td>\n",
       "      <td>134.430</td>\n",
       "      <td>8.364</td>\n",
       "      <td>0.0</td>\n",
       "      <td>0.0</td>\n",
       "      <td>0.000</td>\n",
       "      <td>42.52</td>\n",
       "    </tr>\n",
       "    <tr>\n",
       "      <th>3</th>\n",
       "      <td>9468815</td>\n",
       "      <td>IHLAMURALTI CAY BAHCESI</td>\n",
       "      <td>POINT(29.0648084200769 40.1860698786783)</td>\n",
       "      <td>22528</td>\n",
       "      <td>ON-PREMISE</td>\n",
       "      <td>C1</td>\n",
       "      <td>SIFIR</td>\n",
       "      <td>Bursa</td>\n",
       "      <td>Osmangazi</td>\n",
       "      <td>0.663415</td>\n",
       "      <td>...</td>\n",
       "      <td>0.0</td>\n",
       "      <td>0.000</td>\n",
       "      <td>46.486</td>\n",
       "      <td>0.0</td>\n",
       "      <td>5.070</td>\n",
       "      <td>0.000</td>\n",
       "      <td>0.0</td>\n",
       "      <td>0.0</td>\n",
       "      <td>0.000</td>\n",
       "      <td>0.00</td>\n",
       "    </tr>\n",
       "    <tr>\n",
       "      <th>4</th>\n",
       "      <td>8921197</td>\n",
       "      <td>PARALI BUFE</td>\n",
       "      <td>POINT(29.0647642900001 40.18573423)</td>\n",
       "      <td>22528</td>\n",
       "      <td>ON-PREMISE</td>\n",
       "      <td>C1</td>\n",
       "      <td>SIFIR</td>\n",
       "      <td>Bursa</td>\n",
       "      <td>Osmangazi</td>\n",
       "      <td>0.663415</td>\n",
       "      <td>...</td>\n",
       "      <td>0.0</td>\n",
       "      <td>0.000</td>\n",
       "      <td>88.746</td>\n",
       "      <td>0.0</td>\n",
       "      <td>37.403</td>\n",
       "      <td>2.091</td>\n",
       "      <td>0.0</td>\n",
       "      <td>0.0</td>\n",
       "      <td>0.000</td>\n",
       "      <td>2.79</td>\n",
       "    </tr>\n",
       "  </tbody>\n",
       "</table>\n",
       "<p>5 rows × 71 columns</p>\n",
       "</div>"
      ],
      "text/plain": [
       "   outlet_number              outlet_name  \\\n",
       "0        7173090             DAVUT BIRLES   \n",
       "1        7158909              DOGAN TEKEL   \n",
       "2        9082733           KARDESLER PIDE   \n",
       "3        9468815  IHLAMURALTI CAY BAHCESI   \n",
       "4        8921197              PARALI BUFE   \n",
       "\n",
       "                                  GEOGPOINT  IDARIID        MAIN_CHANNEL SES  \\\n",
       "0             POINT(29.06531874 40.1851168)    22528          ON-PREMISE  C1   \n",
       "1            POINT(29.06616217 40.18558327)    22528  TRADITIONAL RETAIL  C1   \n",
       "2            POINT(29.06576674 40.18505304)    22528          ON-PREMISE  C1   \n",
       "3  POINT(29.0648084200769 40.1860698786783)    22528          ON-PREMISE  C1   \n",
       "4       POINT(29.0647642900001 40.18573423)    22528          ON-PREMISE  C1   \n",
       "\n",
       "  YAS_CLUSTER  ILADI    ILCEADI  HANE_BUYUKLUGU  ...  COCACOLA_ENERGY  \\\n",
       "0       SIFIR  Bursa  Osmangazi        0.663415  ...              0.0   \n",
       "1       SIFIR  Bursa  Osmangazi        0.663415  ...              0.0   \n",
       "2       SIFIR  Bursa  Osmangazi        0.663415  ...              0.0   \n",
       "3       SIFIR  Bursa  Osmangazi        0.663415  ...              0.0   \n",
       "4       SIFIR  Bursa  Osmangazi        0.663415  ...              0.0   \n",
       "\n",
       "   DAMLA_MINERA  DAMLA_WATER  EXOTIC    FANTA  FUSETEA  MONSTER  POWERADE  \\\n",
       "0         0.000        0.000     0.0    4.225    0.000      0.0       0.0   \n",
       "1         0.000        0.000     0.0   70.906   33.571      0.0       0.0   \n",
       "2        49.855     1605.880     0.0  134.430    8.364      0.0       0.0   \n",
       "3         0.000       46.486     0.0    5.070    0.000      0.0       0.0   \n",
       "4         0.000       88.746     0.0   37.403    2.091      0.0       0.0   \n",
       "\n",
       "   SCHWEPPES  SPRITE  \n",
       "0      0.000    0.00  \n",
       "1      8.452    0.00  \n",
       "2      0.000   42.52  \n",
       "3      0.000    0.00  \n",
       "4      0.000    2.79  \n",
       "\n",
       "[5 rows x 71 columns]"
      ]
     },
     "execution_count": 7,
     "metadata": {},
     "output_type": "execute_result"
    }
   ],
   "source": [
    "shopper_df.head()"
   ]
  },
  {
   "cell_type": "code",
   "execution_count": 8,
   "metadata": {},
   "outputs": [
    {
     "data": {
      "text/plain": [
       "İstanbul     52534\n",
       "İzmir        20397\n",
       "Ankara       18468\n",
       "Antalya      13285\n",
       "Bursa         9460\n",
       "             ...  \n",
       "Çankırı        532\n",
       "Kilis          510\n",
       "Ardahan        415\n",
       "Bayburt        201\n",
       "Gümüşhane      184\n",
       "Name: ILADI, Length: 81, dtype: int64"
      ]
     },
     "execution_count": 8,
     "metadata": {},
     "output_type": "execute_result"
    }
   ],
   "source": [
    "shopper_df.ILADI.value_counts()"
   ]
  },
  {
   "cell_type": "code",
   "execution_count": 9,
   "metadata": {},
   "outputs": [],
   "source": [
    "#Sadece İstanbul, Ankara, İzmir genelini aldım.\n",
    "#df_new = shopper_df.query(\"\"\" ILADI == 'İstanbul' or ILADI == 'İzmir' or ILADI == 'Ankara' \"\"\").reset_index(drop=True)\n",
    "\n",
    "df_new = shopper_df.query(\"\"\" ILADI == 'Hatay' \"\"\").reset_index(drop=True)"
   ]
  },
  {
   "cell_type": "code",
   "execution_count": 10,
   "metadata": {},
   "outputs": [
    {
     "data": {
      "text/plain": [
       "5141"
      ]
     },
     "execution_count": 10,
     "metadata": {},
     "output_type": "execute_result"
    }
   ],
   "source": [
    "len(df_new)"
   ]
  },
  {
   "cell_type": "code",
   "execution_count": 11,
   "metadata": {},
   "outputs": [
    {
     "data": {
      "text/html": [
       "<div>\n",
       "<style scoped>\n",
       "    .dataframe tbody tr th:only-of-type {\n",
       "        vertical-align: middle;\n",
       "    }\n",
       "\n",
       "    .dataframe tbody tr th {\n",
       "        vertical-align: top;\n",
       "    }\n",
       "\n",
       "    .dataframe thead th {\n",
       "        text-align: right;\n",
       "    }\n",
       "</style>\n",
       "<table border=\"1\" class=\"dataframe\">\n",
       "  <thead>\n",
       "    <tr style=\"text-align: right;\">\n",
       "      <th></th>\n",
       "      <th>outlet_number</th>\n",
       "      <th>outlet_name</th>\n",
       "      <th>GEOGPOINT</th>\n",
       "      <th>IDARIID</th>\n",
       "      <th>MAIN_CHANNEL</th>\n",
       "      <th>SES</th>\n",
       "      <th>YAS_CLUSTER</th>\n",
       "      <th>ILADI</th>\n",
       "      <th>ILCEADI</th>\n",
       "      <th>HANE_BUYUKLUGU</th>\n",
       "      <th>...</th>\n",
       "      <th>COCACOLA_ENERGY</th>\n",
       "      <th>DAMLA_MINERA</th>\n",
       "      <th>DAMLA_WATER</th>\n",
       "      <th>EXOTIC</th>\n",
       "      <th>FANTA</th>\n",
       "      <th>FUSETEA</th>\n",
       "      <th>MONSTER</th>\n",
       "      <th>POWERADE</th>\n",
       "      <th>SCHWEPPES</th>\n",
       "      <th>SPRITE</th>\n",
       "    </tr>\n",
       "  </thead>\n",
       "  <tbody>\n",
       "    <tr>\n",
       "      <th>0</th>\n",
       "      <td>9536760</td>\n",
       "      <td>HIDIR BAKKALIYESI</td>\n",
       "      <td>POINT(36.1690703127533 36.2035302445292)</td>\n",
       "      <td>32519</td>\n",
       "      <td>TRADITIONAL RETAIL</td>\n",
       "      <td>D</td>\n",
       "      <td>MIDDLE AGED</td>\n",
       "      <td>Hatay</td>\n",
       "      <td>Antakya</td>\n",
       "      <td>1.472834</td>\n",
       "      <td>...</td>\n",
       "      <td>0.0</td>\n",
       "      <td>0.0</td>\n",
       "      <td>0.000</td>\n",
       "      <td>0.0</td>\n",
       "      <td>50.720</td>\n",
       "      <td>4.879</td>\n",
       "      <td>0.0</td>\n",
       "      <td>0.0</td>\n",
       "      <td>0.0</td>\n",
       "      <td>0.000</td>\n",
       "    </tr>\n",
       "    <tr>\n",
       "      <th>1</th>\n",
       "      <td>9328270</td>\n",
       "      <td>CEYLAN BAKKALI</td>\n",
       "      <td>POINT(36.17142515 36.2055033299999)</td>\n",
       "      <td>32519</td>\n",
       "      <td>TRADITIONAL RETAIL</td>\n",
       "      <td>D</td>\n",
       "      <td>MIDDLE AGED</td>\n",
       "      <td>Hatay</td>\n",
       "      <td>Antakya</td>\n",
       "      <td>1.472834</td>\n",
       "      <td>...</td>\n",
       "      <td>0.0</td>\n",
       "      <td>0.0</td>\n",
       "      <td>0.000</td>\n",
       "      <td>0.0</td>\n",
       "      <td>36.562</td>\n",
       "      <td>4.331</td>\n",
       "      <td>0.0</td>\n",
       "      <td>0.0</td>\n",
       "      <td>0.0</td>\n",
       "      <td>0.000</td>\n",
       "    </tr>\n",
       "    <tr>\n",
       "      <th>2</th>\n",
       "      <td>8989164</td>\n",
       "      <td>LEVENT OGUTMEN(OGUTMEN BAKKALI)</td>\n",
       "      <td>POINT(36.1700709399999 36.2042689900001)</td>\n",
       "      <td>32519</td>\n",
       "      <td>TRADITIONAL RETAIL</td>\n",
       "      <td>D</td>\n",
       "      <td>MIDDLE AGED</td>\n",
       "      <td>Hatay</td>\n",
       "      <td>Antakya</td>\n",
       "      <td>1.472834</td>\n",
       "      <td>...</td>\n",
       "      <td>0.0</td>\n",
       "      <td>0.0</td>\n",
       "      <td>2.113</td>\n",
       "      <td>0.0</td>\n",
       "      <td>25.250</td>\n",
       "      <td>1.120</td>\n",
       "      <td>0.0</td>\n",
       "      <td>0.0</td>\n",
       "      <td>0.0</td>\n",
       "      <td>9.297</td>\n",
       "    </tr>\n",
       "  </tbody>\n",
       "</table>\n",
       "<p>3 rows × 71 columns</p>\n",
       "</div>"
      ],
      "text/plain": [
       "   outlet_number                      outlet_name  \\\n",
       "0        9536760                HIDIR BAKKALIYESI   \n",
       "1        9328270                   CEYLAN BAKKALI   \n",
       "2        8989164  LEVENT OGUTMEN(OGUTMEN BAKKALI)   \n",
       "\n",
       "                                  GEOGPOINT  IDARIID        MAIN_CHANNEL SES  \\\n",
       "0  POINT(36.1690703127533 36.2035302445292)    32519  TRADITIONAL RETAIL   D   \n",
       "1       POINT(36.17142515 36.2055033299999)    32519  TRADITIONAL RETAIL   D   \n",
       "2  POINT(36.1700709399999 36.2042689900001)    32519  TRADITIONAL RETAIL   D   \n",
       "\n",
       "   YAS_CLUSTER  ILADI  ILCEADI  HANE_BUYUKLUGU  ...  COCACOLA_ENERGY  \\\n",
       "0  MIDDLE AGED  Hatay  Antakya        1.472834  ...              0.0   \n",
       "1  MIDDLE AGED  Hatay  Antakya        1.472834  ...              0.0   \n",
       "2  MIDDLE AGED  Hatay  Antakya        1.472834  ...              0.0   \n",
       "\n",
       "   DAMLA_MINERA  DAMLA_WATER  EXOTIC   FANTA  FUSETEA  MONSTER  POWERADE  \\\n",
       "0           0.0        0.000     0.0  50.720    4.879      0.0       0.0   \n",
       "1           0.0        0.000     0.0  36.562    4.331      0.0       0.0   \n",
       "2           0.0        2.113     0.0  25.250    1.120      0.0       0.0   \n",
       "\n",
       "   SCHWEPPES  SPRITE  \n",
       "0        0.0   0.000  \n",
       "1        0.0   0.000  \n",
       "2        0.0   9.297  \n",
       "\n",
       "[3 rows x 71 columns]"
      ]
     },
     "execution_count": 11,
     "metadata": {},
     "output_type": "execute_result"
    }
   ],
   "source": [
    "df_new.head(3)"
   ]
  },
  {
   "cell_type": "code",
   "execution_count": 12,
   "metadata": {},
   "outputs": [
    {
     "data": {
      "text/plain": [
       "array(['TRADITIONAL RETAIL', 'ON-PREMISE', 'MODERN RETAIL',\n",
       "       'OTHER/THIRD PARTY'], dtype=object)"
      ]
     },
     "execution_count": 12,
     "metadata": {},
     "output_type": "execute_result"
    }
   ],
   "source": [
    "df_new.MAIN_CHANNEL.unique()"
   ]
  },
  {
   "cell_type": "code",
   "execution_count": 13,
   "metadata": {},
   "outputs": [],
   "source": [
    "# data = Class'ları belli olan dataframe\n",
    "class_data = pd.merge(all_data[[\"outlet_number\",\"high_traffic\"]], df_new, on='outlet_number', how='left')"
   ]
  },
  {
   "cell_type": "code",
   "execution_count": 14,
   "metadata": {},
   "outputs": [],
   "source": [
    "# Sadece bu Hatayı içeren toplam 0 satır var. \n",
    "#iller_data = class_data.query(\"\"\" ILADI == 'İstanbul' or ILADI == 'İzmir' or ILADI == 'Ankara' \"\"\").reset_index(drop=True)\n",
    "\n",
    "iller_data = class_data.query(\"\"\" ILADI == 'Hatay' \"\"\").reset_index(drop=True)"
   ]
  },
  {
   "cell_type": "code",
   "execution_count": 15,
   "metadata": {},
   "outputs": [
    {
     "data": {
      "text/html": [
       "<div>\n",
       "<style scoped>\n",
       "    .dataframe tbody tr th:only-of-type {\n",
       "        vertical-align: middle;\n",
       "    }\n",
       "\n",
       "    .dataframe tbody tr th {\n",
       "        vertical-align: top;\n",
       "    }\n",
       "\n",
       "    .dataframe thead th {\n",
       "        text-align: right;\n",
       "    }\n",
       "</style>\n",
       "<table border=\"1\" class=\"dataframe\">\n",
       "  <thead>\n",
       "    <tr style=\"text-align: right;\">\n",
       "      <th></th>\n",
       "      <th>outlet_number</th>\n",
       "      <th>high_traffic</th>\n",
       "      <th>outlet_name</th>\n",
       "      <th>GEOGPOINT</th>\n",
       "      <th>IDARIID</th>\n",
       "      <th>MAIN_CHANNEL</th>\n",
       "      <th>SES</th>\n",
       "      <th>YAS_CLUSTER</th>\n",
       "      <th>ILADI</th>\n",
       "      <th>ILCEADI</th>\n",
       "      <th>...</th>\n",
       "      <th>COCACOLA_ENERGY</th>\n",
       "      <th>DAMLA_MINERA</th>\n",
       "      <th>DAMLA_WATER</th>\n",
       "      <th>EXOTIC</th>\n",
       "      <th>FANTA</th>\n",
       "      <th>FUSETEA</th>\n",
       "      <th>MONSTER</th>\n",
       "      <th>POWERADE</th>\n",
       "      <th>SCHWEPPES</th>\n",
       "      <th>SPRITE</th>\n",
       "    </tr>\n",
       "  </thead>\n",
       "  <tbody>\n",
       "  </tbody>\n",
       "</table>\n",
       "<p>0 rows × 72 columns</p>\n",
       "</div>"
      ],
      "text/plain": [
       "Empty DataFrame\n",
       "Columns: [outlet_number, high_traffic, outlet_name, GEOGPOINT, IDARIID, MAIN_CHANNEL, SES, YAS_CLUSTER, ILADI, ILCEADI, HANE_BUYUKLUGU, GUNDUZ_NUFUS, GECE_NUFUS, ZENGINLIK_INDEKSI, SEHIRLESME_INDEKSI, YAYA_TRAFIGI, AYLIK_HARCAMA, GIDAVEICECEK, ALKOLTUTUN, EGLENCEKULTUR, LOKANTAOTEL, GIDAVEICECEK_ORAN, ALKOLTUTUN_ORAN, EGLENCEKULTUR_ORAN, LOKANTAOTEL_ORAN, ISYERI_YOGUNLUGU_SAYI_KM2_YERLE, ISYERI_YOGUNLUGU_SAYI_KM2, KONUT_YOGUNLUGU_SAYI_KM2_YERLES, KONUT_YOGUNLUGU_SAYI_KM2, IL_BAZLI_TURIST_YERLI_ISLETME, IL_BAZLI_TURIST_YBN_ISLETME, ORTA_ALT, ORTA, ORTA_UST, UST, AKARYAKIT, ALISVERIS, OUTLET, KONUT, EGITIM, UNIVERSITE, EGLENCE, KULTUREL, TURIZM, SPOR, HASTANE, ASKERI, DEMIRYOLU, DENIZYOLU, HAVAYOLU, KARAYOLU, TRAFIK, E_COMMERCE, MODERN_RETAIL, ON_PREMISE, OTHER_THIRD_PARTY, TRADITIONAL_RETAIL, BURN, CAPPY, CC_LIGHT, CC_NO_SUGER, COCACOLA, COCACOLA_ENERGY, DAMLA_MINERA, DAMLA_WATER, EXOTIC, FANTA, FUSETEA, MONSTER, POWERADE, SCHWEPPES, SPRITE]\n",
       "Index: []\n",
       "\n",
       "[0 rows x 72 columns]"
      ]
     },
     "execution_count": 15,
     "metadata": {},
     "output_type": "execute_result"
    }
   ],
   "source": [
    "iller_data.head(2)"
   ]
  },
  {
   "cell_type": "markdown",
   "metadata": {},
   "source": [
    "### Data Prep."
   ]
  },
  {
   "cell_type": "code",
   "execution_count": 16,
   "metadata": {},
   "outputs": [],
   "source": [
    "prep_data = df_new.copy()"
   ]
  },
  {
   "cell_type": "code",
   "execution_count": 17,
   "metadata": {},
   "outputs": [
    {
     "data": {
      "text/plain": [
       "array(['TRADITIONAL RETAIL', 'ON-PREMISE', 'MODERN RETAIL',\n",
       "       'OTHER/THIRD PARTY'], dtype=object)"
      ]
     },
     "execution_count": 17,
     "metadata": {},
     "output_type": "execute_result"
    }
   ],
   "source": [
    "prep_data.MAIN_CHANNEL.unique()"
   ]
  },
  {
   "cell_type": "code",
   "execution_count": 18,
   "metadata": {},
   "outputs": [],
   "source": [
    "# sadece traditional olanları al.\n",
    "prep_data = prep_data.query(\"MAIN_CHANNEL=='TRADITIONAL RETAIL'\").reset_index(drop=True)"
   ]
  },
  {
   "cell_type": "code",
   "execution_count": 19,
   "metadata": {},
   "outputs": [],
   "source": [
    "model_data = prep_data.copy()"
   ]
  },
  {
   "cell_type": "code",
   "execution_count": 20,
   "metadata": {},
   "outputs": [
    {
     "data": {
      "text/plain": [
       "3232"
      ]
     },
     "execution_count": 20,
     "metadata": {},
     "output_type": "execute_result"
    }
   ],
   "source": [
    "len(model_data)"
   ]
  },
  {
   "cell_type": "markdown",
   "metadata": {},
   "source": [
    "#### Label Encoding"
   ]
  },
  {
   "cell_type": "code",
   "execution_count": 21,
   "metadata": {},
   "outputs": [],
   "source": [
    "model_data[\"SES\"] = model_data[\"SES\"].replace({'A': 6, 'B': 5, 'C1': 4, 'C2': 3, 'D': 2, 'E': 1})"
   ]
  },
  {
   "cell_type": "markdown",
   "metadata": {},
   "source": [
    "#### Gece Gündüz Oranı"
   ]
  },
  {
   "cell_type": "code",
   "execution_count": 22,
   "metadata": {},
   "outputs": [],
   "source": [
    "# drop columns for final data for model\n",
    "model_data = model_data.drop([\"outlet_name\"                   \n",
    "                             ,\"GEOGPOINT\"\n",
    "                             ,\"IDARIID\"\n",
    "                             ,\"MAIN_CHANNEL\"\n",
    "                             ,\"YAS_CLUSTER\"\n",
    "                             ,\"ILADI\"\n",
    "                             ,\"ILCEADI\"\n",
    "                             ,\"HANE_BUYUKLUGU\"\n",
    "                             ,\"ZENGINLIK_INDEKSI\"\n",
    "                             ,\"BURN\"\n",
    "                             ,\"CAPPY\"\n",
    "                             ,\"CC_LIGHT\"\n",
    "                             ,\"CC_NO_SUGER\"\n",
    "                             ,\"COCACOLA\"\n",
    "                             ,\"COCACOLA_ENERGY\"\n",
    "                             ,\"DAMLA_MINERA\"\n",
    "                             ,\"DAMLA_WATER\"\n",
    "                             ,\"EXOTIC\"\n",
    "                             ,\"FANTA\"\n",
    "                             ,\"FUSETEA\"\n",
    "                             ,\"MONSTER\"\n",
    "                             ,\"POWERADE\"\n",
    "                             ,\"SCHWEPPES\"\n",
    "                             ,\"SPRITE\"\n",
    "                             ],axis=1)"
   ]
  },
  {
   "cell_type": "code",
   "execution_count": 23,
   "metadata": {},
   "outputs": [],
   "source": [
    "model_data['GECE_NUFUS'].replace({0: 0.00001}, inplace=True)\n",
    "model_data['GUNDUZ_NUFUS'].replace({0: 0.00001}, inplace=True)"
   ]
  },
  {
   "cell_type": "code",
   "execution_count": 24,
   "metadata": {},
   "outputs": [
    {
     "data": {
      "text/html": [
       "<div>\n",
       "<style scoped>\n",
       "    .dataframe tbody tr th:only-of-type {\n",
       "        vertical-align: middle;\n",
       "    }\n",
       "\n",
       "    .dataframe tbody tr th {\n",
       "        vertical-align: top;\n",
       "    }\n",
       "\n",
       "    .dataframe thead th {\n",
       "        text-align: right;\n",
       "    }\n",
       "</style>\n",
       "<table border=\"1\" class=\"dataframe\">\n",
       "  <thead>\n",
       "    <tr style=\"text-align: right;\">\n",
       "      <th></th>\n",
       "      <th>outlet_number</th>\n",
       "      <th>SES</th>\n",
       "      <th>GUNDUZ_NUFUS</th>\n",
       "      <th>GECE_NUFUS</th>\n",
       "      <th>SEHIRLESME_INDEKSI</th>\n",
       "      <th>YAYA_TRAFIGI</th>\n",
       "      <th>AYLIK_HARCAMA</th>\n",
       "      <th>GIDAVEICECEK</th>\n",
       "      <th>ALKOLTUTUN</th>\n",
       "      <th>EGLENCEKULTUR</th>\n",
       "      <th>...</th>\n",
       "      <th>DEMIRYOLU</th>\n",
       "      <th>DENIZYOLU</th>\n",
       "      <th>HAVAYOLU</th>\n",
       "      <th>KARAYOLU</th>\n",
       "      <th>TRAFIK</th>\n",
       "      <th>E_COMMERCE</th>\n",
       "      <th>MODERN_RETAIL</th>\n",
       "      <th>ON_PREMISE</th>\n",
       "      <th>OTHER_THIRD_PARTY</th>\n",
       "      <th>TRADITIONAL_RETAIL</th>\n",
       "    </tr>\n",
       "  </thead>\n",
       "  <tbody>\n",
       "    <tr>\n",
       "      <th>0</th>\n",
       "      <td>9536760</td>\n",
       "      <td>2</td>\n",
       "      <td>0.00001</td>\n",
       "      <td>1003</td>\n",
       "      <td>5.966139</td>\n",
       "      <td>6.987843</td>\n",
       "      <td>2214</td>\n",
       "      <td>0.0</td>\n",
       "      <td>0.0</td>\n",
       "      <td>0.0</td>\n",
       "      <td>...</td>\n",
       "      <td>0.0</td>\n",
       "      <td>0.0</td>\n",
       "      <td>0.0</td>\n",
       "      <td>0.0</td>\n",
       "      <td>0.0</td>\n",
       "      <td>0.0</td>\n",
       "      <td>0.0</td>\n",
       "      <td>0.0</td>\n",
       "      <td>0.0</td>\n",
       "      <td>1.0</td>\n",
       "    </tr>\n",
       "    <tr>\n",
       "      <th>1</th>\n",
       "      <td>9328270</td>\n",
       "      <td>2</td>\n",
       "      <td>0.00001</td>\n",
       "      <td>1003</td>\n",
       "      <td>5.966139</td>\n",
       "      <td>6.987843</td>\n",
       "      <td>2214</td>\n",
       "      <td>0.0</td>\n",
       "      <td>0.0</td>\n",
       "      <td>0.0</td>\n",
       "      <td>...</td>\n",
       "      <td>0.0</td>\n",
       "      <td>0.0</td>\n",
       "      <td>0.0</td>\n",
       "      <td>0.0</td>\n",
       "      <td>0.0</td>\n",
       "      <td>0.0</td>\n",
       "      <td>0.0</td>\n",
       "      <td>0.0</td>\n",
       "      <td>0.0</td>\n",
       "      <td>3.0</td>\n",
       "    </tr>\n",
       "    <tr>\n",
       "      <th>2</th>\n",
       "      <td>8989164</td>\n",
       "      <td>2</td>\n",
       "      <td>0.00001</td>\n",
       "      <td>1003</td>\n",
       "      <td>5.966139</td>\n",
       "      <td>6.987843</td>\n",
       "      <td>2214</td>\n",
       "      <td>0.0</td>\n",
       "      <td>0.0</td>\n",
       "      <td>0.0</td>\n",
       "      <td>...</td>\n",
       "      <td>0.0</td>\n",
       "      <td>0.0</td>\n",
       "      <td>0.0</td>\n",
       "      <td>0.0</td>\n",
       "      <td>0.0</td>\n",
       "      <td>0.0</td>\n",
       "      <td>0.0</td>\n",
       "      <td>0.0</td>\n",
       "      <td>0.0</td>\n",
       "      <td>2.0</td>\n",
       "    </tr>\n",
       "  </tbody>\n",
       "</table>\n",
       "<p>3 rows × 47 columns</p>\n",
       "</div>"
      ],
      "text/plain": [
       "   outlet_number  SES  GUNDUZ_NUFUS  GECE_NUFUS  SEHIRLESME_INDEKSI  \\\n",
       "0        9536760    2       0.00001        1003            5.966139   \n",
       "1        9328270    2       0.00001        1003            5.966139   \n",
       "2        8989164    2       0.00001        1003            5.966139   \n",
       "\n",
       "   YAYA_TRAFIGI  AYLIK_HARCAMA  GIDAVEICECEK  ALKOLTUTUN  EGLENCEKULTUR  ...  \\\n",
       "0      6.987843           2214           0.0         0.0            0.0  ...   \n",
       "1      6.987843           2214           0.0         0.0            0.0  ...   \n",
       "2      6.987843           2214           0.0         0.0            0.0  ...   \n",
       "\n",
       "   DEMIRYOLU  DENIZYOLU  HAVAYOLU  KARAYOLU  TRAFIK  E_COMMERCE  \\\n",
       "0        0.0        0.0       0.0       0.0     0.0         0.0   \n",
       "1        0.0        0.0       0.0       0.0     0.0         0.0   \n",
       "2        0.0        0.0       0.0       0.0     0.0         0.0   \n",
       "\n",
       "   MODERN_RETAIL  ON_PREMISE  OTHER_THIRD_PARTY  TRADITIONAL_RETAIL  \n",
       "0            0.0         0.0                0.0                 1.0  \n",
       "1            0.0         0.0                0.0                 3.0  \n",
       "2            0.0         0.0                0.0                 2.0  \n",
       "\n",
       "[3 rows x 47 columns]"
      ]
     },
     "execution_count": 24,
     "metadata": {},
     "output_type": "execute_result"
    }
   ],
   "source": [
    "model_data.head(3)"
   ]
  },
  {
   "cell_type": "code",
   "execution_count": 25,
   "metadata": {},
   "outputs": [],
   "source": [
    "g = model_data[['GUNDUZ_NUFUS','GECE_NUFUS']]"
   ]
  },
  {
   "cell_type": "code",
   "execution_count": 26,
   "metadata": {},
   "outputs": [],
   "source": [
    "model_data[\"gündüz_gece_oran\"] = g[\"GUNDUZ_NUFUS\"]/g[\"GECE_NUFUS\"]"
   ]
  },
  {
   "cell_type": "code",
   "execution_count": 27,
   "metadata": {},
   "outputs": [
    {
     "data": {
      "text/html": [
       "<div>\n",
       "<style scoped>\n",
       "    .dataframe tbody tr th:only-of-type {\n",
       "        vertical-align: middle;\n",
       "    }\n",
       "\n",
       "    .dataframe tbody tr th {\n",
       "        vertical-align: top;\n",
       "    }\n",
       "\n",
       "    .dataframe thead th {\n",
       "        text-align: right;\n",
       "    }\n",
       "</style>\n",
       "<table border=\"1\" class=\"dataframe\">\n",
       "  <thead>\n",
       "    <tr style=\"text-align: right;\">\n",
       "      <th></th>\n",
       "      <th>outlet_number</th>\n",
       "      <th>SES</th>\n",
       "      <th>GUNDUZ_NUFUS</th>\n",
       "      <th>GECE_NUFUS</th>\n",
       "      <th>SEHIRLESME_INDEKSI</th>\n",
       "      <th>YAYA_TRAFIGI</th>\n",
       "      <th>AYLIK_HARCAMA</th>\n",
       "      <th>GIDAVEICECEK</th>\n",
       "      <th>ALKOLTUTUN</th>\n",
       "      <th>EGLENCEKULTUR</th>\n",
       "      <th>...</th>\n",
       "      <th>DENIZYOLU</th>\n",
       "      <th>HAVAYOLU</th>\n",
       "      <th>KARAYOLU</th>\n",
       "      <th>TRAFIK</th>\n",
       "      <th>E_COMMERCE</th>\n",
       "      <th>MODERN_RETAIL</th>\n",
       "      <th>ON_PREMISE</th>\n",
       "      <th>OTHER_THIRD_PARTY</th>\n",
       "      <th>TRADITIONAL_RETAIL</th>\n",
       "      <th>gündüz_gece_oran</th>\n",
       "    </tr>\n",
       "  </thead>\n",
       "  <tbody>\n",
       "    <tr>\n",
       "      <th>0</th>\n",
       "      <td>9536760</td>\n",
       "      <td>2</td>\n",
       "      <td>0.00001</td>\n",
       "      <td>1003</td>\n",
       "      <td>5.966139</td>\n",
       "      <td>6.987843</td>\n",
       "      <td>2214</td>\n",
       "      <td>0.0</td>\n",
       "      <td>0.0</td>\n",
       "      <td>0.0</td>\n",
       "      <td>...</td>\n",
       "      <td>0.0</td>\n",
       "      <td>0.0</td>\n",
       "      <td>0.0</td>\n",
       "      <td>0.0</td>\n",
       "      <td>0.0</td>\n",
       "      <td>0.0</td>\n",
       "      <td>0.0</td>\n",
       "      <td>0.0</td>\n",
       "      <td>1.0</td>\n",
       "      <td>9.970090e-09</td>\n",
       "    </tr>\n",
       "    <tr>\n",
       "      <th>1</th>\n",
       "      <td>9328270</td>\n",
       "      <td>2</td>\n",
       "      <td>0.00001</td>\n",
       "      <td>1003</td>\n",
       "      <td>5.966139</td>\n",
       "      <td>6.987843</td>\n",
       "      <td>2214</td>\n",
       "      <td>0.0</td>\n",
       "      <td>0.0</td>\n",
       "      <td>0.0</td>\n",
       "      <td>...</td>\n",
       "      <td>0.0</td>\n",
       "      <td>0.0</td>\n",
       "      <td>0.0</td>\n",
       "      <td>0.0</td>\n",
       "      <td>0.0</td>\n",
       "      <td>0.0</td>\n",
       "      <td>0.0</td>\n",
       "      <td>0.0</td>\n",
       "      <td>3.0</td>\n",
       "      <td>9.970090e-09</td>\n",
       "    </tr>\n",
       "    <tr>\n",
       "      <th>2</th>\n",
       "      <td>8989164</td>\n",
       "      <td>2</td>\n",
       "      <td>0.00001</td>\n",
       "      <td>1003</td>\n",
       "      <td>5.966139</td>\n",
       "      <td>6.987843</td>\n",
       "      <td>2214</td>\n",
       "      <td>0.0</td>\n",
       "      <td>0.0</td>\n",
       "      <td>0.0</td>\n",
       "      <td>...</td>\n",
       "      <td>0.0</td>\n",
       "      <td>0.0</td>\n",
       "      <td>0.0</td>\n",
       "      <td>0.0</td>\n",
       "      <td>0.0</td>\n",
       "      <td>0.0</td>\n",
       "      <td>0.0</td>\n",
       "      <td>0.0</td>\n",
       "      <td>2.0</td>\n",
       "      <td>9.970090e-09</td>\n",
       "    </tr>\n",
       "  </tbody>\n",
       "</table>\n",
       "<p>3 rows × 48 columns</p>\n",
       "</div>"
      ],
      "text/plain": [
       "   outlet_number  SES  GUNDUZ_NUFUS  GECE_NUFUS  SEHIRLESME_INDEKSI  \\\n",
       "0        9536760    2       0.00001        1003            5.966139   \n",
       "1        9328270    2       0.00001        1003            5.966139   \n",
       "2        8989164    2       0.00001        1003            5.966139   \n",
       "\n",
       "   YAYA_TRAFIGI  AYLIK_HARCAMA  GIDAVEICECEK  ALKOLTUTUN  EGLENCEKULTUR  ...  \\\n",
       "0      6.987843           2214           0.0         0.0            0.0  ...   \n",
       "1      6.987843           2214           0.0         0.0            0.0  ...   \n",
       "2      6.987843           2214           0.0         0.0            0.0  ...   \n",
       "\n",
       "   DENIZYOLU  HAVAYOLU  KARAYOLU  TRAFIK  E_COMMERCE  MODERN_RETAIL  \\\n",
       "0        0.0       0.0       0.0     0.0         0.0            0.0   \n",
       "1        0.0       0.0       0.0     0.0         0.0            0.0   \n",
       "2        0.0       0.0       0.0     0.0         0.0            0.0   \n",
       "\n",
       "   ON_PREMISE  OTHER_THIRD_PARTY  TRADITIONAL_RETAIL  gündüz_gece_oran  \n",
       "0         0.0                0.0                 1.0      9.970090e-09  \n",
       "1         0.0                0.0                 3.0      9.970090e-09  \n",
       "2         0.0                0.0                 2.0      9.970090e-09  \n",
       "\n",
       "[3 rows x 48 columns]"
      ]
     },
     "execution_count": 27,
     "metadata": {},
     "output_type": "execute_result"
    }
   ],
   "source": [
    "model_data.head(3)"
   ]
  },
  {
   "cell_type": "code",
   "execution_count": 28,
   "metadata": {},
   "outputs": [],
   "source": [
    "model_data = model_data.fillna(0)"
   ]
  },
  {
   "cell_type": "code",
   "execution_count": 29,
   "metadata": {},
   "outputs": [],
   "source": [
    "model_data = model_data.drop([\"outlet_number\"                   \n",
    "                             ,'GUNDUZ_NUFUS'\n",
    "                             ,'GECE_NUFUS'],axis=1)"
   ]
  },
  {
   "cell_type": "code",
   "execution_count": 30,
   "metadata": {},
   "outputs": [
    {
     "name": "stdout",
     "output_type": "stream",
     "text": [
      "<class 'pandas.core.frame.DataFrame'>\n",
      "RangeIndex: 3232 entries, 0 to 3231\n",
      "Data columns (total 45 columns):\n",
      " #   Column                           Non-Null Count  Dtype  \n",
      "---  ------                           --------------  -----  \n",
      " 0   SES                              3232 non-null   int64  \n",
      " 1   SEHIRLESME_INDEKSI               3232 non-null   float64\n",
      " 2   YAYA_TRAFIGI                     3232 non-null   float64\n",
      " 3   AYLIK_HARCAMA                    3232 non-null   int64  \n",
      " 4   GIDAVEICECEK                     3232 non-null   float64\n",
      " 5   ALKOLTUTUN                       3232 non-null   float64\n",
      " 6   EGLENCEKULTUR                    3232 non-null   float64\n",
      " 7   LOKANTAOTEL                      3232 non-null   float64\n",
      " 8   GIDAVEICECEK_ORAN                3232 non-null   float64\n",
      " 9   ALKOLTUTUN_ORAN                  3232 non-null   float64\n",
      " 10  EGLENCEKULTUR_ORAN               3232 non-null   float64\n",
      " 11  LOKANTAOTEL_ORAN                 3232 non-null   float64\n",
      " 12  ISYERI_YOGUNLUGU_SAYI_KM2_YERLE  3232 non-null   float64\n",
      " 13  ISYERI_YOGUNLUGU_SAYI_KM2        3232 non-null   float64\n",
      " 14  KONUT_YOGUNLUGU_SAYI_KM2_YERLES  3232 non-null   float64\n",
      " 15  KONUT_YOGUNLUGU_SAYI_KM2         3232 non-null   float64\n",
      " 16  IL_BAZLI_TURIST_YERLI_ISLETME    3232 non-null   int64  \n",
      " 17  IL_BAZLI_TURIST_YBN_ISLETME      3232 non-null   int64  \n",
      " 18  ORTA_ALT                         3232 non-null   float64\n",
      " 19  ORTA                             3232 non-null   float64\n",
      " 20  ORTA_UST                         3232 non-null   float64\n",
      " 21  UST                              3232 non-null   float64\n",
      " 22  AKARYAKIT                        3232 non-null   float64\n",
      " 23  ALISVERIS                        3232 non-null   float64\n",
      " 24  OUTLET                           3232 non-null   float64\n",
      " 25  KONUT                            3232 non-null   float64\n",
      " 26  EGITIM                           3232 non-null   float64\n",
      " 27  UNIVERSITE                       3232 non-null   float64\n",
      " 28  EGLENCE                          3232 non-null   float64\n",
      " 29  KULTUREL                         3232 non-null   float64\n",
      " 30  TURIZM                           3232 non-null   float64\n",
      " 31  SPOR                             3232 non-null   float64\n",
      " 32  HASTANE                          3232 non-null   float64\n",
      " 33  ASKERI                           3232 non-null   float64\n",
      " 34  DEMIRYOLU                        3232 non-null   float64\n",
      " 35  DENIZYOLU                        3232 non-null   float64\n",
      " 36  HAVAYOLU                         3232 non-null   float64\n",
      " 37  KARAYOLU                         3232 non-null   float64\n",
      " 38  TRAFIK                           3232 non-null   float64\n",
      " 39  E_COMMERCE                       3232 non-null   float64\n",
      " 40  MODERN_RETAIL                    3232 non-null   float64\n",
      " 41  ON_PREMISE                       3232 non-null   float64\n",
      " 42  OTHER_THIRD_PARTY                3232 non-null   float64\n",
      " 43  TRADITIONAL_RETAIL               3232 non-null   float64\n",
      " 44  gündüz_gece_oran                 3232 non-null   float64\n",
      "dtypes: float64(41), int64(4)\n",
      "memory usage: 1.1 MB\n"
     ]
    }
   ],
   "source": [
    "model_data.info()"
   ]
  },
  {
   "cell_type": "markdown",
   "metadata": {},
   "source": [
    "#### Scaling and Normal Dist."
   ]
  },
  {
   "cell_type": "code",
   "execution_count": 31,
   "metadata": {},
   "outputs": [],
   "source": [
    "# define a method to scale data, looping thru the columns, and passing a scaler\n",
    "def scale_data(data):\n",
    "    min_max_scaler = preprocessing.MinMaxScaler()\n",
    "    for col in data.columns:\n",
    "        data[col] = min_max_scaler.fit_transform(data[col].values.reshape(-1, 1))\n",
    "    return data"
   ]
  },
  {
   "cell_type": "code",
   "execution_count": 32,
   "metadata": {},
   "outputs": [],
   "source": [
    "def normal_dist(data):\n",
    "    for col in data.columns:\n",
    "        data[col] = data[col].apply(lambda x: boxcox1p(x,0.25))\n",
    "        stats.boxcox(data[col])[0]\n",
    "    return data"
   ]
  },
  {
   "cell_type": "code",
   "execution_count": 33,
   "metadata": {},
   "outputs": [],
   "source": [
    "def log_data(data):\n",
    "    for col in data.columns:\n",
    "        data[col] = data[col].apply(lambda x: np.log(x))\n",
    "    return data"
   ]
  },
  {
   "cell_type": "code",
   "execution_count": 34,
   "metadata": {},
   "outputs": [],
   "source": [
    "copy_data = model_data.copy()"
   ]
  },
  {
   "cell_type": "code",
   "execution_count": 35,
   "metadata": {},
   "outputs": [
    {
     "data": {
      "text/html": [
       "<div>\n",
       "<style scoped>\n",
       "    .dataframe tbody tr th:only-of-type {\n",
       "        vertical-align: middle;\n",
       "    }\n",
       "\n",
       "    .dataframe tbody tr th {\n",
       "        vertical-align: top;\n",
       "    }\n",
       "\n",
       "    .dataframe thead th {\n",
       "        text-align: right;\n",
       "    }\n",
       "</style>\n",
       "<table border=\"1\" class=\"dataframe\">\n",
       "  <thead>\n",
       "    <tr style=\"text-align: right;\">\n",
       "      <th></th>\n",
       "      <th>SES</th>\n",
       "      <th>SEHIRLESME_INDEKSI</th>\n",
       "      <th>YAYA_TRAFIGI</th>\n",
       "      <th>AYLIK_HARCAMA</th>\n",
       "      <th>GIDAVEICECEK</th>\n",
       "      <th>ALKOLTUTUN</th>\n",
       "      <th>EGLENCEKULTUR</th>\n",
       "      <th>LOKANTAOTEL</th>\n",
       "      <th>GIDAVEICECEK_ORAN</th>\n",
       "      <th>ALKOLTUTUN_ORAN</th>\n",
       "      <th>...</th>\n",
       "      <th>DENIZYOLU</th>\n",
       "      <th>HAVAYOLU</th>\n",
       "      <th>KARAYOLU</th>\n",
       "      <th>TRAFIK</th>\n",
       "      <th>E_COMMERCE</th>\n",
       "      <th>MODERN_RETAIL</th>\n",
       "      <th>ON_PREMISE</th>\n",
       "      <th>OTHER_THIRD_PARTY</th>\n",
       "      <th>TRADITIONAL_RETAIL</th>\n",
       "      <th>gündüz_gece_oran</th>\n",
       "    </tr>\n",
       "  </thead>\n",
       "  <tbody>\n",
       "    <tr>\n",
       "      <th>0</th>\n",
       "      <td>2</td>\n",
       "      <td>5.966139</td>\n",
       "      <td>6.987843</td>\n",
       "      <td>2214</td>\n",
       "      <td>0.0</td>\n",
       "      <td>0.0</td>\n",
       "      <td>0.0</td>\n",
       "      <td>0.0</td>\n",
       "      <td>0.0</td>\n",
       "      <td>0.0</td>\n",
       "      <td>...</td>\n",
       "      <td>0.0</td>\n",
       "      <td>0.0</td>\n",
       "      <td>0.0</td>\n",
       "      <td>0.0</td>\n",
       "      <td>0.0</td>\n",
       "      <td>0.0</td>\n",
       "      <td>0.0</td>\n",
       "      <td>0.0</td>\n",
       "      <td>1.0</td>\n",
       "      <td>9.970090e-09</td>\n",
       "    </tr>\n",
       "    <tr>\n",
       "      <th>1</th>\n",
       "      <td>2</td>\n",
       "      <td>5.966139</td>\n",
       "      <td>6.987843</td>\n",
       "      <td>2214</td>\n",
       "      <td>0.0</td>\n",
       "      <td>0.0</td>\n",
       "      <td>0.0</td>\n",
       "      <td>0.0</td>\n",
       "      <td>0.0</td>\n",
       "      <td>0.0</td>\n",
       "      <td>...</td>\n",
       "      <td>0.0</td>\n",
       "      <td>0.0</td>\n",
       "      <td>0.0</td>\n",
       "      <td>0.0</td>\n",
       "      <td>0.0</td>\n",
       "      <td>0.0</td>\n",
       "      <td>0.0</td>\n",
       "      <td>0.0</td>\n",
       "      <td>3.0</td>\n",
       "      <td>9.970090e-09</td>\n",
       "    </tr>\n",
       "  </tbody>\n",
       "</table>\n",
       "<p>2 rows × 45 columns</p>\n",
       "</div>"
      ],
      "text/plain": [
       "   SES  SEHIRLESME_INDEKSI  YAYA_TRAFIGI  AYLIK_HARCAMA  GIDAVEICECEK  \\\n",
       "0    2            5.966139      6.987843           2214           0.0   \n",
       "1    2            5.966139      6.987843           2214           0.0   \n",
       "\n",
       "   ALKOLTUTUN  EGLENCEKULTUR  LOKANTAOTEL  GIDAVEICECEK_ORAN  ALKOLTUTUN_ORAN  \\\n",
       "0         0.0            0.0          0.0                0.0              0.0   \n",
       "1         0.0            0.0          0.0                0.0              0.0   \n",
       "\n",
       "   ...  DENIZYOLU  HAVAYOLU  KARAYOLU  TRAFIK  E_COMMERCE  MODERN_RETAIL  \\\n",
       "0  ...        0.0       0.0       0.0     0.0         0.0            0.0   \n",
       "1  ...        0.0       0.0       0.0     0.0         0.0            0.0   \n",
       "\n",
       "   ON_PREMISE  OTHER_THIRD_PARTY  TRADITIONAL_RETAIL  gündüz_gece_oran  \n",
       "0         0.0                0.0                 1.0      9.970090e-09  \n",
       "1         0.0                0.0                 3.0      9.970090e-09  \n",
       "\n",
       "[2 rows x 45 columns]"
      ]
     },
     "execution_count": 35,
     "metadata": {},
     "output_type": "execute_result"
    }
   ],
   "source": [
    "copy_data.head(2)"
   ]
  },
  {
   "cell_type": "code",
   "execution_count": 36,
   "metadata": {},
   "outputs": [],
   "source": [
    "copy_data = copy_data.drop([\"IL_BAZLI_TURIST_YERLI_ISLETME\",\"IL_BAZLI_TURIST_YBN_ISLETME\"],axis=1)"
   ]
  },
  {
   "cell_type": "code",
   "execution_count": 37,
   "metadata": {},
   "outputs": [],
   "source": [
    "copy_data[copy_data < 0] = 0"
   ]
  },
  {
   "cell_type": "code",
   "execution_count": 38,
   "metadata": {},
   "outputs": [],
   "source": [
    "copy_data.replace({0: 0.00001}, inplace=True)"
   ]
  },
  {
   "cell_type": "markdown",
   "metadata": {},
   "source": [
    "#### Normal Dist. Part "
   ]
  },
  {
   "cell_type": "markdown",
   "metadata": {},
   "source": [
    "Comment satırı içinde olan sütunlar, sabit(aynı) değerler içerdiğinden normalize edilemeyen değerlerdir. (ilerde buna göre bir fonksiyon yazabilirsin)"
   ]
  },
  {
   "cell_type": "code",
   "execution_count": 40,
   "metadata": {},
   "outputs": [
    {
     "name": "stderr",
     "output_type": "stream",
     "text": [
      "/opt/conda/lib/python3.7/site-packages/numpy/core/_methods.py:205: RuntimeWarning: overflow encountered in multiply\n",
      "  x = um.multiply(x, x, out=x)\n",
      "/opt/conda/lib/python3.7/site-packages/numpy/core/_methods.py:216: RuntimeWarning: overflow encountered in reduce\n",
      "  ret = umr_sum(x, axis, dtype, out, keepdims)\n"
     ]
    }
   ],
   "source": [
    "copy_data[\"SES\"] = stats.boxcox(copy_data[\"SES\"])[0]\n",
    "copy_data[\"SEHIRLESME_INDEKSI\"] = stats.boxcox(copy_data[\"SEHIRLESME_INDEKSI\"])[0]\n",
    "copy_data[\"YAYA_TRAFIGI\"] = stats.boxcox(copy_data[\"YAYA_TRAFIGI\"])[0]\n",
    "copy_data[\"AYLIK_HARCAMA\"] = stats.boxcox(copy_data[\"AYLIK_HARCAMA\"])[0]\n",
    "copy_data[\"GIDAVEICECEK\"] = stats.boxcox(copy_data[\"GIDAVEICECEK\"])[0]\n",
    "copy_data[\"ALKOLTUTUN\"] = stats.boxcox(copy_data[\"ALKOLTUTUN\"])[0]\n",
    "copy_data[\"EGLENCEKULTUR\"] = stats.boxcox(copy_data[\"EGLENCEKULTUR\"])[0]\n",
    "copy_data[\"LOKANTAOTEL\"] = stats.boxcox(copy_data[\"LOKANTAOTEL\"])[0]\n",
    "copy_data[\"GIDAVEICECEK_ORAN\"] = stats.boxcox(copy_data[\"GIDAVEICECEK_ORAN\"])[0]\n",
    "copy_data[\"ALKOLTUTUN_ORAN\"] = stats.boxcox(copy_data[\"ALKOLTUTUN_ORAN\"])[0]\n",
    "copy_data[\"EGLENCEKULTUR_ORAN\"] = stats.boxcox(copy_data[\"EGLENCEKULTUR_ORAN\"])[0]\n",
    "copy_data[\"LOKANTAOTEL_ORAN\"] = stats.boxcox(copy_data[\"LOKANTAOTEL_ORAN\"])[0]\n",
    "copy_data[\"ISYERI_YOGUNLUGU_SAYI_KM2_YERLE\"] = stats.boxcox(copy_data[\"ISYERI_YOGUNLUGU_SAYI_KM2_YERLE\"])[0]\n",
    "copy_data[\"ISYERI_YOGUNLUGU_SAYI_KM2\"] = stats.boxcox(copy_data[\"ISYERI_YOGUNLUGU_SAYI_KM2\"])[0]\n",
    "copy_data[\"KONUT_YOGUNLUGU_SAYI_KM2_YERLES\"] = stats.boxcox(copy_data[\"KONUT_YOGUNLUGU_SAYI_KM2_YERLES\"])[0]\n",
    "copy_data[\"KONUT_YOGUNLUGU_SAYI_KM2\"] = stats.boxcox(copy_data[\"KONUT_YOGUNLUGU_SAYI_KM2\"])[0]\n",
    "#copy_data[\"IL_BAZLI_TURIST_YERLI_ISLETME\"] = stats.boxcox(copy_data[\"IL_BAZLI_TURIST_YERLI_ISLETME\"])[0]\n",
    "#copy_data[\"IL_BAZLI_TURIST_YBN_ISLETME\"] = stats.boxcox(copy_data[\"IL_BAZLI_TURIST_YBN_ISLETME\"])[0]\n",
    "copy_data[\"ORTA_ALT\"] = stats.boxcox(copy_data[\"ORTA_ALT\"])[0]\n",
    "copy_data[\"ORTA\"] = stats.boxcox(copy_data[\"ORTA\"])[0]\n",
    "copy_data[\"ORTA_UST\"] = stats.boxcox(copy_data[\"ORTA_UST\"])[0]\n",
    "copy_data[\"UST\"] = stats.boxcox(copy_data[\"UST\"])[0]\n",
    "copy_data[\"AKARYAKIT\"] = stats.boxcox(copy_data[\"AKARYAKIT\"])[0]\n",
    "copy_data[\"ALISVERIS\"] = stats.boxcox(copy_data[\"ALISVERIS\"])[0]\n",
    "copy_data[\"OUTLET\"] = stats.boxcox(copy_data[\"OUTLET\"])[0]\n",
    "copy_data[\"KONUT\"] = stats.boxcox(copy_data[\"KONUT\"])[0]\n",
    "copy_data[\"EGITIM\"] = stats.boxcox(copy_data[\"EGITIM\"])[0]\n",
    "copy_data[\"UNIVERSITE\"] = stats.boxcox(copy_data[\"UNIVERSITE\"])[0]\n",
    "copy_data[\"EGLENCE\"] = stats.boxcox(copy_data[\"EGLENCE\"])[0]\n",
    "copy_data[\"KULTUREL\"] = stats.boxcox(copy_data[\"KULTUREL\"])[0]\n",
    "copy_data[\"TURIZM\"] = stats.boxcox(copy_data[\"TURIZM\"])[0]\n",
    "copy_data[\"SPOR\"] = stats.boxcox(copy_data[\"SPOR\"])[0]\n",
    "copy_data[\"HASTANE\"] = stats.boxcox(copy_data[\"HASTANE\"])[0]\n",
    "copy_data[\"ASKERI\"] = stats.boxcox(copy_data[\"ASKERI\"])[0]\n",
    "copy_data[\"DEMIRYOLU\"] = stats.boxcox(copy_data[\"DEMIRYOLU\"])[0]\n",
    "#copy_data[\"DENIZYOLU\"] = stats.boxcox(copy_data[\"DENIZYOLU\"])[0]\n",
    "#copy_data[\"HAVAYOLU\"] = stats.boxcox(copy_data[\"HAVAYOLU\"])[0]\n",
    "copy_data[\"KARAYOLU\"] = stats.boxcox(copy_data[\"KARAYOLU\"])[0]\n",
    "copy_data[\"TRAFIK\"] = stats.boxcox(copy_data[\"TRAFIK\"])[0]\n",
    "#copy_data[\"E_COMMERCE\"] = stats.boxcox(copy_data[\"E_COMMERCE\"])[0]\n",
    "copy_data[\"MODERN_RETAIL\"] = stats.boxcox(copy_data[\"MODERN_RETAIL\"])[0]\n",
    "copy_data[\"ON_PREMISE\"] = stats.boxcox(copy_data[\"ON_PREMISE\"])[0]\n",
    "copy_data[\"OTHER_THIRD_PARTY\"] = stats.boxcox(copy_data[\"OTHER_THIRD_PARTY\"])[0]\n",
    "copy_data[\"TRADITIONAL_RETAIL\"] = stats.boxcox(copy_data[\"TRADITIONAL_RETAIL\"])[0]"
   ]
  },
  {
   "cell_type": "code",
   "execution_count": 41,
   "metadata": {},
   "outputs": [
    {
     "data": {
      "text/plain": [
       "<seaborn.axisgrid.FacetGrid at 0x7faae7744d90>"
      ]
     },
     "execution_count": 41,
     "metadata": {},
     "output_type": "execute_result"
    },
    {
     "data": {
      "image/png": "[encoded data removed]",
      "text/plain": [
       "<Figure size 360x360 with 1 Axes>"
      ]
     },
     "metadata": {},
     "output_type": "display_data"
    }
   ],
   "source": [
    "sns.displot(model_data['AYLIK_HARCAMA'])"
   ]
  },
  {
   "cell_type": "code",
   "execution_count": 42,
   "metadata": {},
   "outputs": [
    {
     "data": {
      "text/plain": [
       "<seaborn.axisgrid.FacetGrid at 0x7faae7614a90>"
      ]
     },
     "execution_count": 42,
     "metadata": {},
     "output_type": "execute_result"
    },
    {
     "data": {
      "image/png": "[encoded data removed]",
      "text/plain": [
       "<Figure size 360x360 with 1 Axes>"
      ]
     },
     "metadata": {},
     "output_type": "display_data"
    }
   ],
   "source": [
    "sns.displot(copy_data[\"AYLIK_HARCAMA\"])"
   ]
  },
  {
   "cell_type": "code",
   "execution_count": 43,
   "metadata": {},
   "outputs": [
    {
     "data": {
      "text/plain": [
       "<seaborn.axisgrid.FacetGrid at 0x7faae757cd10>"
      ]
     },
     "execution_count": 43,
     "metadata": {},
     "output_type": "execute_result"
    },
    {
     "data": {
      "image/png": "[encoded data removed]",
      "text/plain": [
       "<Figure size 360x360 with 1 Axes>"
      ]
     },
     "metadata": {},
     "output_type": "display_data"
    }
   ],
   "source": [
    "sns.displot(model_data[\"LOKANTAOTEL\"])"
   ]
  },
  {
   "cell_type": "code",
   "execution_count": 44,
   "metadata": {},
   "outputs": [
    {
     "data": {
      "text/plain": [
       "<seaborn.axisgrid.FacetGrid at 0x7faae74973d0>"
      ]
     },
     "execution_count": 44,
     "metadata": {},
     "output_type": "execute_result"
    },
    {
     "data": {
      "image/png": "[encoded data removed]",
      "text/plain": [
       "<Figure size 360x360 with 1 Axes>"
      ]
     },
     "metadata": {},
     "output_type": "display_data"
    }
   ],
   "source": [
    "sns.displot(copy_data[\"LOKANTAOTEL\"])"
   ]
  },
  {
   "cell_type": "code",
   "execution_count": 45,
   "metadata": {},
   "outputs": [
    {
     "data": {
      "text/plain": [
       "<matplotlib.axes._subplots.AxesSubplot at 0x7faae7361ed0>"
      ]
     },
     "execution_count": 45,
     "metadata": {},
     "output_type": "execute_result"
    },
    {
     "data": {
      "image/png": "[encoded data removed]",
      "text/plain": [
       "<Figure size 432x288 with 1 Axes>"
      ]
     },
     "metadata": {},
     "output_type": "display_data"
    }
   ],
   "source": [
    "model_data.SES.hist()"
   ]
  },
  {
   "cell_type": "code",
   "execution_count": 46,
   "metadata": {},
   "outputs": [
    {
     "data": {
      "text/plain": [
       "<matplotlib.axes._subplots.AxesSubplot at 0x7faae7316850>"
      ]
     },
     "execution_count": 46,
     "metadata": {},
     "output_type": "execute_result"
    },
    {
     "data": {
      "image/png": "[encoded data removed]",
      "text/plain": [
       "<Figure size 432x288 with 1 Axes>"
      ]
     },
     "metadata": {},
     "output_type": "display_data"
    }
   ],
   "source": [
    "copy_data.SES.hist()"
   ]
  },
  {
   "cell_type": "markdown",
   "metadata": {},
   "source": [
    "#### Scaling Part"
   ]
  },
  {
   "cell_type": "code",
   "execution_count": 47,
   "metadata": {},
   "outputs": [],
   "source": [
    "scale_df = copy_data.copy()"
   ]
  },
  {
   "cell_type": "code",
   "execution_count": 48,
   "metadata": {},
   "outputs": [],
   "source": [
    "scale_df = scale_data(scale_df)"
   ]
  },
  {
   "cell_type": "code",
   "execution_count": 49,
   "metadata": {},
   "outputs": [
    {
     "data": {
      "text/plain": [
       "<seaborn.axisgrid.FacetGrid at 0x7faae546b490>"
      ]
     },
     "execution_count": 49,
     "metadata": {},
     "output_type": "execute_result"
    },
    {
     "data": {
      "image/png": "[encoded data removed]",
      "text/plain": [
       "<Figure size 360x360 with 1 Axes>"
      ]
     },
     "metadata": {},
     "output_type": "display_data"
    }
   ],
   "source": [
    "sns.displot(copy_data['AYLIK_HARCAMA'])"
   ]
  },
  {
   "cell_type": "code",
   "execution_count": 50,
   "metadata": {},
   "outputs": [
    {
     "data": {
      "text/plain": [
       "<seaborn.axisgrid.FacetGrid at 0x7faae7398350>"
      ]
     },
     "execution_count": 50,
     "metadata": {},
     "output_type": "execute_result"
    },
    {
     "data": {
      "image/png": "[encoded data removed]",
      "text/plain": [
       "<Figure size 360x360 with 1 Axes>"
      ]
     },
     "metadata": {},
     "output_type": "display_data"
    }
   ],
   "source": [
    "sns.displot(scale_df[\"AYLIK_HARCAMA\"])"
   ]
  },
  {
   "cell_type": "markdown",
   "metadata": {},
   "source": [
    "# Model "
   ]
  },
  {
   "cell_type": "code",
   "execution_count": 51,
   "metadata": {},
   "outputs": [
    {
     "data": {
      "text/plain": [
       "False"
      ]
     },
     "execution_count": 51,
     "metadata": {},
     "output_type": "execute_result"
    }
   ],
   "source": [
    "scale_df.isna().all().all()"
   ]
  },
  {
   "cell_type": "markdown",
   "metadata": {},
   "source": [
    "### Read Model"
   ]
  },
  {
   "cell_type": "code",
   "execution_count": 52,
   "metadata": {},
   "outputs": [],
   "source": [
    "# load the model\n",
    "hrc_model = pickle.load(open(\"model.pkl\", \"rb\"))"
   ]
  },
  {
   "cell_type": "code",
   "execution_count": null,
   "metadata": {},
   "outputs": [],
   "source": [
    "'''with open('hrc_model.pickle', 'rb') as f:\n",
    "    hrc_model = pickle.load(f)'''"
   ]
  },
  {
   "cell_type": "code",
   "execution_count": 53,
   "metadata": {},
   "outputs": [],
   "source": [
    "hrc_preds = hrc_model.fit_predict(scale_df)"
   ]
  },
  {
   "cell_type": "code",
   "execution_count": 54,
   "metadata": {},
   "outputs": [],
   "source": [
    "final_df = prep_data.copy()"
   ]
  },
  {
   "cell_type": "code",
   "execution_count": 55,
   "metadata": {},
   "outputs": [],
   "source": [
    "final_df[\"hrc_preds\"] = hrc_preds"
   ]
  },
  {
   "cell_type": "code",
   "execution_count": 56,
   "metadata": {},
   "outputs": [
    {
     "data": {
      "text/plain": [
       "array([0, 1])"
      ]
     },
     "execution_count": 56,
     "metadata": {},
     "output_type": "execute_result"
    }
   ],
   "source": [
    "final_df[\"hrc_preds\"].unique()"
   ]
  },
  {
   "cell_type": "code",
   "execution_count": 57,
   "metadata": {},
   "outputs": [
    {
     "data": {
      "text/plain": [
       "1    2059\n",
       "0    1173\n",
       "Name: hrc_preds, dtype: int64"
      ]
     },
     "execution_count": 57,
     "metadata": {},
     "output_type": "execute_result"
    }
   ],
   "source": [
    "final_df['hrc_preds'].value_counts()"
   ]
  },
  {
   "cell_type": "code",
   "execution_count": 58,
   "metadata": {},
   "outputs": [
    {
     "data": {
      "text/html": [
       "<div>\n",
       "<style scoped>\n",
       "    .dataframe tbody tr th:only-of-type {\n",
       "        vertical-align: middle;\n",
       "    }\n",
       "\n",
       "    .dataframe tbody tr th {\n",
       "        vertical-align: top;\n",
       "    }\n",
       "\n",
       "    .dataframe thead th {\n",
       "        text-align: right;\n",
       "    }\n",
       "</style>\n",
       "<table border=\"1\" class=\"dataframe\">\n",
       "  <thead>\n",
       "    <tr style=\"text-align: right;\">\n",
       "      <th></th>\n",
       "      <th>outlet_number</th>\n",
       "      <th>outlet_name</th>\n",
       "      <th>GEOGPOINT</th>\n",
       "      <th>IDARIID</th>\n",
       "      <th>MAIN_CHANNEL</th>\n",
       "      <th>SES</th>\n",
       "      <th>YAS_CLUSTER</th>\n",
       "      <th>ILADI</th>\n",
       "      <th>ILCEADI</th>\n",
       "      <th>HANE_BUYUKLUGU</th>\n",
       "      <th>...</th>\n",
       "      <th>DAMLA_MINERA</th>\n",
       "      <th>DAMLA_WATER</th>\n",
       "      <th>EXOTIC</th>\n",
       "      <th>FANTA</th>\n",
       "      <th>FUSETEA</th>\n",
       "      <th>MONSTER</th>\n",
       "      <th>POWERADE</th>\n",
       "      <th>SCHWEPPES</th>\n",
       "      <th>SPRITE</th>\n",
       "      <th>hrc_preds</th>\n",
       "    </tr>\n",
       "  </thead>\n",
       "  <tbody>\n",
       "    <tr>\n",
       "      <th>0</th>\n",
       "      <td>9536760</td>\n",
       "      <td>HIDIR BAKKALIYESI</td>\n",
       "      <td>POINT(36.1690703127533 36.2035302445292)</td>\n",
       "      <td>32519</td>\n",
       "      <td>TRADITIONAL RETAIL</td>\n",
       "      <td>D</td>\n",
       "      <td>MIDDLE AGED</td>\n",
       "      <td>Hatay</td>\n",
       "      <td>Antakya</td>\n",
       "      <td>1.472834</td>\n",
       "      <td>...</td>\n",
       "      <td>0.000</td>\n",
       "      <td>0.000</td>\n",
       "      <td>0.0</td>\n",
       "      <td>50.720</td>\n",
       "      <td>4.879</td>\n",
       "      <td>0.0</td>\n",
       "      <td>0.0</td>\n",
       "      <td>0.0</td>\n",
       "      <td>0.000</td>\n",
       "      <td>0</td>\n",
       "    </tr>\n",
       "    <tr>\n",
       "      <th>1</th>\n",
       "      <td>9328270</td>\n",
       "      <td>CEYLAN BAKKALI</td>\n",
       "      <td>POINT(36.17142515 36.2055033299999)</td>\n",
       "      <td>32519</td>\n",
       "      <td>TRADITIONAL RETAIL</td>\n",
       "      <td>D</td>\n",
       "      <td>MIDDLE AGED</td>\n",
       "      <td>Hatay</td>\n",
       "      <td>Antakya</td>\n",
       "      <td>1.472834</td>\n",
       "      <td>...</td>\n",
       "      <td>0.000</td>\n",
       "      <td>0.000</td>\n",
       "      <td>0.0</td>\n",
       "      <td>36.562</td>\n",
       "      <td>4.331</td>\n",
       "      <td>0.0</td>\n",
       "      <td>0.0</td>\n",
       "      <td>0.0</td>\n",
       "      <td>0.000</td>\n",
       "      <td>0</td>\n",
       "    </tr>\n",
       "    <tr>\n",
       "      <th>2</th>\n",
       "      <td>8989164</td>\n",
       "      <td>LEVENT OGUTMEN(OGUTMEN BAKKALI)</td>\n",
       "      <td>POINT(36.1700709399999 36.2042689900001)</td>\n",
       "      <td>32519</td>\n",
       "      <td>TRADITIONAL RETAIL</td>\n",
       "      <td>D</td>\n",
       "      <td>MIDDLE AGED</td>\n",
       "      <td>Hatay</td>\n",
       "      <td>Antakya</td>\n",
       "      <td>1.472834</td>\n",
       "      <td>...</td>\n",
       "      <td>0.000</td>\n",
       "      <td>2.113</td>\n",
       "      <td>0.0</td>\n",
       "      <td>25.250</td>\n",
       "      <td>1.120</td>\n",
       "      <td>0.0</td>\n",
       "      <td>0.0</td>\n",
       "      <td>0.0</td>\n",
       "      <td>9.297</td>\n",
       "      <td>0</td>\n",
       "    </tr>\n",
       "    <tr>\n",
       "      <th>3</th>\n",
       "      <td>9197594</td>\n",
       "      <td>GENCOGLU BAKKALI</td>\n",
       "      <td>POINT(36.17202223 36.20484399)</td>\n",
       "      <td>32519</td>\n",
       "      <td>TRADITIONAL RETAIL</td>\n",
       "      <td>D</td>\n",
       "      <td>MIDDLE AGED</td>\n",
       "      <td>Hatay</td>\n",
       "      <td>Antakya</td>\n",
       "      <td>1.472834</td>\n",
       "      <td>...</td>\n",
       "      <td>0.000</td>\n",
       "      <td>0.000</td>\n",
       "      <td>0.0</td>\n",
       "      <td>38.822</td>\n",
       "      <td>7.393</td>\n",
       "      <td>0.0</td>\n",
       "      <td>0.0</td>\n",
       "      <td>0.0</td>\n",
       "      <td>0.000</td>\n",
       "      <td>0</td>\n",
       "    </tr>\n",
       "    <tr>\n",
       "      <th>4</th>\n",
       "      <td>9363757</td>\n",
       "      <td>GUL TICARET</td>\n",
       "      <td>POINT(36.1705809831619 36.2063772836701)</td>\n",
       "      <td>32519</td>\n",
       "      <td>TRADITIONAL RETAIL</td>\n",
       "      <td>D</td>\n",
       "      <td>MIDDLE AGED</td>\n",
       "      <td>Hatay</td>\n",
       "      <td>Antakya</td>\n",
       "      <td>1.472834</td>\n",
       "      <td>...</td>\n",
       "      <td>17.745</td>\n",
       "      <td>395.131</td>\n",
       "      <td>0.0</td>\n",
       "      <td>1307.493</td>\n",
       "      <td>414.928</td>\n",
       "      <td>0.0</td>\n",
       "      <td>0.0</td>\n",
       "      <td>0.0</td>\n",
       "      <td>218.387</td>\n",
       "      <td>0</td>\n",
       "    </tr>\n",
       "  </tbody>\n",
       "</table>\n",
       "<p>5 rows × 72 columns</p>\n",
       "</div>"
      ],
      "text/plain": [
       "   outlet_number                      outlet_name  \\\n",
       "0        9536760                HIDIR BAKKALIYESI   \n",
       "1        9328270                   CEYLAN BAKKALI   \n",
       "2        8989164  LEVENT OGUTMEN(OGUTMEN BAKKALI)   \n",
       "3        9197594                 GENCOGLU BAKKALI   \n",
       "4        9363757                      GUL TICARET   \n",
       "\n",
       "                                  GEOGPOINT  IDARIID        MAIN_CHANNEL SES  \\\n",
       "0  POINT(36.1690703127533 36.2035302445292)    32519  TRADITIONAL RETAIL   D   \n",
       "1       POINT(36.17142515 36.2055033299999)    32519  TRADITIONAL RETAIL   D   \n",
       "2  POINT(36.1700709399999 36.2042689900001)    32519  TRADITIONAL RETAIL   D   \n",
       "3            POINT(36.17202223 36.20484399)    32519  TRADITIONAL RETAIL   D   \n",
       "4  POINT(36.1705809831619 36.2063772836701)    32519  TRADITIONAL RETAIL   D   \n",
       "\n",
       "   YAS_CLUSTER  ILADI  ILCEADI  HANE_BUYUKLUGU  ...  DAMLA_MINERA  \\\n",
       "0  MIDDLE AGED  Hatay  Antakya        1.472834  ...         0.000   \n",
       "1  MIDDLE AGED  Hatay  Antakya        1.472834  ...         0.000   \n",
       "2  MIDDLE AGED  Hatay  Antakya        1.472834  ...         0.000   \n",
       "3  MIDDLE AGED  Hatay  Antakya        1.472834  ...         0.000   \n",
       "4  MIDDLE AGED  Hatay  Antakya        1.472834  ...        17.745   \n",
       "\n",
       "   DAMLA_WATER  EXOTIC     FANTA  FUSETEA  MONSTER  POWERADE  SCHWEPPES  \\\n",
       "0        0.000     0.0    50.720    4.879      0.0       0.0        0.0   \n",
       "1        0.000     0.0    36.562    4.331      0.0       0.0        0.0   \n",
       "2        2.113     0.0    25.250    1.120      0.0       0.0        0.0   \n",
       "3        0.000     0.0    38.822    7.393      0.0       0.0        0.0   \n",
       "4      395.131     0.0  1307.493  414.928      0.0       0.0        0.0   \n",
       "\n",
       "    SPRITE  hrc_preds  \n",
       "0    0.000          0  \n",
       "1    0.000          0  \n",
       "2    9.297          0  \n",
       "3    0.000          0  \n",
       "4  218.387          0  \n",
       "\n",
       "[5 rows x 72 columns]"
      ]
     },
     "execution_count": 58,
     "metadata": {},
     "output_type": "execute_result"
    }
   ],
   "source": [
    "final_df.head()"
   ]
  },
  {
   "cell_type": "code",
   "execution_count": 59,
   "metadata": {},
   "outputs": [],
   "source": [
    "comparison_df2 = pd.merge(iller_data, final_df, on='outlet_number')"
   ]
  },
  {
   "cell_type": "code",
   "execution_count": 60,
   "metadata": {},
   "outputs": [
    {
     "data": {
      "text/html": [
       "<div>\n",
       "<style scoped>\n",
       "    .dataframe tbody tr th:only-of-type {\n",
       "        vertical-align: middle;\n",
       "    }\n",
       "\n",
       "    .dataframe tbody tr th {\n",
       "        vertical-align: top;\n",
       "    }\n",
       "\n",
       "    .dataframe thead th {\n",
       "        text-align: right;\n",
       "    }\n",
       "</style>\n",
       "<table border=\"1\" class=\"dataframe\">\n",
       "  <thead>\n",
       "    <tr style=\"text-align: right;\">\n",
       "      <th></th>\n",
       "      <th>high_traffic</th>\n",
       "      <th>hrc_preds</th>\n",
       "    </tr>\n",
       "  </thead>\n",
       "  <tbody>\n",
       "  </tbody>\n",
       "</table>\n",
       "</div>"
      ],
      "text/plain": [
       "Empty DataFrame\n",
       "Columns: [high_traffic, hrc_preds]\n",
       "Index: []"
      ]
     },
     "execution_count": 60,
     "metadata": {},
     "output_type": "execute_result"
    }
   ],
   "source": [
    "conf_df2 = comparison_df2[[\"high_traffic\",\"hrc_preds\"]]\n",
    "conf_df2"
   ]
  },
  {
   "cell_type": "code",
   "execution_count": 61,
   "metadata": {},
   "outputs": [],
   "source": [
    "TP_ = len(conf_df2.query(\"high_traffic == 1 & hrc_preds == 1\")) \n",
    "FP_ = len(conf_df2.query(\"high_traffic == 1 & hrc_preds == 0\"))\n",
    "FN_ = len(conf_df2.query(\"high_traffic == 0 & hrc_preds == 1\"))\n",
    "TN_ = len(conf_df2.query(\"high_traffic == 0 & hrc_preds == 0\"))"
   ]
  },
  {
   "cell_type": "code",
   "execution_count": 62,
   "metadata": {},
   "outputs": [
    {
     "name": "stdout",
     "output_type": "stream",
     "text": [
      "TP is: 0\n",
      "FP is: 0\n",
      "FN is: 0\n",
      "TN is: 0\n"
     ]
    }
   ],
   "source": [
    "print(\"TP is:\", TP_)\n",
    "print(\"FP is:\", FP_)\n",
    "print(\"FN is:\", FN_)\n",
    "print(\"TN is:\", TN_)"
   ]
  },
  {
   "cell_type": "code",
   "execution_count": null,
   "metadata": {
    "jupyter": {
     "source_hidden": true
    }
   },
   "outputs": [],
   "source": [
    "print(\"Accuracy is: %\", (TP_+TN_)/(TP_+TN_+FN_+FP_)*100)"
   ]
  },
  {
   "cell_type": "code",
   "execution_count": 63,
   "metadata": {},
   "outputs": [],
   "source": [
    "# extract coordinates\n",
    "final_df[\"x\"] = final_df[\"GEOGPOINT\"].apply(lambda x: x.split(\")\")[0].split(\"POINT(\")[1].split(\" \")[1])\n",
    "final_df[\"y\"] = final_df[\"GEOGPOINT\"].apply(lambda x: x.split(\")\")[0].split(\"POINT(\")[1].split(\" \")[0])"
   ]
  },
  {
   "cell_type": "code",
   "execution_count": 64,
   "metadata": {},
   "outputs": [],
   "source": [
    "final_df[\"y\"] = pd.to_numeric(final_df[\"y\"], downcast=\"float\")\n",
    "final_df[\"x\"] = pd.to_numeric(final_df[\"x\"], downcast=\"float\")"
   ]
  },
  {
   "cell_type": "markdown",
   "metadata": {},
   "source": [
    "## Decision Points"
   ]
  },
  {
   "cell_type": "code",
   "execution_count": 65,
   "metadata": {},
   "outputs": [],
   "source": [
    "# decision tree için kullanılacak bu data; içinde scale edilmiş değerler yanında hier. clustering prediction'larını da içerir.\n",
    "decision_df = scale_df.copy()"
   ]
  },
  {
   "cell_type": "code",
   "execution_count": 66,
   "metadata": {},
   "outputs": [],
   "source": [
    "decision_df['hrc_preds'] = hrc_preds"
   ]
  },
  {
   "cell_type": "code",
   "execution_count": 67,
   "metadata": {
    "collapsed": true,
    "jupyter": {
     "outputs_hidden": true
    }
   },
   "outputs": [
    {
     "name": "stdout",
     "output_type": "stream",
     "text": [
      "|--- feature_17 <= 0.49\n",
      "|   |--- feature_28 <= 0.50\n",
      "|   |   |--- feature_29 <= 0.50\n",
      "|   |   |   |--- feature_36 <= 0.49\n",
      "|   |   |   |   |--- feature_9 <= 0.30\n",
      "|   |   |   |   |   |--- class: 0\n",
      "|   |   |   |   |--- feature_9 >  0.30\n",
      "|   |   |   |   |   |--- feature_21 <= 0.89\n",
      "|   |   |   |   |   |   |--- feature_13 <= 0.85\n",
      "|   |   |   |   |   |   |   |--- feature_30 <= 0.50\n",
      "|   |   |   |   |   |   |   |   |--- feature_21 <= 0.41\n",
      "|   |   |   |   |   |   |   |   |   |--- class: 1\n",
      "|   |   |   |   |   |   |   |   |--- feature_21 >  0.41\n",
      "|   |   |   |   |   |   |   |   |   |--- feature_38 <= 0.50\n",
      "|   |   |   |   |   |   |   |   |   |   |--- feature_27 <= 0.50\n",
      "|   |   |   |   |   |   |   |   |   |   |   |--- class: 1\n",
      "|   |   |   |   |   |   |   |   |   |   |--- feature_27 >  0.50\n",
      "|   |   |   |   |   |   |   |   |   |   |   |--- truncated branch of depth 2\n",
      "|   |   |   |   |   |   |   |   |   |--- feature_38 >  0.50\n",
      "|   |   |   |   |   |   |   |   |   |   |--- feature_3 <= 0.64\n",
      "|   |   |   |   |   |   |   |   |   |   |   |--- class: 1\n",
      "|   |   |   |   |   |   |   |   |   |   |--- feature_3 >  0.64\n",
      "|   |   |   |   |   |   |   |   |   |   |   |--- truncated branch of depth 2\n",
      "|   |   |   |   |   |   |   |--- feature_30 >  0.50\n",
      "|   |   |   |   |   |   |   |   |--- feature_7 <= 0.57\n",
      "|   |   |   |   |   |   |   |   |   |--- class: 1\n",
      "|   |   |   |   |   |   |   |   |--- feature_7 >  0.57\n",
      "|   |   |   |   |   |   |   |   |   |--- class: 0\n",
      "|   |   |   |   |   |   |--- feature_13 >  0.85\n",
      "|   |   |   |   |   |   |   |--- feature_21 <= 0.41\n",
      "|   |   |   |   |   |   |   |   |--- class: 1\n",
      "|   |   |   |   |   |   |   |--- feature_21 >  0.41\n",
      "|   |   |   |   |   |   |   |   |--- class: 0\n",
      "|   |   |   |   |   |--- feature_21 >  0.89\n",
      "|   |   |   |   |   |   |--- feature_22 <= 0.62\n",
      "|   |   |   |   |   |   |   |--- feature_2 <= 0.79\n",
      "|   |   |   |   |   |   |   |   |--- class: 1\n",
      "|   |   |   |   |   |   |   |--- feature_2 >  0.79\n",
      "|   |   |   |   |   |   |   |   |--- feature_41 <= 0.17\n",
      "|   |   |   |   |   |   |   |   |   |--- class: 1\n",
      "|   |   |   |   |   |   |   |   |--- feature_41 >  0.17\n",
      "|   |   |   |   |   |   |   |   |   |--- class: 0\n",
      "|   |   |   |   |   |   |--- feature_22 >  0.62\n",
      "|   |   |   |   |   |   |   |--- feature_27 <= 0.50\n",
      "|   |   |   |   |   |   |   |   |--- feature_42 <= 0.02\n",
      "|   |   |   |   |   |   |   |   |   |--- feature_1 <= 0.55\n",
      "|   |   |   |   |   |   |   |   |   |   |--- class: 0\n",
      "|   |   |   |   |   |   |   |   |   |--- feature_1 >  0.55\n",
      "|   |   |   |   |   |   |   |   |   |   |--- class: 1\n",
      "|   |   |   |   |   |   |   |   |--- feature_42 >  0.02\n",
      "|   |   |   |   |   |   |   |   |   |--- class: 0\n",
      "|   |   |   |   |   |   |   |--- feature_27 >  0.50\n",
      "|   |   |   |   |   |   |   |   |--- class: 0\n",
      "|   |   |   |--- feature_36 >  0.49\n",
      "|   |   |   |   |--- feature_39 <= 0.43\n",
      "|   |   |   |   |   |--- feature_21 <= 0.41\n",
      "|   |   |   |   |   |   |--- feature_11 <= 0.23\n",
      "|   |   |   |   |   |   |   |--- class: 0\n",
      "|   |   |   |   |   |   |--- feature_11 >  0.23\n",
      "|   |   |   |   |   |   |   |--- class: 1\n",
      "|   |   |   |   |   |--- feature_21 >  0.41\n",
      "|   |   |   |   |   |   |--- feature_12 <= 0.50\n",
      "|   |   |   |   |   |   |   |--- class: 0\n",
      "|   |   |   |   |   |   |--- feature_12 >  0.50\n",
      "|   |   |   |   |   |   |   |--- feature_9 <= 0.88\n",
      "|   |   |   |   |   |   |   |   |--- feature_15 <= 0.87\n",
      "|   |   |   |   |   |   |   |   |   |--- feature_13 <= 0.72\n",
      "|   |   |   |   |   |   |   |   |   |   |--- feature_14 <= 0.68\n",
      "|   |   |   |   |   |   |   |   |   |   |   |--- truncated branch of depth 2\n",
      "|   |   |   |   |   |   |   |   |   |   |--- feature_14 >  0.68\n",
      "|   |   |   |   |   |   |   |   |   |   |   |--- class: 1\n",
      "|   |   |   |   |   |   |   |   |   |--- feature_13 >  0.72\n",
      "|   |   |   |   |   |   |   |   |   |   |--- class: 0\n",
      "|   |   |   |   |   |   |   |   |--- feature_15 >  0.87\n",
      "|   |   |   |   |   |   |   |   |   |--- class: 1\n",
      "|   |   |   |   |   |   |   |--- feature_9 >  0.88\n",
      "|   |   |   |   |   |   |   |   |--- class: 1\n",
      "|   |   |   |   |--- feature_39 >  0.43\n",
      "|   |   |   |   |   |--- feature_1 <= 0.42\n",
      "|   |   |   |   |   |   |--- class: 1\n",
      "|   |   |   |   |   |--- feature_1 >  0.42\n",
      "|   |   |   |   |   |   |--- feature_12 <= 0.68\n",
      "|   |   |   |   |   |   |   |--- feature_24 <= 0.49\n",
      "|   |   |   |   |   |   |   |   |--- feature_2 <= 0.59\n",
      "|   |   |   |   |   |   |   |   |   |--- feature_41 <= 0.17\n",
      "|   |   |   |   |   |   |   |   |   |   |--- feature_6 <= 0.66\n",
      "|   |   |   |   |   |   |   |   |   |   |   |--- class: 1\n",
      "|   |   |   |   |   |   |   |   |   |   |--- feature_6 >  0.66\n",
      "|   |   |   |   |   |   |   |   |   |   |   |--- class: 0\n",
      "|   |   |   |   |   |   |   |   |   |--- feature_41 >  0.17\n",
      "|   |   |   |   |   |   |   |   |   |   |--- feature_1 <= 0.70\n",
      "|   |   |   |   |   |   |   |   |   |   |   |--- class: 0\n",
      "|   |   |   |   |   |   |   |   |   |   |--- feature_1 >  0.70\n",
      "|   |   |   |   |   |   |   |   |   |   |   |--- truncated branch of depth 2\n",
      "|   |   |   |   |   |   |   |   |--- feature_2 >  0.59\n",
      "|   |   |   |   |   |   |   |   |   |--- class: 0\n",
      "|   |   |   |   |   |   |   |--- feature_24 >  0.49\n",
      "|   |   |   |   |   |   |   |   |--- feature_27 <= 0.50\n",
      "|   |   |   |   |   |   |   |   |   |--- feature_35 <= 0.48\n",
      "|   |   |   |   |   |   |   |   |   |   |--- feature_2 <= 0.50\n",
      "|   |   |   |   |   |   |   |   |   |   |   |--- class: 1\n",
      "|   |   |   |   |   |   |   |   |   |   |--- feature_2 >  0.50\n",
      "|   |   |   |   |   |   |   |   |   |   |   |--- class: 0\n",
      "|   |   |   |   |   |   |   |   |   |--- feature_35 >  0.48\n",
      "|   |   |   |   |   |   |   |   |   |   |--- class: 1\n",
      "|   |   |   |   |   |   |   |   |--- feature_27 >  0.50\n",
      "|   |   |   |   |   |   |   |   |   |--- class: 0\n",
      "|   |   |   |   |   |   |--- feature_12 >  0.68\n",
      "|   |   |   |   |   |   |   |--- feature_22 <= 0.50\n",
      "|   |   |   |   |   |   |   |   |--- feature_42 <= 0.01\n",
      "|   |   |   |   |   |   |   |   |   |--- class: 0\n",
      "|   |   |   |   |   |   |   |   |--- feature_42 >  0.01\n",
      "|   |   |   |   |   |   |   |   |   |--- feature_8 <= 0.82\n",
      "|   |   |   |   |   |   |   |   |   |   |--- class: 1\n",
      "|   |   |   |   |   |   |   |   |   |--- feature_8 >  0.82\n",
      "|   |   |   |   |   |   |   |   |   |   |--- class: 0\n",
      "|   |   |   |   |   |   |   |--- feature_22 >  0.50\n",
      "|   |   |   |   |   |   |   |   |--- class: 0\n",
      "|   |   |--- feature_29 >  0.50\n",
      "|   |   |   |--- feature_20 <= 0.50\n",
      "|   |   |   |   |--- feature_2 <= 0.31\n",
      "|   |   |   |   |   |--- class: 1\n",
      "|   |   |   |   |--- feature_2 >  0.31\n",
      "|   |   |   |   |   |--- feature_14 <= 0.81\n",
      "|   |   |   |   |   |   |--- class: 0\n",
      "|   |   |   |   |   |--- feature_14 >  0.81\n",
      "|   |   |   |   |   |   |--- feature_22 <= 0.50\n",
      "|   |   |   |   |   |   |   |--- feature_29 <= 1.00\n",
      "|   |   |   |   |   |   |   |   |--- class: 0\n",
      "|   |   |   |   |   |   |   |--- feature_29 >  1.00\n",
      "|   |   |   |   |   |   |   |   |--- class: 1\n",
      "|   |   |   |   |   |   |--- feature_22 >  0.50\n",
      "|   |   |   |   |   |   |   |--- class: 0\n",
      "|   |   |   |--- feature_20 >  0.50\n",
      "|   |   |   |   |--- class: 1\n",
      "|   |--- feature_28 >  0.50\n",
      "|   |   |--- feature_15 <= 0.41\n",
      "|   |   |   |--- feature_14 <= 0.30\n",
      "|   |   |   |   |--- feature_36 <= 0.49\n",
      "|   |   |   |   |   |--- class: 0\n",
      "|   |   |   |   |--- feature_36 >  0.49\n",
      "|   |   |   |   |   |--- class: 1\n",
      "|   |   |   |--- feature_14 >  0.30\n",
      "|   |   |   |   |--- feature_3 <= 0.26\n",
      "|   |   |   |   |   |--- class: 1\n",
      "|   |   |   |   |--- feature_3 >  0.26\n",
      "|   |   |   |   |   |--- class: 0\n",
      "|   |   |--- feature_15 >  0.41\n",
      "|   |   |   |--- class: 0\n",
      "|--- feature_17 >  0.49\n",
      "|   |--- feature_41 <= 0.55\n",
      "|   |   |--- feature_23 <= 0.50\n",
      "|   |   |   |--- feature_36 <= 0.49\n",
      "|   |   |   |   |--- feature_3 <= 0.30\n",
      "|   |   |   |   |   |--- feature_41 <= 0.17\n",
      "|   |   |   |   |   |   |--- feature_5 <= 0.49\n",
      "|   |   |   |   |   |   |   |--- class: 0\n",
      "|   |   |   |   |   |   |--- feature_5 >  0.49\n",
      "|   |   |   |   |   |   |   |--- class: 1\n",
      "|   |   |   |   |   |--- feature_41 >  0.17\n",
      "|   |   |   |   |   |   |--- class: 0\n",
      "|   |   |   |   |--- feature_3 >  0.30\n",
      "|   |   |   |   |   |--- feature_2 <= 0.94\n",
      "|   |   |   |   |   |   |--- class: 0\n",
      "|   |   |   |   |   |--- feature_2 >  0.94\n",
      "|   |   |   |   |   |   |--- feature_39 <= 0.43\n",
      "|   |   |   |   |   |   |   |--- feature_24 <= 0.49\n",
      "|   |   |   |   |   |   |   |   |--- class: 0\n",
      "|   |   |   |   |   |   |   |--- feature_24 >  0.49\n",
      "|   |   |   |   |   |   |   |   |--- class: 1\n",
      "|   |   |   |   |   |   |--- feature_39 >  0.43\n",
      "|   |   |   |   |   |   |   |--- class: 0\n",
      "|   |   |   |--- feature_36 >  0.49\n",
      "|   |   |   |   |--- feature_39 <= 0.43\n",
      "|   |   |   |   |   |--- feature_13 <= 0.64\n",
      "|   |   |   |   |   |   |--- feature_1 <= 0.55\n",
      "|   |   |   |   |   |   |   |--- feature_12 <= 0.59\n",
      "|   |   |   |   |   |   |   |   |--- feature_13 <= 0.40\n",
      "|   |   |   |   |   |   |   |   |   |--- class: 0\n",
      "|   |   |   |   |   |   |   |   |--- feature_13 >  0.40\n",
      "|   |   |   |   |   |   |   |   |   |--- class: 1\n",
      "|   |   |   |   |   |   |   |--- feature_12 >  0.59\n",
      "|   |   |   |   |   |   |   |   |--- class: 0\n",
      "|   |   |   |   |   |   |--- feature_1 >  0.55\n",
      "|   |   |   |   |   |   |   |--- class: 1\n",
      "|   |   |   |   |   |--- feature_13 >  0.64\n",
      "|   |   |   |   |   |   |--- feature_20 <= 0.50\n",
      "|   |   |   |   |   |   |   |--- class: 0\n",
      "|   |   |   |   |   |   |--- feature_20 >  0.50\n",
      "|   |   |   |   |   |   |   |--- class: 1\n",
      "|   |   |   |   |--- feature_39 >  0.43\n",
      "|   |   |   |   |   |--- feature_22 <= 0.54\n",
      "|   |   |   |   |   |   |--- feature_41 <= 0.42\n",
      "|   |   |   |   |   |   |   |--- class: 0\n",
      "|   |   |   |   |   |   |--- feature_41 >  0.42\n",
      "|   |   |   |   |   |   |   |--- feature_0 <= 0.39\n",
      "|   |   |   |   |   |   |   |   |--- class: 0\n",
      "|   |   |   |   |   |   |   |--- feature_0 >  0.39\n",
      "|   |   |   |   |   |   |   |   |--- class: 1\n",
      "|   |   |   |   |   |--- feature_22 >  0.54\n",
      "|   |   |   |   |   |   |--- class: 0\n",
      "|   |   |--- feature_23 >  0.50\n",
      "|   |   |   |--- feature_42 <= 0.00\n",
      "|   |   |   |   |--- class: 0\n",
      "|   |   |   |--- feature_42 >  0.00\n",
      "|   |   |   |   |--- feature_5 <= 0.85\n",
      "|   |   |   |   |   |--- feature_14 <= 0.46\n",
      "|   |   |   |   |   |   |--- feature_35 <= 0.97\n",
      "|   |   |   |   |   |   |   |--- class: 0\n",
      "|   |   |   |   |   |   |--- feature_35 >  0.97\n",
      "|   |   |   |   |   |   |   |--- class: 1\n",
      "|   |   |   |   |   |--- feature_14 >  0.46\n",
      "|   |   |   |   |   |   |--- feature_22 <= 0.61\n",
      "|   |   |   |   |   |   |   |--- class: 1\n",
      "|   |   |   |   |   |   |--- feature_22 >  0.61\n",
      "|   |   |   |   |   |   |   |--- feature_12 <= 0.75\n",
      "|   |   |   |   |   |   |   |   |--- feature_36 <= 0.49\n",
      "|   |   |   |   |   |   |   |   |   |--- feature_29 <= 0.50\n",
      "|   |   |   |   |   |   |   |   |   |   |--- class: 1\n",
      "|   |   |   |   |   |   |   |   |   |--- feature_29 >  0.50\n",
      "|   |   |   |   |   |   |   |   |   |   |--- class: 0\n",
      "|   |   |   |   |   |   |   |   |--- feature_36 >  0.49\n",
      "|   |   |   |   |   |   |   |   |   |--- class: 0\n",
      "|   |   |   |   |   |   |   |--- feature_12 >  0.75\n",
      "|   |   |   |   |   |   |   |   |--- class: 1\n",
      "|   |   |   |   |--- feature_5 >  0.85\n",
      "|   |   |   |   |   |--- class: 0\n",
      "|   |--- feature_41 >  0.55\n",
      "|   |   |--- feature_39 <= 0.43\n",
      "|   |   |   |--- feature_22 <= 0.56\n",
      "|   |   |   |   |--- feature_21 <= 0.84\n",
      "|   |   |   |   |   |--- class: 1\n",
      "|   |   |   |   |--- feature_21 >  0.84\n",
      "|   |   |   |   |   |--- class: 0\n",
      "|   |   |   |--- feature_22 >  0.56\n",
      "|   |   |   |   |--- feature_36 <= 1.00\n",
      "|   |   |   |   |   |--- class: 0\n",
      "|   |   |   |   |--- feature_36 >  1.00\n",
      "|   |   |   |   |   |--- class: 1\n",
      "|   |   |--- feature_39 >  0.43\n",
      "|   |   |   |--- class: 0\n",
      "\n"
     ]
    }
   ],
   "source": [
    "from sklearn.model_selection import train_test_split\n",
    "\n",
    "x = decision_df.drop('hrc_preds', axis=1)\n",
    "y = decision_df['hrc_preds']\n",
    "x_train, x_test, y_train, y_test = train_test_split(x, y, test_size=0.33, random_state=41)\n",
    "    \n",
    "dc = DecisionTreeClassifier(criterion=\"entropy\", random_state=42) \n",
    "dc.fit(x_train, y_train)\n",
    "dc_pred = dc.predict(x_test)\n",
    "\n",
    "d_text = tree.export_text(dc)\n",
    "print(d_text)"
   ]
  },
  {
   "cell_type": "code",
   "execution_count": 68,
   "metadata": {},
   "outputs": [
    {
     "data": {
      "text/plain": [
       "0.9578256794751641"
      ]
     },
     "execution_count": 68,
     "metadata": {},
     "output_type": "execute_result"
    }
   ],
   "source": [
    "from sklearn import metrics\n",
    "metrics.accuracy_score(y_test, dc_pred)"
   ]
  },
  {
   "cell_type": "code",
   "execution_count": 69,
   "metadata": {},
   "outputs": [
    {
     "data": {
      "text/plain": [
       "array([0.00136094, 0.02198615, 0.01149806, 0.00782167, 0.        ,\n",
       "       0.00795547, 0.00136094, 0.00340697, 0.00136094, 0.06551794,\n",
       "       0.        , 0.0038663 , 0.01173099, 0.01860139, 0.00813036,\n",
       "       0.00758874, 0.        , 0.31201815, 0.        , 0.        ,\n",
       "       0.00720216, 0.05286362, 0.0202768 , 0.00945317, 0.01083356,\n",
       "       0.        , 0.        , 0.00970899, 0.1044633 , 0.10556656,\n",
       "       0.00778768, 0.        , 0.        , 0.        , 0.        ,\n",
       "       0.00446296, 0.08725197, 0.        , 0.00398973, 0.05402068,\n",
       "       0.        , 0.02675486, 0.01115897])"
      ]
     },
     "execution_count": 69,
     "metadata": {},
     "output_type": "execute_result"
    }
   ],
   "source": [
    "dc.feature_importances_"
   ]
  },
  {
   "cell_type": "code",
   "execution_count": 70,
   "metadata": {},
   "outputs": [
    {
     "data": {
      "text/plain": [
       "<matplotlib.axes._subplots.AxesSubplot at 0x7faae52af450>"
      ]
     },
     "execution_count": 70,
     "metadata": {},
     "output_type": "execute_result"
    },
    {
     "data": {
      "image/png": "[encoded data removed]",
      "text/plain": [
       "<Figure size 432x288 with 1 Axes>"
      ]
     },
     "metadata": {},
     "output_type": "display_data"
    }
   ],
   "source": [
    "pd.Series(dc.feature_importances_, index=x_train.columns).nlargest(15).plot(kind='barh')"
   ]
  },
  {
   "cell_type": "code",
   "execution_count": 71,
   "metadata": {},
   "outputs": [],
   "source": [
    "analysis_df = final_df.drop([ \n",
    "\"MAIN_CHANNEL\"                                             \n",
    ",\"YAS_CLUSTER\"                    \n",
    ",\"ILADI\"                          \n",
    ",\"ILCEADI\"  \n",
    ",\"GEOGPOINT\"\n",
    ",\"IDARIID\"\n",
    ",\"HANE_BUYUKLUGU\"\n",
    ",\"x\",\"y\"\n",
    "],axis=1)"
   ]
  },
  {
   "cell_type": "code",
   "execution_count": 72,
   "metadata": {},
   "outputs": [],
   "source": [
    "final_high = analysis_df.query(\"hrc_preds == 1\")\n",
    "final_low = analysis_df.query(\"hrc_preds == 0\") "
   ]
  },
  {
   "cell_type": "code",
   "execution_count": 73,
   "metadata": {},
   "outputs": [
    {
     "data": {
      "text/html": [
       "<div>\n",
       "<style scoped>\n",
       "    .dataframe tbody tr th:only-of-type {\n",
       "        vertical-align: middle;\n",
       "    }\n",
       "\n",
       "    .dataframe tbody tr th {\n",
       "        vertical-align: top;\n",
       "    }\n",
       "\n",
       "    .dataframe thead th {\n",
       "        text-align: right;\n",
       "    }\n",
       "</style>\n",
       "<table border=\"1\" class=\"dataframe\">\n",
       "  <thead>\n",
       "    <tr style=\"text-align: right;\">\n",
       "      <th></th>\n",
       "      <th>outlet_number</th>\n",
       "      <th>GUNDUZ_NUFUS</th>\n",
       "      <th>GECE_NUFUS</th>\n",
       "      <th>ZENGINLIK_INDEKSI</th>\n",
       "      <th>SEHIRLESME_INDEKSI</th>\n",
       "      <th>YAYA_TRAFIGI</th>\n",
       "      <th>AYLIK_HARCAMA</th>\n",
       "      <th>GIDAVEICECEK</th>\n",
       "      <th>ALKOLTUTUN</th>\n",
       "      <th>EGLENCEKULTUR</th>\n",
       "      <th>...</th>\n",
       "      <th>DAMLA_MINERA</th>\n",
       "      <th>DAMLA_WATER</th>\n",
       "      <th>EXOTIC</th>\n",
       "      <th>FANTA</th>\n",
       "      <th>FUSETEA</th>\n",
       "      <th>MONSTER</th>\n",
       "      <th>POWERADE</th>\n",
       "      <th>SCHWEPPES</th>\n",
       "      <th>SPRITE</th>\n",
       "      <th>hrc_preds</th>\n",
       "    </tr>\n",
       "  </thead>\n",
       "  <tbody>\n",
       "    <tr>\n",
       "      <th>count</th>\n",
       "      <td>2.059000e+03</td>\n",
       "      <td>2059.000000</td>\n",
       "      <td>2059.000000</td>\n",
       "      <td>2059.000000</td>\n",
       "      <td>2059.000000</td>\n",
       "      <td>2059.000000</td>\n",
       "      <td>2059.000000</td>\n",
       "      <td>2059.000000</td>\n",
       "      <td>2059.000000</td>\n",
       "      <td>2059.000000</td>\n",
       "      <td>...</td>\n",
       "      <td>2059.000000</td>\n",
       "      <td>2059.000000</td>\n",
       "      <td>2059.0</td>\n",
       "      <td>2059.000000</td>\n",
       "      <td>2059.000000</td>\n",
       "      <td>2059.000000</td>\n",
       "      <td>2059.000000</td>\n",
       "      <td>2059.000000</td>\n",
       "      <td>2059.000000</td>\n",
       "      <td>2059.0</td>\n",
       "    </tr>\n",
       "    <tr>\n",
       "      <th>mean</th>\n",
       "      <td>9.065971e+06</td>\n",
       "      <td>7752.996600</td>\n",
       "      <td>9653.596892</td>\n",
       "      <td>1.637253</td>\n",
       "      <td>6.203778</td>\n",
       "      <td>7.256570</td>\n",
       "      <td>3516.737737</td>\n",
       "      <td>844.172092</td>\n",
       "      <td>156.789733</td>\n",
       "      <td>89.117867</td>\n",
       "      <td>...</td>\n",
       "      <td>11.412707</td>\n",
       "      <td>63.754672</td>\n",
       "      <td>0.0</td>\n",
       "      <td>164.914224</td>\n",
       "      <td>39.367316</td>\n",
       "      <td>0.714613</td>\n",
       "      <td>1.538015</td>\n",
       "      <td>3.332317</td>\n",
       "      <td>48.894307</td>\n",
       "      <td>1.0</td>\n",
       "    </tr>\n",
       "    <tr>\n",
       "      <th>std</th>\n",
       "      <td>1.348341e+06</td>\n",
       "      <td>10359.478963</td>\n",
       "      <td>8655.623961</td>\n",
       "      <td>0.859909</td>\n",
       "      <td>2.809575</td>\n",
       "      <td>1.361763</td>\n",
       "      <td>1568.254950</td>\n",
       "      <td>322.995100</td>\n",
       "      <td>65.293818</td>\n",
       "      <td>46.920128</td>\n",
       "      <td>...</td>\n",
       "      <td>30.982583</td>\n",
       "      <td>176.150263</td>\n",
       "      <td>0.0</td>\n",
       "      <td>443.521537</td>\n",
       "      <td>123.383577</td>\n",
       "      <td>8.366658</td>\n",
       "      <td>8.985893</td>\n",
       "      <td>14.897576</td>\n",
       "      <td>299.166041</td>\n",
       "      <td>0.0</td>\n",
       "    </tr>\n",
       "    <tr>\n",
       "      <th>min</th>\n",
       "      <td>2.701600e+05</td>\n",
       "      <td>61.000000</td>\n",
       "      <td>119.000000</td>\n",
       "      <td>0.002223</td>\n",
       "      <td>1.000000</td>\n",
       "      <td>1.000000</td>\n",
       "      <td>1073.000000</td>\n",
       "      <td>306.090000</td>\n",
       "      <td>53.650000</td>\n",
       "      <td>16.095000</td>\n",
       "      <td>...</td>\n",
       "      <td>0.000000</td>\n",
       "      <td>0.000000</td>\n",
       "      <td>0.0</td>\n",
       "      <td>0.000000</td>\n",
       "      <td>0.000000</td>\n",
       "      <td>0.000000</td>\n",
       "      <td>0.000000</td>\n",
       "      <td>0.000000</td>\n",
       "      <td>0.000000</td>\n",
       "      <td>1.0</td>\n",
       "    </tr>\n",
       "    <tr>\n",
       "      <th>25%</th>\n",
       "      <td>9.125390e+06</td>\n",
       "      <td>1555.000000</td>\n",
       "      <td>3386.000000</td>\n",
       "      <td>1.072000</td>\n",
       "      <td>4.001464</td>\n",
       "      <td>6.993875</td>\n",
       "      <td>2440.000000</td>\n",
       "      <td>629.520000</td>\n",
       "      <td>114.680000</td>\n",
       "      <td>58.560000</td>\n",
       "      <td>...</td>\n",
       "      <td>0.000000</td>\n",
       "      <td>0.000000</td>\n",
       "      <td>0.0</td>\n",
       "      <td>48.281000</td>\n",
       "      <td>2.810000</td>\n",
       "      <td>0.000000</td>\n",
       "      <td>0.000000</td>\n",
       "      <td>0.000000</td>\n",
       "      <td>10.482000</td>\n",
       "      <td>1.0</td>\n",
       "    </tr>\n",
       "    <tr>\n",
       "      <th>50%</th>\n",
       "      <td>9.496550e+06</td>\n",
       "      <td>3931.000000</td>\n",
       "      <td>6817.000000</td>\n",
       "      <td>1.649000</td>\n",
       "      <td>6.995945</td>\n",
       "      <td>7.057194</td>\n",
       "      <td>3559.000000</td>\n",
       "      <td>854.160000</td>\n",
       "      <td>153.784000</td>\n",
       "      <td>85.944000</td>\n",
       "      <td>...</td>\n",
       "      <td>2.535000</td>\n",
       "      <td>6.339000</td>\n",
       "      <td>0.0</td>\n",
       "      <td>90.918000</td>\n",
       "      <td>14.874000</td>\n",
       "      <td>0.000000</td>\n",
       "      <td>0.000000</td>\n",
       "      <td>0.000000</td>\n",
       "      <td>25.995000</td>\n",
       "      <td>1.0</td>\n",
       "    </tr>\n",
       "    <tr>\n",
       "      <th>75%</th>\n",
       "      <td>9.617894e+06</td>\n",
       "      <td>9170.000000</td>\n",
       "      <td>12198.000000</td>\n",
       "      <td>2.182500</td>\n",
       "      <td>8.069751</td>\n",
       "      <td>7.999836</td>\n",
       "      <td>4547.000000</td>\n",
       "      <td>1087.800000</td>\n",
       "      <td>195.564000</td>\n",
       "      <td>113.700000</td>\n",
       "      <td>...</td>\n",
       "      <td>10.985000</td>\n",
       "      <td>42.260000</td>\n",
       "      <td>0.0</td>\n",
       "      <td>163.515500</td>\n",
       "      <td>40.302500</td>\n",
       "      <td>0.000000</td>\n",
       "      <td>1.057000</td>\n",
       "      <td>2.113000</td>\n",
       "      <td>48.426500</td>\n",
       "      <td>1.0</td>\n",
       "    </tr>\n",
       "    <tr>\n",
       "      <th>max</th>\n",
       "      <td>1.074090e+07</td>\n",
       "      <td>53650.000000</td>\n",
       "      <td>35371.000000</td>\n",
       "      <td>5.155000</td>\n",
       "      <td>9.999926</td>\n",
       "      <td>9.883840</td>\n",
       "      <td>9643.000000</td>\n",
       "      <td>1851.910000</td>\n",
       "      <td>373.780000</td>\n",
       "      <td>318.219000</td>\n",
       "      <td>...</td>\n",
       "      <td>583.050000</td>\n",
       "      <td>2449.704000</td>\n",
       "      <td>0.0</td>\n",
       "      <td>14855.548000</td>\n",
       "      <td>3763.203000</td>\n",
       "      <td>354.750000</td>\n",
       "      <td>343.525000</td>\n",
       "      <td>321.628000</td>\n",
       "      <td>13089.983000</td>\n",
       "      <td>1.0</td>\n",
       "    </tr>\n",
       "  </tbody>\n",
       "</table>\n",
       "<p>8 rows × 63 columns</p>\n",
       "</div>"
      ],
      "text/plain": [
       "       outlet_number  GUNDUZ_NUFUS    GECE_NUFUS  ZENGINLIK_INDEKSI  \\\n",
       "count   2.059000e+03   2059.000000   2059.000000        2059.000000   \n",
       "mean    9.065971e+06   7752.996600   9653.596892           1.637253   \n",
       "std     1.348341e+06  10359.478963   8655.623961           0.859909   \n",
       "min     2.701600e+05     61.000000    119.000000           0.002223   \n",
       "25%     9.125390e+06   1555.000000   3386.000000           1.072000   \n",
       "50%     9.496550e+06   3931.000000   6817.000000           1.649000   \n",
       "75%     9.617894e+06   9170.000000  12198.000000           2.182500   \n",
       "max     1.074090e+07  53650.000000  35371.000000           5.155000   \n",
       "\n",
       "       SEHIRLESME_INDEKSI  YAYA_TRAFIGI  AYLIK_HARCAMA  GIDAVEICECEK  \\\n",
       "count         2059.000000   2059.000000    2059.000000   2059.000000   \n",
       "mean             6.203778      7.256570    3516.737737    844.172092   \n",
       "std              2.809575      1.361763    1568.254950    322.995100   \n",
       "min              1.000000      1.000000    1073.000000    306.090000   \n",
       "25%              4.001464      6.993875    2440.000000    629.520000   \n",
       "50%              6.995945      7.057194    3559.000000    854.160000   \n",
       "75%              8.069751      7.999836    4547.000000   1087.800000   \n",
       "max              9.999926      9.883840    9643.000000   1851.910000   \n",
       "\n",
       "        ALKOLTUTUN  EGLENCEKULTUR  ...  DAMLA_MINERA  DAMLA_WATER  EXOTIC  \\\n",
       "count  2059.000000    2059.000000  ...   2059.000000  2059.000000  2059.0   \n",
       "mean    156.789733      89.117867  ...     11.412707    63.754672     0.0   \n",
       "std      65.293818      46.920128  ...     30.982583   176.150263     0.0   \n",
       "min      53.650000      16.095000  ...      0.000000     0.000000     0.0   \n",
       "25%     114.680000      58.560000  ...      0.000000     0.000000     0.0   \n",
       "50%     153.784000      85.944000  ...      2.535000     6.339000     0.0   \n",
       "75%     195.564000     113.700000  ...     10.985000    42.260000     0.0   \n",
       "max     373.780000     318.219000  ...    583.050000  2449.704000     0.0   \n",
       "\n",
       "              FANTA      FUSETEA      MONSTER     POWERADE    SCHWEPPES  \\\n",
       "count   2059.000000  2059.000000  2059.000000  2059.000000  2059.000000   \n",
       "mean     164.914224    39.367316     0.714613     1.538015     3.332317   \n",
       "std      443.521537   123.383577     8.366658     8.985893    14.897576   \n",
       "min        0.000000     0.000000     0.000000     0.000000     0.000000   \n",
       "25%       48.281000     2.810000     0.000000     0.000000     0.000000   \n",
       "50%       90.918000    14.874000     0.000000     0.000000     0.000000   \n",
       "75%      163.515500    40.302500     0.000000     1.057000     2.113000   \n",
       "max    14855.548000  3763.203000   354.750000   343.525000   321.628000   \n",
       "\n",
       "             SPRITE  hrc_preds  \n",
       "count   2059.000000     2059.0  \n",
       "mean      48.894307        1.0  \n",
       "std      299.166041        0.0  \n",
       "min        0.000000        1.0  \n",
       "25%       10.482000        1.0  \n",
       "50%       25.995000        1.0  \n",
       "75%       48.426500        1.0  \n",
       "max    13089.983000        1.0  \n",
       "\n",
       "[8 rows x 63 columns]"
      ]
     },
     "execution_count": 73,
     "metadata": {},
     "output_type": "execute_result"
    }
   ],
   "source": [
    "final_high.describe()"
   ]
  },
  {
   "cell_type": "code",
   "execution_count": 74,
   "metadata": {},
   "outputs": [
    {
     "data": {
      "text/html": [
       "<div>\n",
       "<style scoped>\n",
       "    .dataframe tbody tr th:only-of-type {\n",
       "        vertical-align: middle;\n",
       "    }\n",
       "\n",
       "    .dataframe tbody tr th {\n",
       "        vertical-align: top;\n",
       "    }\n",
       "\n",
       "    .dataframe thead th {\n",
       "        text-align: right;\n",
       "    }\n",
       "</style>\n",
       "<table border=\"1\" class=\"dataframe\">\n",
       "  <thead>\n",
       "    <tr style=\"text-align: right;\">\n",
       "      <th></th>\n",
       "      <th>outlet_number</th>\n",
       "      <th>GUNDUZ_NUFUS</th>\n",
       "      <th>GECE_NUFUS</th>\n",
       "      <th>ZENGINLIK_INDEKSI</th>\n",
       "      <th>SEHIRLESME_INDEKSI</th>\n",
       "      <th>YAYA_TRAFIGI</th>\n",
       "      <th>AYLIK_HARCAMA</th>\n",
       "      <th>GIDAVEICECEK</th>\n",
       "      <th>ALKOLTUTUN</th>\n",
       "      <th>EGLENCEKULTUR</th>\n",
       "      <th>...</th>\n",
       "      <th>DAMLA_MINERA</th>\n",
       "      <th>DAMLA_WATER</th>\n",
       "      <th>EXOTIC</th>\n",
       "      <th>FANTA</th>\n",
       "      <th>FUSETEA</th>\n",
       "      <th>MONSTER</th>\n",
       "      <th>POWERADE</th>\n",
       "      <th>SCHWEPPES</th>\n",
       "      <th>SPRITE</th>\n",
       "      <th>hrc_preds</th>\n",
       "    </tr>\n",
       "  </thead>\n",
       "  <tbody>\n",
       "    <tr>\n",
       "      <th>count</th>\n",
       "      <td>1.173000e+03</td>\n",
       "      <td>1173.000000</td>\n",
       "      <td>1173.000000</td>\n",
       "      <td>1173.000000</td>\n",
       "      <td>1173.000000</td>\n",
       "      <td>1173.000000</td>\n",
       "      <td>1173.000000</td>\n",
       "      <td>1173.000000</td>\n",
       "      <td>1173.000000</td>\n",
       "      <td>1173.000000</td>\n",
       "      <td>...</td>\n",
       "      <td>1173.000000</td>\n",
       "      <td>1173.000000</td>\n",
       "      <td>1173.0</td>\n",
       "      <td>1173.000000</td>\n",
       "      <td>1173.000000</td>\n",
       "      <td>1173.000000</td>\n",
       "      <td>1173.000000</td>\n",
       "      <td>1173.000000</td>\n",
       "      <td>1173.000000</td>\n",
       "      <td>1173.0</td>\n",
       "    </tr>\n",
       "    <tr>\n",
       "      <th>mean</th>\n",
       "      <td>8.991439e+06</td>\n",
       "      <td>12485.376812</td>\n",
       "      <td>9364.934356</td>\n",
       "      <td>2.296388</td>\n",
       "      <td>8.081033</td>\n",
       "      <td>8.105920</td>\n",
       "      <td>4648.433930</td>\n",
       "      <td>939.867050</td>\n",
       "      <td>179.516462</td>\n",
       "      <td>110.326852</td>\n",
       "      <td>...</td>\n",
       "      <td>10.164790</td>\n",
       "      <td>80.514159</td>\n",
       "      <td>0.0</td>\n",
       "      <td>146.691479</td>\n",
       "      <td>43.698815</td>\n",
       "      <td>0.700146</td>\n",
       "      <td>1.552610</td>\n",
       "      <td>4.332951</td>\n",
       "      <td>41.216508</td>\n",
       "      <td>0.0</td>\n",
       "    </tr>\n",
       "    <tr>\n",
       "      <th>std</th>\n",
       "      <td>1.470574e+06</td>\n",
       "      <td>11348.696447</td>\n",
       "      <td>8615.085840</td>\n",
       "      <td>1.022432</td>\n",
       "      <td>1.739833</td>\n",
       "      <td>1.184655</td>\n",
       "      <td>1804.731796</td>\n",
       "      <td>471.281306</td>\n",
       "      <td>96.058919</td>\n",
       "      <td>69.823619</td>\n",
       "      <td>...</td>\n",
       "      <td>23.840378</td>\n",
       "      <td>212.077278</td>\n",
       "      <td>0.0</td>\n",
       "      <td>354.850017</td>\n",
       "      <td>88.110562</td>\n",
       "      <td>3.245067</td>\n",
       "      <td>4.005481</td>\n",
       "      <td>10.984382</td>\n",
       "      <td>89.083670</td>\n",
       "      <td>0.0</td>\n",
       "    </tr>\n",
       "    <tr>\n",
       "      <th>min</th>\n",
       "      <td>2.711640e+05</td>\n",
       "      <td>0.000000</td>\n",
       "      <td>162.000000</td>\n",
       "      <td>0.082498</td>\n",
       "      <td>1.000000</td>\n",
       "      <td>2.001173</td>\n",
       "      <td>903.000000</td>\n",
       "      <td>0.000000</td>\n",
       "      <td>0.000000</td>\n",
       "      <td>0.000000</td>\n",
       "      <td>...</td>\n",
       "      <td>0.000000</td>\n",
       "      <td>0.000000</td>\n",
       "      <td>0.0</td>\n",
       "      <td>-0.966000</td>\n",
       "      <td>-43.638000</td>\n",
       "      <td>0.000000</td>\n",
       "      <td>0.000000</td>\n",
       "      <td>0.000000</td>\n",
       "      <td>0.000000</td>\n",
       "      <td>0.0</td>\n",
       "    </tr>\n",
       "    <tr>\n",
       "      <th>25%</th>\n",
       "      <td>9.085528e+06</td>\n",
       "      <td>3560.000000</td>\n",
       "      <td>3455.000000</td>\n",
       "      <td>1.531000</td>\n",
       "      <td>6.999611</td>\n",
       "      <td>7.700971</td>\n",
       "      <td>3334.000000</td>\n",
       "      <td>678.384000</td>\n",
       "      <td>126.524000</td>\n",
       "      <td>65.928000</td>\n",
       "      <td>...</td>\n",
       "      <td>0.000000</td>\n",
       "      <td>0.000000</td>\n",
       "      <td>0.0</td>\n",
       "      <td>35.061000</td>\n",
       "      <td>4.182000</td>\n",
       "      <td>0.000000</td>\n",
       "      <td>0.000000</td>\n",
       "      <td>0.000000</td>\n",
       "      <td>8.771000</td>\n",
       "      <td>0.0</td>\n",
       "    </tr>\n",
       "    <tr>\n",
       "      <th>50%</th>\n",
       "      <td>9.446257e+06</td>\n",
       "      <td>8695.000000</td>\n",
       "      <td>7058.000000</td>\n",
       "      <td>2.133000</td>\n",
       "      <td>8.794371</td>\n",
       "      <td>7.998542</td>\n",
       "      <td>4454.000000</td>\n",
       "      <td>1038.960000</td>\n",
       "      <td>186.147000</td>\n",
       "      <td>108.225000</td>\n",
       "      <td>...</td>\n",
       "      <td>1.690000</td>\n",
       "      <td>10.565000</td>\n",
       "      <td>0.0</td>\n",
       "      <td>73.121000</td>\n",
       "      <td>18.170000</td>\n",
       "      <td>0.000000</td>\n",
       "      <td>0.000000</td>\n",
       "      <td>0.000000</td>\n",
       "      <td>23.734000</td>\n",
       "      <td>0.0</td>\n",
       "    </tr>\n",
       "    <tr>\n",
       "      <th>75%</th>\n",
       "      <td>9.608386e+06</td>\n",
       "      <td>19040.000000</td>\n",
       "      <td>11697.000000</td>\n",
       "      <td>2.922000</td>\n",
       "      <td>9.069918</td>\n",
       "      <td>8.999761</td>\n",
       "      <td>5774.000000</td>\n",
       "      <td>1278.450000</td>\n",
       "      <td>254.056000</td>\n",
       "      <td>160.048000</td>\n",
       "      <td>...</td>\n",
       "      <td>10.985000</td>\n",
       "      <td>61.279000</td>\n",
       "      <td>0.0</td>\n",
       "      <td>141.302000</td>\n",
       "      <td>47.334000</td>\n",
       "      <td>0.000000</td>\n",
       "      <td>1.057000</td>\n",
       "      <td>3.804000</td>\n",
       "      <td>44.526000</td>\n",
       "      <td>0.0</td>\n",
       "    </tr>\n",
       "    <tr>\n",
       "      <th>max</th>\n",
       "      <td>2.000507e+07</td>\n",
       "      <td>53650.000000</td>\n",
       "      <td>35371.000000</td>\n",
       "      <td>4.839000</td>\n",
       "      <td>9.999926</td>\n",
       "      <td>9.983254</td>\n",
       "      <td>9123.000000</td>\n",
       "      <td>1851.910000</td>\n",
       "      <td>373.780000</td>\n",
       "      <td>301.059000</td>\n",
       "      <td>...</td>\n",
       "      <td>494.325000</td>\n",
       "      <td>2983.578000</td>\n",
       "      <td>0.0</td>\n",
       "      <td>7179.575000</td>\n",
       "      <td>1234.110000</td>\n",
       "      <td>84.824000</td>\n",
       "      <td>63.420000</td>\n",
       "      <td>156.404000</td>\n",
       "      <td>1781.453000</td>\n",
       "      <td>0.0</td>\n",
       "    </tr>\n",
       "  </tbody>\n",
       "</table>\n",
       "<p>8 rows × 63 columns</p>\n",
       "</div>"
      ],
      "text/plain": [
       "       outlet_number  GUNDUZ_NUFUS    GECE_NUFUS  ZENGINLIK_INDEKSI  \\\n",
       "count   1.173000e+03   1173.000000   1173.000000        1173.000000   \n",
       "mean    8.991439e+06  12485.376812   9364.934356           2.296388   \n",
       "std     1.470574e+06  11348.696447   8615.085840           1.022432   \n",
       "min     2.711640e+05      0.000000    162.000000           0.082498   \n",
       "25%     9.085528e+06   3560.000000   3455.000000           1.531000   \n",
       "50%     9.446257e+06   8695.000000   7058.000000           2.133000   \n",
       "75%     9.608386e+06  19040.000000  11697.000000           2.922000   \n",
       "max     2.000507e+07  53650.000000  35371.000000           4.839000   \n",
       "\n",
       "       SEHIRLESME_INDEKSI  YAYA_TRAFIGI  AYLIK_HARCAMA  GIDAVEICECEK  \\\n",
       "count         1173.000000   1173.000000    1173.000000   1173.000000   \n",
       "mean             8.081033      8.105920    4648.433930    939.867050   \n",
       "std              1.739833      1.184655    1804.731796    471.281306   \n",
       "min              1.000000      2.001173     903.000000      0.000000   \n",
       "25%              6.999611      7.700971    3334.000000    678.384000   \n",
       "50%              8.794371      7.998542    4454.000000   1038.960000   \n",
       "75%              9.069918      8.999761    5774.000000   1278.450000   \n",
       "max              9.999926      9.983254    9123.000000   1851.910000   \n",
       "\n",
       "        ALKOLTUTUN  EGLENCEKULTUR  ...  DAMLA_MINERA  DAMLA_WATER  EXOTIC  \\\n",
       "count  1173.000000    1173.000000  ...   1173.000000  1173.000000  1173.0   \n",
       "mean    179.516462     110.326852  ...     10.164790    80.514159     0.0   \n",
       "std      96.058919      69.823619  ...     23.840378   212.077278     0.0   \n",
       "min       0.000000       0.000000  ...      0.000000     0.000000     0.0   \n",
       "25%     126.524000      65.928000  ...      0.000000     0.000000     0.0   \n",
       "50%     186.147000     108.225000  ...      1.690000    10.565000     0.0   \n",
       "75%     254.056000     160.048000  ...     10.985000    61.279000     0.0   \n",
       "max     373.780000     301.059000  ...    494.325000  2983.578000     0.0   \n",
       "\n",
       "             FANTA      FUSETEA      MONSTER     POWERADE    SCHWEPPES  \\\n",
       "count  1173.000000  1173.000000  1173.000000  1173.000000  1173.000000   \n",
       "mean    146.691479    43.698815     0.700146     1.552610     4.332951   \n",
       "std     354.850017    88.110562     3.245067     4.005481    10.984382   \n",
       "min      -0.966000   -43.638000     0.000000     0.000000     0.000000   \n",
       "25%      35.061000     4.182000     0.000000     0.000000     0.000000   \n",
       "50%      73.121000    18.170000     0.000000     0.000000     0.000000   \n",
       "75%     141.302000    47.334000     0.000000     1.057000     3.804000   \n",
       "max    7179.575000  1234.110000    84.824000    63.420000   156.404000   \n",
       "\n",
       "            SPRITE  hrc_preds  \n",
       "count  1173.000000     1173.0  \n",
       "mean     41.216508        0.0  \n",
       "std      89.083670        0.0  \n",
       "min       0.000000        0.0  \n",
       "25%       8.771000        0.0  \n",
       "50%      23.734000        0.0  \n",
       "75%      44.526000        0.0  \n",
       "max    1781.453000        0.0  \n",
       "\n",
       "[8 rows x 63 columns]"
      ]
     },
     "execution_count": 74,
     "metadata": {},
     "output_type": "execute_result"
    }
   ],
   "source": [
    "final_low.describe()"
   ]
  },
  {
   "cell_type": "markdown",
   "metadata": {},
   "source": [
    "#### High Traffic"
   ]
  },
  {
   "cell_type": "code",
   "execution_count": null,
   "metadata": {
    "jupyter": {
     "source_hidden": true
    }
   },
   "outputs": [],
   "source": [
    "print(\"High Traffic çıkan toplam outlet sayısı : \", final_high.outlet_number.nunique(), \"\\n\")\n",
    "\n",
    "print(\"High Traffic'in ortalama aylık harcaması: \", final_high['AYLIK_HARCAMA'].mean(), \"\\n\") \n",
    "\n",
    "print(\"High Traffic'in ortalama yaya trafiği: \", final_high['YAYA_TRAFIGI'].mean(), \"\\n\") \n",
    "\n",
    "print(\"High Traffic'in A,B,C1 kategorisindeki toplam outlet sayısı oranı: \", \"%\",final_high.query(\"SES == 'A' or SES == 'B' or SES == 'C1'\").outlet_number.nunique()/len(final_high.SES) * 100  , \"\\n\")\n",
    "\n",
    "print(\"High Traffic'in ortalama Gündüz Nufusu sayısı: \", final_high.GUNDUZ_NUFUS.mean(), \"\\n\")\n",
    "\n",
    "print(\"High Traffic'in ortalama Gece Nufusu sayısı: \", final_high.GECE_NUFUS.mean(), \"\\n\")\n",
    "\n",
    "print(\"High Traffic'in ortalama Eğitim birimi sayısı: \", final_high.EGITIM.mean())\n",
    "print(\"High Traffic'in minimum Eğitim birimi sayısı: \", final_high.EGITIM.min())\n",
    "print(\"High Traffic'in maximum Eğitim birimi sayısı: \", final_high.EGITIM.max(), \"\\n\")\n",
    "\n",
    "print(\"High Traffic'in ortalama Modern Retail birimi sayısı: \", final_high.MODERN_RETAIL.mean(), \"\\n\")\n",
    "\n",
    "print(\"High Traffic'in ortalama Spor birimi sayısı: \", final_high.SPOR.mean(), \"\\n\")"
   ]
  },
  {
   "cell_type": "markdown",
   "metadata": {},
   "source": [
    "<br>"
   ]
  },
  {
   "cell_type": "markdown",
   "metadata": {},
   "source": [
    "#### Non-high Traffic"
   ]
  },
  {
   "cell_type": "code",
   "execution_count": null,
   "metadata": {
    "jupyter": {
     "source_hidden": true
    }
   },
   "outputs": [],
   "source": [
    "print(\"Non-high Traffic çıkan toplam outlet sayısı : \", final_low.outlet_number.nunique(), \"\\n\")\n",
    "\n",
    "print(\"Non-high Traffic'in ortalama aylık harcaması: \", final_low['AYLIK_HARCAMA'].mean(), \"\\n\") \n",
    "\n",
    "print(\"Non-high Traffic'in ortalama yaya trafiği: \", final_low['YAYA_TRAFIGI'].mean(), \"\\n\") \n",
    "\n",
    "print(\"Non-high Traffic'in A,B,C1 kategorisindeki toplam outlet sayısı oranı: \", \"%\", final_low.query(\"SES == 'A' or SES == 'B' or SES == 'C1'\").outlet_number.nunique()/len(final_low.SES) * 100  , \"\\n\")\n",
    "\n",
    "print(\"Non-high Traffic'in ortalama Gündüz Nufusu sayısı: \", final_low.GUNDUZ_NUFUS.mean(), \"\\n\")\n",
    "\n",
    "print(\"Non-high Traffic'in ortalama Gece Nufusu sayısı: \", final_low.GECE_NUFUS.mean(), \"\\n\")\n",
    "\n",
    "print(\"Non-high'in ortalama Eğitim birimi sayısı: \", final_low.EGITIM.mean())\n",
    "print(\"Non-high'in minimum Eğitim birimi sayısı: \", final_low.EGITIM.min())\n",
    "print(\"Non-high'in maximum Eğitim birimi sayısı: \", final_low.EGITIM.max(), \"\\n\")\n",
    "\n",
    "print(\"Non-high'in ortalama Modern Retail birimi sayısı: \", final_low.MODERN_RETAIL.mean(), \"\\n\")\n",
    "\n",
    "print(\"Non-high'in ortalama Spor birimi sayısı: \", final_low.SPOR.mean(), \"\\n\")"
   ]
  },
  {
   "cell_type": "markdown",
   "metadata": {},
   "source": [
    "### Graph"
   ]
  },
  {
   "cell_type": "code",
   "execution_count": null,
   "metadata": {},
   "outputs": [],
   "source": [
    "column_names = [\"BURN\"\n",
    ",\"CAPPY\"                            \n",
    ",\"CC_LIGHT\"                         \n",
    ",\"CC_NO_SUGER\"                      \n",
    ",\"COCACOLA\"                         \n",
    ",\"COCACOLA_ENERGY\"                  \n",
    ",\"DAMLA_MINERA\"                     \n",
    ",\"DAMLA_WATER\"                      \n",
    ",\"EXOTIC\"                           \n",
    ",\"FANTA\"                            \n",
    ",\"FUSETEA\"                          \n",
    ",\"MONSTER\"                          \n",
    ",\"POWERADE\"                         \n",
    ",\"SCHWEPPES\"]                      "
   ]
  },
  {
   "cell_type": "code",
   "execution_count": null,
   "metadata": {},
   "outputs": [],
   "source": [
    "final_high_brands = final_high[column_names].reset_index(drop=True)"
   ]
  },
  {
   "cell_type": "code",
   "execution_count": null,
   "metadata": {},
   "outputs": [],
   "source": [
    "high_brands_sum = pd.DataFrame(final_high_brands.sum()).reset_index()"
   ]
  },
  {
   "cell_type": "code",
   "execution_count": null,
   "metadata": {},
   "outputs": [],
   "source": [
    "high_brands_sum.rename({\"index\": \"brand\", 0: \"values\",} ,axis=1,inplace=True)"
   ]
  },
  {
   "cell_type": "code",
   "execution_count": null,
   "metadata": {},
   "outputs": [],
   "source": [
    "high_brands_sum"
   ]
  },
  {
   "cell_type": "code",
   "execution_count": null,
   "metadata": {},
   "outputs": [],
   "source": [
    "fig = px.pie(high_brands_sum, values='values', names=\"brand\", title='Brand Dist. in High Traffic Cluster')\n",
    "fig.show()"
   ]
  },
  {
   "cell_type": "code",
   "execution_count": null,
   "metadata": {},
   "outputs": [],
   "source": [
    "final_high.groupby('SES')['outlet_number'].sum().sort_values()"
   ]
  },
  {
   "cell_type": "code",
   "execution_count": null,
   "metadata": {},
   "outputs": [],
   "source": [
    "non_high_brands = final_low[column_names].reset_index(drop=True)"
   ]
  },
  {
   "cell_type": "code",
   "execution_count": null,
   "metadata": {},
   "outputs": [],
   "source": [
    "non_brands_sum = pd.DataFrame(non_high_brands.sum()).reset_index()"
   ]
  },
  {
   "cell_type": "code",
   "execution_count": null,
   "metadata": {},
   "outputs": [],
   "source": [
    "non_brands_sum.rename({\"index\": \"brand\", 0: \"values\",} ,axis=1,inplace=True)"
   ]
  },
  {
   "cell_type": "code",
   "execution_count": null,
   "metadata": {},
   "outputs": [],
   "source": [
    "non_brands_sum.query(\"brand == 'CC_LIGHT'\")"
   ]
  },
  {
   "cell_type": "code",
   "execution_count": null,
   "metadata": {},
   "outputs": [],
   "source": [
    "fig = px.pie(non_brands_sum, values='values', names=\"brand\", title='Brand Dist. in Non-high Traffic Cluster')\n",
    "fig.show()"
   ]
  },
  {
   "cell_type": "code",
   "execution_count": null,
   "metadata": {},
   "outputs": [],
   "source": [
    "final_low.groupby('SES')['outlet_number'].sum().sort_values()"
   ]
  },
  {
   "cell_type": "code",
   "execution_count": null,
   "metadata": {},
   "outputs": [],
   "source": [
    "stophere"
   ]
  },
  {
   "cell_type": "markdown",
   "metadata": {},
   "source": [
    "#### Save as CSV"
   ]
  },
  {
   "cell_type": "code",
   "execution_count": null,
   "metadata": {},
   "outputs": [],
   "source": [
    "csv_df = final_df.copy()"
   ]
  },
  {
   "cell_type": "code",
   "execution_count": null,
   "metadata": {},
   "outputs": [],
   "source": [
    "csv_df = csv_df.rename({\"hrc_preds\": \"high_traffic\"}, axis=1)"
   ]
  },
  {
   "cell_type": "code",
   "execution_count": null,
   "metadata": {},
   "outputs": [],
   "source": [
    "csv_df.head(2)"
   ]
  },
  {
   "cell_type": "code",
   "execution_count": null,
   "metadata": {},
   "outputs": [],
   "source": [
    "csv_df.to_csv(\"hatay_high_traffic.csv\")"
   ]
  },
  {
   "cell_type": "markdown",
   "metadata": {},
   "source": [
    "----"
   ]
  },
  {
   "cell_type": "code",
   "execution_count": 75,
   "metadata": {},
   "outputs": [
    {
     "name": "stdout",
     "output_type": "stream",
     "text": [
      "Loaded 3232 rows and 74 columns to coca-cola-data-lake.predictive_order.high_traffic_clusters_hatay\n"
     ]
    }
   ],
   "source": [
    "# bigquery'e tabloyu ekleme\n",
    "# Database Connection\n",
    "from google.cloud import bigquery, bigquery_storage_v1beta1\n",
    "\n",
    "client = bigquery.Client()\n",
    "\n",
    "table_id = \"coca-cola-data-lake.predictive_order.high_traffic_clusters_hatay\" \n",
    "\n",
    "job_config = bigquery.LoadJobConfig(\n",
    "    schema=[\n",
    "        bigquery.SchemaField(\"outlet_name\", bigquery.enums.SqlTypeNames.STRING),\n",
    "    ],  write_disposition=\"WRITE_TRUNCATE\"\n",
    ")\n",
    "\n",
    "job = client.load_table_from_dataframe(final_df, table_id, job_config=job_config)  \n",
    "job.result()  \n",
    "\n",
    "table = client.get_table(table_id)  \n",
    "print(\"Loaded {} rows and {} columns to {}\".format(table.num_rows, len(table.schema), table_id))"
   ]
  },
  {
   "cell_type": "code",
   "execution_count": null,
   "metadata": {},
   "outputs": [],
   "source": []
  }
 ],
 "metadata": {
  "environment": {
   "name": "tf2-gpu.2-1.m46",
   "type": "gcloud",
   "uri": "gcr.io/deeplearning-platform-release/tf2-gpu.2-1:m46"
  },
  "kernelspec": {
   "display_name": "Python 3",
   "language": "python",
   "name": "python3"
  },
  "language_info": {
   "codemirror_mode": {
    "name": "ipython",
    "version": 3
   },
   "file_extension": ".py",
   "mimetype": "text/x-python",
   "name": "python",
   "nbconvert_exporter": "python",
   "pygments_lexer": "ipython3",
   "version": "3.7.6"
  }
 },
 "nbformat": 4,
 "nbformat_minor": 4
}
