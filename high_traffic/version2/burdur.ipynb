{
 "cells": [
  {
   "cell_type": "markdown",
   "metadata": {},
   "source": [
    "<h1><center>High Traffic Clustering</center></h1>"
   ]
  },
  {
   "cell_type": "markdown",
   "metadata": {},
   "source": [
    "Bu notebook, high ve non-high trafik noktalarının belirlenmesi için **Türkiye genelinde** Traditional channel'da 2'li hierarchical clustering çalışmasıdır."
   ]
  },
  {
   "cell_type": "code",
   "execution_count": 1,
   "metadata": {},
   "outputs": [],
   "source": [
    "# Database Connection\n",
    "from google.cloud import bigquery, bigquery_storage_v1beta1\n",
    "\n",
    "# Basic\n",
    "import os\n",
    "import numpy as np\n",
    "import pandas as pd\n",
    "import datetime\n",
    "from datetime import datetime\n",
    "import datetime as dt\n",
    "\n",
    "# visualization\n",
    "import matplotlib.pyplot as plt\n",
    "import seaborn as sns\n",
    "import plotly.express as px\n",
    "\n",
    "# Model\n",
    "import pickle\n",
    "import sklearn\n",
    "from sklearn import preprocessing\n",
    "from sklearn import model_selection\n",
    "from sklearn.preprocessing import MinMaxScaler\n",
    "from sklearn import svm\n",
    "from sklearn.svm import SVC\n",
    "from scipy.special import boxcox1p\n",
    "from scipy import stats\n",
    "from sklearn.cluster import KMeans, DBSCAN, AffinityPropagation, Birch, MeanShift, AgglomerativeClustering\n",
    "from sklearn.mixture import GaussianMixture\n",
    "from sklearn.metrics import silhouette_score, accuracy_score\n",
    "from sklearn.ensemble import IsolationForest\n",
    "from sklearn.tree import DecisionTreeClassifier\n",
    "from sklearn import tree\n",
    "from sklearn.preprocessing import MinMaxScaler\n",
    "import plotly.graph_objects as go\n",
    "from sklearn.metrics import confusion_matrix\n",
    "\n",
    "sns.set_style(\"whitegrid\")\n",
    "# sns.color_palette('bright')\n",
    "sns.set_palette('dark')"
   ]
  },
  {
   "cell_type": "code",
   "execution_count": 2,
   "metadata": {},
   "outputs": [],
   "source": [
    "xls = pd.ExcelFile('traffic_high_low.xlsx')\n",
    "df_high = pd.read_excel(xls, 'High Traffic')\n",
    "df_non = pd.read_excel(xls, 'Non-high Traffic')\n",
    "all_data = pd.read_excel(xls, 'all_data')"
   ]
  },
  {
   "cell_type": "code",
   "execution_count": 3,
   "metadata": {},
   "outputs": [
    {
     "data": {
      "text/html": [
       "<div>\n",
       "<style scoped>\n",
       "    .dataframe tbody tr th:only-of-type {\n",
       "        vertical-align: middle;\n",
       "    }\n",
       "\n",
       "    .dataframe tbody tr th {\n",
       "        vertical-align: top;\n",
       "    }\n",
       "\n",
       "    .dataframe thead th {\n",
       "        text-align: right;\n",
       "    }\n",
       "</style>\n",
       "<table border=\"1\" class=\"dataframe\">\n",
       "  <thead>\n",
       "    <tr style=\"text-align: right;\">\n",
       "      <th></th>\n",
       "      <th>outlet_number</th>\n",
       "      <th>outlet_name</th>\n",
       "      <th>high_traffic</th>\n",
       "    </tr>\n",
       "  </thead>\n",
       "  <tbody>\n",
       "    <tr>\n",
       "      <th>0</th>\n",
       "      <td>9422535</td>\n",
       "      <td>Şampiyon Tekel &amp; Gıda</td>\n",
       "      <td>0</td>\n",
       "    </tr>\n",
       "    <tr>\n",
       "      <th>1</th>\n",
       "      <td>9109019</td>\n",
       "      <td>Flamingo Tekel</td>\n",
       "      <td>0</td>\n",
       "    </tr>\n",
       "    <tr>\n",
       "      <th>2</th>\n",
       "      <td>9489908</td>\n",
       "      <td>Fıçı Tekel</td>\n",
       "      <td>0</td>\n",
       "    </tr>\n",
       "    <tr>\n",
       "      <th>3</th>\n",
       "      <td>3008089</td>\n",
       "      <td>Yerlisu Gıda</td>\n",
       "      <td>0</td>\n",
       "    </tr>\n",
       "    <tr>\n",
       "      <th>4</th>\n",
       "      <td>9566010</td>\n",
       "      <td>Kupa Tekel</td>\n",
       "      <td>0</td>\n",
       "    </tr>\n",
       "  </tbody>\n",
       "</table>\n",
       "</div>"
      ],
      "text/plain": [
       "   outlet_number            outlet_name  high_traffic\n",
       "0        9422535  Şampiyon Tekel & Gıda             0\n",
       "1        9109019         Flamingo Tekel             0\n",
       "2        9489908             Fıçı Tekel             0\n",
       "3        3008089           Yerlisu Gıda             0\n",
       "4        9566010             Kupa Tekel             0"
      ]
     },
     "execution_count": 3,
     "metadata": {},
     "output_type": "execute_result"
    }
   ],
   "source": [
    "all_data.head()"
   ]
  },
  {
   "cell_type": "code",
   "execution_count": 4,
   "metadata": {},
   "outputs": [],
   "source": [
    "shopper_df = pd.read_csv('shopper_data.csv')"
   ]
  },
  {
   "cell_type": "code",
   "execution_count": 5,
   "metadata": {},
   "outputs": [],
   "source": [
    "shopper_df = shopper_df.fillna(0)"
   ]
  },
  {
   "cell_type": "code",
   "execution_count": 6,
   "metadata": {},
   "outputs": [
    {
     "data": {
      "text/plain": [
       "304608"
      ]
     },
     "execution_count": 6,
     "metadata": {},
     "output_type": "execute_result"
    }
   ],
   "source": [
    "len(shopper_df)"
   ]
  },
  {
   "cell_type": "code",
   "execution_count": 7,
   "metadata": {},
   "outputs": [
    {
     "data": {
      "text/html": [
       "<div>\n",
       "<style scoped>\n",
       "    .dataframe tbody tr th:only-of-type {\n",
       "        vertical-align: middle;\n",
       "    }\n",
       "\n",
       "    .dataframe tbody tr th {\n",
       "        vertical-align: top;\n",
       "    }\n",
       "\n",
       "    .dataframe thead th {\n",
       "        text-align: right;\n",
       "    }\n",
       "</style>\n",
       "<table border=\"1\" class=\"dataframe\">\n",
       "  <thead>\n",
       "    <tr style=\"text-align: right;\">\n",
       "      <th></th>\n",
       "      <th>outlet_number</th>\n",
       "      <th>outlet_name</th>\n",
       "      <th>GEOGPOINT</th>\n",
       "      <th>IDARIID</th>\n",
       "      <th>MAIN_CHANNEL</th>\n",
       "      <th>SES</th>\n",
       "      <th>YAS_CLUSTER</th>\n",
       "      <th>ILADI</th>\n",
       "      <th>ILCEADI</th>\n",
       "      <th>HANE_BUYUKLUGU</th>\n",
       "      <th>...</th>\n",
       "      <th>COCACOLA_ENERGY</th>\n",
       "      <th>DAMLA_MINERA</th>\n",
       "      <th>DAMLA_WATER</th>\n",
       "      <th>EXOTIC</th>\n",
       "      <th>FANTA</th>\n",
       "      <th>FUSETEA</th>\n",
       "      <th>MONSTER</th>\n",
       "      <th>POWERADE</th>\n",
       "      <th>SCHWEPPES</th>\n",
       "      <th>SPRITE</th>\n",
       "    </tr>\n",
       "  </thead>\n",
       "  <tbody>\n",
       "    <tr>\n",
       "      <th>0</th>\n",
       "      <td>7173090</td>\n",
       "      <td>DAVUT BIRLES</td>\n",
       "      <td>POINT(29.06531874 40.1851168)</td>\n",
       "      <td>22528</td>\n",
       "      <td>ON-PREMISE</td>\n",
       "      <td>C1</td>\n",
       "      <td>SIFIR</td>\n",
       "      <td>Bursa</td>\n",
       "      <td>Osmangazi</td>\n",
       "      <td>0.663415</td>\n",
       "      <td>...</td>\n",
       "      <td>0.0</td>\n",
       "      <td>0.000</td>\n",
       "      <td>0.000</td>\n",
       "      <td>0.0</td>\n",
       "      <td>4.225</td>\n",
       "      <td>0.000</td>\n",
       "      <td>0.0</td>\n",
       "      <td>0.0</td>\n",
       "      <td>0.000</td>\n",
       "      <td>0.00</td>\n",
       "    </tr>\n",
       "    <tr>\n",
       "      <th>1</th>\n",
       "      <td>7158909</td>\n",
       "      <td>DOGAN TEKEL</td>\n",
       "      <td>POINT(29.06616217 40.18558327)</td>\n",
       "      <td>22528</td>\n",
       "      <td>TRADITIONAL RETAIL</td>\n",
       "      <td>C1</td>\n",
       "      <td>SIFIR</td>\n",
       "      <td>Bursa</td>\n",
       "      <td>Osmangazi</td>\n",
       "      <td>0.663415</td>\n",
       "      <td>...</td>\n",
       "      <td>0.0</td>\n",
       "      <td>0.000</td>\n",
       "      <td>0.000</td>\n",
       "      <td>0.0</td>\n",
       "      <td>70.906</td>\n",
       "      <td>33.571</td>\n",
       "      <td>0.0</td>\n",
       "      <td>0.0</td>\n",
       "      <td>8.452</td>\n",
       "      <td>0.00</td>\n",
       "    </tr>\n",
       "    <tr>\n",
       "      <th>2</th>\n",
       "      <td>9082733</td>\n",
       "      <td>KARDESLER PIDE</td>\n",
       "      <td>POINT(29.06576674 40.18505304)</td>\n",
       "      <td>22528</td>\n",
       "      <td>ON-PREMISE</td>\n",
       "      <td>C1</td>\n",
       "      <td>SIFIR</td>\n",
       "      <td>Bursa</td>\n",
       "      <td>Osmangazi</td>\n",
       "      <td>0.663415</td>\n",
       "      <td>...</td>\n",
       "      <td>0.0</td>\n",
       "      <td>49.855</td>\n",
       "      <td>1605.880</td>\n",
       "      <td>0.0</td>\n",
       "      <td>134.430</td>\n",
       "      <td>8.364</td>\n",
       "      <td>0.0</td>\n",
       "      <td>0.0</td>\n",
       "      <td>0.000</td>\n",
       "      <td>42.52</td>\n",
       "    </tr>\n",
       "    <tr>\n",
       "      <th>3</th>\n",
       "      <td>9468815</td>\n",
       "      <td>IHLAMURALTI CAY BAHCESI</td>\n",
       "      <td>POINT(29.0648084200769 40.1860698786783)</td>\n",
       "      <td>22528</td>\n",
       "      <td>ON-PREMISE</td>\n",
       "      <td>C1</td>\n",
       "      <td>SIFIR</td>\n",
       "      <td>Bursa</td>\n",
       "      <td>Osmangazi</td>\n",
       "      <td>0.663415</td>\n",
       "      <td>...</td>\n",
       "      <td>0.0</td>\n",
       "      <td>0.000</td>\n",
       "      <td>46.486</td>\n",
       "      <td>0.0</td>\n",
       "      <td>5.070</td>\n",
       "      <td>0.000</td>\n",
       "      <td>0.0</td>\n",
       "      <td>0.0</td>\n",
       "      <td>0.000</td>\n",
       "      <td>0.00</td>\n",
       "    </tr>\n",
       "    <tr>\n",
       "      <th>4</th>\n",
       "      <td>8921197</td>\n",
       "      <td>PARALI BUFE</td>\n",
       "      <td>POINT(29.0647642900001 40.18573423)</td>\n",
       "      <td>22528</td>\n",
       "      <td>ON-PREMISE</td>\n",
       "      <td>C1</td>\n",
       "      <td>SIFIR</td>\n",
       "      <td>Bursa</td>\n",
       "      <td>Osmangazi</td>\n",
       "      <td>0.663415</td>\n",
       "      <td>...</td>\n",
       "      <td>0.0</td>\n",
       "      <td>0.000</td>\n",
       "      <td>88.746</td>\n",
       "      <td>0.0</td>\n",
       "      <td>37.403</td>\n",
       "      <td>2.091</td>\n",
       "      <td>0.0</td>\n",
       "      <td>0.0</td>\n",
       "      <td>0.000</td>\n",
       "      <td>2.79</td>\n",
       "    </tr>\n",
       "  </tbody>\n",
       "</table>\n",
       "<p>5 rows × 71 columns</p>\n",
       "</div>"
      ],
      "text/plain": [
       "   outlet_number              outlet_name  \\\n",
       "0        7173090             DAVUT BIRLES   \n",
       "1        7158909              DOGAN TEKEL   \n",
       "2        9082733           KARDESLER PIDE   \n",
       "3        9468815  IHLAMURALTI CAY BAHCESI   \n",
       "4        8921197              PARALI BUFE   \n",
       "\n",
       "                                  GEOGPOINT  IDARIID        MAIN_CHANNEL SES  \\\n",
       "0             POINT(29.06531874 40.1851168)    22528          ON-PREMISE  C1   \n",
       "1            POINT(29.06616217 40.18558327)    22528  TRADITIONAL RETAIL  C1   \n",
       "2            POINT(29.06576674 40.18505304)    22528          ON-PREMISE  C1   \n",
       "3  POINT(29.0648084200769 40.1860698786783)    22528          ON-PREMISE  C1   \n",
       "4       POINT(29.0647642900001 40.18573423)    22528          ON-PREMISE  C1   \n",
       "\n",
       "  YAS_CLUSTER  ILADI    ILCEADI  HANE_BUYUKLUGU  ...  COCACOLA_ENERGY  \\\n",
       "0       SIFIR  Bursa  Osmangazi        0.663415  ...              0.0   \n",
       "1       SIFIR  Bursa  Osmangazi        0.663415  ...              0.0   \n",
       "2       SIFIR  Bursa  Osmangazi        0.663415  ...              0.0   \n",
       "3       SIFIR  Bursa  Osmangazi        0.663415  ...              0.0   \n",
       "4       SIFIR  Bursa  Osmangazi        0.663415  ...              0.0   \n",
       "\n",
       "   DAMLA_MINERA  DAMLA_WATER  EXOTIC    FANTA  FUSETEA  MONSTER  POWERADE  \\\n",
       "0         0.000        0.000     0.0    4.225    0.000      0.0       0.0   \n",
       "1         0.000        0.000     0.0   70.906   33.571      0.0       0.0   \n",
       "2        49.855     1605.880     0.0  134.430    8.364      0.0       0.0   \n",
       "3         0.000       46.486     0.0    5.070    0.000      0.0       0.0   \n",
       "4         0.000       88.746     0.0   37.403    2.091      0.0       0.0   \n",
       "\n",
       "   SCHWEPPES  SPRITE  \n",
       "0      0.000    0.00  \n",
       "1      8.452    0.00  \n",
       "2      0.000   42.52  \n",
       "3      0.000    0.00  \n",
       "4      0.000    2.79  \n",
       "\n",
       "[5 rows x 71 columns]"
      ]
     },
     "execution_count": 7,
     "metadata": {},
     "output_type": "execute_result"
    }
   ],
   "source": [
    "shopper_df.head()"
   ]
  },
  {
   "cell_type": "code",
   "execution_count": 8,
   "metadata": {},
   "outputs": [
    {
     "data": {
      "text/plain": [
       "İstanbul     52534\n",
       "İzmir        20397\n",
       "Ankara       18468\n",
       "Antalya      13285\n",
       "Bursa         9460\n",
       "             ...  \n",
       "Erzincan       532\n",
       "Kilis          510\n",
       "Ardahan        415\n",
       "Bayburt        201\n",
       "Gümüşhane      184\n",
       "Name: ILADI, Length: 81, dtype: int64"
      ]
     },
     "execution_count": 8,
     "metadata": {},
     "output_type": "execute_result"
    }
   ],
   "source": [
    "shopper_df.ILADI.value_counts()"
   ]
  },
  {
   "cell_type": "code",
   "execution_count": 9,
   "metadata": {},
   "outputs": [],
   "source": [
    "#Sadece İstanbul, Ankara, İzmir genelini aldım.\n",
    "#df_new = shopper_df.query(\"\"\" ILADI == 'İstanbul' or ILADI == 'İzmir' or ILADI == 'Ankara' \"\"\").reset_index(drop=True)\n",
    "\n",
    "df_new = shopper_df.query(\"\"\" ILADI == 'Burdur' \"\"\").reset_index(drop=True)"
   ]
  },
  {
   "cell_type": "code",
   "execution_count": 10,
   "metadata": {},
   "outputs": [
    {
     "data": {
      "text/plain": [
       "1252"
      ]
     },
     "execution_count": 10,
     "metadata": {},
     "output_type": "execute_result"
    }
   ],
   "source": [
    "len(df_new)"
   ]
  },
  {
   "cell_type": "code",
   "execution_count": 11,
   "metadata": {},
   "outputs": [
    {
     "data": {
      "text/html": [
       "<div>\n",
       "<style scoped>\n",
       "    .dataframe tbody tr th:only-of-type {\n",
       "        vertical-align: middle;\n",
       "    }\n",
       "\n",
       "    .dataframe tbody tr th {\n",
       "        vertical-align: top;\n",
       "    }\n",
       "\n",
       "    .dataframe thead th {\n",
       "        text-align: right;\n",
       "    }\n",
       "</style>\n",
       "<table border=\"1\" class=\"dataframe\">\n",
       "  <thead>\n",
       "    <tr style=\"text-align: right;\">\n",
       "      <th></th>\n",
       "      <th>outlet_number</th>\n",
       "      <th>outlet_name</th>\n",
       "      <th>GEOGPOINT</th>\n",
       "      <th>IDARIID</th>\n",
       "      <th>MAIN_CHANNEL</th>\n",
       "      <th>SES</th>\n",
       "      <th>YAS_CLUSTER</th>\n",
       "      <th>ILADI</th>\n",
       "      <th>ILCEADI</th>\n",
       "      <th>HANE_BUYUKLUGU</th>\n",
       "      <th>...</th>\n",
       "      <th>COCACOLA_ENERGY</th>\n",
       "      <th>DAMLA_MINERA</th>\n",
       "      <th>DAMLA_WATER</th>\n",
       "      <th>EXOTIC</th>\n",
       "      <th>FANTA</th>\n",
       "      <th>FUSETEA</th>\n",
       "      <th>MONSTER</th>\n",
       "      <th>POWERADE</th>\n",
       "      <th>SCHWEPPES</th>\n",
       "      <th>SPRITE</th>\n",
       "    </tr>\n",
       "  </thead>\n",
       "  <tbody>\n",
       "    <tr>\n",
       "      <th>0</th>\n",
       "      <td>9648092</td>\n",
       "      <td>PIRLANTA LOKANTASI</td>\n",
       "      <td>POINT(30.28579322 37.71830939)</td>\n",
       "      <td>21527</td>\n",
       "      <td>ON-PREMISE</td>\n",
       "      <td>C1</td>\n",
       "      <td>OLD</td>\n",
       "      <td>Burdur</td>\n",
       "      <td>Merkez</td>\n",
       "      <td>0.974705</td>\n",
       "      <td>...</td>\n",
       "      <td>0.0</td>\n",
       "      <td>2.535</td>\n",
       "      <td>16.904</td>\n",
       "      <td>0.0</td>\n",
       "      <td>3.085</td>\n",
       "      <td>0.000</td>\n",
       "      <td>0.0</td>\n",
       "      <td>0.0</td>\n",
       "      <td>0.0</td>\n",
       "      <td>0.845</td>\n",
       "    </tr>\n",
       "    <tr>\n",
       "      <th>1</th>\n",
       "      <td>9427743</td>\n",
       "      <td>KONYA SOFRASI</td>\n",
       "      <td>POINT(30.28381574 37.71738315)</td>\n",
       "      <td>21527</td>\n",
       "      <td>ON-PREMISE</td>\n",
       "      <td>C1</td>\n",
       "      <td>OLD</td>\n",
       "      <td>Burdur</td>\n",
       "      <td>Merkez</td>\n",
       "      <td>0.974705</td>\n",
       "      <td>...</td>\n",
       "      <td>0.0</td>\n",
       "      <td>0.000</td>\n",
       "      <td>0.000</td>\n",
       "      <td>0.0</td>\n",
       "      <td>40.409</td>\n",
       "      <td>13.243</td>\n",
       "      <td>0.0</td>\n",
       "      <td>0.0</td>\n",
       "      <td>0.0</td>\n",
       "      <td>1.395</td>\n",
       "    </tr>\n",
       "    <tr>\n",
       "      <th>2</th>\n",
       "      <td>9679226</td>\n",
       "      <td>OSMAN SAHAN</td>\n",
       "      <td>POINT(30.282675 37.7174333333333)</td>\n",
       "      <td>21527</td>\n",
       "      <td>ON-PREMISE</td>\n",
       "      <td>C1</td>\n",
       "      <td>OLD</td>\n",
       "      <td>Burdur</td>\n",
       "      <td>Merkez</td>\n",
       "      <td>0.974705</td>\n",
       "      <td>...</td>\n",
       "      <td>0.0</td>\n",
       "      <td>2.535</td>\n",
       "      <td>63.390</td>\n",
       "      <td>0.0</td>\n",
       "      <td>10.567</td>\n",
       "      <td>0.000</td>\n",
       "      <td>0.0</td>\n",
       "      <td>0.0</td>\n",
       "      <td>0.0</td>\n",
       "      <td>0.000</td>\n",
       "    </tr>\n",
       "  </tbody>\n",
       "</table>\n",
       "<p>3 rows × 71 columns</p>\n",
       "</div>"
      ],
      "text/plain": [
       "   outlet_number         outlet_name                          GEOGPOINT  \\\n",
       "0        9648092  PIRLANTA LOKANTASI     POINT(30.28579322 37.71830939)   \n",
       "1        9427743       KONYA SOFRASI     POINT(30.28381574 37.71738315)   \n",
       "2        9679226         OSMAN SAHAN  POINT(30.282675 37.7174333333333)   \n",
       "\n",
       "   IDARIID MAIN_CHANNEL SES YAS_CLUSTER   ILADI ILCEADI  HANE_BUYUKLUGU  ...  \\\n",
       "0    21527   ON-PREMISE  C1         OLD  Burdur  Merkez        0.974705  ...   \n",
       "1    21527   ON-PREMISE  C1         OLD  Burdur  Merkez        0.974705  ...   \n",
       "2    21527   ON-PREMISE  C1         OLD  Burdur  Merkez        0.974705  ...   \n",
       "\n",
       "   COCACOLA_ENERGY  DAMLA_MINERA  DAMLA_WATER  EXOTIC   FANTA  FUSETEA  \\\n",
       "0              0.0         2.535       16.904     0.0   3.085    0.000   \n",
       "1              0.0         0.000        0.000     0.0  40.409   13.243   \n",
       "2              0.0         2.535       63.390     0.0  10.567    0.000   \n",
       "\n",
       "   MONSTER  POWERADE  SCHWEPPES  SPRITE  \n",
       "0      0.0       0.0        0.0   0.845  \n",
       "1      0.0       0.0        0.0   1.395  \n",
       "2      0.0       0.0        0.0   0.000  \n",
       "\n",
       "[3 rows x 71 columns]"
      ]
     },
     "execution_count": 11,
     "metadata": {},
     "output_type": "execute_result"
    }
   ],
   "source": [
    "df_new.head(3)"
   ]
  },
  {
   "cell_type": "code",
   "execution_count": 12,
   "metadata": {},
   "outputs": [
    {
     "data": {
      "text/plain": [
       "array(['ON-PREMISE', 'TRADITIONAL RETAIL', 'MODERN RETAIL',\n",
       "       'OTHER/THIRD PARTY', 'E-COMMERCE'], dtype=object)"
      ]
     },
     "execution_count": 12,
     "metadata": {},
     "output_type": "execute_result"
    }
   ],
   "source": [
    "df_new.MAIN_CHANNEL.unique()"
   ]
  },
  {
   "cell_type": "code",
   "execution_count": 13,
   "metadata": {},
   "outputs": [],
   "source": [
    "# data = Class'ları belli olan dataframe\n",
    "class_data = pd.merge(all_data[[\"outlet_number\",\"high_traffic\"]], df_new, on='outlet_number', how='left')"
   ]
  },
  {
   "cell_type": "code",
   "execution_count": 14,
   "metadata": {},
   "outputs": [],
   "source": [
    "# Sadece bu Hatayı içeren toplam 0 satır var. \n",
    "#iller_data = class_data.query(\"\"\" ILADI == 'İstanbul' or ILADI == 'İzmir' or ILADI == 'Ankara' \"\"\").reset_index(drop=True)\n",
    "\n",
    "iller_data = class_data.query(\"\"\" ILADI == 'Burdur' \"\"\").reset_index(drop=True)"
   ]
  },
  {
   "cell_type": "code",
   "execution_count": 15,
   "metadata": {},
   "outputs": [
    {
     "data": {
      "text/html": [
       "<div>\n",
       "<style scoped>\n",
       "    .dataframe tbody tr th:only-of-type {\n",
       "        vertical-align: middle;\n",
       "    }\n",
       "\n",
       "    .dataframe tbody tr th {\n",
       "        vertical-align: top;\n",
       "    }\n",
       "\n",
       "    .dataframe thead th {\n",
       "        text-align: right;\n",
       "    }\n",
       "</style>\n",
       "<table border=\"1\" class=\"dataframe\">\n",
       "  <thead>\n",
       "    <tr style=\"text-align: right;\">\n",
       "      <th></th>\n",
       "      <th>outlet_number</th>\n",
       "      <th>high_traffic</th>\n",
       "      <th>outlet_name</th>\n",
       "      <th>GEOGPOINT</th>\n",
       "      <th>IDARIID</th>\n",
       "      <th>MAIN_CHANNEL</th>\n",
       "      <th>SES</th>\n",
       "      <th>YAS_CLUSTER</th>\n",
       "      <th>ILADI</th>\n",
       "      <th>ILCEADI</th>\n",
       "      <th>...</th>\n",
       "      <th>COCACOLA_ENERGY</th>\n",
       "      <th>DAMLA_MINERA</th>\n",
       "      <th>DAMLA_WATER</th>\n",
       "      <th>EXOTIC</th>\n",
       "      <th>FANTA</th>\n",
       "      <th>FUSETEA</th>\n",
       "      <th>MONSTER</th>\n",
       "      <th>POWERADE</th>\n",
       "      <th>SCHWEPPES</th>\n",
       "      <th>SPRITE</th>\n",
       "    </tr>\n",
       "  </thead>\n",
       "  <tbody>\n",
       "  </tbody>\n",
       "</table>\n",
       "<p>0 rows × 72 columns</p>\n",
       "</div>"
      ],
      "text/plain": [
       "Empty DataFrame\n",
       "Columns: [outlet_number, high_traffic, outlet_name, GEOGPOINT, IDARIID, MAIN_CHANNEL, SES, YAS_CLUSTER, ILADI, ILCEADI, HANE_BUYUKLUGU, GUNDUZ_NUFUS, GECE_NUFUS, ZENGINLIK_INDEKSI, SEHIRLESME_INDEKSI, YAYA_TRAFIGI, AYLIK_HARCAMA, GIDAVEICECEK, ALKOLTUTUN, EGLENCEKULTUR, LOKANTAOTEL, GIDAVEICECEK_ORAN, ALKOLTUTUN_ORAN, EGLENCEKULTUR_ORAN, LOKANTAOTEL_ORAN, ISYERI_YOGUNLUGU_SAYI_KM2_YERLE, ISYERI_YOGUNLUGU_SAYI_KM2, KONUT_YOGUNLUGU_SAYI_KM2_YERLES, KONUT_YOGUNLUGU_SAYI_KM2, IL_BAZLI_TURIST_YERLI_ISLETME, IL_BAZLI_TURIST_YBN_ISLETME, ORTA_ALT, ORTA, ORTA_UST, UST, AKARYAKIT, ALISVERIS, OUTLET, KONUT, EGITIM, UNIVERSITE, EGLENCE, KULTUREL, TURIZM, SPOR, HASTANE, ASKERI, DEMIRYOLU, DENIZYOLU, HAVAYOLU, KARAYOLU, TRAFIK, E_COMMERCE, MODERN_RETAIL, ON_PREMISE, OTHER_THIRD_PARTY, TRADITIONAL_RETAIL, BURN, CAPPY, CC_LIGHT, CC_NO_SUGER, COCACOLA, COCACOLA_ENERGY, DAMLA_MINERA, DAMLA_WATER, EXOTIC, FANTA, FUSETEA, MONSTER, POWERADE, SCHWEPPES, SPRITE]\n",
       "Index: []\n",
       "\n",
       "[0 rows x 72 columns]"
      ]
     },
     "execution_count": 15,
     "metadata": {},
     "output_type": "execute_result"
    }
   ],
   "source": [
    "iller_data.head(2)"
   ]
  },
  {
   "cell_type": "markdown",
   "metadata": {},
   "source": [
    "### Data Prep."
   ]
  },
  {
   "cell_type": "code",
   "execution_count": 16,
   "metadata": {},
   "outputs": [],
   "source": [
    "prep_data = df_new.copy()"
   ]
  },
  {
   "cell_type": "code",
   "execution_count": 17,
   "metadata": {},
   "outputs": [
    {
     "data": {
      "text/plain": [
       "array(['ON-PREMISE', 'TRADITIONAL RETAIL', 'MODERN RETAIL',\n",
       "       'OTHER/THIRD PARTY', 'E-COMMERCE'], dtype=object)"
      ]
     },
     "execution_count": 17,
     "metadata": {},
     "output_type": "execute_result"
    }
   ],
   "source": [
    "prep_data.MAIN_CHANNEL.unique()"
   ]
  },
  {
   "cell_type": "code",
   "execution_count": 18,
   "metadata": {},
   "outputs": [],
   "source": [
    "# sadece traditional olanları al.\n",
    "prep_data = prep_data.query(\"MAIN_CHANNEL=='TRADITIONAL RETAIL'\").reset_index(drop=True)"
   ]
  },
  {
   "cell_type": "code",
   "execution_count": 19,
   "metadata": {},
   "outputs": [],
   "source": [
    "model_data = prep_data.copy()"
   ]
  },
  {
   "cell_type": "code",
   "execution_count": 20,
   "metadata": {},
   "outputs": [
    {
     "data": {
      "text/plain": [
       "491"
      ]
     },
     "execution_count": 20,
     "metadata": {},
     "output_type": "execute_result"
    }
   ],
   "source": [
    "len(model_data)"
   ]
  },
  {
   "cell_type": "markdown",
   "metadata": {},
   "source": [
    "#### Label Encoding"
   ]
  },
  {
   "cell_type": "code",
   "execution_count": 21,
   "metadata": {},
   "outputs": [],
   "source": [
    "model_data[\"SES\"] = model_data[\"SES\"].replace({'A': 6, 'B': 5, 'C1': 4, 'C2': 3, 'D': 2, 'E': 1})"
   ]
  },
  {
   "cell_type": "markdown",
   "metadata": {},
   "source": [
    "#### Gece Gündüz Oranı"
   ]
  },
  {
   "cell_type": "code",
   "execution_count": 22,
   "metadata": {},
   "outputs": [],
   "source": [
    "# drop columns for final data for model\n",
    "model_data = model_data.drop([\"outlet_name\"                   \n",
    "                             ,\"GEOGPOINT\"\n",
    "                             ,\"IDARIID\"\n",
    "                             ,\"MAIN_CHANNEL\"\n",
    "                             ,\"YAS_CLUSTER\"\n",
    "                             ,\"ILADI\"\n",
    "                             ,\"ILCEADI\"\n",
    "                             ,\"HANE_BUYUKLUGU\"\n",
    "                             ,\"ZENGINLIK_INDEKSI\"\n",
    "                             ,\"BURN\"\n",
    "                             ,\"CAPPY\"\n",
    "                             ,\"CC_LIGHT\"\n",
    "                             ,\"CC_NO_SUGER\"\n",
    "                             ,\"COCACOLA\"\n",
    "                             ,\"COCACOLA_ENERGY\"\n",
    "                             ,\"DAMLA_MINERA\"\n",
    "                             ,\"DAMLA_WATER\"\n",
    "                             ,\"EXOTIC\"\n",
    "                             ,\"FANTA\"\n",
    "                             ,\"FUSETEA\"\n",
    "                             ,\"MONSTER\"\n",
    "                             ,\"POWERADE\"\n",
    "                             ,\"SCHWEPPES\"\n",
    "                             ,\"SPRITE\"\n",
    "                             ],axis=1)"
   ]
  },
  {
   "cell_type": "code",
   "execution_count": 23,
   "metadata": {},
   "outputs": [],
   "source": [
    "model_data['GECE_NUFUS'].replace({0: 0.00001}, inplace=True)\n",
    "model_data['GUNDUZ_NUFUS'].replace({0: 0.00001}, inplace=True)"
   ]
  },
  {
   "cell_type": "code",
   "execution_count": 24,
   "metadata": {},
   "outputs": [
    {
     "data": {
      "text/html": [
       "<div>\n",
       "<style scoped>\n",
       "    .dataframe tbody tr th:only-of-type {\n",
       "        vertical-align: middle;\n",
       "    }\n",
       "\n",
       "    .dataframe tbody tr th {\n",
       "        vertical-align: top;\n",
       "    }\n",
       "\n",
       "    .dataframe thead th {\n",
       "        text-align: right;\n",
       "    }\n",
       "</style>\n",
       "<table border=\"1\" class=\"dataframe\">\n",
       "  <thead>\n",
       "    <tr style=\"text-align: right;\">\n",
       "      <th></th>\n",
       "      <th>outlet_number</th>\n",
       "      <th>SES</th>\n",
       "      <th>GUNDUZ_NUFUS</th>\n",
       "      <th>GECE_NUFUS</th>\n",
       "      <th>SEHIRLESME_INDEKSI</th>\n",
       "      <th>YAYA_TRAFIGI</th>\n",
       "      <th>AYLIK_HARCAMA</th>\n",
       "      <th>GIDAVEICECEK</th>\n",
       "      <th>ALKOLTUTUN</th>\n",
       "      <th>EGLENCEKULTUR</th>\n",
       "      <th>...</th>\n",
       "      <th>DEMIRYOLU</th>\n",
       "      <th>DENIZYOLU</th>\n",
       "      <th>HAVAYOLU</th>\n",
       "      <th>KARAYOLU</th>\n",
       "      <th>TRAFIK</th>\n",
       "      <th>E_COMMERCE</th>\n",
       "      <th>MODERN_RETAIL</th>\n",
       "      <th>ON_PREMISE</th>\n",
       "      <th>OTHER_THIRD_PARTY</th>\n",
       "      <th>TRADITIONAL_RETAIL</th>\n",
       "    </tr>\n",
       "  </thead>\n",
       "  <tbody>\n",
       "    <tr>\n",
       "      <th>0</th>\n",
       "      <td>8891076</td>\n",
       "      <td>4</td>\n",
       "      <td>0.00001</td>\n",
       "      <td>578.0</td>\n",
       "      <td>8.998617</td>\n",
       "      <td>7.9993</td>\n",
       "      <td>5728</td>\n",
       "      <td>0.0</td>\n",
       "      <td>0.0</td>\n",
       "      <td>0.0</td>\n",
       "      <td>...</td>\n",
       "      <td>0.0</td>\n",
       "      <td>0.0</td>\n",
       "      <td>0.0</td>\n",
       "      <td>1.0</td>\n",
       "      <td>18.0</td>\n",
       "      <td>0.0</td>\n",
       "      <td>0.0</td>\n",
       "      <td>11.0</td>\n",
       "      <td>0.0</td>\n",
       "      <td>3.0</td>\n",
       "    </tr>\n",
       "    <tr>\n",
       "      <th>1</th>\n",
       "      <td>9541699</td>\n",
       "      <td>4</td>\n",
       "      <td>0.00001</td>\n",
       "      <td>578.0</td>\n",
       "      <td>8.998617</td>\n",
       "      <td>7.9993</td>\n",
       "      <td>5728</td>\n",
       "      <td>0.0</td>\n",
       "      <td>0.0</td>\n",
       "      <td>0.0</td>\n",
       "      <td>...</td>\n",
       "      <td>0.0</td>\n",
       "      <td>0.0</td>\n",
       "      <td>0.0</td>\n",
       "      <td>2.0</td>\n",
       "      <td>6.0</td>\n",
       "      <td>0.0</td>\n",
       "      <td>0.0</td>\n",
       "      <td>10.0</td>\n",
       "      <td>0.0</td>\n",
       "      <td>2.0</td>\n",
       "    </tr>\n",
       "    <tr>\n",
       "      <th>2</th>\n",
       "      <td>9621144</td>\n",
       "      <td>4</td>\n",
       "      <td>0.00001</td>\n",
       "      <td>578.0</td>\n",
       "      <td>8.998617</td>\n",
       "      <td>7.9993</td>\n",
       "      <td>5728</td>\n",
       "      <td>0.0</td>\n",
       "      <td>0.0</td>\n",
       "      <td>0.0</td>\n",
       "      <td>...</td>\n",
       "      <td>0.0</td>\n",
       "      <td>0.0</td>\n",
       "      <td>0.0</td>\n",
       "      <td>1.0</td>\n",
       "      <td>17.0</td>\n",
       "      <td>0.0</td>\n",
       "      <td>0.0</td>\n",
       "      <td>11.0</td>\n",
       "      <td>0.0</td>\n",
       "      <td>3.0</td>\n",
       "    </tr>\n",
       "  </tbody>\n",
       "</table>\n",
       "<p>3 rows × 47 columns</p>\n",
       "</div>"
      ],
      "text/plain": [
       "   outlet_number  SES  GUNDUZ_NUFUS  GECE_NUFUS  SEHIRLESME_INDEKSI  \\\n",
       "0        8891076    4       0.00001       578.0            8.998617   \n",
       "1        9541699    4       0.00001       578.0            8.998617   \n",
       "2        9621144    4       0.00001       578.0            8.998617   \n",
       "\n",
       "   YAYA_TRAFIGI  AYLIK_HARCAMA  GIDAVEICECEK  ALKOLTUTUN  EGLENCEKULTUR  ...  \\\n",
       "0        7.9993           5728           0.0         0.0            0.0  ...   \n",
       "1        7.9993           5728           0.0         0.0            0.0  ...   \n",
       "2        7.9993           5728           0.0         0.0            0.0  ...   \n",
       "\n",
       "   DEMIRYOLU  DENIZYOLU  HAVAYOLU  KARAYOLU  TRAFIK  E_COMMERCE  \\\n",
       "0        0.0        0.0       0.0       1.0    18.0         0.0   \n",
       "1        0.0        0.0       0.0       2.0     6.0         0.0   \n",
       "2        0.0        0.0       0.0       1.0    17.0         0.0   \n",
       "\n",
       "   MODERN_RETAIL  ON_PREMISE  OTHER_THIRD_PARTY  TRADITIONAL_RETAIL  \n",
       "0            0.0        11.0                0.0                 3.0  \n",
       "1            0.0        10.0                0.0                 2.0  \n",
       "2            0.0        11.0                0.0                 3.0  \n",
       "\n",
       "[3 rows x 47 columns]"
      ]
     },
     "execution_count": 24,
     "metadata": {},
     "output_type": "execute_result"
    }
   ],
   "source": [
    "model_data.head(3)"
   ]
  },
  {
   "cell_type": "code",
   "execution_count": 25,
   "metadata": {},
   "outputs": [],
   "source": [
    "g = model_data[['GUNDUZ_NUFUS','GECE_NUFUS']]"
   ]
  },
  {
   "cell_type": "code",
   "execution_count": 26,
   "metadata": {},
   "outputs": [],
   "source": [
    "model_data[\"gündüz_gece_oran\"] = g[\"GUNDUZ_NUFUS\"]/g[\"GECE_NUFUS\"]"
   ]
  },
  {
   "cell_type": "code",
   "execution_count": 27,
   "metadata": {},
   "outputs": [
    {
     "data": {
      "text/html": [
       "<div>\n",
       "<style scoped>\n",
       "    .dataframe tbody tr th:only-of-type {\n",
       "        vertical-align: middle;\n",
       "    }\n",
       "\n",
       "    .dataframe tbody tr th {\n",
       "        vertical-align: top;\n",
       "    }\n",
       "\n",
       "    .dataframe thead th {\n",
       "        text-align: right;\n",
       "    }\n",
       "</style>\n",
       "<table border=\"1\" class=\"dataframe\">\n",
       "  <thead>\n",
       "    <tr style=\"text-align: right;\">\n",
       "      <th></th>\n",
       "      <th>outlet_number</th>\n",
       "      <th>SES</th>\n",
       "      <th>GUNDUZ_NUFUS</th>\n",
       "      <th>GECE_NUFUS</th>\n",
       "      <th>SEHIRLESME_INDEKSI</th>\n",
       "      <th>YAYA_TRAFIGI</th>\n",
       "      <th>AYLIK_HARCAMA</th>\n",
       "      <th>GIDAVEICECEK</th>\n",
       "      <th>ALKOLTUTUN</th>\n",
       "      <th>EGLENCEKULTUR</th>\n",
       "      <th>...</th>\n",
       "      <th>DENIZYOLU</th>\n",
       "      <th>HAVAYOLU</th>\n",
       "      <th>KARAYOLU</th>\n",
       "      <th>TRAFIK</th>\n",
       "      <th>E_COMMERCE</th>\n",
       "      <th>MODERN_RETAIL</th>\n",
       "      <th>ON_PREMISE</th>\n",
       "      <th>OTHER_THIRD_PARTY</th>\n",
       "      <th>TRADITIONAL_RETAIL</th>\n",
       "      <th>gündüz_gece_oran</th>\n",
       "    </tr>\n",
       "  </thead>\n",
       "  <tbody>\n",
       "    <tr>\n",
       "      <th>0</th>\n",
       "      <td>8891076</td>\n",
       "      <td>4</td>\n",
       "      <td>0.00001</td>\n",
       "      <td>578.0</td>\n",
       "      <td>8.998617</td>\n",
       "      <td>7.9993</td>\n",
       "      <td>5728</td>\n",
       "      <td>0.0</td>\n",
       "      <td>0.0</td>\n",
       "      <td>0.0</td>\n",
       "      <td>...</td>\n",
       "      <td>0.0</td>\n",
       "      <td>0.0</td>\n",
       "      <td>1.0</td>\n",
       "      <td>18.0</td>\n",
       "      <td>0.0</td>\n",
       "      <td>0.0</td>\n",
       "      <td>11.0</td>\n",
       "      <td>0.0</td>\n",
       "      <td>3.0</td>\n",
       "      <td>1.730104e-08</td>\n",
       "    </tr>\n",
       "    <tr>\n",
       "      <th>1</th>\n",
       "      <td>9541699</td>\n",
       "      <td>4</td>\n",
       "      <td>0.00001</td>\n",
       "      <td>578.0</td>\n",
       "      <td>8.998617</td>\n",
       "      <td>7.9993</td>\n",
       "      <td>5728</td>\n",
       "      <td>0.0</td>\n",
       "      <td>0.0</td>\n",
       "      <td>0.0</td>\n",
       "      <td>...</td>\n",
       "      <td>0.0</td>\n",
       "      <td>0.0</td>\n",
       "      <td>2.0</td>\n",
       "      <td>6.0</td>\n",
       "      <td>0.0</td>\n",
       "      <td>0.0</td>\n",
       "      <td>10.0</td>\n",
       "      <td>0.0</td>\n",
       "      <td>2.0</td>\n",
       "      <td>1.730104e-08</td>\n",
       "    </tr>\n",
       "    <tr>\n",
       "      <th>2</th>\n",
       "      <td>9621144</td>\n",
       "      <td>4</td>\n",
       "      <td>0.00001</td>\n",
       "      <td>578.0</td>\n",
       "      <td>8.998617</td>\n",
       "      <td>7.9993</td>\n",
       "      <td>5728</td>\n",
       "      <td>0.0</td>\n",
       "      <td>0.0</td>\n",
       "      <td>0.0</td>\n",
       "      <td>...</td>\n",
       "      <td>0.0</td>\n",
       "      <td>0.0</td>\n",
       "      <td>1.0</td>\n",
       "      <td>17.0</td>\n",
       "      <td>0.0</td>\n",
       "      <td>0.0</td>\n",
       "      <td>11.0</td>\n",
       "      <td>0.0</td>\n",
       "      <td>3.0</td>\n",
       "      <td>1.730104e-08</td>\n",
       "    </tr>\n",
       "  </tbody>\n",
       "</table>\n",
       "<p>3 rows × 48 columns</p>\n",
       "</div>"
      ],
      "text/plain": [
       "   outlet_number  SES  GUNDUZ_NUFUS  GECE_NUFUS  SEHIRLESME_INDEKSI  \\\n",
       "0        8891076    4       0.00001       578.0            8.998617   \n",
       "1        9541699    4       0.00001       578.0            8.998617   \n",
       "2        9621144    4       0.00001       578.0            8.998617   \n",
       "\n",
       "   YAYA_TRAFIGI  AYLIK_HARCAMA  GIDAVEICECEK  ALKOLTUTUN  EGLENCEKULTUR  ...  \\\n",
       "0        7.9993           5728           0.0         0.0            0.0  ...   \n",
       "1        7.9993           5728           0.0         0.0            0.0  ...   \n",
       "2        7.9993           5728           0.0         0.0            0.0  ...   \n",
       "\n",
       "   DENIZYOLU  HAVAYOLU  KARAYOLU  TRAFIK  E_COMMERCE  MODERN_RETAIL  \\\n",
       "0        0.0       0.0       1.0    18.0         0.0            0.0   \n",
       "1        0.0       0.0       2.0     6.0         0.0            0.0   \n",
       "2        0.0       0.0       1.0    17.0         0.0            0.0   \n",
       "\n",
       "   ON_PREMISE  OTHER_THIRD_PARTY  TRADITIONAL_RETAIL  gündüz_gece_oran  \n",
       "0        11.0                0.0                 3.0      1.730104e-08  \n",
       "1        10.0                0.0                 2.0      1.730104e-08  \n",
       "2        11.0                0.0                 3.0      1.730104e-08  \n",
       "\n",
       "[3 rows x 48 columns]"
      ]
     },
     "execution_count": 27,
     "metadata": {},
     "output_type": "execute_result"
    }
   ],
   "source": [
    "model_data.head(3)"
   ]
  },
  {
   "cell_type": "code",
   "execution_count": 28,
   "metadata": {},
   "outputs": [],
   "source": [
    "model_data = model_data.fillna(0)"
   ]
  },
  {
   "cell_type": "code",
   "execution_count": 29,
   "metadata": {},
   "outputs": [],
   "source": [
    "model_data = model_data.drop([\"outlet_number\"                   \n",
    "                             ,'GUNDUZ_NUFUS'\n",
    "                             ,'GECE_NUFUS'],axis=1)"
   ]
  },
  {
   "cell_type": "code",
   "execution_count": 30,
   "metadata": {},
   "outputs": [
    {
     "name": "stdout",
     "output_type": "stream",
     "text": [
      "<class 'pandas.core.frame.DataFrame'>\n",
      "RangeIndex: 491 entries, 0 to 490\n",
      "Data columns (total 45 columns):\n",
      " #   Column                           Non-Null Count  Dtype  \n",
      "---  ------                           --------------  -----  \n",
      " 0   SES                              491 non-null    int64  \n",
      " 1   SEHIRLESME_INDEKSI               491 non-null    float64\n",
      " 2   YAYA_TRAFIGI                     491 non-null    float64\n",
      " 3   AYLIK_HARCAMA                    491 non-null    int64  \n",
      " 4   GIDAVEICECEK                     491 non-null    float64\n",
      " 5   ALKOLTUTUN                       491 non-null    float64\n",
      " 6   EGLENCEKULTUR                    491 non-null    float64\n",
      " 7   LOKANTAOTEL                      491 non-null    float64\n",
      " 8   GIDAVEICECEK_ORAN                491 non-null    float64\n",
      " 9   ALKOLTUTUN_ORAN                  491 non-null    float64\n",
      " 10  EGLENCEKULTUR_ORAN               491 non-null    float64\n",
      " 11  LOKANTAOTEL_ORAN                 491 non-null    float64\n",
      " 12  ISYERI_YOGUNLUGU_SAYI_KM2_YERLE  491 non-null    float64\n",
      " 13  ISYERI_YOGUNLUGU_SAYI_KM2        491 non-null    float64\n",
      " 14  KONUT_YOGUNLUGU_SAYI_KM2_YERLES  491 non-null    float64\n",
      " 15  KONUT_YOGUNLUGU_SAYI_KM2         491 non-null    float64\n",
      " 16  IL_BAZLI_TURIST_YERLI_ISLETME    491 non-null    int64  \n",
      " 17  IL_BAZLI_TURIST_YBN_ISLETME      491 non-null    int64  \n",
      " 18  ORTA_ALT                         491 non-null    float64\n",
      " 19  ORTA                             491 non-null    float64\n",
      " 20  ORTA_UST                         491 non-null    float64\n",
      " 21  UST                              491 non-null    float64\n",
      " 22  AKARYAKIT                        491 non-null    float64\n",
      " 23  ALISVERIS                        491 non-null    float64\n",
      " 24  OUTLET                           491 non-null    float64\n",
      " 25  KONUT                            491 non-null    float64\n",
      " 26  EGITIM                           491 non-null    float64\n",
      " 27  UNIVERSITE                       491 non-null    float64\n",
      " 28  EGLENCE                          491 non-null    float64\n",
      " 29  KULTUREL                         491 non-null    float64\n",
      " 30  TURIZM                           491 non-null    float64\n",
      " 31  SPOR                             491 non-null    float64\n",
      " 32  HASTANE                          491 non-null    float64\n",
      " 33  ASKERI                           491 non-null    float64\n",
      " 34  DEMIRYOLU                        491 non-null    float64\n",
      " 35  DENIZYOLU                        491 non-null    float64\n",
      " 36  HAVAYOLU                         491 non-null    float64\n",
      " 37  KARAYOLU                         491 non-null    float64\n",
      " 38  TRAFIK                           491 non-null    float64\n",
      " 39  E_COMMERCE                       491 non-null    float64\n",
      " 40  MODERN_RETAIL                    491 non-null    float64\n",
      " 41  ON_PREMISE                       491 non-null    float64\n",
      " 42  OTHER_THIRD_PARTY                491 non-null    float64\n",
      " 43  TRADITIONAL_RETAIL               491 non-null    float64\n",
      " 44  gündüz_gece_oran                 491 non-null    float64\n",
      "dtypes: float64(41), int64(4)\n",
      "memory usage: 172.7 KB\n"
     ]
    }
   ],
   "source": [
    "model_data.info()"
   ]
  },
  {
   "cell_type": "markdown",
   "metadata": {},
   "source": [
    "#### Scaling and Normal Dist."
   ]
  },
  {
   "cell_type": "code",
   "execution_count": 31,
   "metadata": {},
   "outputs": [],
   "source": [
    "# define a method to scale data, looping thru the columns, and passing a scaler\n",
    "def scale_data(data):\n",
    "    min_max_scaler = preprocessing.MinMaxScaler()\n",
    "    for col in data.columns:\n",
    "        data[col] = min_max_scaler.fit_transform(data[col].values.reshape(-1, 1))\n",
    "    return data"
   ]
  },
  {
   "cell_type": "code",
   "execution_count": 32,
   "metadata": {},
   "outputs": [],
   "source": [
    "def normal_dist(data):\n",
    "    for col in data.columns:\n",
    "        data[col] = data[col].apply(lambda x: boxcox1p(x,0.25))\n",
    "        stats.boxcox(data[col])[0]\n",
    "    return data"
   ]
  },
  {
   "cell_type": "code",
   "execution_count": 33,
   "metadata": {},
   "outputs": [],
   "source": [
    "def log_data(data):\n",
    "    for col in data.columns:\n",
    "        data[col] = data[col].apply(lambda x: np.log(x))\n",
    "    return data"
   ]
  },
  {
   "cell_type": "code",
   "execution_count": 34,
   "metadata": {},
   "outputs": [],
   "source": [
    "copy_data = model_data.copy()"
   ]
  },
  {
   "cell_type": "code",
   "execution_count": 35,
   "metadata": {},
   "outputs": [
    {
     "data": {
      "text/html": [
       "<div>\n",
       "<style scoped>\n",
       "    .dataframe tbody tr th:only-of-type {\n",
       "        vertical-align: middle;\n",
       "    }\n",
       "\n",
       "    .dataframe tbody tr th {\n",
       "        vertical-align: top;\n",
       "    }\n",
       "\n",
       "    .dataframe thead th {\n",
       "        text-align: right;\n",
       "    }\n",
       "</style>\n",
       "<table border=\"1\" class=\"dataframe\">\n",
       "  <thead>\n",
       "    <tr style=\"text-align: right;\">\n",
       "      <th></th>\n",
       "      <th>SES</th>\n",
       "      <th>SEHIRLESME_INDEKSI</th>\n",
       "      <th>YAYA_TRAFIGI</th>\n",
       "      <th>AYLIK_HARCAMA</th>\n",
       "      <th>GIDAVEICECEK</th>\n",
       "      <th>ALKOLTUTUN</th>\n",
       "      <th>EGLENCEKULTUR</th>\n",
       "      <th>LOKANTAOTEL</th>\n",
       "      <th>GIDAVEICECEK_ORAN</th>\n",
       "      <th>ALKOLTUTUN_ORAN</th>\n",
       "      <th>...</th>\n",
       "      <th>DENIZYOLU</th>\n",
       "      <th>HAVAYOLU</th>\n",
       "      <th>KARAYOLU</th>\n",
       "      <th>TRAFIK</th>\n",
       "      <th>E_COMMERCE</th>\n",
       "      <th>MODERN_RETAIL</th>\n",
       "      <th>ON_PREMISE</th>\n",
       "      <th>OTHER_THIRD_PARTY</th>\n",
       "      <th>TRADITIONAL_RETAIL</th>\n",
       "      <th>gündüz_gece_oran</th>\n",
       "    </tr>\n",
       "  </thead>\n",
       "  <tbody>\n",
       "    <tr>\n",
       "      <th>0</th>\n",
       "      <td>4</td>\n",
       "      <td>8.998617</td>\n",
       "      <td>7.9993</td>\n",
       "      <td>5728</td>\n",
       "      <td>0.0</td>\n",
       "      <td>0.0</td>\n",
       "      <td>0.0</td>\n",
       "      <td>0.0</td>\n",
       "      <td>0.0</td>\n",
       "      <td>0.0</td>\n",
       "      <td>...</td>\n",
       "      <td>0.0</td>\n",
       "      <td>0.0</td>\n",
       "      <td>1.0</td>\n",
       "      <td>18.0</td>\n",
       "      <td>0.0</td>\n",
       "      <td>0.0</td>\n",
       "      <td>11.0</td>\n",
       "      <td>0.0</td>\n",
       "      <td>3.0</td>\n",
       "      <td>1.730104e-08</td>\n",
       "    </tr>\n",
       "    <tr>\n",
       "      <th>1</th>\n",
       "      <td>4</td>\n",
       "      <td>8.998617</td>\n",
       "      <td>7.9993</td>\n",
       "      <td>5728</td>\n",
       "      <td>0.0</td>\n",
       "      <td>0.0</td>\n",
       "      <td>0.0</td>\n",
       "      <td>0.0</td>\n",
       "      <td>0.0</td>\n",
       "      <td>0.0</td>\n",
       "      <td>...</td>\n",
       "      <td>0.0</td>\n",
       "      <td>0.0</td>\n",
       "      <td>2.0</td>\n",
       "      <td>6.0</td>\n",
       "      <td>0.0</td>\n",
       "      <td>0.0</td>\n",
       "      <td>10.0</td>\n",
       "      <td>0.0</td>\n",
       "      <td>2.0</td>\n",
       "      <td>1.730104e-08</td>\n",
       "    </tr>\n",
       "  </tbody>\n",
       "</table>\n",
       "<p>2 rows × 45 columns</p>\n",
       "</div>"
      ],
      "text/plain": [
       "   SES  SEHIRLESME_INDEKSI  YAYA_TRAFIGI  AYLIK_HARCAMA  GIDAVEICECEK  \\\n",
       "0    4            8.998617        7.9993           5728           0.0   \n",
       "1    4            8.998617        7.9993           5728           0.0   \n",
       "\n",
       "   ALKOLTUTUN  EGLENCEKULTUR  LOKANTAOTEL  GIDAVEICECEK_ORAN  ALKOLTUTUN_ORAN  \\\n",
       "0         0.0            0.0          0.0                0.0              0.0   \n",
       "1         0.0            0.0          0.0                0.0              0.0   \n",
       "\n",
       "   ...  DENIZYOLU  HAVAYOLU  KARAYOLU  TRAFIK  E_COMMERCE  MODERN_RETAIL  \\\n",
       "0  ...        0.0       0.0       1.0    18.0         0.0            0.0   \n",
       "1  ...        0.0       0.0       2.0     6.0         0.0            0.0   \n",
       "\n",
       "   ON_PREMISE  OTHER_THIRD_PARTY  TRADITIONAL_RETAIL  gündüz_gece_oran  \n",
       "0        11.0                0.0                 3.0      1.730104e-08  \n",
       "1        10.0                0.0                 2.0      1.730104e-08  \n",
       "\n",
       "[2 rows x 45 columns]"
      ]
     },
     "execution_count": 35,
     "metadata": {},
     "output_type": "execute_result"
    }
   ],
   "source": [
    "copy_data.head(2)"
   ]
  },
  {
   "cell_type": "code",
   "execution_count": 36,
   "metadata": {},
   "outputs": [],
   "source": [
    "copy_data = copy_data.drop([\"IL_BAZLI_TURIST_YERLI_ISLETME\",\"IL_BAZLI_TURIST_YBN_ISLETME\"],axis=1)"
   ]
  },
  {
   "cell_type": "code",
   "execution_count": 37,
   "metadata": {},
   "outputs": [],
   "source": [
    "copy_data[copy_data < 0] = 0"
   ]
  },
  {
   "cell_type": "code",
   "execution_count": 38,
   "metadata": {},
   "outputs": [],
   "source": [
    "copy_data.replace({0: 0.00001}, inplace=True)"
   ]
  },
  {
   "cell_type": "markdown",
   "metadata": {},
   "source": [
    "#### Normal Dist. Part "
   ]
  },
  {
   "cell_type": "markdown",
   "metadata": {},
   "source": [
    "Comment satırı içinde olan sütunlar, sabit(aynı) değerler içerdiğinden normalize edilemeyen değerlerdir. (ilerde buna göre bir fonksiyon yazabilirsin)"
   ]
  },
  {
   "cell_type": "code",
   "execution_count": 39,
   "metadata": {},
   "outputs": [
    {
     "name": "stderr",
     "output_type": "stream",
     "text": [
      "/opt/conda/lib/python3.7/site-packages/numpy/core/_methods.py:205: RuntimeWarning: overflow encountered in multiply\n",
      "  x = um.multiply(x, x, out=x)\n",
      "/opt/conda/lib/python3.7/site-packages/numpy/core/_methods.py:216: RuntimeWarning: overflow encountered in reduce\n",
      "  ret = umr_sum(x, axis, dtype, out, keepdims)\n"
     ]
    }
   ],
   "source": [
    "copy_data[\"SES\"] = stats.boxcox(copy_data[\"SES\"])[0]\n",
    "copy_data[\"SEHIRLESME_INDEKSI\"] = stats.boxcox(copy_data[\"SEHIRLESME_INDEKSI\"])[0]\n",
    "copy_data[\"YAYA_TRAFIGI\"] = stats.boxcox(copy_data[\"YAYA_TRAFIGI\"])[0]\n",
    "copy_data[\"AYLIK_HARCAMA\"] = stats.boxcox(copy_data[\"AYLIK_HARCAMA\"])[0]\n",
    "copy_data[\"GIDAVEICECEK\"] = stats.boxcox(copy_data[\"GIDAVEICECEK\"])[0]\n",
    "copy_data[\"ALKOLTUTUN\"] = stats.boxcox(copy_data[\"ALKOLTUTUN\"])[0]\n",
    "copy_data[\"EGLENCEKULTUR\"] = stats.boxcox(copy_data[\"EGLENCEKULTUR\"])[0]\n",
    "copy_data[\"LOKANTAOTEL\"] = stats.boxcox(copy_data[\"LOKANTAOTEL\"])[0]\n",
    "copy_data[\"GIDAVEICECEK_ORAN\"] = stats.boxcox(copy_data[\"GIDAVEICECEK_ORAN\"])[0]\n",
    "copy_data[\"ALKOLTUTUN_ORAN\"] = stats.boxcox(copy_data[\"ALKOLTUTUN_ORAN\"])[0]\n",
    "copy_data[\"EGLENCEKULTUR_ORAN\"] = stats.boxcox(copy_data[\"EGLENCEKULTUR_ORAN\"])[0]\n",
    "copy_data[\"LOKANTAOTEL_ORAN\"] = stats.boxcox(copy_data[\"LOKANTAOTEL_ORAN\"])[0]\n",
    "copy_data[\"ISYERI_YOGUNLUGU_SAYI_KM2_YERLE\"] = stats.boxcox(copy_data[\"ISYERI_YOGUNLUGU_SAYI_KM2_YERLE\"])[0]\n",
    "copy_data[\"ISYERI_YOGUNLUGU_SAYI_KM2\"] = stats.boxcox(copy_data[\"ISYERI_YOGUNLUGU_SAYI_KM2\"])[0]\n",
    "copy_data[\"KONUT_YOGUNLUGU_SAYI_KM2_YERLES\"] = stats.boxcox(copy_data[\"KONUT_YOGUNLUGU_SAYI_KM2_YERLES\"])[0]\n",
    "copy_data[\"KONUT_YOGUNLUGU_SAYI_KM2\"] = stats.boxcox(copy_data[\"KONUT_YOGUNLUGU_SAYI_KM2\"])[0]\n",
    "#copy_data[\"IL_BAZLI_TURIST_YERLI_ISLETME\"] = stats.boxcox(copy_data[\"IL_BAZLI_TURIST_YERLI_ISLETME\"])[0]\n",
    "#copy_data[\"IL_BAZLI_TURIST_YBN_ISLETME\"] = stats.boxcox(copy_data[\"IL_BAZLI_TURIST_YBN_ISLETME\"])[0]\n",
    "copy_data[\"ORTA_ALT\"] = stats.boxcox(copy_data[\"ORTA_ALT\"])[0]\n",
    "copy_data[\"ORTA\"] = stats.boxcox(copy_data[\"ORTA\"])[0]\n",
    "copy_data[\"ORTA_UST\"] = stats.boxcox(copy_data[\"ORTA_UST\"])[0]\n",
    "#copy_data[\"UST\"] = stats.boxcox(copy_data[\"UST\"])[0]\n",
    "copy_data[\"AKARYAKIT\"] = stats.boxcox(copy_data[\"AKARYAKIT\"])[0]\n",
    "copy_data[\"ALISVERIS\"] = stats.boxcox(copy_data[\"ALISVERIS\"])[0]\n",
    "copy_data[\"OUTLET\"] = stats.boxcox(copy_data[\"OUTLET\"])[0]\n",
    "copy_data[\"KONUT\"] = stats.boxcox(copy_data[\"KONUT\"])[0]\n",
    "copy_data[\"EGITIM\"] = stats.boxcox(copy_data[\"EGITIM\"])[0]\n",
    "copy_data[\"UNIVERSITE\"] = stats.boxcox(copy_data[\"UNIVERSITE\"])[0]\n",
    "copy_data[\"EGLENCE\"] = stats.boxcox(copy_data[\"EGLENCE\"])[0]\n",
    "copy_data[\"KULTUREL\"] = stats.boxcox(copy_data[\"KULTUREL\"])[0]\n",
    "copy_data[\"TURIZM\"] = stats.boxcox(copy_data[\"TURIZM\"])[0]\n",
    "copy_data[\"SPOR\"] = stats.boxcox(copy_data[\"SPOR\"])[0]\n",
    "copy_data[\"HASTANE\"] = stats.boxcox(copy_data[\"HASTANE\"])[0]\n",
    "copy_data[\"ASKERI\"] = stats.boxcox(copy_data[\"ASKERI\"])[0]\n",
    "#copy_data[\"DEMIRYOLU\"] = stats.boxcox(copy_data[\"DEMIRYOLU\"])[0]\n",
    "#copy_data[\"DENIZYOLU\"] = stats.boxcox(copy_data[\"DENIZYOLU\"])[0]\n",
    "#copy_data[\"HAVAYOLU\"] = stats.boxcox(copy_data[\"HAVAYOLU\"])[0]\n",
    "copy_data[\"KARAYOLU\"] = stats.boxcox(copy_data[\"KARAYOLU\"])[0]\n",
    "copy_data[\"TRAFIK\"] = stats.boxcox(copy_data[\"TRAFIK\"])[0]\n",
    "copy_data[\"E_COMMERCE\"] = stats.boxcox(copy_data[\"E_COMMERCE\"])[0]\n",
    "copy_data[\"MODERN_RETAIL\"] = stats.boxcox(copy_data[\"MODERN_RETAIL\"])[0]\n",
    "copy_data[\"ON_PREMISE\"] = stats.boxcox(copy_data[\"ON_PREMISE\"])[0]\n",
    "copy_data[\"OTHER_THIRD_PARTY\"] = stats.boxcox(copy_data[\"OTHER_THIRD_PARTY\"])[0]\n",
    "copy_data[\"TRADITIONAL_RETAIL\"] = stats.boxcox(copy_data[\"TRADITIONAL_RETAIL\"])[0]"
   ]
  },
  {
   "cell_type": "code",
   "execution_count": 40,
   "metadata": {},
   "outputs": [
    {
     "data": {
      "text/plain": [
       "<seaborn.axisgrid.FacetGrid at 0x7ff7ae58fb90>"
      ]
     },
     "execution_count": 40,
     "metadata": {},
     "output_type": "execute_result"
    },
    {
     "data": {
      "image/png": "[encoded data removed]",
      "text/plain": [
       "<Figure size 360x360 with 1 Axes>"
      ]
     },
     "metadata": {},
     "output_type": "display_data"
    }
   ],
   "source": [
    "sns.displot(model_data['AYLIK_HARCAMA'])"
   ]
  },
  {
   "cell_type": "code",
   "execution_count": 41,
   "metadata": {},
   "outputs": [
    {
     "data": {
      "text/plain": [
       "<seaborn.axisgrid.FacetGrid at 0x7ff7ae58ffd0>"
      ]
     },
     "execution_count": 41,
     "metadata": {},
     "output_type": "execute_result"
    },
    {
     "data": {
      "image/png": "[encoded data removed]",
      "text/plain": [
       "<Figure size 360x360 with 1 Axes>"
      ]
     },
     "metadata": {},
     "output_type": "display_data"
    }
   ],
   "source": [
    "sns.displot(copy_data[\"AYLIK_HARCAMA\"])"
   ]
  },
  {
   "cell_type": "code",
   "execution_count": 42,
   "metadata": {},
   "outputs": [
    {
     "data": {
      "text/plain": [
       "<seaborn.axisgrid.FacetGrid at 0x7ff7adbc7510>"
      ]
     },
     "execution_count": 42,
     "metadata": {},
     "output_type": "execute_result"
    },
    {
     "data": {
      "image/png": "[encoded data removed]",
      "text/plain": [
       "<Figure size 360x360 with 1 Axes>"
      ]
     },
     "metadata": {},
     "output_type": "display_data"
    }
   ],
   "source": [
    "sns.displot(model_data[\"LOKANTAOTEL\"])"
   ]
  },
  {
   "cell_type": "code",
   "execution_count": 43,
   "metadata": {},
   "outputs": [
    {
     "data": {
      "text/plain": [
       "<seaborn.axisgrid.FacetGrid at 0x7ff7adb56710>"
      ]
     },
     "execution_count": 43,
     "metadata": {},
     "output_type": "execute_result"
    },
    {
     "data": {
      "image/png": "[encoded data removed]",
      "text/plain": [
       "<Figure size 360x360 with 1 Axes>"
      ]
     },
     "metadata": {},
     "output_type": "display_data"
    }
   ],
   "source": [
    "sns.displot(copy_data[\"LOKANTAOTEL\"])"
   ]
  },
  {
   "cell_type": "code",
   "execution_count": 44,
   "metadata": {},
   "outputs": [
    {
     "data": {
      "text/plain": [
       "<matplotlib.axes._subplots.AxesSubplot at 0x7ff7adaa7390>"
      ]
     },
     "execution_count": 44,
     "metadata": {},
     "output_type": "execute_result"
    },
    {
     "data": {
      "image/png": "[encoded data removed]",
      "text/plain": [
       "<Figure size 432x288 with 1 Axes>"
      ]
     },
     "metadata": {},
     "output_type": "display_data"
    }
   ],
   "source": [
    "model_data.SES.hist()"
   ]
  },
  {
   "cell_type": "code",
   "execution_count": 45,
   "metadata": {},
   "outputs": [
    {
     "data": {
      "text/plain": [
       "<matplotlib.axes._subplots.AxesSubplot at 0x7ff7ad9b4b90>"
      ]
     },
     "execution_count": 45,
     "metadata": {},
     "output_type": "execute_result"
    },
    {
     "data": {
      "image/png": "[encoded data removed]",
      "text/plain": [
       "<Figure size 432x288 with 1 Axes>"
      ]
     },
     "metadata": {},
     "output_type": "display_data"
    }
   ],
   "source": [
    "copy_data.SES.hist()"
   ]
  },
  {
   "cell_type": "markdown",
   "metadata": {},
   "source": [
    "#### Scaling Part"
   ]
  },
  {
   "cell_type": "code",
   "execution_count": 46,
   "metadata": {},
   "outputs": [],
   "source": [
    "scale_df = copy_data.copy()"
   ]
  },
  {
   "cell_type": "code",
   "execution_count": 47,
   "metadata": {},
   "outputs": [],
   "source": [
    "scale_df = scale_data(scale_df)"
   ]
  },
  {
   "cell_type": "code",
   "execution_count": 48,
   "metadata": {},
   "outputs": [
    {
     "data": {
      "text/plain": [
       "<seaborn.axisgrid.FacetGrid at 0x7ff7ad9ad750>"
      ]
     },
     "execution_count": 48,
     "metadata": {},
     "output_type": "execute_result"
    },
    {
     "data": {
      "image/png": "[encoded data removed]",
      "text/plain": [
       "<Figure size 360x360 with 1 Axes>"
      ]
     },
     "metadata": {},
     "output_type": "display_data"
    }
   ],
   "source": [
    "sns.displot(copy_data['AYLIK_HARCAMA'])"
   ]
  },
  {
   "cell_type": "code",
   "execution_count": 49,
   "metadata": {},
   "outputs": [
    {
     "data": {
      "text/plain": [
       "<seaborn.axisgrid.FacetGrid at 0x7ff7ad9f0890>"
      ]
     },
     "execution_count": 49,
     "metadata": {},
     "output_type": "execute_result"
    },
    {
     "data": {
      "image/png": "[encoded data removed]",
      "text/plain": [
       "<Figure size 360x360 with 1 Axes>"
      ]
     },
     "metadata": {},
     "output_type": "display_data"
    }
   ],
   "source": [
    "sns.displot(scale_df[\"AYLIK_HARCAMA\"])"
   ]
  },
  {
   "cell_type": "markdown",
   "metadata": {},
   "source": [
    "# Model "
   ]
  },
  {
   "cell_type": "code",
   "execution_count": 50,
   "metadata": {},
   "outputs": [
    {
     "data": {
      "text/plain": [
       "False"
      ]
     },
     "execution_count": 50,
     "metadata": {},
     "output_type": "execute_result"
    }
   ],
   "source": [
    "scale_df.isna().all().all()"
   ]
  },
  {
   "cell_type": "markdown",
   "metadata": {},
   "source": [
    "### Read Model"
   ]
  },
  {
   "cell_type": "code",
   "execution_count": 51,
   "metadata": {},
   "outputs": [],
   "source": [
    "# load the model\n",
    "hrc_model = pickle.load(open(\"model.pkl\", \"rb\"))"
   ]
  },
  {
   "cell_type": "code",
   "execution_count": 52,
   "metadata": {},
   "outputs": [
    {
     "data": {
      "text/plain": [
       "\"with open('hrc_model.pickle', 'rb') as f:\\n    hrc_model = pickle.load(f)\""
      ]
     },
     "execution_count": 52,
     "metadata": {},
     "output_type": "execute_result"
    }
   ],
   "source": [
    "'''with open('hrc_model.pickle', 'rb') as f:\n",
    "    hrc_model = pickle.load(f)'''"
   ]
  },
  {
   "cell_type": "code",
   "execution_count": 53,
   "metadata": {},
   "outputs": [],
   "source": [
    "hrc_preds = hrc_model.fit_predict(scale_df)"
   ]
  },
  {
   "cell_type": "code",
   "execution_count": 54,
   "metadata": {},
   "outputs": [],
   "source": [
    "final_df = prep_data.copy()"
   ]
  },
  {
   "cell_type": "code",
   "execution_count": 55,
   "metadata": {},
   "outputs": [],
   "source": [
    "final_df[\"hrc_preds\"] = hrc_preds"
   ]
  },
  {
   "cell_type": "code",
   "execution_count": 56,
   "metadata": {},
   "outputs": [
    {
     "data": {
      "text/plain": [
       "array([0, 1])"
      ]
     },
     "execution_count": 56,
     "metadata": {},
     "output_type": "execute_result"
    }
   ],
   "source": [
    "final_df[\"hrc_preds\"].unique()"
   ]
  },
  {
   "cell_type": "code",
   "execution_count": 57,
   "metadata": {},
   "outputs": [
    {
     "data": {
      "text/plain": [
       "1    326\n",
       "0    165\n",
       "Name: hrc_preds, dtype: int64"
      ]
     },
     "execution_count": 57,
     "metadata": {},
     "output_type": "execute_result"
    }
   ],
   "source": [
    "final_df['hrc_preds'].value_counts()"
   ]
  },
  {
   "cell_type": "code",
   "execution_count": 58,
   "metadata": {},
   "outputs": [
    {
     "data": {
      "text/html": [
       "<div>\n",
       "<style scoped>\n",
       "    .dataframe tbody tr th:only-of-type {\n",
       "        vertical-align: middle;\n",
       "    }\n",
       "\n",
       "    .dataframe tbody tr th {\n",
       "        vertical-align: top;\n",
       "    }\n",
       "\n",
       "    .dataframe thead th {\n",
       "        text-align: right;\n",
       "    }\n",
       "</style>\n",
       "<table border=\"1\" class=\"dataframe\">\n",
       "  <thead>\n",
       "    <tr style=\"text-align: right;\">\n",
       "      <th></th>\n",
       "      <th>outlet_number</th>\n",
       "      <th>outlet_name</th>\n",
       "      <th>GEOGPOINT</th>\n",
       "      <th>IDARIID</th>\n",
       "      <th>MAIN_CHANNEL</th>\n",
       "      <th>SES</th>\n",
       "      <th>YAS_CLUSTER</th>\n",
       "      <th>ILADI</th>\n",
       "      <th>ILCEADI</th>\n",
       "      <th>HANE_BUYUKLUGU</th>\n",
       "      <th>...</th>\n",
       "      <th>DAMLA_MINERA</th>\n",
       "      <th>DAMLA_WATER</th>\n",
       "      <th>EXOTIC</th>\n",
       "      <th>FANTA</th>\n",
       "      <th>FUSETEA</th>\n",
       "      <th>MONSTER</th>\n",
       "      <th>POWERADE</th>\n",
       "      <th>SCHWEPPES</th>\n",
       "      <th>SPRITE</th>\n",
       "      <th>hrc_preds</th>\n",
       "    </tr>\n",
       "  </thead>\n",
       "  <tbody>\n",
       "    <tr>\n",
       "      <th>0</th>\n",
       "      <td>8891076</td>\n",
       "      <td>HODRI MEYDAN BUFE</td>\n",
       "      <td>POINT(30.28351518 37.718271)</td>\n",
       "      <td>21527</td>\n",
       "      <td>TRADITIONAL RETAIL</td>\n",
       "      <td>C1</td>\n",
       "      <td>OLD</td>\n",
       "      <td>Burdur</td>\n",
       "      <td>Merkez</td>\n",
       "      <td>0.974705</td>\n",
       "      <td>...</td>\n",
       "      <td>0.845</td>\n",
       "      <td>1875.400</td>\n",
       "      <td>0.0</td>\n",
       "      <td>117.714</td>\n",
       "      <td>209.188</td>\n",
       "      <td>3.614</td>\n",
       "      <td>2.114</td>\n",
       "      <td>16.904</td>\n",
       "      <td>60.420</td>\n",
       "      <td>0</td>\n",
       "    </tr>\n",
       "    <tr>\n",
       "      <th>1</th>\n",
       "      <td>9541699</td>\n",
       "      <td>ESILA BUFE</td>\n",
       "      <td>POINT(30.28244871 37.71756411)</td>\n",
       "      <td>21527</td>\n",
       "      <td>TRADITIONAL RETAIL</td>\n",
       "      <td>C1</td>\n",
       "      <td>OLD</td>\n",
       "      <td>Burdur</td>\n",
       "      <td>Merkez</td>\n",
       "      <td>0.974705</td>\n",
       "      <td>...</td>\n",
       "      <td>7.605</td>\n",
       "      <td>576.874</td>\n",
       "      <td>0.0</td>\n",
       "      <td>96.874</td>\n",
       "      <td>72.395</td>\n",
       "      <td>4.807</td>\n",
       "      <td>0.000</td>\n",
       "      <td>0.000</td>\n",
       "      <td>5.198</td>\n",
       "      <td>0</td>\n",
       "    </tr>\n",
       "    <tr>\n",
       "      <th>2</th>\n",
       "      <td>9621144</td>\n",
       "      <td>GUNDUZ BUFE</td>\n",
       "      <td>POINT(30.28447035 37.71839707)</td>\n",
       "      <td>21527</td>\n",
       "      <td>TRADITIONAL RETAIL</td>\n",
       "      <td>C1</td>\n",
       "      <td>OLD</td>\n",
       "      <td>Burdur</td>\n",
       "      <td>Merkez</td>\n",
       "      <td>0.974705</td>\n",
       "      <td>...</td>\n",
       "      <td>5.070</td>\n",
       "      <td>295.129</td>\n",
       "      <td>0.0</td>\n",
       "      <td>94.484</td>\n",
       "      <td>107.273</td>\n",
       "      <td>0.000</td>\n",
       "      <td>0.000</td>\n",
       "      <td>0.000</td>\n",
       "      <td>26.689</td>\n",
       "      <td>0</td>\n",
       "    </tr>\n",
       "    <tr>\n",
       "      <th>3</th>\n",
       "      <td>8891165</td>\n",
       "      <td>OZTURK MARKET</td>\n",
       "      <td>POINT(30.2943951900001 37.71764987)</td>\n",
       "      <td>21529</td>\n",
       "      <td>TRADITIONAL RETAIL</td>\n",
       "      <td>D</td>\n",
       "      <td>OLD</td>\n",
       "      <td>Burdur</td>\n",
       "      <td>Merkez</td>\n",
       "      <td>1.959854</td>\n",
       "      <td>...</td>\n",
       "      <td>28.730</td>\n",
       "      <td>188.097</td>\n",
       "      <td>0.0</td>\n",
       "      <td>472.979</td>\n",
       "      <td>130.444</td>\n",
       "      <td>2.114</td>\n",
       "      <td>0.000</td>\n",
       "      <td>0.000</td>\n",
       "      <td>44.949</td>\n",
       "      <td>0</td>\n",
       "    </tr>\n",
       "    <tr>\n",
       "      <th>4</th>\n",
       "      <td>9691258</td>\n",
       "      <td>OZMERT</td>\n",
       "      <td>POINT(30.28918 37.718795)</td>\n",
       "      <td>21533</td>\n",
       "      <td>TRADITIONAL RETAIL</td>\n",
       "      <td>C2</td>\n",
       "      <td>SIFIR</td>\n",
       "      <td>Burdur</td>\n",
       "      <td>Merkez</td>\n",
       "      <td>1.393728</td>\n",
       "      <td>...</td>\n",
       "      <td>0.000</td>\n",
       "      <td>0.000</td>\n",
       "      <td>0.0</td>\n",
       "      <td>35.311</td>\n",
       "      <td>34.824</td>\n",
       "      <td>1.057</td>\n",
       "      <td>4.228</td>\n",
       "      <td>0.000</td>\n",
       "      <td>11.011</td>\n",
       "      <td>0</td>\n",
       "    </tr>\n",
       "  </tbody>\n",
       "</table>\n",
       "<p>5 rows × 72 columns</p>\n",
       "</div>"
      ],
      "text/plain": [
       "   outlet_number        outlet_name                            GEOGPOINT  \\\n",
       "0        8891076  HODRI MEYDAN BUFE         POINT(30.28351518 37.718271)   \n",
       "1        9541699         ESILA BUFE       POINT(30.28244871 37.71756411)   \n",
       "2        9621144        GUNDUZ BUFE       POINT(30.28447035 37.71839707)   \n",
       "3        8891165      OZTURK MARKET  POINT(30.2943951900001 37.71764987)   \n",
       "4        9691258             OZMERT            POINT(30.28918 37.718795)   \n",
       "\n",
       "   IDARIID        MAIN_CHANNEL SES YAS_CLUSTER   ILADI ILCEADI  \\\n",
       "0    21527  TRADITIONAL RETAIL  C1         OLD  Burdur  Merkez   \n",
       "1    21527  TRADITIONAL RETAIL  C1         OLD  Burdur  Merkez   \n",
       "2    21527  TRADITIONAL RETAIL  C1         OLD  Burdur  Merkez   \n",
       "3    21529  TRADITIONAL RETAIL   D         OLD  Burdur  Merkez   \n",
       "4    21533  TRADITIONAL RETAIL  C2       SIFIR  Burdur  Merkez   \n",
       "\n",
       "   HANE_BUYUKLUGU  ...  DAMLA_MINERA  DAMLA_WATER  EXOTIC    FANTA  FUSETEA  \\\n",
       "0        0.974705  ...         0.845     1875.400     0.0  117.714  209.188   \n",
       "1        0.974705  ...         7.605      576.874     0.0   96.874   72.395   \n",
       "2        0.974705  ...         5.070      295.129     0.0   94.484  107.273   \n",
       "3        1.959854  ...        28.730      188.097     0.0  472.979  130.444   \n",
       "4        1.393728  ...         0.000        0.000     0.0   35.311   34.824   \n",
       "\n",
       "   MONSTER  POWERADE  SCHWEPPES  SPRITE  hrc_preds  \n",
       "0    3.614     2.114     16.904  60.420          0  \n",
       "1    4.807     0.000      0.000   5.198          0  \n",
       "2    0.000     0.000      0.000  26.689          0  \n",
       "3    2.114     0.000      0.000  44.949          0  \n",
       "4    1.057     4.228      0.000  11.011          0  \n",
       "\n",
       "[5 rows x 72 columns]"
      ]
     },
     "execution_count": 58,
     "metadata": {},
     "output_type": "execute_result"
    }
   ],
   "source": [
    "final_df.head()"
   ]
  },
  {
   "cell_type": "code",
   "execution_count": 59,
   "metadata": {},
   "outputs": [],
   "source": [
    "comparison_df2 = pd.merge(iller_data, final_df, on='outlet_number')"
   ]
  },
  {
   "cell_type": "code",
   "execution_count": 60,
   "metadata": {},
   "outputs": [
    {
     "data": {
      "text/html": [
       "<div>\n",
       "<style scoped>\n",
       "    .dataframe tbody tr th:only-of-type {\n",
       "        vertical-align: middle;\n",
       "    }\n",
       "\n",
       "    .dataframe tbody tr th {\n",
       "        vertical-align: top;\n",
       "    }\n",
       "\n",
       "    .dataframe thead th {\n",
       "        text-align: right;\n",
       "    }\n",
       "</style>\n",
       "<table border=\"1\" class=\"dataframe\">\n",
       "  <thead>\n",
       "    <tr style=\"text-align: right;\">\n",
       "      <th></th>\n",
       "      <th>high_traffic</th>\n",
       "      <th>hrc_preds</th>\n",
       "    </tr>\n",
       "  </thead>\n",
       "  <tbody>\n",
       "  </tbody>\n",
       "</table>\n",
       "</div>"
      ],
      "text/plain": [
       "Empty DataFrame\n",
       "Columns: [high_traffic, hrc_preds]\n",
       "Index: []"
      ]
     },
     "execution_count": 60,
     "metadata": {},
     "output_type": "execute_result"
    }
   ],
   "source": [
    "conf_df2 = comparison_df2[[\"high_traffic\",\"hrc_preds\"]]\n",
    "conf_df2"
   ]
  },
  {
   "cell_type": "code",
   "execution_count": 61,
   "metadata": {},
   "outputs": [],
   "source": [
    "TP_ = len(conf_df2.query(\"high_traffic == 1 & hrc_preds == 1\")) \n",
    "FP_ = len(conf_df2.query(\"high_traffic == 1 & hrc_preds == 0\"))\n",
    "FN_ = len(conf_df2.query(\"high_traffic == 0 & hrc_preds == 1\"))\n",
    "TN_ = len(conf_df2.query(\"high_traffic == 0 & hrc_preds == 0\"))"
   ]
  },
  {
   "cell_type": "code",
   "execution_count": 62,
   "metadata": {},
   "outputs": [
    {
     "name": "stdout",
     "output_type": "stream",
     "text": [
      "TP is: 0\n",
      "FP is: 0\n",
      "FN is: 0\n",
      "TN is: 0\n"
     ]
    }
   ],
   "source": [
    "print(\"TP is:\", TP_)\n",
    "print(\"FP is:\", FP_)\n",
    "print(\"FN is:\", FN_)\n",
    "print(\"TN is:\", TN_)"
   ]
  },
  {
   "cell_type": "code",
   "execution_count": 63,
   "metadata": {
    "collapsed": true,
    "jupyter": {
     "outputs_hidden": true,
     "source_hidden": true
    }
   },
   "outputs": [
    {
     "ename": "ZeroDivisionError",
     "evalue": "division by zero",
     "output_type": "error",
     "traceback": [
      "\u001b[0;31m---------------------------------------------------------------------------\u001b[0m",
      "\u001b[0;31mZeroDivisionError\u001b[0m                         Traceback (most recent call last)",
      "\u001b[0;32m<ipython-input-63-5af9df85753e>\u001b[0m in \u001b[0;36m<module>\u001b[0;34m\u001b[0m\n\u001b[0;32m----> 1\u001b[0;31m \u001b[0mprint\u001b[0m\u001b[0;34m(\u001b[0m\u001b[0;34m\"Accuracy is: %\"\u001b[0m\u001b[0;34m,\u001b[0m \u001b[0;34m(\u001b[0m\u001b[0mTP_\u001b[0m\u001b[0;34m+\u001b[0m\u001b[0mTN_\u001b[0m\u001b[0;34m)\u001b[0m\u001b[0;34m/\u001b[0m\u001b[0;34m(\u001b[0m\u001b[0mTP_\u001b[0m\u001b[0;34m+\u001b[0m\u001b[0mTN_\u001b[0m\u001b[0;34m+\u001b[0m\u001b[0mFN_\u001b[0m\u001b[0;34m+\u001b[0m\u001b[0mFP_\u001b[0m\u001b[0;34m)\u001b[0m\u001b[0;34m*\u001b[0m\u001b[0;36m100\u001b[0m\u001b[0;34m)\u001b[0m\u001b[0;34m\u001b[0m\u001b[0;34m\u001b[0m\u001b[0m\n\u001b[0m",
      "\u001b[0;31mZeroDivisionError\u001b[0m: division by zero"
     ]
    }
   ],
   "source": [
    "print(\"Accuracy is: %\", (TP_+TN_)/(TP_+TN_+FN_+FP_)*100)"
   ]
  },
  {
   "cell_type": "code",
   "execution_count": 64,
   "metadata": {},
   "outputs": [],
   "source": [
    "# extract coordinates\n",
    "final_df[\"x\"] = final_df[\"GEOGPOINT\"].apply(lambda x: x.split(\")\")[0].split(\"POINT(\")[1].split(\" \")[1])\n",
    "final_df[\"y\"] = final_df[\"GEOGPOINT\"].apply(lambda x: x.split(\")\")[0].split(\"POINT(\")[1].split(\" \")[0])"
   ]
  },
  {
   "cell_type": "code",
   "execution_count": 65,
   "metadata": {},
   "outputs": [],
   "source": [
    "final_df[\"y\"] = pd.to_numeric(final_df[\"y\"], downcast=\"float\")\n",
    "final_df[\"x\"] = pd.to_numeric(final_df[\"x\"], downcast=\"float\")"
   ]
  },
  {
   "cell_type": "markdown",
   "metadata": {},
   "source": [
    "## Decision Points"
   ]
  },
  {
   "cell_type": "code",
   "execution_count": 66,
   "metadata": {},
   "outputs": [],
   "source": [
    "# decision tree için kullanılacak bu data; içinde scale edilmiş değerler yanında hier. clustering prediction'larını da içerir.\n",
    "decision_df = scale_df.copy()"
   ]
  },
  {
   "cell_type": "code",
   "execution_count": 67,
   "metadata": {},
   "outputs": [],
   "source": [
    "decision_df['hrc_preds'] = hrc_preds"
   ]
  },
  {
   "cell_type": "code",
   "execution_count": 68,
   "metadata": {},
   "outputs": [
    {
     "name": "stdout",
     "output_type": "stream",
     "text": [
      "|--- feature_21 <= 0.47\n",
      "|   |--- feature_9 <= 0.38\n",
      "|   |   |--- class: 0\n",
      "|   |--- feature_9 >  0.38\n",
      "|   |   |--- feature_22 <= 0.71\n",
      "|   |   |   |--- class: 1\n",
      "|   |   |--- feature_22 >  0.71\n",
      "|   |   |   |--- feature_1 <= 0.58\n",
      "|   |   |   |   |--- class: 1\n",
      "|   |   |   |--- feature_1 >  0.58\n",
      "|   |   |   |   |--- class: 0\n",
      "|--- feature_21 >  0.47\n",
      "|   |--- feature_17 <= 0.49\n",
      "|   |   |--- feature_8 <= 0.88\n",
      "|   |   |   |--- class: 0\n",
      "|   |   |--- feature_8 >  0.88\n",
      "|   |   |   |--- feature_27 <= 0.50\n",
      "|   |   |   |   |--- class: 1\n",
      "|   |   |   |--- feature_27 >  0.50\n",
      "|   |   |   |   |--- class: 0\n",
      "|   |--- feature_17 >  0.49\n",
      "|   |   |--- class: 0\n",
      "\n"
     ]
    }
   ],
   "source": [
    "from sklearn.model_selection import train_test_split\n",
    "\n",
    "x = decision_df.drop('hrc_preds', axis=1)\n",
    "y = decision_df['hrc_preds']\n",
    "x_train, x_test, y_train, y_test = train_test_split(x, y, test_size=0.33, random_state=41)\n",
    "    \n",
    "dc = DecisionTreeClassifier(criterion=\"entropy\", random_state=42) \n",
    "dc.fit(x_train, y_train)\n",
    "dc_pred = dc.predict(x_test)\n",
    "\n",
    "d_text = tree.export_text(dc)\n",
    "print(d_text)"
   ]
  },
  {
   "cell_type": "code",
   "execution_count": 69,
   "metadata": {},
   "outputs": [
    {
     "data": {
      "text/plain": [
       "0.9263803680981595"
      ]
     },
     "execution_count": 69,
     "metadata": {},
     "output_type": "execute_result"
    }
   ],
   "source": [
    "from sklearn import metrics\n",
    "metrics.accuracy_score(y_test, dc_pred)"
   ]
  },
  {
   "cell_type": "code",
   "execution_count": 70,
   "metadata": {},
   "outputs": [
    {
     "data": {
      "text/plain": [
       "array([0.        , 0.01089852, 0.        , 0.        , 0.        ,\n",
       "       0.        , 0.        , 0.        , 0.02207926, 0.24399268,\n",
       "       0.        , 0.        , 0.        , 0.        , 0.        ,\n",
       "       0.        , 0.        , 0.02534547, 0.        , 0.        ,\n",
       "       0.        , 0.61527896, 0.0661007 , 0.        , 0.        ,\n",
       "       0.        , 0.        , 0.0163044 , 0.        , 0.        ,\n",
       "       0.        , 0.        , 0.        , 0.        , 0.        ,\n",
       "       0.        , 0.        , 0.        , 0.        , 0.        ,\n",
       "       0.        , 0.        , 0.        ])"
      ]
     },
     "execution_count": 70,
     "metadata": {},
     "output_type": "execute_result"
    }
   ],
   "source": [
    "dc.feature_importances_"
   ]
  },
  {
   "cell_type": "code",
   "execution_count": 71,
   "metadata": {},
   "outputs": [
    {
     "data": {
      "text/plain": [
       "<matplotlib.axes._subplots.AxesSubplot at 0x7ff7a9466090>"
      ]
     },
     "execution_count": 71,
     "metadata": {},
     "output_type": "execute_result"
    },
    {
     "data": {
      "image/png": "[encoded data removed]",
      "text/plain": [
       "<Figure size 432x288 with 1 Axes>"
      ]
     },
     "metadata": {},
     "output_type": "display_data"
    }
   ],
   "source": [
    "pd.Series(dc.feature_importances_, index=x_train.columns).nlargest(15).plot(kind='barh')"
   ]
  },
  {
   "cell_type": "code",
   "execution_count": 72,
   "metadata": {},
   "outputs": [],
   "source": [
    "analysis_df = final_df.drop([ \n",
    "\"MAIN_CHANNEL\"                                             \n",
    ",\"YAS_CLUSTER\"                    \n",
    ",\"ILADI\"                          \n",
    ",\"ILCEADI\"  \n",
    ",\"GEOGPOINT\"\n",
    ",\"IDARIID\"\n",
    ",\"HANE_BUYUKLUGU\"\n",
    ",\"x\",\"y\"\n",
    "],axis=1)"
   ]
  },
  {
   "cell_type": "code",
   "execution_count": 73,
   "metadata": {},
   "outputs": [],
   "source": [
    "final_high = analysis_df.query(\"hrc_preds == 1\")\n",
    "final_low = analysis_df.query(\"hrc_preds == 0\") "
   ]
  },
  {
   "cell_type": "code",
   "execution_count": 74,
   "metadata": {},
   "outputs": [
    {
     "data": {
      "text/html": [
       "<div>\n",
       "<style scoped>\n",
       "    .dataframe tbody tr th:only-of-type {\n",
       "        vertical-align: middle;\n",
       "    }\n",
       "\n",
       "    .dataframe tbody tr th {\n",
       "        vertical-align: top;\n",
       "    }\n",
       "\n",
       "    .dataframe thead th {\n",
       "        text-align: right;\n",
       "    }\n",
       "</style>\n",
       "<table border=\"1\" class=\"dataframe\">\n",
       "  <thead>\n",
       "    <tr style=\"text-align: right;\">\n",
       "      <th></th>\n",
       "      <th>outlet_number</th>\n",
       "      <th>GUNDUZ_NUFUS</th>\n",
       "      <th>GECE_NUFUS</th>\n",
       "      <th>ZENGINLIK_INDEKSI</th>\n",
       "      <th>SEHIRLESME_INDEKSI</th>\n",
       "      <th>YAYA_TRAFIGI</th>\n",
       "      <th>AYLIK_HARCAMA</th>\n",
       "      <th>GIDAVEICECEK</th>\n",
       "      <th>ALKOLTUTUN</th>\n",
       "      <th>EGLENCEKULTUR</th>\n",
       "      <th>...</th>\n",
       "      <th>DAMLA_MINERA</th>\n",
       "      <th>DAMLA_WATER</th>\n",
       "      <th>EXOTIC</th>\n",
       "      <th>FANTA</th>\n",
       "      <th>FUSETEA</th>\n",
       "      <th>MONSTER</th>\n",
       "      <th>POWERADE</th>\n",
       "      <th>SCHWEPPES</th>\n",
       "      <th>SPRITE</th>\n",
       "      <th>hrc_preds</th>\n",
       "    </tr>\n",
       "  </thead>\n",
       "  <tbody>\n",
       "    <tr>\n",
       "      <th>count</th>\n",
       "      <td>3.260000e+02</td>\n",
       "      <td>326.000000</td>\n",
       "      <td>326.000000</td>\n",
       "      <td>326.000000</td>\n",
       "      <td>326.000000</td>\n",
       "      <td>326.000000</td>\n",
       "      <td>326.000000</td>\n",
       "      <td>326.000000</td>\n",
       "      <td>326.000000</td>\n",
       "      <td>326.000000</td>\n",
       "      <td>...</td>\n",
       "      <td>326.000000</td>\n",
       "      <td>326.000000</td>\n",
       "      <td>326.0</td>\n",
       "      <td>326.000000</td>\n",
       "      <td>326.000000</td>\n",
       "      <td>326.000000</td>\n",
       "      <td>326.000000</td>\n",
       "      <td>326.000000</td>\n",
       "      <td>326.000000</td>\n",
       "      <td>326.0</td>\n",
       "    </tr>\n",
       "    <tr>\n",
       "      <th>mean</th>\n",
       "      <td>8.955218e+06</td>\n",
       "      <td>2218.463190</td>\n",
       "      <td>2801.101227</td>\n",
       "      <td>2.504512</td>\n",
       "      <td>5.833984</td>\n",
       "      <td>6.293056</td>\n",
       "      <td>5066.487730</td>\n",
       "      <td>1120.407043</td>\n",
       "      <td>217.161663</td>\n",
       "      <td>139.394129</td>\n",
       "      <td>...</td>\n",
       "      <td>7.957061</td>\n",
       "      <td>123.412405</td>\n",
       "      <td>0.0</td>\n",
       "      <td>351.498543</td>\n",
       "      <td>91.456561</td>\n",
       "      <td>2.425794</td>\n",
       "      <td>2.512807</td>\n",
       "      <td>4.504727</td>\n",
       "      <td>25.555132</td>\n",
       "      <td>1.0</td>\n",
       "    </tr>\n",
       "    <tr>\n",
       "      <th>std</th>\n",
       "      <td>1.600869e+06</td>\n",
       "      <td>2775.377128</td>\n",
       "      <td>2556.866475</td>\n",
       "      <td>1.413000</td>\n",
       "      <td>1.582127</td>\n",
       "      <td>1.484802</td>\n",
       "      <td>2482.216399</td>\n",
       "      <td>444.807722</td>\n",
       "      <td>96.428094</td>\n",
       "      <td>82.648998</td>\n",
       "      <td>...</td>\n",
       "      <td>18.489031</td>\n",
       "      <td>201.651180</td>\n",
       "      <td>0.0</td>\n",
       "      <td>431.698539</td>\n",
       "      <td>107.048073</td>\n",
       "      <td>4.565658</td>\n",
       "      <td>5.011765</td>\n",
       "      <td>10.678680</td>\n",
       "      <td>27.517170</td>\n",
       "      <td>0.0</td>\n",
       "    </tr>\n",
       "    <tr>\n",
       "      <th>min</th>\n",
       "      <td>1.601130e+06</td>\n",
       "      <td>33.000000</td>\n",
       "      <td>0.000000</td>\n",
       "      <td>0.048000</td>\n",
       "      <td>0.000229</td>\n",
       "      <td>0.000217</td>\n",
       "      <td>1074.000000</td>\n",
       "      <td>307.164000</td>\n",
       "      <td>53.700000</td>\n",
       "      <td>16.110000</td>\n",
       "      <td>...</td>\n",
       "      <td>0.000000</td>\n",
       "      <td>0.000000</td>\n",
       "      <td>0.0</td>\n",
       "      <td>0.000000</td>\n",
       "      <td>0.000000</td>\n",
       "      <td>0.000000</td>\n",
       "      <td>0.000000</td>\n",
       "      <td>0.000000</td>\n",
       "      <td>0.000000</td>\n",
       "      <td>1.0</td>\n",
       "    </tr>\n",
       "    <tr>\n",
       "      <th>25%</th>\n",
       "      <td>8.926844e+06</td>\n",
       "      <td>335.000000</td>\n",
       "      <td>781.500000</td>\n",
       "      <td>1.545250</td>\n",
       "      <td>5.000006</td>\n",
       "      <td>5.962812</td>\n",
       "      <td>3360.000000</td>\n",
       "      <td>832.560000</td>\n",
       "      <td>149.167000</td>\n",
       "      <td>84.000000</td>\n",
       "      <td>...</td>\n",
       "      <td>0.000000</td>\n",
       "      <td>2.113000</td>\n",
       "      <td>0.0</td>\n",
       "      <td>129.087250</td>\n",
       "      <td>19.050250</td>\n",
       "      <td>0.000000</td>\n",
       "      <td>0.000000</td>\n",
       "      <td>0.000000</td>\n",
       "      <td>5.284000</td>\n",
       "      <td>1.0</td>\n",
       "    </tr>\n",
       "    <tr>\n",
       "      <th>50%</th>\n",
       "      <td>9.377264e+06</td>\n",
       "      <td>1143.000000</td>\n",
       "      <td>1645.000000</td>\n",
       "      <td>2.188500</td>\n",
       "      <td>5.999992</td>\n",
       "      <td>6.999922</td>\n",
       "      <td>4557.500000</td>\n",
       "      <td>1093.800000</td>\n",
       "      <td>195.972500</td>\n",
       "      <td>113.937500</td>\n",
       "      <td>...</td>\n",
       "      <td>0.845000</td>\n",
       "      <td>29.582000</td>\n",
       "      <td>0.0</td>\n",
       "      <td>258.507500</td>\n",
       "      <td>60.835500</td>\n",
       "      <td>0.000000</td>\n",
       "      <td>0.000000</td>\n",
       "      <td>0.000000</td>\n",
       "      <td>15.848500</td>\n",
       "      <td>1.0</td>\n",
       "    </tr>\n",
       "    <tr>\n",
       "      <th>75%</th>\n",
       "      <td>9.583236e+06</td>\n",
       "      <td>3188.500000</td>\n",
       "      <td>4218.000000</td>\n",
       "      <td>3.563000</td>\n",
       "      <td>6.999154</td>\n",
       "      <td>7.000222</td>\n",
       "      <td>6981.000000</td>\n",
       "      <td>1521.858000</td>\n",
       "      <td>307.164000</td>\n",
       "      <td>195.468000</td>\n",
       "      <td>...</td>\n",
       "      <td>8.450000</td>\n",
       "      <td>160.854750</td>\n",
       "      <td>0.0</td>\n",
       "      <td>464.821000</td>\n",
       "      <td>120.104250</td>\n",
       "      <td>2.864000</td>\n",
       "      <td>2.114000</td>\n",
       "      <td>4.226000</td>\n",
       "      <td>36.987500</td>\n",
       "      <td>1.0</td>\n",
       "    </tr>\n",
       "    <tr>\n",
       "      <th>max</th>\n",
       "      <td>1.073760e+07</td>\n",
       "      <td>18504.000000</td>\n",
       "      <td>9700.000000</td>\n",
       "      <td>5.667000</td>\n",
       "      <td>9.995877</td>\n",
       "      <td>8.998098</td>\n",
       "      <td>10476.000000</td>\n",
       "      <td>1855.616000</td>\n",
       "      <td>377.136000</td>\n",
       "      <td>345.708000</td>\n",
       "      <td>...</td>\n",
       "      <td>179.985000</td>\n",
       "      <td>1195.004000</td>\n",
       "      <td>0.0</td>\n",
       "      <td>5626.477000</td>\n",
       "      <td>964.262000</td>\n",
       "      <td>28.706000</td>\n",
       "      <td>33.824000</td>\n",
       "      <td>104.594000</td>\n",
       "      <td>158.413000</td>\n",
       "      <td>1.0</td>\n",
       "    </tr>\n",
       "  </tbody>\n",
       "</table>\n",
       "<p>8 rows × 63 columns</p>\n",
       "</div>"
      ],
      "text/plain": [
       "       outlet_number  GUNDUZ_NUFUS   GECE_NUFUS  ZENGINLIK_INDEKSI  \\\n",
       "count   3.260000e+02    326.000000   326.000000         326.000000   \n",
       "mean    8.955218e+06   2218.463190  2801.101227           2.504512   \n",
       "std     1.600869e+06   2775.377128  2556.866475           1.413000   \n",
       "min     1.601130e+06     33.000000     0.000000           0.048000   \n",
       "25%     8.926844e+06    335.000000   781.500000           1.545250   \n",
       "50%     9.377264e+06   1143.000000  1645.000000           2.188500   \n",
       "75%     9.583236e+06   3188.500000  4218.000000           3.563000   \n",
       "max     1.073760e+07  18504.000000  9700.000000           5.667000   \n",
       "\n",
       "       SEHIRLESME_INDEKSI  YAYA_TRAFIGI  AYLIK_HARCAMA  GIDAVEICECEK  \\\n",
       "count          326.000000    326.000000     326.000000    326.000000   \n",
       "mean             5.833984      6.293056    5066.487730   1120.407043   \n",
       "std              1.582127      1.484802    2482.216399    444.807722   \n",
       "min              0.000229      0.000217    1074.000000    307.164000   \n",
       "25%              5.000006      5.962812    3360.000000    832.560000   \n",
       "50%              5.999992      6.999922    4557.500000   1093.800000   \n",
       "75%              6.999154      7.000222    6981.000000   1521.858000   \n",
       "max              9.995877      8.998098   10476.000000   1855.616000   \n",
       "\n",
       "       ALKOLTUTUN  EGLENCEKULTUR  ...  DAMLA_MINERA  DAMLA_WATER  EXOTIC  \\\n",
       "count  326.000000     326.000000  ...    326.000000   326.000000   326.0   \n",
       "mean   217.161663     139.394129  ...      7.957061   123.412405     0.0   \n",
       "std     96.428094      82.648998  ...     18.489031   201.651180     0.0   \n",
       "min     53.700000      16.110000  ...      0.000000     0.000000     0.0   \n",
       "25%    149.167000      84.000000  ...      0.000000     2.113000     0.0   \n",
       "50%    195.972500     113.937500  ...      0.845000    29.582000     0.0   \n",
       "75%    307.164000     195.468000  ...      8.450000   160.854750     0.0   \n",
       "max    377.136000     345.708000  ...    179.985000  1195.004000     0.0   \n",
       "\n",
       "             FANTA     FUSETEA     MONSTER    POWERADE   SCHWEPPES  \\\n",
       "count   326.000000  326.000000  326.000000  326.000000  326.000000   \n",
       "mean    351.498543   91.456561    2.425794    2.512807    4.504727   \n",
       "std     431.698539  107.048073    4.565658    5.011765   10.678680   \n",
       "min       0.000000    0.000000    0.000000    0.000000    0.000000   \n",
       "25%     129.087250   19.050250    0.000000    0.000000    0.000000   \n",
       "50%     258.507500   60.835500    0.000000    0.000000    0.000000   \n",
       "75%     464.821000  120.104250    2.864000    2.114000    4.226000   \n",
       "max    5626.477000  964.262000   28.706000   33.824000  104.594000   \n",
       "\n",
       "           SPRITE  hrc_preds  \n",
       "count  326.000000      326.0  \n",
       "mean    25.555132        1.0  \n",
       "std     27.517170        0.0  \n",
       "min      0.000000        1.0  \n",
       "25%      5.284000        1.0  \n",
       "50%     15.848500        1.0  \n",
       "75%     36.987500        1.0  \n",
       "max    158.413000        1.0  \n",
       "\n",
       "[8 rows x 63 columns]"
      ]
     },
     "execution_count": 74,
     "metadata": {},
     "output_type": "execute_result"
    }
   ],
   "source": [
    "final_high.describe()"
   ]
  },
  {
   "cell_type": "code",
   "execution_count": 75,
   "metadata": {},
   "outputs": [
    {
     "data": {
      "text/html": [
       "<div>\n",
       "<style scoped>\n",
       "    .dataframe tbody tr th:only-of-type {\n",
       "        vertical-align: middle;\n",
       "    }\n",
       "\n",
       "    .dataframe tbody tr th {\n",
       "        vertical-align: top;\n",
       "    }\n",
       "\n",
       "    .dataframe thead th {\n",
       "        text-align: right;\n",
       "    }\n",
       "</style>\n",
       "<table border=\"1\" class=\"dataframe\">\n",
       "  <thead>\n",
       "    <tr style=\"text-align: right;\">\n",
       "      <th></th>\n",
       "      <th>outlet_number</th>\n",
       "      <th>GUNDUZ_NUFUS</th>\n",
       "      <th>GECE_NUFUS</th>\n",
       "      <th>ZENGINLIK_INDEKSI</th>\n",
       "      <th>SEHIRLESME_INDEKSI</th>\n",
       "      <th>YAYA_TRAFIGI</th>\n",
       "      <th>AYLIK_HARCAMA</th>\n",
       "      <th>GIDAVEICECEK</th>\n",
       "      <th>ALKOLTUTUN</th>\n",
       "      <th>EGLENCEKULTUR</th>\n",
       "      <th>...</th>\n",
       "      <th>DAMLA_MINERA</th>\n",
       "      <th>DAMLA_WATER</th>\n",
       "      <th>EXOTIC</th>\n",
       "      <th>FANTA</th>\n",
       "      <th>FUSETEA</th>\n",
       "      <th>MONSTER</th>\n",
       "      <th>POWERADE</th>\n",
       "      <th>SCHWEPPES</th>\n",
       "      <th>SPRITE</th>\n",
       "      <th>hrc_preds</th>\n",
       "    </tr>\n",
       "  </thead>\n",
       "  <tbody>\n",
       "    <tr>\n",
       "      <th>count</th>\n",
       "      <td>1.650000e+02</td>\n",
       "      <td>165.000000</td>\n",
       "      <td>165.000000</td>\n",
       "      <td>165.000000</td>\n",
       "      <td>165.000000</td>\n",
       "      <td>165.000000</td>\n",
       "      <td>165.000000</td>\n",
       "      <td>165.000000</td>\n",
       "      <td>165.000000</td>\n",
       "      <td>165.000000</td>\n",
       "      <td>...</td>\n",
       "      <td>165.000000</td>\n",
       "      <td>165.00000</td>\n",
       "      <td>165.0</td>\n",
       "      <td>165.000000</td>\n",
       "      <td>165.000000</td>\n",
       "      <td>165.000000</td>\n",
       "      <td>165.000000</td>\n",
       "      <td>165.000000</td>\n",
       "      <td>165.000000</td>\n",
       "      <td>165.0</td>\n",
       "    </tr>\n",
       "    <tr>\n",
       "      <th>mean</th>\n",
       "      <td>8.647373e+06</td>\n",
       "      <td>5615.600000</td>\n",
       "      <td>2082.860606</td>\n",
       "      <td>2.813301</td>\n",
       "      <td>7.526741</td>\n",
       "      <td>7.463271</td>\n",
       "      <td>5513.848485</td>\n",
       "      <td>922.547879</td>\n",
       "      <td>180.956855</td>\n",
       "      <td>128.762400</td>\n",
       "      <td>...</td>\n",
       "      <td>8.756958</td>\n",
       "      <td>236.00760</td>\n",
       "      <td>0.0</td>\n",
       "      <td>334.473873</td>\n",
       "      <td>95.668097</td>\n",
       "      <td>3.248406</td>\n",
       "      <td>2.664921</td>\n",
       "      <td>4.063364</td>\n",
       "      <td>24.205206</td>\n",
       "      <td>0.0</td>\n",
       "    </tr>\n",
       "    <tr>\n",
       "      <th>std</th>\n",
       "      <td>1.777653e+06</td>\n",
       "      <td>6746.393082</td>\n",
       "      <td>1761.337352</td>\n",
       "      <td>1.546198</td>\n",
       "      <td>1.611610</td>\n",
       "      <td>1.083348</td>\n",
       "      <td>2692.427950</td>\n",
       "      <td>667.184352</td>\n",
       "      <td>137.103961</td>\n",
       "      <td>118.560445</td>\n",
       "      <td>...</td>\n",
       "      <td>18.280880</td>\n",
       "      <td>459.65705</td>\n",
       "      <td>0.0</td>\n",
       "      <td>391.570583</td>\n",
       "      <td>101.023670</td>\n",
       "      <td>6.223616</td>\n",
       "      <td>5.494302</td>\n",
       "      <td>8.394320</td>\n",
       "      <td>26.761141</td>\n",
       "      <td>0.0</td>\n",
       "    </tr>\n",
       "    <tr>\n",
       "      <th>min</th>\n",
       "      <td>3.515188e+06</td>\n",
       "      <td>0.000000</td>\n",
       "      <td>197.000000</td>\n",
       "      <td>0.040000</td>\n",
       "      <td>3.001294</td>\n",
       "      <td>4.999323</td>\n",
       "      <td>1074.000000</td>\n",
       "      <td>0.000000</td>\n",
       "      <td>0.000000</td>\n",
       "      <td>0.000000</td>\n",
       "      <td>...</td>\n",
       "      <td>0.000000</td>\n",
       "      <td>0.00000</td>\n",
       "      <td>0.0</td>\n",
       "      <td>0.000000</td>\n",
       "      <td>0.000000</td>\n",
       "      <td>0.000000</td>\n",
       "      <td>0.000000</td>\n",
       "      <td>0.000000</td>\n",
       "      <td>0.000000</td>\n",
       "      <td>0.0</td>\n",
       "    </tr>\n",
       "    <tr>\n",
       "      <th>25%</th>\n",
       "      <td>8.891504e+06</td>\n",
       "      <td>0.000000</td>\n",
       "      <td>809.000000</td>\n",
       "      <td>1.604147</td>\n",
       "      <td>6.002327</td>\n",
       "      <td>6.999626</td>\n",
       "      <td>3780.000000</td>\n",
       "      <td>0.000000</td>\n",
       "      <td>0.000000</td>\n",
       "      <td>0.000000</td>\n",
       "      <td>...</td>\n",
       "      <td>0.000000</td>\n",
       "      <td>2.11300</td>\n",
       "      <td>0.0</td>\n",
       "      <td>104.546000</td>\n",
       "      <td>29.327000</td>\n",
       "      <td>0.000000</td>\n",
       "      <td>0.000000</td>\n",
       "      <td>0.000000</td>\n",
       "      <td>5.198000</td>\n",
       "      <td>0.0</td>\n",
       "    </tr>\n",
       "    <tr>\n",
       "      <th>50%</th>\n",
       "      <td>9.093683e+06</td>\n",
       "      <td>2736.000000</td>\n",
       "      <td>1541.000000</td>\n",
       "      <td>2.381050</td>\n",
       "      <td>7.000620</td>\n",
       "      <td>7.999300</td>\n",
       "      <td>4762.000000</td>\n",
       "      <td>1053.840000</td>\n",
       "      <td>188.813000</td>\n",
       "      <td>109.775000</td>\n",
       "      <td>...</td>\n",
       "      <td>0.845000</td>\n",
       "      <td>43.84500</td>\n",
       "      <td>0.0</td>\n",
       "      <td>220.683000</td>\n",
       "      <td>64.836000</td>\n",
       "      <td>0.000000</td>\n",
       "      <td>0.000000</td>\n",
       "      <td>0.000000</td>\n",
       "      <td>14.052000</td>\n",
       "      <td>0.0</td>\n",
       "    </tr>\n",
       "    <tr>\n",
       "      <th>75%</th>\n",
       "      <td>9.512791e+06</td>\n",
       "      <td>7363.000000</td>\n",
       "      <td>2804.000000</td>\n",
       "      <td>3.563000</td>\n",
       "      <td>8.998485</td>\n",
       "      <td>7.999980</td>\n",
       "      <td>6981.000000</td>\n",
       "      <td>1521.858000</td>\n",
       "      <td>307.164000</td>\n",
       "      <td>195.468000</td>\n",
       "      <td>...</td>\n",
       "      <td>7.605000</td>\n",
       "      <td>281.40600</td>\n",
       "      <td>0.0</td>\n",
       "      <td>416.505000</td>\n",
       "      <td>128.632000</td>\n",
       "      <td>3.171000</td>\n",
       "      <td>2.114000</td>\n",
       "      <td>4.226000</td>\n",
       "      <td>35.947000</td>\n",
       "      <td>0.0</td>\n",
       "    </tr>\n",
       "    <tr>\n",
       "      <th>max</th>\n",
       "      <td>1.067692e+07</td>\n",
       "      <td>20419.000000</td>\n",
       "      <td>7656.000000</td>\n",
       "      <td>5.642000</td>\n",
       "      <td>9.999237</td>\n",
       "      <td>8.999242</td>\n",
       "      <td>10436.000000</td>\n",
       "      <td>1815.864000</td>\n",
       "      <td>375.696000</td>\n",
       "      <td>344.388000</td>\n",
       "      <td>...</td>\n",
       "      <td>121.680000</td>\n",
       "      <td>2929.29900</td>\n",
       "      <td>0.0</td>\n",
       "      <td>2549.094000</td>\n",
       "      <td>551.596000</td>\n",
       "      <td>39.548000</td>\n",
       "      <td>34.881000</td>\n",
       "      <td>50.712000</td>\n",
       "      <td>171.984000</td>\n",
       "      <td>0.0</td>\n",
       "    </tr>\n",
       "  </tbody>\n",
       "</table>\n",
       "<p>8 rows × 63 columns</p>\n",
       "</div>"
      ],
      "text/plain": [
       "       outlet_number  GUNDUZ_NUFUS   GECE_NUFUS  ZENGINLIK_INDEKSI  \\\n",
       "count   1.650000e+02    165.000000   165.000000         165.000000   \n",
       "mean    8.647373e+06   5615.600000  2082.860606           2.813301   \n",
       "std     1.777653e+06   6746.393082  1761.337352           1.546198   \n",
       "min     3.515188e+06      0.000000   197.000000           0.040000   \n",
       "25%     8.891504e+06      0.000000   809.000000           1.604147   \n",
       "50%     9.093683e+06   2736.000000  1541.000000           2.381050   \n",
       "75%     9.512791e+06   7363.000000  2804.000000           3.563000   \n",
       "max     1.067692e+07  20419.000000  7656.000000           5.642000   \n",
       "\n",
       "       SEHIRLESME_INDEKSI  YAYA_TRAFIGI  AYLIK_HARCAMA  GIDAVEICECEK  \\\n",
       "count          165.000000    165.000000     165.000000    165.000000   \n",
       "mean             7.526741      7.463271    5513.848485    922.547879   \n",
       "std              1.611610      1.083348    2692.427950    667.184352   \n",
       "min              3.001294      4.999323    1074.000000      0.000000   \n",
       "25%              6.002327      6.999626    3780.000000      0.000000   \n",
       "50%              7.000620      7.999300    4762.000000   1053.840000   \n",
       "75%              8.998485      7.999980    6981.000000   1521.858000   \n",
       "max              9.999237      8.999242   10436.000000   1815.864000   \n",
       "\n",
       "       ALKOLTUTUN  EGLENCEKULTUR  ...  DAMLA_MINERA  DAMLA_WATER  EXOTIC  \\\n",
       "count  165.000000     165.000000  ...    165.000000    165.00000   165.0   \n",
       "mean   180.956855     128.762400  ...      8.756958    236.00760     0.0   \n",
       "std    137.103961     118.560445  ...     18.280880    459.65705     0.0   \n",
       "min      0.000000       0.000000  ...      0.000000      0.00000     0.0   \n",
       "25%      0.000000       0.000000  ...      0.000000      2.11300     0.0   \n",
       "50%    188.813000     109.775000  ...      0.845000     43.84500     0.0   \n",
       "75%    307.164000     195.468000  ...      7.605000    281.40600     0.0   \n",
       "max    375.696000     344.388000  ...    121.680000   2929.29900     0.0   \n",
       "\n",
       "             FANTA     FUSETEA     MONSTER    POWERADE   SCHWEPPES  \\\n",
       "count   165.000000  165.000000  165.000000  165.000000  165.000000   \n",
       "mean    334.473873   95.668097    3.248406    2.664921    4.063364   \n",
       "std     391.570583  101.023670    6.223616    5.494302    8.394320   \n",
       "min       0.000000    0.000000    0.000000    0.000000    0.000000   \n",
       "25%     104.546000   29.327000    0.000000    0.000000    0.000000   \n",
       "50%     220.683000   64.836000    0.000000    0.000000    0.000000   \n",
       "75%     416.505000  128.632000    3.171000    2.114000    4.226000   \n",
       "max    2549.094000  551.596000   39.548000   34.881000   50.712000   \n",
       "\n",
       "           SPRITE  hrc_preds  \n",
       "count  165.000000      165.0  \n",
       "mean    24.205206        0.0  \n",
       "std     26.761141        0.0  \n",
       "min      0.000000        0.0  \n",
       "25%      5.198000        0.0  \n",
       "50%     14.052000        0.0  \n",
       "75%     35.947000        0.0  \n",
       "max    171.984000        0.0  \n",
       "\n",
       "[8 rows x 63 columns]"
      ]
     },
     "execution_count": 75,
     "metadata": {},
     "output_type": "execute_result"
    }
   ],
   "source": [
    "final_low.describe()"
   ]
  },
  {
   "cell_type": "code",
   "execution_count": null,
   "metadata": {},
   "outputs": [],
   "source": [
    "stophere"
   ]
  },
  {
   "cell_type": "markdown",
   "metadata": {},
   "source": [
    "#### High Traffic"
   ]
  },
  {
   "cell_type": "code",
   "execution_count": null,
   "metadata": {
    "jupyter": {
     "source_hidden": true
    }
   },
   "outputs": [],
   "source": [
    "print(\"High Traffic çıkan toplam outlet sayısı : \", final_high.outlet_number.nunique(), \"\\n\")\n",
    "\n",
    "print(\"High Traffic'in ortalama aylık harcaması: \", final_high['AYLIK_HARCAMA'].mean(), \"\\n\") \n",
    "\n",
    "print(\"High Traffic'in ortalama yaya trafiği: \", final_high['YAYA_TRAFIGI'].mean(), \"\\n\") \n",
    "\n",
    "print(\"High Traffic'in A,B,C1 kategorisindeki toplam outlet sayısı oranı: \", \"%\",final_high.query(\"SES == 'A' or SES == 'B' or SES == 'C1'\").outlet_number.nunique()/len(final_high.SES) * 100  , \"\\n\")\n",
    "\n",
    "print(\"High Traffic'in ortalama Gündüz Nufusu sayısı: \", final_high.GUNDUZ_NUFUS.mean(), \"\\n\")\n",
    "\n",
    "print(\"High Traffic'in ortalama Gece Nufusu sayısı: \", final_high.GECE_NUFUS.mean(), \"\\n\")\n",
    "\n",
    "print(\"High Traffic'in ortalama Eğitim birimi sayısı: \", final_high.EGITIM.mean())\n",
    "print(\"High Traffic'in minimum Eğitim birimi sayısı: \", final_high.EGITIM.min())\n",
    "print(\"High Traffic'in maximum Eğitim birimi sayısı: \", final_high.EGITIM.max(), \"\\n\")\n",
    "\n",
    "print(\"High Traffic'in ortalama Modern Retail birimi sayısı: \", final_high.MODERN_RETAIL.mean(), \"\\n\")\n",
    "\n",
    "print(\"High Traffic'in ortalama Spor birimi sayısı: \", final_high.SPOR.mean(), \"\\n\")"
   ]
  },
  {
   "cell_type": "markdown",
   "metadata": {},
   "source": [
    "<br>"
   ]
  },
  {
   "cell_type": "markdown",
   "metadata": {},
   "source": [
    "#### Non-high Traffic"
   ]
  },
  {
   "cell_type": "code",
   "execution_count": null,
   "metadata": {
    "jupyter": {
     "source_hidden": true
    }
   },
   "outputs": [],
   "source": [
    "print(\"Non-high Traffic çıkan toplam outlet sayısı : \", final_low.outlet_number.nunique(), \"\\n\")\n",
    "\n",
    "print(\"Non-high Traffic'in ortalama aylık harcaması: \", final_low['AYLIK_HARCAMA'].mean(), \"\\n\") \n",
    "\n",
    "print(\"Non-high Traffic'in ortalama yaya trafiği: \", final_low['YAYA_TRAFIGI'].mean(), \"\\n\") \n",
    "\n",
    "print(\"Non-high Traffic'in A,B,C1 kategorisindeki toplam outlet sayısı oranı: \", \"%\", final_low.query(\"SES == 'A' or SES == 'B' or SES == 'C1'\").outlet_number.nunique()/len(final_low.SES) * 100  , \"\\n\")\n",
    "\n",
    "print(\"Non-high Traffic'in ortalama Gündüz Nufusu sayısı: \", final_low.GUNDUZ_NUFUS.mean(), \"\\n\")\n",
    "\n",
    "print(\"Non-high Traffic'in ortalama Gece Nufusu sayısı: \", final_low.GECE_NUFUS.mean(), \"\\n\")\n",
    "\n",
    "print(\"Non-high'in ortalama Eğitim birimi sayısı: \", final_low.EGITIM.mean())\n",
    "print(\"Non-high'in minimum Eğitim birimi sayısı: \", final_low.EGITIM.min())\n",
    "print(\"Non-high'in maximum Eğitim birimi sayısı: \", final_low.EGITIM.max(), \"\\n\")\n",
    "\n",
    "print(\"Non-high'in ortalama Modern Retail birimi sayısı: \", final_low.MODERN_RETAIL.mean(), \"\\n\")\n",
    "\n",
    "print(\"Non-high'in ortalama Spor birimi sayısı: \", final_low.SPOR.mean(), \"\\n\")"
   ]
  },
  {
   "cell_type": "markdown",
   "metadata": {},
   "source": [
    "### Graph"
   ]
  },
  {
   "cell_type": "code",
   "execution_count": null,
   "metadata": {},
   "outputs": [],
   "source": [
    "column_names = [\"BURN\"\n",
    ",\"CAPPY\"                            \n",
    ",\"CC_LIGHT\"                         \n",
    ",\"CC_NO_SUGER\"                      \n",
    ",\"COCACOLA\"                         \n",
    ",\"COCACOLA_ENERGY\"                  \n",
    ",\"DAMLA_MINERA\"                     \n",
    ",\"DAMLA_WATER\"                      \n",
    ",\"EXOTIC\"                           \n",
    ",\"FANTA\"                            \n",
    ",\"FUSETEA\"                          \n",
    ",\"MONSTER\"                          \n",
    ",\"POWERADE\"                         \n",
    ",\"SCHWEPPES\"]                      "
   ]
  },
  {
   "cell_type": "code",
   "execution_count": null,
   "metadata": {},
   "outputs": [],
   "source": [
    "final_high_brands = final_high[column_names].reset_index(drop=True)"
   ]
  },
  {
   "cell_type": "code",
   "execution_count": null,
   "metadata": {},
   "outputs": [],
   "source": [
    "high_brands_sum = pd.DataFrame(final_high_brands.sum()).reset_index()"
   ]
  },
  {
   "cell_type": "code",
   "execution_count": null,
   "metadata": {},
   "outputs": [],
   "source": [
    "high_brands_sum.rename({\"index\": \"brand\", 0: \"values\",} ,axis=1,inplace=True)"
   ]
  },
  {
   "cell_type": "code",
   "execution_count": null,
   "metadata": {},
   "outputs": [],
   "source": [
    "high_brands_sum"
   ]
  },
  {
   "cell_type": "code",
   "execution_count": null,
   "metadata": {},
   "outputs": [],
   "source": [
    "fig = px.pie(high_brands_sum, values='values', names=\"brand\", title='Brand Dist. in High Traffic Cluster')\n",
    "fig.show()"
   ]
  },
  {
   "cell_type": "code",
   "execution_count": null,
   "metadata": {},
   "outputs": [],
   "source": [
    "final_high.groupby('SES')['outlet_number'].sum().sort_values()"
   ]
  },
  {
   "cell_type": "code",
   "execution_count": null,
   "metadata": {},
   "outputs": [],
   "source": [
    "non_high_brands = final_low[column_names].reset_index(drop=True)"
   ]
  },
  {
   "cell_type": "code",
   "execution_count": null,
   "metadata": {},
   "outputs": [],
   "source": [
    "non_brands_sum = pd.DataFrame(non_high_brands.sum()).reset_index()"
   ]
  },
  {
   "cell_type": "code",
   "execution_count": null,
   "metadata": {},
   "outputs": [],
   "source": [
    "non_brands_sum.rename({\"index\": \"brand\", 0: \"values\",} ,axis=1,inplace=True)"
   ]
  },
  {
   "cell_type": "code",
   "execution_count": null,
   "metadata": {},
   "outputs": [],
   "source": [
    "non_brands_sum.query(\"brand == 'CC_LIGHT'\")"
   ]
  },
  {
   "cell_type": "code",
   "execution_count": null,
   "metadata": {},
   "outputs": [],
   "source": [
    "fig = px.pie(non_brands_sum, values='values', names=\"brand\", title='Brand Dist. in Non-high Traffic Cluster')\n",
    "fig.show()"
   ]
  },
  {
   "cell_type": "code",
   "execution_count": null,
   "metadata": {},
   "outputs": [],
   "source": [
    "final_low.groupby('SES')['outlet_number'].sum().sort_values()"
   ]
  },
  {
   "cell_type": "code",
   "execution_count": null,
   "metadata": {},
   "outputs": [],
   "source": [
    "stophere"
   ]
  },
  {
   "cell_type": "markdown",
   "metadata": {},
   "source": [
    "#### Save as CSV"
   ]
  },
  {
   "cell_type": "code",
   "execution_count": null,
   "metadata": {},
   "outputs": [],
   "source": [
    "csv_df = final_df.copy()"
   ]
  },
  {
   "cell_type": "code",
   "execution_count": null,
   "metadata": {},
   "outputs": [],
   "source": [
    "csv_df = csv_df.rename({\"hrc_preds\": \"high_traffic\"}, axis=1)"
   ]
  },
  {
   "cell_type": "code",
   "execution_count": null,
   "metadata": {},
   "outputs": [],
   "source": [
    "csv_df.head(2)"
   ]
  },
  {
   "cell_type": "code",
   "execution_count": null,
   "metadata": {},
   "outputs": [],
   "source": [
    "csv_df.to_csv(\"burdur_high_traffic.csv\")"
   ]
  },
  {
   "cell_type": "markdown",
   "metadata": {},
   "source": [
    "----"
   ]
  },
  {
   "cell_type": "code",
   "execution_count": 76,
   "metadata": {},
   "outputs": [
    {
     "name": "stdout",
     "output_type": "stream",
     "text": [
      "Loaded 491 rows and 74 columns to coca-cola-data-lake.predictive_order.high_traffic_clusters_burdur\n"
     ]
    }
   ],
   "source": [
    "# bigquery'e tabloyu ekleme\n",
    "# Database Connection\n",
    "from google.cloud import bigquery, bigquery_storage_v1beta1\n",
    "\n",
    "client = bigquery.Client()\n",
    "\n",
    "table_id = \"coca-cola-data-lake.predictive_order.high_traffic_clusters_burdur\" \n",
    "\n",
    "job_config = bigquery.LoadJobConfig(\n",
    "    schema=[\n",
    "        bigquery.SchemaField(\"outlet_name\", bigquery.enums.SqlTypeNames.STRING),\n",
    "    ],  write_disposition=\"WRITE_TRUNCATE\"\n",
    ")\n",
    "\n",
    "job = client.load_table_from_dataframe(final_df, table_id, job_config=job_config)  \n",
    "job.result()  \n",
    "\n",
    "table = client.get_table(table_id)  \n",
    "print(\"Loaded {} rows and {} columns to {}\".format(table.num_rows, len(table.schema), table_id))"
   ]
  },
  {
   "cell_type": "code",
   "execution_count": null,
   "metadata": {},
   "outputs": [],
   "source": []
  }
 ],
 "metadata": {
  "environment": {
   "name": "tf2-gpu.2-1.m46",
   "type": "gcloud",
   "uri": "gcr.io/deeplearning-platform-release/tf2-gpu.2-1:m46"
  },
  "kernelspec": {
   "display_name": "Python 3",
   "language": "python",
   "name": "python3"
  },
  "language_info": {
   "codemirror_mode": {
    "name": "ipython",
    "version": 3
   },
   "file_extension": ".py",
   "mimetype": "text/x-python",
   "name": "python",
   "nbconvert_exporter": "python",
   "pygments_lexer": "ipython3",
   "version": "3.7.6"
  }
 },
 "nbformat": 4,
 "nbformat_minor": 4
}
