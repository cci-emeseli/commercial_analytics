{
 "cells": [
  {
   "cell_type": "markdown",
   "metadata": {},
   "source": [
    "<h1><center>High Traffic Clustering</center></h1>"
   ]
  },
  {
   "cell_type": "markdown",
   "metadata": {},
   "source": [
    "Bu notebook, high ve non-high trafik noktalarının belirlenmesi için İstanbul özelinde Traditional channel'da 2'li hierarchical clustering çalışması içerir.\n"
   ]
  },
  {
   "cell_type": "code",
   "execution_count": 1,
   "metadata": {},
   "outputs": [],
   "source": [
    "# Database Connection\n",
    "from google.cloud import bigquery, bigquery_storage_v1beta1\n",
    "\n",
    "# Basic\n",
    "import os\n",
    "import numpy as np\n",
    "import pandas as pd\n",
    "import datetime\n",
    "from datetime import datetime\n",
    "import datetime as dt\n",
    "\n",
    "# visualization\n",
    "import matplotlib.pyplot as plt\n",
    "import seaborn as sns\n",
    "import plotly.express as px\n",
    "\n",
    "# Model\n",
    "import sklearn\n",
    "from sklearn import preprocessing\n",
    "from sklearn import model_selection\n",
    "from sklearn.preprocessing import MinMaxScaler\n",
    "from sklearn import svm\n",
    "from sklearn.svm import SVC\n",
    "from scipy.special import boxcox1p\n",
    "from scipy import stats\n",
    "from sklearn.cluster import KMeans, DBSCAN, AffinityPropagation, Birch, MeanShift, AgglomerativeClustering\n",
    "from sklearn.mixture import GaussianMixture\n",
    "from sklearn.metrics import silhouette_score, accuracy_score\n",
    "from sklearn.ensemble import IsolationForest\n",
    "from sklearn.tree import DecisionTreeClassifier\n",
    "from sklearn import tree\n",
    "from sklearn.preprocessing import MinMaxScaler\n",
    "import plotly.graph_objects as go\n",
    "from sklearn.metrics import confusion_matrix\n",
    "\n",
    "sns.set_style(\"whitegrid\")\n",
    "# sns.color_palette('bright')\n",
    "sns.set_palette('dark')"
   ]
  },
  {
   "cell_type": "code",
   "execution_count": 2,
   "metadata": {},
   "outputs": [],
   "source": [
    "xls = pd.ExcelFile('traffic_high_low.xlsx')\n",
    "df_high = pd.read_excel(xls, 'High Traffic')\n",
    "df_non = pd.read_excel(xls, 'Non-high Traffic')\n",
    "all_data = pd.read_excel(xls, 'all_data')"
   ]
  },
  {
   "cell_type": "code",
   "execution_count": 3,
   "metadata": {},
   "outputs": [
    {
     "data": {
      "text/html": [
       "<div>\n",
       "<style scoped>\n",
       "    .dataframe tbody tr th:only-of-type {\n",
       "        vertical-align: middle;\n",
       "    }\n",
       "\n",
       "    .dataframe tbody tr th {\n",
       "        vertical-align: top;\n",
       "    }\n",
       "\n",
       "    .dataframe thead th {\n",
       "        text-align: right;\n",
       "    }\n",
       "</style>\n",
       "<table border=\"1\" class=\"dataframe\">\n",
       "  <thead>\n",
       "    <tr style=\"text-align: right;\">\n",
       "      <th></th>\n",
       "      <th>outlet_number</th>\n",
       "      <th>outlet_name</th>\n",
       "      <th>high_traffic</th>\n",
       "    </tr>\n",
       "  </thead>\n",
       "  <tbody>\n",
       "    <tr>\n",
       "      <th>0</th>\n",
       "      <td>9422535</td>\n",
       "      <td>Şampiyon Tekel &amp; Gıda</td>\n",
       "      <td>0</td>\n",
       "    </tr>\n",
       "    <tr>\n",
       "      <th>1</th>\n",
       "      <td>9109019</td>\n",
       "      <td>Flamingo Tekel</td>\n",
       "      <td>0</td>\n",
       "    </tr>\n",
       "    <tr>\n",
       "      <th>2</th>\n",
       "      <td>9489908</td>\n",
       "      <td>Fıçı Tekel</td>\n",
       "      <td>0</td>\n",
       "    </tr>\n",
       "    <tr>\n",
       "      <th>3</th>\n",
       "      <td>3008089</td>\n",
       "      <td>Yerlisu Gıda</td>\n",
       "      <td>0</td>\n",
       "    </tr>\n",
       "    <tr>\n",
       "      <th>4</th>\n",
       "      <td>9566010</td>\n",
       "      <td>Kupa Tekel</td>\n",
       "      <td>0</td>\n",
       "    </tr>\n",
       "  </tbody>\n",
       "</table>\n",
       "</div>"
      ],
      "text/plain": [
       "   outlet_number            outlet_name  high_traffic\n",
       "0        9422535  Şampiyon Tekel & Gıda             0\n",
       "1        9109019         Flamingo Tekel             0\n",
       "2        9489908             Fıçı Tekel             0\n",
       "3        3008089           Yerlisu Gıda             0\n",
       "4        9566010             Kupa Tekel             0"
      ]
     },
     "execution_count": 3,
     "metadata": {},
     "output_type": "execute_result"
    }
   ],
   "source": [
    "all_data.head()"
   ]
  },
  {
   "cell_type": "code",
   "execution_count": 4,
   "metadata": {},
   "outputs": [],
   "source": [
    "df_new = pd.read_csv('shopper_data.csv')"
   ]
  },
  {
   "cell_type": "code",
   "execution_count": 5,
   "metadata": {},
   "outputs": [],
   "source": [
    "df_new = df_new.fillna(0)"
   ]
  },
  {
   "cell_type": "code",
   "execution_count": 6,
   "metadata": {},
   "outputs": [
    {
     "data": {
      "text/plain": [
       "304608"
      ]
     },
     "execution_count": 6,
     "metadata": {},
     "output_type": "execute_result"
    }
   ],
   "source": [
    "len(df_new)"
   ]
  },
  {
   "cell_type": "code",
   "execution_count": 7,
   "metadata": {},
   "outputs": [
    {
     "data": {
      "text/html": [
       "<div>\n",
       "<style scoped>\n",
       "    .dataframe tbody tr th:only-of-type {\n",
       "        vertical-align: middle;\n",
       "    }\n",
       "\n",
       "    .dataframe tbody tr th {\n",
       "        vertical-align: top;\n",
       "    }\n",
       "\n",
       "    .dataframe thead th {\n",
       "        text-align: right;\n",
       "    }\n",
       "</style>\n",
       "<table border=\"1\" class=\"dataframe\">\n",
       "  <thead>\n",
       "    <tr style=\"text-align: right;\">\n",
       "      <th></th>\n",
       "      <th>outlet_number</th>\n",
       "      <th>outlet_name</th>\n",
       "      <th>GEOGPOINT</th>\n",
       "      <th>IDARIID</th>\n",
       "      <th>MAIN_CHANNEL</th>\n",
       "      <th>SES</th>\n",
       "      <th>YAS_CLUSTER</th>\n",
       "      <th>ILADI</th>\n",
       "      <th>ILCEADI</th>\n",
       "      <th>HANE_BUYUKLUGU</th>\n",
       "      <th>...</th>\n",
       "      <th>COCACOLA_ENERGY</th>\n",
       "      <th>DAMLA_MINERA</th>\n",
       "      <th>DAMLA_WATER</th>\n",
       "      <th>EXOTIC</th>\n",
       "      <th>FANTA</th>\n",
       "      <th>FUSETEA</th>\n",
       "      <th>MONSTER</th>\n",
       "      <th>POWERADE</th>\n",
       "      <th>SCHWEPPES</th>\n",
       "      <th>SPRITE</th>\n",
       "    </tr>\n",
       "  </thead>\n",
       "  <tbody>\n",
       "    <tr>\n",
       "      <th>0</th>\n",
       "      <td>7173090</td>\n",
       "      <td>DAVUT BIRLES</td>\n",
       "      <td>POINT(29.06531874 40.1851168)</td>\n",
       "      <td>22528</td>\n",
       "      <td>ON-PREMISE</td>\n",
       "      <td>C1</td>\n",
       "      <td>SIFIR</td>\n",
       "      <td>Bursa</td>\n",
       "      <td>Osmangazi</td>\n",
       "      <td>0.663415</td>\n",
       "      <td>...</td>\n",
       "      <td>0.0</td>\n",
       "      <td>0.000</td>\n",
       "      <td>0.000</td>\n",
       "      <td>0.0</td>\n",
       "      <td>4.225</td>\n",
       "      <td>0.000</td>\n",
       "      <td>0.0</td>\n",
       "      <td>0.0</td>\n",
       "      <td>0.000</td>\n",
       "      <td>0.00</td>\n",
       "    </tr>\n",
       "    <tr>\n",
       "      <th>1</th>\n",
       "      <td>7158909</td>\n",
       "      <td>DOGAN TEKEL</td>\n",
       "      <td>POINT(29.06616217 40.18558327)</td>\n",
       "      <td>22528</td>\n",
       "      <td>TRADITIONAL RETAIL</td>\n",
       "      <td>C1</td>\n",
       "      <td>SIFIR</td>\n",
       "      <td>Bursa</td>\n",
       "      <td>Osmangazi</td>\n",
       "      <td>0.663415</td>\n",
       "      <td>...</td>\n",
       "      <td>0.0</td>\n",
       "      <td>0.000</td>\n",
       "      <td>0.000</td>\n",
       "      <td>0.0</td>\n",
       "      <td>70.906</td>\n",
       "      <td>33.571</td>\n",
       "      <td>0.0</td>\n",
       "      <td>0.0</td>\n",
       "      <td>8.452</td>\n",
       "      <td>0.00</td>\n",
       "    </tr>\n",
       "    <tr>\n",
       "      <th>2</th>\n",
       "      <td>9082733</td>\n",
       "      <td>KARDESLER PIDE</td>\n",
       "      <td>POINT(29.06576674 40.18505304)</td>\n",
       "      <td>22528</td>\n",
       "      <td>ON-PREMISE</td>\n",
       "      <td>C1</td>\n",
       "      <td>SIFIR</td>\n",
       "      <td>Bursa</td>\n",
       "      <td>Osmangazi</td>\n",
       "      <td>0.663415</td>\n",
       "      <td>...</td>\n",
       "      <td>0.0</td>\n",
       "      <td>49.855</td>\n",
       "      <td>1605.880</td>\n",
       "      <td>0.0</td>\n",
       "      <td>134.430</td>\n",
       "      <td>8.364</td>\n",
       "      <td>0.0</td>\n",
       "      <td>0.0</td>\n",
       "      <td>0.000</td>\n",
       "      <td>42.52</td>\n",
       "    </tr>\n",
       "    <tr>\n",
       "      <th>3</th>\n",
       "      <td>9468815</td>\n",
       "      <td>IHLAMURALTI CAY BAHCESI</td>\n",
       "      <td>POINT(29.0648084200769 40.1860698786783)</td>\n",
       "      <td>22528</td>\n",
       "      <td>ON-PREMISE</td>\n",
       "      <td>C1</td>\n",
       "      <td>SIFIR</td>\n",
       "      <td>Bursa</td>\n",
       "      <td>Osmangazi</td>\n",
       "      <td>0.663415</td>\n",
       "      <td>...</td>\n",
       "      <td>0.0</td>\n",
       "      <td>0.000</td>\n",
       "      <td>46.486</td>\n",
       "      <td>0.0</td>\n",
       "      <td>5.070</td>\n",
       "      <td>0.000</td>\n",
       "      <td>0.0</td>\n",
       "      <td>0.0</td>\n",
       "      <td>0.000</td>\n",
       "      <td>0.00</td>\n",
       "    </tr>\n",
       "    <tr>\n",
       "      <th>4</th>\n",
       "      <td>8921197</td>\n",
       "      <td>PARALI BUFE</td>\n",
       "      <td>POINT(29.0647642900001 40.18573423)</td>\n",
       "      <td>22528</td>\n",
       "      <td>ON-PREMISE</td>\n",
       "      <td>C1</td>\n",
       "      <td>SIFIR</td>\n",
       "      <td>Bursa</td>\n",
       "      <td>Osmangazi</td>\n",
       "      <td>0.663415</td>\n",
       "      <td>...</td>\n",
       "      <td>0.0</td>\n",
       "      <td>0.000</td>\n",
       "      <td>88.746</td>\n",
       "      <td>0.0</td>\n",
       "      <td>37.403</td>\n",
       "      <td>2.091</td>\n",
       "      <td>0.0</td>\n",
       "      <td>0.0</td>\n",
       "      <td>0.000</td>\n",
       "      <td>2.79</td>\n",
       "    </tr>\n",
       "  </tbody>\n",
       "</table>\n",
       "<p>5 rows × 71 columns</p>\n",
       "</div>"
      ],
      "text/plain": [
       "   outlet_number              outlet_name  \\\n",
       "0        7173090             DAVUT BIRLES   \n",
       "1        7158909              DOGAN TEKEL   \n",
       "2        9082733           KARDESLER PIDE   \n",
       "3        9468815  IHLAMURALTI CAY BAHCESI   \n",
       "4        8921197              PARALI BUFE   \n",
       "\n",
       "                                  GEOGPOINT  IDARIID        MAIN_CHANNEL SES  \\\n",
       "0             POINT(29.06531874 40.1851168)    22528          ON-PREMISE  C1   \n",
       "1            POINT(29.06616217 40.18558327)    22528  TRADITIONAL RETAIL  C1   \n",
       "2            POINT(29.06576674 40.18505304)    22528          ON-PREMISE  C1   \n",
       "3  POINT(29.0648084200769 40.1860698786783)    22528          ON-PREMISE  C1   \n",
       "4       POINT(29.0647642900001 40.18573423)    22528          ON-PREMISE  C1   \n",
       "\n",
       "  YAS_CLUSTER  ILADI    ILCEADI  HANE_BUYUKLUGU  ...  COCACOLA_ENERGY  \\\n",
       "0       SIFIR  Bursa  Osmangazi        0.663415  ...              0.0   \n",
       "1       SIFIR  Bursa  Osmangazi        0.663415  ...              0.0   \n",
       "2       SIFIR  Bursa  Osmangazi        0.663415  ...              0.0   \n",
       "3       SIFIR  Bursa  Osmangazi        0.663415  ...              0.0   \n",
       "4       SIFIR  Bursa  Osmangazi        0.663415  ...              0.0   \n",
       "\n",
       "   DAMLA_MINERA  DAMLA_WATER  EXOTIC    FANTA  FUSETEA  MONSTER  POWERADE  \\\n",
       "0         0.000        0.000     0.0    4.225    0.000      0.0       0.0   \n",
       "1         0.000        0.000     0.0   70.906   33.571      0.0       0.0   \n",
       "2        49.855     1605.880     0.0  134.430    8.364      0.0       0.0   \n",
       "3         0.000       46.486     0.0    5.070    0.000      0.0       0.0   \n",
       "4         0.000       88.746     0.0   37.403    2.091      0.0       0.0   \n",
       "\n",
       "   SCHWEPPES  SPRITE  \n",
       "0      0.000    0.00  \n",
       "1      8.452    0.00  \n",
       "2      0.000   42.52  \n",
       "3      0.000    0.00  \n",
       "4      0.000    2.79  \n",
       "\n",
       "[5 rows x 71 columns]"
      ]
     },
     "execution_count": 7,
     "metadata": {},
     "output_type": "execute_result"
    }
   ],
   "source": [
    "df_new.head()"
   ]
  },
  {
   "cell_type": "code",
   "execution_count": 8,
   "metadata": {},
   "outputs": [],
   "source": [
    "#Sadece İstanbul genelini aldım.\n",
    "df_new = df_new.query(\"ILADI == 'İstanbul'\").reset_index(drop=True)"
   ]
  },
  {
   "cell_type": "code",
   "execution_count": 9,
   "metadata": {},
   "outputs": [
    {
     "data": {
      "text/html": [
       "<div>\n",
       "<style scoped>\n",
       "    .dataframe tbody tr th:only-of-type {\n",
       "        vertical-align: middle;\n",
       "    }\n",
       "\n",
       "    .dataframe tbody tr th {\n",
       "        vertical-align: top;\n",
       "    }\n",
       "\n",
       "    .dataframe thead th {\n",
       "        text-align: right;\n",
       "    }\n",
       "</style>\n",
       "<table border=\"1\" class=\"dataframe\">\n",
       "  <thead>\n",
       "    <tr style=\"text-align: right;\">\n",
       "      <th></th>\n",
       "      <th>outlet_number</th>\n",
       "      <th>outlet_name</th>\n",
       "      <th>GEOGPOINT</th>\n",
       "      <th>IDARIID</th>\n",
       "      <th>MAIN_CHANNEL</th>\n",
       "      <th>SES</th>\n",
       "      <th>YAS_CLUSTER</th>\n",
       "      <th>ILADI</th>\n",
       "      <th>ILCEADI</th>\n",
       "      <th>HANE_BUYUKLUGU</th>\n",
       "      <th>...</th>\n",
       "      <th>COCACOLA_ENERGY</th>\n",
       "      <th>DAMLA_MINERA</th>\n",
       "      <th>DAMLA_WATER</th>\n",
       "      <th>EXOTIC</th>\n",
       "      <th>FANTA</th>\n",
       "      <th>FUSETEA</th>\n",
       "      <th>MONSTER</th>\n",
       "      <th>POWERADE</th>\n",
       "      <th>SCHWEPPES</th>\n",
       "      <th>SPRITE</th>\n",
       "    </tr>\n",
       "  </thead>\n",
       "  <tbody>\n",
       "    <tr>\n",
       "      <th>0</th>\n",
       "      <td>9663438</td>\n",
       "      <td>YILMAZ BUFE</td>\n",
       "      <td>POINT(28.9709006622433 41.0139870783315)</td>\n",
       "      <td>33795</td>\n",
       "      <td>ON-PREMISE</td>\n",
       "      <td>C2</td>\n",
       "      <td>SIFIR</td>\n",
       "      <td>İstanbul</td>\n",
       "      <td>Fatih</td>\n",
       "      <td>2.0</td>\n",
       "      <td>...</td>\n",
       "      <td>0.0</td>\n",
       "      <td>0.000</td>\n",
       "      <td>0.000</td>\n",
       "      <td>1.394</td>\n",
       "      <td>20.754</td>\n",
       "      <td>0.000</td>\n",
       "      <td>0.0</td>\n",
       "      <td>0.0</td>\n",
       "      <td>0.0</td>\n",
       "      <td>0.00</td>\n",
       "    </tr>\n",
       "    <tr>\n",
       "      <th>1</th>\n",
       "      <td>9330096</td>\n",
       "      <td>HAVUZLU HAN CAY OCAGIX</td>\n",
       "      <td>POINT(28.97060831 41.01396785)</td>\n",
       "      <td>33795</td>\n",
       "      <td>ON-PREMISE</td>\n",
       "      <td>C2</td>\n",
       "      <td>SIFIR</td>\n",
       "      <td>İstanbul</td>\n",
       "      <td>Fatih</td>\n",
       "      <td>2.0</td>\n",
       "      <td>...</td>\n",
       "      <td>0.0</td>\n",
       "      <td>1.690</td>\n",
       "      <td>80.296</td>\n",
       "      <td>0.000</td>\n",
       "      <td>3.380</td>\n",
       "      <td>0.000</td>\n",
       "      <td>0.0</td>\n",
       "      <td>0.0</td>\n",
       "      <td>0.0</td>\n",
       "      <td>1.69</td>\n",
       "    </tr>\n",
       "    <tr>\n",
       "      <th>2</th>\n",
       "      <td>10731204</td>\n",
       "      <td>TEMIZ KOFTECISIX</td>\n",
       "      <td>POINT(28.97056176 41.01414036)</td>\n",
       "      <td>33795</td>\n",
       "      <td>ON-PREMISE</td>\n",
       "      <td>C2</td>\n",
       "      <td>SIFIR</td>\n",
       "      <td>İstanbul</td>\n",
       "      <td>Fatih</td>\n",
       "      <td>2.0</td>\n",
       "      <td>...</td>\n",
       "      <td>0.0</td>\n",
       "      <td>0.845</td>\n",
       "      <td>29.971</td>\n",
       "      <td>0.000</td>\n",
       "      <td>2.535</td>\n",
       "      <td>0.000</td>\n",
       "      <td>0.0</td>\n",
       "      <td>0.0</td>\n",
       "      <td>0.0</td>\n",
       "      <td>0.00</td>\n",
       "    </tr>\n",
       "    <tr>\n",
       "      <th>3</th>\n",
       "      <td>9649660</td>\n",
       "      <td>ERDAL KARCI</td>\n",
       "      <td>POINT(28.9708052761853 41.0131731955335)</td>\n",
       "      <td>33795</td>\n",
       "      <td>ON-PREMISE</td>\n",
       "      <td>C2</td>\n",
       "      <td>SIFIR</td>\n",
       "      <td>İstanbul</td>\n",
       "      <td>Fatih</td>\n",
       "      <td>2.0</td>\n",
       "      <td>...</td>\n",
       "      <td>0.0</td>\n",
       "      <td>5.915</td>\n",
       "      <td>454.295</td>\n",
       "      <td>0.000</td>\n",
       "      <td>8.538</td>\n",
       "      <td>4.879</td>\n",
       "      <td>0.0</td>\n",
       "      <td>0.0</td>\n",
       "      <td>0.0</td>\n",
       "      <td>5.03</td>\n",
       "    </tr>\n",
       "    <tr>\n",
       "      <th>4</th>\n",
       "      <td>9679730</td>\n",
       "      <td>MERKEZHAN</td>\n",
       "      <td>POINT(28.9720169641078 41.0116889281199)</td>\n",
       "      <td>33795</td>\n",
       "      <td>ON-PREMISE</td>\n",
       "      <td>C2</td>\n",
       "      <td>SIFIR</td>\n",
       "      <td>İstanbul</td>\n",
       "      <td>Fatih</td>\n",
       "      <td>2.0</td>\n",
       "      <td>...</td>\n",
       "      <td>0.0</td>\n",
       "      <td>0.000</td>\n",
       "      <td>6.339</td>\n",
       "      <td>0.000</td>\n",
       "      <td>1.690</td>\n",
       "      <td>0.000</td>\n",
       "      <td>0.0</td>\n",
       "      <td>0.0</td>\n",
       "      <td>0.0</td>\n",
       "      <td>0.00</td>\n",
       "    </tr>\n",
       "  </tbody>\n",
       "</table>\n",
       "<p>5 rows × 71 columns</p>\n",
       "</div>"
      ],
      "text/plain": [
       "   outlet_number             outlet_name  \\\n",
       "0        9663438             YILMAZ BUFE   \n",
       "1        9330096  HAVUZLU HAN CAY OCAGIX   \n",
       "2       10731204        TEMIZ KOFTECISIX   \n",
       "3        9649660             ERDAL KARCI   \n",
       "4        9679730               MERKEZHAN   \n",
       "\n",
       "                                  GEOGPOINT  IDARIID MAIN_CHANNEL SES  \\\n",
       "0  POINT(28.9709006622433 41.0139870783315)    33795   ON-PREMISE  C2   \n",
       "1            POINT(28.97060831 41.01396785)    33795   ON-PREMISE  C2   \n",
       "2            POINT(28.97056176 41.01414036)    33795   ON-PREMISE  C2   \n",
       "3  POINT(28.9708052761853 41.0131731955335)    33795   ON-PREMISE  C2   \n",
       "4  POINT(28.9720169641078 41.0116889281199)    33795   ON-PREMISE  C2   \n",
       "\n",
       "  YAS_CLUSTER     ILADI ILCEADI  HANE_BUYUKLUGU  ...  COCACOLA_ENERGY  \\\n",
       "0       SIFIR  İstanbul   Fatih             2.0  ...              0.0   \n",
       "1       SIFIR  İstanbul   Fatih             2.0  ...              0.0   \n",
       "2       SIFIR  İstanbul   Fatih             2.0  ...              0.0   \n",
       "3       SIFIR  İstanbul   Fatih             2.0  ...              0.0   \n",
       "4       SIFIR  İstanbul   Fatih             2.0  ...              0.0   \n",
       "\n",
       "   DAMLA_MINERA  DAMLA_WATER  EXOTIC   FANTA  FUSETEA  MONSTER  POWERADE  \\\n",
       "0         0.000        0.000   1.394  20.754    0.000      0.0       0.0   \n",
       "1         1.690       80.296   0.000   3.380    0.000      0.0       0.0   \n",
       "2         0.845       29.971   0.000   2.535    0.000      0.0       0.0   \n",
       "3         5.915      454.295   0.000   8.538    4.879      0.0       0.0   \n",
       "4         0.000        6.339   0.000   1.690    0.000      0.0       0.0   \n",
       "\n",
       "   SCHWEPPES  SPRITE  \n",
       "0        0.0    0.00  \n",
       "1        0.0    1.69  \n",
       "2        0.0    0.00  \n",
       "3        0.0    5.03  \n",
       "4        0.0    0.00  \n",
       "\n",
       "[5 rows x 71 columns]"
      ]
     },
     "execution_count": 9,
     "metadata": {},
     "output_type": "execute_result"
    }
   ],
   "source": [
    "df_new.head()"
   ]
  },
  {
   "cell_type": "code",
   "execution_count": 10,
   "metadata": {},
   "outputs": [
    {
     "name": "stdout",
     "output_type": "stream",
     "text": [
      "<class 'pandas.core.frame.DataFrame'>\n",
      "RangeIndex: 52534 entries, 0 to 52533\n",
      "Data columns (total 71 columns):\n",
      " #   Column                           Non-Null Count  Dtype  \n",
      "---  ------                           --------------  -----  \n",
      " 0   outlet_number                    52534 non-null  int64  \n",
      " 1   outlet_name                      52534 non-null  object \n",
      " 2   GEOGPOINT                        52534 non-null  object \n",
      " 3   IDARIID                          52534 non-null  int64  \n",
      " 4   MAIN_CHANNEL                     52534 non-null  object \n",
      " 5   SES                              52534 non-null  object \n",
      " 6   YAS_CLUSTER                      52534 non-null  object \n",
      " 7   ILADI                            52534 non-null  object \n",
      " 8   ILCEADI                          52534 non-null  object \n",
      " 9   HANE_BUYUKLUGU                   52534 non-null  float64\n",
      " 10  GUNDUZ_NUFUS                     52534 non-null  int64  \n",
      " 11  GECE_NUFUS                       52534 non-null  int64  \n",
      " 12  ZENGINLIK_INDEKSI                52534 non-null  float64\n",
      " 13  SEHIRLESME_INDEKSI               52534 non-null  float64\n",
      " 14  YAYA_TRAFIGI                     52534 non-null  float64\n",
      " 15  AYLIK_HARCAMA                    52534 non-null  int64  \n",
      " 16  GIDAVEICECEK                     52534 non-null  float64\n",
      " 17  ALKOLTUTUN                       52534 non-null  float64\n",
      " 18  EGLENCEKULTUR                    52534 non-null  float64\n",
      " 19  LOKANTAOTEL                      52534 non-null  float64\n",
      " 20  GIDAVEICECEK_ORAN                52534 non-null  float64\n",
      " 21  ALKOLTUTUN_ORAN                  52534 non-null  float64\n",
      " 22  EGLENCEKULTUR_ORAN               52534 non-null  float64\n",
      " 23  LOKANTAOTEL_ORAN                 52534 non-null  float64\n",
      " 24  ISYERI_YOGUNLUGU_SAYI_KM2_YERLE  52534 non-null  float64\n",
      " 25  ISYERI_YOGUNLUGU_SAYI_KM2        52534 non-null  float64\n",
      " 26  KONUT_YOGUNLUGU_SAYI_KM2_YERLES  52534 non-null  float64\n",
      " 27  KONUT_YOGUNLUGU_SAYI_KM2         52534 non-null  float64\n",
      " 28  IL_BAZLI_TURIST_YERLI_ISLETME    52534 non-null  int64  \n",
      " 29  IL_BAZLI_TURIST_YBN_ISLETME      52534 non-null  int64  \n",
      " 30  ORTA_ALT                         52534 non-null  float64\n",
      " 31  ORTA                             52534 non-null  float64\n",
      " 32  ORTA_UST                         52534 non-null  float64\n",
      " 33  UST                              52534 non-null  float64\n",
      " 34  AKARYAKIT                        52534 non-null  float64\n",
      " 35  ALISVERIS                        52534 non-null  float64\n",
      " 36  OUTLET                           52534 non-null  float64\n",
      " 37  KONUT                            52534 non-null  float64\n",
      " 38  EGITIM                           52534 non-null  float64\n",
      " 39  UNIVERSITE                       52534 non-null  float64\n",
      " 40  EGLENCE                          52534 non-null  float64\n",
      " 41  KULTUREL                         52534 non-null  float64\n",
      " 42  TURIZM                           52534 non-null  float64\n",
      " 43  SPOR                             52534 non-null  float64\n",
      " 44  HASTANE                          52534 non-null  float64\n",
      " 45  ASKERI                           52534 non-null  float64\n",
      " 46  DEMIRYOLU                        52534 non-null  float64\n",
      " 47  DENIZYOLU                        52534 non-null  float64\n",
      " 48  HAVAYOLU                         52534 non-null  float64\n",
      " 49  KARAYOLU                         52534 non-null  float64\n",
      " 50  TRAFIK                           52534 non-null  float64\n",
      " 51  E_COMMERCE                       52534 non-null  float64\n",
      " 52  MODERN_RETAIL                    52534 non-null  float64\n",
      " 53  ON_PREMISE                       52534 non-null  float64\n",
      " 54  OTHER_THIRD_PARTY                52534 non-null  float64\n",
      " 55  TRADITIONAL_RETAIL               52534 non-null  float64\n",
      " 56  BURN                             52534 non-null  float64\n",
      " 57  CAPPY                            52534 non-null  float64\n",
      " 58  CC_LIGHT                         52534 non-null  float64\n",
      " 59  CC_NO_SUGER                      52534 non-null  float64\n",
      " 60  COCACOLA                         52534 non-null  float64\n",
      " 61  COCACOLA_ENERGY                  52534 non-null  float64\n",
      " 62  DAMLA_MINERA                     52534 non-null  float64\n",
      " 63  DAMLA_WATER                      52534 non-null  float64\n",
      " 64  EXOTIC                           52534 non-null  float64\n",
      " 65  FANTA                            52534 non-null  float64\n",
      " 66  FUSETEA                          52534 non-null  float64\n",
      " 67  MONSTER                          52534 non-null  float64\n",
      " 68  POWERADE                         52534 non-null  float64\n",
      " 69  SCHWEPPES                        52534 non-null  float64\n",
      " 70  SPRITE                           52534 non-null  float64\n",
      "dtypes: float64(57), int64(7), object(7)\n",
      "memory usage: 28.5+ MB\n"
     ]
    }
   ],
   "source": [
    "df_new.info()"
   ]
  },
  {
   "cell_type": "code",
   "execution_count": 11,
   "metadata": {},
   "outputs": [],
   "source": [
    "# data = Class'ları belli olan dataframe\n",
    "data = pd.merge(all_data[[\"outlet_number\",\"high_traffic\"]], df_new, on='outlet_number', how='left')"
   ]
  },
  {
   "cell_type": "code",
   "execution_count": 17,
   "metadata": {},
   "outputs": [],
   "source": [
    "# Sadece İstanbul içeren toplam 65 satır var. 25-> nonhigh, 40-> high traffic\n",
    "ist_data = data.query(\"ILADI=='İstanbul'\").reset_index(drop=True)"
   ]
  },
  {
   "cell_type": "code",
   "execution_count": 18,
   "metadata": {},
   "outputs": [
    {
     "data": {
      "text/html": [
       "<div>\n",
       "<style scoped>\n",
       "    .dataframe tbody tr th:only-of-type {\n",
       "        vertical-align: middle;\n",
       "    }\n",
       "\n",
       "    .dataframe tbody tr th {\n",
       "        vertical-align: top;\n",
       "    }\n",
       "\n",
       "    .dataframe thead th {\n",
       "        text-align: right;\n",
       "    }\n",
       "</style>\n",
       "<table border=\"1\" class=\"dataframe\">\n",
       "  <thead>\n",
       "    <tr style=\"text-align: right;\">\n",
       "      <th></th>\n",
       "      <th>outlet_number</th>\n",
       "      <th>high_traffic</th>\n",
       "      <th>outlet_name</th>\n",
       "      <th>GEOGPOINT</th>\n",
       "      <th>IDARIID</th>\n",
       "      <th>MAIN_CHANNEL</th>\n",
       "      <th>SES</th>\n",
       "      <th>YAS_CLUSTER</th>\n",
       "      <th>ILADI</th>\n",
       "      <th>ILCEADI</th>\n",
       "      <th>...</th>\n",
       "      <th>COCACOLA_ENERGY</th>\n",
       "      <th>DAMLA_MINERA</th>\n",
       "      <th>DAMLA_WATER</th>\n",
       "      <th>EXOTIC</th>\n",
       "      <th>FANTA</th>\n",
       "      <th>FUSETEA</th>\n",
       "      <th>MONSTER</th>\n",
       "      <th>POWERADE</th>\n",
       "      <th>SCHWEPPES</th>\n",
       "      <th>SPRITE</th>\n",
       "    </tr>\n",
       "  </thead>\n",
       "  <tbody>\n",
       "    <tr>\n",
       "      <th>0</th>\n",
       "      <td>9422535</td>\n",
       "      <td>0</td>\n",
       "      <td>SAMPIYON TEKEL</td>\n",
       "      <td>POINT(29.08295795 40.96606672)</td>\n",
       "      <td>33849.0</td>\n",
       "      <td>TRADITIONAL RETAIL</td>\n",
       "      <td>A</td>\n",
       "      <td>OLD</td>\n",
       "      <td>İstanbul</td>\n",
       "      <td>Kadıköy</td>\n",
       "      <td>...</td>\n",
       "      <td>0.000</td>\n",
       "      <td>0.845</td>\n",
       "      <td>16.904</td>\n",
       "      <td>0.0</td>\n",
       "      <td>26.544</td>\n",
       "      <td>7.987</td>\n",
       "      <td>2.557</td>\n",
       "      <td>3.171</td>\n",
       "      <td>57.690</td>\n",
       "      <td>18.639</td>\n",
       "    </tr>\n",
       "    <tr>\n",
       "      <th>1</th>\n",
       "      <td>9109019</td>\n",
       "      <td>0</td>\n",
       "      <td>FLAMINGO TEKEL</td>\n",
       "      <td>POINT(29.0819544 40.96638027)</td>\n",
       "      <td>33849.0</td>\n",
       "      <td>TRADITIONAL RETAIL</td>\n",
       "      <td>A</td>\n",
       "      <td>OLD</td>\n",
       "      <td>İstanbul</td>\n",
       "      <td>Kadıköy</td>\n",
       "      <td>...</td>\n",
       "      <td>0.528</td>\n",
       "      <td>7.605</td>\n",
       "      <td>223.259</td>\n",
       "      <td>0.0</td>\n",
       "      <td>33.642</td>\n",
       "      <td>51.174</td>\n",
       "      <td>10.978</td>\n",
       "      <td>11.627</td>\n",
       "      <td>237.728</td>\n",
       "      <td>19.525</td>\n",
       "    </tr>\n",
       "    <tr>\n",
       "      <th>2</th>\n",
       "      <td>9489908</td>\n",
       "      <td>0</td>\n",
       "      <td>FICI TEKEL</td>\n",
       "      <td>POINT(29.0773806720972 40.9648437285796)</td>\n",
       "      <td>33849.0</td>\n",
       "      <td>TRADITIONAL RETAIL</td>\n",
       "      <td>A</td>\n",
       "      <td>OLD</td>\n",
       "      <td>İstanbul</td>\n",
       "      <td>Kadıköy</td>\n",
       "      <td>...</td>\n",
       "      <td>0.000</td>\n",
       "      <td>0.000</td>\n",
       "      <td>60.222</td>\n",
       "      <td>0.0</td>\n",
       "      <td>31.086</td>\n",
       "      <td>4.182</td>\n",
       "      <td>0.000</td>\n",
       "      <td>4.228</td>\n",
       "      <td>33.813</td>\n",
       "      <td>21.511</td>\n",
       "    </tr>\n",
       "    <tr>\n",
       "      <th>3</th>\n",
       "      <td>3008089</td>\n",
       "      <td>0</td>\n",
       "      <td>YERLISU GIDA</td>\n",
       "      <td>POINT(29.07878532 40.96849167)</td>\n",
       "      <td>33837.0</td>\n",
       "      <td>TRADITIONAL RETAIL</td>\n",
       "      <td>A</td>\n",
       "      <td>OLD</td>\n",
       "      <td>İstanbul</td>\n",
       "      <td>Kadıköy</td>\n",
       "      <td>...</td>\n",
       "      <td>0.000</td>\n",
       "      <td>0.000</td>\n",
       "      <td>0.000</td>\n",
       "      <td>0.0</td>\n",
       "      <td>22.717</td>\n",
       "      <td>12.825</td>\n",
       "      <td>0.000</td>\n",
       "      <td>1.057</td>\n",
       "      <td>16.907</td>\n",
       "      <td>14.750</td>\n",
       "    </tr>\n",
       "    <tr>\n",
       "      <th>4</th>\n",
       "      <td>9566010</td>\n",
       "      <td>0</td>\n",
       "      <td>KUPA TEKEL</td>\n",
       "      <td>POINT(29.0832091122866 40.9705169778317)</td>\n",
       "      <td>33837.0</td>\n",
       "      <td>TRADITIONAL RETAIL</td>\n",
       "      <td>A</td>\n",
       "      <td>OLD</td>\n",
       "      <td>İstanbul</td>\n",
       "      <td>Kadıköy</td>\n",
       "      <td>...</td>\n",
       "      <td>0.000</td>\n",
       "      <td>49.010</td>\n",
       "      <td>589.919</td>\n",
       "      <td>0.0</td>\n",
       "      <td>16.313</td>\n",
       "      <td>24.554</td>\n",
       "      <td>0.750</td>\n",
       "      <td>0.000</td>\n",
       "      <td>23.032</td>\n",
       "      <td>10.819</td>\n",
       "    </tr>\n",
       "    <tr>\n",
       "      <th>...</th>\n",
       "      <td>...</td>\n",
       "      <td>...</td>\n",
       "      <td>...</td>\n",
       "      <td>...</td>\n",
       "      <td>...</td>\n",
       "      <td>...</td>\n",
       "      <td>...</td>\n",
       "      <td>...</td>\n",
       "      <td>...</td>\n",
       "      <td>...</td>\n",
       "      <td>...</td>\n",
       "      <td>...</td>\n",
       "      <td>...</td>\n",
       "      <td>...</td>\n",
       "      <td>...</td>\n",
       "      <td>...</td>\n",
       "      <td>...</td>\n",
       "      <td>...</td>\n",
       "      <td>...</td>\n",
       "      <td>...</td>\n",
       "      <td>...</td>\n",
       "    </tr>\n",
       "    <tr>\n",
       "      <th>60</th>\n",
       "      <td>20037032</td>\n",
       "      <td>1</td>\n",
       "      <td>ARA TEKEL</td>\n",
       "      <td>POINT(29.0760085545481 40.963296093978)</td>\n",
       "      <td>33849.0</td>\n",
       "      <td>TRADITIONAL RETAIL</td>\n",
       "      <td>A</td>\n",
       "      <td>OLD</td>\n",
       "      <td>İstanbul</td>\n",
       "      <td>Kadıköy</td>\n",
       "      <td>...</td>\n",
       "      <td>0.000</td>\n",
       "      <td>31.265</td>\n",
       "      <td>34.337</td>\n",
       "      <td>0.0</td>\n",
       "      <td>8.411</td>\n",
       "      <td>18.085</td>\n",
       "      <td>0.000</td>\n",
       "      <td>0.000</td>\n",
       "      <td>33.814</td>\n",
       "      <td>14.709</td>\n",
       "    </tr>\n",
       "    <tr>\n",
       "      <th>61</th>\n",
       "      <td>9438903</td>\n",
       "      <td>1</td>\n",
       "      <td>LEVENT TEKEL</td>\n",
       "      <td>POINT(29.01525403 41.07585202)</td>\n",
       "      <td>33488.0</td>\n",
       "      <td>TRADITIONAL RETAIL</td>\n",
       "      <td>A</td>\n",
       "      <td>OLD</td>\n",
       "      <td>İstanbul</td>\n",
       "      <td>Beşiktaş</td>\n",
       "      <td>...</td>\n",
       "      <td>6.336</td>\n",
       "      <td>0.000</td>\n",
       "      <td>0.697</td>\n",
       "      <td>0.0</td>\n",
       "      <td>92.184</td>\n",
       "      <td>27.119</td>\n",
       "      <td>40.846</td>\n",
       "      <td>2.114</td>\n",
       "      <td>187.001</td>\n",
       "      <td>28.312</td>\n",
       "    </tr>\n",
       "    <tr>\n",
       "      <th>62</th>\n",
       "      <td>9476662</td>\n",
       "      <td>1</td>\n",
       "      <td>HISAR TEKEL</td>\n",
       "      <td>POINT(29.04673418 41.08544032)</td>\n",
       "      <td>34014.0</td>\n",
       "      <td>TRADITIONAL RETAIL</td>\n",
       "      <td>A</td>\n",
       "      <td>MIDDLE AGED</td>\n",
       "      <td>İstanbul</td>\n",
       "      <td>Sarıyer</td>\n",
       "      <td>...</td>\n",
       "      <td>0.000</td>\n",
       "      <td>2.535</td>\n",
       "      <td>135.419</td>\n",
       "      <td>0.0</td>\n",
       "      <td>86.538</td>\n",
       "      <td>26.279</td>\n",
       "      <td>7.978</td>\n",
       "      <td>14.798</td>\n",
       "      <td>277.868</td>\n",
       "      <td>96.693</td>\n",
       "    </tr>\n",
       "    <tr>\n",
       "      <th>63</th>\n",
       "      <td>9477702</td>\n",
       "      <td>1</td>\n",
       "      <td>DERIN KURUYEMIS</td>\n",
       "      <td>POINT(28.99466178 41.06785797)</td>\n",
       "      <td>34142.0</td>\n",
       "      <td>TRADITIONAL RETAIL</td>\n",
       "      <td>A</td>\n",
       "      <td>MIDDLE AGED</td>\n",
       "      <td>İstanbul</td>\n",
       "      <td>Şişli</td>\n",
       "      <td>...</td>\n",
       "      <td>2.112</td>\n",
       "      <td>5.070</td>\n",
       "      <td>147.871</td>\n",
       "      <td>0.0</td>\n",
       "      <td>63.483</td>\n",
       "      <td>78.816</td>\n",
       "      <td>37.333</td>\n",
       "      <td>10.570</td>\n",
       "      <td>26.415</td>\n",
       "      <td>20.371</td>\n",
       "    </tr>\n",
       "    <tr>\n",
       "      <th>64</th>\n",
       "      <td>10694739</td>\n",
       "      <td>1</td>\n",
       "      <td>BLACK AND WHITE TEKEL</td>\n",
       "      <td>POINT(29.00880364 41.04265552)</td>\n",
       "      <td>33497.0</td>\n",
       "      <td>TRADITIONAL RETAIL</td>\n",
       "      <td>A</td>\n",
       "      <td>ADULT</td>\n",
       "      <td>İstanbul</td>\n",
       "      <td>Beşiktaş</td>\n",
       "      <td>...</td>\n",
       "      <td>0.000</td>\n",
       "      <td>2.535</td>\n",
       "      <td>1513.438</td>\n",
       "      <td>0.0</td>\n",
       "      <td>103.982</td>\n",
       "      <td>207.514</td>\n",
       "      <td>68.394</td>\n",
       "      <td>54.964</td>\n",
       "      <td>183.848</td>\n",
       "      <td>120.031</td>\n",
       "    </tr>\n",
       "  </tbody>\n",
       "</table>\n",
       "<p>65 rows × 72 columns</p>\n",
       "</div>"
      ],
      "text/plain": [
       "    outlet_number  high_traffic            outlet_name  \\\n",
       "0         9422535             0         SAMPIYON TEKEL   \n",
       "1         9109019             0         FLAMINGO TEKEL   \n",
       "2         9489908             0             FICI TEKEL   \n",
       "3         3008089             0           YERLISU GIDA   \n",
       "4         9566010             0             KUPA TEKEL   \n",
       "..            ...           ...                    ...   \n",
       "60       20037032             1              ARA TEKEL   \n",
       "61        9438903             1           LEVENT TEKEL   \n",
       "62        9476662             1            HISAR TEKEL   \n",
       "63        9477702             1        DERIN KURUYEMIS   \n",
       "64       10694739             1  BLACK AND WHITE TEKEL   \n",
       "\n",
       "                                   GEOGPOINT  IDARIID        MAIN_CHANNEL SES  \\\n",
       "0             POINT(29.08295795 40.96606672)  33849.0  TRADITIONAL RETAIL   A   \n",
       "1              POINT(29.0819544 40.96638027)  33849.0  TRADITIONAL RETAIL   A   \n",
       "2   POINT(29.0773806720972 40.9648437285796)  33849.0  TRADITIONAL RETAIL   A   \n",
       "3             POINT(29.07878532 40.96849167)  33837.0  TRADITIONAL RETAIL   A   \n",
       "4   POINT(29.0832091122866 40.9705169778317)  33837.0  TRADITIONAL RETAIL   A   \n",
       "..                                       ...      ...                 ...  ..   \n",
       "60   POINT(29.0760085545481 40.963296093978)  33849.0  TRADITIONAL RETAIL   A   \n",
       "61            POINT(29.01525403 41.07585202)  33488.0  TRADITIONAL RETAIL   A   \n",
       "62            POINT(29.04673418 41.08544032)  34014.0  TRADITIONAL RETAIL   A   \n",
       "63            POINT(28.99466178 41.06785797)  34142.0  TRADITIONAL RETAIL   A   \n",
       "64            POINT(29.00880364 41.04265552)  33497.0  TRADITIONAL RETAIL   A   \n",
       "\n",
       "    YAS_CLUSTER     ILADI   ILCEADI  ...  COCACOLA_ENERGY  DAMLA_MINERA  \\\n",
       "0           OLD  İstanbul   Kadıköy  ...            0.000         0.845   \n",
       "1           OLD  İstanbul   Kadıköy  ...            0.528         7.605   \n",
       "2           OLD  İstanbul   Kadıköy  ...            0.000         0.000   \n",
       "3           OLD  İstanbul   Kadıköy  ...            0.000         0.000   \n",
       "4           OLD  İstanbul   Kadıköy  ...            0.000        49.010   \n",
       "..          ...       ...       ...  ...              ...           ...   \n",
       "60          OLD  İstanbul   Kadıköy  ...            0.000        31.265   \n",
       "61          OLD  İstanbul  Beşiktaş  ...            6.336         0.000   \n",
       "62  MIDDLE AGED  İstanbul   Sarıyer  ...            0.000         2.535   \n",
       "63  MIDDLE AGED  İstanbul     Şişli  ...            2.112         5.070   \n",
       "64        ADULT  İstanbul  Beşiktaş  ...            0.000         2.535   \n",
       "\n",
       "    DAMLA_WATER  EXOTIC    FANTA  FUSETEA  MONSTER  POWERADE  SCHWEPPES  \\\n",
       "0        16.904     0.0   26.544    7.987    2.557     3.171     57.690   \n",
       "1       223.259     0.0   33.642   51.174   10.978    11.627    237.728   \n",
       "2        60.222     0.0   31.086    4.182    0.000     4.228     33.813   \n",
       "3         0.000     0.0   22.717   12.825    0.000     1.057     16.907   \n",
       "4       589.919     0.0   16.313   24.554    0.750     0.000     23.032   \n",
       "..          ...     ...      ...      ...      ...       ...        ...   \n",
       "60       34.337     0.0    8.411   18.085    0.000     0.000     33.814   \n",
       "61        0.697     0.0   92.184   27.119   40.846     2.114    187.001   \n",
       "62      135.419     0.0   86.538   26.279    7.978    14.798    277.868   \n",
       "63      147.871     0.0   63.483   78.816   37.333    10.570     26.415   \n",
       "64     1513.438     0.0  103.982  207.514   68.394    54.964    183.848   \n",
       "\n",
       "     SPRITE  \n",
       "0    18.639  \n",
       "1    19.525  \n",
       "2    21.511  \n",
       "3    14.750  \n",
       "4    10.819  \n",
       "..      ...  \n",
       "60   14.709  \n",
       "61   28.312  \n",
       "62   96.693  \n",
       "63   20.371  \n",
       "64  120.031  \n",
       "\n",
       "[65 rows x 72 columns]"
      ]
     },
     "execution_count": 18,
     "metadata": {},
     "output_type": "execute_result"
    }
   ],
   "source": [
    "ist_data"
   ]
  },
  {
   "cell_type": "code",
   "execution_count": 19,
   "metadata": {},
   "outputs": [
    {
     "data": {
      "text/plain": [
       "array(['TRADITIONAL RETAIL'], dtype=object)"
      ]
     },
     "execution_count": 19,
     "metadata": {},
     "output_type": "execute_result"
    }
   ],
   "source": [
    "# real values vs preds. bakılırken bu datayı kullanacaksın.\n",
    "ist_data.MAIN_CHANNEL.unique()"
   ]
  },
  {
   "cell_type": "markdown",
   "metadata": {},
   "source": [
    "### Data Prep."
   ]
  },
  {
   "cell_type": "code",
   "execution_count": 20,
   "metadata": {},
   "outputs": [],
   "source": [
    "prep_data = df_new.copy()"
   ]
  },
  {
   "cell_type": "code",
   "execution_count": 21,
   "metadata": {},
   "outputs": [
    {
     "data": {
      "text/plain": [
       "array(['ON-PREMISE', 'TRADITIONAL RETAIL', 'MODERN RETAIL', 'E-COMMERCE',\n",
       "       'OTHER/THIRD PARTY', 'DISCOUNTER'], dtype=object)"
      ]
     },
     "execution_count": 21,
     "metadata": {},
     "output_type": "execute_result"
    }
   ],
   "source": [
    "prep_data.MAIN_CHANNEL.unique()"
   ]
  },
  {
   "cell_type": "code",
   "execution_count": 22,
   "metadata": {},
   "outputs": [],
   "source": [
    "# sadece traditional olanları al.\n",
    "prep_data = prep_data.query(\"MAIN_CHANNEL=='TRADITIONAL RETAIL'\").reset_index(drop=True)"
   ]
  },
  {
   "cell_type": "code",
   "execution_count": 23,
   "metadata": {},
   "outputs": [],
   "source": [
    "model_data = prep_data.copy()"
   ]
  },
  {
   "cell_type": "code",
   "execution_count": 24,
   "metadata": {},
   "outputs": [
    {
     "data": {
      "text/plain": [
       "24711"
      ]
     },
     "execution_count": 24,
     "metadata": {},
     "output_type": "execute_result"
    }
   ],
   "source": [
    "len(model_data)"
   ]
  },
  {
   "cell_type": "code",
   "execution_count": 25,
   "metadata": {},
   "outputs": [
    {
     "data": {
      "text/html": [
       "<div>\n",
       "<style scoped>\n",
       "    .dataframe tbody tr th:only-of-type {\n",
       "        vertical-align: middle;\n",
       "    }\n",
       "\n",
       "    .dataframe tbody tr th {\n",
       "        vertical-align: top;\n",
       "    }\n",
       "\n",
       "    .dataframe thead th {\n",
       "        text-align: right;\n",
       "    }\n",
       "</style>\n",
       "<table border=\"1\" class=\"dataframe\">\n",
       "  <thead>\n",
       "    <tr style=\"text-align: right;\">\n",
       "      <th></th>\n",
       "      <th>outlet_number</th>\n",
       "      <th>outlet_name</th>\n",
       "      <th>GEOGPOINT</th>\n",
       "      <th>IDARIID</th>\n",
       "      <th>MAIN_CHANNEL</th>\n",
       "      <th>SES</th>\n",
       "      <th>YAS_CLUSTER</th>\n",
       "      <th>ILADI</th>\n",
       "      <th>ILCEADI</th>\n",
       "      <th>HANE_BUYUKLUGU</th>\n",
       "      <th>...</th>\n",
       "      <th>COCACOLA_ENERGY</th>\n",
       "      <th>DAMLA_MINERA</th>\n",
       "      <th>DAMLA_WATER</th>\n",
       "      <th>EXOTIC</th>\n",
       "      <th>FANTA</th>\n",
       "      <th>FUSETEA</th>\n",
       "      <th>MONSTER</th>\n",
       "      <th>POWERADE</th>\n",
       "      <th>SCHWEPPES</th>\n",
       "      <th>SPRITE</th>\n",
       "    </tr>\n",
       "  </thead>\n",
       "  <tbody>\n",
       "    <tr>\n",
       "      <th>0</th>\n",
       "      <td>9533320</td>\n",
       "      <td>CICEK TEKEL</td>\n",
       "      <td>POINT(28.96875466 41.0172719600001)</td>\n",
       "      <td>33796</td>\n",
       "      <td>TRADITIONAL RETAIL</td>\n",
       "      <td>C1</td>\n",
       "      <td>SIFIR</td>\n",
       "      <td>İstanbul</td>\n",
       "      <td>Fatih</td>\n",
       "      <td>1.363636</td>\n",
       "      <td>...</td>\n",
       "      <td>0.528</td>\n",
       "      <td>23.660</td>\n",
       "      <td>78.710</td>\n",
       "      <td>0.0</td>\n",
       "      <td>146.406</td>\n",
       "      <td>39.050</td>\n",
       "      <td>0.000</td>\n",
       "      <td>0.000</td>\n",
       "      <td>102.482</td>\n",
       "      <td>30.260</td>\n",
       "    </tr>\n",
       "    <tr>\n",
       "      <th>1</th>\n",
       "      <td>9653108</td>\n",
       "      <td>SEVENLER MARKET</td>\n",
       "      <td>POINT(28.9624869078397 41.020159595646)</td>\n",
       "      <td>33799</td>\n",
       "      <td>TRADITIONAL RETAIL</td>\n",
       "      <td>D</td>\n",
       "      <td>SIFIR</td>\n",
       "      <td>İstanbul</td>\n",
       "      <td>Fatih</td>\n",
       "      <td>1.195455</td>\n",
       "      <td>...</td>\n",
       "      <td>0.000</td>\n",
       "      <td>20.280</td>\n",
       "      <td>29.231</td>\n",
       "      <td>0.0</td>\n",
       "      <td>120.178</td>\n",
       "      <td>31.249</td>\n",
       "      <td>15.956</td>\n",
       "      <td>4.228</td>\n",
       "      <td>2.113</td>\n",
       "      <td>41.863</td>\n",
       "    </tr>\n",
       "    <tr>\n",
       "      <th>2</th>\n",
       "      <td>9333727</td>\n",
       "      <td>HAKKI INCESU GAZETE BAYII</td>\n",
       "      <td>POINT(28.9637708 41.01996087)</td>\n",
       "      <td>33799</td>\n",
       "      <td>TRADITIONAL RETAIL</td>\n",
       "      <td>D</td>\n",
       "      <td>SIFIR</td>\n",
       "      <td>İstanbul</td>\n",
       "      <td>Fatih</td>\n",
       "      <td>1.195455</td>\n",
       "      <td>...</td>\n",
       "      <td>0.000</td>\n",
       "      <td>22.815</td>\n",
       "      <td>302.225</td>\n",
       "      <td>0.0</td>\n",
       "      <td>47.083</td>\n",
       "      <td>50.333</td>\n",
       "      <td>46.811</td>\n",
       "      <td>1.057</td>\n",
       "      <td>13.529</td>\n",
       "      <td>15.513</td>\n",
       "    </tr>\n",
       "    <tr>\n",
       "      <th>3</th>\n",
       "      <td>10729828</td>\n",
       "      <td>BIZIM BAKKAL</td>\n",
       "      <td>POINT(28.96242579 41.02022647)</td>\n",
       "      <td>33799</td>\n",
       "      <td>TRADITIONAL RETAIL</td>\n",
       "      <td>D</td>\n",
       "      <td>SIFIR</td>\n",
       "      <td>İstanbul</td>\n",
       "      <td>Fatih</td>\n",
       "      <td>1.195455</td>\n",
       "      <td>...</td>\n",
       "      <td>0.000</td>\n",
       "      <td>0.000</td>\n",
       "      <td>14.791</td>\n",
       "      <td>0.0</td>\n",
       "      <td>331.887</td>\n",
       "      <td>28.372</td>\n",
       "      <td>0.000</td>\n",
       "      <td>17.969</td>\n",
       "      <td>14.580</td>\n",
       "      <td>23.181</td>\n",
       "    </tr>\n",
       "    <tr>\n",
       "      <th>4</th>\n",
       "      <td>8941233</td>\n",
       "      <td>OYLUM TEKEL</td>\n",
       "      <td>POINT(28.9609833900001 41.02061902)</td>\n",
       "      <td>33799</td>\n",
       "      <td>TRADITIONAL RETAIL</td>\n",
       "      <td>D</td>\n",
       "      <td>SIFIR</td>\n",
       "      <td>İstanbul</td>\n",
       "      <td>Fatih</td>\n",
       "      <td>1.195455</td>\n",
       "      <td>...</td>\n",
       "      <td>0.000</td>\n",
       "      <td>0.000</td>\n",
       "      <td>10.565</td>\n",
       "      <td>0.0</td>\n",
       "      <td>15.320</td>\n",
       "      <td>0.000</td>\n",
       "      <td>0.000</td>\n",
       "      <td>0.000</td>\n",
       "      <td>0.000</td>\n",
       "      <td>0.845</td>\n",
       "    </tr>\n",
       "  </tbody>\n",
       "</table>\n",
       "<p>5 rows × 71 columns</p>\n",
       "</div>"
      ],
      "text/plain": [
       "   outlet_number                outlet_name  \\\n",
       "0        9533320                CICEK TEKEL   \n",
       "1        9653108            SEVENLER MARKET   \n",
       "2        9333727  HAKKI INCESU GAZETE BAYII   \n",
       "3       10729828               BIZIM BAKKAL   \n",
       "4        8941233                OYLUM TEKEL   \n",
       "\n",
       "                                 GEOGPOINT  IDARIID        MAIN_CHANNEL SES  \\\n",
       "0      POINT(28.96875466 41.0172719600001)    33796  TRADITIONAL RETAIL  C1   \n",
       "1  POINT(28.9624869078397 41.020159595646)    33799  TRADITIONAL RETAIL   D   \n",
       "2            POINT(28.9637708 41.01996087)    33799  TRADITIONAL RETAIL   D   \n",
       "3           POINT(28.96242579 41.02022647)    33799  TRADITIONAL RETAIL   D   \n",
       "4      POINT(28.9609833900001 41.02061902)    33799  TRADITIONAL RETAIL   D   \n",
       "\n",
       "  YAS_CLUSTER     ILADI ILCEADI  HANE_BUYUKLUGU  ...  COCACOLA_ENERGY  \\\n",
       "0       SIFIR  İstanbul   Fatih        1.363636  ...            0.528   \n",
       "1       SIFIR  İstanbul   Fatih        1.195455  ...            0.000   \n",
       "2       SIFIR  İstanbul   Fatih        1.195455  ...            0.000   \n",
       "3       SIFIR  İstanbul   Fatih        1.195455  ...            0.000   \n",
       "4       SIFIR  İstanbul   Fatih        1.195455  ...            0.000   \n",
       "\n",
       "   DAMLA_MINERA  DAMLA_WATER  EXOTIC    FANTA  FUSETEA  MONSTER  POWERADE  \\\n",
       "0        23.660       78.710     0.0  146.406   39.050    0.000     0.000   \n",
       "1        20.280       29.231     0.0  120.178   31.249   15.956     4.228   \n",
       "2        22.815      302.225     0.0   47.083   50.333   46.811     1.057   \n",
       "3         0.000       14.791     0.0  331.887   28.372    0.000    17.969   \n",
       "4         0.000       10.565     0.0   15.320    0.000    0.000     0.000   \n",
       "\n",
       "   SCHWEPPES  SPRITE  \n",
       "0    102.482  30.260  \n",
       "1      2.113  41.863  \n",
       "2     13.529  15.513  \n",
       "3     14.580  23.181  \n",
       "4      0.000   0.845  \n",
       "\n",
       "[5 rows x 71 columns]"
      ]
     },
     "execution_count": 25,
     "metadata": {},
     "output_type": "execute_result"
    }
   ],
   "source": [
    "model_data.head()"
   ]
  },
  {
   "cell_type": "code",
   "execution_count": 26,
   "metadata": {},
   "outputs": [
    {
     "data": {
      "text/plain": [
       "array(['C1', 'D', 'B', 'C2', 'A', 'E'], dtype=object)"
      ]
     },
     "execution_count": 26,
     "metadata": {},
     "output_type": "execute_result"
    }
   ],
   "source": [
    "model_data[\"SES\"].unique()"
   ]
  },
  {
   "cell_type": "markdown",
   "metadata": {},
   "source": [
    "#### Label Encoding"
   ]
  },
  {
   "cell_type": "code",
   "execution_count": 27,
   "metadata": {},
   "outputs": [],
   "source": [
    "model_data[\"SES\"] = model_data[\"SES\"].replace({'A': 6, 'B': 5, 'C1': 4, 'C2': 3, 'D': 2, 'E': 1})"
   ]
  },
  {
   "cell_type": "markdown",
   "metadata": {},
   "source": [
    "#### İçeceklerin Oranları"
   ]
  },
  {
   "cell_type": "code",
   "execution_count": 28,
   "metadata": {},
   "outputs": [],
   "source": [
    "brand_list = [\"BURN\"\n",
    "             ,\"CAPPY\"\n",
    "             ,\"CC_LIGHT\"\n",
    "             ,\"CC_NO_SUGER\"\n",
    "             ,\"COCACOLA\"\n",
    "             ,\"COCACOLA_ENERGY\"\n",
    "             ,\"DAMLA_MINERA\"\n",
    "             ,\"DAMLA_WATER\"\n",
    "             ,\"EXOTIC\"\n",
    "             ,\"FANTA\"\n",
    "             ,\"FUSETEA\"\n",
    "             ,\"MONSTER\"\n",
    "             ,\"POWERADE\"\n",
    "             ,\"SCHWEPPES\"\n",
    "             ,\"SPRITE\"]"
   ]
  },
  {
   "cell_type": "code",
   "execution_count": 29,
   "metadata": {},
   "outputs": [],
   "source": [
    "m = model_data[brand_list]"
   ]
  },
  {
   "cell_type": "code",
   "execution_count": 30,
   "metadata": {},
   "outputs": [
    {
     "name": "stderr",
     "output_type": "stream",
     "text": [
      "/opt/conda/lib/python3.7/site-packages/ipykernel_launcher.py:1: SettingWithCopyWarning: \n",
      "A value is trying to be set on a copy of a slice from a DataFrame.\n",
      "Try using .loc[row_indexer,col_indexer] = value instead\n",
      "\n",
      "See the caveats in the documentation: https://pandas.pydata.org/pandas-docs/stable/user_guide/indexing.html#returning-a-view-versus-a-copy\n",
      "  \"\"\"Entry point for launching an IPython kernel.\n"
     ]
    }
   ],
   "source": [
    "m['total'] = m.sum(axis=1)"
   ]
  },
  {
   "cell_type": "code",
   "execution_count": 31,
   "metadata": {},
   "outputs": [
    {
     "data": {
      "text/html": [
       "<div>\n",
       "<style scoped>\n",
       "    .dataframe tbody tr th:only-of-type {\n",
       "        vertical-align: middle;\n",
       "    }\n",
       "\n",
       "    .dataframe tbody tr th {\n",
       "        vertical-align: top;\n",
       "    }\n",
       "\n",
       "    .dataframe thead th {\n",
       "        text-align: right;\n",
       "    }\n",
       "</style>\n",
       "<table border=\"1\" class=\"dataframe\">\n",
       "  <thead>\n",
       "    <tr style=\"text-align: right;\">\n",
       "      <th></th>\n",
       "      <th>BURN</th>\n",
       "      <th>CAPPY</th>\n",
       "      <th>CC_LIGHT</th>\n",
       "      <th>CC_NO_SUGER</th>\n",
       "      <th>COCACOLA</th>\n",
       "      <th>COCACOLA_ENERGY</th>\n",
       "      <th>DAMLA_MINERA</th>\n",
       "      <th>DAMLA_WATER</th>\n",
       "      <th>EXOTIC</th>\n",
       "      <th>FANTA</th>\n",
       "      <th>FUSETEA</th>\n",
       "      <th>MONSTER</th>\n",
       "      <th>POWERADE</th>\n",
       "      <th>SCHWEPPES</th>\n",
       "      <th>SPRITE</th>\n",
       "      <th>total</th>\n",
       "    </tr>\n",
       "  </thead>\n",
       "  <tbody>\n",
       "    <tr>\n",
       "      <th>0</th>\n",
       "      <td>3.696</td>\n",
       "      <td>133.025</td>\n",
       "      <td>1.585</td>\n",
       "      <td>11.242</td>\n",
       "      <td>470.271</td>\n",
       "      <td>0.528</td>\n",
       "      <td>23.660</td>\n",
       "      <td>78.710</td>\n",
       "      <td>0.0</td>\n",
       "      <td>146.406</td>\n",
       "      <td>39.050</td>\n",
       "      <td>0.000</td>\n",
       "      <td>0.000</td>\n",
       "      <td>102.482</td>\n",
       "      <td>30.260</td>\n",
       "      <td>1040.915</td>\n",
       "    </tr>\n",
       "    <tr>\n",
       "      <th>1</th>\n",
       "      <td>4.224</td>\n",
       "      <td>79.531</td>\n",
       "      <td>0.000</td>\n",
       "      <td>12.742</td>\n",
       "      <td>409.990</td>\n",
       "      <td>0.000</td>\n",
       "      <td>20.280</td>\n",
       "      <td>29.231</td>\n",
       "      <td>0.0</td>\n",
       "      <td>120.178</td>\n",
       "      <td>31.249</td>\n",
       "      <td>15.956</td>\n",
       "      <td>4.228</td>\n",
       "      <td>2.113</td>\n",
       "      <td>41.863</td>\n",
       "      <td>771.585</td>\n",
       "    </tr>\n",
       "    <tr>\n",
       "      <th>2</th>\n",
       "      <td>31.695</td>\n",
       "      <td>195.427</td>\n",
       "      <td>0.000</td>\n",
       "      <td>40.278</td>\n",
       "      <td>143.562</td>\n",
       "      <td>0.000</td>\n",
       "      <td>22.815</td>\n",
       "      <td>302.225</td>\n",
       "      <td>0.0</td>\n",
       "      <td>47.083</td>\n",
       "      <td>50.333</td>\n",
       "      <td>46.811</td>\n",
       "      <td>1.057</td>\n",
       "      <td>13.529</td>\n",
       "      <td>15.513</td>\n",
       "      <td>910.328</td>\n",
       "    </tr>\n",
       "  </tbody>\n",
       "</table>\n",
       "</div>"
      ],
      "text/plain": [
       "     BURN    CAPPY  CC_LIGHT  CC_NO_SUGER  COCACOLA  COCACOLA_ENERGY  \\\n",
       "0   3.696  133.025     1.585       11.242   470.271            0.528   \n",
       "1   4.224   79.531     0.000       12.742   409.990            0.000   \n",
       "2  31.695  195.427     0.000       40.278   143.562            0.000   \n",
       "\n",
       "   DAMLA_MINERA  DAMLA_WATER  EXOTIC    FANTA  FUSETEA  MONSTER  POWERADE  \\\n",
       "0        23.660       78.710     0.0  146.406   39.050    0.000     0.000   \n",
       "1        20.280       29.231     0.0  120.178   31.249   15.956     4.228   \n",
       "2        22.815      302.225     0.0   47.083   50.333   46.811     1.057   \n",
       "\n",
       "   SCHWEPPES  SPRITE     total  \n",
       "0    102.482  30.260  1040.915  \n",
       "1      2.113  41.863   771.585  \n",
       "2     13.529  15.513   910.328  "
      ]
     },
     "execution_count": 31,
     "metadata": {},
     "output_type": "execute_result"
    }
   ],
   "source": [
    "m.head(3)"
   ]
  },
  {
   "cell_type": "code",
   "execution_count": 32,
   "metadata": {},
   "outputs": [],
   "source": [
    "model_data[\"BURN\"] = m[\"BURN\"]/m[\"total\"]\n",
    "model_data[\"CAPPY\"] = m[\"CAPPY\"]/m[\"total\"]\n",
    "model_data[\"CC_LIGHT\"] = m[\"CC_LIGHT\"]/m[\"total\"]\n",
    "model_data[\"CC_NO_SUGER\"] = m[\"CC_NO_SUGER\"]/m[\"total\"]\n",
    "model_data[\"COCACOLA\"] = m[\"COCACOLA\"]/m[\"total\"]\n",
    "model_data[\"COCACOLA_ENERGY\"] = m[\"COCACOLA_ENERGY\"]/m[\"total\"]\n",
    "model_data[\"DAMLA_MINERA\"] = m[\"DAMLA_MINERA\"]/m[\"total\"]\n",
    "model_data[\"DAMLA_WATER\"] = m[\"DAMLA_WATER\"]/m[\"total\"]\n",
    "model_data[\"EXOTIC\"] = m[\"EXOTIC\"]/m[\"total\"]\n",
    "model_data[\"FANTA\"] = m[\"FANTA\"]/m[\"total\"]\n",
    "model_data[\"FUSETEA\"] = m[\"FUSETEA\"]/m[\"total\"]\n",
    "model_data[\"MONSTER\"] = m[\"MONSTER\"]/m[\"total\"]\n",
    "model_data[\"POWERADE\"] = m[\"POWERADE\"]/m[\"total\"]\n",
    "model_data[\"SCHWEPPES\"] = m[\"SCHWEPPES\"]/m[\"total\"]\n",
    "model_data[\"SPRITE\"] = m[\"SPRITE\"]/m[\"total\"]"
   ]
  },
  {
   "cell_type": "markdown",
   "metadata": {},
   "source": [
    "#### Gece Gündüz Oranı"
   ]
  },
  {
   "cell_type": "code",
   "execution_count": 33,
   "metadata": {},
   "outputs": [],
   "source": [
    "# drop columns for final data for model\n",
    "model_data = model_data.drop([\"outlet_name\"                   \n",
    "                             ,\"GEOGPOINT\"\n",
    "                             ,\"IDARIID\"\n",
    "                             ,\"MAIN_CHANNEL\"\n",
    "                             ,\"YAS_CLUSTER\"\n",
    "                             ,\"ILADI\"\n",
    "                             ,\"ILCEADI\"\n",
    "                             ,\"HANE_BUYUKLUGU\"\n",
    "                             ,\"ZENGINLIK_INDEKSI\"\n",
    "                             ],axis=1)"
   ]
  },
  {
   "cell_type": "code",
   "execution_count": 34,
   "metadata": {},
   "outputs": [],
   "source": [
    "model_data['GECE_NUFUS'].replace({0: 0.00001}, inplace=True)\n",
    "model_data['GUNDUZ_NUFUS'].replace({0: 0.00001}, inplace=True)"
   ]
  },
  {
   "cell_type": "code",
   "execution_count": 35,
   "metadata": {},
   "outputs": [
    {
     "data": {
      "text/html": [
       "<div>\n",
       "<style scoped>\n",
       "    .dataframe tbody tr th:only-of-type {\n",
       "        vertical-align: middle;\n",
       "    }\n",
       "\n",
       "    .dataframe tbody tr th {\n",
       "        vertical-align: top;\n",
       "    }\n",
       "\n",
       "    .dataframe thead th {\n",
       "        text-align: right;\n",
       "    }\n",
       "</style>\n",
       "<table border=\"1\" class=\"dataframe\">\n",
       "  <thead>\n",
       "    <tr style=\"text-align: right;\">\n",
       "      <th></th>\n",
       "      <th>outlet_number</th>\n",
       "      <th>SES</th>\n",
       "      <th>GUNDUZ_NUFUS</th>\n",
       "      <th>GECE_NUFUS</th>\n",
       "      <th>SEHIRLESME_INDEKSI</th>\n",
       "      <th>YAYA_TRAFIGI</th>\n",
       "      <th>AYLIK_HARCAMA</th>\n",
       "      <th>GIDAVEICECEK</th>\n",
       "      <th>ALKOLTUTUN</th>\n",
       "      <th>EGLENCEKULTUR</th>\n",
       "      <th>...</th>\n",
       "      <th>COCACOLA_ENERGY</th>\n",
       "      <th>DAMLA_MINERA</th>\n",
       "      <th>DAMLA_WATER</th>\n",
       "      <th>EXOTIC</th>\n",
       "      <th>FANTA</th>\n",
       "      <th>FUSETEA</th>\n",
       "      <th>MONSTER</th>\n",
       "      <th>POWERADE</th>\n",
       "      <th>SCHWEPPES</th>\n",
       "      <th>SPRITE</th>\n",
       "    </tr>\n",
       "  </thead>\n",
       "  <tbody>\n",
       "    <tr>\n",
       "      <th>0</th>\n",
       "      <td>9533320</td>\n",
       "      <td>4</td>\n",
       "      <td>0.00001</td>\n",
       "      <td>15.0</td>\n",
       "      <td>9.000134</td>\n",
       "      <td>8.000846</td>\n",
       "      <td>6481</td>\n",
       "      <td>0.0</td>\n",
       "      <td>0.0</td>\n",
       "      <td>0.0</td>\n",
       "      <td>...</td>\n",
       "      <td>0.000507</td>\n",
       "      <td>0.022730</td>\n",
       "      <td>0.075616</td>\n",
       "      <td>0.0</td>\n",
       "      <td>0.140651</td>\n",
       "      <td>0.037515</td>\n",
       "      <td>0.000000</td>\n",
       "      <td>0.000000</td>\n",
       "      <td>0.098454</td>\n",
       "      <td>0.029071</td>\n",
       "    </tr>\n",
       "    <tr>\n",
       "      <th>1</th>\n",
       "      <td>9653108</td>\n",
       "      <td>2</td>\n",
       "      <td>0.00001</td>\n",
       "      <td>263.0</td>\n",
       "      <td>8.998689</td>\n",
       "      <td>7.000657</td>\n",
       "      <td>2331</td>\n",
       "      <td>0.0</td>\n",
       "      <td>0.0</td>\n",
       "      <td>0.0</td>\n",
       "      <td>...</td>\n",
       "      <td>0.000000</td>\n",
       "      <td>0.026284</td>\n",
       "      <td>0.037884</td>\n",
       "      <td>0.0</td>\n",
       "      <td>0.155755</td>\n",
       "      <td>0.040500</td>\n",
       "      <td>0.020680</td>\n",
       "      <td>0.005480</td>\n",
       "      <td>0.002739</td>\n",
       "      <td>0.054256</td>\n",
       "    </tr>\n",
       "    <tr>\n",
       "      <th>2</th>\n",
       "      <td>9333727</td>\n",
       "      <td>2</td>\n",
       "      <td>0.00001</td>\n",
       "      <td>263.0</td>\n",
       "      <td>8.998689</td>\n",
       "      <td>7.000657</td>\n",
       "      <td>2331</td>\n",
       "      <td>0.0</td>\n",
       "      <td>0.0</td>\n",
       "      <td>0.0</td>\n",
       "      <td>...</td>\n",
       "      <td>0.000000</td>\n",
       "      <td>0.025062</td>\n",
       "      <td>0.331996</td>\n",
       "      <td>0.0</td>\n",
       "      <td>0.051721</td>\n",
       "      <td>0.055291</td>\n",
       "      <td>0.051422</td>\n",
       "      <td>0.001161</td>\n",
       "      <td>0.014862</td>\n",
       "      <td>0.017041</td>\n",
       "    </tr>\n",
       "  </tbody>\n",
       "</table>\n",
       "<p>3 rows × 62 columns</p>\n",
       "</div>"
      ],
      "text/plain": [
       "   outlet_number SES  GUNDUZ_NUFUS  GECE_NUFUS  SEHIRLESME_INDEKSI  \\\n",
       "0        9533320   4       0.00001        15.0            9.000134   \n",
       "1        9653108   2       0.00001       263.0            8.998689   \n",
       "2        9333727   2       0.00001       263.0            8.998689   \n",
       "\n",
       "   YAYA_TRAFIGI  AYLIK_HARCAMA  GIDAVEICECEK  ALKOLTUTUN  EGLENCEKULTUR  ...  \\\n",
       "0      8.000846           6481           0.0         0.0            0.0  ...   \n",
       "1      7.000657           2331           0.0         0.0            0.0  ...   \n",
       "2      7.000657           2331           0.0         0.0            0.0  ...   \n",
       "\n",
       "   COCACOLA_ENERGY  DAMLA_MINERA  DAMLA_WATER  EXOTIC     FANTA   FUSETEA  \\\n",
       "0         0.000507      0.022730     0.075616     0.0  0.140651  0.037515   \n",
       "1         0.000000      0.026284     0.037884     0.0  0.155755  0.040500   \n",
       "2         0.000000      0.025062     0.331996     0.0  0.051721  0.055291   \n",
       "\n",
       "    MONSTER  POWERADE  SCHWEPPES    SPRITE  \n",
       "0  0.000000  0.000000   0.098454  0.029071  \n",
       "1  0.020680  0.005480   0.002739  0.054256  \n",
       "2  0.051422  0.001161   0.014862  0.017041  \n",
       "\n",
       "[3 rows x 62 columns]"
      ]
     },
     "execution_count": 35,
     "metadata": {},
     "output_type": "execute_result"
    }
   ],
   "source": [
    "model_data.head(3)"
   ]
  },
  {
   "cell_type": "code",
   "execution_count": 36,
   "metadata": {},
   "outputs": [],
   "source": [
    "g = model_data[['GUNDUZ_NUFUS','GECE_NUFUS']]"
   ]
  },
  {
   "cell_type": "code",
   "execution_count": 37,
   "metadata": {},
   "outputs": [],
   "source": [
    "model_data[\"gündüz_gece_oran\"] = g[\"GUNDUZ_NUFUS\"]/g[\"GECE_NUFUS\"]"
   ]
  },
  {
   "cell_type": "code",
   "execution_count": 38,
   "metadata": {},
   "outputs": [
    {
     "data": {
      "text/html": [
       "<div>\n",
       "<style scoped>\n",
       "    .dataframe tbody tr th:only-of-type {\n",
       "        vertical-align: middle;\n",
       "    }\n",
       "\n",
       "    .dataframe tbody tr th {\n",
       "        vertical-align: top;\n",
       "    }\n",
       "\n",
       "    .dataframe thead th {\n",
       "        text-align: right;\n",
       "    }\n",
       "</style>\n",
       "<table border=\"1\" class=\"dataframe\">\n",
       "  <thead>\n",
       "    <tr style=\"text-align: right;\">\n",
       "      <th></th>\n",
       "      <th>outlet_number</th>\n",
       "      <th>SES</th>\n",
       "      <th>GUNDUZ_NUFUS</th>\n",
       "      <th>GECE_NUFUS</th>\n",
       "      <th>SEHIRLESME_INDEKSI</th>\n",
       "      <th>YAYA_TRAFIGI</th>\n",
       "      <th>AYLIK_HARCAMA</th>\n",
       "      <th>GIDAVEICECEK</th>\n",
       "      <th>ALKOLTUTUN</th>\n",
       "      <th>EGLENCEKULTUR</th>\n",
       "      <th>...</th>\n",
       "      <th>DAMLA_MINERA</th>\n",
       "      <th>DAMLA_WATER</th>\n",
       "      <th>EXOTIC</th>\n",
       "      <th>FANTA</th>\n",
       "      <th>FUSETEA</th>\n",
       "      <th>MONSTER</th>\n",
       "      <th>POWERADE</th>\n",
       "      <th>SCHWEPPES</th>\n",
       "      <th>SPRITE</th>\n",
       "      <th>gündüz_gece_oran</th>\n",
       "    </tr>\n",
       "  </thead>\n",
       "  <tbody>\n",
       "    <tr>\n",
       "      <th>0</th>\n",
       "      <td>9533320</td>\n",
       "      <td>4</td>\n",
       "      <td>0.00001</td>\n",
       "      <td>15.0</td>\n",
       "      <td>9.000134</td>\n",
       "      <td>8.000846</td>\n",
       "      <td>6481</td>\n",
       "      <td>0.0</td>\n",
       "      <td>0.0</td>\n",
       "      <td>0.0</td>\n",
       "      <td>...</td>\n",
       "      <td>0.022730</td>\n",
       "      <td>0.075616</td>\n",
       "      <td>0.0</td>\n",
       "      <td>0.140651</td>\n",
       "      <td>0.037515</td>\n",
       "      <td>0.000000</td>\n",
       "      <td>0.000000</td>\n",
       "      <td>0.098454</td>\n",
       "      <td>0.029071</td>\n",
       "      <td>6.666667e-07</td>\n",
       "    </tr>\n",
       "    <tr>\n",
       "      <th>1</th>\n",
       "      <td>9653108</td>\n",
       "      <td>2</td>\n",
       "      <td>0.00001</td>\n",
       "      <td>263.0</td>\n",
       "      <td>8.998689</td>\n",
       "      <td>7.000657</td>\n",
       "      <td>2331</td>\n",
       "      <td>0.0</td>\n",
       "      <td>0.0</td>\n",
       "      <td>0.0</td>\n",
       "      <td>...</td>\n",
       "      <td>0.026284</td>\n",
       "      <td>0.037884</td>\n",
       "      <td>0.0</td>\n",
       "      <td>0.155755</td>\n",
       "      <td>0.040500</td>\n",
       "      <td>0.020680</td>\n",
       "      <td>0.005480</td>\n",
       "      <td>0.002739</td>\n",
       "      <td>0.054256</td>\n",
       "      <td>3.802281e-08</td>\n",
       "    </tr>\n",
       "    <tr>\n",
       "      <th>2</th>\n",
       "      <td>9333727</td>\n",
       "      <td>2</td>\n",
       "      <td>0.00001</td>\n",
       "      <td>263.0</td>\n",
       "      <td>8.998689</td>\n",
       "      <td>7.000657</td>\n",
       "      <td>2331</td>\n",
       "      <td>0.0</td>\n",
       "      <td>0.0</td>\n",
       "      <td>0.0</td>\n",
       "      <td>...</td>\n",
       "      <td>0.025062</td>\n",
       "      <td>0.331996</td>\n",
       "      <td>0.0</td>\n",
       "      <td>0.051721</td>\n",
       "      <td>0.055291</td>\n",
       "      <td>0.051422</td>\n",
       "      <td>0.001161</td>\n",
       "      <td>0.014862</td>\n",
       "      <td>0.017041</td>\n",
       "      <td>3.802281e-08</td>\n",
       "    </tr>\n",
       "  </tbody>\n",
       "</table>\n",
       "<p>3 rows × 63 columns</p>\n",
       "</div>"
      ],
      "text/plain": [
       "   outlet_number SES  GUNDUZ_NUFUS  GECE_NUFUS  SEHIRLESME_INDEKSI  \\\n",
       "0        9533320   4       0.00001        15.0            9.000134   \n",
       "1        9653108   2       0.00001       263.0            8.998689   \n",
       "2        9333727   2       0.00001       263.0            8.998689   \n",
       "\n",
       "   YAYA_TRAFIGI  AYLIK_HARCAMA  GIDAVEICECEK  ALKOLTUTUN  EGLENCEKULTUR  ...  \\\n",
       "0      8.000846           6481           0.0         0.0            0.0  ...   \n",
       "1      7.000657           2331           0.0         0.0            0.0  ...   \n",
       "2      7.000657           2331           0.0         0.0            0.0  ...   \n",
       "\n",
       "   DAMLA_MINERA  DAMLA_WATER  EXOTIC     FANTA   FUSETEA   MONSTER  POWERADE  \\\n",
       "0      0.022730     0.075616     0.0  0.140651  0.037515  0.000000  0.000000   \n",
       "1      0.026284     0.037884     0.0  0.155755  0.040500  0.020680  0.005480   \n",
       "2      0.025062     0.331996     0.0  0.051721  0.055291  0.051422  0.001161   \n",
       "\n",
       "   SCHWEPPES    SPRITE  gündüz_gece_oran  \n",
       "0   0.098454  0.029071      6.666667e-07  \n",
       "1   0.002739  0.054256      3.802281e-08  \n",
       "2   0.014862  0.017041      3.802281e-08  \n",
       "\n",
       "[3 rows x 63 columns]"
      ]
     },
     "execution_count": 38,
     "metadata": {},
     "output_type": "execute_result"
    }
   ],
   "source": [
    "model_data.head(3)"
   ]
  },
  {
   "cell_type": "code",
   "execution_count": 39,
   "metadata": {},
   "outputs": [],
   "source": [
    "model_data = model_data.fillna(0)"
   ]
  },
  {
   "cell_type": "code",
   "execution_count": 40,
   "metadata": {},
   "outputs": [],
   "source": [
    "model_data['SES'] = model_data['SES'].astype(str).astype(int)"
   ]
  },
  {
   "cell_type": "code",
   "execution_count": 41,
   "metadata": {},
   "outputs": [
    {
     "data": {
      "text/plain": [
       "array([4, 2, 5, 3, 6, 1])"
      ]
     },
     "execution_count": 41,
     "metadata": {},
     "output_type": "execute_result"
    }
   ],
   "source": [
    "model_data.SES.unique()"
   ]
  },
  {
   "cell_type": "code",
   "execution_count": 42,
   "metadata": {},
   "outputs": [],
   "source": [
    "model_data = model_data.drop([\"outlet_number\"                   \n",
    "                             ,'GUNDUZ_NUFUS'\n",
    "                             ,'GECE_NUFUS'],axis=1)"
   ]
  },
  {
   "cell_type": "code",
   "execution_count": 43,
   "metadata": {},
   "outputs": [
    {
     "name": "stdout",
     "output_type": "stream",
     "text": [
      "<class 'pandas.core.frame.DataFrame'>\n",
      "RangeIndex: 24711 entries, 0 to 24710\n",
      "Data columns (total 60 columns):\n",
      " #   Column                           Non-Null Count  Dtype  \n",
      "---  ------                           --------------  -----  \n",
      " 0   SES                              24711 non-null  int64  \n",
      " 1   SEHIRLESME_INDEKSI               24711 non-null  float64\n",
      " 2   YAYA_TRAFIGI                     24711 non-null  float64\n",
      " 3   AYLIK_HARCAMA                    24711 non-null  int64  \n",
      " 4   GIDAVEICECEK                     24711 non-null  float64\n",
      " 5   ALKOLTUTUN                       24711 non-null  float64\n",
      " 6   EGLENCEKULTUR                    24711 non-null  float64\n",
      " 7   LOKANTAOTEL                      24711 non-null  float64\n",
      " 8   GIDAVEICECEK_ORAN                24711 non-null  float64\n",
      " 9   ALKOLTUTUN_ORAN                  24711 non-null  float64\n",
      " 10  EGLENCEKULTUR_ORAN               24711 non-null  float64\n",
      " 11  LOKANTAOTEL_ORAN                 24711 non-null  float64\n",
      " 12  ISYERI_YOGUNLUGU_SAYI_KM2_YERLE  24711 non-null  float64\n",
      " 13  ISYERI_YOGUNLUGU_SAYI_KM2        24711 non-null  float64\n",
      " 14  KONUT_YOGUNLUGU_SAYI_KM2_YERLES  24711 non-null  float64\n",
      " 15  KONUT_YOGUNLUGU_SAYI_KM2         24711 non-null  float64\n",
      " 16  IL_BAZLI_TURIST_YERLI_ISLETME    24711 non-null  int64  \n",
      " 17  IL_BAZLI_TURIST_YBN_ISLETME      24711 non-null  int64  \n",
      " 18  ORTA_ALT                         24711 non-null  float64\n",
      " 19  ORTA                             24711 non-null  float64\n",
      " 20  ORTA_UST                         24711 non-null  float64\n",
      " 21  UST                              24711 non-null  float64\n",
      " 22  AKARYAKIT                        24711 non-null  float64\n",
      " 23  ALISVERIS                        24711 non-null  float64\n",
      " 24  OUTLET                           24711 non-null  float64\n",
      " 25  KONUT                            24711 non-null  float64\n",
      " 26  EGITIM                           24711 non-null  float64\n",
      " 27  UNIVERSITE                       24711 non-null  float64\n",
      " 28  EGLENCE                          24711 non-null  float64\n",
      " 29  KULTUREL                         24711 non-null  float64\n",
      " 30  TURIZM                           24711 non-null  float64\n",
      " 31  SPOR                             24711 non-null  float64\n",
      " 32  HASTANE                          24711 non-null  float64\n",
      " 33  ASKERI                           24711 non-null  float64\n",
      " 34  DEMIRYOLU                        24711 non-null  float64\n",
      " 35  DENIZYOLU                        24711 non-null  float64\n",
      " 36  HAVAYOLU                         24711 non-null  float64\n",
      " 37  KARAYOLU                         24711 non-null  float64\n",
      " 38  TRAFIK                           24711 non-null  float64\n",
      " 39  E_COMMERCE                       24711 non-null  float64\n",
      " 40  MODERN_RETAIL                    24711 non-null  float64\n",
      " 41  ON_PREMISE                       24711 non-null  float64\n",
      " 42  OTHER_THIRD_PARTY                24711 non-null  float64\n",
      " 43  TRADITIONAL_RETAIL               24711 non-null  float64\n",
      " 44  BURN                             24711 non-null  float64\n",
      " 45  CAPPY                            24711 non-null  float64\n",
      " 46  CC_LIGHT                         24711 non-null  float64\n",
      " 47  CC_NO_SUGER                      24711 non-null  float64\n",
      " 48  COCACOLA                         24711 non-null  float64\n",
      " 49  COCACOLA_ENERGY                  24711 non-null  float64\n",
      " 50  DAMLA_MINERA                     24711 non-null  float64\n",
      " 51  DAMLA_WATER                      24711 non-null  float64\n",
      " 52  EXOTIC                           24711 non-null  float64\n",
      " 53  FANTA                            24711 non-null  float64\n",
      " 54  FUSETEA                          24711 non-null  float64\n",
      " 55  MONSTER                          24711 non-null  float64\n",
      " 56  POWERADE                         24711 non-null  float64\n",
      " 57  SCHWEPPES                        24711 non-null  float64\n",
      " 58  SPRITE                           24711 non-null  float64\n",
      " 59  gündüz_gece_oran                 24711 non-null  float64\n",
      "dtypes: float64(56), int64(4)\n",
      "memory usage: 11.3 MB\n"
     ]
    }
   ],
   "source": [
    "model_data.info()"
   ]
  },
  {
   "cell_type": "markdown",
   "metadata": {},
   "source": [
    "#### Scaling and Normal Dist."
   ]
  },
  {
   "cell_type": "code",
   "execution_count": 44,
   "metadata": {},
   "outputs": [],
   "source": [
    "# define a method to scale data, looping thru the columns, and passing a scaler\n",
    "def scale_data(data):\n",
    "    min_max_scaler = preprocessing.MinMaxScaler()\n",
    "    for col in data.columns:\n",
    "        data[col] = min_max_scaler.fit_transform(data[col].values.reshape(-1, 1))\n",
    "    return data"
   ]
  },
  {
   "cell_type": "code",
   "execution_count": 45,
   "metadata": {},
   "outputs": [],
   "source": [
    "def normal_dist(data):\n",
    "    for col in data.columns:\n",
    "        data[col] = data[col].apply(lambda x: boxcox1p(x,0.25))\n",
    "        stats.boxcox(data[col])[0]\n",
    "    return data"
   ]
  },
  {
   "cell_type": "code",
   "execution_count": 46,
   "metadata": {},
   "outputs": [],
   "source": [
    "def log_data(data):\n",
    "    for col in data.columns:\n",
    "        data[col] = data[col].apply(lambda x: np.log(x))\n",
    "    return data"
   ]
  },
  {
   "cell_type": "code",
   "execution_count": 47,
   "metadata": {},
   "outputs": [],
   "source": [
    "copy_data = model_data.copy()"
   ]
  },
  {
   "cell_type": "code",
   "execution_count": 48,
   "metadata": {},
   "outputs": [
    {
     "data": {
      "text/html": [
       "<div>\n",
       "<style scoped>\n",
       "    .dataframe tbody tr th:only-of-type {\n",
       "        vertical-align: middle;\n",
       "    }\n",
       "\n",
       "    .dataframe tbody tr th {\n",
       "        vertical-align: top;\n",
       "    }\n",
       "\n",
       "    .dataframe thead th {\n",
       "        text-align: right;\n",
       "    }\n",
       "</style>\n",
       "<table border=\"1\" class=\"dataframe\">\n",
       "  <thead>\n",
       "    <tr style=\"text-align: right;\">\n",
       "      <th></th>\n",
       "      <th>SES</th>\n",
       "      <th>SEHIRLESME_INDEKSI</th>\n",
       "      <th>YAYA_TRAFIGI</th>\n",
       "      <th>AYLIK_HARCAMA</th>\n",
       "      <th>GIDAVEICECEK</th>\n",
       "      <th>ALKOLTUTUN</th>\n",
       "      <th>EGLENCEKULTUR</th>\n",
       "      <th>LOKANTAOTEL</th>\n",
       "      <th>GIDAVEICECEK_ORAN</th>\n",
       "      <th>ALKOLTUTUN_ORAN</th>\n",
       "      <th>...</th>\n",
       "      <th>DAMLA_MINERA</th>\n",
       "      <th>DAMLA_WATER</th>\n",
       "      <th>EXOTIC</th>\n",
       "      <th>FANTA</th>\n",
       "      <th>FUSETEA</th>\n",
       "      <th>MONSTER</th>\n",
       "      <th>POWERADE</th>\n",
       "      <th>SCHWEPPES</th>\n",
       "      <th>SPRITE</th>\n",
       "      <th>gündüz_gece_oran</th>\n",
       "    </tr>\n",
       "  </thead>\n",
       "  <tbody>\n",
       "    <tr>\n",
       "      <th>0</th>\n",
       "      <td>4</td>\n",
       "      <td>9.000134</td>\n",
       "      <td>8.000846</td>\n",
       "      <td>6481</td>\n",
       "      <td>0.0</td>\n",
       "      <td>0.0</td>\n",
       "      <td>0.0</td>\n",
       "      <td>0.0</td>\n",
       "      <td>0.0</td>\n",
       "      <td>0.0</td>\n",
       "      <td>...</td>\n",
       "      <td>0.022730</td>\n",
       "      <td>0.075616</td>\n",
       "      <td>0.0</td>\n",
       "      <td>0.140651</td>\n",
       "      <td>0.037515</td>\n",
       "      <td>0.00000</td>\n",
       "      <td>0.00000</td>\n",
       "      <td>0.098454</td>\n",
       "      <td>0.029071</td>\n",
       "      <td>6.666667e-07</td>\n",
       "    </tr>\n",
       "    <tr>\n",
       "      <th>1</th>\n",
       "      <td>2</td>\n",
       "      <td>8.998689</td>\n",
       "      <td>7.000657</td>\n",
       "      <td>2331</td>\n",
       "      <td>0.0</td>\n",
       "      <td>0.0</td>\n",
       "      <td>0.0</td>\n",
       "      <td>0.0</td>\n",
       "      <td>0.0</td>\n",
       "      <td>0.0</td>\n",
       "      <td>...</td>\n",
       "      <td>0.026284</td>\n",
       "      <td>0.037884</td>\n",
       "      <td>0.0</td>\n",
       "      <td>0.155755</td>\n",
       "      <td>0.040500</td>\n",
       "      <td>0.02068</td>\n",
       "      <td>0.00548</td>\n",
       "      <td>0.002739</td>\n",
       "      <td>0.054256</td>\n",
       "      <td>3.802281e-08</td>\n",
       "    </tr>\n",
       "  </tbody>\n",
       "</table>\n",
       "<p>2 rows × 60 columns</p>\n",
       "</div>"
      ],
      "text/plain": [
       "   SES  SEHIRLESME_INDEKSI  YAYA_TRAFIGI  AYLIK_HARCAMA  GIDAVEICECEK  \\\n",
       "0    4            9.000134      8.000846           6481           0.0   \n",
       "1    2            8.998689      7.000657           2331           0.0   \n",
       "\n",
       "   ALKOLTUTUN  EGLENCEKULTUR  LOKANTAOTEL  GIDAVEICECEK_ORAN  ALKOLTUTUN_ORAN  \\\n",
       "0         0.0            0.0          0.0                0.0              0.0   \n",
       "1         0.0            0.0          0.0                0.0              0.0   \n",
       "\n",
       "   ...  DAMLA_MINERA  DAMLA_WATER  EXOTIC     FANTA   FUSETEA  MONSTER  \\\n",
       "0  ...      0.022730     0.075616     0.0  0.140651  0.037515  0.00000   \n",
       "1  ...      0.026284     0.037884     0.0  0.155755  0.040500  0.02068   \n",
       "\n",
       "   POWERADE  SCHWEPPES    SPRITE  gündüz_gece_oran  \n",
       "0   0.00000   0.098454  0.029071      6.666667e-07  \n",
       "1   0.00548   0.002739  0.054256      3.802281e-08  \n",
       "\n",
       "[2 rows x 60 columns]"
      ]
     },
     "execution_count": 48,
     "metadata": {},
     "output_type": "execute_result"
    }
   ],
   "source": [
    "copy_data.head(2)"
   ]
  },
  {
   "cell_type": "code",
   "execution_count": 49,
   "metadata": {},
   "outputs": [],
   "source": [
    "copy_data = copy_data.drop([\"IL_BAZLI_TURIST_YERLI_ISLETME\",\"IL_BAZLI_TURIST_YBN_ISLETME\"],axis=1)"
   ]
  },
  {
   "cell_type": "code",
   "execution_count": 50,
   "metadata": {},
   "outputs": [],
   "source": [
    "copy_data[copy_data < 0] = 0"
   ]
  },
  {
   "cell_type": "code",
   "execution_count": 51,
   "metadata": {},
   "outputs": [],
   "source": [
    "copy_data.replace({0: 0.00001}, inplace=True)"
   ]
  },
  {
   "cell_type": "markdown",
   "metadata": {},
   "source": [
    "#### Normal Dist. Part "
   ]
  },
  {
   "cell_type": "code",
   "execution_count": 52,
   "metadata": {},
   "outputs": [
    {
     "name": "stderr",
     "output_type": "stream",
     "text": [
      "/opt/conda/lib/python3.7/site-packages/numpy/core/_methods.py:205: RuntimeWarning: overflow encountered in multiply\n",
      "  x = um.multiply(x, x, out=x)\n",
      "/opt/conda/lib/python3.7/site-packages/numpy/core/_methods.py:216: RuntimeWarning: overflow encountered in reduce\n",
      "  ret = umr_sum(x, axis, dtype, out, keepdims)\n"
     ]
    }
   ],
   "source": [
    "copy_data[\"SES\"] = stats.boxcox(copy_data[\"SES\"])[0]\n",
    "copy_data[\"SEHIRLESME_INDEKSI\"] = stats.boxcox(copy_data[\"SEHIRLESME_INDEKSI\"])[0]\n",
    "copy_data[\"YAYA_TRAFIGI\"] = stats.boxcox(copy_data[\"YAYA_TRAFIGI\"])[0]\n",
    "copy_data[\"AYLIK_HARCAMA\"] = stats.boxcox(copy_data[\"AYLIK_HARCAMA\"])[0]\n",
    "copy_data[\"GIDAVEICECEK\"] = stats.boxcox(copy_data[\"GIDAVEICECEK\"])[0]\n",
    "copy_data[\"ALKOLTUTUN\"] = stats.boxcox(copy_data[\"ALKOLTUTUN\"])[0]\n",
    "copy_data[\"EGLENCEKULTUR\"] = stats.boxcox(copy_data[\"EGLENCEKULTUR\"])[0]\n",
    "copy_data[\"LOKANTAOTEL\"] = stats.boxcox(copy_data[\"LOKANTAOTEL\"])[0]\n",
    "copy_data[\"GIDAVEICECEK_ORAN\"] = stats.boxcox(copy_data[\"GIDAVEICECEK_ORAN\"])[0]\n",
    "copy_data[\"ALKOLTUTUN_ORAN\"] = stats.boxcox(copy_data[\"ALKOLTUTUN_ORAN\"])[0]\n",
    "copy_data[\"EGLENCEKULTUR_ORAN\"] = stats.boxcox(copy_data[\"EGLENCEKULTUR_ORAN\"])[0]\n",
    "copy_data[\"LOKANTAOTEL_ORAN\"] = stats.boxcox(copy_data[\"LOKANTAOTEL_ORAN\"])[0]\n",
    "copy_data[\"ISYERI_YOGUNLUGU_SAYI_KM2_YERLE\"] = stats.boxcox(copy_data[\"ISYERI_YOGUNLUGU_SAYI_KM2_YERLE\"])[0]\n",
    "copy_data[\"ISYERI_YOGUNLUGU_SAYI_KM2\"] = stats.boxcox(copy_data[\"ISYERI_YOGUNLUGU_SAYI_KM2\"])[0]\n",
    "copy_data[\"KONUT_YOGUNLUGU_SAYI_KM2_YERLES\"] = stats.boxcox(copy_data[\"KONUT_YOGUNLUGU_SAYI_KM2_YERLES\"])[0]\n",
    "copy_data[\"KONUT_YOGUNLUGU_SAYI_KM2\"] = stats.boxcox(copy_data[\"KONUT_YOGUNLUGU_SAYI_KM2\"])[0]\n",
    "#copy_data[\"IL_BAZLI_TURIST_YERLI_ISLETME\"] = stats.boxcox(copy_data[\"IL_BAZLI_TURIST_YERLI_ISLETME\"])[0]\n",
    "#copy_data[\"IL_BAZLI_TURIST_YBN_ISLETME\"] = stats.boxcox(copy_data[\"IL_BAZLI_TURIST_YBN_ISLETME\"])[0]\n",
    "copy_data[\"ORTA_ALT\"] = stats.boxcox(copy_data[\"ORTA_ALT\"])[0]\n",
    "copy_data[\"ORTA\"] = stats.boxcox(copy_data[\"ORTA\"])[0]\n",
    "copy_data[\"ORTA_UST\"] = stats.boxcox(copy_data[\"ORTA_UST\"])[0]\n",
    "copy_data[\"UST\"] = stats.boxcox(copy_data[\"UST\"])[0]\n",
    "copy_data[\"AKARYAKIT\"] = stats.boxcox(copy_data[\"AKARYAKIT\"])[0]\n",
    "copy_data[\"ALISVERIS\"] = stats.boxcox(copy_data[\"ALISVERIS\"])[0]\n",
    "copy_data[\"OUTLET\"] = stats.boxcox(copy_data[\"OUTLET\"])[0]\n",
    "copy_data[\"KONUT\"] = stats.boxcox(copy_data[\"KONUT\"])[0]\n",
    "copy_data[\"EGITIM\"] = stats.boxcox(copy_data[\"EGITIM\"])[0]\n",
    "copy_data[\"UNIVERSITE\"] = stats.boxcox(copy_data[\"UNIVERSITE\"])[0]\n",
    "copy_data[\"EGLENCE\"] = stats.boxcox(copy_data[\"EGLENCE\"])[0]\n",
    "copy_data[\"KULTUREL\"] = stats.boxcox(copy_data[\"KULTUREL\"])[0]\n",
    "copy_data[\"TURIZM\"] = stats.boxcox(copy_data[\"TURIZM\"])[0]\n",
    "copy_data[\"SPOR\"] = stats.boxcox(copy_data[\"SPOR\"])[0]\n",
    "copy_data[\"HASTANE\"] = stats.boxcox(copy_data[\"HASTANE\"])[0]\n",
    "copy_data[\"ASKERI\"] = stats.boxcox(copy_data[\"ASKERI\"])[0]\n",
    "copy_data[\"DEMIRYOLU\"] = stats.boxcox(copy_data[\"DEMIRYOLU\"])[0]\n",
    "copy_data[\"DENIZYOLU\"] = stats.boxcox(copy_data[\"DENIZYOLU\"])[0]\n",
    "copy_data[\"HAVAYOLU\"] = stats.boxcox(copy_data[\"HAVAYOLU\"])[0]\n",
    "copy_data[\"KARAYOLU\"] = stats.boxcox(copy_data[\"KARAYOLU\"])[0]\n",
    "copy_data[\"TRAFIK\"] = stats.boxcox(copy_data[\"TRAFIK\"])[0]\n",
    "copy_data[\"E_COMMERCE\"] = stats.boxcox(copy_data[\"E_COMMERCE\"])[0]\n",
    "copy_data[\"MODERN_RETAIL\"] = stats.boxcox(copy_data[\"MODERN_RETAIL\"])[0]\n",
    "copy_data[\"ON_PREMISE\"] = stats.boxcox(copy_data[\"ON_PREMISE\"])[0]\n",
    "copy_data[\"OTHER_THIRD_PARTY\"] = stats.boxcox(copy_data[\"OTHER_THIRD_PARTY\"])[0]\n",
    "copy_data[\"TRADITIONAL_RETAIL\"] = stats.boxcox(copy_data[\"TRADITIONAL_RETAIL\"])[0]\n",
    "copy_data[\"BURN\"] = stats.boxcox(copy_data[\"BURN\"])[0]\n",
    "copy_data[\"CAPPY\"] = stats.boxcox(copy_data[\"CAPPY\"])[0]\n",
    "copy_data[\"CC_LIGHT\"] = stats.boxcox(copy_data[\"CC_LIGHT\"])[0]\n",
    "copy_data[\"CC_NO_SUGER\"] = stats.boxcox(copy_data[\"CC_NO_SUGER\"])[0]\n",
    "copy_data[\"COCACOLA\"] = stats.boxcox(copy_data[\"COCACOLA\"])[0]\n",
    "copy_data[\"COCACOLA_ENERGY\"] = stats.boxcox(copy_data[\"COCACOLA_ENERGY\"])[0]\n",
    "copy_data[\"DAMLA_MINERA\"] = stats.boxcox(copy_data[\"DAMLA_MINERA\"])[0]\n",
    "copy_data[\"DAMLA_WATER\"] = stats.boxcox(copy_data[\"DAMLA_WATER\"])[0]\n",
    "copy_data[\"EXOTIC\"] = stats.boxcox(copy_data[\"EXOTIC\"])[0]\n",
    "copy_data[\"FANTA\"] = stats.boxcox(copy_data[\"FANTA\"])[0]\n",
    "copy_data[\"FUSETEA\"] = stats.boxcox(copy_data[\"FUSETEA\"])[0]\n",
    "copy_data[\"MONSTER\"] = stats.boxcox(copy_data[\"MONSTER\"])[0]\n",
    "copy_data[\"POWERADE\"] = stats.boxcox(copy_data[\"POWERADE\"])[0]\n",
    "copy_data[\"SCHWEPPES\"] = stats.boxcox(copy_data[\"SCHWEPPES\"])[0]\n",
    "copy_data[\"SPRITE\"] = stats.boxcox(copy_data[\"SPRITE\"])[0]"
   ]
  },
  {
   "cell_type": "code",
   "execution_count": 53,
   "metadata": {},
   "outputs": [
    {
     "data": {
      "text/plain": [
       "<seaborn.axisgrid.FacetGrid at 0x7ff7557f8190>"
      ]
     },
     "execution_count": 53,
     "metadata": {},
     "output_type": "execute_result"
    },
    {
     "data": {
      "image/png": "[encoded data removed]",
      "text/plain": [
       "<Figure size 360x360 with 1 Axes>"
      ]
     },
     "metadata": {},
     "output_type": "display_data"
    }
   ],
   "source": [
    "sns.displot(model_data['AYLIK_HARCAMA'])"
   ]
  },
  {
   "cell_type": "code",
   "execution_count": 54,
   "metadata": {},
   "outputs": [
    {
     "data": {
      "text/plain": [
       "<seaborn.axisgrid.FacetGrid at 0x7ff754ded290>"
      ]
     },
     "execution_count": 54,
     "metadata": {},
     "output_type": "execute_result"
    },
    {
     "data": {
      "image/png": "[encoded data removed]",
      "text/plain": [
       "<Figure size 360x360 with 1 Axes>"
      ]
     },
     "metadata": {},
     "output_type": "display_data"
    }
   ],
   "source": [
    "sns.displot(copy_data[\"AYLIK_HARCAMA\"])"
   ]
  },
  {
   "cell_type": "code",
   "execution_count": 55,
   "metadata": {},
   "outputs": [
    {
     "data": {
      "text/plain": [
       "<seaborn.axisgrid.FacetGrid at 0x7ff754d2ebd0>"
      ]
     },
     "execution_count": 55,
     "metadata": {},
     "output_type": "execute_result"
    },
    {
     "data": {
      "image/png": "[encoded data removed]",
      "text/plain": [
       "<Figure size 360x360 with 1 Axes>"
      ]
     },
     "metadata": {},
     "output_type": "display_data"
    }
   ],
   "source": [
    "sns.displot(model_data[\"LOKANTAOTEL\"])"
   ]
  },
  {
   "cell_type": "code",
   "execution_count": 56,
   "metadata": {},
   "outputs": [
    {
     "data": {
      "text/plain": [
       "<seaborn.axisgrid.FacetGrid at 0x7ff754da9ad0>"
      ]
     },
     "execution_count": 56,
     "metadata": {},
     "output_type": "execute_result"
    },
    {
     "data": {
      "image/png": "[encoded data removed]",
      "text/plain": [
       "<Figure size 360x360 with 1 Axes>"
      ]
     },
     "metadata": {},
     "output_type": "display_data"
    }
   ],
   "source": [
    "sns.displot(copy_data[\"LOKANTAOTEL\"])"
   ]
  },
  {
   "cell_type": "code",
   "execution_count": 57,
   "metadata": {},
   "outputs": [
    {
     "data": {
      "text/plain": [
       "<matplotlib.axes._subplots.AxesSubplot at 0x7ff752c0d350>"
      ]
     },
     "execution_count": 57,
     "metadata": {},
     "output_type": "execute_result"
    },
    {
     "data": {
      "image/png": "[encoded data removed]",
      "text/plain": [
       "<Figure size 432x288 with 1 Axes>"
      ]
     },
     "metadata": {},
     "output_type": "display_data"
    }
   ],
   "source": [
    "model_data.SES.hist()"
   ]
  },
  {
   "cell_type": "code",
   "execution_count": 58,
   "metadata": {},
   "outputs": [
    {
     "data": {
      "text/plain": [
       "<matplotlib.axes._subplots.AxesSubplot at 0x7ff752c0d390>"
      ]
     },
     "execution_count": 58,
     "metadata": {},
     "output_type": "execute_result"
    },
    {
     "data": {
      "image/png": "[encoded data removed]",
      "text/plain": [
       "<Figure size 432x288 with 1 Axes>"
      ]
     },
     "metadata": {},
     "output_type": "display_data"
    }
   ],
   "source": [
    "copy_data.SES.hist()"
   ]
  },
  {
   "cell_type": "markdown",
   "metadata": {},
   "source": [
    "#### Scaling Part"
   ]
  },
  {
   "cell_type": "code",
   "execution_count": 59,
   "metadata": {},
   "outputs": [],
   "source": [
    "scale_df = copy_data.copy()"
   ]
  },
  {
   "cell_type": "code",
   "execution_count": 60,
   "metadata": {},
   "outputs": [],
   "source": [
    "scale_df = scale_data(scale_df)"
   ]
  },
  {
   "cell_type": "code",
   "execution_count": 61,
   "metadata": {},
   "outputs": [
    {
     "data": {
      "text/plain": [
       "<seaborn.axisgrid.FacetGrid at 0x7ff752b08a90>"
      ]
     },
     "execution_count": 61,
     "metadata": {},
     "output_type": "execute_result"
    },
    {
     "data": {
      "image/png": "[encoded data removed]",
      "text/plain": [
       "<Figure size 360x360 with 1 Axes>"
      ]
     },
     "metadata": {},
     "output_type": "display_data"
    }
   ],
   "source": [
    "sns.displot(copy_data['AYLIK_HARCAMA'])"
   ]
  },
  {
   "cell_type": "code",
   "execution_count": 62,
   "metadata": {},
   "outputs": [
    {
     "data": {
      "text/plain": [
       "<seaborn.axisgrid.FacetGrid at 0x7ff7529ac910>"
      ]
     },
     "execution_count": 62,
     "metadata": {},
     "output_type": "execute_result"
    },
    {
     "data": {
      "image/png": "[encoded data removed]",
      "text/plain": [
       "<Figure size 360x360 with 1 Axes>"
      ]
     },
     "metadata": {},
     "output_type": "display_data"
    }
   ],
   "source": [
    "sns.displot(scale_df[\"AYLIK_HARCAMA\"])"
   ]
  },
  {
   "cell_type": "markdown",
   "metadata": {},
   "source": [
    "# Model "
   ]
  },
  {
   "cell_type": "code",
   "execution_count": 63,
   "metadata": {},
   "outputs": [
    {
     "data": {
      "text/plain": [
       "False"
      ]
     },
     "execution_count": 63,
     "metadata": {},
     "output_type": "execute_result"
    }
   ],
   "source": [
    "scale_df.isna().all().all()"
   ]
  },
  {
   "cell_type": "markdown",
   "metadata": {},
   "source": [
    "### K-Means"
   ]
  },
  {
   "cell_type": "code",
   "execution_count": 64,
   "metadata": {},
   "outputs": [],
   "source": [
    "km_model = KMeans(n_clusters=2, random_state=42, max_iter=1000000, init='k-means++')\n",
    "km_model.fit(scale_df)\n",
    "km_preds = km_model.predict(scale_df)"
   ]
  },
  {
   "cell_type": "code",
   "execution_count": 65,
   "metadata": {},
   "outputs": [],
   "source": [
    "final_df = prep_data.copy()"
   ]
  },
  {
   "cell_type": "code",
   "execution_count": 66,
   "metadata": {},
   "outputs": [],
   "source": [
    "final_df[\"k_means_preds\"] = km_preds"
   ]
  },
  {
   "cell_type": "code",
   "execution_count": 67,
   "metadata": {},
   "outputs": [
    {
     "data": {
      "text/html": [
       "<div>\n",
       "<style scoped>\n",
       "    .dataframe tbody tr th:only-of-type {\n",
       "        vertical-align: middle;\n",
       "    }\n",
       "\n",
       "    .dataframe tbody tr th {\n",
       "        vertical-align: top;\n",
       "    }\n",
       "\n",
       "    .dataframe thead th {\n",
       "        text-align: right;\n",
       "    }\n",
       "</style>\n",
       "<table border=\"1\" class=\"dataframe\">\n",
       "  <thead>\n",
       "    <tr style=\"text-align: right;\">\n",
       "      <th></th>\n",
       "      <th>outlet_number</th>\n",
       "      <th>outlet_name</th>\n",
       "      <th>GEOGPOINT</th>\n",
       "      <th>IDARIID</th>\n",
       "      <th>MAIN_CHANNEL</th>\n",
       "      <th>SES</th>\n",
       "      <th>YAS_CLUSTER</th>\n",
       "      <th>ILADI</th>\n",
       "      <th>ILCEADI</th>\n",
       "      <th>HANE_BUYUKLUGU</th>\n",
       "      <th>...</th>\n",
       "      <th>DAMLA_MINERA</th>\n",
       "      <th>DAMLA_WATER</th>\n",
       "      <th>EXOTIC</th>\n",
       "      <th>FANTA</th>\n",
       "      <th>FUSETEA</th>\n",
       "      <th>MONSTER</th>\n",
       "      <th>POWERADE</th>\n",
       "      <th>SCHWEPPES</th>\n",
       "      <th>SPRITE</th>\n",
       "      <th>k_means_preds</th>\n",
       "    </tr>\n",
       "  </thead>\n",
       "  <tbody>\n",
       "    <tr>\n",
       "      <th>0</th>\n",
       "      <td>9533320</td>\n",
       "      <td>CICEK TEKEL</td>\n",
       "      <td>POINT(28.96875466 41.0172719600001)</td>\n",
       "      <td>33796</td>\n",
       "      <td>TRADITIONAL RETAIL</td>\n",
       "      <td>C1</td>\n",
       "      <td>SIFIR</td>\n",
       "      <td>İstanbul</td>\n",
       "      <td>Fatih</td>\n",
       "      <td>1.363636</td>\n",
       "      <td>...</td>\n",
       "      <td>23.660</td>\n",
       "      <td>78.710</td>\n",
       "      <td>0.0</td>\n",
       "      <td>146.406</td>\n",
       "      <td>39.050</td>\n",
       "      <td>0.000</td>\n",
       "      <td>0.000</td>\n",
       "      <td>102.482</td>\n",
       "      <td>30.260</td>\n",
       "      <td>0</td>\n",
       "    </tr>\n",
       "    <tr>\n",
       "      <th>1</th>\n",
       "      <td>9653108</td>\n",
       "      <td>SEVENLER MARKET</td>\n",
       "      <td>POINT(28.9624869078397 41.020159595646)</td>\n",
       "      <td>33799</td>\n",
       "      <td>TRADITIONAL RETAIL</td>\n",
       "      <td>D</td>\n",
       "      <td>SIFIR</td>\n",
       "      <td>İstanbul</td>\n",
       "      <td>Fatih</td>\n",
       "      <td>1.195455</td>\n",
       "      <td>...</td>\n",
       "      <td>20.280</td>\n",
       "      <td>29.231</td>\n",
       "      <td>0.0</td>\n",
       "      <td>120.178</td>\n",
       "      <td>31.249</td>\n",
       "      <td>15.956</td>\n",
       "      <td>4.228</td>\n",
       "      <td>2.113</td>\n",
       "      <td>41.863</td>\n",
       "      <td>1</td>\n",
       "    </tr>\n",
       "    <tr>\n",
       "      <th>2</th>\n",
       "      <td>9333727</td>\n",
       "      <td>HAKKI INCESU GAZETE BAYII</td>\n",
       "      <td>POINT(28.9637708 41.01996087)</td>\n",
       "      <td>33799</td>\n",
       "      <td>TRADITIONAL RETAIL</td>\n",
       "      <td>D</td>\n",
       "      <td>SIFIR</td>\n",
       "      <td>İstanbul</td>\n",
       "      <td>Fatih</td>\n",
       "      <td>1.195455</td>\n",
       "      <td>...</td>\n",
       "      <td>22.815</td>\n",
       "      <td>302.225</td>\n",
       "      <td>0.0</td>\n",
       "      <td>47.083</td>\n",
       "      <td>50.333</td>\n",
       "      <td>46.811</td>\n",
       "      <td>1.057</td>\n",
       "      <td>13.529</td>\n",
       "      <td>15.513</td>\n",
       "      <td>0</td>\n",
       "    </tr>\n",
       "    <tr>\n",
       "      <th>3</th>\n",
       "      <td>10729828</td>\n",
       "      <td>BIZIM BAKKAL</td>\n",
       "      <td>POINT(28.96242579 41.02022647)</td>\n",
       "      <td>33799</td>\n",
       "      <td>TRADITIONAL RETAIL</td>\n",
       "      <td>D</td>\n",
       "      <td>SIFIR</td>\n",
       "      <td>İstanbul</td>\n",
       "      <td>Fatih</td>\n",
       "      <td>1.195455</td>\n",
       "      <td>...</td>\n",
       "      <td>0.000</td>\n",
       "      <td>14.791</td>\n",
       "      <td>0.0</td>\n",
       "      <td>331.887</td>\n",
       "      <td>28.372</td>\n",
       "      <td>0.000</td>\n",
       "      <td>17.969</td>\n",
       "      <td>14.580</td>\n",
       "      <td>23.181</td>\n",
       "      <td>1</td>\n",
       "    </tr>\n",
       "    <tr>\n",
       "      <th>4</th>\n",
       "      <td>8941233</td>\n",
       "      <td>OYLUM TEKEL</td>\n",
       "      <td>POINT(28.9609833900001 41.02061902)</td>\n",
       "      <td>33799</td>\n",
       "      <td>TRADITIONAL RETAIL</td>\n",
       "      <td>D</td>\n",
       "      <td>SIFIR</td>\n",
       "      <td>İstanbul</td>\n",
       "      <td>Fatih</td>\n",
       "      <td>1.195455</td>\n",
       "      <td>...</td>\n",
       "      <td>0.000</td>\n",
       "      <td>10.565</td>\n",
       "      <td>0.0</td>\n",
       "      <td>15.320</td>\n",
       "      <td>0.000</td>\n",
       "      <td>0.000</td>\n",
       "      <td>0.000</td>\n",
       "      <td>0.000</td>\n",
       "      <td>0.845</td>\n",
       "      <td>1</td>\n",
       "    </tr>\n",
       "    <tr>\n",
       "      <th>...</th>\n",
       "      <td>...</td>\n",
       "      <td>...</td>\n",
       "      <td>...</td>\n",
       "      <td>...</td>\n",
       "      <td>...</td>\n",
       "      <td>...</td>\n",
       "      <td>...</td>\n",
       "      <td>...</td>\n",
       "      <td>...</td>\n",
       "      <td>...</td>\n",
       "      <td>...</td>\n",
       "      <td>...</td>\n",
       "      <td>...</td>\n",
       "      <td>...</td>\n",
       "      <td>...</td>\n",
       "      <td>...</td>\n",
       "      <td>...</td>\n",
       "      <td>...</td>\n",
       "      <td>...</td>\n",
       "      <td>...</td>\n",
       "      <td>...</td>\n",
       "    </tr>\n",
       "    <tr>\n",
       "      <th>24706</th>\n",
       "      <td>9552837</td>\n",
       "      <td>NURAL EKMEK</td>\n",
       "      <td>POINT(28.0642712675035 41.2439635349438)</td>\n",
       "      <td>34096</td>\n",
       "      <td>TRADITIONAL RETAIL</td>\n",
       "      <td>D</td>\n",
       "      <td>OLD</td>\n",
       "      <td>İstanbul</td>\n",
       "      <td>Silivri</td>\n",
       "      <td>1.234416</td>\n",
       "      <td>...</td>\n",
       "      <td>3.380</td>\n",
       "      <td>44.902</td>\n",
       "      <td>0.0</td>\n",
       "      <td>60.887</td>\n",
       "      <td>11.812</td>\n",
       "      <td>0.000</td>\n",
       "      <td>0.000</td>\n",
       "      <td>5.071</td>\n",
       "      <td>9.108</td>\n",
       "      <td>1</td>\n",
       "    </tr>\n",
       "    <tr>\n",
       "      <th>24707</th>\n",
       "      <td>9057957</td>\n",
       "      <td>ENIS BUFE</td>\n",
       "      <td>POINT(28.06332231 41.23700267)</td>\n",
       "      <td>34096</td>\n",
       "      <td>TRADITIONAL RETAIL</td>\n",
       "      <td>D</td>\n",
       "      <td>OLD</td>\n",
       "      <td>İstanbul</td>\n",
       "      <td>Silivri</td>\n",
       "      <td>1.234416</td>\n",
       "      <td>...</td>\n",
       "      <td>2.535</td>\n",
       "      <td>292.143</td>\n",
       "      <td>0.0</td>\n",
       "      <td>217.743</td>\n",
       "      <td>28.271</td>\n",
       "      <td>0.000</td>\n",
       "      <td>2.114</td>\n",
       "      <td>23.244</td>\n",
       "      <td>20.096</td>\n",
       "      <td>1</td>\n",
       "    </tr>\n",
       "    <tr>\n",
       "      <th>24708</th>\n",
       "      <td>9377687</td>\n",
       "      <td>GUNDOGDU MARKET</td>\n",
       "      <td>POINT(28.0599458701909 41.2357935681939)</td>\n",
       "      <td>34096</td>\n",
       "      <td>TRADITIONAL RETAIL</td>\n",
       "      <td>D</td>\n",
       "      <td>OLD</td>\n",
       "      <td>İstanbul</td>\n",
       "      <td>Silivri</td>\n",
       "      <td>1.234416</td>\n",
       "      <td>...</td>\n",
       "      <td>0.000</td>\n",
       "      <td>31.695</td>\n",
       "      <td>0.0</td>\n",
       "      <td>155.479</td>\n",
       "      <td>4.395</td>\n",
       "      <td>0.000</td>\n",
       "      <td>0.000</td>\n",
       "      <td>8.029</td>\n",
       "      <td>22.971</td>\n",
       "      <td>1</td>\n",
       "    </tr>\n",
       "    <tr>\n",
       "      <th>24709</th>\n",
       "      <td>9516804</td>\n",
       "      <td>GOKAY MARKET</td>\n",
       "      <td>POINT(28.0643425136805 41.2430779868737)</td>\n",
       "      <td>34096</td>\n",
       "      <td>TRADITIONAL RETAIL</td>\n",
       "      <td>D</td>\n",
       "      <td>OLD</td>\n",
       "      <td>İstanbul</td>\n",
       "      <td>Silivri</td>\n",
       "      <td>1.234416</td>\n",
       "      <td>...</td>\n",
       "      <td>0.000</td>\n",
       "      <td>4.226</td>\n",
       "      <td>0.0</td>\n",
       "      <td>58.162</td>\n",
       "      <td>5.749</td>\n",
       "      <td>0.000</td>\n",
       "      <td>0.000</td>\n",
       "      <td>15.213</td>\n",
       "      <td>7.524</td>\n",
       "      <td>1</td>\n",
       "    </tr>\n",
       "    <tr>\n",
       "      <th>24710</th>\n",
       "      <td>9544437</td>\n",
       "      <td>KAYA GIDA MARKET</td>\n",
       "      <td>POINT(28.0633393675089 41.2373747304082)</td>\n",
       "      <td>34096</td>\n",
       "      <td>TRADITIONAL RETAIL</td>\n",
       "      <td>D</td>\n",
       "      <td>OLD</td>\n",
       "      <td>İstanbul</td>\n",
       "      <td>Silivri</td>\n",
       "      <td>1.234416</td>\n",
       "      <td>...</td>\n",
       "      <td>3.380</td>\n",
       "      <td>43.657</td>\n",
       "      <td>0.0</td>\n",
       "      <td>615.725</td>\n",
       "      <td>39.067</td>\n",
       "      <td>8.864</td>\n",
       "      <td>8.456</td>\n",
       "      <td>116.216</td>\n",
       "      <td>135.354</td>\n",
       "      <td>1</td>\n",
       "    </tr>\n",
       "  </tbody>\n",
       "</table>\n",
       "<p>24711 rows × 72 columns</p>\n",
       "</div>"
      ],
      "text/plain": [
       "       outlet_number                outlet_name  \\\n",
       "0            9533320                CICEK TEKEL   \n",
       "1            9653108            SEVENLER MARKET   \n",
       "2            9333727  HAKKI INCESU GAZETE BAYII   \n",
       "3           10729828               BIZIM BAKKAL   \n",
       "4            8941233                OYLUM TEKEL   \n",
       "...              ...                        ...   \n",
       "24706        9552837                NURAL EKMEK   \n",
       "24707        9057957                  ENIS BUFE   \n",
       "24708        9377687            GUNDOGDU MARKET   \n",
       "24709        9516804               GOKAY MARKET   \n",
       "24710        9544437           KAYA GIDA MARKET   \n",
       "\n",
       "                                      GEOGPOINT  IDARIID        MAIN_CHANNEL  \\\n",
       "0           POINT(28.96875466 41.0172719600001)    33796  TRADITIONAL RETAIL   \n",
       "1       POINT(28.9624869078397 41.020159595646)    33799  TRADITIONAL RETAIL   \n",
       "2                 POINT(28.9637708 41.01996087)    33799  TRADITIONAL RETAIL   \n",
       "3                POINT(28.96242579 41.02022647)    33799  TRADITIONAL RETAIL   \n",
       "4           POINT(28.9609833900001 41.02061902)    33799  TRADITIONAL RETAIL   \n",
       "...                                         ...      ...                 ...   \n",
       "24706  POINT(28.0642712675035 41.2439635349438)    34096  TRADITIONAL RETAIL   \n",
       "24707            POINT(28.06332231 41.23700267)    34096  TRADITIONAL RETAIL   \n",
       "24708  POINT(28.0599458701909 41.2357935681939)    34096  TRADITIONAL RETAIL   \n",
       "24709  POINT(28.0643425136805 41.2430779868737)    34096  TRADITIONAL RETAIL   \n",
       "24710  POINT(28.0633393675089 41.2373747304082)    34096  TRADITIONAL RETAIL   \n",
       "\n",
       "      SES YAS_CLUSTER     ILADI  ILCEADI  HANE_BUYUKLUGU  ...  DAMLA_MINERA  \\\n",
       "0      C1       SIFIR  İstanbul    Fatih        1.363636  ...        23.660   \n",
       "1       D       SIFIR  İstanbul    Fatih        1.195455  ...        20.280   \n",
       "2       D       SIFIR  İstanbul    Fatih        1.195455  ...        22.815   \n",
       "3       D       SIFIR  İstanbul    Fatih        1.195455  ...         0.000   \n",
       "4       D       SIFIR  İstanbul    Fatih        1.195455  ...         0.000   \n",
       "...    ..         ...       ...      ...             ...  ...           ...   \n",
       "24706   D         OLD  İstanbul  Silivri        1.234416  ...         3.380   \n",
       "24707   D         OLD  İstanbul  Silivri        1.234416  ...         2.535   \n",
       "24708   D         OLD  İstanbul  Silivri        1.234416  ...         0.000   \n",
       "24709   D         OLD  İstanbul  Silivri        1.234416  ...         0.000   \n",
       "24710   D         OLD  İstanbul  Silivri        1.234416  ...         3.380   \n",
       "\n",
       "       DAMLA_WATER  EXOTIC    FANTA  FUSETEA  MONSTER  POWERADE  SCHWEPPES  \\\n",
       "0           78.710     0.0  146.406   39.050    0.000     0.000    102.482   \n",
       "1           29.231     0.0  120.178   31.249   15.956     4.228      2.113   \n",
       "2          302.225     0.0   47.083   50.333   46.811     1.057     13.529   \n",
       "3           14.791     0.0  331.887   28.372    0.000    17.969     14.580   \n",
       "4           10.565     0.0   15.320    0.000    0.000     0.000      0.000   \n",
       "...            ...     ...      ...      ...      ...       ...        ...   \n",
       "24706       44.902     0.0   60.887   11.812    0.000     0.000      5.071   \n",
       "24707      292.143     0.0  217.743   28.271    0.000     2.114     23.244   \n",
       "24708       31.695     0.0  155.479    4.395    0.000     0.000      8.029   \n",
       "24709        4.226     0.0   58.162    5.749    0.000     0.000     15.213   \n",
       "24710       43.657     0.0  615.725   39.067    8.864     8.456    116.216   \n",
       "\n",
       "        SPRITE  k_means_preds  \n",
       "0       30.260              0  \n",
       "1       41.863              1  \n",
       "2       15.513              0  \n",
       "3       23.181              1  \n",
       "4        0.845              1  \n",
       "...        ...            ...  \n",
       "24706    9.108              1  \n",
       "24707   20.096              1  \n",
       "24708   22.971              1  \n",
       "24709    7.524              1  \n",
       "24710  135.354              1  \n",
       "\n",
       "[24711 rows x 72 columns]"
      ]
     },
     "execution_count": 67,
     "metadata": {},
     "output_type": "execute_result"
    }
   ],
   "source": [
    "final_df"
   ]
  },
  {
   "cell_type": "markdown",
   "metadata": {},
   "source": [
    "#### Real Values vs Predictions"
   ]
  },
  {
   "cell_type": "code",
   "execution_count": 68,
   "metadata": {},
   "outputs": [
    {
     "data": {
      "text/html": [
       "<div>\n",
       "<style scoped>\n",
       "    .dataframe tbody tr th:only-of-type {\n",
       "        vertical-align: middle;\n",
       "    }\n",
       "\n",
       "    .dataframe tbody tr th {\n",
       "        vertical-align: top;\n",
       "    }\n",
       "\n",
       "    .dataframe thead th {\n",
       "        text-align: right;\n",
       "    }\n",
       "</style>\n",
       "<table border=\"1\" class=\"dataframe\">\n",
       "  <thead>\n",
       "    <tr style=\"text-align: right;\">\n",
       "      <th></th>\n",
       "      <th>outlet_number</th>\n",
       "      <th>high_traffic</th>\n",
       "      <th>outlet_name</th>\n",
       "      <th>GEOGPOINT</th>\n",
       "      <th>IDARIID</th>\n",
       "      <th>MAIN_CHANNEL</th>\n",
       "      <th>SES</th>\n",
       "      <th>YAS_CLUSTER</th>\n",
       "      <th>ILADI</th>\n",
       "      <th>ILCEADI</th>\n",
       "      <th>...</th>\n",
       "      <th>COCACOLA_ENERGY</th>\n",
       "      <th>DAMLA_MINERA</th>\n",
       "      <th>DAMLA_WATER</th>\n",
       "      <th>EXOTIC</th>\n",
       "      <th>FANTA</th>\n",
       "      <th>FUSETEA</th>\n",
       "      <th>MONSTER</th>\n",
       "      <th>POWERADE</th>\n",
       "      <th>SCHWEPPES</th>\n",
       "      <th>SPRITE</th>\n",
       "    </tr>\n",
       "  </thead>\n",
       "  <tbody>\n",
       "    <tr>\n",
       "      <th>0</th>\n",
       "      <td>9422535</td>\n",
       "      <td>0</td>\n",
       "      <td>SAMPIYON TEKEL</td>\n",
       "      <td>POINT(29.08295795 40.96606672)</td>\n",
       "      <td>33849.0</td>\n",
       "      <td>TRADITIONAL RETAIL</td>\n",
       "      <td>A</td>\n",
       "      <td>OLD</td>\n",
       "      <td>İstanbul</td>\n",
       "      <td>Kadıköy</td>\n",
       "      <td>...</td>\n",
       "      <td>0.000</td>\n",
       "      <td>0.845</td>\n",
       "      <td>16.904</td>\n",
       "      <td>0.0</td>\n",
       "      <td>26.544</td>\n",
       "      <td>7.987</td>\n",
       "      <td>2.557</td>\n",
       "      <td>3.171</td>\n",
       "      <td>57.690</td>\n",
       "      <td>18.639</td>\n",
       "    </tr>\n",
       "    <tr>\n",
       "      <th>1</th>\n",
       "      <td>9109019</td>\n",
       "      <td>0</td>\n",
       "      <td>FLAMINGO TEKEL</td>\n",
       "      <td>POINT(29.0819544 40.96638027)</td>\n",
       "      <td>33849.0</td>\n",
       "      <td>TRADITIONAL RETAIL</td>\n",
       "      <td>A</td>\n",
       "      <td>OLD</td>\n",
       "      <td>İstanbul</td>\n",
       "      <td>Kadıköy</td>\n",
       "      <td>...</td>\n",
       "      <td>0.528</td>\n",
       "      <td>7.605</td>\n",
       "      <td>223.259</td>\n",
       "      <td>0.0</td>\n",
       "      <td>33.642</td>\n",
       "      <td>51.174</td>\n",
       "      <td>10.978</td>\n",
       "      <td>11.627</td>\n",
       "      <td>237.728</td>\n",
       "      <td>19.525</td>\n",
       "    </tr>\n",
       "    <tr>\n",
       "      <th>2</th>\n",
       "      <td>9489908</td>\n",
       "      <td>0</td>\n",
       "      <td>FICI TEKEL</td>\n",
       "      <td>POINT(29.0773806720972 40.9648437285796)</td>\n",
       "      <td>33849.0</td>\n",
       "      <td>TRADITIONAL RETAIL</td>\n",
       "      <td>A</td>\n",
       "      <td>OLD</td>\n",
       "      <td>İstanbul</td>\n",
       "      <td>Kadıköy</td>\n",
       "      <td>...</td>\n",
       "      <td>0.000</td>\n",
       "      <td>0.000</td>\n",
       "      <td>60.222</td>\n",
       "      <td>0.0</td>\n",
       "      <td>31.086</td>\n",
       "      <td>4.182</td>\n",
       "      <td>0.000</td>\n",
       "      <td>4.228</td>\n",
       "      <td>33.813</td>\n",
       "      <td>21.511</td>\n",
       "    </tr>\n",
       "  </tbody>\n",
       "</table>\n",
       "<p>3 rows × 72 columns</p>\n",
       "</div>"
      ],
      "text/plain": [
       "   outlet_number  high_traffic     outlet_name  \\\n",
       "0        9422535             0  SAMPIYON TEKEL   \n",
       "1        9109019             0  FLAMINGO TEKEL   \n",
       "2        9489908             0      FICI TEKEL   \n",
       "\n",
       "                                  GEOGPOINT  IDARIID        MAIN_CHANNEL SES  \\\n",
       "0            POINT(29.08295795 40.96606672)  33849.0  TRADITIONAL RETAIL   A   \n",
       "1             POINT(29.0819544 40.96638027)  33849.0  TRADITIONAL RETAIL   A   \n",
       "2  POINT(29.0773806720972 40.9648437285796)  33849.0  TRADITIONAL RETAIL   A   \n",
       "\n",
       "  YAS_CLUSTER     ILADI  ILCEADI  ...  COCACOLA_ENERGY  DAMLA_MINERA  \\\n",
       "0         OLD  İstanbul  Kadıköy  ...            0.000         0.845   \n",
       "1         OLD  İstanbul  Kadıköy  ...            0.528         7.605   \n",
       "2         OLD  İstanbul  Kadıköy  ...            0.000         0.000   \n",
       "\n",
       "   DAMLA_WATER  EXOTIC   FANTA  FUSETEA  MONSTER  POWERADE  SCHWEPPES  SPRITE  \n",
       "0       16.904     0.0  26.544    7.987    2.557     3.171     57.690  18.639  \n",
       "1      223.259     0.0  33.642   51.174   10.978    11.627    237.728  19.525  \n",
       "2       60.222     0.0  31.086    4.182    0.000     4.228     33.813  21.511  \n",
       "\n",
       "[3 rows x 72 columns]"
      ]
     },
     "execution_count": 68,
     "metadata": {},
     "output_type": "execute_result"
    }
   ],
   "source": [
    "# Real Values\n",
    "ist_data.head(3)"
   ]
  },
  {
   "cell_type": "code",
   "execution_count": 69,
   "metadata": {},
   "outputs": [],
   "source": [
    "comparison_df = pd.merge(ist_data, final_df, on='outlet_number')"
   ]
  },
  {
   "cell_type": "code",
   "execution_count": 70,
   "metadata": {},
   "outputs": [
    {
     "data": {
      "text/html": [
       "<div>\n",
       "<style scoped>\n",
       "    .dataframe tbody tr th:only-of-type {\n",
       "        vertical-align: middle;\n",
       "    }\n",
       "\n",
       "    .dataframe tbody tr th {\n",
       "        vertical-align: top;\n",
       "    }\n",
       "\n",
       "    .dataframe thead th {\n",
       "        text-align: right;\n",
       "    }\n",
       "</style>\n",
       "<table border=\"1\" class=\"dataframe\">\n",
       "  <thead>\n",
       "    <tr style=\"text-align: right;\">\n",
       "      <th></th>\n",
       "      <th>high_traffic</th>\n",
       "      <th>k_means_preds</th>\n",
       "    </tr>\n",
       "  </thead>\n",
       "  <tbody>\n",
       "    <tr>\n",
       "      <th>0</th>\n",
       "      <td>0</td>\n",
       "      <td>0</td>\n",
       "    </tr>\n",
       "    <tr>\n",
       "      <th>1</th>\n",
       "      <td>0</td>\n",
       "      <td>0</td>\n",
       "    </tr>\n",
       "    <tr>\n",
       "      <th>2</th>\n",
       "      <td>0</td>\n",
       "      <td>0</td>\n",
       "    </tr>\n",
       "    <tr>\n",
       "      <th>3</th>\n",
       "      <td>0</td>\n",
       "      <td>0</td>\n",
       "    </tr>\n",
       "    <tr>\n",
       "      <th>4</th>\n",
       "      <td>0</td>\n",
       "      <td>0</td>\n",
       "    </tr>\n",
       "    <tr>\n",
       "      <th>...</th>\n",
       "      <td>...</td>\n",
       "      <td>...</td>\n",
       "    </tr>\n",
       "    <tr>\n",
       "      <th>60</th>\n",
       "      <td>1</td>\n",
       "      <td>0</td>\n",
       "    </tr>\n",
       "    <tr>\n",
       "      <th>61</th>\n",
       "      <td>1</td>\n",
       "      <td>0</td>\n",
       "    </tr>\n",
       "    <tr>\n",
       "      <th>62</th>\n",
       "      <td>1</td>\n",
       "      <td>0</td>\n",
       "    </tr>\n",
       "    <tr>\n",
       "      <th>63</th>\n",
       "      <td>1</td>\n",
       "      <td>0</td>\n",
       "    </tr>\n",
       "    <tr>\n",
       "      <th>64</th>\n",
       "      <td>1</td>\n",
       "      <td>0</td>\n",
       "    </tr>\n",
       "  </tbody>\n",
       "</table>\n",
       "<p>65 rows × 2 columns</p>\n",
       "</div>"
      ],
      "text/plain": [
       "    high_traffic  k_means_preds\n",
       "0              0              0\n",
       "1              0              0\n",
       "2              0              0\n",
       "3              0              0\n",
       "4              0              0\n",
       "..           ...            ...\n",
       "60             1              0\n",
       "61             1              0\n",
       "62             1              0\n",
       "63             1              0\n",
       "64             1              0\n",
       "\n",
       "[65 rows x 2 columns]"
      ]
     },
     "execution_count": 70,
     "metadata": {},
     "output_type": "execute_result"
    }
   ],
   "source": [
    "conf_df = comparison_df[[\"high_traffic\",\"k_means_preds\"]]\n",
    "conf_df"
   ]
  },
  {
   "cell_type": "code",
   "execution_count": 71,
   "metadata": {},
   "outputs": [
    {
     "data": {
      "text/plain": [
       "0"
      ]
     },
     "execution_count": 71,
     "metadata": {},
     "output_type": "execute_result"
    }
   ],
   "source": [
    "len(conf_df.query(\"high_traffic == 1 & k_means_preds == 1\")) "
   ]
  },
  {
   "cell_type": "code",
   "execution_count": 72,
   "metadata": {},
   "outputs": [
    {
     "data": {
      "text/plain": [
       "46"
      ]
     },
     "execution_count": 72,
     "metadata": {},
     "output_type": "execute_result"
    }
   ],
   "source": [
    "len(conf_df.query(\"k_means_preds == 0\")) "
   ]
  },
  {
   "cell_type": "code",
   "execution_count": 73,
   "metadata": {},
   "outputs": [],
   "source": [
    "TP = len(conf_df.query(\"high_traffic == 1 & k_means_preds == 1\")) \n",
    "FP = len(conf_df.query(\"high_traffic == 1 & k_means_preds == 0\"))\n",
    "FN = len(conf_df.query(\"high_traffic == 0 & k_means_preds == 1\"))\n",
    "TN = len(conf_df.query(\"high_traffic == 0 & k_means_preds == 0\"))"
   ]
  },
  {
   "cell_type": "code",
   "execution_count": 74,
   "metadata": {},
   "outputs": [
    {
     "name": "stdout",
     "output_type": "stream",
     "text": [
      "TP is: 0\n",
      "FP is: 40\n",
      "FN is: 19\n",
      "TN is: 6\n"
     ]
    }
   ],
   "source": [
    "print(\"TP is:\", TP)\n",
    "print(\"FP is:\", FP)\n",
    "print(\"FN is:\", FN)\n",
    "print(\"TN is:\", TN)"
   ]
  },
  {
   "cell_type": "markdown",
   "metadata": {},
   "source": [
    "### DBSCAN"
   ]
  },
  {
   "cell_type": "code",
   "execution_count": 75,
   "metadata": {},
   "outputs": [],
   "source": [
    "from sklearn.neighbors import NearestNeighbors\n",
    "\n",
    "n = NearestNeighbors(n_neighbors=120)\n",
    "neighbors_fit = n.fit(scale_df)"
   ]
  },
  {
   "cell_type": "code",
   "execution_count": null,
   "metadata": {},
   "outputs": [],
   "source": [
    "distances, indices = neighbors_fit.kneighbors(scale_df)"
   ]
  },
  {
   "cell_type": "code",
   "execution_count": 77,
   "metadata": {},
   "outputs": [],
   "source": [
    "distance = np.sort(distances, axis=0)\n",
    "distance = distance[:,1]"
   ]
  },
  {
   "cell_type": "code",
   "execution_count": 78,
   "metadata": {
    "collapsed": true,
    "jupyter": {
     "outputs_hidden": true
    }
   },
   "outputs": [
    {
     "data": {
      "text/plain": [
       "[<matplotlib.lines.Line2D at 0x7ff7528d2050>]"
      ]
     },
     "execution_count": 78,
     "metadata": {},
     "output_type": "execute_result"
    },
    {
     "data": {
      "image/png": "[encoded data removed]",
      "text/plain": [
       "<Figure size 432x288 with 1 Axes>"
      ]
     },
     "metadata": {},
     "output_type": "display_data"
    }
   ],
   "source": [
    "plt.plot(distance)"
   ]
  },
  {
   "cell_type": "code",
   "execution_count": 79,
   "metadata": {
    "collapsed": true,
    "jupyter": {
     "outputs_hidden": true
    }
   },
   "outputs": [
    {
     "data": {
      "text/plain": [
       "[<matplotlib.lines.Line2D at 0x7ff75500e390>]"
      ]
     },
     "execution_count": 79,
     "metadata": {},
     "output_type": "execute_result"
    },
    {
     "data": {
      "image/png": "[encoded data removed]",
      "text/plain": [
       "<Figure size 432x288 with 1 Axes>"
      ]
     },
     "metadata": {},
     "output_type": "display_data"
    }
   ],
   "source": [
    "plt.axis([20000, 25000, 1.1, 1.6])\n",
    "plt.plot(distance)"
   ]
  },
  {
   "cell_type": "code",
   "execution_count": 80,
   "metadata": {},
   "outputs": [],
   "source": [
    "# Compute DBSCAN\n",
    "db_model = DBSCAN(eps=0.06, min_samples=120)"
   ]
  },
  {
   "cell_type": "code",
   "execution_count": 81,
   "metadata": {},
   "outputs": [],
   "source": [
    "db_preds = db_model.fit(scale_df)"
   ]
  },
  {
   "cell_type": "code",
   "execution_count": 82,
   "metadata": {
    "collapsed": true,
    "jupyter": {
     "outputs_hidden": true
    }
   },
   "outputs": [
    {
     "data": {
      "text/plain": [
       "array([-1])"
      ]
     },
     "execution_count": 82,
     "metadata": {},
     "output_type": "execute_result"
    }
   ],
   "source": [
    "np.unique(db_preds.labels_)"
   ]
  },
  {
   "cell_type": "code",
   "execution_count": 83,
   "metadata": {
    "collapsed": true,
    "jupyter": {
     "outputs_hidden": true
    }
   },
   "outputs": [
    {
     "ename": "NameError",
     "evalue": "name 'y_predicted' is not defined",
     "output_type": "error",
     "traceback": [
      "\u001b[0;31m---------------------------------------------------------------------------\u001b[0m",
      "\u001b[0;31mNameError\u001b[0m                                 Traceback (most recent call last)",
      "\u001b[0;32m<ipython-input-83-1c42f03cbc50>\u001b[0m in \u001b[0;36m<module>\u001b[0;34m\u001b[0m\n\u001b[0;32m----> 1\u001b[0;31m \u001b[0my_predicted\u001b[0m\u001b[0;34m.\u001b[0m\u001b[0mlabels_\u001b[0m\u001b[0;34m\u001b[0m\u001b[0;34m\u001b[0m\u001b[0m\n\u001b[0m",
      "\u001b[0;31mNameError\u001b[0m: name 'y_predicted' is not defined"
     ]
    }
   ],
   "source": [
    "y_predicted.labels_"
   ]
  },
  {
   "cell_type": "markdown",
   "metadata": {},
   "source": [
    "### Hierarchical Clustering"
   ]
  },
  {
   "cell_type": "code",
   "execution_count": 331,
   "metadata": {},
   "outputs": [
    {
     "name": "stdout",
     "output_type": "stream",
     "text": [
      "<class 'pandas.core.frame.DataFrame'>\n",
      "RangeIndex: 24711 entries, 0 to 24710\n",
      "Data columns (total 58 columns):\n",
      " #   Column                           Non-Null Count  Dtype  \n",
      "---  ------                           --------------  -----  \n",
      " 0   SES                              24711 non-null  float64\n",
      " 1   SEHIRLESME_INDEKSI               24711 non-null  float64\n",
      " 2   YAYA_TRAFIGI                     24711 non-null  float64\n",
      " 3   AYLIK_HARCAMA                    24711 non-null  float64\n",
      " 4   GIDAVEICECEK                     24711 non-null  float64\n",
      " 5   ALKOLTUTUN                       24711 non-null  float64\n",
      " 6   EGLENCEKULTUR                    24711 non-null  float64\n",
      " 7   LOKANTAOTEL                      24711 non-null  float64\n",
      " 8   GIDAVEICECEK_ORAN                24711 non-null  float64\n",
      " 9   ALKOLTUTUN_ORAN                  24711 non-null  float64\n",
      " 10  EGLENCEKULTUR_ORAN               24711 non-null  float64\n",
      " 11  LOKANTAOTEL_ORAN                 24711 non-null  float64\n",
      " 12  ISYERI_YOGUNLUGU_SAYI_KM2_YERLE  24711 non-null  float64\n",
      " 13  ISYERI_YOGUNLUGU_SAYI_KM2        24711 non-null  float64\n",
      " 14  KONUT_YOGUNLUGU_SAYI_KM2_YERLES  24711 non-null  float64\n",
      " 15  KONUT_YOGUNLUGU_SAYI_KM2         24711 non-null  float64\n",
      " 16  ORTA_ALT                         24711 non-null  float64\n",
      " 17  ORTA                             24711 non-null  float64\n",
      " 18  ORTA_UST                         24711 non-null  float64\n",
      " 19  UST                              24711 non-null  float64\n",
      " 20  AKARYAKIT                        24711 non-null  float64\n",
      " 21  ALISVERIS                        24711 non-null  float64\n",
      " 22  OUTLET                           24711 non-null  float64\n",
      " 23  KONUT                            24711 non-null  float64\n",
      " 24  EGITIM                           24711 non-null  float64\n",
      " 25  UNIVERSITE                       24711 non-null  float64\n",
      " 26  EGLENCE                          24711 non-null  float64\n",
      " 27  KULTUREL                         24711 non-null  float64\n",
      " 28  TURIZM                           24711 non-null  float64\n",
      " 29  SPOR                             24711 non-null  float64\n",
      " 30  HASTANE                          24711 non-null  float64\n",
      " 31  ASKERI                           24711 non-null  float64\n",
      " 32  DEMIRYOLU                        24711 non-null  float64\n",
      " 33  DENIZYOLU                        24711 non-null  float64\n",
      " 34  HAVAYOLU                         24711 non-null  float64\n",
      " 35  KARAYOLU                         24711 non-null  float64\n",
      " 36  TRAFIK                           24711 non-null  float64\n",
      " 37  E_COMMERCE                       24711 non-null  float64\n",
      " 38  MODERN_RETAIL                    24711 non-null  float64\n",
      " 39  ON_PREMISE                       24711 non-null  float64\n",
      " 40  OTHER_THIRD_PARTY                24711 non-null  float64\n",
      " 41  TRADITIONAL_RETAIL               24711 non-null  float64\n",
      " 42  BURN                             24711 non-null  float64\n",
      " 43  CAPPY                            24711 non-null  float64\n",
      " 44  CC_LIGHT                         24711 non-null  float64\n",
      " 45  CC_NO_SUGER                      24711 non-null  float64\n",
      " 46  COCACOLA                         24711 non-null  float64\n",
      " 47  COCACOLA_ENERGY                  24711 non-null  float64\n",
      " 48  DAMLA_MINERA                     24711 non-null  float64\n",
      " 49  DAMLA_WATER                      24711 non-null  float64\n",
      " 50  EXOTIC                           24711 non-null  float64\n",
      " 51  FANTA                            24711 non-null  float64\n",
      " 52  FUSETEA                          24711 non-null  float64\n",
      " 53  MONSTER                          24711 non-null  float64\n",
      " 54  POWERADE                         24711 non-null  float64\n",
      " 55  SCHWEPPES                        24711 non-null  float64\n",
      " 56  SPRITE                           24711 non-null  float64\n",
      " 57  gündüz_gece_oran                 24711 non-null  float64\n",
      "dtypes: float64(58)\n",
      "memory usage: 10.9 MB\n"
     ]
    }
   ],
   "source": [
    "scale_df.info()"
   ]
  },
  {
   "cell_type": "code",
   "execution_count": 101,
   "metadata": {},
   "outputs": [],
   "source": [
    "from sklearn.cluster import AgglomerativeClustering\n",
    "\n",
    "hrc_model = AgglomerativeClustering(n_clusters=2, linkage='ward', affinity='euclidean')\n",
    "hrc_preds = hrc_model.fit_predict(scale_df)"
   ]
  },
  {
   "cell_type": "code",
   "execution_count": 102,
   "metadata": {},
   "outputs": [],
   "source": [
    "final_df[\"hrc_preds\"] = hrc_preds"
   ]
  },
  {
   "cell_type": "code",
   "execution_count": 103,
   "metadata": {},
   "outputs": [
    {
     "data": {
      "text/plain": [
       "array([0, 1])"
      ]
     },
     "execution_count": 103,
     "metadata": {},
     "output_type": "execute_result"
    }
   ],
   "source": [
    "final_df[\"hrc_preds\"].unique()"
   ]
  },
  {
   "cell_type": "code",
   "execution_count": 154,
   "metadata": {},
   "outputs": [
    {
     "data": {
      "text/plain": [
       "0    15794\n",
       "1     8917\n",
       "Name: hrc_preds, dtype: int64"
      ]
     },
     "execution_count": 154,
     "metadata": {},
     "output_type": "execute_result"
    }
   ],
   "source": [
    "final_df['hrc_preds'].value_counts()"
   ]
  },
  {
   "cell_type": "code",
   "execution_count": 113,
   "metadata": {},
   "outputs": [
    {
     "data": {
      "text/html": [
       "<div>\n",
       "<style scoped>\n",
       "    .dataframe tbody tr th:only-of-type {\n",
       "        vertical-align: middle;\n",
       "    }\n",
       "\n",
       "    .dataframe tbody tr th {\n",
       "        vertical-align: top;\n",
       "    }\n",
       "\n",
       "    .dataframe thead th {\n",
       "        text-align: right;\n",
       "    }\n",
       "</style>\n",
       "<table border=\"1\" class=\"dataframe\">\n",
       "  <thead>\n",
       "    <tr style=\"text-align: right;\">\n",
       "      <th></th>\n",
       "      <th>outlet_number</th>\n",
       "      <th>outlet_name</th>\n",
       "      <th>GEOGPOINT</th>\n",
       "      <th>IDARIID</th>\n",
       "      <th>MAIN_CHANNEL</th>\n",
       "      <th>SES</th>\n",
       "      <th>YAS_CLUSTER</th>\n",
       "      <th>ILADI</th>\n",
       "      <th>ILCEADI</th>\n",
       "      <th>HANE_BUYUKLUGU</th>\n",
       "      <th>...</th>\n",
       "      <th>DAMLA_WATER</th>\n",
       "      <th>EXOTIC</th>\n",
       "      <th>FANTA</th>\n",
       "      <th>FUSETEA</th>\n",
       "      <th>MONSTER</th>\n",
       "      <th>POWERADE</th>\n",
       "      <th>SCHWEPPES</th>\n",
       "      <th>SPRITE</th>\n",
       "      <th>k_means_preds</th>\n",
       "      <th>hrc_preds</th>\n",
       "    </tr>\n",
       "  </thead>\n",
       "  <tbody>\n",
       "    <tr>\n",
       "      <th>0</th>\n",
       "      <td>9533320</td>\n",
       "      <td>CICEK TEKEL</td>\n",
       "      <td>POINT(28.96875466 41.0172719600001)</td>\n",
       "      <td>33796</td>\n",
       "      <td>TRADITIONAL RETAIL</td>\n",
       "      <td>C1</td>\n",
       "      <td>SIFIR</td>\n",
       "      <td>İstanbul</td>\n",
       "      <td>Fatih</td>\n",
       "      <td>1.363636</td>\n",
       "      <td>...</td>\n",
       "      <td>78.710</td>\n",
       "      <td>0.0</td>\n",
       "      <td>146.406</td>\n",
       "      <td>39.050</td>\n",
       "      <td>0.000</td>\n",
       "      <td>0.000</td>\n",
       "      <td>102.482</td>\n",
       "      <td>30.260</td>\n",
       "      <td>0</td>\n",
       "      <td>0</td>\n",
       "    </tr>\n",
       "    <tr>\n",
       "      <th>1</th>\n",
       "      <td>9653108</td>\n",
       "      <td>SEVENLER MARKET</td>\n",
       "      <td>POINT(28.9624869078397 41.020159595646)</td>\n",
       "      <td>33799</td>\n",
       "      <td>TRADITIONAL RETAIL</td>\n",
       "      <td>D</td>\n",
       "      <td>SIFIR</td>\n",
       "      <td>İstanbul</td>\n",
       "      <td>Fatih</td>\n",
       "      <td>1.195455</td>\n",
       "      <td>...</td>\n",
       "      <td>29.231</td>\n",
       "      <td>0.0</td>\n",
       "      <td>120.178</td>\n",
       "      <td>31.249</td>\n",
       "      <td>15.956</td>\n",
       "      <td>4.228</td>\n",
       "      <td>2.113</td>\n",
       "      <td>41.863</td>\n",
       "      <td>1</td>\n",
       "      <td>0</td>\n",
       "    </tr>\n",
       "    <tr>\n",
       "      <th>2</th>\n",
       "      <td>9333727</td>\n",
       "      <td>HAKKI INCESU GAZETE BAYII</td>\n",
       "      <td>POINT(28.9637708 41.01996087)</td>\n",
       "      <td>33799</td>\n",
       "      <td>TRADITIONAL RETAIL</td>\n",
       "      <td>D</td>\n",
       "      <td>SIFIR</td>\n",
       "      <td>İstanbul</td>\n",
       "      <td>Fatih</td>\n",
       "      <td>1.195455</td>\n",
       "      <td>...</td>\n",
       "      <td>302.225</td>\n",
       "      <td>0.0</td>\n",
       "      <td>47.083</td>\n",
       "      <td>50.333</td>\n",
       "      <td>46.811</td>\n",
       "      <td>1.057</td>\n",
       "      <td>13.529</td>\n",
       "      <td>15.513</td>\n",
       "      <td>0</td>\n",
       "      <td>0</td>\n",
       "    </tr>\n",
       "    <tr>\n",
       "      <th>3</th>\n",
       "      <td>10729828</td>\n",
       "      <td>BIZIM BAKKAL</td>\n",
       "      <td>POINT(28.96242579 41.02022647)</td>\n",
       "      <td>33799</td>\n",
       "      <td>TRADITIONAL RETAIL</td>\n",
       "      <td>D</td>\n",
       "      <td>SIFIR</td>\n",
       "      <td>İstanbul</td>\n",
       "      <td>Fatih</td>\n",
       "      <td>1.195455</td>\n",
       "      <td>...</td>\n",
       "      <td>14.791</td>\n",
       "      <td>0.0</td>\n",
       "      <td>331.887</td>\n",
       "      <td>28.372</td>\n",
       "      <td>0.000</td>\n",
       "      <td>17.969</td>\n",
       "      <td>14.580</td>\n",
       "      <td>23.181</td>\n",
       "      <td>1</td>\n",
       "      <td>0</td>\n",
       "    </tr>\n",
       "    <tr>\n",
       "      <th>4</th>\n",
       "      <td>8941233</td>\n",
       "      <td>OYLUM TEKEL</td>\n",
       "      <td>POINT(28.9609833900001 41.02061902)</td>\n",
       "      <td>33799</td>\n",
       "      <td>TRADITIONAL RETAIL</td>\n",
       "      <td>D</td>\n",
       "      <td>SIFIR</td>\n",
       "      <td>İstanbul</td>\n",
       "      <td>Fatih</td>\n",
       "      <td>1.195455</td>\n",
       "      <td>...</td>\n",
       "      <td>10.565</td>\n",
       "      <td>0.0</td>\n",
       "      <td>15.320</td>\n",
       "      <td>0.000</td>\n",
       "      <td>0.000</td>\n",
       "      <td>0.000</td>\n",
       "      <td>0.000</td>\n",
       "      <td>0.845</td>\n",
       "      <td>1</td>\n",
       "      <td>0</td>\n",
       "    </tr>\n",
       "  </tbody>\n",
       "</table>\n",
       "<p>5 rows × 73 columns</p>\n",
       "</div>"
      ],
      "text/plain": [
       "   outlet_number                outlet_name  \\\n",
       "0        9533320                CICEK TEKEL   \n",
       "1        9653108            SEVENLER MARKET   \n",
       "2        9333727  HAKKI INCESU GAZETE BAYII   \n",
       "3       10729828               BIZIM BAKKAL   \n",
       "4        8941233                OYLUM TEKEL   \n",
       "\n",
       "                                 GEOGPOINT  IDARIID        MAIN_CHANNEL SES  \\\n",
       "0      POINT(28.96875466 41.0172719600001)    33796  TRADITIONAL RETAIL  C1   \n",
       "1  POINT(28.9624869078397 41.020159595646)    33799  TRADITIONAL RETAIL   D   \n",
       "2            POINT(28.9637708 41.01996087)    33799  TRADITIONAL RETAIL   D   \n",
       "3           POINT(28.96242579 41.02022647)    33799  TRADITIONAL RETAIL   D   \n",
       "4      POINT(28.9609833900001 41.02061902)    33799  TRADITIONAL RETAIL   D   \n",
       "\n",
       "  YAS_CLUSTER     ILADI ILCEADI  HANE_BUYUKLUGU  ...  DAMLA_WATER  EXOTIC  \\\n",
       "0       SIFIR  İstanbul   Fatih        1.363636  ...       78.710     0.0   \n",
       "1       SIFIR  İstanbul   Fatih        1.195455  ...       29.231     0.0   \n",
       "2       SIFIR  İstanbul   Fatih        1.195455  ...      302.225     0.0   \n",
       "3       SIFIR  İstanbul   Fatih        1.195455  ...       14.791     0.0   \n",
       "4       SIFIR  İstanbul   Fatih        1.195455  ...       10.565     0.0   \n",
       "\n",
       "     FANTA  FUSETEA  MONSTER  POWERADE  SCHWEPPES  SPRITE  k_means_preds  \\\n",
       "0  146.406   39.050    0.000     0.000    102.482  30.260              0   \n",
       "1  120.178   31.249   15.956     4.228      2.113  41.863              1   \n",
       "2   47.083   50.333   46.811     1.057     13.529  15.513              0   \n",
       "3  331.887   28.372    0.000    17.969     14.580  23.181              1   \n",
       "4   15.320    0.000    0.000     0.000      0.000   0.845              1   \n",
       "\n",
       "   hrc_preds  \n",
       "0          0  \n",
       "1          0  \n",
       "2          0  \n",
       "3          0  \n",
       "4          0  \n",
       "\n",
       "[5 rows x 73 columns]"
      ]
     },
     "execution_count": 113,
     "metadata": {},
     "output_type": "execute_result"
    }
   ],
   "source": [
    "final_df.head()"
   ]
  },
  {
   "cell_type": "code",
   "execution_count": 118,
   "metadata": {},
   "outputs": [],
   "source": [
    "comparison_df2 = pd.merge(ist_data, final_df, on='outlet_number')"
   ]
  },
  {
   "cell_type": "code",
   "execution_count": 119,
   "metadata": {},
   "outputs": [
    {
     "data": {
      "text/html": [
       "<div>\n",
       "<style scoped>\n",
       "    .dataframe tbody tr th:only-of-type {\n",
       "        vertical-align: middle;\n",
       "    }\n",
       "\n",
       "    .dataframe tbody tr th {\n",
       "        vertical-align: top;\n",
       "    }\n",
       "\n",
       "    .dataframe thead th {\n",
       "        text-align: right;\n",
       "    }\n",
       "</style>\n",
       "<table border=\"1\" class=\"dataframe\">\n",
       "  <thead>\n",
       "    <tr style=\"text-align: right;\">\n",
       "      <th></th>\n",
       "      <th>high_traffic</th>\n",
       "      <th>hrc_preds</th>\n",
       "    </tr>\n",
       "  </thead>\n",
       "  <tbody>\n",
       "    <tr>\n",
       "      <th>0</th>\n",
       "      <td>0</td>\n",
       "      <td>1</td>\n",
       "    </tr>\n",
       "    <tr>\n",
       "      <th>1</th>\n",
       "      <td>0</td>\n",
       "      <td>1</td>\n",
       "    </tr>\n",
       "    <tr>\n",
       "      <th>2</th>\n",
       "      <td>0</td>\n",
       "      <td>1</td>\n",
       "    </tr>\n",
       "    <tr>\n",
       "      <th>3</th>\n",
       "      <td>0</td>\n",
       "      <td>1</td>\n",
       "    </tr>\n",
       "    <tr>\n",
       "      <th>4</th>\n",
       "      <td>0</td>\n",
       "      <td>1</td>\n",
       "    </tr>\n",
       "    <tr>\n",
       "      <th>...</th>\n",
       "      <td>...</td>\n",
       "      <td>...</td>\n",
       "    </tr>\n",
       "    <tr>\n",
       "      <th>60</th>\n",
       "      <td>1</td>\n",
       "      <td>1</td>\n",
       "    </tr>\n",
       "    <tr>\n",
       "      <th>61</th>\n",
       "      <td>1</td>\n",
       "      <td>1</td>\n",
       "    </tr>\n",
       "    <tr>\n",
       "      <th>62</th>\n",
       "      <td>1</td>\n",
       "      <td>1</td>\n",
       "    </tr>\n",
       "    <tr>\n",
       "      <th>63</th>\n",
       "      <td>1</td>\n",
       "      <td>1</td>\n",
       "    </tr>\n",
       "    <tr>\n",
       "      <th>64</th>\n",
       "      <td>1</td>\n",
       "      <td>1</td>\n",
       "    </tr>\n",
       "  </tbody>\n",
       "</table>\n",
       "<p>65 rows × 2 columns</p>\n",
       "</div>"
      ],
      "text/plain": [
       "    high_traffic  hrc_preds\n",
       "0              0          1\n",
       "1              0          1\n",
       "2              0          1\n",
       "3              0          1\n",
       "4              0          1\n",
       "..           ...        ...\n",
       "60             1          1\n",
       "61             1          1\n",
       "62             1          1\n",
       "63             1          1\n",
       "64             1          1\n",
       "\n",
       "[65 rows x 2 columns]"
      ]
     },
     "execution_count": 119,
     "metadata": {},
     "output_type": "execute_result"
    }
   ],
   "source": [
    "conf_df2 = comparison_df2[[\"high_traffic\",\"hrc_preds\"]]\n",
    "conf_df2"
   ]
  },
  {
   "cell_type": "code",
   "execution_count": 120,
   "metadata": {},
   "outputs": [],
   "source": [
    "TP_ = len(conf_df2.query(\"high_traffic == 1 & hrc_preds == 1\")) \n",
    "FP_ = len(conf_df2.query(\"high_traffic == 1 & hrc_preds == 0\"))\n",
    "FN_ = len(conf_df2.query(\"high_traffic == 0 & hrc_preds == 1\"))\n",
    "TN_ = len(conf_df2.query(\"high_traffic == 0 & hrc_preds == 0\"))"
   ]
  },
  {
   "cell_type": "code",
   "execution_count": 347,
   "metadata": {},
   "outputs": [
    {
     "name": "stdout",
     "output_type": "stream",
     "text": [
      "TP is: 36\n",
      "FP is: 4\n",
      "FN is: 7\n",
      "TN is: 18\n"
     ]
    }
   ],
   "source": [
    "print(\"TP is:\", TP_)\n",
    "print(\"FP is:\", FP_)\n",
    "print(\"FN is:\", FN_)\n",
    "print(\"TN is:\", TN_)"
   ]
  },
  {
   "cell_type": "code",
   "execution_count": 352,
   "metadata": {},
   "outputs": [
    {
     "name": "stdout",
     "output_type": "stream",
     "text": [
      "Accuracy is: % 83.07692307692308\n"
     ]
    }
   ],
   "source": [
    "print(\"Accuracy is: %\", (TP_+TN_)/(TP_+TN_+FN_+FP_)*100)"
   ]
  },
  {
   "cell_type": "markdown",
   "metadata": {},
   "source": [
    "<img src=\"image.png\" width=300 height=300 />\n"
   ]
  },
  {
   "cell_type": "markdown",
   "metadata": {},
   "source": [
    "### -> % 83 accuracy"
   ]
  },
  {
   "cell_type": "code",
   "execution_count": 128,
   "metadata": {},
   "outputs": [],
   "source": [
    "# extract coordinates\n",
    "final_df[\"x\"] = final_df[\"GEOGPOINT\"].apply(lambda x: x.split(\")\")[0].split(\"POINT(\")[1].split(\" \")[1])\n",
    "final_df[\"y\"] = final_df[\"GEOGPOINT\"].apply(lambda x: x.split(\")\")[0].split(\"POINT(\")[1].split(\" \")[0])"
   ]
  },
  {
   "cell_type": "code",
   "execution_count": 130,
   "metadata": {},
   "outputs": [],
   "source": [
    "final_df[\"y\"] = pd.to_numeric(final_df[\"y\"], downcast=\"float\")\n",
    "final_df[\"x\"] = pd.to_numeric(final_df[\"x\"], downcast=\"float\")"
   ]
  },
  {
   "cell_type": "markdown",
   "metadata": {},
   "source": [
    "## Decision Points"
   ]
  },
  {
   "cell_type": "code",
   "execution_count": 201,
   "metadata": {},
   "outputs": [],
   "source": [
    "# decision tree için kullanılacak bu data; içinde scale edilmiş değerler yanında hier. clustering prediction'larını da içerir.\n",
    "decision_df = scale_df.copy()"
   ]
  },
  {
   "cell_type": "code",
   "execution_count": 202,
   "metadata": {},
   "outputs": [],
   "source": [
    "decision_df['hrc_preds'] = hrc_preds"
   ]
  },
  {
   "cell_type": "code",
   "execution_count": 209,
   "metadata": {
    "collapsed": true,
    "jupyter": {
     "outputs_hidden": true
    }
   },
   "outputs": [
    {
     "name": "stdout",
     "output_type": "stream",
     "text": [
      "|--- feature_24 <= 0.49\n",
      "|   |--- feature_38 <= 0.50\n",
      "|   |   |--- feature_29 <= 0.50\n",
      "|   |   |   |--- feature_6 <= 0.76\n",
      "|   |   |   |   |--- feature_30 <= 0.50\n",
      "|   |   |   |   |   |--- feature_28 <= 0.50\n",
      "|   |   |   |   |   |   |--- feature_16 <= 0.50\n",
      "|   |   |   |   |   |   |   |--- feature_20 <= 0.50\n",
      "|   |   |   |   |   |   |   |   |--- feature_18 <= 0.50\n",
      "|   |   |   |   |   |   |   |   |   |--- feature_47 <= 1.00\n",
      "|   |   |   |   |   |   |   |   |   |   |--- feature_39 <= 0.80\n",
      "|   |   |   |   |   |   |   |   |   |   |   |--- truncated branch of depth 7\n",
      "|   |   |   |   |   |   |   |   |   |   |--- feature_39 >  0.80\n",
      "|   |   |   |   |   |   |   |   |   |   |   |--- truncated branch of depth 5\n",
      "|   |   |   |   |   |   |   |   |   |--- feature_47 >  1.00\n",
      "|   |   |   |   |   |   |   |   |   |   |--- feature_44 <= 0.91\n",
      "|   |   |   |   |   |   |   |   |   |   |   |--- truncated branch of depth 3\n",
      "|   |   |   |   |   |   |   |   |   |   |--- feature_44 >  0.91\n",
      "|   |   |   |   |   |   |   |   |   |   |   |--- truncated branch of depth 5\n",
      "|   |   |   |   |   |   |   |   |--- feature_18 >  0.50\n",
      "|   |   |   |   |   |   |   |   |   |--- feature_23 <= 0.49\n",
      "|   |   |   |   |   |   |   |   |   |   |--- feature_52 <= 0.45\n",
      "|   |   |   |   |   |   |   |   |   |   |   |--- class: 0\n",
      "|   |   |   |   |   |   |   |   |   |   |--- feature_52 >  0.45\n",
      "|   |   |   |   |   |   |   |   |   |   |   |--- truncated branch of depth 2\n",
      "|   |   |   |   |   |   |   |   |   |--- feature_23 >  0.49\n",
      "|   |   |   |   |   |   |   |   |   |   |--- feature_54 <= 0.40\n",
      "|   |   |   |   |   |   |   |   |   |   |   |--- truncated branch of depth 2\n",
      "|   |   |   |   |   |   |   |   |   |   |--- feature_54 >  0.40\n",
      "|   |   |   |   |   |   |   |   |   |   |   |--- class: 1\n",
      "|   |   |   |   |   |   |   |--- feature_20 >  0.50\n",
      "|   |   |   |   |   |   |   |   |--- feature_2 <= 0.33\n",
      "|   |   |   |   |   |   |   |   |   |--- class: 0\n",
      "|   |   |   |   |   |   |   |   |--- feature_2 >  0.33\n",
      "|   |   |   |   |   |   |   |   |   |--- feature_42 <= 0.34\n",
      "|   |   |   |   |   |   |   |   |   |   |--- feature_44 <= 0.48\n",
      "|   |   |   |   |   |   |   |   |   |   |   |--- truncated branch of depth 2\n",
      "|   |   |   |   |   |   |   |   |   |   |--- feature_44 >  0.48\n",
      "|   |   |   |   |   |   |   |   |   |   |   |--- class: 0\n",
      "|   |   |   |   |   |   |   |   |   |--- feature_42 >  0.34\n",
      "|   |   |   |   |   |   |   |   |   |   |--- feature_36 <= 0.42\n",
      "|   |   |   |   |   |   |   |   |   |   |   |--- truncated branch of depth 4\n",
      "|   |   |   |   |   |   |   |   |   |   |--- feature_36 >  0.42\n",
      "|   |   |   |   |   |   |   |   |   |   |   |--- class: 0\n",
      "|   |   |   |   |   |   |--- feature_16 >  0.50\n",
      "|   |   |   |   |   |   |   |--- feature_17 <= 0.43\n",
      "|   |   |   |   |   |   |   |   |--- class: 0\n",
      "|   |   |   |   |   |   |   |--- feature_17 >  0.43\n",
      "|   |   |   |   |   |   |   |   |--- feature_46 <= 0.51\n",
      "|   |   |   |   |   |   |   |   |   |--- class: 1\n",
      "|   |   |   |   |   |   |   |   |--- feature_46 >  0.51\n",
      "|   |   |   |   |   |   |   |   |   |--- feature_39 <= 0.77\n",
      "|   |   |   |   |   |   |   |   |   |   |--- class: 1\n",
      "|   |   |   |   |   |   |   |   |   |--- feature_39 >  0.77\n",
      "|   |   |   |   |   |   |   |   |   |   |--- class: 0\n",
      "|   |   |   |   |   |--- feature_28 >  0.50\n",
      "|   |   |   |   |   |   |--- feature_5 <= 0.71\n",
      "|   |   |   |   |   |   |   |--- feature_35 <= 0.47\n",
      "|   |   |   |   |   |   |   |   |--- class: 0\n",
      "|   |   |   |   |   |   |   |--- feature_35 >  0.47\n",
      "|   |   |   |   |   |   |   |   |--- feature_52 <= 0.30\n",
      "|   |   |   |   |   |   |   |   |   |--- feature_52 <= 0.20\n",
      "|   |   |   |   |   |   |   |   |   |   |--- class: 0\n",
      "|   |   |   |   |   |   |   |   |   |--- feature_52 >  0.20\n",
      "|   |   |   |   |   |   |   |   |   |   |--- feature_21 <= 0.60\n",
      "|   |   |   |   |   |   |   |   |   |   |   |--- truncated branch of depth 3\n",
      "|   |   |   |   |   |   |   |   |   |   |--- feature_21 >  0.60\n",
      "|   |   |   |   |   |   |   |   |   |   |   |--- class: 1\n",
      "|   |   |   |   |   |   |   |   |--- feature_52 >  0.30\n",
      "|   |   |   |   |   |   |   |   |   |--- class: 0\n",
      "|   |   |   |   |   |   |--- feature_5 >  0.71\n",
      "|   |   |   |   |   |   |   |--- feature_54 <= 0.82\n",
      "|   |   |   |   |   |   |   |   |--- feature_46 <= 0.21\n",
      "|   |   |   |   |   |   |   |   |   |--- feature_42 <= 0.53\n",
      "|   |   |   |   |   |   |   |   |   |   |--- feature_15 <= 0.12\n",
      "|   |   |   |   |   |   |   |   |   |   |   |--- truncated branch of depth 2\n",
      "|   |   |   |   |   |   |   |   |   |   |--- feature_15 >  0.12\n",
      "|   |   |   |   |   |   |   |   |   |   |   |--- class: 0\n",
      "|   |   |   |   |   |   |   |   |   |--- feature_42 >  0.53\n",
      "|   |   |   |   |   |   |   |   |   |   |--- class: 1\n",
      "|   |   |   |   |   |   |   |   |--- feature_46 >  0.21\n",
      "|   |   |   |   |   |   |   |   |   |--- feature_42 <= 0.38\n",
      "|   |   |   |   |   |   |   |   |   |   |--- class: 0\n",
      "|   |   |   |   |   |   |   |   |   |--- feature_42 >  0.38\n",
      "|   |   |   |   |   |   |   |   |   |   |--- feature_39 <= 0.76\n",
      "|   |   |   |   |   |   |   |   |   |   |   |--- class: 0\n",
      "|   |   |   |   |   |   |   |   |   |   |--- feature_39 >  0.76\n",
      "|   |   |   |   |   |   |   |   |   |   |   |--- truncated branch of depth 2\n",
      "|   |   |   |   |   |   |   |--- feature_54 >  0.82\n",
      "|   |   |   |   |   |   |   |   |--- feature_36 <= 0.42\n",
      "|   |   |   |   |   |   |   |   |   |--- feature_44 <= 0.96\n",
      "|   |   |   |   |   |   |   |   |   |   |--- feature_39 <= 0.87\n",
      "|   |   |   |   |   |   |   |   |   |   |   |--- class: 0\n",
      "|   |   |   |   |   |   |   |   |   |   |--- feature_39 >  0.87\n",
      "|   |   |   |   |   |   |   |   |   |   |   |--- class: 1\n",
      "|   |   |   |   |   |   |   |   |   |--- feature_44 >  0.96\n",
      "|   |   |   |   |   |   |   |   |   |   |--- feature_23 <= 0.49\n",
      "|   |   |   |   |   |   |   |   |   |   |   |--- class: 1\n",
      "|   |   |   |   |   |   |   |   |   |   |--- feature_23 >  0.49\n",
      "|   |   |   |   |   |   |   |   |   |   |   |--- class: 0\n",
      "|   |   |   |   |   |   |   |   |--- feature_36 >  0.42\n",
      "|   |   |   |   |   |   |   |   |   |--- feature_22 <= 0.52\n",
      "|   |   |   |   |   |   |   |   |   |   |--- feature_21 <= 0.22\n",
      "|   |   |   |   |   |   |   |   |   |   |   |--- class: 1\n",
      "|   |   |   |   |   |   |   |   |   |   |--- feature_21 >  0.22\n",
      "|   |   |   |   |   |   |   |   |   |   |   |--- truncated branch of depth 2\n",
      "|   |   |   |   |   |   |   |   |   |--- feature_22 >  0.52\n",
      "|   |   |   |   |   |   |   |   |   |   |--- class: 1\n",
      "|   |   |   |   |--- feature_30 >  0.50\n",
      "|   |   |   |   |   |--- feature_1 <= 0.31\n",
      "|   |   |   |   |   |   |--- class: 0\n",
      "|   |   |   |   |   |--- feature_1 >  0.31\n",
      "|   |   |   |   |   |   |--- feature_39 <= 0.70\n",
      "|   |   |   |   |   |   |   |--- feature_23 <= 0.49\n",
      "|   |   |   |   |   |   |   |   |--- feature_49 <= 0.07\n",
      "|   |   |   |   |   |   |   |   |   |--- class: 0\n",
      "|   |   |   |   |   |   |   |   |--- feature_49 >  0.07\n",
      "|   |   |   |   |   |   |   |   |   |--- class: 1\n",
      "|   |   |   |   |   |   |   |--- feature_23 >  0.49\n",
      "|   |   |   |   |   |   |   |   |--- feature_9 <= 0.79\n",
      "|   |   |   |   |   |   |   |   |   |--- class: 1\n",
      "|   |   |   |   |   |   |   |   |--- feature_9 >  0.79\n",
      "|   |   |   |   |   |   |   |   |   |--- class: 0\n",
      "|   |   |   |   |   |   |--- feature_39 >  0.70\n",
      "|   |   |   |   |   |   |   |--- feature_1 <= 1.00\n",
      "|   |   |   |   |   |   |   |   |--- feature_45 <= 0.23\n",
      "|   |   |   |   |   |   |   |   |   |--- feature_15 <= 0.59\n",
      "|   |   |   |   |   |   |   |   |   |   |--- class: 0\n",
      "|   |   |   |   |   |   |   |   |   |--- feature_15 >  0.59\n",
      "|   |   |   |   |   |   |   |   |   |   |--- class: 1\n",
      "|   |   |   |   |   |   |   |   |--- feature_45 >  0.23\n",
      "|   |   |   |   |   |   |   |   |   |--- class: 1\n",
      "|   |   |   |   |   |   |   |--- feature_1 >  1.00\n",
      "|   |   |   |   |   |   |   |   |--- feature_43 <= 0.28\n",
      "|   |   |   |   |   |   |   |   |   |--- feature_42 <= 0.38\n",
      "|   |   |   |   |   |   |   |   |   |   |--- class: 1\n",
      "|   |   |   |   |   |   |   |   |   |--- feature_42 >  0.38\n",
      "|   |   |   |   |   |   |   |   |   |   |--- class: 0\n",
      "|   |   |   |   |   |   |   |   |--- feature_43 >  0.28\n",
      "|   |   |   |   |   |   |   |   |   |--- class: 0\n",
      "|   |   |   |--- feature_6 >  0.76\n",
      "|   |   |   |   |--- feature_23 <= 0.49\n",
      "|   |   |   |   |   |--- feature_44 <= 0.88\n",
      "|   |   |   |   |   |   |--- feature_15 <= 0.23\n",
      "|   |   |   |   |   |   |   |--- feature_41 <= 0.11\n",
      "|   |   |   |   |   |   |   |   |--- feature_46 <= 0.23\n",
      "|   |   |   |   |   |   |   |   |   |--- class: 1\n",
      "|   |   |   |   |   |   |   |   |--- feature_46 >  0.23\n",
      "|   |   |   |   |   |   |   |   |   |--- class: 0\n",
      "|   |   |   |   |   |   |   |--- feature_41 >  0.11\n",
      "|   |   |   |   |   |   |   |   |--- feature_1 <= 1.00\n",
      "|   |   |   |   |   |   |   |   |   |--- feature_15 <= 0.19\n",
      "|   |   |   |   |   |   |   |   |   |   |--- class: 1\n",
      "|   |   |   |   |   |   |   |   |   |--- feature_15 >  0.19\n",
      "|   |   |   |   |   |   |   |   |   |   |--- feature_42 <= 0.14\n",
      "|   |   |   |   |   |   |   |   |   |   |   |--- truncated branch of depth 3\n",
      "|   |   |   |   |   |   |   |   |   |   |--- feature_42 >  0.14\n",
      "|   |   |   |   |   |   |   |   |   |   |   |--- class: 1\n",
      "|   |   |   |   |   |   |   |   |--- feature_1 >  1.00\n",
      "|   |   |   |   |   |   |   |   |   |--- feature_55 <= 0.46\n",
      "|   |   |   |   |   |   |   |   |   |   |--- class: 0\n",
      "|   |   |   |   |   |   |   |   |   |--- feature_55 >  0.46\n",
      "|   |   |   |   |   |   |   |   |   |   |--- class: 1\n",
      "|   |   |   |   |   |   |--- feature_15 >  0.23\n",
      "|   |   |   |   |   |   |   |--- feature_32 <= 0.50\n",
      "|   |   |   |   |   |   |   |   |--- feature_22 <= 0.52\n",
      "|   |   |   |   |   |   |   |   |   |--- feature_54 <= 0.83\n",
      "|   |   |   |   |   |   |   |   |   |   |--- class: 0\n",
      "|   |   |   |   |   |   |   |   |   |--- feature_54 >  0.83\n",
      "|   |   |   |   |   |   |   |   |   |   |--- feature_53 <= 0.81\n",
      "|   |   |   |   |   |   |   |   |   |   |   |--- truncated branch of depth 4\n",
      "|   |   |   |   |   |   |   |   |   |   |--- feature_53 >  0.81\n",
      "|   |   |   |   |   |   |   |   |   |   |   |--- class: 1\n",
      "|   |   |   |   |   |   |   |   |--- feature_22 >  0.52\n",
      "|   |   |   |   |   |   |   |   |   |--- feature_35 <= 0.47\n",
      "|   |   |   |   |   |   |   |   |   |   |--- feature_14 <= 0.45\n",
      "|   |   |   |   |   |   |   |   |   |   |   |--- class: 1\n",
      "|   |   |   |   |   |   |   |   |   |   |--- feature_14 >  0.45\n",
      "|   |   |   |   |   |   |   |   |   |   |   |--- truncated branch of depth 3\n",
      "|   |   |   |   |   |   |   |   |   |--- feature_35 >  0.47\n",
      "|   |   |   |   |   |   |   |   |   |   |--- class: 0\n",
      "|   |   |   |   |   |   |   |--- feature_32 >  0.50\n",
      "|   |   |   |   |   |   |   |   |--- feature_7 <= 0.88\n",
      "|   |   |   |   |   |   |   |   |   |--- class: 1\n",
      "|   |   |   |   |   |   |   |   |--- feature_7 >  0.88\n",
      "|   |   |   |   |   |   |   |   |   |--- class: 0\n",
      "|   |   |   |   |   |--- feature_44 >  0.88\n",
      "|   |   |   |   |   |   |--- feature_54 <= 0.77\n",
      "|   |   |   |   |   |   |   |--- feature_15 <= 0.69\n",
      "|   |   |   |   |   |   |   |   |--- feature_25 <= 0.50\n",
      "|   |   |   |   |   |   |   |   |   |--- feature_36 <= 0.42\n",
      "|   |   |   |   |   |   |   |   |   |   |--- feature_35 <= 0.47\n",
      "|   |   |   |   |   |   |   |   |   |   |   |--- truncated branch of depth 3\n",
      "|   |   |   |   |   |   |   |   |   |   |--- feature_35 >  0.47\n",
      "|   |   |   |   |   |   |   |   |   |   |   |--- truncated branch of depth 4\n",
      "|   |   |   |   |   |   |   |   |   |--- feature_36 >  0.42\n",
      "|   |   |   |   |   |   |   |   |   |   |--- feature_22 <= 0.31\n",
      "|   |   |   |   |   |   |   |   |   |   |   |--- class: 0\n",
      "|   |   |   |   |   |   |   |   |   |   |--- feature_22 >  0.31\n",
      "|   |   |   |   |   |   |   |   |   |   |   |--- truncated branch of depth 4\n",
      "|   |   |   |   |   |   |   |   |--- feature_25 >  0.50\n",
      "|   |   |   |   |   |   |   |   |   |--- feature_15 <= 0.23\n",
      "|   |   |   |   |   |   |   |   |   |   |--- class: 1\n",
      "|   |   |   |   |   |   |   |   |   |--- feature_15 >  0.23\n",
      "|   |   |   |   |   |   |   |   |   |   |--- class: 0\n",
      "|   |   |   |   |   |   |   |--- feature_15 >  0.69\n",
      "|   |   |   |   |   |   |   |   |--- class: 0\n",
      "|   |   |   |   |   |   |--- feature_54 >  0.77\n",
      "|   |   |   |   |   |   |   |--- feature_55 <= 0.28\n",
      "|   |   |   |   |   |   |   |   |--- feature_49 <= 0.39\n",
      "|   |   |   |   |   |   |   |   |   |--- class: 1\n",
      "|   |   |   |   |   |   |   |   |--- feature_49 >  0.39\n",
      "|   |   |   |   |   |   |   |   |   |--- class: 0\n",
      "|   |   |   |   |   |   |   |--- feature_55 >  0.28\n",
      "|   |   |   |   |   |   |   |   |--- feature_22 <= 0.35\n",
      "|   |   |   |   |   |   |   |   |   |--- class: 1\n",
      "|   |   |   |   |   |   |   |   |--- feature_22 >  0.35\n",
      "|   |   |   |   |   |   |   |   |   |--- feature_54 <= 0.84\n",
      "|   |   |   |   |   |   |   |   |   |   |--- feature_21 <= 0.51\n",
      "|   |   |   |   |   |   |   |   |   |   |   |--- truncated branch of depth 3\n",
      "|   |   |   |   |   |   |   |   |   |   |--- feature_21 >  0.51\n",
      "|   |   |   |   |   |   |   |   |   |   |   |--- class: 1\n",
      "|   |   |   |   |   |   |   |   |   |--- feature_54 >  0.84\n",
      "|   |   |   |   |   |   |   |   |   |   |--- feature_28 <= 1.00\n",
      "|   |   |   |   |   |   |   |   |   |   |   |--- truncated branch of depth 5\n",
      "|   |   |   |   |   |   |   |   |   |   |--- feature_28 >  1.00\n",
      "|   |   |   |   |   |   |   |   |   |   |   |--- class: 0\n",
      "|   |   |   |   |--- feature_23 >  0.49\n",
      "|   |   |   |   |   |--- feature_18 <= 0.50\n",
      "|   |   |   |   |   |   |--- feature_28 <= 0.50\n",
      "|   |   |   |   |   |   |   |--- feature_27 <= 0.50\n",
      "|   |   |   |   |   |   |   |   |--- class: 0\n",
      "|   |   |   |   |   |   |   |--- feature_27 >  0.50\n",
      "|   |   |   |   |   |   |   |   |--- feature_13 <= 0.60\n",
      "|   |   |   |   |   |   |   |   |   |--- feature_12 <= 0.72\n",
      "|   |   |   |   |   |   |   |   |   |   |--- class: 0\n",
      "|   |   |   |   |   |   |   |   |   |--- feature_12 >  0.72\n",
      "|   |   |   |   |   |   |   |   |   |   |--- class: 1\n",
      "|   |   |   |   |   |   |   |   |--- feature_13 >  0.60\n",
      "|   |   |   |   |   |   |   |   |   |--- class: 0\n",
      "|   |   |   |   |   |   |--- feature_28 >  0.50\n",
      "|   |   |   |   |   |   |   |--- feature_41 <= 0.49\n",
      "|   |   |   |   |   |   |   |   |--- feature_27 <= 0.50\n",
      "|   |   |   |   |   |   |   |   |   |--- feature_52 <= 0.47\n",
      "|   |   |   |   |   |   |   |   |   |   |--- class: 0\n",
      "|   |   |   |   |   |   |   |   |   |--- feature_52 >  0.47\n",
      "|   |   |   |   |   |   |   |   |   |   |--- class: 1\n",
      "|   |   |   |   |   |   |   |   |--- feature_27 >  0.50\n",
      "|   |   |   |   |   |   |   |   |   |--- class: 1\n",
      "|   |   |   |   |   |   |   |--- feature_41 >  0.49\n",
      "|   |   |   |   |   |   |   |   |--- class: 1\n",
      "|   |   |   |   |   |--- feature_18 >  0.50\n",
      "|   |   |   |   |   |   |--- feature_15 <= 0.32\n",
      "|   |   |   |   |   |   |   |--- class: 0\n",
      "|   |   |   |   |   |   |--- feature_15 >  0.32\n",
      "|   |   |   |   |   |   |   |--- feature_39 <= 0.80\n",
      "|   |   |   |   |   |   |   |   |--- feature_21 <= 0.22\n",
      "|   |   |   |   |   |   |   |   |   |--- feature_2 <= 1.00\n",
      "|   |   |   |   |   |   |   |   |   |   |--- class: 1\n",
      "|   |   |   |   |   |   |   |   |   |--- feature_2 >  1.00\n",
      "|   |   |   |   |   |   |   |   |   |   |--- class: 0\n",
      "|   |   |   |   |   |   |   |   |--- feature_21 >  0.22\n",
      "|   |   |   |   |   |   |   |   |   |--- class: 1\n",
      "|   |   |   |   |   |   |   |--- feature_39 >  0.80\n",
      "|   |   |   |   |   |   |   |   |--- class: 0\n",
      "|   |   |--- feature_29 >  0.50\n",
      "|   |   |   |--- feature_6 <= 0.25\n",
      "|   |   |   |   |--- class: 0\n",
      "|   |   |   |--- feature_6 >  0.25\n",
      "|   |   |   |   |--- feature_26 <= 0.50\n",
      "|   |   |   |   |   |--- feature_28 <= 0.50\n",
      "|   |   |   |   |   |   |--- feature_6 <= 0.84\n",
      "|   |   |   |   |   |   |   |--- feature_44 <= 0.45\n",
      "|   |   |   |   |   |   |   |   |--- feature_32 <= 0.50\n",
      "|   |   |   |   |   |   |   |   |   |--- feature_7 <= 0.31\n",
      "|   |   |   |   |   |   |   |   |   |   |--- feature_35 <= 0.47\n",
      "|   |   |   |   |   |   |   |   |   |   |   |--- class: 1\n",
      "|   |   |   |   |   |   |   |   |   |   |--- feature_35 >  0.47\n",
      "|   |   |   |   |   |   |   |   |   |   |   |--- class: 0\n",
      "|   |   |   |   |   |   |   |   |   |--- feature_7 >  0.31\n",
      "|   |   |   |   |   |   |   |   |   |   |--- feature_27 <= 0.50\n",
      "|   |   |   |   |   |   |   |   |   |   |   |--- truncated branch of depth 7\n",
      "|   |   |   |   |   |   |   |   |   |   |--- feature_27 >  0.50\n",
      "|   |   |   |   |   |   |   |   |   |   |   |--- truncated branch of depth 3\n",
      "|   |   |   |   |   |   |   |   |--- feature_32 >  0.50\n",
      "|   |   |   |   |   |   |   |   |   |--- feature_8 <= 0.71\n",
      "|   |   |   |   |   |   |   |   |   |   |--- class: 1\n",
      "|   |   |   |   |   |   |   |   |   |--- feature_8 >  0.71\n",
      "|   |   |   |   |   |   |   |   |   |   |--- class: 0\n",
      "|   |   |   |   |   |   |   |--- feature_44 >  0.45\n",
      "|   |   |   |   |   |   |   |   |--- feature_22 <= 0.21\n",
      "|   |   |   |   |   |   |   |   |   |--- feature_15 <= 0.48\n",
      "|   |   |   |   |   |   |   |   |   |   |--- class: 0\n",
      "|   |   |   |   |   |   |   |   |   |--- feature_15 >  0.48\n",
      "|   |   |   |   |   |   |   |   |   |   |--- class: 1\n",
      "|   |   |   |   |   |   |   |   |--- feature_22 >  0.21\n",
      "|   |   |   |   |   |   |   |   |   |--- feature_36 <= 0.42\n",
      "|   |   |   |   |   |   |   |   |   |   |--- feature_35 <= 0.47\n",
      "|   |   |   |   |   |   |   |   |   |   |   |--- truncated branch of depth 4\n",
      "|   |   |   |   |   |   |   |   |   |   |--- feature_35 >  0.47\n",
      "|   |   |   |   |   |   |   |   |   |   |   |--- truncated branch of depth 4\n",
      "|   |   |   |   |   |   |   |   |   |--- feature_36 >  0.42\n",
      "|   |   |   |   |   |   |   |   |   |   |--- feature_5 <= 0.69\n",
      "|   |   |   |   |   |   |   |   |   |   |   |--- truncated branch of depth 5\n",
      "|   |   |   |   |   |   |   |   |   |   |--- feature_5 >  0.69\n",
      "|   |   |   |   |   |   |   |   |   |   |   |--- class: 1\n",
      "|   |   |   |   |   |   |--- feature_6 >  0.84\n",
      "|   |   |   |   |   |   |   |--- feature_23 <= 0.49\n",
      "|   |   |   |   |   |   |   |   |--- feature_44 <= 0.46\n",
      "|   |   |   |   |   |   |   |   |   |--- feature_7 <= 0.94\n",
      "|   |   |   |   |   |   |   |   |   |   |--- feature_53 <= 0.28\n",
      "|   |   |   |   |   |   |   |   |   |   |   |--- truncated branch of depth 2\n",
      "|   |   |   |   |   |   |   |   |   |   |--- feature_53 >  0.28\n",
      "|   |   |   |   |   |   |   |   |   |   |   |--- class: 1\n",
      "|   |   |   |   |   |   |   |   |   |--- feature_7 >  0.94\n",
      "|   |   |   |   |   |   |   |   |   |   |--- class: 1\n",
      "|   |   |   |   |   |   |   |   |--- feature_44 >  0.46\n",
      "|   |   |   |   |   |   |   |   |   |--- class: 1\n",
      "|   |   |   |   |   |   |   |--- feature_23 >  0.49\n",
      "|   |   |   |   |   |   |   |   |--- feature_54 <= 0.86\n",
      "|   |   |   |   |   |   |   |   |   |--- feature_46 <= 0.27\n",
      "|   |   |   |   |   |   |   |   |   |   |--- feature_29 <= 1.00\n",
      "|   |   |   |   |   |   |   |   |   |   |   |--- truncated branch of depth 3\n",
      "|   |   |   |   |   |   |   |   |   |   |--- feature_29 >  1.00\n",
      "|   |   |   |   |   |   |   |   |   |   |   |--- class: 1\n",
      "|   |   |   |   |   |   |   |   |   |--- feature_46 >  0.27\n",
      "|   |   |   |   |   |   |   |   |   |   |--- class: 1\n",
      "|   |   |   |   |   |   |   |   |--- feature_54 >  0.86\n",
      "|   |   |   |   |   |   |   |   |   |--- class: 0\n",
      "|   |   |   |   |   |--- feature_28 >  0.50\n",
      "|   |   |   |   |   |   |--- feature_45 <= 0.42\n",
      "|   |   |   |   |   |   |   |--- feature_21 <= 0.51\n",
      "|   |   |   |   |   |   |   |   |--- feature_23 <= 0.49\n",
      "|   |   |   |   |   |   |   |   |   |--- feature_49 <= 0.53\n",
      "|   |   |   |   |   |   |   |   |   |   |--- feature_45 <= 0.25\n",
      "|   |   |   |   |   |   |   |   |   |   |   |--- class: 1\n",
      "|   |   |   |   |   |   |   |   |   |   |--- feature_45 >  0.25\n",
      "|   |   |   |   |   |   |   |   |   |   |   |--- class: 0\n",
      "|   |   |   |   |   |   |   |   |   |--- feature_49 >  0.53\n",
      "|   |   |   |   |   |   |   |   |   |   |--- class: 1\n",
      "|   |   |   |   |   |   |   |   |--- feature_23 >  0.49\n",
      "|   |   |   |   |   |   |   |   |   |--- class: 1\n",
      "|   |   |   |   |   |   |   |--- feature_21 >  0.51\n",
      "|   |   |   |   |   |   |   |   |--- feature_2 <= 1.00\n",
      "|   |   |   |   |   |   |   |   |   |--- feature_36 <= 0.94\n",
      "|   |   |   |   |   |   |   |   |   |   |--- class: 0\n",
      "|   |   |   |   |   |   |   |   |   |--- feature_36 >  0.94\n",
      "|   |   |   |   |   |   |   |   |   |   |--- class: 1\n",
      "|   |   |   |   |   |   |   |   |--- feature_2 >  1.00\n",
      "|   |   |   |   |   |   |   |   |   |--- feature_36 <= 0.42\n",
      "|   |   |   |   |   |   |   |   |   |   |--- class: 0\n",
      "|   |   |   |   |   |   |   |   |   |--- feature_36 >  0.42\n",
      "|   |   |   |   |   |   |   |   |   |   |--- class: 1\n",
      "|   |   |   |   |   |   |--- feature_45 >  0.42\n",
      "|   |   |   |   |   |   |   |--- class: 1\n",
      "|   |   |   |   |--- feature_26 >  0.50\n",
      "|   |   |   |   |   |--- feature_6 <= 0.65\n",
      "|   |   |   |   |   |   |--- feature_1 <= 1.00\n",
      "|   |   |   |   |   |   |   |--- class: 0\n",
      "|   |   |   |   |   |   |--- feature_1 >  1.00\n",
      "|   |   |   |   |   |   |   |--- feature_45 <= 0.29\n",
      "|   |   |   |   |   |   |   |   |--- class: 0\n",
      "|   |   |   |   |   |   |   |--- feature_45 >  0.29\n",
      "|   |   |   |   |   |   |   |   |--- feature_14 <= 0.51\n",
      "|   |   |   |   |   |   |   |   |   |--- class: 0\n",
      "|   |   |   |   |   |   |   |   |--- feature_14 >  0.51\n",
      "|   |   |   |   |   |   |   |   |   |--- class: 1\n",
      "|   |   |   |   |   |--- feature_6 >  0.65\n",
      "|   |   |   |   |   |   |--- feature_2 <= 1.00\n",
      "|   |   |   |   |   |   |   |--- class: 1\n",
      "|   |   |   |   |   |   |--- feature_2 >  1.00\n",
      "|   |   |   |   |   |   |   |--- class: 0\n",
      "|   |--- feature_38 >  0.50\n",
      "|   |   |--- feature_10 <= 0.20\n",
      "|   |   |   |--- class: 0\n",
      "|   |   |--- feature_10 >  0.20\n",
      "|   |   |   |--- feature_27 <= 0.50\n",
      "|   |   |   |   |--- feature_44 <= 0.42\n",
      "|   |   |   |   |   |--- feature_26 <= 0.50\n",
      "|   |   |   |   |   |   |--- feature_1 <= 1.00\n",
      "|   |   |   |   |   |   |   |--- feature_47 <= 1.00\n",
      "|   |   |   |   |   |   |   |   |--- feature_21 <= 0.22\n",
      "|   |   |   |   |   |   |   |   |   |--- feature_51 <= 0.18\n",
      "|   |   |   |   |   |   |   |   |   |   |--- feature_2 <= 0.33\n",
      "|   |   |   |   |   |   |   |   |   |   |   |--- class: 1\n",
      "|   |   |   |   |   |   |   |   |   |   |--- feature_2 >  0.33\n",
      "|   |   |   |   |   |   |   |   |   |   |   |--- class: 0\n",
      "|   |   |   |   |   |   |   |   |   |--- feature_51 >  0.18\n",
      "|   |   |   |   |   |   |   |   |   |   |--- feature_52 <= 0.58\n",
      "|   |   |   |   |   |   |   |   |   |   |   |--- class: 1\n",
      "|   |   |   |   |   |   |   |   |   |   |--- feature_52 >  0.58\n",
      "|   |   |   |   |   |   |   |   |   |   |   |--- class: 0\n",
      "|   |   |   |   |   |   |   |   |--- feature_21 >  0.22\n",
      "|   |   |   |   |   |   |   |   |   |--- class: 1\n",
      "|   |   |   |   |   |   |   |--- feature_47 >  1.00\n",
      "|   |   |   |   |   |   |   |   |--- class: 0\n",
      "|   |   |   |   |   |   |--- feature_1 >  1.00\n",
      "|   |   |   |   |   |   |   |--- feature_21 <= 0.74\n",
      "|   |   |   |   |   |   |   |   |--- feature_32 <= 0.50\n",
      "|   |   |   |   |   |   |   |   |   |--- feature_28 <= 0.50\n",
      "|   |   |   |   |   |   |   |   |   |   |--- feature_56 <= 0.13\n",
      "|   |   |   |   |   |   |   |   |   |   |   |--- class: 1\n",
      "|   |   |   |   |   |   |   |   |   |   |--- feature_56 >  0.13\n",
      "|   |   |   |   |   |   |   |   |   |   |   |--- truncated branch of depth 11\n",
      "|   |   |   |   |   |   |   |   |   |--- feature_28 >  0.50\n",
      "|   |   |   |   |   |   |   |   |   |   |--- feature_17 <= 0.89\n",
      "|   |   |   |   |   |   |   |   |   |   |   |--- truncated branch of depth 4\n",
      "|   |   |   |   |   |   |   |   |   |   |--- feature_17 >  0.89\n",
      "|   |   |   |   |   |   |   |   |   |   |   |--- truncated branch of depth 2\n",
      "|   |   |   |   |   |   |   |   |--- feature_32 >  0.50\n",
      "|   |   |   |   |   |   |   |   |   |--- feature_7 <= 0.58\n",
      "|   |   |   |   |   |   |   |   |   |   |--- feature_35 <= 0.95\n",
      "|   |   |   |   |   |   |   |   |   |   |   |--- truncated branch of depth 3\n",
      "|   |   |   |   |   |   |   |   |   |   |--- feature_35 >  0.95\n",
      "|   |   |   |   |   |   |   |   |   |   |   |--- class: 0\n",
      "|   |   |   |   |   |   |   |   |   |--- feature_7 >  0.58\n",
      "|   |   |   |   |   |   |   |   |   |   |--- class: 1\n",
      "|   |   |   |   |   |   |   |--- feature_21 >  0.74\n",
      "|   |   |   |   |   |   |   |   |--- feature_46 <= 0.34\n",
      "|   |   |   |   |   |   |   |   |   |--- class: 1\n",
      "|   |   |   |   |   |   |   |   |--- feature_46 >  0.34\n",
      "|   |   |   |   |   |   |   |   |   |--- class: 0\n",
      "|   |   |   |   |   |--- feature_26 >  0.50\n",
      "|   |   |   |   |   |   |--- feature_36 <= 0.88\n",
      "|   |   |   |   |   |   |   |--- feature_1 <= 0.99\n",
      "|   |   |   |   |   |   |   |   |--- feature_55 <= 0.35\n",
      "|   |   |   |   |   |   |   |   |   |--- feature_49 <= 0.28\n",
      "|   |   |   |   |   |   |   |   |   |   |--- class: 0\n",
      "|   |   |   |   |   |   |   |   |   |--- feature_49 >  0.28\n",
      "|   |   |   |   |   |   |   |   |   |   |--- class: 1\n",
      "|   |   |   |   |   |   |   |   |--- feature_55 >  0.35\n",
      "|   |   |   |   |   |   |   |   |   |--- class: 0\n",
      "|   |   |   |   |   |   |   |--- feature_1 >  0.99\n",
      "|   |   |   |   |   |   |   |   |--- feature_56 <= 0.08\n",
      "|   |   |   |   |   |   |   |   |   |--- class: 1\n",
      "|   |   |   |   |   |   |   |   |--- feature_56 >  0.08\n",
      "|   |   |   |   |   |   |   |   |   |--- class: 0\n",
      "|   |   |   |   |   |   |--- feature_36 >  0.88\n",
      "|   |   |   |   |   |   |   |--- feature_3 <= 0.42\n",
      "|   |   |   |   |   |   |   |   |--- feature_46 <= 0.23\n",
      "|   |   |   |   |   |   |   |   |   |--- class: 1\n",
      "|   |   |   |   |   |   |   |   |--- feature_46 >  0.23\n",
      "|   |   |   |   |   |   |   |   |   |--- class: 0\n",
      "|   |   |   |   |   |   |   |--- feature_3 >  0.42\n",
      "|   |   |   |   |   |   |   |   |--- class: 1\n",
      "|   |   |   |   |--- feature_44 >  0.42\n",
      "|   |   |   |   |   |--- feature_18 <= 0.50\n",
      "|   |   |   |   |   |   |--- feature_35 <= 0.47\n",
      "|   |   |   |   |   |   |   |--- feature_13 <= 0.46\n",
      "|   |   |   |   |   |   |   |   |--- class: 0\n",
      "|   |   |   |   |   |   |   |--- feature_13 >  0.46\n",
      "|   |   |   |   |   |   |   |   |--- feature_5 <= 0.71\n",
      "|   |   |   |   |   |   |   |   |   |--- feature_23 <= 0.49\n",
      "|   |   |   |   |   |   |   |   |   |   |--- feature_39 <= 0.34\n",
      "|   |   |   |   |   |   |   |   |   |   |   |--- truncated branch of depth 3\n",
      "|   |   |   |   |   |   |   |   |   |   |--- feature_39 >  0.34\n",
      "|   |   |   |   |   |   |   |   |   |   |   |--- truncated branch of depth 2\n",
      "|   |   |   |   |   |   |   |   |   |--- feature_23 >  0.49\n",
      "|   |   |   |   |   |   |   |   |   |   |--- feature_54 <= 0.38\n",
      "|   |   |   |   |   |   |   |   |   |   |   |--- truncated branch of depth 2\n",
      "|   |   |   |   |   |   |   |   |   |   |--- feature_54 >  0.38\n",
      "|   |   |   |   |   |   |   |   |   |   |   |--- class: 0\n",
      "|   |   |   |   |   |   |   |   |--- feature_5 >  0.71\n",
      "|   |   |   |   |   |   |   |   |   |--- feature_14 <= 0.44\n",
      "|   |   |   |   |   |   |   |   |   |   |--- feature_2 <= 1.00\n",
      "|   |   |   |   |   |   |   |   |   |   |   |--- class: 1\n",
      "|   |   |   |   |   |   |   |   |   |   |--- feature_2 >  1.00\n",
      "|   |   |   |   |   |   |   |   |   |   |   |--- truncated branch of depth 3\n",
      "|   |   |   |   |   |   |   |   |   |--- feature_14 >  0.44\n",
      "|   |   |   |   |   |   |   |   |   |   |--- class: 1\n",
      "|   |   |   |   |   |   |--- feature_35 >  0.47\n",
      "|   |   |   |   |   |   |   |--- feature_11 <= 0.95\n",
      "|   |   |   |   |   |   |   |   |--- feature_29 <= 0.50\n",
      "|   |   |   |   |   |   |   |   |   |--- feature_2 <= 0.33\n",
      "|   |   |   |   |   |   |   |   |   |   |--- feature_17 <= 0.90\n",
      "|   |   |   |   |   |   |   |   |   |   |   |--- class: 1\n",
      "|   |   |   |   |   |   |   |   |   |   |--- feature_17 >  0.90\n",
      "|   |   |   |   |   |   |   |   |   |   |   |--- class: 0\n",
      "|   |   |   |   |   |   |   |   |   |--- feature_2 >  0.33\n",
      "|   |   |   |   |   |   |   |   |   |   |--- feature_21 <= 0.63\n",
      "|   |   |   |   |   |   |   |   |   |   |   |--- truncated branch of depth 7\n",
      "|   |   |   |   |   |   |   |   |   |   |--- feature_21 >  0.63\n",
      "|   |   |   |   |   |   |   |   |   |   |   |--- truncated branch of depth 3\n",
      "|   |   |   |   |   |   |   |   |--- feature_29 >  0.50\n",
      "|   |   |   |   |   |   |   |   |   |--- feature_28 <= 0.50\n",
      "|   |   |   |   |   |   |   |   |   |   |--- feature_55 <= 0.54\n",
      "|   |   |   |   |   |   |   |   |   |   |   |--- class: 1\n",
      "|   |   |   |   |   |   |   |   |   |   |--- feature_55 >  0.54\n",
      "|   |   |   |   |   |   |   |   |   |   |   |--- class: 0\n",
      "|   |   |   |   |   |   |   |   |   |--- feature_28 >  0.50\n",
      "|   |   |   |   |   |   |   |   |   |   |--- feature_4 <= 0.73\n",
      "|   |   |   |   |   |   |   |   |   |   |   |--- class: 0\n",
      "|   |   |   |   |   |   |   |   |   |   |--- feature_4 >  0.73\n",
      "|   |   |   |   |   |   |   |   |   |   |   |--- class: 1\n",
      "|   |   |   |   |   |   |   |--- feature_11 >  0.95\n",
      "|   |   |   |   |   |   |   |   |--- feature_2 <= 0.46\n",
      "|   |   |   |   |   |   |   |   |   |--- feature_23 <= 0.49\n",
      "|   |   |   |   |   |   |   |   |   |   |--- class: 1\n",
      "|   |   |   |   |   |   |   |   |   |--- feature_23 >  0.49\n",
      "|   |   |   |   |   |   |   |   |   |   |--- class: 0\n",
      "|   |   |   |   |   |   |   |   |--- feature_2 >  0.46\n",
      "|   |   |   |   |   |   |   |   |   |--- feature_15 <= 0.35\n",
      "|   |   |   |   |   |   |   |   |   |   |--- feature_14 <= 0.35\n",
      "|   |   |   |   |   |   |   |   |   |   |   |--- class: 1\n",
      "|   |   |   |   |   |   |   |   |   |   |--- feature_14 >  0.35\n",
      "|   |   |   |   |   |   |   |   |   |   |   |--- truncated branch of depth 2\n",
      "|   |   |   |   |   |   |   |   |   |--- feature_15 >  0.35\n",
      "|   |   |   |   |   |   |   |   |   |   |--- class: 1\n",
      "|   |   |   |   |   |--- feature_18 >  0.50\n",
      "|   |   |   |   |   |   |--- class: 1\n",
      "|   |   |   |--- feature_27 >  0.50\n",
      "|   |   |   |   |--- feature_7 <= 0.69\n",
      "|   |   |   |   |   |--- feature_20 <= 0.50\n",
      "|   |   |   |   |   |   |--- feature_39 <= 0.70\n",
      "|   |   |   |   |   |   |   |--- class: 0\n",
      "|   |   |   |   |   |   |--- feature_39 >  0.70\n",
      "|   |   |   |   |   |   |   |--- feature_7 <= 0.54\n",
      "|   |   |   |   |   |   |   |   |--- class: 0\n",
      "|   |   |   |   |   |   |   |--- feature_7 >  0.54\n",
      "|   |   |   |   |   |   |   |   |--- feature_49 <= 0.52\n",
      "|   |   |   |   |   |   |   |   |   |--- feature_48 <= 0.60\n",
      "|   |   |   |   |   |   |   |   |   |   |--- feature_46 <= 0.55\n",
      "|   |   |   |   |   |   |   |   |   |   |   |--- truncated branch of depth 3\n",
      "|   |   |   |   |   |   |   |   |   |   |--- feature_46 >  0.55\n",
      "|   |   |   |   |   |   |   |   |   |   |   |--- class: 0\n",
      "|   |   |   |   |   |   |   |   |   |--- feature_48 >  0.60\n",
      "|   |   |   |   |   |   |   |   |   |   |--- class: 0\n",
      "|   |   |   |   |   |   |   |   |--- feature_49 >  0.52\n",
      "|   |   |   |   |   |   |   |   |   |--- class: 0\n",
      "|   |   |   |   |   |--- feature_20 >  0.50\n",
      "|   |   |   |   |   |   |--- class: 1\n",
      "|   |   |   |   |--- feature_7 >  0.69\n",
      "|   |   |   |   |   |--- feature_55 <= 0.47\n",
      "|   |   |   |   |   |   |--- class: 1\n",
      "|   |   |   |   |   |--- feature_55 >  0.47\n",
      "|   |   |   |   |   |   |--- feature_13 <= 0.63\n",
      "|   |   |   |   |   |   |   |--- class: 0\n",
      "|   |   |   |   |   |   |--- feature_13 >  0.63\n",
      "|   |   |   |   |   |   |   |--- feature_15 <= 0.55\n",
      "|   |   |   |   |   |   |   |   |--- class: 1\n",
      "|   |   |   |   |   |   |   |--- feature_15 >  0.55\n",
      "|   |   |   |   |   |   |   |   |--- class: 0\n",
      "|--- feature_24 >  0.49\n",
      "|   |--- feature_7 <= 0.25\n",
      "|   |   |--- feature_51 <= 0.58\n",
      "|   |   |   |--- class: 0\n",
      "|   |   |--- feature_51 >  0.58\n",
      "|   |   |   |--- feature_39 <= 0.70\n",
      "|   |   |   |   |--- class: 1\n",
      "|   |   |   |--- feature_39 >  0.70\n",
      "|   |   |   |   |--- class: 0\n",
      "|   |--- feature_7 >  0.25\n",
      "|   |   |--- feature_26 <= 0.50\n",
      "|   |   |   |--- feature_38 <= 0.50\n",
      "|   |   |   |   |--- feature_1 <= 0.99\n",
      "|   |   |   |   |   |--- feature_35 <= 0.47\n",
      "|   |   |   |   |   |   |--- feature_25 <= 0.50\n",
      "|   |   |   |   |   |   |   |--- feature_44 <= 0.91\n",
      "|   |   |   |   |   |   |   |   |--- feature_27 <= 0.50\n",
      "|   |   |   |   |   |   |   |   |   |--- feature_28 <= 0.50\n",
      "|   |   |   |   |   |   |   |   |   |   |--- feature_36 <= 0.86\n",
      "|   |   |   |   |   |   |   |   |   |   |   |--- truncated branch of depth 3\n",
      "|   |   |   |   |   |   |   |   |   |   |--- feature_36 >  0.86\n",
      "|   |   |   |   |   |   |   |   |   |   |   |--- truncated branch of depth 4\n",
      "|   |   |   |   |   |   |   |   |   |--- feature_28 >  0.50\n",
      "|   |   |   |   |   |   |   |   |   |   |--- feature_17 <= 0.43\n",
      "|   |   |   |   |   |   |   |   |   |   |   |--- truncated branch of depth 3\n",
      "|   |   |   |   |   |   |   |   |   |   |--- feature_17 >  0.43\n",
      "|   |   |   |   |   |   |   |   |   |   |   |--- class: 1\n",
      "|   |   |   |   |   |   |   |   |--- feature_27 >  0.50\n",
      "|   |   |   |   |   |   |   |   |   |--- feature_1 <= 0.31\n",
      "|   |   |   |   |   |   |   |   |   |   |--- class: 0\n",
      "|   |   |   |   |   |   |   |   |   |--- feature_1 >  0.31\n",
      "|   |   |   |   |   |   |   |   |   |   |--- feature_49 <= 0.44\n",
      "|   |   |   |   |   |   |   |   |   |   |   |--- truncated branch of depth 2\n",
      "|   |   |   |   |   |   |   |   |   |   |--- feature_49 >  0.44\n",
      "|   |   |   |   |   |   |   |   |   |   |   |--- class: 1\n",
      "|   |   |   |   |   |   |   |--- feature_44 >  0.91\n",
      "|   |   |   |   |   |   |   |   |--- feature_23 <= 0.49\n",
      "|   |   |   |   |   |   |   |   |   |--- feature_5 <= 0.64\n",
      "|   |   |   |   |   |   |   |   |   |   |--- feature_43 <= 0.26\n",
      "|   |   |   |   |   |   |   |   |   |   |   |--- class: 1\n",
      "|   |   |   |   |   |   |   |   |   |   |--- feature_43 >  0.26\n",
      "|   |   |   |   |   |   |   |   |   |   |   |--- truncated branch of depth 4\n",
      "|   |   |   |   |   |   |   |   |   |--- feature_5 >  0.64\n",
      "|   |   |   |   |   |   |   |   |   |   |--- feature_13 <= 0.55\n",
      "|   |   |   |   |   |   |   |   |   |   |   |--- truncated branch of depth 3\n",
      "|   |   |   |   |   |   |   |   |   |   |--- feature_13 >  0.55\n",
      "|   |   |   |   |   |   |   |   |   |   |   |--- class: 1\n",
      "|   |   |   |   |   |   |   |   |--- feature_23 >  0.49\n",
      "|   |   |   |   |   |   |   |   |   |--- feature_39 <= 0.78\n",
      "|   |   |   |   |   |   |   |   |   |   |--- feature_1 <= 0.31\n",
      "|   |   |   |   |   |   |   |   |   |   |   |--- truncated branch of depth 6\n",
      "|   |   |   |   |   |   |   |   |   |   |--- feature_1 >  0.31\n",
      "|   |   |   |   |   |   |   |   |   |   |   |--- class: 0\n",
      "|   |   |   |   |   |   |   |   |   |--- feature_39 >  0.78\n",
      "|   |   |   |   |   |   |   |   |   |   |--- class: 1\n",
      "|   |   |   |   |   |   |--- feature_25 >  0.50\n",
      "|   |   |   |   |   |   |   |--- feature_39 <= 0.80\n",
      "|   |   |   |   |   |   |   |   |--- feature_28 <= 0.50\n",
      "|   |   |   |   |   |   |   |   |   |--- feature_52 <= 0.55\n",
      "|   |   |   |   |   |   |   |   |   |   |--- class: 0\n",
      "|   |   |   |   |   |   |   |   |   |--- feature_52 >  0.55\n",
      "|   |   |   |   |   |   |   |   |   |   |--- class: 1\n",
      "|   |   |   |   |   |   |   |   |--- feature_28 >  0.50\n",
      "|   |   |   |   |   |   |   |   |   |--- class: 1\n",
      "|   |   |   |   |   |   |   |--- feature_39 >  0.80\n",
      "|   |   |   |   |   |   |   |   |--- class: 1\n",
      "|   |   |   |   |   |--- feature_35 >  0.47\n",
      "|   |   |   |   |   |   |--- feature_29 <= 0.50\n",
      "|   |   |   |   |   |   |   |--- feature_23 <= 0.49\n",
      "|   |   |   |   |   |   |   |   |--- feature_7 <= 0.61\n",
      "|   |   |   |   |   |   |   |   |   |--- feature_22 <= 0.43\n",
      "|   |   |   |   |   |   |   |   |   |   |--- feature_52 <= 0.49\n",
      "|   |   |   |   |   |   |   |   |   |   |   |--- class: 0\n",
      "|   |   |   |   |   |   |   |   |   |   |--- feature_52 >  0.49\n",
      "|   |   |   |   |   |   |   |   |   |   |   |--- truncated branch of depth 2\n",
      "|   |   |   |   |   |   |   |   |   |--- feature_22 >  0.43\n",
      "|   |   |   |   |   |   |   |   |   |   |--- feature_47 <= 1.00\n",
      "|   |   |   |   |   |   |   |   |   |   |   |--- truncated branch of depth 8\n",
      "|   |   |   |   |   |   |   |   |   |   |--- feature_47 >  1.00\n",
      "|   |   |   |   |   |   |   |   |   |   |   |--- class: 1\n",
      "|   |   |   |   |   |   |   |   |--- feature_7 >  0.61\n",
      "|   |   |   |   |   |   |   |   |   |--- feature_13 <= 0.57\n",
      "|   |   |   |   |   |   |   |   |   |   |--- feature_56 <= 0.23\n",
      "|   |   |   |   |   |   |   |   |   |   |   |--- truncated branch of depth 5\n",
      "|   |   |   |   |   |   |   |   |   |   |--- feature_56 >  0.23\n",
      "|   |   |   |   |   |   |   |   |   |   |   |--- class: 1\n",
      "|   |   |   |   |   |   |   |   |   |--- feature_13 >  0.57\n",
      "|   |   |   |   |   |   |   |   |   |   |--- feature_54 <= 0.70\n",
      "|   |   |   |   |   |   |   |   |   |   |   |--- truncated branch of depth 4\n",
      "|   |   |   |   |   |   |   |   |   |   |--- feature_54 >  0.70\n",
      "|   |   |   |   |   |   |   |   |   |   |   |--- class: 1\n",
      "|   |   |   |   |   |   |   |--- feature_23 >  0.49\n",
      "|   |   |   |   |   |   |   |   |--- feature_44 <= 0.94\n",
      "|   |   |   |   |   |   |   |   |   |--- feature_27 <= 0.50\n",
      "|   |   |   |   |   |   |   |   |   |   |--- feature_49 <= 0.32\n",
      "|   |   |   |   |   |   |   |   |   |   |   |--- truncated branch of depth 3\n",
      "|   |   |   |   |   |   |   |   |   |   |--- feature_49 >  0.32\n",
      "|   |   |   |   |   |   |   |   |   |   |   |--- class: 1\n",
      "|   |   |   |   |   |   |   |   |   |--- feature_27 >  0.50\n",
      "|   |   |   |   |   |   |   |   |   |   |--- feature_16 <= 0.50\n",
      "|   |   |   |   |   |   |   |   |   |   |   |--- class: 0\n",
      "|   |   |   |   |   |   |   |   |   |   |--- feature_16 >  0.50\n",
      "|   |   |   |   |   |   |   |   |   |   |   |--- class: 1\n",
      "|   |   |   |   |   |   |   |   |--- feature_44 >  0.94\n",
      "|   |   |   |   |   |   |   |   |   |--- feature_21 <= 0.55\n",
      "|   |   |   |   |   |   |   |   |   |   |--- feature_53 <= 0.23\n",
      "|   |   |   |   |   |   |   |   |   |   |   |--- class: 0\n",
      "|   |   |   |   |   |   |   |   |   |   |--- feature_53 >  0.23\n",
      "|   |   |   |   |   |   |   |   |   |   |   |--- truncated branch of depth 2\n",
      "|   |   |   |   |   |   |   |   |   |--- feature_21 >  0.55\n",
      "|   |   |   |   |   |   |   |   |   |   |--- class: 1\n",
      "|   |   |   |   |   |   |--- feature_29 >  0.50\n",
      "|   |   |   |   |   |   |   |--- feature_22 <= 0.36\n",
      "|   |   |   |   |   |   |   |   |--- feature_13 <= 0.58\n",
      "|   |   |   |   |   |   |   |   |   |--- feature_47 <= 1.00\n",
      "|   |   |   |   |   |   |   |   |   |   |--- class: 1\n",
      "|   |   |   |   |   |   |   |   |   |--- feature_47 >  1.00\n",
      "|   |   |   |   |   |   |   |   |   |   |--- class: 0\n",
      "|   |   |   |   |   |   |   |   |--- feature_13 >  0.58\n",
      "|   |   |   |   |   |   |   |   |   |--- class: 0\n",
      "|   |   |   |   |   |   |   |--- feature_22 >  0.36\n",
      "|   |   |   |   |   |   |   |   |--- feature_1 <= 0.32\n",
      "|   |   |   |   |   |   |   |   |   |--- class: 1\n",
      "|   |   |   |   |   |   |   |   |--- feature_1 >  0.32\n",
      "|   |   |   |   |   |   |   |   |   |--- feature_1 <= 0.86\n",
      "|   |   |   |   |   |   |   |   |   |   |--- feature_45 <= 0.35\n",
      "|   |   |   |   |   |   |   |   |   |   |   |--- class: 1\n",
      "|   |   |   |   |   |   |   |   |   |   |--- feature_45 >  0.35\n",
      "|   |   |   |   |   |   |   |   |   |   |   |--- class: 0\n",
      "|   |   |   |   |   |   |   |   |   |--- feature_1 >  0.86\n",
      "|   |   |   |   |   |   |   |   |   |   |--- class: 1\n",
      "|   |   |   |   |--- feature_1 >  0.99\n",
      "|   |   |   |   |   |--- feature_23 <= 0.49\n",
      "|   |   |   |   |   |   |--- feature_25 <= 0.50\n",
      "|   |   |   |   |   |   |   |--- feature_27 <= 0.50\n",
      "|   |   |   |   |   |   |   |   |--- feature_37 <= 0.50\n",
      "|   |   |   |   |   |   |   |   |   |--- feature_35 <= 0.47\n",
      "|   |   |   |   |   |   |   |   |   |   |--- feature_50 <= 0.50\n",
      "|   |   |   |   |   |   |   |   |   |   |   |--- truncated branch of depth 4\n",
      "|   |   |   |   |   |   |   |   |   |   |--- feature_50 >  0.50\n",
      "|   |   |   |   |   |   |   |   |   |   |   |--- truncated branch of depth 2\n",
      "|   |   |   |   |   |   |   |   |   |--- feature_35 >  0.47\n",
      "|   |   |   |   |   |   |   |   |   |   |--- feature_32 <= 0.50\n",
      "|   |   |   |   |   |   |   |   |   |   |   |--- truncated branch of depth 7\n",
      "|   |   |   |   |   |   |   |   |   |   |--- feature_32 >  0.50\n",
      "|   |   |   |   |   |   |   |   |   |   |   |--- truncated branch of depth 4\n",
      "|   |   |   |   |   |   |   |   |--- feature_37 >  0.50\n",
      "|   |   |   |   |   |   |   |   |   |--- feature_4 <= 0.69\n",
      "|   |   |   |   |   |   |   |   |   |   |--- feature_17 <= 0.91\n",
      "|   |   |   |   |   |   |   |   |   |   |   |--- class: 0\n",
      "|   |   |   |   |   |   |   |   |   |   |--- feature_17 >  0.91\n",
      "|   |   |   |   |   |   |   |   |   |   |   |--- class: 1\n",
      "|   |   |   |   |   |   |   |   |   |--- feature_4 >  0.69\n",
      "|   |   |   |   |   |   |   |   |   |   |--- feature_13 <= 0.62\n",
      "|   |   |   |   |   |   |   |   |   |   |   |--- truncated branch of depth 2\n",
      "|   |   |   |   |   |   |   |   |   |   |--- feature_13 >  0.62\n",
      "|   |   |   |   |   |   |   |   |   |   |   |--- class: 1\n",
      "|   |   |   |   |   |   |   |--- feature_27 >  0.50\n",
      "|   |   |   |   |   |   |   |   |--- feature_39 <= 0.76\n",
      "|   |   |   |   |   |   |   |   |   |--- feature_44 <= 0.96\n",
      "|   |   |   |   |   |   |   |   |   |   |--- feature_29 <= 0.50\n",
      "|   |   |   |   |   |   |   |   |   |   |   |--- truncated branch of depth 4\n",
      "|   |   |   |   |   |   |   |   |   |   |--- feature_29 >  0.50\n",
      "|   |   |   |   |   |   |   |   |   |   |   |--- truncated branch of depth 2\n",
      "|   |   |   |   |   |   |   |   |   |--- feature_44 >  0.96\n",
      "|   |   |   |   |   |   |   |   |   |   |--- feature_35 <= 0.47\n",
      "|   |   |   |   |   |   |   |   |   |   |   |--- class: 1\n",
      "|   |   |   |   |   |   |   |   |   |   |--- feature_35 >  0.47\n",
      "|   |   |   |   |   |   |   |   |   |   |   |--- truncated branch of depth 2\n",
      "|   |   |   |   |   |   |   |   |--- feature_39 >  0.76\n",
      "|   |   |   |   |   |   |   |   |   |--- feature_28 <= 0.50\n",
      "|   |   |   |   |   |   |   |   |   |   |--- feature_29 <= 0.50\n",
      "|   |   |   |   |   |   |   |   |   |   |   |--- truncated branch of depth 5\n",
      "|   |   |   |   |   |   |   |   |   |   |--- feature_29 >  0.50\n",
      "|   |   |   |   |   |   |   |   |   |   |   |--- class: 1\n",
      "|   |   |   |   |   |   |   |   |   |--- feature_28 >  0.50\n",
      "|   |   |   |   |   |   |   |   |   |   |--- class: 1\n",
      "|   |   |   |   |   |   |--- feature_25 >  0.50\n",
      "|   |   |   |   |   |   |   |--- feature_29 <= 0.50\n",
      "|   |   |   |   |   |   |   |   |--- feature_4 <= 0.82\n",
      "|   |   |   |   |   |   |   |   |   |--- feature_7 <= 0.66\n",
      "|   |   |   |   |   |   |   |   |   |   |--- class: 0\n",
      "|   |   |   |   |   |   |   |   |   |--- feature_7 >  0.66\n",
      "|   |   |   |   |   |   |   |   |   |   |--- feature_36 <= 0.93\n",
      "|   |   |   |   |   |   |   |   |   |   |   |--- truncated branch of depth 5\n",
      "|   |   |   |   |   |   |   |   |   |   |--- feature_36 >  0.93\n",
      "|   |   |   |   |   |   |   |   |   |   |   |--- class: 1\n",
      "|   |   |   |   |   |   |   |   |--- feature_4 >  0.82\n",
      "|   |   |   |   |   |   |   |   |   |--- feature_21 <= 0.54\n",
      "|   |   |   |   |   |   |   |   |   |   |--- class: 0\n",
      "|   |   |   |   |   |   |   |   |   |--- feature_21 >  0.54\n",
      "|   |   |   |   |   |   |   |   |   |   |--- class: 1\n",
      "|   |   |   |   |   |   |   |--- feature_29 >  0.50\n",
      "|   |   |   |   |   |   |   |   |--- feature_2 <= 0.46\n",
      "|   |   |   |   |   |   |   |   |   |--- feature_51 <= 0.39\n",
      "|   |   |   |   |   |   |   |   |   |   |--- class: 1\n",
      "|   |   |   |   |   |   |   |   |   |--- feature_51 >  0.39\n",
      "|   |   |   |   |   |   |   |   |   |   |--- class: 0\n",
      "|   |   |   |   |   |   |   |   |--- feature_2 >  0.46\n",
      "|   |   |   |   |   |   |   |   |   |--- class: 1\n",
      "|   |   |   |   |   |--- feature_23 >  0.49\n",
      "|   |   |   |   |   |   |--- feature_44 <= 0.45\n",
      "|   |   |   |   |   |   |   |--- feature_39 <= 0.70\n",
      "|   |   |   |   |   |   |   |   |--- feature_27 <= 0.50\n",
      "|   |   |   |   |   |   |   |   |   |--- feature_52 <= 0.29\n",
      "|   |   |   |   |   |   |   |   |   |   |--- feature_28 <= 0.50\n",
      "|   |   |   |   |   |   |   |   |   |   |   |--- truncated branch of depth 3\n",
      "|   |   |   |   |   |   |   |   |   |   |--- feature_28 >  0.50\n",
      "|   |   |   |   |   |   |   |   |   |   |   |--- truncated branch of depth 2\n",
      "|   |   |   |   |   |   |   |   |   |--- feature_52 >  0.29\n",
      "|   |   |   |   |   |   |   |   |   |   |--- class: 1\n",
      "|   |   |   |   |   |   |   |   |--- feature_27 >  0.50\n",
      "|   |   |   |   |   |   |   |   |   |--- feature_42 <= 0.37\n",
      "|   |   |   |   |   |   |   |   |   |   |--- class: 0\n",
      "|   |   |   |   |   |   |   |   |   |--- feature_42 >  0.37\n",
      "|   |   |   |   |   |   |   |   |   |   |--- class: 1\n",
      "|   |   |   |   |   |   |   |--- feature_39 >  0.70\n",
      "|   |   |   |   |   |   |   |   |--- feature_29 <= 0.50\n",
      "|   |   |   |   |   |   |   |   |   |--- feature_25 <= 0.50\n",
      "|   |   |   |   |   |   |   |   |   |   |--- feature_28 <= 0.50\n",
      "|   |   |   |   |   |   |   |   |   |   |   |--- truncated branch of depth 6\n",
      "|   |   |   |   |   |   |   |   |   |   |--- feature_28 >  0.50\n",
      "|   |   |   |   |   |   |   |   |   |   |   |--- truncated branch of depth 3\n",
      "|   |   |   |   |   |   |   |   |   |--- feature_25 >  0.50\n",
      "|   |   |   |   |   |   |   |   |   |   |--- feature_3 <= 0.91\n",
      "|   |   |   |   |   |   |   |   |   |   |   |--- class: 0\n",
      "|   |   |   |   |   |   |   |   |   |   |--- feature_3 >  0.91\n",
      "|   |   |   |   |   |   |   |   |   |   |   |--- class: 1\n",
      "|   |   |   |   |   |   |   |   |--- feature_29 >  0.50\n",
      "|   |   |   |   |   |   |   |   |   |--- class: 1\n",
      "|   |   |   |   |   |   |--- feature_44 >  0.45\n",
      "|   |   |   |   |   |   |   |--- feature_39 <= 0.34\n",
      "|   |   |   |   |   |   |   |   |--- feature_44 <= 0.99\n",
      "|   |   |   |   |   |   |   |   |   |--- feature_22 <= 0.48\n",
      "|   |   |   |   |   |   |   |   |   |   |--- class: 0\n",
      "|   |   |   |   |   |   |   |   |   |--- feature_22 >  0.48\n",
      "|   |   |   |   |   |   |   |   |   |   |--- class: 1\n",
      "|   |   |   |   |   |   |   |   |--- feature_44 >  0.99\n",
      "|   |   |   |   |   |   |   |   |   |--- feature_52 <= 0.18\n",
      "|   |   |   |   |   |   |   |   |   |   |--- class: 1\n",
      "|   |   |   |   |   |   |   |   |   |--- feature_52 >  0.18\n",
      "|   |   |   |   |   |   |   |   |   |   |--- feature_40 <= 0.50\n",
      "|   |   |   |   |   |   |   |   |   |   |   |--- class: 0\n",
      "|   |   |   |   |   |   |   |   |   |   |--- feature_40 >  0.50\n",
      "|   |   |   |   |   |   |   |   |   |   |   |--- class: 1\n",
      "|   |   |   |   |   |   |   |--- feature_39 >  0.34\n",
      "|   |   |   |   |   |   |   |   |--- feature_49 <= 0.24\n",
      "|   |   |   |   |   |   |   |   |   |--- feature_5 <= 0.84\n",
      "|   |   |   |   |   |   |   |   |   |   |--- feature_52 <= 0.10\n",
      "|   |   |   |   |   |   |   |   |   |   |   |--- class: 0\n",
      "|   |   |   |   |   |   |   |   |   |   |--- feature_52 >  0.10\n",
      "|   |   |   |   |   |   |   |   |   |   |   |--- truncated branch of depth 3\n",
      "|   |   |   |   |   |   |   |   |   |--- feature_5 >  0.84\n",
      "|   |   |   |   |   |   |   |   |   |   |--- class: 1\n",
      "|   |   |   |   |   |   |   |   |--- feature_49 >  0.24\n",
      "|   |   |   |   |   |   |   |   |   |--- feature_48 <= 0.50\n",
      "|   |   |   |   |   |   |   |   |   |   |--- feature_27 <= 0.50\n",
      "|   |   |   |   |   |   |   |   |   |   |   |--- truncated branch of depth 3\n",
      "|   |   |   |   |   |   |   |   |   |   |--- feature_27 >  0.50\n",
      "|   |   |   |   |   |   |   |   |   |   |   |--- truncated branch of depth 2\n",
      "|   |   |   |   |   |   |   |   |   |--- feature_48 >  0.50\n",
      "|   |   |   |   |   |   |   |   |   |   |--- feature_42 <= 0.39\n",
      "|   |   |   |   |   |   |   |   |   |   |   |--- truncated branch of depth 4\n",
      "|   |   |   |   |   |   |   |   |   |   |--- feature_42 >  0.39\n",
      "|   |   |   |   |   |   |   |   |   |   |   |--- truncated branch of depth 5\n",
      "|   |   |   |--- feature_38 >  0.50\n",
      "|   |   |   |   |--- feature_27 <= 0.50\n",
      "|   |   |   |   |   |--- feature_12 <= 0.81\n",
      "|   |   |   |   |   |   |--- feature_25 <= 0.50\n",
      "|   |   |   |   |   |   |   |--- feature_44 <= 0.90\n",
      "|   |   |   |   |   |   |   |   |--- feature_32 <= 0.50\n",
      "|   |   |   |   |   |   |   |   |   |--- class: 1\n",
      "|   |   |   |   |   |   |   |   |--- feature_32 >  0.50\n",
      "|   |   |   |   |   |   |   |   |   |--- feature_43 <= 0.38\n",
      "|   |   |   |   |   |   |   |   |   |   |--- class: 1\n",
      "|   |   |   |   |   |   |   |   |   |--- feature_43 >  0.38\n",
      "|   |   |   |   |   |   |   |   |   |   |--- feature_15 <= 0.62\n",
      "|   |   |   |   |   |   |   |   |   |   |   |--- class: 0\n",
      "|   |   |   |   |   |   |   |   |   |   |--- feature_15 >  0.62\n",
      "|   |   |   |   |   |   |   |   |   |   |   |--- class: 1\n",
      "|   |   |   |   |   |   |   |--- feature_44 >  0.90\n",
      "|   |   |   |   |   |   |   |   |--- feature_18 <= 0.50\n",
      "|   |   |   |   |   |   |   |   |   |--- feature_23 <= 0.49\n",
      "|   |   |   |   |   |   |   |   |   |   |--- feature_3 <= 0.57\n",
      "|   |   |   |   |   |   |   |   |   |   |   |--- truncated branch of depth 4\n",
      "|   |   |   |   |   |   |   |   |   |   |--- feature_3 >  0.57\n",
      "|   |   |   |   |   |   |   |   |   |   |   |--- class: 1\n",
      "|   |   |   |   |   |   |   |   |   |--- feature_23 >  0.49\n",
      "|   |   |   |   |   |   |   |   |   |   |--- feature_35 <= 0.47\n",
      "|   |   |   |   |   |   |   |   |   |   |   |--- truncated branch of depth 3\n",
      "|   |   |   |   |   |   |   |   |   |   |--- feature_35 >  0.47\n",
      "|   |   |   |   |   |   |   |   |   |   |   |--- class: 1\n",
      "|   |   |   |   |   |   |   |   |--- feature_18 >  0.50\n",
      "|   |   |   |   |   |   |   |   |   |--- class: 1\n",
      "|   |   |   |   |   |   |--- feature_25 >  0.50\n",
      "|   |   |   |   |   |   |   |--- feature_56 <= 0.17\n",
      "|   |   |   |   |   |   |   |   |--- feature_36 <= 0.86\n",
      "|   |   |   |   |   |   |   |   |   |--- feature_15 <= 0.79\n",
      "|   |   |   |   |   |   |   |   |   |   |--- class: 0\n",
      "|   |   |   |   |   |   |   |   |   |--- feature_15 >  0.79\n",
      "|   |   |   |   |   |   |   |   |   |   |--- class: 1\n",
      "|   |   |   |   |   |   |   |   |--- feature_36 >  0.86\n",
      "|   |   |   |   |   |   |   |   |   |--- class: 1\n",
      "|   |   |   |   |   |   |   |--- feature_56 >  0.17\n",
      "|   |   |   |   |   |   |   |   |--- class: 1\n",
      "|   |   |   |   |   |--- feature_12 >  0.81\n",
      "|   |   |   |   |   |   |--- class: 1\n",
      "|   |   |   |   |--- feature_27 >  0.50\n",
      "|   |   |   |   |   |--- feature_4 <= 0.74\n",
      "|   |   |   |   |   |   |--- feature_16 <= 0.50\n",
      "|   |   |   |   |   |   |   |--- feature_48 <= 0.77\n",
      "|   |   |   |   |   |   |   |   |--- feature_2 <= 0.79\n",
      "|   |   |   |   |   |   |   |   |   |--- feature_52 <= 0.50\n",
      "|   |   |   |   |   |   |   |   |   |   |--- feature_39 <= 0.70\n",
      "|   |   |   |   |   |   |   |   |   |   |   |--- truncated branch of depth 2\n",
      "|   |   |   |   |   |   |   |   |   |   |--- feature_39 >  0.70\n",
      "|   |   |   |   |   |   |   |   |   |   |   |--- class: 1\n",
      "|   |   |   |   |   |   |   |   |   |--- feature_52 >  0.50\n",
      "|   |   |   |   |   |   |   |   |   |   |--- class: 0\n",
      "|   |   |   |   |   |   |   |   |--- feature_2 >  0.79\n",
      "|   |   |   |   |   |   |   |   |   |--- feature_46 <= 0.50\n",
      "|   |   |   |   |   |   |   |   |   |   |--- feature_45 <= 0.31\n",
      "|   |   |   |   |   |   |   |   |   |   |   |--- truncated branch of depth 2\n",
      "|   |   |   |   |   |   |   |   |   |   |--- feature_45 >  0.31\n",
      "|   |   |   |   |   |   |   |   |   |   |   |--- truncated branch of depth 3\n",
      "|   |   |   |   |   |   |   |   |   |--- feature_46 >  0.50\n",
      "|   |   |   |   |   |   |   |   |   |   |--- class: 0\n",
      "|   |   |   |   |   |   |   |--- feature_48 >  0.77\n",
      "|   |   |   |   |   |   |   |   |--- class: 0\n",
      "|   |   |   |   |   |   |--- feature_16 >  0.50\n",
      "|   |   |   |   |   |   |   |--- class: 1\n",
      "|   |   |   |   |   |--- feature_4 >  0.74\n",
      "|   |   |   |   |   |   |--- feature_35 <= 0.95\n",
      "|   |   |   |   |   |   |   |--- class: 1\n",
      "|   |   |   |   |   |   |--- feature_35 >  0.95\n",
      "|   |   |   |   |   |   |   |--- feature_36 <= 0.90\n",
      "|   |   |   |   |   |   |   |   |--- feature_29 <= 0.50\n",
      "|   |   |   |   |   |   |   |   |   |--- class: 0\n",
      "|   |   |   |   |   |   |   |   |--- feature_29 >  0.50\n",
      "|   |   |   |   |   |   |   |   |   |--- class: 1\n",
      "|   |   |   |   |   |   |   |--- feature_36 >  0.90\n",
      "|   |   |   |   |   |   |   |   |--- class: 1\n",
      "|   |   |--- feature_26 >  0.50\n",
      "|   |   |   |--- feature_7 <= 0.89\n",
      "|   |   |   |   |--- feature_16 <= 0.50\n",
      "|   |   |   |   |   |--- feature_2 <= 0.33\n",
      "|   |   |   |   |   |   |--- feature_46 <= 0.33\n",
      "|   |   |   |   |   |   |   |--- class: 1\n",
      "|   |   |   |   |   |   |--- feature_46 >  0.33\n",
      "|   |   |   |   |   |   |   |--- feature_46 <= 0.38\n",
      "|   |   |   |   |   |   |   |   |--- class: 0\n",
      "|   |   |   |   |   |   |   |--- feature_46 >  0.38\n",
      "|   |   |   |   |   |   |   |   |--- feature_52 <= 0.37\n",
      "|   |   |   |   |   |   |   |   |   |--- feature_49 <= 0.40\n",
      "|   |   |   |   |   |   |   |   |   |   |--- feature_15 <= 0.40\n",
      "|   |   |   |   |   |   |   |   |   |   |   |--- class: 0\n",
      "|   |   |   |   |   |   |   |   |   |   |--- feature_15 >  0.40\n",
      "|   |   |   |   |   |   |   |   |   |   |   |--- truncated branch of depth 2\n",
      "|   |   |   |   |   |   |   |   |   |--- feature_49 >  0.40\n",
      "|   |   |   |   |   |   |   |   |   |   |--- class: 0\n",
      "|   |   |   |   |   |   |   |   |--- feature_52 >  0.37\n",
      "|   |   |   |   |   |   |   |   |   |--- class: 1\n",
      "|   |   |   |   |   |--- feature_2 >  0.33\n",
      "|   |   |   |   |   |   |--- feature_42 <= 0.30\n",
      "|   |   |   |   |   |   |   |--- feature_38 <= 0.50\n",
      "|   |   |   |   |   |   |   |   |--- feature_3 <= 0.51\n",
      "|   |   |   |   |   |   |   |   |   |--- feature_24 <= 0.98\n",
      "|   |   |   |   |   |   |   |   |   |   |--- class: 0\n",
      "|   |   |   |   |   |   |   |   |   |--- feature_24 >  0.98\n",
      "|   |   |   |   |   |   |   |   |   |   |--- feature_2 <= 0.80\n",
      "|   |   |   |   |   |   |   |   |   |   |   |--- class: 1\n",
      "|   |   |   |   |   |   |   |   |   |   |--- feature_2 >  0.80\n",
      "|   |   |   |   |   |   |   |   |   |   |   |--- class: 0\n",
      "|   |   |   |   |   |   |   |   |--- feature_3 >  0.51\n",
      "|   |   |   |   |   |   |   |   |   |--- feature_46 <= 0.77\n",
      "|   |   |   |   |   |   |   |   |   |   |--- class: 0\n",
      "|   |   |   |   |   |   |   |   |   |--- feature_46 >  0.77\n",
      "|   |   |   |   |   |   |   |   |   |   |--- feature_21 <= 0.30\n",
      "|   |   |   |   |   |   |   |   |   |   |   |--- class: 1\n",
      "|   |   |   |   |   |   |   |   |   |   |--- feature_21 >  0.30\n",
      "|   |   |   |   |   |   |   |   |   |   |   |--- class: 0\n",
      "|   |   |   |   |   |   |   |--- feature_38 >  0.50\n",
      "|   |   |   |   |   |   |   |   |--- feature_22 <= 0.46\n",
      "|   |   |   |   |   |   |   |   |   |--- class: 1\n",
      "|   |   |   |   |   |   |   |   |--- feature_22 >  0.46\n",
      "|   |   |   |   |   |   |   |   |   |--- feature_28 <= 1.00\n",
      "|   |   |   |   |   |   |   |   |   |   |--- feature_49 <= 0.45\n",
      "|   |   |   |   |   |   |   |   |   |   |   |--- class: 0\n",
      "|   |   |   |   |   |   |   |   |   |   |--- feature_49 >  0.45\n",
      "|   |   |   |   |   |   |   |   |   |   |   |--- truncated branch of depth 2\n",
      "|   |   |   |   |   |   |   |   |   |--- feature_28 >  1.00\n",
      "|   |   |   |   |   |   |   |   |   |   |--- class: 1\n",
      "|   |   |   |   |   |   |--- feature_42 >  0.30\n",
      "|   |   |   |   |   |   |   |--- feature_41 <= 0.29\n",
      "|   |   |   |   |   |   |   |   |--- feature_13 <= 0.66\n",
      "|   |   |   |   |   |   |   |   |   |--- feature_5 <= 0.76\n",
      "|   |   |   |   |   |   |   |   |   |   |--- class: 0\n",
      "|   |   |   |   |   |   |   |   |   |--- feature_5 >  0.76\n",
      "|   |   |   |   |   |   |   |   |   |   |--- feature_29 <= 0.50\n",
      "|   |   |   |   |   |   |   |   |   |   |   |--- class: 1\n",
      "|   |   |   |   |   |   |   |   |   |   |--- feature_29 >  0.50\n",
      "|   |   |   |   |   |   |   |   |   |   |   |--- class: 0\n",
      "|   |   |   |   |   |   |   |   |--- feature_13 >  0.66\n",
      "|   |   |   |   |   |   |   |   |   |--- class: 1\n",
      "|   |   |   |   |   |   |   |--- feature_41 >  0.29\n",
      "|   |   |   |   |   |   |   |   |--- feature_2 <= 0.59\n",
      "|   |   |   |   |   |   |   |   |   |--- feature_5 <= 0.90\n",
      "|   |   |   |   |   |   |   |   |   |   |--- class: 0\n",
      "|   |   |   |   |   |   |   |   |   |--- feature_5 >  0.90\n",
      "|   |   |   |   |   |   |   |   |   |   |--- class: 1\n",
      "|   |   |   |   |   |   |   |   |--- feature_2 >  0.59\n",
      "|   |   |   |   |   |   |   |   |   |--- feature_38 <= 0.50\n",
      "|   |   |   |   |   |   |   |   |   |   |--- feature_21 <= 0.54\n",
      "|   |   |   |   |   |   |   |   |   |   |   |--- class: 0\n",
      "|   |   |   |   |   |   |   |   |   |   |--- feature_21 >  0.54\n",
      "|   |   |   |   |   |   |   |   |   |   |   |--- truncated branch of depth 5\n",
      "|   |   |   |   |   |   |   |   |   |--- feature_38 >  0.50\n",
      "|   |   |   |   |   |   |   |   |   |   |--- feature_39 <= 0.86\n",
      "|   |   |   |   |   |   |   |   |   |   |   |--- truncated branch of depth 3\n",
      "|   |   |   |   |   |   |   |   |   |   |--- feature_39 >  0.86\n",
      "|   |   |   |   |   |   |   |   |   |   |   |--- class: 0\n",
      "|   |   |   |   |--- feature_16 >  0.50\n",
      "|   |   |   |   |   |--- feature_36 <= 0.96\n",
      "|   |   |   |   |   |   |--- feature_1 <= 0.62\n",
      "|   |   |   |   |   |   |   |--- class: 0\n",
      "|   |   |   |   |   |   |--- feature_1 >  0.62\n",
      "|   |   |   |   |   |   |   |--- class: 1\n",
      "|   |   |   |   |   |--- feature_36 >  0.96\n",
      "|   |   |   |   |   |   |--- class: 0\n",
      "|   |   |   |--- feature_7 >  0.89\n",
      "|   |   |   |   |--- class: 1\n",
      "\n"
     ]
    }
   ],
   "source": [
    "from sklearn.model_selection import train_test_split\n",
    "\n",
    "x = decision_df.drop('hrc_preds', axis=1)\n",
    "y = decision_df['hrc_preds']\n",
    "x_train, x_test, y_train, y_test = train_test_split(x, y, test_size=0.33, random_state=41)\n",
    "    \n",
    "dc = DecisionTreeClassifier(criterion=\"entropy\", random_state=42) \n",
    "dc.fit(x_train, y_train)\n",
    "dc_pred = dc.predict(x_test)\n",
    "\n",
    "d_text = tree.export_text(dc)\n",
    "print(d_text)"
   ]
  },
  {
   "cell_type": "code",
   "execution_count": 211,
   "metadata": {},
   "outputs": [
    {
     "data": {
      "text/plain": [
       "0.9356223175965666"
      ]
     },
     "execution_count": 211,
     "metadata": {},
     "output_type": "execute_result"
    }
   ],
   "source": [
    "from sklearn import metrics\n",
    "metrics.accuracy_score(y_test, dc_pred)"
   ]
  },
  {
   "cell_type": "code",
   "execution_count": 212,
   "metadata": {},
   "outputs": [
    {
     "data": {
      "text/plain": [
       "array([0.        , 0.0145586 , 0.00696963, 0.00291013, 0.00554109,\n",
       "       0.00617328, 0.05463013, 0.03012685, 0.00044087, 0.00136229,\n",
       "       0.00859385, 0.00163562, 0.00291468, 0.00598338, 0.00367384,\n",
       "       0.00790766, 0.00976794, 0.00482612, 0.00786491, 0.        ,\n",
       "       0.00863852, 0.00834435, 0.00849849, 0.02601155, 0.20169756,\n",
       "       0.01151439, 0.01870186, 0.02055962, 0.02044405, 0.13350503,\n",
       "       0.00793317, 0.        , 0.00429737, 0.        , 0.        ,\n",
       "       0.01168694, 0.00818278, 0.00247703, 0.18689983, 0.01347862,\n",
       "       0.0005815 , 0.00392099, 0.0066127 , 0.00548307, 0.03947308,\n",
       "       0.0050944 , 0.00889007, 0.00456   , 0.0063407 , 0.00909094,\n",
       "       0.00169417, 0.00548904, 0.00898451, 0.00299219, 0.0116231 ,\n",
       "       0.00389193, 0.00652559, 0.        ])"
      ]
     },
     "execution_count": 212,
     "metadata": {},
     "output_type": "execute_result"
    }
   ],
   "source": [
    "dc.feature_importances_"
   ]
  },
  {
   "cell_type": "code",
   "execution_count": 213,
   "metadata": {},
   "outputs": [
    {
     "data": {
      "text/plain": [
       "<matplotlib.axes._subplots.AxesSubplot at 0x7ff73c78c550>"
      ]
     },
     "execution_count": 213,
     "metadata": {},
     "output_type": "execute_result"
    },
    {
     "data": {
      "image/png": "[encoded data removed]",
      "text/plain": [
       "<Figure size 432x288 with 1 Axes>"
      ]
     },
     "metadata": {},
     "output_type": "display_data"
    }
   ],
   "source": [
    "pd.Series(dc.feature_importances_, index=x_train.columns).nlargest(15).plot(kind='barh')"
   ]
  },
  {
   "cell_type": "code",
   "execution_count": 225,
   "metadata": {},
   "outputs": [],
   "source": [
    "analysis_df = final_df.drop([ \n",
    "\"MAIN_CHANNEL\"                                             \n",
    ",\"YAS_CLUSTER\"                    \n",
    ",\"ILADI\"                          \n",
    ",\"ILCEADI\"  \n",
    ",\"GEOGPOINT\"\n",
    ",\"IDARIID\"\n",
    ",\"HANE_BUYUKLUGU\"\n",
    ",\"k_means_preds\"\n",
    ",\"x\",\"y\"\n",
    "],axis=1)"
   ]
  },
  {
   "cell_type": "code",
   "execution_count": 226,
   "metadata": {},
   "outputs": [],
   "source": [
    "final_high = analysis_df.query(\"hrc_preds == 1\")\n",
    "final_low = analysis_df.query(\"hrc_preds == 0\") "
   ]
  },
  {
   "cell_type": "code",
   "execution_count": 227,
   "metadata": {},
   "outputs": [
    {
     "data": {
      "text/html": [
       "<div>\n",
       "<style scoped>\n",
       "    .dataframe tbody tr th:only-of-type {\n",
       "        vertical-align: middle;\n",
       "    }\n",
       "\n",
       "    .dataframe tbody tr th {\n",
       "        vertical-align: top;\n",
       "    }\n",
       "\n",
       "    .dataframe thead th {\n",
       "        text-align: right;\n",
       "    }\n",
       "</style>\n",
       "<table border=\"1\" class=\"dataframe\">\n",
       "  <thead>\n",
       "    <tr style=\"text-align: right;\">\n",
       "      <th></th>\n",
       "      <th>outlet_number</th>\n",
       "      <th>GUNDUZ_NUFUS</th>\n",
       "      <th>GECE_NUFUS</th>\n",
       "      <th>ZENGINLIK_INDEKSI</th>\n",
       "      <th>SEHIRLESME_INDEKSI</th>\n",
       "      <th>YAYA_TRAFIGI</th>\n",
       "      <th>AYLIK_HARCAMA</th>\n",
       "      <th>GIDAVEICECEK</th>\n",
       "      <th>ALKOLTUTUN</th>\n",
       "      <th>EGLENCEKULTUR</th>\n",
       "      <th>...</th>\n",
       "      <th>DAMLA_MINERA</th>\n",
       "      <th>DAMLA_WATER</th>\n",
       "      <th>EXOTIC</th>\n",
       "      <th>FANTA</th>\n",
       "      <th>FUSETEA</th>\n",
       "      <th>MONSTER</th>\n",
       "      <th>POWERADE</th>\n",
       "      <th>SCHWEPPES</th>\n",
       "      <th>SPRITE</th>\n",
       "      <th>hrc_preds</th>\n",
       "    </tr>\n",
       "  </thead>\n",
       "  <tbody>\n",
       "    <tr>\n",
       "      <th>count</th>\n",
       "      <td>8.917000e+03</td>\n",
       "      <td>8917.000000</td>\n",
       "      <td>8917.000000</td>\n",
       "      <td>8917.000000</td>\n",
       "      <td>8917.000000</td>\n",
       "      <td>8917.000000</td>\n",
       "      <td>8917.000000</td>\n",
       "      <td>8917.000000</td>\n",
       "      <td>8917.000000</td>\n",
       "      <td>8917.000000</td>\n",
       "      <td>...</td>\n",
       "      <td>8917.000000</td>\n",
       "      <td>8917.000000</td>\n",
       "      <td>8917.000000</td>\n",
       "      <td>8917.000000</td>\n",
       "      <td>8917.000000</td>\n",
       "      <td>8917.000000</td>\n",
       "      <td>8917.000000</td>\n",
       "      <td>8917.000000</td>\n",
       "      <td>8917.000000</td>\n",
       "      <td>8917.0</td>\n",
       "    </tr>\n",
       "    <tr>\n",
       "      <th>mean</th>\n",
       "      <td>8.810957e+06</td>\n",
       "      <td>36534.376360</td>\n",
       "      <td>29354.636313</td>\n",
       "      <td>4.003204</td>\n",
       "      <td>9.693872</td>\n",
       "      <td>9.369612</td>\n",
       "      <td>7918.688460</td>\n",
       "      <td>1139.074688</td>\n",
       "      <td>254.883120</td>\n",
       "      <td>303.051101</td>\n",
       "      <td>...</td>\n",
       "      <td>7.589208</td>\n",
       "      <td>83.739182</td>\n",
       "      <td>0.021604</td>\n",
       "      <td>193.723720</td>\n",
       "      <td>35.050235</td>\n",
       "      <td>5.653801</td>\n",
       "      <td>3.039779</td>\n",
       "      <td>24.336796</td>\n",
       "      <td>29.688407</td>\n",
       "      <td>1.0</td>\n",
       "    </tr>\n",
       "    <tr>\n",
       "      <th>std</th>\n",
       "      <td>2.232438e+06</td>\n",
       "      <td>25244.753162</td>\n",
       "      <td>18840.964459</td>\n",
       "      <td>2.321252</td>\n",
       "      <td>0.692247</td>\n",
       "      <td>0.806519</td>\n",
       "      <td>4004.441082</td>\n",
       "      <td>376.977791</td>\n",
       "      <td>76.787452</td>\n",
       "      <td>213.785197</td>\n",
       "      <td>...</td>\n",
       "      <td>19.475134</td>\n",
       "      <td>245.735317</td>\n",
       "      <td>0.266417</td>\n",
       "      <td>351.359433</td>\n",
       "      <td>49.011784</td>\n",
       "      <td>15.287017</td>\n",
       "      <td>6.236035</td>\n",
       "      <td>38.109215</td>\n",
       "      <td>48.535335</td>\n",
       "      <td>0.0</td>\n",
       "    </tr>\n",
       "    <tr>\n",
       "      <th>min</th>\n",
       "      <td>6.018800e+04</td>\n",
       "      <td>828.000000</td>\n",
       "      <td>15.000000</td>\n",
       "      <td>0.295000</td>\n",
       "      <td>1.000673</td>\n",
       "      <td>6.034572</td>\n",
       "      <td>1172.000000</td>\n",
       "      <td>264.471000</td>\n",
       "      <td>56.256000</td>\n",
       "      <td>21.096000</td>\n",
       "      <td>...</td>\n",
       "      <td>0.000000</td>\n",
       "      <td>0.000000</td>\n",
       "      <td>0.000000</td>\n",
       "      <td>0.000000</td>\n",
       "      <td>0.000000</td>\n",
       "      <td>0.000000</td>\n",
       "      <td>0.000000</td>\n",
       "      <td>0.000000</td>\n",
       "      <td>0.000000</td>\n",
       "      <td>1.0</td>\n",
       "    </tr>\n",
       "    <tr>\n",
       "      <th>25%</th>\n",
       "      <td>9.060599e+06</td>\n",
       "      <td>18782.000000</td>\n",
       "      <td>16024.000000</td>\n",
       "      <td>2.253000</td>\n",
       "      <td>9.977942</td>\n",
       "      <td>8.999386</td>\n",
       "      <td>4871.000000</td>\n",
       "      <td>857.296000</td>\n",
       "      <td>189.969000</td>\n",
       "      <td>146.130000</td>\n",
       "      <td>...</td>\n",
       "      <td>0.000000</td>\n",
       "      <td>4.226000</td>\n",
       "      <td>0.000000</td>\n",
       "      <td>52.242000</td>\n",
       "      <td>3.676000</td>\n",
       "      <td>0.000000</td>\n",
       "      <td>0.000000</td>\n",
       "      <td>2.113000</td>\n",
       "      <td>7.016000</td>\n",
       "      <td>1.0</td>\n",
       "    </tr>\n",
       "    <tr>\n",
       "      <th>50%</th>\n",
       "      <td>9.398610e+06</td>\n",
       "      <td>31875.000000</td>\n",
       "      <td>26181.000000</td>\n",
       "      <td>3.336000</td>\n",
       "      <td>9.999828</td>\n",
       "      <td>9.996058</td>\n",
       "      <td>6867.000000</td>\n",
       "      <td>1123.576000</td>\n",
       "      <td>256.243000</td>\n",
       "      <td>219.744000</td>\n",
       "      <td>...</td>\n",
       "      <td>0.845000</td>\n",
       "      <td>16.904000</td>\n",
       "      <td>0.000000</td>\n",
       "      <td>112.679000</td>\n",
       "      <td>17.683000</td>\n",
       "      <td>0.000000</td>\n",
       "      <td>0.000000</td>\n",
       "      <td>11.832000</td>\n",
       "      <td>19.439000</td>\n",
       "      <td>1.0</td>\n",
       "    </tr>\n",
       "    <tr>\n",
       "      <th>75%</th>\n",
       "      <td>9.612905e+06</td>\n",
       "      <td>48669.000000</td>\n",
       "      <td>37755.000000</td>\n",
       "      <td>5.239000</td>\n",
       "      <td>10.000000</td>\n",
       "      <td>9.999882</td>\n",
       "      <td>10190.000000</td>\n",
       "      <td>1340.342000</td>\n",
       "      <td>309.212000</td>\n",
       "      <td>468.740000</td>\n",
       "      <td>...</td>\n",
       "      <td>6.760000</td>\n",
       "      <td>65.503000</td>\n",
       "      <td>0.000000</td>\n",
       "      <td>224.870000</td>\n",
       "      <td>46.906000</td>\n",
       "      <td>5.864000</td>\n",
       "      <td>4.228000</td>\n",
       "      <td>31.695000</td>\n",
       "      <td>38.245000</td>\n",
       "      <td>1.0</td>\n",
       "    </tr>\n",
       "    <tr>\n",
       "      <th>max</th>\n",
       "      <td>2.004005e+07</td>\n",
       "      <td>291434.000000</td>\n",
       "      <td>101668.000000</td>\n",
       "      <td>10.000000</td>\n",
       "      <td>10.000000</td>\n",
       "      <td>10.000000</td>\n",
       "      <td>17944.000000</td>\n",
       "      <td>2063.560000</td>\n",
       "      <td>412.712000</td>\n",
       "      <td>825.424000</td>\n",
       "      <td>...</td>\n",
       "      <td>461.370000</td>\n",
       "      <td>10305.681000</td>\n",
       "      <td>10.117000</td>\n",
       "      <td>11201.825000</td>\n",
       "      <td>556.307000</td>\n",
       "      <td>486.253000</td>\n",
       "      <td>140.581000</td>\n",
       "      <td>1148.479000</td>\n",
       "      <td>2637.824000</td>\n",
       "      <td>1.0</td>\n",
       "    </tr>\n",
       "  </tbody>\n",
       "</table>\n",
       "<p>8 rows × 63 columns</p>\n",
       "</div>"
      ],
      "text/plain": [
       "       outlet_number   GUNDUZ_NUFUS     GECE_NUFUS  ZENGINLIK_INDEKSI  \\\n",
       "count   8.917000e+03    8917.000000    8917.000000        8917.000000   \n",
       "mean    8.810957e+06   36534.376360   29354.636313           4.003204   \n",
       "std     2.232438e+06   25244.753162   18840.964459           2.321252   \n",
       "min     6.018800e+04     828.000000      15.000000           0.295000   \n",
       "25%     9.060599e+06   18782.000000   16024.000000           2.253000   \n",
       "50%     9.398610e+06   31875.000000   26181.000000           3.336000   \n",
       "75%     9.612905e+06   48669.000000   37755.000000           5.239000   \n",
       "max     2.004005e+07  291434.000000  101668.000000          10.000000   \n",
       "\n",
       "       SEHIRLESME_INDEKSI  YAYA_TRAFIGI  AYLIK_HARCAMA  GIDAVEICECEK  \\\n",
       "count         8917.000000   8917.000000    8917.000000   8917.000000   \n",
       "mean             9.693872      9.369612    7918.688460   1139.074688   \n",
       "std              0.692247      0.806519    4004.441082    376.977791   \n",
       "min              1.000673      6.034572    1172.000000    264.471000   \n",
       "25%              9.977942      8.999386    4871.000000    857.296000   \n",
       "50%              9.999828      9.996058    6867.000000   1123.576000   \n",
       "75%             10.000000      9.999882   10190.000000   1340.342000   \n",
       "max             10.000000     10.000000   17944.000000   2063.560000   \n",
       "\n",
       "        ALKOLTUTUN  EGLENCEKULTUR  ...  DAMLA_MINERA   DAMLA_WATER  \\\n",
       "count  8917.000000    8917.000000  ...   8917.000000   8917.000000   \n",
       "mean    254.883120     303.051101  ...      7.589208     83.739182   \n",
       "std      76.787452     213.785197  ...     19.475134    245.735317   \n",
       "min      56.256000      21.096000  ...      0.000000      0.000000   \n",
       "25%     189.969000     146.130000  ...      0.000000      4.226000   \n",
       "50%     256.243000     219.744000  ...      0.845000     16.904000   \n",
       "75%     309.212000     468.740000  ...      6.760000     65.503000   \n",
       "max     412.712000     825.424000  ...    461.370000  10305.681000   \n",
       "\n",
       "            EXOTIC         FANTA      FUSETEA      MONSTER     POWERADE  \\\n",
       "count  8917.000000   8917.000000  8917.000000  8917.000000  8917.000000   \n",
       "mean      0.021604    193.723720    35.050235     5.653801     3.039779   \n",
       "std       0.266417    351.359433    49.011784    15.287017     6.236035   \n",
       "min       0.000000      0.000000     0.000000     0.000000     0.000000   \n",
       "25%       0.000000     52.242000     3.676000     0.000000     0.000000   \n",
       "50%       0.000000    112.679000    17.683000     0.000000     0.000000   \n",
       "75%       0.000000    224.870000    46.906000     5.864000     4.228000   \n",
       "max      10.117000  11201.825000   556.307000   486.253000   140.581000   \n",
       "\n",
       "         SCHWEPPES       SPRITE  hrc_preds  \n",
       "count  8917.000000  8917.000000     8917.0  \n",
       "mean     24.336796    29.688407        1.0  \n",
       "std      38.109215    48.535335        0.0  \n",
       "min       0.000000     0.000000        1.0  \n",
       "25%       2.113000     7.016000        1.0  \n",
       "50%      11.832000    19.439000        1.0  \n",
       "75%      31.695000    38.245000        1.0  \n",
       "max    1148.479000  2637.824000        1.0  \n",
       "\n",
       "[8 rows x 63 columns]"
      ]
     },
     "execution_count": 227,
     "metadata": {},
     "output_type": "execute_result"
    }
   ],
   "source": [
    "final_high.describe()"
   ]
  },
  {
   "cell_type": "code",
   "execution_count": 228,
   "metadata": {},
   "outputs": [
    {
     "data": {
      "text/html": [
       "<div>\n",
       "<style scoped>\n",
       "    .dataframe tbody tr th:only-of-type {\n",
       "        vertical-align: middle;\n",
       "    }\n",
       "\n",
       "    .dataframe tbody tr th {\n",
       "        vertical-align: top;\n",
       "    }\n",
       "\n",
       "    .dataframe thead th {\n",
       "        text-align: right;\n",
       "    }\n",
       "</style>\n",
       "<table border=\"1\" class=\"dataframe\">\n",
       "  <thead>\n",
       "    <tr style=\"text-align: right;\">\n",
       "      <th></th>\n",
       "      <th>outlet_number</th>\n",
       "      <th>GUNDUZ_NUFUS</th>\n",
       "      <th>GECE_NUFUS</th>\n",
       "      <th>ZENGINLIK_INDEKSI</th>\n",
       "      <th>SEHIRLESME_INDEKSI</th>\n",
       "      <th>YAYA_TRAFIGI</th>\n",
       "      <th>AYLIK_HARCAMA</th>\n",
       "      <th>GIDAVEICECEK</th>\n",
       "      <th>ALKOLTUTUN</th>\n",
       "      <th>EGLENCEKULTUR</th>\n",
       "      <th>...</th>\n",
       "      <th>DAMLA_MINERA</th>\n",
       "      <th>DAMLA_WATER</th>\n",
       "      <th>EXOTIC</th>\n",
       "      <th>FANTA</th>\n",
       "      <th>FUSETEA</th>\n",
       "      <th>MONSTER</th>\n",
       "      <th>POWERADE</th>\n",
       "      <th>SCHWEPPES</th>\n",
       "      <th>SPRITE</th>\n",
       "      <th>hrc_preds</th>\n",
       "    </tr>\n",
       "  </thead>\n",
       "  <tbody>\n",
       "    <tr>\n",
       "      <th>count</th>\n",
       "      <td>1.579400e+04</td>\n",
       "      <td>15794.000000</td>\n",
       "      <td>15794.000000</td>\n",
       "      <td>15794.000000</td>\n",
       "      <td>15794.000000</td>\n",
       "      <td>15794.000000</td>\n",
       "      <td>15794.000000</td>\n",
       "      <td>15794.000000</td>\n",
       "      <td>15794.000000</td>\n",
       "      <td>15794.000000</td>\n",
       "      <td>...</td>\n",
       "      <td>15794.000000</td>\n",
       "      <td>15794.000000</td>\n",
       "      <td>15794.000000</td>\n",
       "      <td>15794.000000</td>\n",
       "      <td>15794.000000</td>\n",
       "      <td>15794.000000</td>\n",
       "      <td>15794.000000</td>\n",
       "      <td>15794.000000</td>\n",
       "      <td>15794.000000</td>\n",
       "      <td>15794.0</td>\n",
       "    </tr>\n",
       "    <tr>\n",
       "      <th>mean</th>\n",
       "      <td>8.838621e+06</td>\n",
       "      <td>29475.165506</td>\n",
       "      <td>29562.164430</td>\n",
       "      <td>2.919780</td>\n",
       "      <td>9.394397</td>\n",
       "      <td>9.057796</td>\n",
       "      <td>5997.079271</td>\n",
       "      <td>914.884176</td>\n",
       "      <td>211.171926</td>\n",
       "      <td>194.703686</td>\n",
       "      <td>...</td>\n",
       "      <td>8.164056</td>\n",
       "      <td>71.767437</td>\n",
       "      <td>0.007210</td>\n",
       "      <td>247.625820</td>\n",
       "      <td>35.974237</td>\n",
       "      <td>5.451618</td>\n",
       "      <td>1.979416</td>\n",
       "      <td>17.670786</td>\n",
       "      <td>28.548490</td>\n",
       "      <td>0.0</td>\n",
       "    </tr>\n",
       "    <tr>\n",
       "      <th>std</th>\n",
       "      <td>2.036680e+06</td>\n",
       "      <td>25368.028897</td>\n",
       "      <td>19981.144398</td>\n",
       "      <td>1.639352</td>\n",
       "      <td>1.076225</td>\n",
       "      <td>0.975455</td>\n",
       "      <td>2920.980251</td>\n",
       "      <td>372.146388</td>\n",
       "      <td>87.260991</td>\n",
       "      <td>146.425324</td>\n",
       "      <td>...</td>\n",
       "      <td>21.266531</td>\n",
       "      <td>209.596162</td>\n",
       "      <td>0.133544</td>\n",
       "      <td>379.844013</td>\n",
       "      <td>49.885086</td>\n",
       "      <td>33.003469</td>\n",
       "      <td>4.743921</td>\n",
       "      <td>27.665618</td>\n",
       "      <td>42.196495</td>\n",
       "      <td>0.0</td>\n",
       "    </tr>\n",
       "    <tr>\n",
       "      <th>min</th>\n",
       "      <td>6.000500e+04</td>\n",
       "      <td>0.000000</td>\n",
       "      <td>0.000000</td>\n",
       "      <td>0.104000</td>\n",
       "      <td>0.000000</td>\n",
       "      <td>0.000000</td>\n",
       "      <td>1144.000000</td>\n",
       "      <td>0.000000</td>\n",
       "      <td>0.000000</td>\n",
       "      <td>0.000000</td>\n",
       "      <td>...</td>\n",
       "      <td>0.000000</td>\n",
       "      <td>0.000000</td>\n",
       "      <td>0.000000</td>\n",
       "      <td>0.000000</td>\n",
       "      <td>0.000000</td>\n",
       "      <td>0.000000</td>\n",
       "      <td>0.000000</td>\n",
       "      <td>0.000000</td>\n",
       "      <td>0.000000</td>\n",
       "      <td>0.0</td>\n",
       "    </tr>\n",
       "    <tr>\n",
       "      <th>25%</th>\n",
       "      <td>9.071366e+06</td>\n",
       "      <td>13141.500000</td>\n",
       "      <td>15536.000000</td>\n",
       "      <td>1.783745</td>\n",
       "      <td>9.000290</td>\n",
       "      <td>8.002764</td>\n",
       "      <td>4013.000000</td>\n",
       "      <td>676.192000</td>\n",
       "      <td>150.210000</td>\n",
       "      <td>114.517500</td>\n",
       "      <td>...</td>\n",
       "      <td>0.000000</td>\n",
       "      <td>4.226000</td>\n",
       "      <td>0.000000</td>\n",
       "      <td>79.171250</td>\n",
       "      <td>3.788500</td>\n",
       "      <td>0.000000</td>\n",
       "      <td>0.000000</td>\n",
       "      <td>0.845000</td>\n",
       "      <td>6.339000</td>\n",
       "      <td>0.0</td>\n",
       "    </tr>\n",
       "    <tr>\n",
       "      <th>50%</th>\n",
       "      <td>9.406376e+06</td>\n",
       "      <td>24593.000000</td>\n",
       "      <td>26168.000000</td>\n",
       "      <td>2.676000</td>\n",
       "      <td>9.998879</td>\n",
       "      <td>9.000855</td>\n",
       "      <td>5661.000000</td>\n",
       "      <td>919.502000</td>\n",
       "      <td>223.450000</td>\n",
       "      <td>176.128000</td>\n",
       "      <td>...</td>\n",
       "      <td>0.845000</td>\n",
       "      <td>16.904000</td>\n",
       "      <td>0.000000</td>\n",
       "      <td>164.069000</td>\n",
       "      <td>18.385000</td>\n",
       "      <td>0.000000</td>\n",
       "      <td>0.000000</td>\n",
       "      <td>8.452000</td>\n",
       "      <td>18.429000</td>\n",
       "      <td>0.0</td>\n",
       "    </tr>\n",
       "    <tr>\n",
       "      <th>75%</th>\n",
       "      <td>9.612865e+06</td>\n",
       "      <td>39789.000000</td>\n",
       "      <td>39411.000000</td>\n",
       "      <td>3.664000</td>\n",
       "      <td>9.999998</td>\n",
       "      <td>9.999617</td>\n",
       "      <td>7409.000000</td>\n",
       "      <td>1189.040000</td>\n",
       "      <td>277.119000</td>\n",
       "      <td>236.032000</td>\n",
       "      <td>...</td>\n",
       "      <td>7.605000</td>\n",
       "      <td>55.644000</td>\n",
       "      <td>0.000000</td>\n",
       "      <td>299.053000</td>\n",
       "      <td>48.392750</td>\n",
       "      <td>4.228000</td>\n",
       "      <td>2.114000</td>\n",
       "      <td>23.243000</td>\n",
       "      <td>37.513250</td>\n",
       "      <td>0.0</td>\n",
       "    </tr>\n",
       "    <tr>\n",
       "      <th>max</th>\n",
       "      <td>2.003936e+07</td>\n",
       "      <td>291434.000000</td>\n",
       "      <td>101668.000000</td>\n",
       "      <td>10.000000</td>\n",
       "      <td>10.000000</td>\n",
       "      <td>10.000000</td>\n",
       "      <td>17944.000000</td>\n",
       "      <td>2063.560000</td>\n",
       "      <td>412.712000</td>\n",
       "      <td>825.424000</td>\n",
       "      <td>...</td>\n",
       "      <td>881.335000</td>\n",
       "      <td>6952.624000</td>\n",
       "      <td>8.364000</td>\n",
       "      <td>11296.120000</td>\n",
       "      <td>1760.109000</td>\n",
       "      <td>3533.103000</td>\n",
       "      <td>121.555000</td>\n",
       "      <td>620.377000</td>\n",
       "      <td>1649.420000</td>\n",
       "      <td>0.0</td>\n",
       "    </tr>\n",
       "  </tbody>\n",
       "</table>\n",
       "<p>8 rows × 63 columns</p>\n",
       "</div>"
      ],
      "text/plain": [
       "       outlet_number   GUNDUZ_NUFUS     GECE_NUFUS  ZENGINLIK_INDEKSI  \\\n",
       "count   1.579400e+04   15794.000000   15794.000000       15794.000000   \n",
       "mean    8.838621e+06   29475.165506   29562.164430           2.919780   \n",
       "std     2.036680e+06   25368.028897   19981.144398           1.639352   \n",
       "min     6.000500e+04       0.000000       0.000000           0.104000   \n",
       "25%     9.071366e+06   13141.500000   15536.000000           1.783745   \n",
       "50%     9.406376e+06   24593.000000   26168.000000           2.676000   \n",
       "75%     9.612865e+06   39789.000000   39411.000000           3.664000   \n",
       "max     2.003936e+07  291434.000000  101668.000000          10.000000   \n",
       "\n",
       "       SEHIRLESME_INDEKSI  YAYA_TRAFIGI  AYLIK_HARCAMA  GIDAVEICECEK  \\\n",
       "count        15794.000000  15794.000000   15794.000000  15794.000000   \n",
       "mean             9.394397      9.057796    5997.079271    914.884176   \n",
       "std              1.076225      0.975455    2920.980251    372.146388   \n",
       "min              0.000000      0.000000    1144.000000      0.000000   \n",
       "25%              9.000290      8.002764    4013.000000    676.192000   \n",
       "50%              9.998879      9.000855    5661.000000    919.502000   \n",
       "75%              9.999998      9.999617    7409.000000   1189.040000   \n",
       "max             10.000000     10.000000   17944.000000   2063.560000   \n",
       "\n",
       "         ALKOLTUTUN  EGLENCEKULTUR  ...  DAMLA_MINERA   DAMLA_WATER  \\\n",
       "count  15794.000000   15794.000000  ...  15794.000000  15794.000000   \n",
       "mean     211.171926     194.703686  ...      8.164056     71.767437   \n",
       "std       87.260991     146.425324  ...     21.266531    209.596162   \n",
       "min        0.000000       0.000000  ...      0.000000      0.000000   \n",
       "25%      150.210000     114.517500  ...      0.000000      4.226000   \n",
       "50%      223.450000     176.128000  ...      0.845000     16.904000   \n",
       "75%      277.119000     236.032000  ...      7.605000     55.644000   \n",
       "max      412.712000     825.424000  ...    881.335000   6952.624000   \n",
       "\n",
       "             EXOTIC         FANTA       FUSETEA       MONSTER      POWERADE  \\\n",
       "count  15794.000000  15794.000000  15794.000000  15794.000000  15794.000000   \n",
       "mean       0.007210    247.625820     35.974237      5.451618      1.979416   \n",
       "std        0.133544    379.844013     49.885086     33.003469      4.743921   \n",
       "min        0.000000      0.000000      0.000000      0.000000      0.000000   \n",
       "25%        0.000000     79.171250      3.788500      0.000000      0.000000   \n",
       "50%        0.000000    164.069000     18.385000      0.000000      0.000000   \n",
       "75%        0.000000    299.053000     48.392750      4.228000      2.114000   \n",
       "max        8.364000  11296.120000   1760.109000   3533.103000    121.555000   \n",
       "\n",
       "          SCHWEPPES        SPRITE  hrc_preds  \n",
       "count  15794.000000  15794.000000    15794.0  \n",
       "mean      17.670786     28.548490        0.0  \n",
       "std       27.665618     42.196495        0.0  \n",
       "min        0.000000      0.000000        0.0  \n",
       "25%        0.845000      6.339000        0.0  \n",
       "50%        8.452000     18.429000        0.0  \n",
       "75%       23.243000     37.513250        0.0  \n",
       "max      620.377000   1649.420000        0.0  \n",
       "\n",
       "[8 rows x 63 columns]"
      ]
     },
     "execution_count": 228,
     "metadata": {},
     "output_type": "execute_result"
    }
   ],
   "source": [
    "final_low.describe()"
   ]
  },
  {
   "cell_type": "markdown",
   "metadata": {},
   "source": [
    "#### High Traffic"
   ]
  },
  {
   "cell_type": "code",
   "execution_count": 251,
   "metadata": {},
   "outputs": [
    {
     "name": "stdout",
     "output_type": "stream",
     "text": [
      "High Traffic çıkan toplam outlet sayısı :  8917 \n",
      "\n",
      "High Traffic'in ortalama aylık harcaması:  7918.688460244477 \n",
      "\n",
      "High Traffic'in ortalama yaya trafiği:  9.369612072241038 \n",
      "\n",
      "High Traffic'in A,B,C1 kategorisindeki toplam outlet sayısı oranı:  % 70.89828417629246 \n",
      "\n",
      "High Traffic'in ortalama Gündüz Nufusu sayısı:  36534.37635976225 \n",
      "\n",
      "High Traffic'in ortalama Gece Nufusu sayısı:  29354.63631266121 \n",
      "\n",
      "High Traffic'in ortalama Eğitim birimi sayısı:  1.2791297521587979\n",
      "High Traffic'in minimum Eğitim birimi sayısı:  0.0\n",
      "High Traffic'in maximum Eğitim birimi sayısı:  36.0 \n",
      "\n",
      "High Traffic'in ortalama Modern Retail birimi sayısı:  0.4531793203992374 \n",
      "\n",
      "High Traffic'in ortalama Spor birimi sayısı:  0.3993495570259056 \n",
      "\n"
     ]
    }
   ],
   "source": [
    "print(\"High Traffic çıkan toplam outlet sayısı : \", final_high.outlet_number.nunique(), \"\\n\")\n",
    "\n",
    "print(\"High Traffic'in ortalama aylık harcaması: \", final_high['AYLIK_HARCAMA'].mean(), \"\\n\") \n",
    "\n",
    "print(\"High Traffic'in ortalama yaya trafiği: \", final_high['YAYA_TRAFIGI'].mean(), \"\\n\") \n",
    "\n",
    "print(\"High Traffic'in A,B,C1 kategorisindeki toplam outlet sayısı oranı: \", \"%\",final_high.query(\"SES == 'A' or SES == 'B' or SES == 'C1'\").outlet_number.nunique()/len(final_high.SES) * 100  , \"\\n\")\n",
    "\n",
    "print(\"High Traffic'in ortalama Gündüz Nufusu sayısı: \", final_high.GUNDUZ_NUFUS.mean(), \"\\n\")\n",
    "\n",
    "print(\"High Traffic'in ortalama Gece Nufusu sayısı: \", final_high.GECE_NUFUS.mean(), \"\\n\")\n",
    "\n",
    "print(\"High Traffic'in ortalama Eğitim birimi sayısı: \", final_high.EGITIM.mean())\n",
    "print(\"High Traffic'in minimum Eğitim birimi sayısı: \", final_high.EGITIM.min())\n",
    "print(\"High Traffic'in maximum Eğitim birimi sayısı: \", final_high.EGITIM.max(), \"\\n\")\n",
    "\n",
    "print(\"High Traffic'in ortalama Modern Retail birimi sayısı: \", final_high.MODERN_RETAIL.mean(), \"\\n\")\n",
    "\n",
    "print(\"High Traffic'in ortalama Spor birimi sayısı: \", final_high.SPOR.mean(), \"\\n\")"
   ]
  },
  {
   "cell_type": "markdown",
   "metadata": {},
   "source": [
    "<br>"
   ]
  },
  {
   "cell_type": "markdown",
   "metadata": {},
   "source": [
    "#### Non-high Traffic"
   ]
  },
  {
   "cell_type": "code",
   "execution_count": 252,
   "metadata": {},
   "outputs": [
    {
     "name": "stdout",
     "output_type": "stream",
     "text": [
      "Non-high Traffic çıkan toplam outlet sayısı :  15794 \n",
      "\n",
      "Non-high Traffic'in ortalama aylık harcaması:  5997.079270609092 \n",
      "\n",
      "Non-high Traffic'in ortalama yaya trafiği:  9.057795697775942 \n",
      "\n",
      "Non-high Traffic'in A,B,C1 kategorisindeki toplam outlet sayısı oranı:  % 54.03950867418007 \n",
      "\n",
      "Non-high Traffic'in ortalama Gündüz Nufusu sayısı:  29475.16550588831 \n",
      "\n",
      "Non-high Traffic'in ortalama Gece Nufusu sayısı:  29562.164429530203 \n",
      "\n",
      "Non-high'in ortalama Eğitim birimi sayısı:  0.1939344054704318\n",
      "Non-high'in minimum Eğitim birimi sayısı:  0.0\n",
      "Non-high'in maximum Eğitim birimi sayısı:  29.0 \n",
      "\n",
      "Non-high'in ortalama Modern Retail birimi sayısı:  0.041344814486513864 \n",
      "\n",
      "Non-high'in ortalama Spor birimi sayısı:  0.04748638723565911 \n",
      "\n"
     ]
    }
   ],
   "source": [
    "print(\"Non-high Traffic çıkan toplam outlet sayısı : \", final_low.outlet_number.nunique(), \"\\n\")\n",
    "\n",
    "print(\"Non-high Traffic'in ortalama aylık harcaması: \", final_low['AYLIK_HARCAMA'].mean(), \"\\n\") \n",
    "\n",
    "print(\"Non-high Traffic'in ortalama yaya trafiği: \", final_low['YAYA_TRAFIGI'].mean(), \"\\n\") \n",
    "\n",
    "print(\"Non-high Traffic'in A,B,C1 kategorisindeki toplam outlet sayısı oranı: \", \"%\", final_low.query(\"SES == 'A' or SES == 'B' or SES == 'C1'\").outlet_number.nunique()/len(final_low.SES) * 100  , \"\\n\")\n",
    "\n",
    "print(\"Non-high Traffic'in ortalama Gündüz Nufusu sayısı: \", final_low.GUNDUZ_NUFUS.mean(), \"\\n\")\n",
    "\n",
    "print(\"Non-high Traffic'in ortalama Gece Nufusu sayısı: \", final_low.GECE_NUFUS.mean(), \"\\n\")\n",
    "\n",
    "print(\"Non-high'in ortalama Eğitim birimi sayısı: \", final_low.EGITIM.mean())\n",
    "print(\"Non-high'in minimum Eğitim birimi sayısı: \", final_low.EGITIM.min())\n",
    "print(\"Non-high'in maximum Eğitim birimi sayısı: \", final_low.EGITIM.max(), \"\\n\")\n",
    "\n",
    "print(\"Non-high'in ortalama Modern Retail birimi sayısı: \", final_low.MODERN_RETAIL.mean(), \"\\n\")\n",
    "\n",
    "print(\"Non-high'in ortalama Spor birimi sayısı: \", final_low.SPOR.mean(), \"\\n\")"
   ]
  },
  {
   "cell_type": "markdown",
   "metadata": {},
   "source": [
    "### Graph"
   ]
  },
  {
   "cell_type": "code",
   "execution_count": 284,
   "metadata": {},
   "outputs": [],
   "source": [
    "column_names = [\"BURN\"\n",
    ",\"CAPPY\"                            \n",
    ",\"CC_LIGHT\"                         \n",
    ",\"CC_NO_SUGER\"                      \n",
    ",\"COCACOLA\"                         \n",
    ",\"COCACOLA_ENERGY\"                  \n",
    ",\"DAMLA_MINERA\"                     \n",
    ",\"DAMLA_WATER\"                      \n",
    ",\"EXOTIC\"                           \n",
    ",\"FANTA\"                            \n",
    ",\"FUSETEA\"                          \n",
    ",\"MONSTER\"                          \n",
    ",\"POWERADE\"                         \n",
    ",\"SCHWEPPES\"]                      "
   ]
  },
  {
   "cell_type": "code",
   "execution_count": 316,
   "metadata": {},
   "outputs": [],
   "source": [
    "final_high_brands = final_high[column_names].reset_index(drop=True)"
   ]
  },
  {
   "cell_type": "code",
   "execution_count": 317,
   "metadata": {},
   "outputs": [],
   "source": [
    "high_brands_sum = pd.DataFrame(final_high_brands.sum()).reset_index()"
   ]
  },
  {
   "cell_type": "code",
   "execution_count": 318,
   "metadata": {},
   "outputs": [],
   "source": [
    "high_brands_sum.rename({\"index\": \"brand\", 0: \"values\",} ,axis=1,inplace=True)"
   ]
  },
  {
   "cell_type": "code",
   "execution_count": 319,
   "metadata": {},
   "outputs": [
    {
     "data": {
      "text/html": [
       "<div>\n",
       "<style scoped>\n",
       "    .dataframe tbody tr th:only-of-type {\n",
       "        vertical-align: middle;\n",
       "    }\n",
       "\n",
       "    .dataframe tbody tr th {\n",
       "        vertical-align: top;\n",
       "    }\n",
       "\n",
       "    .dataframe thead th {\n",
       "        text-align: right;\n",
       "    }\n",
       "</style>\n",
       "<table border=\"1\" class=\"dataframe\">\n",
       "  <thead>\n",
       "    <tr style=\"text-align: right;\">\n",
       "      <th></th>\n",
       "      <th>brand</th>\n",
       "      <th>values</th>\n",
       "    </tr>\n",
       "  </thead>\n",
       "  <tbody>\n",
       "    <tr>\n",
       "      <th>0</th>\n",
       "      <td>BURN</td>\n",
       "      <td>43706.287</td>\n",
       "    </tr>\n",
       "    <tr>\n",
       "      <th>1</th>\n",
       "      <td>CAPPY</td>\n",
       "      <td>960757.528</td>\n",
       "    </tr>\n",
       "    <tr>\n",
       "      <th>2</th>\n",
       "      <td>CC_LIGHT</td>\n",
       "      <td>52387.533</td>\n",
       "    </tr>\n",
       "    <tr>\n",
       "      <th>3</th>\n",
       "      <td>CC_NO_SUGER</td>\n",
       "      <td>481466.955</td>\n",
       "    </tr>\n",
       "    <tr>\n",
       "      <th>4</th>\n",
       "      <td>COCACOLA</td>\n",
       "      <td>6150639.695</td>\n",
       "    </tr>\n",
       "    <tr>\n",
       "      <th>5</th>\n",
       "      <td>COCACOLA_ENERGY</td>\n",
       "      <td>924.528</td>\n",
       "    </tr>\n",
       "    <tr>\n",
       "      <th>6</th>\n",
       "      <td>DAMLA_MINERA</td>\n",
       "      <td>67672.968</td>\n",
       "    </tr>\n",
       "    <tr>\n",
       "      <th>7</th>\n",
       "      <td>DAMLA_WATER</td>\n",
       "      <td>746702.289</td>\n",
       "    </tr>\n",
       "    <tr>\n",
       "      <th>8</th>\n",
       "      <td>EXOTIC</td>\n",
       "      <td>192.644</td>\n",
       "    </tr>\n",
       "    <tr>\n",
       "      <th>9</th>\n",
       "      <td>FANTA</td>\n",
       "      <td>1727434.411</td>\n",
       "    </tr>\n",
       "    <tr>\n",
       "      <th>10</th>\n",
       "      <td>FUSETEA</td>\n",
       "      <td>312542.943</td>\n",
       "    </tr>\n",
       "    <tr>\n",
       "      <th>11</th>\n",
       "      <td>MONSTER</td>\n",
       "      <td>50414.945</td>\n",
       "    </tr>\n",
       "    <tr>\n",
       "      <th>12</th>\n",
       "      <td>POWERADE</td>\n",
       "      <td>27105.708</td>\n",
       "    </tr>\n",
       "    <tr>\n",
       "      <th>13</th>\n",
       "      <td>SCHWEPPES</td>\n",
       "      <td>217011.207</td>\n",
       "    </tr>\n",
       "  </tbody>\n",
       "</table>\n",
       "</div>"
      ],
      "text/plain": [
       "              brand       values\n",
       "0              BURN    43706.287\n",
       "1             CAPPY   960757.528\n",
       "2          CC_LIGHT    52387.533\n",
       "3       CC_NO_SUGER   481466.955\n",
       "4          COCACOLA  6150639.695\n",
       "5   COCACOLA_ENERGY      924.528\n",
       "6      DAMLA_MINERA    67672.968\n",
       "7       DAMLA_WATER   746702.289\n",
       "8            EXOTIC      192.644\n",
       "9             FANTA  1727434.411\n",
       "10          FUSETEA   312542.943\n",
       "11          MONSTER    50414.945\n",
       "12         POWERADE    27105.708\n",
       "13        SCHWEPPES   217011.207"
      ]
     },
     "execution_count": 319,
     "metadata": {},
     "output_type": "execute_result"
    }
   ],
   "source": [
    "high_brands_sum"
   ]
  },
  {
   "cell_type": "code",
   "execution_count": 321,
   "metadata": {},
   "outputs": [
    {
     "data": {
      "application/vnd.plotly.v1+json": {
       "config": {
        "plotlyServerURL": "https://plot.ly"
       },
       "data": [
        {
         "domain": {
          "x": [
           0,
           1
          ],
          "y": [
           0,
           1
          ]
         },
         "hovertemplate": "brand=%{label}<br>value=%{value}<extra></extra>",
         "labels": [
          "BURN",
          "CAPPY",
          "CC_LIGHT",
          "CC_NO_SUGER",
          "COCACOLA",
          "COCACOLA_ENERGY",
          "DAMLA_MINERA",
          "DAMLA_WATER",
          "EXOTIC",
          "FANTA",
          "FUSETEA",
          "MONSTER",
          "POWERADE",
          "SCHWEPPES"
         ],
         "legendgroup": "",
         "name": "",
         "showlegend": true,
         "type": "pie",
         "values": [
          43706.287000000004,
          960757.5279999999,
          52387.532999999996,
          481466.955,
          6150639.695,
          924.5280000000001,
          67672.968,
          746702.289,
          192.644,
          1727434.411,
          312542.94299999997,
          50414.94500000001,
          27105.708000000002,
          217011.207
         ]
        }
       ],
       "layout": {
        "autosize": true,
        "hiddenlabels": [],
        "legend": {
         "tracegroupgap": 0
        },
        "template": {
         "data": {
          "bar": [
           {
            "error_x": {
             "color": "#2a3f5f"
            },
            "error_y": {
             "color": "#2a3f5f"
            },
            "marker": {
             "line": {
              "color": "#E5ECF6",
              "width": 0.5
             },
             "pattern": {
              "fillmode": "overlay",
              "size": 10,
              "solidity": 0.2
             }
            },
            "type": "bar"
           }
          ],
          "barpolar": [
           {
            "marker": {
             "line": {
              "color": "#E5ECF6",
              "width": 0.5
             },
             "pattern": {
              "fillmode": "overlay",
              "size": 10,
              "solidity": 0.2
             }
            },
            "type": "barpolar"
           }
          ],
          "carpet": [
           {
            "aaxis": {
             "endlinecolor": "#2a3f5f",
             "gridcolor": "white",
             "linecolor": "white",
             "minorgridcolor": "white",
             "startlinecolor": "#2a3f5f"
            },
            "baxis": {
             "endlinecolor": "#2a3f5f",
             "gridcolor": "white",
             "linecolor": "white",
             "minorgridcolor": "white",
             "startlinecolor": "#2a3f5f"
            },
            "type": "carpet"
           }
          ],
          "choropleth": [
           {
            "colorbar": {
             "outlinewidth": 0,
             "ticks": ""
            },
            "type": "choropleth"
           }
          ],
          "contour": [
           {
            "colorbar": {
             "outlinewidth": 0,
             "ticks": ""
            },
            "colorscale": [
             [
              0,
              "#0d0887"
             ],
             [
              0.1111111111111111,
              "#46039f"
             ],
             [
              0.2222222222222222,
              "#7201a8"
             ],
             [
              0.3333333333333333,
              "#9c179e"
             ],
             [
              0.4444444444444444,
              "#bd3786"
             ],
             [
              0.5555555555555556,
              "#d8576b"
             ],
             [
              0.6666666666666666,
              "#ed7953"
             ],
             [
              0.7777777777777778,
              "#fb9f3a"
             ],
             [
              0.8888888888888888,
              "#fdca26"
             ],
             [
              1,
              "#f0f921"
             ]
            ],
            "type": "contour"
           }
          ],
          "contourcarpet": [
           {
            "colorbar": {
             "outlinewidth": 0,
             "ticks": ""
            },
            "type": "contourcarpet"
           }
          ],
          "heatmap": [
           {
            "colorbar": {
             "outlinewidth": 0,
             "ticks": ""
            },
            "colorscale": [
             [
              0,
              "#0d0887"
             ],
             [
              0.1111111111111111,
              "#46039f"
             ],
             [
              0.2222222222222222,
              "#7201a8"
             ],
             [
              0.3333333333333333,
              "#9c179e"
             ],
             [
              0.4444444444444444,
              "#bd3786"
             ],
             [
              0.5555555555555556,
              "#d8576b"
             ],
             [
              0.6666666666666666,
              "#ed7953"
             ],
             [
              0.7777777777777778,
              "#fb9f3a"
             ],
             [
              0.8888888888888888,
              "#fdca26"
             ],
             [
              1,
              "#f0f921"
             ]
            ],
            "type": "heatmap"
           }
          ],
          "heatmapgl": [
           {
            "colorbar": {
             "outlinewidth": 0,
             "ticks": ""
            },
            "colorscale": [
             [
              0,
              "#0d0887"
             ],
             [
              0.1111111111111111,
              "#46039f"
             ],
             [
              0.2222222222222222,
              "#7201a8"
             ],
             [
              0.3333333333333333,
              "#9c179e"
             ],
             [
              0.4444444444444444,
              "#bd3786"
             ],
             [
              0.5555555555555556,
              "#d8576b"
             ],
             [
              0.6666666666666666,
              "#ed7953"
             ],
             [
              0.7777777777777778,
              "#fb9f3a"
             ],
             [
              0.8888888888888888,
              "#fdca26"
             ],
             [
              1,
              "#f0f921"
             ]
            ],
            "type": "heatmapgl"
           }
          ],
          "histogram": [
           {
            "marker": {
             "pattern": {
              "fillmode": "overlay",
              "size": 10,
              "solidity": 0.2
             }
            },
            "type": "histogram"
           }
          ],
          "histogram2d": [
           {
            "colorbar": {
             "outlinewidth": 0,
             "ticks": ""
            },
            "colorscale": [
             [
              0,
              "#0d0887"
             ],
             [
              0.1111111111111111,
              "#46039f"
             ],
             [
              0.2222222222222222,
              "#7201a8"
             ],
             [
              0.3333333333333333,
              "#9c179e"
             ],
             [
              0.4444444444444444,
              "#bd3786"
             ],
             [
              0.5555555555555556,
              "#d8576b"
             ],
             [
              0.6666666666666666,
              "#ed7953"
             ],
             [
              0.7777777777777778,
              "#fb9f3a"
             ],
             [
              0.8888888888888888,
              "#fdca26"
             ],
             [
              1,
              "#f0f921"
             ]
            ],
            "type": "histogram2d"
           }
          ],
          "histogram2dcontour": [
           {
            "colorbar": {
             "outlinewidth": 0,
             "ticks": ""
            },
            "colorscale": [
             [
              0,
              "#0d0887"
             ],
             [
              0.1111111111111111,
              "#46039f"
             ],
             [
              0.2222222222222222,
              "#7201a8"
             ],
             [
              0.3333333333333333,
              "#9c179e"
             ],
             [
              0.4444444444444444,
              "#bd3786"
             ],
             [
              0.5555555555555556,
              "#d8576b"
             ],
             [
              0.6666666666666666,
              "#ed7953"
             ],
             [
              0.7777777777777778,
              "#fb9f3a"
             ],
             [
              0.8888888888888888,
              "#fdca26"
             ],
             [
              1,
              "#f0f921"
             ]
            ],
            "type": "histogram2dcontour"
           }
          ],
          "mesh3d": [
           {
            "colorbar": {
             "outlinewidth": 0,
             "ticks": ""
            },
            "type": "mesh3d"
           }
          ],
          "parcoords": [
           {
            "line": {
             "colorbar": {
              "outlinewidth": 0,
              "ticks": ""
             }
            },
            "type": "parcoords"
           }
          ],
          "pie": [
           {
            "automargin": true,
            "type": "pie"
           }
          ],
          "scatter": [
           {
            "marker": {
             "colorbar": {
              "outlinewidth": 0,
              "ticks": ""
             }
            },
            "type": "scatter"
           }
          ],
          "scatter3d": [
           {
            "line": {
             "colorbar": {
              "outlinewidth": 0,
              "ticks": ""
             }
            },
            "marker": {
             "colorbar": {
              "outlinewidth": 0,
              "ticks": ""
             }
            },
            "type": "scatter3d"
           }
          ],
          "scattercarpet": [
           {
            "marker": {
             "colorbar": {
              "outlinewidth": 0,
              "ticks": ""
             }
            },
            "type": "scattercarpet"
           }
          ],
          "scattergeo": [
           {
            "marker": {
             "colorbar": {
              "outlinewidth": 0,
              "ticks": ""
             }
            },
            "type": "scattergeo"
           }
          ],
          "scattergl": [
           {
            "marker": {
             "colorbar": {
              "outlinewidth": 0,
              "ticks": ""
             }
            },
            "type": "scattergl"
           }
          ],
          "scattermapbox": [
           {
            "marker": {
             "colorbar": {
              "outlinewidth": 0,
              "ticks": ""
             }
            },
            "type": "scattermapbox"
           }
          ],
          "scatterpolar": [
           {
            "marker": {
             "colorbar": {
              "outlinewidth": 0,
              "ticks": ""
             }
            },
            "type": "scatterpolar"
           }
          ],
          "scatterpolargl": [
           {
            "marker": {
             "colorbar": {
              "outlinewidth": 0,
              "ticks": ""
             }
            },
            "type": "scatterpolargl"
           }
          ],
          "scatterternary": [
           {
            "marker": {
             "colorbar": {
              "outlinewidth": 0,
              "ticks": ""
             }
            },
            "type": "scatterternary"
           }
          ],
          "surface": [
           {
            "colorbar": {
             "outlinewidth": 0,
             "ticks": ""
            },
            "colorscale": [
             [
              0,
              "#0d0887"
             ],
             [
              0.1111111111111111,
              "#46039f"
             ],
             [
              0.2222222222222222,
              "#7201a8"
             ],
             [
              0.3333333333333333,
              "#9c179e"
             ],
             [
              0.4444444444444444,
              "#bd3786"
             ],
             [
              0.5555555555555556,
              "#d8576b"
             ],
             [
              0.6666666666666666,
              "#ed7953"
             ],
             [
              0.7777777777777778,
              "#fb9f3a"
             ],
             [
              0.8888888888888888,
              "#fdca26"
             ],
             [
              1,
              "#f0f921"
             ]
            ],
            "type": "surface"
           }
          ],
          "table": [
           {
            "cells": {
             "fill": {
              "color": "#EBF0F8"
             },
             "line": {
              "color": "white"
             }
            },
            "header": {
             "fill": {
              "color": "#C8D4E3"
             },
             "line": {
              "color": "white"
             }
            },
            "type": "table"
           }
          ]
         },
         "layout": {
          "annotationdefaults": {
           "arrowcolor": "#2a3f5f",
           "arrowhead": 0,
           "arrowwidth": 1
          },
          "autotypenumbers": "strict",
          "coloraxis": {
           "colorbar": {
            "outlinewidth": 0,
            "ticks": ""
           }
          },
          "colorscale": {
           "diverging": [
            [
             0,
             "#8e0152"
            ],
            [
             0.1,
             "#c51b7d"
            ],
            [
             0.2,
             "#de77ae"
            ],
            [
             0.3,
             "#f1b6da"
            ],
            [
             0.4,
             "#fde0ef"
            ],
            [
             0.5,
             "#f7f7f7"
            ],
            [
             0.6,
             "#e6f5d0"
            ],
            [
             0.7,
             "#b8e186"
            ],
            [
             0.8,
             "#7fbc41"
            ],
            [
             0.9,
             "#4d9221"
            ],
            [
             1,
             "#276419"
            ]
           ],
           "sequential": [
            [
             0,
             "#0d0887"
            ],
            [
             0.1111111111111111,
             "#46039f"
            ],
            [
             0.2222222222222222,
             "#7201a8"
            ],
            [
             0.3333333333333333,
             "#9c179e"
            ],
            [
             0.4444444444444444,
             "#bd3786"
            ],
            [
             0.5555555555555556,
             "#d8576b"
            ],
            [
             0.6666666666666666,
             "#ed7953"
            ],
            [
             0.7777777777777778,
             "#fb9f3a"
            ],
            [
             0.8888888888888888,
             "#fdca26"
            ],
            [
             1,
             "#f0f921"
            ]
           ],
           "sequentialminus": [
            [
             0,
             "#0d0887"
            ],
            [
             0.1111111111111111,
             "#46039f"
            ],
            [
             0.2222222222222222,
             "#7201a8"
            ],
            [
             0.3333333333333333,
             "#9c179e"
            ],
            [
             0.4444444444444444,
             "#bd3786"
            ],
            [
             0.5555555555555556,
             "#d8576b"
            ],
            [
             0.6666666666666666,
             "#ed7953"
            ],
            [
             0.7777777777777778,
             "#fb9f3a"
            ],
            [
             0.8888888888888888,
             "#fdca26"
            ],
            [
             1,
             "#f0f921"
            ]
           ]
          },
          "colorway": [
           "#636efa",
           "#EF553B",
           "#00cc96",
           "#ab63fa",
           "#FFA15A",
           "#19d3f3",
           "#FF6692",
           "#B6E880",
           "#FF97FF",
           "#FECB52"
          ],
          "font": {
           "color": "#2a3f5f"
          },
          "geo": {
           "bgcolor": "white",
           "lakecolor": "white",
           "landcolor": "#E5ECF6",
           "showlakes": true,
           "showland": true,
           "subunitcolor": "white"
          },
          "hoverlabel": {
           "align": "left"
          },
          "hovermode": "closest",
          "mapbox": {
           "style": "light"
          },
          "paper_bgcolor": "white",
          "plot_bgcolor": "#E5ECF6",
          "polar": {
           "angularaxis": {
            "gridcolor": "white",
            "linecolor": "white",
            "ticks": ""
           },
           "bgcolor": "#E5ECF6",
           "radialaxis": {
            "gridcolor": "white",
            "linecolor": "white",
            "ticks": ""
           }
          },
          "scene": {
           "xaxis": {
            "backgroundcolor": "#E5ECF6",
            "gridcolor": "white",
            "gridwidth": 2,
            "linecolor": "white",
            "showbackground": true,
            "ticks": "",
            "zerolinecolor": "white"
           },
           "yaxis": {
            "backgroundcolor": "#E5ECF6",
            "gridcolor": "white",
            "gridwidth": 2,
            "linecolor": "white",
            "showbackground": true,
            "ticks": "",
            "zerolinecolor": "white"
           },
           "zaxis": {
            "backgroundcolor": "#E5ECF6",
            "gridcolor": "white",
            "gridwidth": 2,
            "linecolor": "white",
            "showbackground": true,
            "ticks": "",
            "zerolinecolor": "white"
           }
          },
          "shapedefaults": {
           "line": {
            "color": "#2a3f5f"
           }
          },
          "ternary": {
           "aaxis": {
            "gridcolor": "white",
            "linecolor": "white",
            "ticks": ""
           },
           "baxis": {
            "gridcolor": "white",
            "linecolor": "white",
            "ticks": ""
           },
           "bgcolor": "#E5ECF6",
           "caxis": {
            "gridcolor": "white",
            "linecolor": "white",
            "ticks": ""
           }
          },
          "title": {
           "x": 0.05
          },
          "xaxis": {
           "automargin": true,
           "gridcolor": "white",
           "linecolor": "white",
           "ticks": "",
           "title": {
            "standoff": 15
           },
           "zerolinecolor": "white",
           "zerolinewidth": 2
          },
          "yaxis": {
           "automargin": true,
           "gridcolor": "white",
           "linecolor": "white",
           "ticks": "",
           "title": {
            "standoff": 15
           },
           "zerolinecolor": "white",
           "zerolinewidth": 2
          }
         }
        },
        "title": {
         "text": "Brand Dist. in High Traffic Cluster"
        }
       }
      },
      "image/png": "[encoded data removed]",
      "text/html": [
       "<div>                            <div id=\"cb3b86f7-6180-4bfb-8a19-d2d83b766de9\" class=\"plotly-graph-div\" style=\"height:525px; width:100%;\"></div>            <script type=\"text/javascript\">                require([\"plotly\"], function(Plotly) {                    window.PLOTLYENV=window.PLOTLYENV || {};                                    if (document.getElementById(\"cb3b86f7-6180-4bfb-8a19-d2d83b766de9\")) {                    Plotly.newPlot(                        \"cb3b86f7-6180-4bfb-8a19-d2d83b766de9\",                        [{\"domain\":{\"x\":[0.0,1.0],\"y\":[0.0,1.0]},\"hovertemplate\":\"brand=%{label}<br>value=%{value}<extra></extra>\",\"labels\":[\"BURN\",\"CAPPY\",\"CC_LIGHT\",\"CC_NO_SUGER\",\"COCACOLA\",\"COCACOLA_ENERGY\",\"DAMLA_MINERA\",\"DAMLA_WATER\",\"EXOTIC\",\"FANTA\",\"FUSETEA\",\"MONSTER\",\"POWERADE\",\"SCHWEPPES\"],\"legendgroup\":\"\",\"name\":\"\",\"showlegend\":true,\"type\":\"pie\",\"values\":[43706.287000000004,960757.5279999999,52387.532999999996,481466.955,6150639.695,924.5280000000001,67672.968,746702.289,192.644,1727434.411,312542.94299999997,50414.94500000001,27105.708000000002,217011.207]}],                        {\"legend\":{\"tracegroupgap\":0},\"template\":{\"data\":{\"bar\":[{\"error_x\":{\"color\":\"#2a3f5f\"},\"error_y\":{\"color\":\"#2a3f5f\"},\"marker\":{\"line\":{\"color\":\"#E5ECF6\",\"width\":0.5},\"pattern\":{\"fillmode\":\"overlay\",\"size\":10,\"solidity\":0.2}},\"type\":\"bar\"}],\"barpolar\":[{\"marker\":{\"line\":{\"color\":\"#E5ECF6\",\"width\":0.5},\"pattern\":{\"fillmode\":\"overlay\",\"size\":10,\"solidity\":0.2}},\"type\":\"barpolar\"}],\"carpet\":[{\"aaxis\":{\"endlinecolor\":\"#2a3f5f\",\"gridcolor\":\"white\",\"linecolor\":\"white\",\"minorgridcolor\":\"white\",\"startlinecolor\":\"#2a3f5f\"},\"baxis\":{\"endlinecolor\":\"#2a3f5f\",\"gridcolor\":\"white\",\"linecolor\":\"white\",\"minorgridcolor\":\"white\",\"startlinecolor\":\"#2a3f5f\"},\"type\":\"carpet\"}],\"choropleth\":[{\"colorbar\":{\"outlinewidth\":0,\"ticks\":\"\"},\"type\":\"choropleth\"}],\"contour\":[{\"colorbar\":{\"outlinewidth\":0,\"ticks\":\"\"},\"colorscale\":[[0.0,\"#0d0887\"],[0.1111111111111111,\"#46039f\"],[0.2222222222222222,\"#7201a8\"],[0.3333333333333333,\"#9c179e\"],[0.4444444444444444,\"#bd3786\"],[0.5555555555555556,\"#d8576b\"],[0.6666666666666666,\"#ed7953\"],[0.7777777777777778,\"#fb9f3a\"],[0.8888888888888888,\"#fdca26\"],[1.0,\"#f0f921\"]],\"type\":\"contour\"}],\"contourcarpet\":[{\"colorbar\":{\"outlinewidth\":0,\"ticks\":\"\"},\"type\":\"contourcarpet\"}],\"heatmap\":[{\"colorbar\":{\"outlinewidth\":0,\"ticks\":\"\"},\"colorscale\":[[0.0,\"#0d0887\"],[0.1111111111111111,\"#46039f\"],[0.2222222222222222,\"#7201a8\"],[0.3333333333333333,\"#9c179e\"],[0.4444444444444444,\"#bd3786\"],[0.5555555555555556,\"#d8576b\"],[0.6666666666666666,\"#ed7953\"],[0.7777777777777778,\"#fb9f3a\"],[0.8888888888888888,\"#fdca26\"],[1.0,\"#f0f921\"]],\"type\":\"heatmap\"}],\"heatmapgl\":[{\"colorbar\":{\"outlinewidth\":0,\"ticks\":\"\"},\"colorscale\":[[0.0,\"#0d0887\"],[0.1111111111111111,\"#46039f\"],[0.2222222222222222,\"#7201a8\"],[0.3333333333333333,\"#9c179e\"],[0.4444444444444444,\"#bd3786\"],[0.5555555555555556,\"#d8576b\"],[0.6666666666666666,\"#ed7953\"],[0.7777777777777778,\"#fb9f3a\"],[0.8888888888888888,\"#fdca26\"],[1.0,\"#f0f921\"]],\"type\":\"heatmapgl\"}],\"histogram\":[{\"marker\":{\"pattern\":{\"fillmode\":\"overlay\",\"size\":10,\"solidity\":0.2}},\"type\":\"histogram\"}],\"histogram2d\":[{\"colorbar\":{\"outlinewidth\":0,\"ticks\":\"\"},\"colorscale\":[[0.0,\"#0d0887\"],[0.1111111111111111,\"#46039f\"],[0.2222222222222222,\"#7201a8\"],[0.3333333333333333,\"#9c179e\"],[0.4444444444444444,\"#bd3786\"],[0.5555555555555556,\"#d8576b\"],[0.6666666666666666,\"#ed7953\"],[0.7777777777777778,\"#fb9f3a\"],[0.8888888888888888,\"#fdca26\"],[1.0,\"#f0f921\"]],\"type\":\"histogram2d\"}],\"histogram2dcontour\":[{\"colorbar\":{\"outlinewidth\":0,\"ticks\":\"\"},\"colorscale\":[[0.0,\"#0d0887\"],[0.1111111111111111,\"#46039f\"],[0.2222222222222222,\"#7201a8\"],[0.3333333333333333,\"#9c179e\"],[0.4444444444444444,\"#bd3786\"],[0.5555555555555556,\"#d8576b\"],[0.6666666666666666,\"#ed7953\"],[0.7777777777777778,\"#fb9f3a\"],[0.8888888888888888,\"#fdca26\"],[1.0,\"#f0f921\"]],\"type\":\"histogram2dcontour\"}],\"mesh3d\":[{\"colorbar\":{\"outlinewidth\":0,\"ticks\":\"\"},\"type\":\"mesh3d\"}],\"parcoords\":[{\"line\":{\"colorbar\":{\"outlinewidth\":0,\"ticks\":\"\"}},\"type\":\"parcoords\"}],\"pie\":[{\"automargin\":true,\"type\":\"pie\"}],\"scatter\":[{\"marker\":{\"colorbar\":{\"outlinewidth\":0,\"ticks\":\"\"}},\"type\":\"scatter\"}],\"scatter3d\":[{\"line\":{\"colorbar\":{\"outlinewidth\":0,\"ticks\":\"\"}},\"marker\":{\"colorbar\":{\"outlinewidth\":0,\"ticks\":\"\"}},\"type\":\"scatter3d\"}],\"scattercarpet\":[{\"marker\":{\"colorbar\":{\"outlinewidth\":0,\"ticks\":\"\"}},\"type\":\"scattercarpet\"}],\"scattergeo\":[{\"marker\":{\"colorbar\":{\"outlinewidth\":0,\"ticks\":\"\"}},\"type\":\"scattergeo\"}],\"scattergl\":[{\"marker\":{\"colorbar\":{\"outlinewidth\":0,\"ticks\":\"\"}},\"type\":\"scattergl\"}],\"scattermapbox\":[{\"marker\":{\"colorbar\":{\"outlinewidth\":0,\"ticks\":\"\"}},\"type\":\"scattermapbox\"}],\"scatterpolar\":[{\"marker\":{\"colorbar\":{\"outlinewidth\":0,\"ticks\":\"\"}},\"type\":\"scatterpolar\"}],\"scatterpolargl\":[{\"marker\":{\"colorbar\":{\"outlinewidth\":0,\"ticks\":\"\"}},\"type\":\"scatterpolargl\"}],\"scatterternary\":[{\"marker\":{\"colorbar\":{\"outlinewidth\":0,\"ticks\":\"\"}},\"type\":\"scatterternary\"}],\"surface\":[{\"colorbar\":{\"outlinewidth\":0,\"ticks\":\"\"},\"colorscale\":[[0.0,\"#0d0887\"],[0.1111111111111111,\"#46039f\"],[0.2222222222222222,\"#7201a8\"],[0.3333333333333333,\"#9c179e\"],[0.4444444444444444,\"#bd3786\"],[0.5555555555555556,\"#d8576b\"],[0.6666666666666666,\"#ed7953\"],[0.7777777777777778,\"#fb9f3a\"],[0.8888888888888888,\"#fdca26\"],[1.0,\"#f0f921\"]],\"type\":\"surface\"}],\"table\":[{\"cells\":{\"fill\":{\"color\":\"#EBF0F8\"},\"line\":{\"color\":\"white\"}},\"header\":{\"fill\":{\"color\":\"#C8D4E3\"},\"line\":{\"color\":\"white\"}},\"type\":\"table\"}]},\"layout\":{\"annotationdefaults\":{\"arrowcolor\":\"#2a3f5f\",\"arrowhead\":0,\"arrowwidth\":1},\"autotypenumbers\":\"strict\",\"coloraxis\":{\"colorbar\":{\"outlinewidth\":0,\"ticks\":\"\"}},\"colorscale\":{\"diverging\":[[0,\"#8e0152\"],[0.1,\"#c51b7d\"],[0.2,\"#de77ae\"],[0.3,\"#f1b6da\"],[0.4,\"#fde0ef\"],[0.5,\"#f7f7f7\"],[0.6,\"#e6f5d0\"],[0.7,\"#b8e186\"],[0.8,\"#7fbc41\"],[0.9,\"#4d9221\"],[1,\"#276419\"]],\"sequential\":[[0.0,\"#0d0887\"],[0.1111111111111111,\"#46039f\"],[0.2222222222222222,\"#7201a8\"],[0.3333333333333333,\"#9c179e\"],[0.4444444444444444,\"#bd3786\"],[0.5555555555555556,\"#d8576b\"],[0.6666666666666666,\"#ed7953\"],[0.7777777777777778,\"#fb9f3a\"],[0.8888888888888888,\"#fdca26\"],[1.0,\"#f0f921\"]],\"sequentialminus\":[[0.0,\"#0d0887\"],[0.1111111111111111,\"#46039f\"],[0.2222222222222222,\"#7201a8\"],[0.3333333333333333,\"#9c179e\"],[0.4444444444444444,\"#bd3786\"],[0.5555555555555556,\"#d8576b\"],[0.6666666666666666,\"#ed7953\"],[0.7777777777777778,\"#fb9f3a\"],[0.8888888888888888,\"#fdca26\"],[1.0,\"#f0f921\"]]},\"colorway\":[\"#636efa\",\"#EF553B\",\"#00cc96\",\"#ab63fa\",\"#FFA15A\",\"#19d3f3\",\"#FF6692\",\"#B6E880\",\"#FF97FF\",\"#FECB52\"],\"font\":{\"color\":\"#2a3f5f\"},\"geo\":{\"bgcolor\":\"white\",\"lakecolor\":\"white\",\"landcolor\":\"#E5ECF6\",\"showlakes\":true,\"showland\":true,\"subunitcolor\":\"white\"},\"hoverlabel\":{\"align\":\"left\"},\"hovermode\":\"closest\",\"mapbox\":{\"style\":\"light\"},\"paper_bgcolor\":\"white\",\"plot_bgcolor\":\"#E5ECF6\",\"polar\":{\"angularaxis\":{\"gridcolor\":\"white\",\"linecolor\":\"white\",\"ticks\":\"\"},\"bgcolor\":\"#E5ECF6\",\"radialaxis\":{\"gridcolor\":\"white\",\"linecolor\":\"white\",\"ticks\":\"\"}},\"scene\":{\"xaxis\":{\"backgroundcolor\":\"#E5ECF6\",\"gridcolor\":\"white\",\"gridwidth\":2,\"linecolor\":\"white\",\"showbackground\":true,\"ticks\":\"\",\"zerolinecolor\":\"white\"},\"yaxis\":{\"backgroundcolor\":\"#E5ECF6\",\"gridcolor\":\"white\",\"gridwidth\":2,\"linecolor\":\"white\",\"showbackground\":true,\"ticks\":\"\",\"zerolinecolor\":\"white\"},\"zaxis\":{\"backgroundcolor\":\"#E5ECF6\",\"gridcolor\":\"white\",\"gridwidth\":2,\"linecolor\":\"white\",\"showbackground\":true,\"ticks\":\"\",\"zerolinecolor\":\"white\"}},\"shapedefaults\":{\"line\":{\"color\":\"#2a3f5f\"}},\"ternary\":{\"aaxis\":{\"gridcolor\":\"white\",\"linecolor\":\"white\",\"ticks\":\"\"},\"baxis\":{\"gridcolor\":\"white\",\"linecolor\":\"white\",\"ticks\":\"\"},\"bgcolor\":\"#E5ECF6\",\"caxis\":{\"gridcolor\":\"white\",\"linecolor\":\"white\",\"ticks\":\"\"}},\"title\":{\"x\":0.05},\"xaxis\":{\"automargin\":true,\"gridcolor\":\"white\",\"linecolor\":\"white\",\"ticks\":\"\",\"title\":{\"standoff\":15},\"zerolinecolor\":\"white\",\"zerolinewidth\":2},\"yaxis\":{\"automargin\":true,\"gridcolor\":\"white\",\"linecolor\":\"white\",\"ticks\":\"\",\"title\":{\"standoff\":15},\"zerolinecolor\":\"white\",\"zerolinewidth\":2}}},\"title\":{\"text\":\"Brand Dist. in High Traffic Cluster\"}},                        {\"responsive\": true}                    ).then(function(){\n",
       "                            \n",
       "var gd = document.getElementById('cb3b86f7-6180-4bfb-8a19-d2d83b766de9');\n",
       "var x = new MutationObserver(function (mutations, observer) {{\n",
       "        var display = window.getComputedStyle(gd).display;\n",
       "        if (!display || display === 'none') {{\n",
       "            console.log([gd, 'removed!']);\n",
       "            Plotly.purge(gd);\n",
       "            observer.disconnect();\n",
       "        }}\n",
       "}});\n",
       "\n",
       "// Listen for the removal of the full notebook cells\n",
       "var notebookContainer = gd.closest('#notebook-container');\n",
       "if (notebookContainer) {{\n",
       "    x.observe(notebookContainer, {childList: true});\n",
       "}}\n",
       "\n",
       "// Listen for the clearing of the current output cell\n",
       "var outputEl = gd.closest('.output');\n",
       "if (outputEl) {{\n",
       "    x.observe(outputEl, {childList: true});\n",
       "}}\n",
       "\n",
       "                        })                };                });            </script>        </div>"
      ]
     },
     "metadata": {},
     "output_type": "display_data"
    }
   ],
   "source": [
    "fig = px.pie(high_brands_sum, values='values', names=\"brand\", title='Brand Dist. in High Traffic Cluster')\n",
    "fig.show()"
   ]
  },
  {
   "cell_type": "code",
   "execution_count": 344,
   "metadata": {},
   "outputs": [
    {
     "data": {
      "text/plain": [
       "SES\n",
       "E       123736835\n",
       "D      3589116553\n",
       "B      9509668741\n",
       "A     11944004440\n",
       "C2    19667146941\n",
       "C1    33733628947\n",
       "Name: outlet_number, dtype: int64"
      ]
     },
     "execution_count": 344,
     "metadata": {},
     "output_type": "execute_result"
    }
   ],
   "source": [
    "final_high.groupby('SES')['outlet_number'].sum().sort_values()"
   ]
  },
  {
   "cell_type": "code",
   "execution_count": 322,
   "metadata": {},
   "outputs": [],
   "source": [
    "non_high_brands = final_low[column_names].reset_index(drop=True)"
   ]
  },
  {
   "cell_type": "code",
   "execution_count": 323,
   "metadata": {},
   "outputs": [],
   "source": [
    "non_brands_sum = pd.DataFrame(non_high_brands.sum()).reset_index()"
   ]
  },
  {
   "cell_type": "code",
   "execution_count": 324,
   "metadata": {},
   "outputs": [],
   "source": [
    "non_brands_sum.rename({\"index\": \"brand\", 0: \"values\",} ,axis=1,inplace=True)"
   ]
  },
  {
   "cell_type": "code",
   "execution_count": 329,
   "metadata": {},
   "outputs": [
    {
     "data": {
      "text/html": [
       "<div>\n",
       "<style scoped>\n",
       "    .dataframe tbody tr th:only-of-type {\n",
       "        vertical-align: middle;\n",
       "    }\n",
       "\n",
       "    .dataframe tbody tr th {\n",
       "        vertical-align: top;\n",
       "    }\n",
       "\n",
       "    .dataframe thead th {\n",
       "        text-align: right;\n",
       "    }\n",
       "</style>\n",
       "<table border=\"1\" class=\"dataframe\">\n",
       "  <thead>\n",
       "    <tr style=\"text-align: right;\">\n",
       "      <th></th>\n",
       "      <th>brand</th>\n",
       "      <th>values</th>\n",
       "    </tr>\n",
       "  </thead>\n",
       "  <tbody>\n",
       "    <tr>\n",
       "      <th>2</th>\n",
       "      <td>CC_LIGHT</td>\n",
       "      <td>44099.696</td>\n",
       "    </tr>\n",
       "  </tbody>\n",
       "</table>\n",
       "</div>"
      ],
      "text/plain": [
       "      brand     values\n",
       "2  CC_LIGHT  44099.696"
      ]
     },
     "execution_count": 329,
     "metadata": {},
     "output_type": "execute_result"
    }
   ],
   "source": [
    "non_brands_sum.query(\"brand == 'CC_LIGHT'\")"
   ]
  },
  {
   "cell_type": "code",
   "execution_count": 326,
   "metadata": {},
   "outputs": [
    {
     "data": {
      "application/vnd.plotly.v1+json": {
       "config": {
        "plotlyServerURL": "https://plot.ly"
       },
       "data": [
        {
         "domain": {
          "x": [
           0,
           1
          ],
          "y": [
           0,
           1
          ]
         },
         "hovertemplate": "brand=%{label}<br>value=%{value}<extra></extra>",
         "labels": [
          "BURN",
          "CAPPY",
          "CC_LIGHT",
          "CC_NO_SUGER",
          "COCACOLA",
          "COCACOLA_ENERGY",
          "DAMLA_MINERA",
          "DAMLA_WATER",
          "EXOTIC",
          "FANTA",
          "FUSETEA",
          "MONSTER",
          "POWERADE",
          "SCHWEPPES"
         ],
         "legendgroup": "",
         "name": "",
         "showlegend": true,
         "type": "pie",
         "values": [
          66367.27900000001,
          1566654.456,
          44099.695999999996,
          634534.702,
          12357636.286,
          1421.904,
          128943.108,
          1133494.904,
          113.86999999999999,
          3911002.2080000006,
          568177.1059999999,
          86102.85500000001,
          31262.889,
          279092.395
         ]
        }
       ],
       "layout": {
        "autosize": true,
        "legend": {
         "tracegroupgap": 0
        },
        "template": {
         "data": {
          "bar": [
           {
            "error_x": {
             "color": "#2a3f5f"
            },
            "error_y": {
             "color": "#2a3f5f"
            },
            "marker": {
             "line": {
              "color": "#E5ECF6",
              "width": 0.5
             },
             "pattern": {
              "fillmode": "overlay",
              "size": 10,
              "solidity": 0.2
             }
            },
            "type": "bar"
           }
          ],
          "barpolar": [
           {
            "marker": {
             "line": {
              "color": "#E5ECF6",
              "width": 0.5
             },
             "pattern": {
              "fillmode": "overlay",
              "size": 10,
              "solidity": 0.2
             }
            },
            "type": "barpolar"
           }
          ],
          "carpet": [
           {
            "aaxis": {
             "endlinecolor": "#2a3f5f",
             "gridcolor": "white",
             "linecolor": "white",
             "minorgridcolor": "white",
             "startlinecolor": "#2a3f5f"
            },
            "baxis": {
             "endlinecolor": "#2a3f5f",
             "gridcolor": "white",
             "linecolor": "white",
             "minorgridcolor": "white",
             "startlinecolor": "#2a3f5f"
            },
            "type": "carpet"
           }
          ],
          "choropleth": [
           {
            "colorbar": {
             "outlinewidth": 0,
             "ticks": ""
            },
            "type": "choropleth"
           }
          ],
          "contour": [
           {
            "colorbar": {
             "outlinewidth": 0,
             "ticks": ""
            },
            "colorscale": [
             [
              0,
              "#0d0887"
             ],
             [
              0.1111111111111111,
              "#46039f"
             ],
             [
              0.2222222222222222,
              "#7201a8"
             ],
             [
              0.3333333333333333,
              "#9c179e"
             ],
             [
              0.4444444444444444,
              "#bd3786"
             ],
             [
              0.5555555555555556,
              "#d8576b"
             ],
             [
              0.6666666666666666,
              "#ed7953"
             ],
             [
              0.7777777777777778,
              "#fb9f3a"
             ],
             [
              0.8888888888888888,
              "#fdca26"
             ],
             [
              1,
              "#f0f921"
             ]
            ],
            "type": "contour"
           }
          ],
          "contourcarpet": [
           {
            "colorbar": {
             "outlinewidth": 0,
             "ticks": ""
            },
            "type": "contourcarpet"
           }
          ],
          "heatmap": [
           {
            "colorbar": {
             "outlinewidth": 0,
             "ticks": ""
            },
            "colorscale": [
             [
              0,
              "#0d0887"
             ],
             [
              0.1111111111111111,
              "#46039f"
             ],
             [
              0.2222222222222222,
              "#7201a8"
             ],
             [
              0.3333333333333333,
              "#9c179e"
             ],
             [
              0.4444444444444444,
              "#bd3786"
             ],
             [
              0.5555555555555556,
              "#d8576b"
             ],
             [
              0.6666666666666666,
              "#ed7953"
             ],
             [
              0.7777777777777778,
              "#fb9f3a"
             ],
             [
              0.8888888888888888,
              "#fdca26"
             ],
             [
              1,
              "#f0f921"
             ]
            ],
            "type": "heatmap"
           }
          ],
          "heatmapgl": [
           {
            "colorbar": {
             "outlinewidth": 0,
             "ticks": ""
            },
            "colorscale": [
             [
              0,
              "#0d0887"
             ],
             [
              0.1111111111111111,
              "#46039f"
             ],
             [
              0.2222222222222222,
              "#7201a8"
             ],
             [
              0.3333333333333333,
              "#9c179e"
             ],
             [
              0.4444444444444444,
              "#bd3786"
             ],
             [
              0.5555555555555556,
              "#d8576b"
             ],
             [
              0.6666666666666666,
              "#ed7953"
             ],
             [
              0.7777777777777778,
              "#fb9f3a"
             ],
             [
              0.8888888888888888,
              "#fdca26"
             ],
             [
              1,
              "#f0f921"
             ]
            ],
            "type": "heatmapgl"
           }
          ],
          "histogram": [
           {
            "marker": {
             "pattern": {
              "fillmode": "overlay",
              "size": 10,
              "solidity": 0.2
             }
            },
            "type": "histogram"
           }
          ],
          "histogram2d": [
           {
            "colorbar": {
             "outlinewidth": 0,
             "ticks": ""
            },
            "colorscale": [
             [
              0,
              "#0d0887"
             ],
             [
              0.1111111111111111,
              "#46039f"
             ],
             [
              0.2222222222222222,
              "#7201a8"
             ],
             [
              0.3333333333333333,
              "#9c179e"
             ],
             [
              0.4444444444444444,
              "#bd3786"
             ],
             [
              0.5555555555555556,
              "#d8576b"
             ],
             [
              0.6666666666666666,
              "#ed7953"
             ],
             [
              0.7777777777777778,
              "#fb9f3a"
             ],
             [
              0.8888888888888888,
              "#fdca26"
             ],
             [
              1,
              "#f0f921"
             ]
            ],
            "type": "histogram2d"
           }
          ],
          "histogram2dcontour": [
           {
            "colorbar": {
             "outlinewidth": 0,
             "ticks": ""
            },
            "colorscale": [
             [
              0,
              "#0d0887"
             ],
             [
              0.1111111111111111,
              "#46039f"
             ],
             [
              0.2222222222222222,
              "#7201a8"
             ],
             [
              0.3333333333333333,
              "#9c179e"
             ],
             [
              0.4444444444444444,
              "#bd3786"
             ],
             [
              0.5555555555555556,
              "#d8576b"
             ],
             [
              0.6666666666666666,
              "#ed7953"
             ],
             [
              0.7777777777777778,
              "#fb9f3a"
             ],
             [
              0.8888888888888888,
              "#fdca26"
             ],
             [
              1,
              "#f0f921"
             ]
            ],
            "type": "histogram2dcontour"
           }
          ],
          "mesh3d": [
           {
            "colorbar": {
             "outlinewidth": 0,
             "ticks": ""
            },
            "type": "mesh3d"
           }
          ],
          "parcoords": [
           {
            "line": {
             "colorbar": {
              "outlinewidth": 0,
              "ticks": ""
             }
            },
            "type": "parcoords"
           }
          ],
          "pie": [
           {
            "automargin": true,
            "type": "pie"
           }
          ],
          "scatter": [
           {
            "marker": {
             "colorbar": {
              "outlinewidth": 0,
              "ticks": ""
             }
            },
            "type": "scatter"
           }
          ],
          "scatter3d": [
           {
            "line": {
             "colorbar": {
              "outlinewidth": 0,
              "ticks": ""
             }
            },
            "marker": {
             "colorbar": {
              "outlinewidth": 0,
              "ticks": ""
             }
            },
            "type": "scatter3d"
           }
          ],
          "scattercarpet": [
           {
            "marker": {
             "colorbar": {
              "outlinewidth": 0,
              "ticks": ""
             }
            },
            "type": "scattercarpet"
           }
          ],
          "scattergeo": [
           {
            "marker": {
             "colorbar": {
              "outlinewidth": 0,
              "ticks": ""
             }
            },
            "type": "scattergeo"
           }
          ],
          "scattergl": [
           {
            "marker": {
             "colorbar": {
              "outlinewidth": 0,
              "ticks": ""
             }
            },
            "type": "scattergl"
           }
          ],
          "scattermapbox": [
           {
            "marker": {
             "colorbar": {
              "outlinewidth": 0,
              "ticks": ""
             }
            },
            "type": "scattermapbox"
           }
          ],
          "scatterpolar": [
           {
            "marker": {
             "colorbar": {
              "outlinewidth": 0,
              "ticks": ""
             }
            },
            "type": "scatterpolar"
           }
          ],
          "scatterpolargl": [
           {
            "marker": {
             "colorbar": {
              "outlinewidth": 0,
              "ticks": ""
             }
            },
            "type": "scatterpolargl"
           }
          ],
          "scatterternary": [
           {
            "marker": {
             "colorbar": {
              "outlinewidth": 0,
              "ticks": ""
             }
            },
            "type": "scatterternary"
           }
          ],
          "surface": [
           {
            "colorbar": {
             "outlinewidth": 0,
             "ticks": ""
            },
            "colorscale": [
             [
              0,
              "#0d0887"
             ],
             [
              0.1111111111111111,
              "#46039f"
             ],
             [
              0.2222222222222222,
              "#7201a8"
             ],
             [
              0.3333333333333333,
              "#9c179e"
             ],
             [
              0.4444444444444444,
              "#bd3786"
             ],
             [
              0.5555555555555556,
              "#d8576b"
             ],
             [
              0.6666666666666666,
              "#ed7953"
             ],
             [
              0.7777777777777778,
              "#fb9f3a"
             ],
             [
              0.8888888888888888,
              "#fdca26"
             ],
             [
              1,
              "#f0f921"
             ]
            ],
            "type": "surface"
           }
          ],
          "table": [
           {
            "cells": {
             "fill": {
              "color": "#EBF0F8"
             },
             "line": {
              "color": "white"
             }
            },
            "header": {
             "fill": {
              "color": "#C8D4E3"
             },
             "line": {
              "color": "white"
             }
            },
            "type": "table"
           }
          ]
         },
         "layout": {
          "annotationdefaults": {
           "arrowcolor": "#2a3f5f",
           "arrowhead": 0,
           "arrowwidth": 1
          },
          "autotypenumbers": "strict",
          "coloraxis": {
           "colorbar": {
            "outlinewidth": 0,
            "ticks": ""
           }
          },
          "colorscale": {
           "diverging": [
            [
             0,
             "#8e0152"
            ],
            [
             0.1,
             "#c51b7d"
            ],
            [
             0.2,
             "#de77ae"
            ],
            [
             0.3,
             "#f1b6da"
            ],
            [
             0.4,
             "#fde0ef"
            ],
            [
             0.5,
             "#f7f7f7"
            ],
            [
             0.6,
             "#e6f5d0"
            ],
            [
             0.7,
             "#b8e186"
            ],
            [
             0.8,
             "#7fbc41"
            ],
            [
             0.9,
             "#4d9221"
            ],
            [
             1,
             "#276419"
            ]
           ],
           "sequential": [
            [
             0,
             "#0d0887"
            ],
            [
             0.1111111111111111,
             "#46039f"
            ],
            [
             0.2222222222222222,
             "#7201a8"
            ],
            [
             0.3333333333333333,
             "#9c179e"
            ],
            [
             0.4444444444444444,
             "#bd3786"
            ],
            [
             0.5555555555555556,
             "#d8576b"
            ],
            [
             0.6666666666666666,
             "#ed7953"
            ],
            [
             0.7777777777777778,
             "#fb9f3a"
            ],
            [
             0.8888888888888888,
             "#fdca26"
            ],
            [
             1,
             "#f0f921"
            ]
           ],
           "sequentialminus": [
            [
             0,
             "#0d0887"
            ],
            [
             0.1111111111111111,
             "#46039f"
            ],
            [
             0.2222222222222222,
             "#7201a8"
            ],
            [
             0.3333333333333333,
             "#9c179e"
            ],
            [
             0.4444444444444444,
             "#bd3786"
            ],
            [
             0.5555555555555556,
             "#d8576b"
            ],
            [
             0.6666666666666666,
             "#ed7953"
            ],
            [
             0.7777777777777778,
             "#fb9f3a"
            ],
            [
             0.8888888888888888,
             "#fdca26"
            ],
            [
             1,
             "#f0f921"
            ]
           ]
          },
          "colorway": [
           "#636efa",
           "#EF553B",
           "#00cc96",
           "#ab63fa",
           "#FFA15A",
           "#19d3f3",
           "#FF6692",
           "#B6E880",
           "#FF97FF",
           "#FECB52"
          ],
          "font": {
           "color": "#2a3f5f"
          },
          "geo": {
           "bgcolor": "white",
           "lakecolor": "white",
           "landcolor": "#E5ECF6",
           "showlakes": true,
           "showland": true,
           "subunitcolor": "white"
          },
          "hoverlabel": {
           "align": "left"
          },
          "hovermode": "closest",
          "mapbox": {
           "style": "light"
          },
          "paper_bgcolor": "white",
          "plot_bgcolor": "#E5ECF6",
          "polar": {
           "angularaxis": {
            "gridcolor": "white",
            "linecolor": "white",
            "ticks": ""
           },
           "bgcolor": "#E5ECF6",
           "radialaxis": {
            "gridcolor": "white",
            "linecolor": "white",
            "ticks": ""
           }
          },
          "scene": {
           "xaxis": {
            "backgroundcolor": "#E5ECF6",
            "gridcolor": "white",
            "gridwidth": 2,
            "linecolor": "white",
            "showbackground": true,
            "ticks": "",
            "zerolinecolor": "white"
           },
           "yaxis": {
            "backgroundcolor": "#E5ECF6",
            "gridcolor": "white",
            "gridwidth": 2,
            "linecolor": "white",
            "showbackground": true,
            "ticks": "",
            "zerolinecolor": "white"
           },
           "zaxis": {
            "backgroundcolor": "#E5ECF6",
            "gridcolor": "white",
            "gridwidth": 2,
            "linecolor": "white",
            "showbackground": true,
            "ticks": "",
            "zerolinecolor": "white"
           }
          },
          "shapedefaults": {
           "line": {
            "color": "#2a3f5f"
           }
          },
          "ternary": {
           "aaxis": {
            "gridcolor": "white",
            "linecolor": "white",
            "ticks": ""
           },
           "baxis": {
            "gridcolor": "white",
            "linecolor": "white",
            "ticks": ""
           },
           "bgcolor": "#E5ECF6",
           "caxis": {
            "gridcolor": "white",
            "linecolor": "white",
            "ticks": ""
           }
          },
          "title": {
           "x": 0.05
          },
          "xaxis": {
           "automargin": true,
           "gridcolor": "white",
           "linecolor": "white",
           "ticks": "",
           "title": {
            "standoff": 15
           },
           "zerolinecolor": "white",
           "zerolinewidth": 2
          },
          "yaxis": {
           "automargin": true,
           "gridcolor": "white",
           "linecolor": "white",
           "ticks": "",
           "title": {
            "standoff": 15
           },
           "zerolinecolor": "white",
           "zerolinewidth": 2
          }
         }
        },
        "title": {
         "text": "Brand Dist. in Non-high Traffic Cluster"
        }
       }
      },
      "image/png": "[encoded data removed]",
      "text/html": [
       "<div>                            <div id=\"8d644dd8-c7fc-488a-a259-e308b248c172\" class=\"plotly-graph-div\" style=\"height:525px; width:100%;\"></div>            <script type=\"text/javascript\">                require([\"plotly\"], function(Plotly) {                    window.PLOTLYENV=window.PLOTLYENV || {};                                    if (document.getElementById(\"8d644dd8-c7fc-488a-a259-e308b248c172\")) {                    Plotly.newPlot(                        \"8d644dd8-c7fc-488a-a259-e308b248c172\",                        [{\"domain\":{\"x\":[0.0,1.0],\"y\":[0.0,1.0]},\"hovertemplate\":\"brand=%{label}<br>value=%{value}<extra></extra>\",\"labels\":[\"BURN\",\"CAPPY\",\"CC_LIGHT\",\"CC_NO_SUGER\",\"COCACOLA\",\"COCACOLA_ENERGY\",\"DAMLA_MINERA\",\"DAMLA_WATER\",\"EXOTIC\",\"FANTA\",\"FUSETEA\",\"MONSTER\",\"POWERADE\",\"SCHWEPPES\"],\"legendgroup\":\"\",\"name\":\"\",\"showlegend\":true,\"type\":\"pie\",\"values\":[66367.27900000001,1566654.456,44099.695999999996,634534.702,12357636.286,1421.904,128943.108,1133494.904,113.86999999999999,3911002.2080000006,568177.1059999999,86102.85500000001,31262.889,279092.395]}],                        {\"legend\":{\"tracegroupgap\":0},\"template\":{\"data\":{\"bar\":[{\"error_x\":{\"color\":\"#2a3f5f\"},\"error_y\":{\"color\":\"#2a3f5f\"},\"marker\":{\"line\":{\"color\":\"#E5ECF6\",\"width\":0.5},\"pattern\":{\"fillmode\":\"overlay\",\"size\":10,\"solidity\":0.2}},\"type\":\"bar\"}],\"barpolar\":[{\"marker\":{\"line\":{\"color\":\"#E5ECF6\",\"width\":0.5},\"pattern\":{\"fillmode\":\"overlay\",\"size\":10,\"solidity\":0.2}},\"type\":\"barpolar\"}],\"carpet\":[{\"aaxis\":{\"endlinecolor\":\"#2a3f5f\",\"gridcolor\":\"white\",\"linecolor\":\"white\",\"minorgridcolor\":\"white\",\"startlinecolor\":\"#2a3f5f\"},\"baxis\":{\"endlinecolor\":\"#2a3f5f\",\"gridcolor\":\"white\",\"linecolor\":\"white\",\"minorgridcolor\":\"white\",\"startlinecolor\":\"#2a3f5f\"},\"type\":\"carpet\"}],\"choropleth\":[{\"colorbar\":{\"outlinewidth\":0,\"ticks\":\"\"},\"type\":\"choropleth\"}],\"contour\":[{\"colorbar\":{\"outlinewidth\":0,\"ticks\":\"\"},\"colorscale\":[[0.0,\"#0d0887\"],[0.1111111111111111,\"#46039f\"],[0.2222222222222222,\"#7201a8\"],[0.3333333333333333,\"#9c179e\"],[0.4444444444444444,\"#bd3786\"],[0.5555555555555556,\"#d8576b\"],[0.6666666666666666,\"#ed7953\"],[0.7777777777777778,\"#fb9f3a\"],[0.8888888888888888,\"#fdca26\"],[1.0,\"#f0f921\"]],\"type\":\"contour\"}],\"contourcarpet\":[{\"colorbar\":{\"outlinewidth\":0,\"ticks\":\"\"},\"type\":\"contourcarpet\"}],\"heatmap\":[{\"colorbar\":{\"outlinewidth\":0,\"ticks\":\"\"},\"colorscale\":[[0.0,\"#0d0887\"],[0.1111111111111111,\"#46039f\"],[0.2222222222222222,\"#7201a8\"],[0.3333333333333333,\"#9c179e\"],[0.4444444444444444,\"#bd3786\"],[0.5555555555555556,\"#d8576b\"],[0.6666666666666666,\"#ed7953\"],[0.7777777777777778,\"#fb9f3a\"],[0.8888888888888888,\"#fdca26\"],[1.0,\"#f0f921\"]],\"type\":\"heatmap\"}],\"heatmapgl\":[{\"colorbar\":{\"outlinewidth\":0,\"ticks\":\"\"},\"colorscale\":[[0.0,\"#0d0887\"],[0.1111111111111111,\"#46039f\"],[0.2222222222222222,\"#7201a8\"],[0.3333333333333333,\"#9c179e\"],[0.4444444444444444,\"#bd3786\"],[0.5555555555555556,\"#d8576b\"],[0.6666666666666666,\"#ed7953\"],[0.7777777777777778,\"#fb9f3a\"],[0.8888888888888888,\"#fdca26\"],[1.0,\"#f0f921\"]],\"type\":\"heatmapgl\"}],\"histogram\":[{\"marker\":{\"pattern\":{\"fillmode\":\"overlay\",\"size\":10,\"solidity\":0.2}},\"type\":\"histogram\"}],\"histogram2d\":[{\"colorbar\":{\"outlinewidth\":0,\"ticks\":\"\"},\"colorscale\":[[0.0,\"#0d0887\"],[0.1111111111111111,\"#46039f\"],[0.2222222222222222,\"#7201a8\"],[0.3333333333333333,\"#9c179e\"],[0.4444444444444444,\"#bd3786\"],[0.5555555555555556,\"#d8576b\"],[0.6666666666666666,\"#ed7953\"],[0.7777777777777778,\"#fb9f3a\"],[0.8888888888888888,\"#fdca26\"],[1.0,\"#f0f921\"]],\"type\":\"histogram2d\"}],\"histogram2dcontour\":[{\"colorbar\":{\"outlinewidth\":0,\"ticks\":\"\"},\"colorscale\":[[0.0,\"#0d0887\"],[0.1111111111111111,\"#46039f\"],[0.2222222222222222,\"#7201a8\"],[0.3333333333333333,\"#9c179e\"],[0.4444444444444444,\"#bd3786\"],[0.5555555555555556,\"#d8576b\"],[0.6666666666666666,\"#ed7953\"],[0.7777777777777778,\"#fb9f3a\"],[0.8888888888888888,\"#fdca26\"],[1.0,\"#f0f921\"]],\"type\":\"histogram2dcontour\"}],\"mesh3d\":[{\"colorbar\":{\"outlinewidth\":0,\"ticks\":\"\"},\"type\":\"mesh3d\"}],\"parcoords\":[{\"line\":{\"colorbar\":{\"outlinewidth\":0,\"ticks\":\"\"}},\"type\":\"parcoords\"}],\"pie\":[{\"automargin\":true,\"type\":\"pie\"}],\"scatter\":[{\"marker\":{\"colorbar\":{\"outlinewidth\":0,\"ticks\":\"\"}},\"type\":\"scatter\"}],\"scatter3d\":[{\"line\":{\"colorbar\":{\"outlinewidth\":0,\"ticks\":\"\"}},\"marker\":{\"colorbar\":{\"outlinewidth\":0,\"ticks\":\"\"}},\"type\":\"scatter3d\"}],\"scattercarpet\":[{\"marker\":{\"colorbar\":{\"outlinewidth\":0,\"ticks\":\"\"}},\"type\":\"scattercarpet\"}],\"scattergeo\":[{\"marker\":{\"colorbar\":{\"outlinewidth\":0,\"ticks\":\"\"}},\"type\":\"scattergeo\"}],\"scattergl\":[{\"marker\":{\"colorbar\":{\"outlinewidth\":0,\"ticks\":\"\"}},\"type\":\"scattergl\"}],\"scattermapbox\":[{\"marker\":{\"colorbar\":{\"outlinewidth\":0,\"ticks\":\"\"}},\"type\":\"scattermapbox\"}],\"scatterpolar\":[{\"marker\":{\"colorbar\":{\"outlinewidth\":0,\"ticks\":\"\"}},\"type\":\"scatterpolar\"}],\"scatterpolargl\":[{\"marker\":{\"colorbar\":{\"outlinewidth\":0,\"ticks\":\"\"}},\"type\":\"scatterpolargl\"}],\"scatterternary\":[{\"marker\":{\"colorbar\":{\"outlinewidth\":0,\"ticks\":\"\"}},\"type\":\"scatterternary\"}],\"surface\":[{\"colorbar\":{\"outlinewidth\":0,\"ticks\":\"\"},\"colorscale\":[[0.0,\"#0d0887\"],[0.1111111111111111,\"#46039f\"],[0.2222222222222222,\"#7201a8\"],[0.3333333333333333,\"#9c179e\"],[0.4444444444444444,\"#bd3786\"],[0.5555555555555556,\"#d8576b\"],[0.6666666666666666,\"#ed7953\"],[0.7777777777777778,\"#fb9f3a\"],[0.8888888888888888,\"#fdca26\"],[1.0,\"#f0f921\"]],\"type\":\"surface\"}],\"table\":[{\"cells\":{\"fill\":{\"color\":\"#EBF0F8\"},\"line\":{\"color\":\"white\"}},\"header\":{\"fill\":{\"color\":\"#C8D4E3\"},\"line\":{\"color\":\"white\"}},\"type\":\"table\"}]},\"layout\":{\"annotationdefaults\":{\"arrowcolor\":\"#2a3f5f\",\"arrowhead\":0,\"arrowwidth\":1},\"autotypenumbers\":\"strict\",\"coloraxis\":{\"colorbar\":{\"outlinewidth\":0,\"ticks\":\"\"}},\"colorscale\":{\"diverging\":[[0,\"#8e0152\"],[0.1,\"#c51b7d\"],[0.2,\"#de77ae\"],[0.3,\"#f1b6da\"],[0.4,\"#fde0ef\"],[0.5,\"#f7f7f7\"],[0.6,\"#e6f5d0\"],[0.7,\"#b8e186\"],[0.8,\"#7fbc41\"],[0.9,\"#4d9221\"],[1,\"#276419\"]],\"sequential\":[[0.0,\"#0d0887\"],[0.1111111111111111,\"#46039f\"],[0.2222222222222222,\"#7201a8\"],[0.3333333333333333,\"#9c179e\"],[0.4444444444444444,\"#bd3786\"],[0.5555555555555556,\"#d8576b\"],[0.6666666666666666,\"#ed7953\"],[0.7777777777777778,\"#fb9f3a\"],[0.8888888888888888,\"#fdca26\"],[1.0,\"#f0f921\"]],\"sequentialminus\":[[0.0,\"#0d0887\"],[0.1111111111111111,\"#46039f\"],[0.2222222222222222,\"#7201a8\"],[0.3333333333333333,\"#9c179e\"],[0.4444444444444444,\"#bd3786\"],[0.5555555555555556,\"#d8576b\"],[0.6666666666666666,\"#ed7953\"],[0.7777777777777778,\"#fb9f3a\"],[0.8888888888888888,\"#fdca26\"],[1.0,\"#f0f921\"]]},\"colorway\":[\"#636efa\",\"#EF553B\",\"#00cc96\",\"#ab63fa\",\"#FFA15A\",\"#19d3f3\",\"#FF6692\",\"#B6E880\",\"#FF97FF\",\"#FECB52\"],\"font\":{\"color\":\"#2a3f5f\"},\"geo\":{\"bgcolor\":\"white\",\"lakecolor\":\"white\",\"landcolor\":\"#E5ECF6\",\"showlakes\":true,\"showland\":true,\"subunitcolor\":\"white\"},\"hoverlabel\":{\"align\":\"left\"},\"hovermode\":\"closest\",\"mapbox\":{\"style\":\"light\"},\"paper_bgcolor\":\"white\",\"plot_bgcolor\":\"#E5ECF6\",\"polar\":{\"angularaxis\":{\"gridcolor\":\"white\",\"linecolor\":\"white\",\"ticks\":\"\"},\"bgcolor\":\"#E5ECF6\",\"radialaxis\":{\"gridcolor\":\"white\",\"linecolor\":\"white\",\"ticks\":\"\"}},\"scene\":{\"xaxis\":{\"backgroundcolor\":\"#E5ECF6\",\"gridcolor\":\"white\",\"gridwidth\":2,\"linecolor\":\"white\",\"showbackground\":true,\"ticks\":\"\",\"zerolinecolor\":\"white\"},\"yaxis\":{\"backgroundcolor\":\"#E5ECF6\",\"gridcolor\":\"white\",\"gridwidth\":2,\"linecolor\":\"white\",\"showbackground\":true,\"ticks\":\"\",\"zerolinecolor\":\"white\"},\"zaxis\":{\"backgroundcolor\":\"#E5ECF6\",\"gridcolor\":\"white\",\"gridwidth\":2,\"linecolor\":\"white\",\"showbackground\":true,\"ticks\":\"\",\"zerolinecolor\":\"white\"}},\"shapedefaults\":{\"line\":{\"color\":\"#2a3f5f\"}},\"ternary\":{\"aaxis\":{\"gridcolor\":\"white\",\"linecolor\":\"white\",\"ticks\":\"\"},\"baxis\":{\"gridcolor\":\"white\",\"linecolor\":\"white\",\"ticks\":\"\"},\"bgcolor\":\"#E5ECF6\",\"caxis\":{\"gridcolor\":\"white\",\"linecolor\":\"white\",\"ticks\":\"\"}},\"title\":{\"x\":0.05},\"xaxis\":{\"automargin\":true,\"gridcolor\":\"white\",\"linecolor\":\"white\",\"ticks\":\"\",\"title\":{\"standoff\":15},\"zerolinecolor\":\"white\",\"zerolinewidth\":2},\"yaxis\":{\"automargin\":true,\"gridcolor\":\"white\",\"linecolor\":\"white\",\"ticks\":\"\",\"title\":{\"standoff\":15},\"zerolinecolor\":\"white\",\"zerolinewidth\":2}}},\"title\":{\"text\":\"Brand Dist. in Non-high Traffic Cluster\"}},                        {\"responsive\": true}                    ).then(function(){\n",
       "                            \n",
       "var gd = document.getElementById('8d644dd8-c7fc-488a-a259-e308b248c172');\n",
       "var x = new MutationObserver(function (mutations, observer) {{\n",
       "        var display = window.getComputedStyle(gd).display;\n",
       "        if (!display || display === 'none') {{\n",
       "            console.log([gd, 'removed!']);\n",
       "            Plotly.purge(gd);\n",
       "            observer.disconnect();\n",
       "        }}\n",
       "}});\n",
       "\n",
       "// Listen for the removal of the full notebook cells\n",
       "var notebookContainer = gd.closest('#notebook-container');\n",
       "if (notebookContainer) {{\n",
       "    x.observe(notebookContainer, {childList: true});\n",
       "}}\n",
       "\n",
       "// Listen for the clearing of the current output cell\n",
       "var outputEl = gd.closest('.output');\n",
       "if (outputEl) {{\n",
       "    x.observe(outputEl, {childList: true});\n",
       "}}\n",
       "\n",
       "                        })                };                });            </script>        </div>"
      ]
     },
     "metadata": {},
     "output_type": "display_data"
    }
   ],
   "source": [
    "fig = px.pie(non_brands_sum, values='values', names=\"brand\", title='Brand Dist. in Non-high Traffic Cluster')\n",
    "fig.show()"
   ]
  },
  {
   "cell_type": "code",
   "execution_count": 345,
   "metadata": {},
   "outputs": [
    {
     "data": {
      "text/plain": [
       "SES\n",
       "E      1583098968\n",
       "A      6165379175\n",
       "B      8677640840\n",
       "D     17421944509\n",
       "C2    45572481815\n",
       "C1    60176632038\n",
       "Name: outlet_number, dtype: int64"
      ]
     },
     "execution_count": 345,
     "metadata": {},
     "output_type": "execute_result"
    }
   ],
   "source": [
    "final_low.groupby('SES')['outlet_number'].sum().sort_values()"
   ]
  },
  {
   "cell_type": "markdown",
   "metadata": {},
   "source": [
    "----"
   ]
  },
  {
   "cell_type": "markdown",
   "metadata": {},
   "source": [
    "## Score Based"
   ]
  },
  {
   "cell_type": "code",
   "execution_count": 85,
   "metadata": {},
   "outputs": [],
   "source": [
    "high_df = ist_data.query(\"high_traffic==1\")\n",
    "non_df = ist_data.query(\"high_traffic==0\")"
   ]
  },
  {
   "cell_type": "code",
   "execution_count": 88,
   "metadata": {
    "collapsed": true,
    "jupyter": {
     "outputs_hidden": true
    }
   },
   "outputs": [
    {
     "data": {
      "text/html": [
       "<div>\n",
       "<style scoped>\n",
       "    .dataframe tbody tr th:only-of-type {\n",
       "        vertical-align: middle;\n",
       "    }\n",
       "\n",
       "    .dataframe tbody tr th {\n",
       "        vertical-align: top;\n",
       "    }\n",
       "\n",
       "    .dataframe thead th {\n",
       "        text-align: right;\n",
       "    }\n",
       "</style>\n",
       "<table border=\"1\" class=\"dataframe\">\n",
       "  <thead>\n",
       "    <tr style=\"text-align: right;\">\n",
       "      <th></th>\n",
       "      <th>outlet_number</th>\n",
       "      <th>high_traffic</th>\n",
       "      <th>IDARIID</th>\n",
       "      <th>HANE_BUYUKLUGU</th>\n",
       "      <th>GUNDUZ_NUFUS</th>\n",
       "      <th>GECE_NUFUS</th>\n",
       "      <th>ZENGINLIK_INDEKSI</th>\n",
       "      <th>SEHIRLESME_INDEKSI</th>\n",
       "      <th>YAYA_TRAFIGI</th>\n",
       "      <th>AYLIK_HARCAMA</th>\n",
       "      <th>...</th>\n",
       "      <th>COCACOLA_ENERGY</th>\n",
       "      <th>DAMLA_MINERA</th>\n",
       "      <th>DAMLA_WATER</th>\n",
       "      <th>EXOTIC</th>\n",
       "      <th>FANTA</th>\n",
       "      <th>FUSETEA</th>\n",
       "      <th>MONSTER</th>\n",
       "      <th>POWERADE</th>\n",
       "      <th>SCHWEPPES</th>\n",
       "      <th>SPRITE</th>\n",
       "    </tr>\n",
       "  </thead>\n",
       "  <tbody>\n",
       "    <tr>\n",
       "      <th>count</th>\n",
       "      <td>4.000000e+01</td>\n",
       "      <td>40.0</td>\n",
       "      <td>40.000000</td>\n",
       "      <td>40.000000</td>\n",
       "      <td>40.000000</td>\n",
       "      <td>40.000000</td>\n",
       "      <td>40.000000</td>\n",
       "      <td>40.000000</td>\n",
       "      <td>40.000000</td>\n",
       "      <td>40.000000</td>\n",
       "      <td>...</td>\n",
       "      <td>40.000000</td>\n",
       "      <td>40.000000</td>\n",
       "      <td>40.000000</td>\n",
       "      <td>40.000000</td>\n",
       "      <td>40.000000</td>\n",
       "      <td>40.000000</td>\n",
       "      <td>40.000000</td>\n",
       "      <td>40.000000</td>\n",
       "      <td>40.000000</td>\n",
       "      <td>40.000000</td>\n",
       "    </tr>\n",
       "    <tr>\n",
       "      <th>mean</th>\n",
       "      <td>8.378280e+06</td>\n",
       "      <td>1.0</td>\n",
       "      <td>33728.825000</td>\n",
       "      <td>1.496225</td>\n",
       "      <td>40495.250000</td>\n",
       "      <td>13260.875000</td>\n",
       "      <td>8.787191</td>\n",
       "      <td>9.622704</td>\n",
       "      <td>9.470676</td>\n",
       "      <td>15883.000000</td>\n",
       "      <td>...</td>\n",
       "      <td>0.316800</td>\n",
       "      <td>10.332150</td>\n",
       "      <td>348.503825</td>\n",
       "      <td>0.481225</td>\n",
       "      <td>74.316050</td>\n",
       "      <td>40.271850</td>\n",
       "      <td>15.139550</td>\n",
       "      <td>10.966375</td>\n",
       "      <td>77.004225</td>\n",
       "      <td>41.581750</td>\n",
       "    </tr>\n",
       "    <tr>\n",
       "      <th>std</th>\n",
       "      <td>4.405791e+06</td>\n",
       "      <td>0.0</td>\n",
       "      <td>227.645911</td>\n",
       "      <td>0.208615</td>\n",
       "      <td>29615.149887</td>\n",
       "      <td>9779.387798</td>\n",
       "      <td>1.629684</td>\n",
       "      <td>0.809377</td>\n",
       "      <td>0.846209</td>\n",
       "      <td>2887.299572</td>\n",
       "      <td>...</td>\n",
       "      <td>1.088007</td>\n",
       "      <td>13.081595</td>\n",
       "      <td>522.387021</td>\n",
       "      <td>1.420399</td>\n",
       "      <td>64.724298</td>\n",
       "      <td>49.297017</td>\n",
       "      <td>16.893406</td>\n",
       "      <td>12.227902</td>\n",
       "      <td>74.615718</td>\n",
       "      <td>38.202166</td>\n",
       "    </tr>\n",
       "    <tr>\n",
       "      <th>min</th>\n",
       "      <td>6.466450e+05</td>\n",
       "      <td>1.0</td>\n",
       "      <td>33479.000000</td>\n",
       "      <td>0.937099</td>\n",
       "      <td>0.000000</td>\n",
       "      <td>730.000000</td>\n",
       "      <td>3.485561</td>\n",
       "      <td>7.000259</td>\n",
       "      <td>7.000243</td>\n",
       "      <td>6481.000000</td>\n",
       "      <td>...</td>\n",
       "      <td>0.000000</td>\n",
       "      <td>0.000000</td>\n",
       "      <td>0.000000</td>\n",
       "      <td>0.000000</td>\n",
       "      <td>0.845000</td>\n",
       "      <td>0.000000</td>\n",
       "      <td>0.000000</td>\n",
       "      <td>0.000000</td>\n",
       "      <td>0.000000</td>\n",
       "      <td>0.000000</td>\n",
       "    </tr>\n",
       "    <tr>\n",
       "      <th>25%</th>\n",
       "      <td>4.501647e+06</td>\n",
       "      <td>1.0</td>\n",
       "      <td>33493.000000</td>\n",
       "      <td>1.407596</td>\n",
       "      <td>16155.250000</td>\n",
       "      <td>4442.500000</td>\n",
       "      <td>8.773112</td>\n",
       "      <td>9.985373</td>\n",
       "      <td>8.999920</td>\n",
       "      <td>15462.000000</td>\n",
       "      <td>...</td>\n",
       "      <td>0.000000</td>\n",
       "      <td>0.845000</td>\n",
       "      <td>12.149750</td>\n",
       "      <td>0.000000</td>\n",
       "      <td>22.690250</td>\n",
       "      <td>9.965000</td>\n",
       "      <td>2.787250</td>\n",
       "      <td>3.171000</td>\n",
       "      <td>26.417250</td>\n",
       "      <td>12.900500</td>\n",
       "    </tr>\n",
       "    <tr>\n",
       "      <th>50%</th>\n",
       "      <td>9.457782e+06</td>\n",
       "      <td>1.0</td>\n",
       "      <td>33832.500000</td>\n",
       "      <td>1.452195</td>\n",
       "      <td>34818.500000</td>\n",
       "      <td>10717.000000</td>\n",
       "      <td>9.251500</td>\n",
       "      <td>9.999776</td>\n",
       "      <td>9.998257</td>\n",
       "      <td>16760.500000</td>\n",
       "      <td>...</td>\n",
       "      <td>0.000000</td>\n",
       "      <td>3.802500</td>\n",
       "      <td>74.046500</td>\n",
       "      <td>0.000000</td>\n",
       "      <td>61.107500</td>\n",
       "      <td>24.115500</td>\n",
       "      <td>7.228000</td>\n",
       "      <td>8.456000</td>\n",
       "      <td>47.016500</td>\n",
       "      <td>28.101500</td>\n",
       "    </tr>\n",
       "    <tr>\n",
       "      <th>75%</th>\n",
       "      <td>9.634731e+06</td>\n",
       "      <td>1.0</td>\n",
       "      <td>33834.000000</td>\n",
       "      <td>1.634630</td>\n",
       "      <td>58586.250000</td>\n",
       "      <td>22763.000000</td>\n",
       "      <td>9.967000</td>\n",
       "      <td>10.000000</td>\n",
       "      <td>10.000000</td>\n",
       "      <td>17892.000000</td>\n",
       "      <td>...</td>\n",
       "      <td>0.000000</td>\n",
       "      <td>16.688750</td>\n",
       "      <td>459.104250</td>\n",
       "      <td>0.000000</td>\n",
       "      <td>103.571750</td>\n",
       "      <td>56.757000</td>\n",
       "      <td>27.538250</td>\n",
       "      <td>12.684000</td>\n",
       "      <td>130.013000</td>\n",
       "      <td>65.607750</td>\n",
       "    </tr>\n",
       "    <tr>\n",
       "      <th>max</th>\n",
       "      <td>2.003703e+07</td>\n",
       "      <td>1.0</td>\n",
       "      <td>34146.000000</td>\n",
       "      <td>1.882687</td>\n",
       "      <td>88924.000000</td>\n",
       "      <td>33789.000000</td>\n",
       "      <td>10.000000</td>\n",
       "      <td>10.000000</td>\n",
       "      <td>10.000000</td>\n",
       "      <td>17943.000000</td>\n",
       "      <td>...</td>\n",
       "      <td>6.336000</td>\n",
       "      <td>48.165000</td>\n",
       "      <td>1883.574000</td>\n",
       "      <td>6.248000</td>\n",
       "      <td>320.757000</td>\n",
       "      <td>209.229000</td>\n",
       "      <td>68.394000</td>\n",
       "      <td>54.964000</td>\n",
       "      <td>312.765000</td>\n",
       "      <td>140.710000</td>\n",
       "    </tr>\n",
       "  </tbody>\n",
       "</table>\n",
       "<p>8 rows × 65 columns</p>\n",
       "</div>"
      ],
      "text/plain": [
       "       outlet_number  high_traffic       IDARIID  HANE_BUYUKLUGU  \\\n",
       "count   4.000000e+01          40.0     40.000000       40.000000   \n",
       "mean    8.378280e+06           1.0  33728.825000        1.496225   \n",
       "std     4.405791e+06           0.0    227.645911        0.208615   \n",
       "min     6.466450e+05           1.0  33479.000000        0.937099   \n",
       "25%     4.501647e+06           1.0  33493.000000        1.407596   \n",
       "50%     9.457782e+06           1.0  33832.500000        1.452195   \n",
       "75%     9.634731e+06           1.0  33834.000000        1.634630   \n",
       "max     2.003703e+07           1.0  34146.000000        1.882687   \n",
       "\n",
       "       GUNDUZ_NUFUS    GECE_NUFUS  ZENGINLIK_INDEKSI  SEHIRLESME_INDEKSI  \\\n",
       "count     40.000000     40.000000          40.000000           40.000000   \n",
       "mean   40495.250000  13260.875000           8.787191            9.622704   \n",
       "std    29615.149887   9779.387798           1.629684            0.809377   \n",
       "min        0.000000    730.000000           3.485561            7.000259   \n",
       "25%    16155.250000   4442.500000           8.773112            9.985373   \n",
       "50%    34818.500000  10717.000000           9.251500            9.999776   \n",
       "75%    58586.250000  22763.000000           9.967000           10.000000   \n",
       "max    88924.000000  33789.000000          10.000000           10.000000   \n",
       "\n",
       "       YAYA_TRAFIGI  AYLIK_HARCAMA  ...  COCACOLA_ENERGY  DAMLA_MINERA  \\\n",
       "count     40.000000      40.000000  ...        40.000000     40.000000   \n",
       "mean       9.470676   15883.000000  ...         0.316800     10.332150   \n",
       "std        0.846209    2887.299572  ...         1.088007     13.081595   \n",
       "min        7.000243    6481.000000  ...         0.000000      0.000000   \n",
       "25%        8.999920   15462.000000  ...         0.000000      0.845000   \n",
       "50%        9.998257   16760.500000  ...         0.000000      3.802500   \n",
       "75%       10.000000   17892.000000  ...         0.000000     16.688750   \n",
       "max       10.000000   17943.000000  ...         6.336000     48.165000   \n",
       "\n",
       "       DAMLA_WATER     EXOTIC       FANTA     FUSETEA    MONSTER   POWERADE  \\\n",
       "count    40.000000  40.000000   40.000000   40.000000  40.000000  40.000000   \n",
       "mean    348.503825   0.481225   74.316050   40.271850  15.139550  10.966375   \n",
       "std     522.387021   1.420399   64.724298   49.297017  16.893406  12.227902   \n",
       "min       0.000000   0.000000    0.845000    0.000000   0.000000   0.000000   \n",
       "25%      12.149750   0.000000   22.690250    9.965000   2.787250   3.171000   \n",
       "50%      74.046500   0.000000   61.107500   24.115500   7.228000   8.456000   \n",
       "75%     459.104250   0.000000  103.571750   56.757000  27.538250  12.684000   \n",
       "max    1883.574000   6.248000  320.757000  209.229000  68.394000  54.964000   \n",
       "\n",
       "        SCHWEPPES      SPRITE  \n",
       "count   40.000000   40.000000  \n",
       "mean    77.004225   41.581750  \n",
       "std     74.615718   38.202166  \n",
       "min      0.000000    0.000000  \n",
       "25%     26.417250   12.900500  \n",
       "50%     47.016500   28.101500  \n",
       "75%    130.013000   65.607750  \n",
       "max    312.765000  140.710000  \n",
       "\n",
       "[8 rows x 65 columns]"
      ]
     },
     "execution_count": 88,
     "metadata": {},
     "output_type": "execute_result"
    }
   ],
   "source": [
    "high_df.describe()"
   ]
  },
  {
   "cell_type": "code",
   "execution_count": 91,
   "metadata": {
    "collapsed": true,
    "jupyter": {
     "outputs_hidden": true
    }
   },
   "outputs": [
    {
     "data": {
      "text/html": [
       "<div>\n",
       "<style scoped>\n",
       "    .dataframe tbody tr th:only-of-type {\n",
       "        vertical-align: middle;\n",
       "    }\n",
       "\n",
       "    .dataframe tbody tr th {\n",
       "        vertical-align: top;\n",
       "    }\n",
       "\n",
       "    .dataframe thead th {\n",
       "        text-align: right;\n",
       "    }\n",
       "</style>\n",
       "<table border=\"1\" class=\"dataframe\">\n",
       "  <thead>\n",
       "    <tr style=\"text-align: right;\">\n",
       "      <th></th>\n",
       "      <th>outlet_number</th>\n",
       "      <th>high_traffic</th>\n",
       "      <th>IDARIID</th>\n",
       "      <th>HANE_BUYUKLUGU</th>\n",
       "      <th>GUNDUZ_NUFUS</th>\n",
       "      <th>GECE_NUFUS</th>\n",
       "      <th>ZENGINLIK_INDEKSI</th>\n",
       "      <th>SEHIRLESME_INDEKSI</th>\n",
       "      <th>YAYA_TRAFIGI</th>\n",
       "      <th>AYLIK_HARCAMA</th>\n",
       "      <th>...</th>\n",
       "      <th>COCACOLA_ENERGY</th>\n",
       "      <th>DAMLA_MINERA</th>\n",
       "      <th>DAMLA_WATER</th>\n",
       "      <th>EXOTIC</th>\n",
       "      <th>FANTA</th>\n",
       "      <th>FUSETEA</th>\n",
       "      <th>MONSTER</th>\n",
       "      <th>POWERADE</th>\n",
       "      <th>SCHWEPPES</th>\n",
       "      <th>SPRITE</th>\n",
       "    </tr>\n",
       "  </thead>\n",
       "  <tbody>\n",
       "    <tr>\n",
       "      <th>count</th>\n",
       "      <td>2.500000e+01</td>\n",
       "      <td>25.0</td>\n",
       "      <td>25.0000</td>\n",
       "      <td>25.000000</td>\n",
       "      <td>25.000000</td>\n",
       "      <td>25.000000</td>\n",
       "      <td>25.000000</td>\n",
       "      <td>25.000000</td>\n",
       "      <td>25.000000</td>\n",
       "      <td>25.0000</td>\n",
       "      <td>...</td>\n",
       "      <td>25.000000</td>\n",
       "      <td>25.000000</td>\n",
       "      <td>25.000000</td>\n",
       "      <td>25.0</td>\n",
       "      <td>25.000000</td>\n",
       "      <td>25.000000</td>\n",
       "      <td>25.00000</td>\n",
       "      <td>25.000000</td>\n",
       "      <td>25.000000</td>\n",
       "      <td>25.000000</td>\n",
       "    </tr>\n",
       "    <tr>\n",
       "      <th>mean</th>\n",
       "      <td>8.501300e+06</td>\n",
       "      <td>0.0</td>\n",
       "      <td>57111.1600</td>\n",
       "      <td>2.066765</td>\n",
       "      <td>56603.440000</td>\n",
       "      <td>20912.560000</td>\n",
       "      <td>4.182680</td>\n",
       "      <td>9.762014</td>\n",
       "      <td>9.132100</td>\n",
       "      <td>8159.9200</td>\n",
       "      <td>...</td>\n",
       "      <td>0.126720</td>\n",
       "      <td>12.539800</td>\n",
       "      <td>97.764400</td>\n",
       "      <td>0.0</td>\n",
       "      <td>167.956880</td>\n",
       "      <td>39.313520</td>\n",
       "      <td>5.31716</td>\n",
       "      <td>2.283120</td>\n",
       "      <td>29.067920</td>\n",
       "      <td>21.153000</td>\n",
       "    </tr>\n",
       "    <tr>\n",
       "      <th>std</th>\n",
       "      <td>2.815190e+06</td>\n",
       "      <td>0.0</td>\n",
       "      <td>48682.4927</td>\n",
       "      <td>0.630885</td>\n",
       "      <td>73646.108865</td>\n",
       "      <td>14453.560245</td>\n",
       "      <td>3.056229</td>\n",
       "      <td>0.427171</td>\n",
       "      <td>0.952183</td>\n",
       "      <td>5213.3481</td>\n",
       "      <td>...</td>\n",
       "      <td>0.276045</td>\n",
       "      <td>20.549142</td>\n",
       "      <td>134.529281</td>\n",
       "      <td>0.0</td>\n",
       "      <td>199.453242</td>\n",
       "      <td>56.226363</td>\n",
       "      <td>15.78751</td>\n",
       "      <td>3.474728</td>\n",
       "      <td>48.176564</td>\n",
       "      <td>22.610693</td>\n",
       "    </tr>\n",
       "    <tr>\n",
       "      <th>min</th>\n",
       "      <td>1.102130e+05</td>\n",
       "      <td>0.0</td>\n",
       "      <td>33663.0000</td>\n",
       "      <td>1.041667</td>\n",
       "      <td>13108.000000</td>\n",
       "      <td>75.000000</td>\n",
       "      <td>1.178000</td>\n",
       "      <td>8.914393</td>\n",
       "      <td>7.997755</td>\n",
       "      <td>2760.0000</td>\n",
       "      <td>...</td>\n",
       "      <td>0.000000</td>\n",
       "      <td>0.000000</td>\n",
       "      <td>0.000000</td>\n",
       "      <td>0.0</td>\n",
       "      <td>16.313000</td>\n",
       "      <td>0.000000</td>\n",
       "      <td>0.00000</td>\n",
       "      <td>0.000000</td>\n",
       "      <td>0.000000</td>\n",
       "      <td>0.000000</td>\n",
       "    </tr>\n",
       "    <tr>\n",
       "      <th>25%</th>\n",
       "      <td>9.248670e+06</td>\n",
       "      <td>0.0</td>\n",
       "      <td>33849.0000</td>\n",
       "      <td>1.559234</td>\n",
       "      <td>19618.000000</td>\n",
       "      <td>7546.000000</td>\n",
       "      <td>2.372000</td>\n",
       "      <td>9.977842</td>\n",
       "      <td>8.001627</td>\n",
       "      <td>5091.0000</td>\n",
       "      <td>...</td>\n",
       "      <td>0.000000</td>\n",
       "      <td>0.000000</td>\n",
       "      <td>16.904000</td>\n",
       "      <td>0.0</td>\n",
       "      <td>45.478000</td>\n",
       "      <td>6.317000</td>\n",
       "      <td>0.00000</td>\n",
       "      <td>0.000000</td>\n",
       "      <td>0.000000</td>\n",
       "      <td>2.113000</td>\n",
       "    </tr>\n",
       "    <tr>\n",
       "      <th>50%</th>\n",
       "      <td>9.453197e+06</td>\n",
       "      <td>0.0</td>\n",
       "      <td>34168.0000</td>\n",
       "      <td>2.181424</td>\n",
       "      <td>34085.000000</td>\n",
       "      <td>20858.000000</td>\n",
       "      <td>2.845000</td>\n",
       "      <td>9.997078</td>\n",
       "      <td>9.958329</td>\n",
       "      <td>5973.0000</td>\n",
       "      <td>...</td>\n",
       "      <td>0.000000</td>\n",
       "      <td>0.845000</td>\n",
       "      <td>60.222000</td>\n",
       "      <td>0.0</td>\n",
       "      <td>144.765000</td>\n",
       "      <td>17.306000</td>\n",
       "      <td>0.00000</td>\n",
       "      <td>0.000000</td>\n",
       "      <td>16.907000</td>\n",
       "      <td>18.639000</td>\n",
       "    </tr>\n",
       "    <tr>\n",
       "      <th>75%</th>\n",
       "      <td>9.590875e+06</td>\n",
       "      <td>0.0</td>\n",
       "      <td>34275.0000</td>\n",
       "      <td>2.635838</td>\n",
       "      <td>58456.000000</td>\n",
       "      <td>26560.000000</td>\n",
       "      <td>5.145000</td>\n",
       "      <td>10.000000</td>\n",
       "      <td>10.000000</td>\n",
       "      <td>10032.0000</td>\n",
       "      <td>...</td>\n",
       "      <td>0.000000</td>\n",
       "      <td>11.830000</td>\n",
       "      <td>120.449000</td>\n",
       "      <td>0.0</td>\n",
       "      <td>195.007000</td>\n",
       "      <td>51.174000</td>\n",
       "      <td>2.11400</td>\n",
       "      <td>4.228000</td>\n",
       "      <td>40.148000</td>\n",
       "      <td>27.279000</td>\n",
       "    </tr>\n",
       "    <tr>\n",
       "      <th>max</th>\n",
       "      <td>1.024028e+07</td>\n",
       "      <td>0.0</td>\n",
       "      <td>171023.0000</td>\n",
       "      <td>3.168547</td>\n",
       "      <td>291434.000000</td>\n",
       "      <td>64030.000000</td>\n",
       "      <td>9.912000</td>\n",
       "      <td>10.000000</td>\n",
       "      <td>10.000000</td>\n",
       "      <td>17805.0000</td>\n",
       "      <td>...</td>\n",
       "      <td>1.056000</td>\n",
       "      <td>61.685000</td>\n",
       "      <td>589.919000</td>\n",
       "      <td>0.0</td>\n",
       "      <td>966.224000</td>\n",
       "      <td>213.892000</td>\n",
       "      <td>75.65300</td>\n",
       "      <td>11.627000</td>\n",
       "      <td>237.728000</td>\n",
       "      <td>89.962000</td>\n",
       "    </tr>\n",
       "  </tbody>\n",
       "</table>\n",
       "<p>8 rows × 65 columns</p>\n",
       "</div>"
      ],
      "text/plain": [
       "       outlet_number  high_traffic      IDARIID  HANE_BUYUKLUGU  \\\n",
       "count   2.500000e+01          25.0      25.0000       25.000000   \n",
       "mean    8.501300e+06           0.0   57111.1600        2.066765   \n",
       "std     2.815190e+06           0.0   48682.4927        0.630885   \n",
       "min     1.102130e+05           0.0   33663.0000        1.041667   \n",
       "25%     9.248670e+06           0.0   33849.0000        1.559234   \n",
       "50%     9.453197e+06           0.0   34168.0000        2.181424   \n",
       "75%     9.590875e+06           0.0   34275.0000        2.635838   \n",
       "max     1.024028e+07           0.0  171023.0000        3.168547   \n",
       "\n",
       "        GUNDUZ_NUFUS    GECE_NUFUS  ZENGINLIK_INDEKSI  SEHIRLESME_INDEKSI  \\\n",
       "count      25.000000     25.000000          25.000000           25.000000   \n",
       "mean    56603.440000  20912.560000           4.182680            9.762014   \n",
       "std     73646.108865  14453.560245           3.056229            0.427171   \n",
       "min     13108.000000     75.000000           1.178000            8.914393   \n",
       "25%     19618.000000   7546.000000           2.372000            9.977842   \n",
       "50%     34085.000000  20858.000000           2.845000            9.997078   \n",
       "75%     58456.000000  26560.000000           5.145000           10.000000   \n",
       "max    291434.000000  64030.000000           9.912000           10.000000   \n",
       "\n",
       "       YAYA_TRAFIGI  AYLIK_HARCAMA  ...  COCACOLA_ENERGY  DAMLA_MINERA  \\\n",
       "count     25.000000        25.0000  ...        25.000000     25.000000   \n",
       "mean       9.132100      8159.9200  ...         0.126720     12.539800   \n",
       "std        0.952183      5213.3481  ...         0.276045     20.549142   \n",
       "min        7.997755      2760.0000  ...         0.000000      0.000000   \n",
       "25%        8.001627      5091.0000  ...         0.000000      0.000000   \n",
       "50%        9.958329      5973.0000  ...         0.000000      0.845000   \n",
       "75%       10.000000     10032.0000  ...         0.000000     11.830000   \n",
       "max       10.000000     17805.0000  ...         1.056000     61.685000   \n",
       "\n",
       "       DAMLA_WATER  EXOTIC       FANTA     FUSETEA   MONSTER   POWERADE  \\\n",
       "count    25.000000    25.0   25.000000   25.000000  25.00000  25.000000   \n",
       "mean     97.764400     0.0  167.956880   39.313520   5.31716   2.283120   \n",
       "std     134.529281     0.0  199.453242   56.226363  15.78751   3.474728   \n",
       "min       0.000000     0.0   16.313000    0.000000   0.00000   0.000000   \n",
       "25%      16.904000     0.0   45.478000    6.317000   0.00000   0.000000   \n",
       "50%      60.222000     0.0  144.765000   17.306000   0.00000   0.000000   \n",
       "75%     120.449000     0.0  195.007000   51.174000   2.11400   4.228000   \n",
       "max     589.919000     0.0  966.224000  213.892000  75.65300  11.627000   \n",
       "\n",
       "        SCHWEPPES     SPRITE  \n",
       "count   25.000000  25.000000  \n",
       "mean    29.067920  21.153000  \n",
       "std     48.176564  22.610693  \n",
       "min      0.000000   0.000000  \n",
       "25%      0.000000   2.113000  \n",
       "50%     16.907000  18.639000  \n",
       "75%     40.148000  27.279000  \n",
       "max    237.728000  89.962000  \n",
       "\n",
       "[8 rows x 65 columns]"
      ]
     },
     "execution_count": 91,
     "metadata": {},
     "output_type": "execute_result"
    }
   ],
   "source": [
    "non_df.describe()"
   ]
  },
  {
   "cell_type": "code",
   "execution_count": null,
   "metadata": {},
   "outputs": [],
   "source": [
    "stophere"
   ]
  },
  {
   "cell_type": "markdown",
   "metadata": {},
   "source": [
    "----"
   ]
  },
  {
   "cell_type": "code",
   "execution_count": 351,
   "metadata": {},
   "outputs": [
    {
     "name": "stdout",
     "output_type": "stream",
     "text": [
      "Loaded 24711 rows and 75 columns to coca-cola-data-lake.predictive_order.high_traffic_clusters_istanbul\n"
     ]
    }
   ],
   "source": [
    "# bigquery'e tabloyu ekleme\n",
    "# Database Connection\n",
    "from google.cloud import bigquery, bigquery_storage_v1beta1\n",
    "\n",
    "client = bigquery.Client()\n",
    "\n",
    "table_id = \"coca-cola-data-lake.predictive_order.high_traffic_clusters_istanbul\" \n",
    "\n",
    "job_config = bigquery.LoadJobConfig(\n",
    "    schema=[\n",
    "        bigquery.SchemaField(\"outlet_name\", bigquery.enums.SqlTypeNames.STRING),\n",
    "    ],  write_disposition=\"WRITE_TRUNCATE\"\n",
    ")\n",
    "\n",
    "job = client.load_table_from_dataframe(final_df, table_id, job_config=job_config)  \n",
    "job.result()  \n",
    "\n",
    "table = client.get_table(table_id)  \n",
    "print(\"Loaded {} rows and {} columns to {}\".format(table.num_rows, len(table.schema), table_id))"
   ]
  },
  {
   "cell_type": "markdown",
   "metadata": {},
   "source": [
    "#### Save as CSV"
   ]
  },
  {
   "cell_type": "code",
   "execution_count": 358,
   "metadata": {},
   "outputs": [],
   "source": [
    "csv_df = final_df.copy()"
   ]
  },
  {
   "cell_type": "code",
   "execution_count": 359,
   "metadata": {},
   "outputs": [],
   "source": [
    "csv_df = csv_df.rename({\"hrc_preds\": \"high_traffic\"}, axis=1)\n",
    "csv_df = csv_df.drop(\"k_means_preds\", axis=1)"
   ]
  },
  {
   "cell_type": "code",
   "execution_count": 369,
   "metadata": {},
   "outputs": [],
   "source": [
    "csv_df.to_csv(\"istanbul_high_traffic.csv\")"
   ]
  },
  {
   "cell_type": "markdown",
   "metadata": {},
   "source": [
    "### Save Model"
   ]
  },
  {
   "cell_type": "code",
   "execution_count": 370,
   "metadata": {},
   "outputs": [],
   "source": [
    "import pickle\n",
    "\n",
    "# It is important to use binary access\n",
    "with open('hrc_model.pickle', 'wb') as f:\n",
    "    pickle.dump(hrc_model, f)"
   ]
  }
 ],
 "metadata": {
  "environment": {
   "name": "tf2-gpu.2-1.m46",
   "type": "gcloud",
   "uri": "gcr.io/deeplearning-platform-release/tf2-gpu.2-1:m46"
  },
  "kernelspec": {
   "display_name": "Python 3",
   "language": "python",
   "name": "python3"
  },
  "language_info": {
   "codemirror_mode": {
    "name": "ipython",
    "version": 3
   },
   "file_extension": ".py",
   "mimetype": "text/x-python",
   "name": "python",
   "nbconvert_exporter": "python",
   "pygments_lexer": "ipython3",
   "version": "3.7.6"
  }
 },
 "nbformat": 4,
 "nbformat_minor": 4
}
