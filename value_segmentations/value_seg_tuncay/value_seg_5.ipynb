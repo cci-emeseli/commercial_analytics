{
 "cells": [
  {
   "cell_type": "code",
   "execution_count": 1,
   "metadata": {},
   "outputs": [],
   "source": [
    "import os\n",
    "\n",
    "import numpy as np\n",
    "import pandas as pd\n",
    "\n",
    "from google.cloud import bigquery\n",
    "\n",
    "from sklearn.cluster import KMeans, DBSCAN, AffinityPropagation, Birch, MeanShift, AgglomerativeClustering\n",
    "from sklearn.mixture import GaussianMixture\n",
    "from sklearn.metrics import silhouette_score\n",
    "\n",
    "from scipy import stats\n",
    "\n",
    "import matplotlib.pyplot as plt\n",
    "import seaborn as sns\n",
    "import plotly.express as px\n",
    "\n",
    "from sklearn.ensemble import IsolationForest\n",
    "from sklearn.tree import DecisionTreeClassifier\n",
    "from sklearn import tree\n",
    "\n",
    "sns.set_style(\"whitegrid\")\n",
    "# sns.color_palette('bright')\n",
    "sns.set_palette('bright')"
   ]
  },
  {
   "cell_type": "code",
   "execution_count": 2,
   "metadata": {
    "tags": []
   },
   "outputs": [],
   "source": [
    "bq_client = bigquery.Client()"
   ]
  },
  {
   "cell_type": "code",
   "execution_count": 89,
   "metadata": {
    "tags": []
   },
   "outputs": [],
   "source": [
    "sql = \"\"\"\n",
    "select rk.*\n",
    "       , ifnull(d.avg_door_number , 0) as avg_door_number\n",
    "from  `predictive_order.tmp_revenue_kar` rk \n",
    "      left join \n",
    "      (\n",
    "        select d.outlet_number \n",
    "               , avg(d.door_number) as avg_door_number\n",
    "        from  `cooler_modeling_eu.tbl_door_numbers` d \n",
    "        where d._HistoryDate >= '2020-08-01'\n",
    "              and d._HistoryDate < '2021-08-01'\n",
    "              and d.CountryCode = 'TR'\n",
    "        group by d.outlet_number \n",
    "      ) d on d.outlet_number = cast(rk.Outlet_Number as string)\n",
    "\"\"\"\n",
    "\n",
    "data_2 = bq_client.query(query=sql).to_dataframe()"
   ]
  },
  {
   "cell_type": "code",
   "execution_count": 90,
   "metadata": {},
   "outputs": [],
   "source": [
    "data_2 = data_2.set_index('Outlet_Number')"
   ]
  },
  {
   "cell_type": "code",
   "execution_count": 23,
   "metadata": {},
   "outputs": [],
   "source": [
    "data = pd.read_excel('Outlet_Rev_Kar 26.08.21.xlsx', sheet_name='Sheet1')"
   ]
  },
  {
   "cell_type": "code",
   "execution_count": 26,
   "metadata": {},
   "outputs": [],
   "source": [
    "data['Outlet_Number'] = data['Outlet Number'].astype(object)"
   ]
  },
  {
   "cell_type": "code",
   "execution_count": 27,
   "metadata": {},
   "outputs": [
    {
     "data": {
      "text/html": [
       "<div>\n",
       "<style scoped>\n",
       "    .dataframe tbody tr th:only-of-type {\n",
       "        vertical-align: middle;\n",
       "    }\n",
       "\n",
       "    .dataframe tbody tr th {\n",
       "        vertical-align: top;\n",
       "    }\n",
       "\n",
       "    .dataframe thead th {\n",
       "        text-align: right;\n",
       "    }\n",
       "</style>\n",
       "<table border=\"1\" class=\"dataframe\">\n",
       "  <thead>\n",
       "    <tr style=\"text-align: right;\">\n",
       "      <th></th>\n",
       "      <th>Outlet Number</th>\n",
       "      <th>Segment</th>\n",
       "      <th>Revenue</th>\n",
       "      <th>Kar</th>\n",
       "      <th>Kar Oran</th>\n",
       "      <th>Outlet_Number</th>\n",
       "    </tr>\n",
       "  </thead>\n",
       "  <tbody>\n",
       "    <tr>\n",
       "      <th>0</th>\n",
       "      <td>9656148</td>\n",
       "      <td>SILVER</td>\n",
       "      <td>1000.29</td>\n",
       "      <td>316.371830</td>\n",
       "      <td>0.316280</td>\n",
       "      <td>9656148</td>\n",
       "    </tr>\n",
       "    <tr>\n",
       "      <th>1</th>\n",
       "      <td>9067533</td>\n",
       "      <td>BRONZE</td>\n",
       "      <td>1000.83</td>\n",
       "      <td>241.918171</td>\n",
       "      <td>0.241718</td>\n",
       "      <td>9067533</td>\n",
       "    </tr>\n",
       "    <tr>\n",
       "      <th>2</th>\n",
       "      <td>9665097</td>\n",
       "      <td>SILVER</td>\n",
       "      <td>1000.94</td>\n",
       "      <td>311.530672</td>\n",
       "      <td>0.311238</td>\n",
       "      <td>9665097</td>\n",
       "    </tr>\n",
       "    <tr>\n",
       "      <th>3</th>\n",
       "      <td>9665169</td>\n",
       "      <td>SILVER</td>\n",
       "      <td>1001.35</td>\n",
       "      <td>316.342787</td>\n",
       "      <td>0.315916</td>\n",
       "      <td>9665169</td>\n",
       "    </tr>\n",
       "    <tr>\n",
       "      <th>4</th>\n",
       "      <td>9170641</td>\n",
       "      <td>BRONZE</td>\n",
       "      <td>1001.38</td>\n",
       "      <td>341.121081</td>\n",
       "      <td>0.340651</td>\n",
       "      <td>9170641</td>\n",
       "    </tr>\n",
       "  </tbody>\n",
       "</table>\n",
       "</div>"
      ],
      "text/plain": [
       "   Outlet Number Segment  Revenue         Kar  Kar Oran Outlet_Number\n",
       "0        9656148  SILVER  1000.29  316.371830  0.316280       9656148\n",
       "1        9067533  BRONZE  1000.83  241.918171  0.241718       9067533\n",
       "2        9665097  SILVER  1000.94  311.530672  0.311238       9665097\n",
       "3        9665169  SILVER  1001.35  316.342787  0.315916       9665169\n",
       "4        9170641  BRONZE  1001.38  341.121081  0.340651       9170641"
      ]
     },
     "execution_count": 27,
     "metadata": {},
     "output_type": "execute_result"
    }
   ],
   "source": [
    "data.head()"
   ]
  },
  {
   "cell_type": "code",
   "execution_count": 28,
   "metadata": {},
   "outputs": [],
   "source": [
    "data = data.drop('Outlet Number', axis=1)"
   ]
  },
  {
   "cell_type": "code",
   "execution_count": 29,
   "metadata": {},
   "outputs": [
    {
     "data": {
      "text/html": [
       "<div>\n",
       "<style scoped>\n",
       "    .dataframe tbody tr th:only-of-type {\n",
       "        vertical-align: middle;\n",
       "    }\n",
       "\n",
       "    .dataframe tbody tr th {\n",
       "        vertical-align: top;\n",
       "    }\n",
       "\n",
       "    .dataframe thead th {\n",
       "        text-align: right;\n",
       "    }\n",
       "</style>\n",
       "<table border=\"1\" class=\"dataframe\">\n",
       "  <thead>\n",
       "    <tr style=\"text-align: right;\">\n",
       "      <th></th>\n",
       "      <th>Revenue</th>\n",
       "      <th>Kar</th>\n",
       "      <th>Kar Oran</th>\n",
       "    </tr>\n",
       "  </thead>\n",
       "  <tbody>\n",
       "    <tr>\n",
       "      <th>count</th>\n",
       "      <td>153661.000000</td>\n",
       "      <td>153661.000000</td>\n",
       "      <td>153661.000000</td>\n",
       "    </tr>\n",
       "    <tr>\n",
       "      <th>mean</th>\n",
       "      <td>25096.534663</td>\n",
       "      <td>7078.256032</td>\n",
       "      <td>0.281281</td>\n",
       "    </tr>\n",
       "    <tr>\n",
       "      <th>std</th>\n",
       "      <td>28885.565549</td>\n",
       "      <td>8157.111236</td>\n",
       "      <td>0.030567</td>\n",
       "    </tr>\n",
       "    <tr>\n",
       "      <th>min</th>\n",
       "      <td>1000.290000</td>\n",
       "      <td>4.247213</td>\n",
       "      <td>0.001158</td>\n",
       "    </tr>\n",
       "    <tr>\n",
       "      <th>25%</th>\n",
       "      <td>9285.650000</td>\n",
       "      <td>2567.259839</td>\n",
       "      <td>0.263271</td>\n",
       "    </tr>\n",
       "    <tr>\n",
       "      <th>50%</th>\n",
       "      <td>17466.680000</td>\n",
       "      <td>4873.684065</td>\n",
       "      <td>0.281924</td>\n",
       "    </tr>\n",
       "    <tr>\n",
       "      <th>75%</th>\n",
       "      <td>30977.950000</td>\n",
       "      <td>8749.248682</td>\n",
       "      <td>0.299669</td>\n",
       "    </tr>\n",
       "    <tr>\n",
       "      <th>max</th>\n",
       "      <td>498655.080000</td>\n",
       "      <td>167145.891553</td>\n",
       "      <td>0.541565</td>\n",
       "    </tr>\n",
       "  </tbody>\n",
       "</table>\n",
       "</div>"
      ],
      "text/plain": [
       "             Revenue            Kar       Kar Oran\n",
       "count  153661.000000  153661.000000  153661.000000\n",
       "mean    25096.534663    7078.256032       0.281281\n",
       "std     28885.565549    8157.111236       0.030567\n",
       "min      1000.290000       4.247213       0.001158\n",
       "25%      9285.650000    2567.259839       0.263271\n",
       "50%     17466.680000    4873.684065       0.281924\n",
       "75%     30977.950000    8749.248682       0.299669\n",
       "max    498655.080000  167145.891553       0.541565"
      ]
     },
     "execution_count": 29,
     "metadata": {},
     "output_type": "execute_result"
    }
   ],
   "source": [
    "data.describe()"
   ]
  },
  {
   "cell_type": "code",
   "execution_count": 30,
   "metadata": {
    "collapsed": true,
    "jupyter": {
     "outputs_hidden": true
    },
    "tags": []
   },
   "outputs": [
    {
     "data": {
      "text/html": [
       "<div>\n",
       "<style scoped>\n",
       "    .dataframe tbody tr th:only-of-type {\n",
       "        vertical-align: middle;\n",
       "    }\n",
       "\n",
       "    .dataframe tbody tr th {\n",
       "        vertical-align: top;\n",
       "    }\n",
       "\n",
       "    .dataframe thead th {\n",
       "        text-align: right;\n",
       "    }\n",
       "</style>\n",
       "<table border=\"1\" class=\"dataframe\">\n",
       "  <thead>\n",
       "    <tr style=\"text-align: right;\">\n",
       "      <th></th>\n",
       "      <th>Segment</th>\n",
       "      <th>Revenue</th>\n",
       "      <th>Kar</th>\n",
       "      <th>Kar Oran</th>\n",
       "      <th>Outlet_Number</th>\n",
       "    </tr>\n",
       "  </thead>\n",
       "  <tbody>\n",
       "    <tr>\n",
       "      <th>0</th>\n",
       "      <td>SILVER</td>\n",
       "      <td>1000.29</td>\n",
       "      <td>316.371830</td>\n",
       "      <td>0.316280</td>\n",
       "      <td>9656148</td>\n",
       "    </tr>\n",
       "    <tr>\n",
       "      <th>1</th>\n",
       "      <td>BRONZE</td>\n",
       "      <td>1000.83</td>\n",
       "      <td>241.918171</td>\n",
       "      <td>0.241718</td>\n",
       "      <td>9067533</td>\n",
       "    </tr>\n",
       "    <tr>\n",
       "      <th>2</th>\n",
       "      <td>SILVER</td>\n",
       "      <td>1000.94</td>\n",
       "      <td>311.530672</td>\n",
       "      <td>0.311238</td>\n",
       "      <td>9665097</td>\n",
       "    </tr>\n",
       "    <tr>\n",
       "      <th>3</th>\n",
       "      <td>SILVER</td>\n",
       "      <td>1001.35</td>\n",
       "      <td>316.342787</td>\n",
       "      <td>0.315916</td>\n",
       "      <td>9665169</td>\n",
       "    </tr>\n",
       "    <tr>\n",
       "      <th>4</th>\n",
       "      <td>BRONZE</td>\n",
       "      <td>1001.38</td>\n",
       "      <td>341.121081</td>\n",
       "      <td>0.340651</td>\n",
       "      <td>9170641</td>\n",
       "    </tr>\n",
       "  </tbody>\n",
       "</table>\n",
       "</div>"
      ],
      "text/plain": [
       "  Segment  Revenue         Kar  Kar Oran Outlet_Number\n",
       "0  SILVER  1000.29  316.371830  0.316280       9656148\n",
       "1  BRONZE  1000.83  241.918171  0.241718       9067533\n",
       "2  SILVER  1000.94  311.530672  0.311238       9665097\n",
       "3  SILVER  1001.35  316.342787  0.315916       9665169\n",
       "4  BRONZE  1001.38  341.121081  0.340651       9170641"
      ]
     },
     "execution_count": 30,
     "metadata": {},
     "output_type": "execute_result"
    }
   ],
   "source": [
    "data.head()"
   ]
  },
  {
   "cell_type": "code",
   "execution_count": 31,
   "metadata": {},
   "outputs": [],
   "source": [
    "## set. index Outlet Number\n",
    "\n",
    "data = data.set_index('Outlet_Number')"
   ]
  },
  {
   "cell_type": "markdown",
   "metadata": {},
   "source": [
    "---\n",
    "\n",
    "## Revenue Cluster"
   ]
  },
  {
   "cell_type": "code",
   "execution_count": 32,
   "metadata": {},
   "outputs": [
    {
     "data": {
      "text/html": [
       "<div>\n",
       "<style scoped>\n",
       "    .dataframe tbody tr th:only-of-type {\n",
       "        vertical-align: middle;\n",
       "    }\n",
       "\n",
       "    .dataframe tbody tr th {\n",
       "        vertical-align: top;\n",
       "    }\n",
       "\n",
       "    .dataframe thead th {\n",
       "        text-align: right;\n",
       "    }\n",
       "</style>\n",
       "<table border=\"1\" class=\"dataframe\">\n",
       "  <thead>\n",
       "    <tr style=\"text-align: right;\">\n",
       "      <th></th>\n",
       "      <th>Segment</th>\n",
       "      <th>Revenue</th>\n",
       "      <th>Kar</th>\n",
       "      <th>Kar Oran</th>\n",
       "    </tr>\n",
       "    <tr>\n",
       "      <th>Outlet_Number</th>\n",
       "      <th></th>\n",
       "      <th></th>\n",
       "      <th></th>\n",
       "      <th></th>\n",
       "    </tr>\n",
       "  </thead>\n",
       "  <tbody>\n",
       "    <tr>\n",
       "      <th>9656148</th>\n",
       "      <td>SILVER</td>\n",
       "      <td>1000.29</td>\n",
       "      <td>316.371830</td>\n",
       "      <td>0.316280</td>\n",
       "    </tr>\n",
       "    <tr>\n",
       "      <th>9067533</th>\n",
       "      <td>BRONZE</td>\n",
       "      <td>1000.83</td>\n",
       "      <td>241.918171</td>\n",
       "      <td>0.241718</td>\n",
       "    </tr>\n",
       "    <tr>\n",
       "      <th>9665097</th>\n",
       "      <td>SILVER</td>\n",
       "      <td>1000.94</td>\n",
       "      <td>311.530672</td>\n",
       "      <td>0.311238</td>\n",
       "    </tr>\n",
       "    <tr>\n",
       "      <th>9665169</th>\n",
       "      <td>SILVER</td>\n",
       "      <td>1001.35</td>\n",
       "      <td>316.342787</td>\n",
       "      <td>0.315916</td>\n",
       "    </tr>\n",
       "    <tr>\n",
       "      <th>9170641</th>\n",
       "      <td>BRONZE</td>\n",
       "      <td>1001.38</td>\n",
       "      <td>341.121081</td>\n",
       "      <td>0.340651</td>\n",
       "    </tr>\n",
       "  </tbody>\n",
       "</table>\n",
       "</div>"
      ],
      "text/plain": [
       "              Segment  Revenue         Kar  Kar Oran\n",
       "Outlet_Number                                       \n",
       "9656148        SILVER  1000.29  316.371830  0.316280\n",
       "9067533        BRONZE  1000.83  241.918171  0.241718\n",
       "9665097        SILVER  1000.94  311.530672  0.311238\n",
       "9665169        SILVER  1001.35  316.342787  0.315916\n",
       "9170641        BRONZE  1001.38  341.121081  0.340651"
      ]
     },
     "execution_count": 32,
     "metadata": {},
     "output_type": "execute_result"
    }
   ],
   "source": [
    "data.head()"
   ]
  },
  {
   "cell_type": "code",
   "execution_count": 33,
   "metadata": {},
   "outputs": [],
   "source": [
    "data['log_revenue'] = np.log(data['Revenue'])\n",
    "data['log_kar'] = np.log(data['Kar'])"
   ]
  },
  {
   "cell_type": "code",
   "execution_count": 34,
   "metadata": {},
   "outputs": [
    {
     "data": {
      "text/plain": [
       "<seaborn.axisgrid.FacetGrid at 0x7fc073813040>"
      ]
     },
     "execution_count": 34,
     "metadata": {},
     "output_type": "execute_result"
    },
    {
     "data": {
      "image/png": "[encoded data removed]",
      "text/plain": [
       "<Figure size 360x360 with 1 Axes>"
      ]
     },
     "metadata": {},
     "output_type": "display_data"
    }
   ],
   "source": [
    "sns.displot(data['Revenue'])"
   ]
  },
  {
   "cell_type": "code",
   "execution_count": 35,
   "metadata": {},
   "outputs": [
    {
     "data": {
      "text/plain": [
       "<seaborn.axisgrid.FacetGrid at 0x7fc07400fa30>"
      ]
     },
     "execution_count": 35,
     "metadata": {},
     "output_type": "execute_result"
    },
    {
     "data": {
      "image/png": "[encoded data removed]",
      "text/plain": [
       "<Figure size 360x360 with 1 Axes>"
      ]
     },
     "metadata": {},
     "output_type": "display_data"
    }
   ],
   "source": [
    "sns.displot(data['log_revenue'])"
   ]
  },
  {
   "cell_type": "code",
   "execution_count": 53,
   "metadata": {},
   "outputs": [],
   "source": [
    "rev_model_data = data['log_revenue']"
   ]
  },
  {
   "cell_type": "code",
   "execution_count": 43,
   "metadata": {},
   "outputs": [
    {
     "data": {
      "image/png": "[encoded data removed]",
      "text/plain": [
       "<Figure size 432x288 with 1 Axes>"
      ]
     },
     "metadata": {},
     "output_type": "display_data"
    }
   ],
   "source": [
    "Sum_of_squared_distances = []\n",
    "K = range(1,10)\n",
    "for num_clusters in K :\n",
    "    kmeans = KMeans(n_clusters=num_clusters, random_state=42)\n",
    "    kmeans.fit(rev_model_data.values.reshape(-1, 1))\n",
    "    Sum_of_squared_distances.append(kmeans.inertia_)\n",
    "plt.plot(K,Sum_of_squared_distances,'bx-')\n",
    "plt.xlabel('Values of K') \n",
    "plt.ylabel('Sum of squared distances/Inertia') \n",
    "plt.title('Elbow Method For Optimal k')\n",
    "plt.show()"
   ]
  },
  {
   "cell_type": "code",
   "execution_count": null,
   "metadata": {},
   "outputs": [],
   "source": [
    "model_rev = KMeans(n_clusters=4, random_state=42, max_iter=1000000, init='k-means++')\n",
    "model_rev.fit(rev_model_data.values.reshape(-1, 1))\n",
    "preds = model_rev.predict(rev_model_data.values.reshape(-1, 1))\n",
    "\n",
    "rev_model_data = pd.concat([rev_model_data\n",
    "                            , pd.DataFrame({'preds':preds}\n",
    "                                           , index=rev_model_data.index)], axis=1)\n",
    "\n",
    "result_1 = pd.merge(rev_model_data, data[['Segment', 'log_kar']], how='inner', left_index=True, right_index=True)\n",
    "result_1['preds'] = result_1['preds'].astype('category')\n",
    "# plt.figure(figsize=(15, 15))\n",
    "sns.scatterplot(data=result_1.reset_index(), hue='preds', y='log_revenue', x='log_kar')\n",
    "plt.title('Model 1 - Revenue')\n",
    "plt.show()"
   ]
  },
  {
   "cell_type": "code",
   "execution_count": 55,
   "metadata": {},
   "outputs": [],
   "source": [
    "result_1['org_revenue'] = np.exp(result_1['log_revenue'])\n",
    "result_1['org_kar'] = np.exp(result_1['log_kar'])"
   ]
  },
  {
   "cell_type": "code",
   "execution_count": 56,
   "metadata": {},
   "outputs": [
    {
     "data": {
      "text/plain": [
       "3    56326\n",
       "2    48391\n",
       "0    27406\n",
       "1    21538\n",
       "Name: preds, dtype: int64"
      ]
     },
     "execution_count": 56,
     "metadata": {},
     "output_type": "execute_result"
    }
   ],
   "source": [
    "result_1['preds'].value_counts()"
   ]
  },
  {
   "cell_type": "code",
   "execution_count": 57,
   "metadata": {},
   "outputs": [
    {
     "data": {
      "image/png": "[encoded data removed]",
      "text/plain": [
       "<Figure size 432x288 with 1 Axes>"
      ]
     },
     "metadata": {},
     "output_type": "display_data"
    }
   ],
   "source": [
    "sns.scatterplot(data=result_1.reset_index(), hue='preds', y='org_revenue', x='org_kar')\n",
    "plt.title('Model 1 - Revenue')\n",
    "plt.show()"
   ]
  },
  {
   "cell_type": "code",
   "execution_count": 58,
   "metadata": {},
   "outputs": [
    {
     "data": {
      "image/png": "[encoded data removed]",
      "text/plain": [
       "<Figure size 432x288 with 1 Axes>"
      ]
     },
     "metadata": {},
     "output_type": "display_data"
    }
   ],
   "source": [
    "msk = result_1['preds'] != 0\n",
    "sns.scatterplot(data=result_1[msk].reset_index(), hue='preds', y='org_revenue', x='org_kar')\n",
    "plt.title('Model 1 - Revenue')\n",
    "plt.show()"
   ]
  },
  {
   "cell_type": "code",
   "execution_count": 59,
   "metadata": {},
   "outputs": [],
   "source": [
    "result_1['rank'] = result_1['preds'].apply(lambda x: \n",
    "                                           0 if x==1 # orange\n",
    "                                           else 1 if x==2 # green\n",
    "                                           else 2 if x==3 # red\n",
    "                                           else 3\n",
    "                                          )"
   ]
  },
  {
   "cell_type": "code",
   "execution_count": 67,
   "metadata": {},
   "outputs": [
    {
     "data": {
      "text/plain": [
       "2    56326\n",
       "1    48391\n",
       "3    27406\n",
       "0    21538\n",
       "Name: rank, dtype: int64"
      ]
     },
     "execution_count": 67,
     "metadata": {},
     "output_type": "execute_result"
    }
   ],
   "source": [
    "result_1['rank'].value_counts()"
   ]
  },
  {
   "cell_type": "code",
   "execution_count": 60,
   "metadata": {},
   "outputs": [
    {
     "name": "stdout",
     "output_type": "stream",
     "text": [
      "|--- feature_0 <= 15807.64\n",
      "|   |--- feature_0 <= 6170.53\n",
      "|   |   |--- class: 0\n",
      "|   |--- feature_0 >  6170.53\n",
      "|   |   |--- class: 1\n",
      "|--- feature_0 >  15807.64\n",
      "|   |--- feature_0 <= 38020.66\n",
      "|   |   |--- class: 2\n",
      "|   |--- feature_0 >  38020.66\n",
      "|   |   |--- class: 3\n",
      "\n"
     ]
    }
   ],
   "source": [
    "clf = DecisionTreeClassifier(random_state=42)\n",
    "clf.fit(result_1['org_revenue'].values.reshape(-1,1), result_1['rank'])\n",
    "clf_preds = clf.predict(result_1['org_revenue'].values.reshape(-1,1))\n",
    "clf_text = tree.export_text(clf)<\n",
    "print(clf_text)"
   ]
  },
  {
   "cell_type": "code",
   "execution_count": 61,
   "metadata": {},
   "outputs": [
    {
     "data": {
      "image/png": "[encoded data removed]",
      "text/plain": [
       "<Figure size 720x720 with 1 Axes>"
      ]
     },
     "metadata": {},
     "output_type": "display_data"
    }
   ],
   "source": [
    "fig = plt.figure(figsize=(10, 10))\n",
    "\n",
    "_ = tree.plot_tree(clf\n",
    "                 , feature_names=['Revenue']\n",
    "                 , filled=True)"
   ]
  },
  {
   "cell_type": "code",
   "execution_count": 62,
   "metadata": {},
   "outputs": [
    {
     "name": "stdout",
     "output_type": "stream",
     "text": [
      "rank         0      1      2      3\n",
      "Segment                            \n",
      "BRONZE   11384  19116   1517     98\n",
      "GOLD        25    167   2445  17873\n",
      "SILVER   10129  29108  52364   9435\n"
     ]
    },
    {
     "data": {
      "image/png": "[encoded data removed]",
      "text/plain": [
       "<Figure size 432x288 with 2 Axes>"
      ]
     },
     "metadata": {},
     "output_type": "display_data"
    }
   ],
   "source": [
    "d1 = pd.pivot_table(data=result_1.reset_index()\n",
    "              , index='Segment'\n",
    "              , columns='rank'\n",
    "              , values='Outlet_Number'\n",
    "              , aggfunc=np.size, sort=True\n",
    "              , fill_value=0).sort_index()\n",
    "\n",
    "d1 = d1[sorted(d1.columns)]\n",
    "print(d1)\n",
    "sns.heatmap(\n",
    "            d1\n",
    "            , center=0\n",
    "    \n",
    ").set_title('Model')\n",
    "\n",
    "plt.show()"
   ]
  },
  {
   "cell_type": "code",
   "execution_count": 88,
   "metadata": {
    "tags": []
   },
   "outputs": [
    {
     "name": "stdout",
     "output_type": "stream",
     "text": [
      "rank             0      1      2      3\n",
      "new_segment                            \n",
      "Bronze       21538  28444      0      0\n",
      "Gold             0      0      0  21538\n",
      "Silver           0  19947  56326   5868\n"
     ]
    },
    {
     "data": {
      "image/png": "[encoded data removed]",
      "text/plain": [
       "<Figure size 432x288 with 2 Axes>"
      ]
     },
     "metadata": {},
     "output_type": "display_data"
    }
   ],
   "source": [
    "d1 = pd.pivot_table(data=result_2.reset_index()\n",
    "              , index='new_segment'\n",
    "              , columns='rank'\n",
    "              , values='Outlet_Number'\n",
    "              , aggfunc=np.size, sort=True\n",
    "              , fill_value=0).sort_index()\n",
    "\n",
    "d1 = d1[sorted(d1.columns)]\n",
    "print(d1)\n",
    "sns.heatmap(\n",
    "            d1\n",
    "            , center=0\n",
    "    \n",
    ").set_title('Model')\n",
    "\n",
    "plt.show()"
   ]
  },
  {
   "cell_type": "code",
   "execution_count": 70,
   "metadata": {
    "tags": []
   },
   "outputs": [
    {
     "data": {
      "text/plain": [
       "2    56326\n",
       "1    48391\n",
       "3    27406\n",
       "0    21538\n",
       "Name: rank, dtype: int64"
      ]
     },
     "execution_count": 70,
     "metadata": {},
     "output_type": "execute_result"
    }
   ],
   "source": [
    "result_1['rank'].value_counts()"
   ]
  },
  {
   "cell_type": "code",
   "execution_count": 68,
   "metadata": {
    "tags": []
   },
   "outputs": [
    {
     "data": {
      "text/html": [
       "<div>\n",
       "<style scoped>\n",
       "    .dataframe tbody tr th:only-of-type {\n",
       "        vertical-align: middle;\n",
       "    }\n",
       "\n",
       "    .dataframe tbody tr th {\n",
       "        vertical-align: top;\n",
       "    }\n",
       "\n",
       "    .dataframe thead th {\n",
       "        text-align: right;\n",
       "    }\n",
       "</style>\n",
       "<table border=\"1\" class=\"dataframe\">\n",
       "  <thead>\n",
       "    <tr style=\"text-align: right;\">\n",
       "      <th></th>\n",
       "      <th>log_revenue</th>\n",
       "      <th>preds</th>\n",
       "      <th>Segment</th>\n",
       "      <th>log_kar</th>\n",
       "      <th>org_revenue</th>\n",
       "      <th>org_kar</th>\n",
       "      <th>rank</th>\n",
       "    </tr>\n",
       "    <tr>\n",
       "      <th>Outlet_Number</th>\n",
       "      <th></th>\n",
       "      <th></th>\n",
       "      <th></th>\n",
       "      <th></th>\n",
       "      <th></th>\n",
       "      <th></th>\n",
       "      <th></th>\n",
       "    </tr>\n",
       "  </thead>\n",
       "  <tbody>\n",
       "    <tr>\n",
       "      <th>9656148</th>\n",
       "      <td>6.908045</td>\n",
       "      <td>1</td>\n",
       "      <td>SILVER</td>\n",
       "      <td>5.756918</td>\n",
       "      <td>1000.29</td>\n",
       "      <td>316.371830</td>\n",
       "      <td>0</td>\n",
       "    </tr>\n",
       "    <tr>\n",
       "      <th>9067533</th>\n",
       "      <td>6.908585</td>\n",
       "      <td>1</td>\n",
       "      <td>BRONZE</td>\n",
       "      <td>5.488600</td>\n",
       "      <td>1000.83</td>\n",
       "      <td>241.918171</td>\n",
       "      <td>0</td>\n",
       "    </tr>\n",
       "    <tr>\n",
       "      <th>9665097</th>\n",
       "      <td>6.908695</td>\n",
       "      <td>1</td>\n",
       "      <td>SILVER</td>\n",
       "      <td>5.741498</td>\n",
       "      <td>1000.94</td>\n",
       "      <td>311.530672</td>\n",
       "      <td>0</td>\n",
       "    </tr>\n",
       "    <tr>\n",
       "      <th>9665169</th>\n",
       "      <td>6.909104</td>\n",
       "      <td>1</td>\n",
       "      <td>SILVER</td>\n",
       "      <td>5.756826</td>\n",
       "      <td>1001.35</td>\n",
       "      <td>316.342787</td>\n",
       "      <td>0</td>\n",
       "    </tr>\n",
       "    <tr>\n",
       "      <th>9170641</th>\n",
       "      <td>6.909134</td>\n",
       "      <td>1</td>\n",
       "      <td>BRONZE</td>\n",
       "      <td>5.832237</td>\n",
       "      <td>1001.38</td>\n",
       "      <td>341.121081</td>\n",
       "      <td>0</td>\n",
       "    </tr>\n",
       "  </tbody>\n",
       "</table>\n",
       "</div>"
      ],
      "text/plain": [
       "               log_revenue preds Segment   log_kar  org_revenue     org_kar  \\\n",
       "Outlet_Number                                                                 \n",
       "9656148           6.908045     1  SILVER  5.756918      1000.29  316.371830   \n",
       "9067533           6.908585     1  BRONZE  5.488600      1000.83  241.918171   \n",
       "9665097           6.908695     1  SILVER  5.741498      1000.94  311.530672   \n",
       "9665169           6.909104     1  SILVER  5.756826      1001.35  316.342787   \n",
       "9170641           6.909134     1  BRONZE  5.832237      1001.38  341.121081   \n",
       "\n",
       "              rank  \n",
       "Outlet_Number       \n",
       "9656148          0  \n",
       "9067533          0  \n",
       "9665097          0  \n",
       "9665169          0  \n",
       "9170641          0  "
      ]
     },
     "execution_count": 68,
     "metadata": {},
     "output_type": "execute_result"
    }
   ],
   "source": [
    "result_1.head()"
   ]
  },
  {
   "cell_type": "code",
   "execution_count": 76,
   "metadata": {
    "tags": []
   },
   "outputs": [],
   "source": [
    "data['new_segment'] = data['Revenue'].apply(lambda x: 'Bronze' if (x >= 0 and x< 11520)\n",
    "                                           else 'Silver' if (x>=11520) and (x<43200)\n",
    "                                           else 'Gold')"
   ]
  },
  {
   "cell_type": "code",
   "execution_count": 85,
   "metadata": {},
   "outputs": [
    {
     "data": {
      "text/html": [
       "<div>\n",
       "<style scoped>\n",
       "    .dataframe tbody tr th:only-of-type {\n",
       "        vertical-align: middle;\n",
       "    }\n",
       "\n",
       "    .dataframe tbody tr th {\n",
       "        vertical-align: top;\n",
       "    }\n",
       "\n",
       "    .dataframe thead th {\n",
       "        text-align: right;\n",
       "    }\n",
       "</style>\n",
       "<table border=\"1\" class=\"dataframe\">\n",
       "  <thead>\n",
       "    <tr style=\"text-align: right;\">\n",
       "      <th></th>\n",
       "      <th>log_revenue</th>\n",
       "      <th>preds</th>\n",
       "      <th>Segment</th>\n",
       "      <th>log_kar</th>\n",
       "      <th>org_revenue</th>\n",
       "      <th>org_kar</th>\n",
       "      <th>rank</th>\n",
       "    </tr>\n",
       "    <tr>\n",
       "      <th>Outlet_Number</th>\n",
       "      <th></th>\n",
       "      <th></th>\n",
       "      <th></th>\n",
       "      <th></th>\n",
       "      <th></th>\n",
       "      <th></th>\n",
       "      <th></th>\n",
       "    </tr>\n",
       "  </thead>\n",
       "  <tbody>\n",
       "    <tr>\n",
       "      <th>9656148</th>\n",
       "      <td>6.908045</td>\n",
       "      <td>1</td>\n",
       "      <td>SILVER</td>\n",
       "      <td>5.756918</td>\n",
       "      <td>1000.29</td>\n",
       "      <td>316.371830</td>\n",
       "      <td>0</td>\n",
       "    </tr>\n",
       "    <tr>\n",
       "      <th>9067533</th>\n",
       "      <td>6.908585</td>\n",
       "      <td>1</td>\n",
       "      <td>BRONZE</td>\n",
       "      <td>5.488600</td>\n",
       "      <td>1000.83</td>\n",
       "      <td>241.918171</td>\n",
       "      <td>0</td>\n",
       "    </tr>\n",
       "    <tr>\n",
       "      <th>9665097</th>\n",
       "      <td>6.908695</td>\n",
       "      <td>1</td>\n",
       "      <td>SILVER</td>\n",
       "      <td>5.741498</td>\n",
       "      <td>1000.94</td>\n",
       "      <td>311.530672</td>\n",
       "      <td>0</td>\n",
       "    </tr>\n",
       "    <tr>\n",
       "      <th>9665169</th>\n",
       "      <td>6.909104</td>\n",
       "      <td>1</td>\n",
       "      <td>SILVER</td>\n",
       "      <td>5.756826</td>\n",
       "      <td>1001.35</td>\n",
       "      <td>316.342787</td>\n",
       "      <td>0</td>\n",
       "    </tr>\n",
       "    <tr>\n",
       "      <th>9170641</th>\n",
       "      <td>6.909134</td>\n",
       "      <td>1</td>\n",
       "      <td>BRONZE</td>\n",
       "      <td>5.832237</td>\n",
       "      <td>1001.38</td>\n",
       "      <td>341.121081</td>\n",
       "      <td>0</td>\n",
       "    </tr>\n",
       "  </tbody>\n",
       "</table>\n",
       "</div>"
      ],
      "text/plain": [
       "               log_revenue preds Segment   log_kar  org_revenue     org_kar  \\\n",
       "Outlet_Number                                                                 \n",
       "9656148           6.908045     1  SILVER  5.756918      1000.29  316.371830   \n",
       "9067533           6.908585     1  BRONZE  5.488600      1000.83  241.918171   \n",
       "9665097           6.908695     1  SILVER  5.741498      1000.94  311.530672   \n",
       "9665169           6.909104     1  SILVER  5.756826      1001.35  316.342787   \n",
       "9170641           6.909134     1  BRONZE  5.832237      1001.38  341.121081   \n",
       "\n",
       "              rank  \n",
       "Outlet_Number       \n",
       "9656148          0  \n",
       "9067533          0  \n",
       "9665097          0  \n",
       "9665169          0  \n",
       "9170641          0  "
      ]
     },
     "execution_count": 85,
     "metadata": {},
     "output_type": "execute_result"
    }
   ],
   "source": [
    "result_1.head()"
   ]
  },
  {
   "cell_type": "code",
   "execution_count": 86,
   "metadata": {},
   "outputs": [],
   "source": [
    "result_2  = pd.merge(result_1, data['new_segment'], left_index=True, right_index=True)"
   ]
  },
  {
   "cell_type": "code",
   "execution_count": 77,
   "metadata": {
    "tags": []
   },
   "outputs": [
    {
     "data": {
      "text/plain": [
       "Silver    82141\n",
       "Bronze    49982\n",
       "Gold      21538\n",
       "Name: new_segment, dtype: int64"
      ]
     },
     "execution_count": 77,
     "metadata": {},
     "output_type": "execute_result"
    }
   ],
   "source": [
    "data['new_segment'].value_counts()"
   ]
  },
  {
   "cell_type": "code",
   "execution_count": 78,
   "metadata": {},
   "outputs": [
    {
     "data": {
      "text/plain": [
       "SILVER    101036\n",
       "BRONZE     32115\n",
       "GOLD       20510\n",
       "Name: Segment, dtype: int64"
      ]
     },
     "execution_count": 78,
     "metadata": {},
     "output_type": "execute_result"
    }
   ],
   "source": [
    "data['Segment'].value_counts()"
   ]
  },
  {
   "cell_type": "code",
   "execution_count": 81,
   "metadata": {},
   "outputs": [
    {
     "data": {
      "text/html": [
       "<div>\n",
       "<style scoped>\n",
       "    .dataframe tbody tr th:only-of-type {\n",
       "        vertical-align: middle;\n",
       "    }\n",
       "\n",
       "    .dataframe tbody tr th {\n",
       "        vertical-align: top;\n",
       "    }\n",
       "\n",
       "    .dataframe thead th {\n",
       "        text-align: right;\n",
       "    }\n",
       "</style>\n",
       "<table border=\"1\" class=\"dataframe\">\n",
       "  <thead>\n",
       "    <tr style=\"text-align: right;\">\n",
       "      <th></th>\n",
       "      <th>rank</th>\n",
       "      <th>org_revenue</th>\n",
       "    </tr>\n",
       "  </thead>\n",
       "  <tbody>\n",
       "    <tr>\n",
       "      <th>0</th>\n",
       "      <td>3</td>\n",
       "      <td>67855.929899</td>\n",
       "    </tr>\n",
       "    <tr>\n",
       "      <th>1</th>\n",
       "      <td>0</td>\n",
       "      <td>3942.247514</td>\n",
       "    </tr>\n",
       "    <tr>\n",
       "      <th>2</th>\n",
       "      <td>1</td>\n",
       "      <td>10785.882141</td>\n",
       "    </tr>\n",
       "    <tr>\n",
       "      <th>3</th>\n",
       "      <td>2</td>\n",
       "      <td>24675.127800</td>\n",
       "    </tr>\n",
       "  </tbody>\n",
       "</table>\n",
       "</div>"
      ],
      "text/plain": [
       "  rank   org_revenue\n",
       "0    3  67855.929899\n",
       "1    0   3942.247514\n",
       "2    1  10785.882141\n",
       "3    2  24675.127800"
      ]
     },
     "execution_count": 81,
     "metadata": {},
     "output_type": "execute_result"
    }
   ],
   "source": [
    "result_1.groupby('rank', as_index=False).agg({'org_revenue':np.mean})"
   ]
  },
  {
   "cell_type": "code",
   "execution_count": 82,
   "metadata": {},
   "outputs": [
    {
     "data": {
      "text/html": [
       "<div>\n",
       "<style scoped>\n",
       "    .dataframe tbody tr th:only-of-type {\n",
       "        vertical-align: middle;\n",
       "    }\n",
       "\n",
       "    .dataframe tbody tr th {\n",
       "        vertical-align: top;\n",
       "    }\n",
       "\n",
       "    .dataframe thead th {\n",
       "        text-align: right;\n",
       "    }\n",
       "</style>\n",
       "<table border=\"1\" class=\"dataframe\">\n",
       "  <thead>\n",
       "    <tr style=\"text-align: right;\">\n",
       "      <th></th>\n",
       "      <th>rank</th>\n",
       "      <th>org_revenue</th>\n",
       "    </tr>\n",
       "  </thead>\n",
       "  <tbody>\n",
       "    <tr>\n",
       "      <th>0</th>\n",
       "      <td>3</td>\n",
       "      <td>53994.795</td>\n",
       "    </tr>\n",
       "    <tr>\n",
       "      <th>1</th>\n",
       "      <td>0</td>\n",
       "      <td>4065.800</td>\n",
       "    </tr>\n",
       "    <tr>\n",
       "      <th>2</th>\n",
       "      <td>1</td>\n",
       "      <td>10682.950</td>\n",
       "    </tr>\n",
       "    <tr>\n",
       "      <th>3</th>\n",
       "      <td>2</td>\n",
       "      <td>23659.020</td>\n",
       "    </tr>\n",
       "  </tbody>\n",
       "</table>\n",
       "</div>"
      ],
      "text/plain": [
       "  rank  org_revenue\n",
       "0    3    53994.795\n",
       "1    0     4065.800\n",
       "2    1    10682.950\n",
       "3    2    23659.020"
      ]
     },
     "execution_count": 82,
     "metadata": {},
     "output_type": "execute_result"
    }
   ],
   "source": [
    "result_1.groupby('rank', as_index=False).agg({'org_revenue':np.median})"
   ]
  },
  {
   "cell_type": "code",
   "execution_count": 83,
   "metadata": {},
   "outputs": [
    {
     "data": {
      "text/html": [
       "<div>\n",
       "<style scoped>\n",
       "    .dataframe tbody tr th:only-of-type {\n",
       "        vertical-align: middle;\n",
       "    }\n",
       "\n",
       "    .dataframe tbody tr th {\n",
       "        vertical-align: top;\n",
       "    }\n",
       "\n",
       "    .dataframe thead th {\n",
       "        text-align: right;\n",
       "    }\n",
       "</style>\n",
       "<table border=\"1\" class=\"dataframe\">\n",
       "  <thead>\n",
       "    <tr style=\"text-align: right;\">\n",
       "      <th></th>\n",
       "      <th>rank</th>\n",
       "      <th>org_revenue</th>\n",
       "    </tr>\n",
       "  </thead>\n",
       "  <tbody>\n",
       "    <tr>\n",
       "      <th>0</th>\n",
       "      <td>3</td>\n",
       "      <td>38022.87</td>\n",
       "    </tr>\n",
       "    <tr>\n",
       "      <th>1</th>\n",
       "      <td>0</td>\n",
       "      <td>1000.29</td>\n",
       "    </tr>\n",
       "    <tr>\n",
       "      <th>2</th>\n",
       "      <td>1</td>\n",
       "      <td>6170.68</td>\n",
       "    </tr>\n",
       "    <tr>\n",
       "      <th>3</th>\n",
       "      <td>2</td>\n",
       "      <td>15808.00</td>\n",
       "    </tr>\n",
       "  </tbody>\n",
       "</table>\n",
       "</div>"
      ],
      "text/plain": [
       "  rank  org_revenue\n",
       "0    3     38022.87\n",
       "1    0      1000.29\n",
       "2    1      6170.68\n",
       "3    2     15808.00"
      ]
     },
     "execution_count": 83,
     "metadata": {},
     "output_type": "execute_result"
    }
   ],
   "source": [
    "result_1.groupby('rank', as_index=False).agg({'org_revenue':np.min})"
   ]
  },
  {
   "cell_type": "code",
   "execution_count": 84,
   "metadata": {},
   "outputs": [
    {
     "data": {
      "text/html": [
       "<div>\n",
       "<style scoped>\n",
       "    .dataframe tbody tr th:only-of-type {\n",
       "        vertical-align: middle;\n",
       "    }\n",
       "\n",
       "    .dataframe tbody tr th {\n",
       "        vertical-align: top;\n",
       "    }\n",
       "\n",
       "    .dataframe thead th {\n",
       "        text-align: right;\n",
       "    }\n",
       "</style>\n",
       "<table border=\"1\" class=\"dataframe\">\n",
       "  <thead>\n",
       "    <tr style=\"text-align: right;\">\n",
       "      <th></th>\n",
       "      <th>rank</th>\n",
       "      <th>org_revenue</th>\n",
       "    </tr>\n",
       "  </thead>\n",
       "  <tbody>\n",
       "    <tr>\n",
       "      <th>0</th>\n",
       "      <td>3</td>\n",
       "      <td>498655.08</td>\n",
       "    </tr>\n",
       "    <tr>\n",
       "      <th>1</th>\n",
       "      <td>0</td>\n",
       "      <td>6170.37</td>\n",
       "    </tr>\n",
       "    <tr>\n",
       "      <th>2</th>\n",
       "      <td>1</td>\n",
       "      <td>15807.28</td>\n",
       "    </tr>\n",
       "    <tr>\n",
       "      <th>3</th>\n",
       "      <td>2</td>\n",
       "      <td>38018.44</td>\n",
       "    </tr>\n",
       "  </tbody>\n",
       "</table>\n",
       "</div>"
      ],
      "text/plain": [
       "  rank  org_revenue\n",
       "0    3    498655.08\n",
       "1    0      6170.37\n",
       "2    1     15807.28\n",
       "3    2     38018.44"
      ]
     },
     "execution_count": 84,
     "metadata": {},
     "output_type": "execute_result"
    }
   ],
   "source": [
    "result_1.groupby('rank', as_index=False).agg({'org_revenue':np.max})"
   ]
  },
  {
   "cell_type": "code",
   "execution_count": 92,
   "metadata": {},
   "outputs": [
    {
     "data": {
      "text/html": [
       "<div>\n",
       "<style scoped>\n",
       "    .dataframe tbody tr th:only-of-type {\n",
       "        vertical-align: middle;\n",
       "    }\n",
       "\n",
       "    .dataframe tbody tr th {\n",
       "        vertical-align: top;\n",
       "    }\n",
       "\n",
       "    .dataframe thead th {\n",
       "        text-align: right;\n",
       "    }\n",
       "</style>\n",
       "<table border=\"1\" class=\"dataframe\">\n",
       "  <thead>\n",
       "    <tr style=\"text-align: right;\">\n",
       "      <th></th>\n",
       "      <th>Segment</th>\n",
       "      <th>Revenue</th>\n",
       "      <th>Kar</th>\n",
       "      <th>avg_door_number</th>\n",
       "    </tr>\n",
       "    <tr>\n",
       "      <th>Outlet_Number</th>\n",
       "      <th></th>\n",
       "      <th></th>\n",
       "      <th></th>\n",
       "      <th></th>\n",
       "    </tr>\n",
       "  </thead>\n",
       "  <tbody>\n",
       "    <tr>\n",
       "      <th>9487995</th>\n",
       "      <td>GOLD</td>\n",
       "      <td>1628.13</td>\n",
       "      <td>494.961584</td>\n",
       "      <td>9.500000</td>\n",
       "    </tr>\n",
       "    <tr>\n",
       "      <th>9090052</th>\n",
       "      <td>GOLD</td>\n",
       "      <td>3085.48</td>\n",
       "      <td>1032.532202</td>\n",
       "      <td>3.833333</td>\n",
       "    </tr>\n",
       "    <tr>\n",
       "      <th>9071313</th>\n",
       "      <td>GOLD</td>\n",
       "      <td>3652.15</td>\n",
       "      <td>966.866751</td>\n",
       "      <td>6.250000</td>\n",
       "    </tr>\n",
       "    <tr>\n",
       "      <th>9412134</th>\n",
       "      <td>GOLD</td>\n",
       "      <td>4539.21</td>\n",
       "      <td>1322.862154</td>\n",
       "      <td>1.333333</td>\n",
       "    </tr>\n",
       "    <tr>\n",
       "      <th>9127967</th>\n",
       "      <td>GOLD</td>\n",
       "      <td>4688.49</td>\n",
       "      <td>1324.087097</td>\n",
       "      <td>5.250000</td>\n",
       "    </tr>\n",
       "  </tbody>\n",
       "</table>\n",
       "</div>"
      ],
      "text/plain": [
       "              Segment  Revenue          Kar  avg_door_number\n",
       "Outlet_Number                                               \n",
       "9487995          GOLD  1628.13   494.961584         9.500000\n",
       "9090052          GOLD  3085.48  1032.532202         3.833333\n",
       "9071313          GOLD  3652.15   966.866751         6.250000\n",
       "9412134          GOLD  4539.21  1322.862154         1.333333\n",
       "9127967          GOLD  4688.49  1324.087097         5.250000"
      ]
     },
     "execution_count": 92,
     "metadata": {},
     "output_type": "execute_result"
    }
   ],
   "source": [
    "data_2.head()"
   ]
  },
  {
   "cell_type": "code",
   "execution_count": 93,
   "metadata": {},
   "outputs": [],
   "source": [
    "result_2 = pd.merge(result_2, data_2['avg_door_number'], left_index=True, right_index=True)"
   ]
  },
  {
   "cell_type": "code",
   "execution_count": 94,
   "metadata": {},
   "outputs": [
    {
     "data": {
      "text/html": [
       "<div>\n",
       "<style scoped>\n",
       "    .dataframe tbody tr th:only-of-type {\n",
       "        vertical-align: middle;\n",
       "    }\n",
       "\n",
       "    .dataframe tbody tr th {\n",
       "        vertical-align: top;\n",
       "    }\n",
       "\n",
       "    .dataframe thead th {\n",
       "        text-align: right;\n",
       "    }\n",
       "</style>\n",
       "<table border=\"1\" class=\"dataframe\">\n",
       "  <thead>\n",
       "    <tr style=\"text-align: right;\">\n",
       "      <th></th>\n",
       "      <th>log_revenue</th>\n",
       "      <th>preds</th>\n",
       "      <th>Segment</th>\n",
       "      <th>log_kar</th>\n",
       "      <th>org_revenue</th>\n",
       "      <th>org_kar</th>\n",
       "      <th>rank</th>\n",
       "      <th>new_segment</th>\n",
       "      <th>avg_door_number</th>\n",
       "    </tr>\n",
       "    <tr>\n",
       "      <th>Outlet_Number</th>\n",
       "      <th></th>\n",
       "      <th></th>\n",
       "      <th></th>\n",
       "      <th></th>\n",
       "      <th></th>\n",
       "      <th></th>\n",
       "      <th></th>\n",
       "      <th></th>\n",
       "      <th></th>\n",
       "    </tr>\n",
       "  </thead>\n",
       "  <tbody>\n",
       "    <tr>\n",
       "      <th>9656148</th>\n",
       "      <td>6.908045</td>\n",
       "      <td>1</td>\n",
       "      <td>SILVER</td>\n",
       "      <td>5.756918</td>\n",
       "      <td>1000.29</td>\n",
       "      <td>316.371830</td>\n",
       "      <td>0</td>\n",
       "      <td>Bronze</td>\n",
       "      <td>7.0</td>\n",
       "    </tr>\n",
       "    <tr>\n",
       "      <th>9067533</th>\n",
       "      <td>6.908585</td>\n",
       "      <td>1</td>\n",
       "      <td>BRONZE</td>\n",
       "      <td>5.488600</td>\n",
       "      <td>1000.83</td>\n",
       "      <td>241.918171</td>\n",
       "      <td>0</td>\n",
       "      <td>Bronze</td>\n",
       "      <td>1.0</td>\n",
       "    </tr>\n",
       "    <tr>\n",
       "      <th>9665097</th>\n",
       "      <td>6.908695</td>\n",
       "      <td>1</td>\n",
       "      <td>SILVER</td>\n",
       "      <td>5.741498</td>\n",
       "      <td>1000.94</td>\n",
       "      <td>311.530672</td>\n",
       "      <td>0</td>\n",
       "      <td>Bronze</td>\n",
       "      <td>0.5</td>\n",
       "    </tr>\n",
       "    <tr>\n",
       "      <th>9665169</th>\n",
       "      <td>6.909104</td>\n",
       "      <td>1</td>\n",
       "      <td>SILVER</td>\n",
       "      <td>5.756826</td>\n",
       "      <td>1001.35</td>\n",
       "      <td>316.342787</td>\n",
       "      <td>0</td>\n",
       "      <td>Bronze</td>\n",
       "      <td>3.5</td>\n",
       "    </tr>\n",
       "    <tr>\n",
       "      <th>9170641</th>\n",
       "      <td>6.909134</td>\n",
       "      <td>1</td>\n",
       "      <td>BRONZE</td>\n",
       "      <td>5.832237</td>\n",
       "      <td>1001.38</td>\n",
       "      <td>341.121081</td>\n",
       "      <td>0</td>\n",
       "      <td>Bronze</td>\n",
       "      <td>1.5</td>\n",
       "    </tr>\n",
       "  </tbody>\n",
       "</table>\n",
       "</div>"
      ],
      "text/plain": [
       "               log_revenue preds Segment   log_kar  org_revenue     org_kar  \\\n",
       "Outlet_Number                                                                 \n",
       "9656148           6.908045     1  SILVER  5.756918      1000.29  316.371830   \n",
       "9067533           6.908585     1  BRONZE  5.488600      1000.83  241.918171   \n",
       "9665097           6.908695     1  SILVER  5.741498      1000.94  311.530672   \n",
       "9665169           6.909104     1  SILVER  5.756826      1001.35  316.342787   \n",
       "9170641           6.909134     1  BRONZE  5.832237      1001.38  341.121081   \n",
       "\n",
       "              rank new_segment  avg_door_number  \n",
       "Outlet_Number                                    \n",
       "9656148          0      Bronze              7.0  \n",
       "9067533          0      Bronze              1.0  \n",
       "9665097          0      Bronze              0.5  \n",
       "9665169          0      Bronze              3.5  \n",
       "9170641          0      Bronze              1.5  "
      ]
     },
     "execution_count": 94,
     "metadata": {},
     "output_type": "execute_result"
    }
   ],
   "source": [
    "result_2.head()"
   ]
  },
  {
   "cell_type": "code",
   "execution_count": 96,
   "metadata": {
    "collapsed": true,
    "jupyter": {
     "outputs_hidden": true
    }
   },
   "outputs": [
    {
     "data": {
      "text/html": [
       "<div>\n",
       "<style scoped>\n",
       "    .dataframe tbody tr th:only-of-type {\n",
       "        vertical-align: middle;\n",
       "    }\n",
       "\n",
       "    .dataframe tbody tr th {\n",
       "        vertical-align: top;\n",
       "    }\n",
       "\n",
       "    .dataframe thead th {\n",
       "        text-align: right;\n",
       "    }\n",
       "</style>\n",
       "<table border=\"1\" class=\"dataframe\">\n",
       "  <thead>\n",
       "    <tr style=\"text-align: right;\">\n",
       "      <th></th>\n",
       "      <th>rank</th>\n",
       "      <th>avg_door_number</th>\n",
       "    </tr>\n",
       "  </thead>\n",
       "  <tbody>\n",
       "    <tr>\n",
       "      <th>0</th>\n",
       "      <td>3</td>\n",
       "      <td>3.480496</td>\n",
       "    </tr>\n",
       "    <tr>\n",
       "      <th>1</th>\n",
       "      <td>0</td>\n",
       "      <td>1.459574</td>\n",
       "    </tr>\n",
       "    <tr>\n",
       "      <th>2</th>\n",
       "      <td>1</td>\n",
       "      <td>1.861682</td>\n",
       "    </tr>\n",
       "    <tr>\n",
       "      <th>3</th>\n",
       "      <td>2</td>\n",
       "      <td>2.513045</td>\n",
       "    </tr>\n",
       "  </tbody>\n",
       "</table>\n",
       "</div>"
      ],
      "text/plain": [
       "  rank  avg_door_number\n",
       "0    3         3.480496\n",
       "1    0         1.459574\n",
       "2    1         1.861682\n",
       "3    2         2.513045"
      ]
     },
     "execution_count": 96,
     "metadata": {},
     "output_type": "execute_result"
    }
   ],
   "source": [
    "result_2.groupby('rank', as_index=False).agg({'avg_door_number': np.mean})"
   ]
  },
  {
   "cell_type": "code",
   "execution_count": 97,
   "metadata": {
    "collapsed": true,
    "jupyter": {
     "outputs_hidden": true
    }
   },
   "outputs": [
    {
     "data": {
      "text/html": [
       "<div>\n",
       "<style scoped>\n",
       "    .dataframe tbody tr th:only-of-type {\n",
       "        vertical-align: middle;\n",
       "    }\n",
       "\n",
       "    .dataframe tbody tr th {\n",
       "        vertical-align: top;\n",
       "    }\n",
       "\n",
       "    .dataframe thead th {\n",
       "        text-align: right;\n",
       "    }\n",
       "</style>\n",
       "<table border=\"1\" class=\"dataframe\">\n",
       "  <thead>\n",
       "    <tr style=\"text-align: right;\">\n",
       "      <th></th>\n",
       "      <th>new_segment</th>\n",
       "      <th>avg_door_number</th>\n",
       "    </tr>\n",
       "  </thead>\n",
       "  <tbody>\n",
       "    <tr>\n",
       "      <th>0</th>\n",
       "      <td>Bronze</td>\n",
       "      <td>1.623434</td>\n",
       "    </tr>\n",
       "    <tr>\n",
       "      <th>1</th>\n",
       "      <td>Gold</td>\n",
       "      <td>3.589751</td>\n",
       "    </tr>\n",
       "    <tr>\n",
       "      <th>2</th>\n",
       "      <td>Silver</td>\n",
       "      <td>2.434870</td>\n",
       "    </tr>\n",
       "  </tbody>\n",
       "</table>\n",
       "</div>"
      ],
      "text/plain": [
       "  new_segment  avg_door_number\n",
       "0      Bronze         1.623434\n",
       "1        Gold         3.589751\n",
       "2      Silver         2.434870"
      ]
     },
     "execution_count": 97,
     "metadata": {},
     "output_type": "execute_result"
    }
   ],
   "source": [
    "result_2.groupby('new_segment', as_index=False).agg({'avg_door_number': np.mean})"
   ]
  },
  {
   "cell_type": "code",
   "execution_count": 98,
   "metadata": {
    "collapsed": true,
    "jupyter": {
     "outputs_hidden": true
    }
   },
   "outputs": [
    {
     "data": {
      "text/html": [
       "<div>\n",
       "<style scoped>\n",
       "    .dataframe tbody tr th:only-of-type {\n",
       "        vertical-align: middle;\n",
       "    }\n",
       "\n",
       "    .dataframe tbody tr th {\n",
       "        vertical-align: top;\n",
       "    }\n",
       "\n",
       "    .dataframe thead th {\n",
       "        text-align: right;\n",
       "    }\n",
       "</style>\n",
       "<table border=\"1\" class=\"dataframe\">\n",
       "  <thead>\n",
       "    <tr style=\"text-align: right;\">\n",
       "      <th></th>\n",
       "      <th>Segment</th>\n",
       "      <th>avg_door_number</th>\n",
       "    </tr>\n",
       "  </thead>\n",
       "  <tbody>\n",
       "    <tr>\n",
       "      <th>0</th>\n",
       "      <td>BRONZE</td>\n",
       "      <td>1.459626</td>\n",
       "    </tr>\n",
       "    <tr>\n",
       "      <th>1</th>\n",
       "      <td>GOLD</td>\n",
       "      <td>3.625502</td>\n",
       "    </tr>\n",
       "    <tr>\n",
       "      <th>2</th>\n",
       "      <td>SILVER</td>\n",
       "      <td>2.347938</td>\n",
       "    </tr>\n",
       "  </tbody>\n",
       "</table>\n",
       "</div>"
      ],
      "text/plain": [
       "  Segment  avg_door_number\n",
       "0  BRONZE         1.459626\n",
       "1    GOLD         3.625502\n",
       "2  SILVER         2.347938"
      ]
     },
     "execution_count": 98,
     "metadata": {},
     "output_type": "execute_result"
    }
   ],
   "source": [
    "result_2.groupby('Segment', as_index=False).agg({'avg_door_number': np.mean})"
   ]
  },
  {
   "cell_type": "code",
   "execution_count": 99,
   "metadata": {},
   "outputs": [],
   "source": [
    "result_2.to_csv('results_20210831.csv', sep='|')"
   ]
  }
 ],
 "metadata": {
  "environment": {
   "name": "tf2-gpu.2-1.m46",
   "type": "gcloud",
   "uri": "gcr.io/deeplearning-platform-release/tf2-gpu.2-1:m46"
  },
  "kernelspec": {
   "display_name": "Python 3",
   "language": "python",
   "name": "python3"
  },
  "language_info": {
   "codemirror_mode": {
    "name": "ipython",
    "version": 3
   },
   "file_extension": ".py",
   "mimetype": "text/x-python",
   "name": "python",
   "nbconvert_exporter": "python",
   "pygments_lexer": "ipython3",
   "version": "3.7.6"
  }
 },
 "nbformat": 4,
 "nbformat_minor": 5
}
