{
 "cells": [
  {
   "cell_type": "markdown",
   "metadata": {},
   "source": [
    "<h1><center>Shopper Profile</center></h1>"
   ]
  },
  {
   "cell_type": "markdown",
   "metadata": {},
   "source": [
    "* Bu notebook Traditional Channel'da İstanbuldaki shopper profile'ları bulmak için hier. clustering'in kullanıldığı bir çalışmadır. \n",
    "* Bir öncekinden farkı hier. clusteringden sonra en yüksek sayıda outlet içeren cluster'ı 2. bir clustering yaparak ayırma işlemi içerir.\n"
   ]
  },
  {
   "cell_type": "code",
   "execution_count": 1,
   "metadata": {},
   "outputs": [],
   "source": [
    "# Database Connection\n",
    "from google.cloud import bigquery, bigquery_storage_v1beta1\n",
    "\n",
    "# basic\n",
    "import os\n",
    "import numpy as np\n",
    "import pandas as pd\n",
    "\n",
    "# visualization\n",
    "import matplotlib.pyplot as plt\n",
    "import seaborn as sns\n",
    "import plotly.express as px\n",
    "\n",
    "# Model\n",
    "import sklearn\n",
    "from scipy.special import boxcox1p\n",
    "from scipy import stats\n",
    "from sklearn.cluster import KMeans, DBSCAN, AffinityPropagation, Birch, MeanShift, AgglomerativeClustering\n",
    "from sklearn.mixture import GaussianMixture\n",
    "from sklearn.metrics import silhouette_score\n",
    "from sklearn.ensemble import IsolationForest\n",
    "from sklearn.tree import DecisionTreeClassifier\n",
    "from sklearn import tree\n",
    "from sklearn.preprocessing import MinMaxScaler\n",
    "import plotly.graph_objects as go\n",
    "from sklearn import preprocessing\n",
    "from sklearn.cluster import AgglomerativeClustering\n",
    "\n",
    "sns.set_style(\"whitegrid\")\n",
    "# sns.color_palette('bright')\n",
    "sns.set_palette('dark')"
   ]
  },
  {
   "cell_type": "code",
   "execution_count": 2,
   "metadata": {},
   "outputs": [
    {
     "name": "stderr",
     "output_type": "stream",
     "text": [
      "Downloading:   0%|          | 0/290255 [00:00<?, ?rows/s]/opt/conda/lib/python3.7/site-packages/pyarrow/util.py:39: FutureWarning: pyarrow.read_schema is deprecated as of 0.17.0, please use pyarrow.ipc.read_schema instead\n",
      "  warnings.warn(msg, FutureWarning)\n",
      "/opt/conda/lib/python3.7/site-packages/pyarrow/util.py:39: FutureWarning: pyarrow.read_record_batch is deprecated as of 0.17.0, please use pyarrow.ipc.read_record_batch instead\n",
      "  warnings.warn(msg, FutureWarning)\n",
      "Downloading: 100%|██████████| 290255/290255 [00:05<00:00, 54386.40rows/s]\n"
     ]
    }
   ],
   "source": [
    "bq_client = bigquery.Client()\n",
    "bq_storage_client = bigquery_storage_v1beta1.BigQueryStorageClient()\n",
    "\n",
    "sql = \"\"\"\n",
    "with rb_sales_tr as (\n",
    "select sls.OutletNumber, \n",
    "        SUM(CASE when art.ArticleBrandCode = 'H' THEN UcSales ELSE 0 END) as burn_rb200,\n",
    "        SUM(CASE when art.ArticleBrandCode = 'P' THEN UcSales ELSE 0 END) as cappy_rb200,\n",
    "        SUM(CASE when art.ArticleBrandCode = 'L' THEN UcSales ELSE 0 END) as cc_light_rb200,\n",
    "        SUM(CASE when art.ArticleBrandCode = 'C' THEN UcSales ELSE 0 END) as cc_rb200,\n",
    "        SUM(CASE when art.ArticleBrandCode = 'DM' THEN UcSales ELSE 0 END) as damla_minera_rb200,\n",
    "        SUM(CASE when art.ArticleBrandCode = 'D' THEN UcSales ELSE 0 END) as damla_water_rb200,\n",
    "        SUM(CASE when art.ArticleBrandCode = 'EX' THEN UcSales ELSE 0 END) as exotic_rb200,\n",
    "        SUM(CASE when art.ArticleBrandCode = 'F' THEN UcSales ELSE 0 END) as fanta_rb200,\n",
    "        SUM(CASE when art.ArticleBrandCode = 'FT' THEN UcSales ELSE 0 END) as fusetea_rb200,\n",
    "        SUM(CASE when art.ArticleBrandCode = 'MN' THEN UcSales ELSE 0 END) as monster_rb200,\n",
    "        SUM(CASE when art.ArticleBrandCode = 'E' THEN UcSales ELSE 0 END) as powerade_rb200,\n",
    "        SUM(CASE when art.ArticleBrandCode = 'S' THEN UcSales ELSE 0 END) as schweppes_rb200,\n",
    "        SUM(CASE when art.ArticleBrandCode = 'G' THEN UcSales ELSE 0 END) as sprite_rb200\n",
    "  from `coca-cola-data-lake.SALES.vt_fct_sales` sls\n",
    "  join `coca-cola-data-lake.ARTICLE.vt_dim_article` as art \n",
    "    on (sls.ArticleNumber = art.ArticleNumber and sls.CountryCode = art.CountryCode)  \n",
    "  join `coca-cola-data-lake.ARTICLE.vt_dim_article_package_group_text` art_gr\n",
    "    on (art.ArticlePackageGroupCode = art_gr.article_package_group_code and\tart_gr.language_code = 'ENG')\n",
    "  join `coca-cola-data-lake.ARTICLE.vt_dim_article_package_size_text` art_sz\n",
    "    on (art.ArticlePackageSizeCode = art_sz.article_package_size_code and art_sz.language_code = 'ENG')\n",
    "where sls.InvoiceStatusCode = 'OK'\n",
    "  and sls.SalesTypeCode in ('C2', 'C3', 'C5', 'D1')\n",
    "  and sls.ArticleMixFlag in ('0','1')\n",
    "  and sls.PhcSales > 0\n",
    "  and sls.CalendarDay >= '2021-01-01'\n",
    "  and sls.CalendarDay <= '2021-12-31'\n",
    "-- and art.GenericArticleNumber = 1000 \n",
    "  and art_gr.article_package_group_text = 'Rb'\n",
    "  and art_sz.article_package_size_code = '1'\n",
    "  and sls.CountryCode = 'TR'\n",
    "group by sls.OutletNumber \n",
    ")\n",
    "select *\n",
    "from coca-cola-datalake-dev.DEV_EEMIRALI.SHOPPER_PROFILE as shopper\n",
    "left join rb_sales_tr \n",
    "  on (rb_sales_tr.OutletNumber = shopper.outlet_number) \n",
    "\"\"\"\n",
    "\n",
    "df = bq_client.query(sql, location='EU').to_dataframe(bqstorage_client = bq_storage_client, progress_bar_type='tqdm')"
   ]
  },
  {
   "cell_type": "code",
   "execution_count": 3,
   "metadata": {},
   "outputs": [
    {
     "data": {
      "text/html": [
       "<div>\n",
       "<style scoped>\n",
       "    .dataframe tbody tr th:only-of-type {\n",
       "        vertical-align: middle;\n",
       "    }\n",
       "\n",
       "    .dataframe tbody tr th {\n",
       "        vertical-align: top;\n",
       "    }\n",
       "\n",
       "    .dataframe thead th {\n",
       "        text-align: right;\n",
       "    }\n",
       "</style>\n",
       "<table border=\"1\" class=\"dataframe\">\n",
       "  <thead>\n",
       "    <tr style=\"text-align: right;\">\n",
       "      <th></th>\n",
       "      <th>outlet_number</th>\n",
       "      <th>outlet_name</th>\n",
       "      <th>GEOGPOINT</th>\n",
       "      <th>IDARIID</th>\n",
       "      <th>MAIN_CHANNEL</th>\n",
       "      <th>SEGMENT</th>\n",
       "      <th>SES</th>\n",
       "      <th>YAS_CLUSTER</th>\n",
       "      <th>ILADI</th>\n",
       "      <th>ILCEADI</th>\n",
       "      <th>...</th>\n",
       "      <th>cc_rb200</th>\n",
       "      <th>damla_minera_rb200</th>\n",
       "      <th>damla_water_rb200</th>\n",
       "      <th>exotic_rb200</th>\n",
       "      <th>fanta_rb200</th>\n",
       "      <th>fusetea_rb200</th>\n",
       "      <th>monster_rb200</th>\n",
       "      <th>powerade_rb200</th>\n",
       "      <th>schweppes_rb200</th>\n",
       "      <th>sprite_rb200</th>\n",
       "    </tr>\n",
       "  </thead>\n",
       "  <tbody>\n",
       "    <tr>\n",
       "      <th>0</th>\n",
       "      <td>7158909</td>\n",
       "      <td>DOGAN TEKEL</td>\n",
       "      <td>POINT(29.06616217 40.18558327)</td>\n",
       "      <td>22528</td>\n",
       "      <td>TRADITIONAL RETAIL</td>\n",
       "      <td>SILVER</td>\n",
       "      <td>C1</td>\n",
       "      <td>SIFIR</td>\n",
       "      <td>Bursa</td>\n",
       "      <td>Osmangazi</td>\n",
       "      <td>...</td>\n",
       "      <td>NaN</td>\n",
       "      <td>NaN</td>\n",
       "      <td>NaN</td>\n",
       "      <td>NaN</td>\n",
       "      <td>NaN</td>\n",
       "      <td>NaN</td>\n",
       "      <td>NaN</td>\n",
       "      <td>NaN</td>\n",
       "      <td>NaN</td>\n",
       "      <td>NaN</td>\n",
       "    </tr>\n",
       "    <tr>\n",
       "      <th>1</th>\n",
       "      <td>9082733</td>\n",
       "      <td>KARDESLER PIDE</td>\n",
       "      <td>POINT(29.06576674 40.18505304)</td>\n",
       "      <td>22528</td>\n",
       "      <td>ON-PREMISE</td>\n",
       "      <td>GOLD</td>\n",
       "      <td>C1</td>\n",
       "      <td>SIFIR</td>\n",
       "      <td>Bursa</td>\n",
       "      <td>Osmangazi</td>\n",
       "      <td>...</td>\n",
       "      <td>NaN</td>\n",
       "      <td>NaN</td>\n",
       "      <td>NaN</td>\n",
       "      <td>NaN</td>\n",
       "      <td>NaN</td>\n",
       "      <td>NaN</td>\n",
       "      <td>NaN</td>\n",
       "      <td>NaN</td>\n",
       "      <td>NaN</td>\n",
       "      <td>NaN</td>\n",
       "    </tr>\n",
       "    <tr>\n",
       "      <th>2</th>\n",
       "      <td>8921197</td>\n",
       "      <td>PARALI BUFE</td>\n",
       "      <td>POINT(29.0647642900001 40.18573423)</td>\n",
       "      <td>22528</td>\n",
       "      <td>ON-PREMISE</td>\n",
       "      <td>SILVER</td>\n",
       "      <td>C1</td>\n",
       "      <td>SIFIR</td>\n",
       "      <td>Bursa</td>\n",
       "      <td>Osmangazi</td>\n",
       "      <td>...</td>\n",
       "      <td>135.20</td>\n",
       "      <td>0.0</td>\n",
       "      <td>0.0</td>\n",
       "      <td>0.0</td>\n",
       "      <td>16.055</td>\n",
       "      <td>0.0</td>\n",
       "      <td>0.0</td>\n",
       "      <td>0.0</td>\n",
       "      <td>0.0</td>\n",
       "      <td>0.000</td>\n",
       "    </tr>\n",
       "    <tr>\n",
       "      <th>3</th>\n",
       "      <td>9521421</td>\n",
       "      <td>SARDUNYA APERATIF</td>\n",
       "      <td>POINT(29.0661958605052 40.1850513461977)</td>\n",
       "      <td>22528</td>\n",
       "      <td>ON-PREMISE</td>\n",
       "      <td>SILVER</td>\n",
       "      <td>C1</td>\n",
       "      <td>SIFIR</td>\n",
       "      <td>Bursa</td>\n",
       "      <td>Osmangazi</td>\n",
       "      <td>...</td>\n",
       "      <td>256.88</td>\n",
       "      <td>0.0</td>\n",
       "      <td>0.0</td>\n",
       "      <td>0.0</td>\n",
       "      <td>6.760</td>\n",
       "      <td>0.0</td>\n",
       "      <td>0.0</td>\n",
       "      <td>0.0</td>\n",
       "      <td>0.0</td>\n",
       "      <td>2.535</td>\n",
       "    </tr>\n",
       "    <tr>\n",
       "      <th>4</th>\n",
       "      <td>7173090</td>\n",
       "      <td>DAVUT BIRLES</td>\n",
       "      <td>POINT(29.06531874 40.1851168)</td>\n",
       "      <td>22528</td>\n",
       "      <td>ON-PREMISE</td>\n",
       "      <td>BRONZE</td>\n",
       "      <td>C1</td>\n",
       "      <td>SIFIR</td>\n",
       "      <td>Bursa</td>\n",
       "      <td>Osmangazi</td>\n",
       "      <td>...</td>\n",
       "      <td>25.35</td>\n",
       "      <td>0.0</td>\n",
       "      <td>0.0</td>\n",
       "      <td>0.0</td>\n",
       "      <td>5.915</td>\n",
       "      <td>0.0</td>\n",
       "      <td>0.0</td>\n",
       "      <td>0.0</td>\n",
       "      <td>0.0</td>\n",
       "      <td>0.000</td>\n",
       "    </tr>\n",
       "  </tbody>\n",
       "</table>\n",
       "<p>5 rows × 127 columns</p>\n",
       "</div>"
      ],
      "text/plain": [
       "  outlet_number        outlet_name                                 GEOGPOINT  \\\n",
       "0       7158909        DOGAN TEKEL            POINT(29.06616217 40.18558327)   \n",
       "1       9082733     KARDESLER PIDE            POINT(29.06576674 40.18505304)   \n",
       "2       8921197        PARALI BUFE       POINT(29.0647642900001 40.18573423)   \n",
       "3       9521421  SARDUNYA APERATIF  POINT(29.0661958605052 40.1850513461977)   \n",
       "4       7173090       DAVUT BIRLES             POINT(29.06531874 40.1851168)   \n",
       "\n",
       "   IDARIID        MAIN_CHANNEL SEGMENT SES YAS_CLUSTER  ILADI    ILCEADI  ...  \\\n",
       "0    22528  TRADITIONAL RETAIL  SILVER  C1       SIFIR  Bursa  Osmangazi  ...   \n",
       "1    22528          ON-PREMISE    GOLD  C1       SIFIR  Bursa  Osmangazi  ...   \n",
       "2    22528          ON-PREMISE  SILVER  C1       SIFIR  Bursa  Osmangazi  ...   \n",
       "3    22528          ON-PREMISE  SILVER  C1       SIFIR  Bursa  Osmangazi  ...   \n",
       "4    22528          ON-PREMISE  BRONZE  C1       SIFIR  Bursa  Osmangazi  ...   \n",
       "\n",
       "   cc_rb200  damla_minera_rb200  damla_water_rb200  exotic_rb200  fanta_rb200  \\\n",
       "0       NaN                 NaN                NaN           NaN          NaN   \n",
       "1       NaN                 NaN                NaN           NaN          NaN   \n",
       "2    135.20                 0.0                0.0           0.0       16.055   \n",
       "3    256.88                 0.0                0.0           0.0        6.760   \n",
       "4     25.35                 0.0                0.0           0.0        5.915   \n",
       "\n",
       "   fusetea_rb200  monster_rb200  powerade_rb200  schweppes_rb200  sprite_rb200  \n",
       "0            NaN            NaN             NaN              NaN           NaN  \n",
       "1            NaN            NaN             NaN              NaN           NaN  \n",
       "2            0.0            0.0             0.0              0.0         0.000  \n",
       "3            0.0            0.0             0.0              0.0         2.535  \n",
       "4            0.0            0.0             0.0              0.0         0.000  \n",
       "\n",
       "[5 rows x 127 columns]"
      ]
     },
     "execution_count": 3,
     "metadata": {},
     "output_type": "execute_result"
    }
   ],
   "source": [
    "df.head()"
   ]
  },
  {
   "cell_type": "markdown",
   "metadata": {},
   "source": [
    "## EDA"
   ]
  },
  {
   "cell_type": "code",
   "execution_count": 4,
   "metadata": {},
   "outputs": [
    {
     "name": "stdout",
     "output_type": "stream",
     "text": [
      "<class 'pandas.core.frame.DataFrame'>\n",
      "RangeIndex: 290255 entries, 0 to 290254\n",
      "Columns: 127 entries, outlet_number to sprite_rb200\n",
      "dtypes: float64(111), int64(6), object(10)\n",
      "memory usage: 281.2+ MB\n"
     ]
    }
   ],
   "source": [
    "df.info() "
   ]
  },
  {
   "cell_type": "code",
   "execution_count": 5,
   "metadata": {},
   "outputs": [
    {
     "data": {
      "text/plain": [
       "array(['TRADITIONAL RETAIL', 'ON-PREMISE', 'MODERN RETAIL', 'E-COMMERCE',\n",
       "       'OTHER/THIRD PARTY', 'DISCOUNTER'], dtype=object)"
      ]
     },
     "execution_count": 5,
     "metadata": {},
     "output_type": "execute_result"
    }
   ],
   "source": [
    "df.MAIN_CHANNEL.unique()"
   ]
  },
  {
   "cell_type": "code",
   "execution_count": 6,
   "metadata": {},
   "outputs": [
    {
     "data": {
      "text/plain": [
       "290255"
      ]
     },
     "execution_count": 6,
     "metadata": {},
     "output_type": "execute_result"
    }
   ],
   "source": [
    "df.outlet_number.nunique()"
   ]
  },
  {
   "cell_type": "code",
   "execution_count": 7,
   "metadata": {},
   "outputs": [],
   "source": [
    "df['outlet_number'] = df['outlet_number'].astype(object)"
   ]
  },
  {
   "cell_type": "code",
   "execution_count": 8,
   "metadata": {},
   "outputs": [],
   "source": [
    "df = df.query(\"ILADI == 'İstanbul'\").reset_index(drop=True)"
   ]
  },
  {
   "cell_type": "code",
   "execution_count": 9,
   "metadata": {},
   "outputs": [],
   "source": [
    "df = df.query(\"MAIN_CHANNEL == 'TRADITIONAL RETAIL'\").reset_index(drop=True)"
   ]
  },
  {
   "cell_type": "code",
   "execution_count": 10,
   "metadata": {},
   "outputs": [
    {
     "data": {
      "text/plain": [
       "23978"
      ]
     },
     "execution_count": 10,
     "metadata": {},
     "output_type": "execute_result"
    }
   ],
   "source": [
    "# Bu dataframe üstünde oynama yapılmamış ana datadır.\n",
    "df.outlet_number.nunique()"
   ]
  },
  {
   "cell_type": "code",
   "execution_count": 11,
   "metadata": {},
   "outputs": [],
   "source": [
    "# bu dataframe, model için kullanılacak dataframe'dir\n",
    "model_data = df.copy()"
   ]
  },
  {
   "cell_type": "code",
   "execution_count": 12,
   "metadata": {},
   "outputs": [],
   "source": [
    "model_data = model_data[[      \n",
    "\"SES\"           \n",
    ",\"YAS_CLUSTER\"\n",
    ",\"HANE_BUYUKLUGU\"\n",
    ",\"ZENGINLIK_INDEKSI\"\n",
    ",\"AYLIK_HARCAMA\"   \n",
    ",'SEGMENT'\n",
    ",'GIDAVEICECEK'\n",
    ",'ALKOLTUTUN'\n",
    ",'EGLENCEKULTUR'\n",
    ",'LOKANTAOTEL'\n",
    ",'GIDAVEICECEK_ORAN'\n",
    ",'ALKOLTUTUN_ORAN'\n",
    ",'EGLENCEKULTUR_ORAN'\n",
    ",'LOKANTAOTEL_ORAN'\n",
    "]]"
   ]
  },
  {
   "cell_type": "code",
   "execution_count": 13,
   "metadata": {},
   "outputs": [
    {
     "data": {
      "text/html": [
       "<div>\n",
       "<style scoped>\n",
       "    .dataframe tbody tr th:only-of-type {\n",
       "        vertical-align: middle;\n",
       "    }\n",
       "\n",
       "    .dataframe tbody tr th {\n",
       "        vertical-align: top;\n",
       "    }\n",
       "\n",
       "    .dataframe thead th {\n",
       "        text-align: right;\n",
       "    }\n",
       "</style>\n",
       "<table border=\"1\" class=\"dataframe\">\n",
       "  <thead>\n",
       "    <tr style=\"text-align: right;\">\n",
       "      <th></th>\n",
       "      <th>SES</th>\n",
       "      <th>YAS_CLUSTER</th>\n",
       "      <th>HANE_BUYUKLUGU</th>\n",
       "      <th>ZENGINLIK_INDEKSI</th>\n",
       "      <th>AYLIK_HARCAMA</th>\n",
       "      <th>SEGMENT</th>\n",
       "      <th>GIDAVEICECEK</th>\n",
       "      <th>ALKOLTUTUN</th>\n",
       "      <th>EGLENCEKULTUR</th>\n",
       "      <th>LOKANTAOTEL</th>\n",
       "      <th>GIDAVEICECEK_ORAN</th>\n",
       "      <th>ALKOLTUTUN_ORAN</th>\n",
       "      <th>EGLENCEKULTUR_ORAN</th>\n",
       "      <th>LOKANTAOTEL_ORAN</th>\n",
       "    </tr>\n",
       "  </thead>\n",
       "  <tbody>\n",
       "    <tr>\n",
       "      <th>0</th>\n",
       "      <td>C1</td>\n",
       "      <td>SIFIR</td>\n",
       "      <td>1.363636</td>\n",
       "      <td>3.633539</td>\n",
       "      <td>6481</td>\n",
       "      <td>SILVER PLUS</td>\n",
       "      <td>0.000</td>\n",
       "      <td>0.000</td>\n",
       "      <td>0.000</td>\n",
       "      <td>0.000</td>\n",
       "      <td>0.0</td>\n",
       "      <td>0.0</td>\n",
       "      <td>0.0</td>\n",
       "      <td>0.0</td>\n",
       "    </tr>\n",
       "    <tr>\n",
       "      <th>1</th>\n",
       "      <td>D</td>\n",
       "      <td>SIFIR</td>\n",
       "      <td>1.195455</td>\n",
       "      <td>1.490437</td>\n",
       "      <td>2331</td>\n",
       "      <td>BRONZE</td>\n",
       "      <td>0.000</td>\n",
       "      <td>0.000</td>\n",
       "      <td>0.000</td>\n",
       "      <td>0.000</td>\n",
       "      <td>0.0</td>\n",
       "      <td>0.0</td>\n",
       "      <td>0.0</td>\n",
       "      <td>0.0</td>\n",
       "    </tr>\n",
       "    <tr>\n",
       "      <th>2</th>\n",
       "      <td>D</td>\n",
       "      <td>SIFIR</td>\n",
       "      <td>1.195455</td>\n",
       "      <td>1.490437</td>\n",
       "      <td>2331</td>\n",
       "      <td>SILVER</td>\n",
       "      <td>0.000</td>\n",
       "      <td>0.000</td>\n",
       "      <td>0.000</td>\n",
       "      <td>0.000</td>\n",
       "      <td>0.0</td>\n",
       "      <td>0.0</td>\n",
       "      <td>0.0</td>\n",
       "      <td>0.0</td>\n",
       "    </tr>\n",
       "    <tr>\n",
       "      <th>3</th>\n",
       "      <td>D</td>\n",
       "      <td>SIFIR</td>\n",
       "      <td>1.195455</td>\n",
       "      <td>1.490437</td>\n",
       "      <td>2331</td>\n",
       "      <td>SILVER PLUS</td>\n",
       "      <td>0.000</td>\n",
       "      <td>0.000</td>\n",
       "      <td>0.000</td>\n",
       "      <td>0.000</td>\n",
       "      <td>0.0</td>\n",
       "      <td>0.0</td>\n",
       "      <td>0.0</td>\n",
       "      <td>0.0</td>\n",
       "    </tr>\n",
       "    <tr>\n",
       "      <th>4</th>\n",
       "      <td>D</td>\n",
       "      <td>SIFIR</td>\n",
       "      <td>1.195455</td>\n",
       "      <td>1.490437</td>\n",
       "      <td>2331</td>\n",
       "      <td>GOLD</td>\n",
       "      <td>0.000</td>\n",
       "      <td>0.000</td>\n",
       "      <td>0.000</td>\n",
       "      <td>0.000</td>\n",
       "      <td>0.0</td>\n",
       "      <td>0.0</td>\n",
       "      <td>0.0</td>\n",
       "      <td>0.0</td>\n",
       "    </tr>\n",
       "    <tr>\n",
       "      <th>...</th>\n",
       "      <td>...</td>\n",
       "      <td>...</td>\n",
       "      <td>...</td>\n",
       "      <td>...</td>\n",
       "      <td>...</td>\n",
       "      <td>...</td>\n",
       "      <td>...</td>\n",
       "      <td>...</td>\n",
       "      <td>...</td>\n",
       "      <td>...</td>\n",
       "      <td>...</td>\n",
       "      <td>...</td>\n",
       "      <td>...</td>\n",
       "      <td>...</td>\n",
       "    </tr>\n",
       "    <tr>\n",
       "      <th>23973</th>\n",
       "      <td>D</td>\n",
       "      <td>OLD</td>\n",
       "      <td>1.234416</td>\n",
       "      <td>0.550000</td>\n",
       "      <td>1414</td>\n",
       "      <td>SILVER PLUS</td>\n",
       "      <td>294.112</td>\n",
       "      <td>65.044</td>\n",
       "      <td>29.694</td>\n",
       "      <td>86.254</td>\n",
       "      <td>20.8</td>\n",
       "      <td>4.6</td>\n",
       "      <td>2.1</td>\n",
       "      <td>6.1</td>\n",
       "    </tr>\n",
       "    <tr>\n",
       "      <th>23974</th>\n",
       "      <td>D</td>\n",
       "      <td>OLD</td>\n",
       "      <td>1.234416</td>\n",
       "      <td>0.550000</td>\n",
       "      <td>1414</td>\n",
       "      <td>SILVER</td>\n",
       "      <td>294.112</td>\n",
       "      <td>65.044</td>\n",
       "      <td>29.694</td>\n",
       "      <td>86.254</td>\n",
       "      <td>20.8</td>\n",
       "      <td>4.6</td>\n",
       "      <td>2.1</td>\n",
       "      <td>6.1</td>\n",
       "    </tr>\n",
       "    <tr>\n",
       "      <th>23975</th>\n",
       "      <td>D</td>\n",
       "      <td>OLD</td>\n",
       "      <td>1.234416</td>\n",
       "      <td>0.550000</td>\n",
       "      <td>1414</td>\n",
       "      <td>SILVER PLUS</td>\n",
       "      <td>294.112</td>\n",
       "      <td>65.044</td>\n",
       "      <td>29.694</td>\n",
       "      <td>86.254</td>\n",
       "      <td>20.8</td>\n",
       "      <td>4.6</td>\n",
       "      <td>2.1</td>\n",
       "      <td>6.1</td>\n",
       "    </tr>\n",
       "    <tr>\n",
       "      <th>23976</th>\n",
       "      <td>D</td>\n",
       "      <td>OLD</td>\n",
       "      <td>1.234416</td>\n",
       "      <td>0.550000</td>\n",
       "      <td>1414</td>\n",
       "      <td>SILVER</td>\n",
       "      <td>294.112</td>\n",
       "      <td>65.044</td>\n",
       "      <td>29.694</td>\n",
       "      <td>86.254</td>\n",
       "      <td>20.8</td>\n",
       "      <td>4.6</td>\n",
       "      <td>2.1</td>\n",
       "      <td>6.1</td>\n",
       "    </tr>\n",
       "    <tr>\n",
       "      <th>23977</th>\n",
       "      <td>D</td>\n",
       "      <td>OLD</td>\n",
       "      <td>1.234416</td>\n",
       "      <td>0.550000</td>\n",
       "      <td>1414</td>\n",
       "      <td>SILVER</td>\n",
       "      <td>294.112</td>\n",
       "      <td>65.044</td>\n",
       "      <td>29.694</td>\n",
       "      <td>86.254</td>\n",
       "      <td>20.8</td>\n",
       "      <td>4.6</td>\n",
       "      <td>2.1</td>\n",
       "      <td>6.1</td>\n",
       "    </tr>\n",
       "  </tbody>\n",
       "</table>\n",
       "<p>23978 rows × 14 columns</p>\n",
       "</div>"
      ],
      "text/plain": [
       "      SES YAS_CLUSTER  HANE_BUYUKLUGU  ZENGINLIK_INDEKSI  AYLIK_HARCAMA  \\\n",
       "0      C1       SIFIR        1.363636           3.633539           6481   \n",
       "1       D       SIFIR        1.195455           1.490437           2331   \n",
       "2       D       SIFIR        1.195455           1.490437           2331   \n",
       "3       D       SIFIR        1.195455           1.490437           2331   \n",
       "4       D       SIFIR        1.195455           1.490437           2331   \n",
       "...    ..         ...             ...                ...            ...   \n",
       "23973   D         OLD        1.234416           0.550000           1414   \n",
       "23974   D         OLD        1.234416           0.550000           1414   \n",
       "23975   D         OLD        1.234416           0.550000           1414   \n",
       "23976   D         OLD        1.234416           0.550000           1414   \n",
       "23977   D         OLD        1.234416           0.550000           1414   \n",
       "\n",
       "           SEGMENT  GIDAVEICECEK  ALKOLTUTUN  EGLENCEKULTUR  LOKANTAOTEL  \\\n",
       "0      SILVER PLUS         0.000       0.000          0.000        0.000   \n",
       "1           BRONZE         0.000       0.000          0.000        0.000   \n",
       "2           SILVER         0.000       0.000          0.000        0.000   \n",
       "3      SILVER PLUS         0.000       0.000          0.000        0.000   \n",
       "4             GOLD         0.000       0.000          0.000        0.000   \n",
       "...            ...           ...         ...            ...          ...   \n",
       "23973  SILVER PLUS       294.112      65.044         29.694       86.254   \n",
       "23974       SILVER       294.112      65.044         29.694       86.254   \n",
       "23975  SILVER PLUS       294.112      65.044         29.694       86.254   \n",
       "23976       SILVER       294.112      65.044         29.694       86.254   \n",
       "23977       SILVER       294.112      65.044         29.694       86.254   \n",
       "\n",
       "       GIDAVEICECEK_ORAN  ALKOLTUTUN_ORAN  EGLENCEKULTUR_ORAN  \\\n",
       "0                    0.0              0.0                 0.0   \n",
       "1                    0.0              0.0                 0.0   \n",
       "2                    0.0              0.0                 0.0   \n",
       "3                    0.0              0.0                 0.0   \n",
       "4                    0.0              0.0                 0.0   \n",
       "...                  ...              ...                 ...   \n",
       "23973               20.8              4.6                 2.1   \n",
       "23974               20.8              4.6                 2.1   \n",
       "23975               20.8              4.6                 2.1   \n",
       "23976               20.8              4.6                 2.1   \n",
       "23977               20.8              4.6                 2.1   \n",
       "\n",
       "       LOKANTAOTEL_ORAN  \n",
       "0                   0.0  \n",
       "1                   0.0  \n",
       "2                   0.0  \n",
       "3                   0.0  \n",
       "4                   0.0  \n",
       "...                 ...  \n",
       "23973               6.1  \n",
       "23974               6.1  \n",
       "23975               6.1  \n",
       "23976               6.1  \n",
       "23977               6.1  \n",
       "\n",
       "[23978 rows x 14 columns]"
      ]
     },
     "execution_count": 13,
     "metadata": {},
     "output_type": "execute_result"
    }
   ],
   "source": [
    "model_data"
   ]
  },
  {
   "cell_type": "code",
   "execution_count": 14,
   "metadata": {},
   "outputs": [
    {
     "name": "stdout",
     "output_type": "stream",
     "text": [
      "<class 'pandas.core.frame.DataFrame'>\n",
      "RangeIndex: 23978 entries, 0 to 23977\n",
      "Data columns (total 14 columns):\n",
      " #   Column              Non-Null Count  Dtype  \n",
      "---  ------              --------------  -----  \n",
      " 0   SES                 23978 non-null  object \n",
      " 1   YAS_CLUSTER         23978 non-null  object \n",
      " 2   HANE_BUYUKLUGU      23978 non-null  float64\n",
      " 3   ZENGINLIK_INDEKSI   23978 non-null  float64\n",
      " 4   AYLIK_HARCAMA       23978 non-null  int64  \n",
      " 5   SEGMENT             23978 non-null  object \n",
      " 6   GIDAVEICECEK        23978 non-null  float64\n",
      " 7   ALKOLTUTUN          23978 non-null  float64\n",
      " 8   EGLENCEKULTUR       23978 non-null  float64\n",
      " 9   LOKANTAOTEL         23978 non-null  float64\n",
      " 10  GIDAVEICECEK_ORAN   23978 non-null  float64\n",
      " 11  ALKOLTUTUN_ORAN     23978 non-null  float64\n",
      " 12  EGLENCEKULTUR_ORAN  23978 non-null  float64\n",
      " 13  LOKANTAOTEL_ORAN    23978 non-null  float64\n",
      "dtypes: float64(10), int64(1), object(3)\n",
      "memory usage: 2.6+ MB\n"
     ]
    }
   ],
   "source": [
    "model_data.info()"
   ]
  },
  {
   "cell_type": "code",
   "execution_count": 15,
   "metadata": {},
   "outputs": [],
   "source": [
    "# Get one label encoding of column \"SES\"\n",
    "model_data[\"SES\"] = model_data[\"SES\"].replace({'A': 6, 'B': 5, 'C1': 4, 'C2': 3, 'D': 2, 'E': 1})"
   ]
  },
  {
   "cell_type": "code",
   "execution_count": 16,
   "metadata": {},
   "outputs": [],
   "source": [
    "# Get one label encoding of column \"YAS_CLUSTER\"\n",
    "model_data[\"YAS_CLUSTER\"] = model_data[\"YAS_CLUSTER\"].replace({'SIFIR': 1, 'TEEN': 2, 'YOUNG': 3, 'YOUNG ADULT': 4, 'ADULT': 5, 'MIDDLE AGED': 6, 'OLD': 7})"
   ]
  },
  {
   "cell_type": "code",
   "execution_count": 17,
   "metadata": {},
   "outputs": [],
   "source": [
    "# Get one label encoding of column \"SEGMENT\"\n",
    "model_data[\"SEGMENT\"] = model_data[\"SEGMENT\"].replace({'BRONZE': 1, 'SILVER': 2, 'SILVER PLUS': 3, 'GOLD': 4})"
   ]
  },
  {
   "cell_type": "code",
   "execution_count": 18,
   "metadata": {},
   "outputs": [
    {
     "name": "stdout",
     "output_type": "stream",
     "text": [
      "<class 'pandas.core.frame.DataFrame'>\n",
      "RangeIndex: 23978 entries, 0 to 23977\n",
      "Data columns (total 14 columns):\n",
      " #   Column              Non-Null Count  Dtype  \n",
      "---  ------              --------------  -----  \n",
      " 0   SES                 23978 non-null  int64  \n",
      " 1   YAS_CLUSTER         23978 non-null  int64  \n",
      " 2   HANE_BUYUKLUGU      23978 non-null  float64\n",
      " 3   ZENGINLIK_INDEKSI   23978 non-null  float64\n",
      " 4   AYLIK_HARCAMA       23978 non-null  int64  \n",
      " 5   SEGMENT             23978 non-null  int64  \n",
      " 6   GIDAVEICECEK        23978 non-null  float64\n",
      " 7   ALKOLTUTUN          23978 non-null  float64\n",
      " 8   EGLENCEKULTUR       23978 non-null  float64\n",
      " 9   LOKANTAOTEL         23978 non-null  float64\n",
      " 10  GIDAVEICECEK_ORAN   23978 non-null  float64\n",
      " 11  ALKOLTUTUN_ORAN     23978 non-null  float64\n",
      " 12  EGLENCEKULTUR_ORAN  23978 non-null  float64\n",
      " 13  LOKANTAOTEL_ORAN    23978 non-null  float64\n",
      "dtypes: float64(10), int64(4)\n",
      "memory usage: 2.6 MB\n"
     ]
    }
   ],
   "source": [
    "model_data.info()"
   ]
  },
  {
   "cell_type": "markdown",
   "metadata": {},
   "source": [
    "#### Scaling and Normal Dist."
   ]
  },
  {
   "cell_type": "code",
   "execution_count": 19,
   "metadata": {},
   "outputs": [],
   "source": [
    "model_df = model_data.copy()"
   ]
  },
  {
   "cell_type": "code",
   "execution_count": 20,
   "metadata": {},
   "outputs": [],
   "source": [
    "model_data = model_data.replace(np.nan,0)"
   ]
  },
  {
   "cell_type": "code",
   "execution_count": 21,
   "metadata": {},
   "outputs": [],
   "source": [
    "model_data.clip(lower=0, inplace=True)"
   ]
  },
  {
   "cell_type": "code",
   "execution_count": 22,
   "metadata": {},
   "outputs": [],
   "source": [
    "model_data.replace({0: 0.00001}, inplace=True)"
   ]
  },
  {
   "cell_type": "code",
   "execution_count": 23,
   "metadata": {},
   "outputs": [],
   "source": [
    "# define a method to scale data, looping thru the columns, and passing a scaler\n",
    "def scale_data(data):\n",
    "    min_max_scaler = preprocessing.MinMaxScaler()\n",
    "    for col in data.columns:\n",
    "        data[col] = min_max_scaler.fit_transform(data[col].values.reshape(-1, 1))\n",
    "    return data"
   ]
  },
  {
   "cell_type": "code",
   "execution_count": 24,
   "metadata": {},
   "outputs": [],
   "source": [
    "def normal_dist(data):\n",
    "    for col in data.columns:\n",
    "        data[col] = data[col].apply(lambda x: boxcox1p(x,0.25))\n",
    "        stats.boxcox(data[col])[0]\n",
    "    return data"
   ]
  },
  {
   "cell_type": "code",
   "execution_count": 25,
   "metadata": {},
   "outputs": [],
   "source": [
    "# Normal Dist.\n",
    "model_df[\"SES\"] = stats.boxcox(model_data[\"SES\"])[0]\n",
    "model_df[\"YAS_CLUSTER\"] = stats.boxcox(model_data[\"YAS_CLUSTER\"])[0]\n",
    "model_df[\"HANE_BUYUKLUGU\"] = stats.boxcox(model_data[\"HANE_BUYUKLUGU\"])[0]      \n",
    "model_df[\"ZENGINLIK_INDEKSI\"] = stats.boxcox(model_data[\"ZENGINLIK_INDEKSI\"])[0]   \n",
    "model_df[\"AYLIK_HARCAMA\"] = stats.boxcox(model_data[\"AYLIK_HARCAMA\"])[0]   \n",
    "model_df[\"SEGMENT\"] = stats.boxcox(model_data[\"SEGMENT\"])[0] \n",
    "model_df[\"GIDAVEICECEK\"] = stats.boxcox(model_data[\"GIDAVEICECEK\"])[0]   \n",
    "model_df[\"ALKOLTUTUN\"] = stats.boxcox(model_data[\"ALKOLTUTUN\"])[0]   \n",
    "model_df[\"EGLENCEKULTUR\"] = stats.boxcox(model_data[\"EGLENCEKULTUR\"])[0]  \n",
    "model_df[\"LOKANTAOTEL\"] = stats.boxcox(model_data[\"LOKANTAOTEL\"])[0]    \n",
    "model_df[\"GIDAVEICECEK_ORAN\"] = stats.boxcox(model_data[\"GIDAVEICECEK_ORAN\"])[0]  \n",
    "model_df[\"ALKOLTUTUN_ORAN\"] = stats.boxcox(model_data[\"ALKOLTUTUN_ORAN\"])[0]     \n",
    "model_df[\"EGLENCEKULTUR_ORAN\"] = stats.boxcox(model_data[\"EGLENCEKULTUR_ORAN\"])[0]  \n",
    "model_df[\"LOKANTAOTEL_ORAN\"] = stats.boxcox(model_data[\"LOKANTAOTEL_ORAN\"])[0]                               "
   ]
  },
  {
   "cell_type": "code",
   "execution_count": 26,
   "metadata": {},
   "outputs": [
    {
     "data": {
      "text/plain": [
       "<seaborn.axisgrid.FacetGrid at 0x7f5921a83e90>"
      ]
     },
     "execution_count": 26,
     "metadata": {},
     "output_type": "execute_result"
    },
    {
     "data": {
      "image/png": "[encoded data removed]",
      "text/plain": [
       "<Figure size 360x360 with 1 Axes>"
      ]
     },
     "metadata": {},
     "output_type": "display_data"
    }
   ],
   "source": [
    "# original value\n",
    "sns.displot(model_data[\"AYLIK_HARCAMA\"])"
   ]
  },
  {
   "cell_type": "code",
   "execution_count": 27,
   "metadata": {},
   "outputs": [
    {
     "data": {
      "text/plain": [
       "<seaborn.axisgrid.FacetGrid at 0x7f58a0356510>"
      ]
     },
     "execution_count": 27,
     "metadata": {},
     "output_type": "execute_result"
    },
    {
     "data": {
      "image/png": "[encoded data removed]",
      "text/plain": [
       "<Figure size 360x360 with 1 Axes>"
      ]
     },
     "metadata": {},
     "output_type": "display_data"
    }
   ],
   "source": [
    "# original to normal dist. \n",
    "sns.displot(model_df[\"AYLIK_HARCAMA\"])"
   ]
  },
  {
   "cell_type": "code",
   "execution_count": 28,
   "metadata": {},
   "outputs": [
    {
     "data": {
      "text/plain": [
       "<seaborn.axisgrid.FacetGrid at 0x7f58a0263a90>"
      ]
     },
     "execution_count": 28,
     "metadata": {},
     "output_type": "execute_result"
    },
    {
     "data": {
      "image/png": "[encoded data removed]",
      "text/plain": [
       "<Figure size 360x360 with 1 Axes>"
      ]
     },
     "metadata": {},
     "output_type": "display_data"
    }
   ],
   "source": [
    "# normal dist. to scaling\n",
    "sns.displot(model_data[\"SES\"])"
   ]
  },
  {
   "cell_type": "code",
   "execution_count": 29,
   "metadata": {},
   "outputs": [
    {
     "data": {
      "text/plain": [
       "<seaborn.axisgrid.FacetGrid at 0x7f58a023b610>"
      ]
     },
     "execution_count": 29,
     "metadata": {},
     "output_type": "execute_result"
    },
    {
     "data": {
      "image/png": "[encoded data removed]",
      "text/plain": [
       "<Figure size 360x360 with 1 Axes>"
      ]
     },
     "metadata": {},
     "output_type": "display_data"
    }
   ],
   "source": [
    "# normal dist. to scaling\n",
    "sns.displot(model_df[\"SES\"])"
   ]
  },
  {
   "cell_type": "markdown",
   "metadata": {},
   "source": [
    "#### Scaling Part"
   ]
  },
  {
   "cell_type": "code",
   "execution_count": 30,
   "metadata": {},
   "outputs": [],
   "source": [
    "model_df = scale_data(model_df)"
   ]
  },
  {
   "cell_type": "code",
   "execution_count": 31,
   "metadata": {},
   "outputs": [
    {
     "data": {
      "text/plain": [
       "<seaborn.axisgrid.FacetGrid at 0x7f58a00d8a90>"
      ]
     },
     "execution_count": 31,
     "metadata": {},
     "output_type": "execute_result"
    },
    {
     "data": {
      "image/png": "[encoded data removed]",
      "text/plain": [
       "<Figure size 360x360 with 1 Axes>"
      ]
     },
     "metadata": {},
     "output_type": "display_data"
    }
   ],
   "source": [
    "sns.displot(model_df['SES'])"
   ]
  },
  {
   "cell_type": "code",
   "execution_count": 32,
   "metadata": {},
   "outputs": [
    {
     "data": {
      "text/plain": [
       "<seaborn.axisgrid.FacetGrid at 0x7f5893ec5750>"
      ]
     },
     "execution_count": 32,
     "metadata": {},
     "output_type": "execute_result"
    },
    {
     "data": {
      "image/png": "[encoded data removed]",
      "text/plain": [
       "<Figure size 360x360 with 1 Axes>"
      ]
     },
     "metadata": {},
     "output_type": "display_data"
    }
   ],
   "source": [
    "sns.displot(model_df['YAS_CLUSTER'])"
   ]
  },
  {
   "cell_type": "code",
   "execution_count": 33,
   "metadata": {},
   "outputs": [
    {
     "name": "stdout",
     "output_type": "stream",
     "text": [
      "<class 'pandas.core.frame.DataFrame'>\n",
      "RangeIndex: 23978 entries, 0 to 23977\n",
      "Data columns (total 14 columns):\n",
      " #   Column              Non-Null Count  Dtype  \n",
      "---  ------              --------------  -----  \n",
      " 0   SES                 23978 non-null  float64\n",
      " 1   YAS_CLUSTER         23978 non-null  float64\n",
      " 2   HANE_BUYUKLUGU      23978 non-null  float64\n",
      " 3   ZENGINLIK_INDEKSI   23978 non-null  float64\n",
      " 4   AYLIK_HARCAMA       23978 non-null  float64\n",
      " 5   SEGMENT             23978 non-null  float64\n",
      " 6   GIDAVEICECEK        23978 non-null  float64\n",
      " 7   ALKOLTUTUN          23978 non-null  float64\n",
      " 8   EGLENCEKULTUR       23978 non-null  float64\n",
      " 9   LOKANTAOTEL         23978 non-null  float64\n",
      " 10  GIDAVEICECEK_ORAN   23978 non-null  float64\n",
      " 11  ALKOLTUTUN_ORAN     23978 non-null  float64\n",
      " 12  EGLENCEKULTUR_ORAN  23978 non-null  float64\n",
      " 13  LOKANTAOTEL_ORAN    23978 non-null  float64\n",
      "dtypes: float64(14)\n",
      "memory usage: 2.6 MB\n"
     ]
    }
   ],
   "source": [
    "# final data for model\n",
    "model_df.info()"
   ]
  },
  {
   "cell_type": "markdown",
   "metadata": {},
   "source": [
    "### Feature Weighting"
   ]
  },
  {
   "cell_type": "code",
   "execution_count": 34,
   "metadata": {},
   "outputs": [],
   "source": [
    "# Modele koymadan önce feature'ları ağırlıklandıralım.      \n",
    "model_df[\"SES\"] = model_df[\"SES\"] *  5         \n",
    "model_df[\"YAS_CLUSTER\"] = model_df[\"YAS_CLUSTER\"] *  5\n",
    "#model_df[\"LOKANTAOTEL_ORAN\"] = model_df[\"LOKANTAOTEL_ORAN\"] * 0.5\n",
    "\n",
    "# model_df[\"ORTA_UST\"] = model_df[\"ORTA_UST\"] * 1.2\n",
    "# model_df[\"ZENGINLIK_INDEKSI\"] = model_df[\"ZENGINLIK_INDEKSI\"] * 1.2   \n",
    "# model_df[\"AYLIK_HARCAMA\"] = model_df[\"AYLIK_HARCAMA\"] * 1.2  \n",
    "#model_df[\"HANE_BUYUKLUGU\"] = model_df[\"HANE_BUYUKLUGU\"] * 10\n",
    "#model_df[\"ALKOLTUTUN_ORAN\"] = model_df[\"ALKOLTUTUN_ORAN\"] * 30    \n",
    "#model_df[\"EGLENCEKULTUR_ORAN\"] = model_df[\"EGLENCEKULTUR_ORAN\"] * 0.5 \n",
    "#model_df[\"KULTUREL\"] = model_df[\"KULTUREL\"] * 10\n",
    "#model_df[\"UNIVERSITE\"] = model_df[\"UNIVERSITE\"] * 10\n",
    "#model_df[\"EGITIM\"] = model_df[\"EGITIM\"] * 10  "
   ]
  },
  {
   "cell_type": "markdown",
   "metadata": {},
   "source": [
    "## Model"
   ]
  },
  {
   "cell_type": "code",
   "execution_count": null,
   "metadata": {},
   "outputs": [],
   "source": [
    "hrc_model = AgglomerativeClustering(n_clusters=5, linkage='ward', affinity='euclidean')\n",
    "hrc_preds = hrc_model.fit_predict(model_df)"
   ]
  },
  {
   "cell_type": "code",
   "execution_count": null,
   "metadata": {},
   "outputs": [],
   "source": [
    "model_df[\"hrc_cluster\"] = hrc_preds"
   ]
  },
  {
   "cell_type": "code",
   "execution_count": null,
   "metadata": {},
   "outputs": [],
   "source": [
    "df[\"hrc_cluster\"] = hrc_preds"
   ]
  },
  {
   "cell_type": "code",
   "execution_count": null,
   "metadata": {},
   "outputs": [],
   "source": [
    "model_df[\"hrc_cluster\"].unique()"
   ]
  },
  {
   "cell_type": "code",
   "execution_count": null,
   "metadata": {},
   "outputs": [],
   "source": [
    "model_df['hrc_cluster'].value_counts().plot(kind='pie')"
   ]
  },
  {
   "cell_type": "code",
   "execution_count": null,
   "metadata": {},
   "outputs": [],
   "source": [
    "model_df['hrc_cluster'].value_counts()"
   ]
  },
  {
   "cell_type": "markdown",
   "metadata": {},
   "source": [
    "## Decision Points"
   ]
  },
  {
   "cell_type": "code",
   "execution_count": null,
   "metadata": {},
   "outputs": [],
   "source": [
    "from sklearn.model_selection import train_test_split\n",
    "\n",
    "x = model_df.drop('hrc_cluster', axis=1)\n",
    "y = model_df['hrc_cluster']\n",
    "x_train, x_test, y_train, y_test = train_test_split(x, y, test_size=0.33, random_state=42)\n",
    "    \n",
    "dc = DecisionTreeClassifier(criterion=\"entropy\", random_state=42, ) #max feat. bak bakalım\n",
    "dc.fit(x_train, y_train)\n",
    "y_pred = dc.predict(x_test)\n",
    "\n",
    "d_text = tree.export_text(dc)\n",
    "print(d_text)"
   ]
  },
  {
   "cell_type": "code",
   "execution_count": null,
   "metadata": {},
   "outputs": [],
   "source": [
    "from sklearn import metrics\n",
    "metrics.accuracy_score(y_test, y_pred)"
   ]
  },
  {
   "cell_type": "code",
   "execution_count": null,
   "metadata": {},
   "outputs": [],
   "source": [
    "dc.feature_importances_"
   ]
  },
  {
   "cell_type": "code",
   "execution_count": null,
   "metadata": {},
   "outputs": [],
   "source": [
    "pd.Series(dc.feature_importances_, index=x_train.columns).nlargest(10).plot(kind='barh',figsize=(25, 6))\n"
   ]
  },
  {
   "cell_type": "code",
   "execution_count": null,
   "metadata": {},
   "outputs": [],
   "source": [
    "fig = plt.figure(figsize=(25,20))\n",
    "_ = tree.plot_tree(dc,\n",
    "                   feature_names=model_data.columns,\n",
    "                   filled=True)\n",
    "for o in _:\n",
    "    arrow = o.arrow_patch\n",
    "    if arrow is not None:\n",
    "        arrow.set_edgecolor('black')\n",
    "        arrow.set_linewidth(2)\n",
    "        \n",
    "plt.show()"
   ]
  },
  {
   "cell_type": "code",
   "execution_count": null,
   "metadata": {},
   "outputs": [],
   "source": [
    "plt.figure(figsize=(15, 9))\n",
    "sns.scatterplot(x=\"COCACOLA\", y=\"SPRITE\", hue=df['hrc_cluster'], data=df, palette=['green','red','dodgerblue',\"orange\",\"purple\"])\n",
    "plt.title('Hier. Clustering with 2 dimensions')\n"
   ]
  },
  {
   "cell_type": "code",
   "execution_count": null,
   "metadata": {},
   "outputs": [],
   "source": [
    "#Plot the clusters obtained using k means\n",
    "from mpl_toolkits.mplot3d import Axes3D\n",
    "\n",
    "fig = plt.figure(figsize=(15, 9))\n",
    "ax = fig.add_subplot(111, projection='3d')\n",
    "\n",
    "scatter = ax.scatter(df['AYLIK_HARCAMA'],df['GECE_NUFUS'], df['GUNDUZ_NUFUS'],\n",
    "                     c=hrc_preds, s=20, cmap=\"rainbow\")\n",
    "\n",
    "\n",
    "ax.set_title('Cluster Dist.')\n",
    "ax.set_xlabel('AYLIK_HARCAMA')\n",
    "ax.set_ylabel('GECE_NUFUS')\n",
    "ax.set_zlabel('GUNDUZ_NUFUS')\n",
    "plt.show()"
   ]
  },
  {
   "cell_type": "code",
   "execution_count": null,
   "metadata": {},
   "outputs": [],
   "source": [
    "fig = plt.figure(figsize=(15, 9))\n",
    "ax = fig.add_subplot(111, projection='3d')\n",
    "\n",
    "scatter = ax.scatter(df['SES'].replace({'A': 6, 'B': 5, 'C1': 4, 'C2': 3, 'D': 2, 'E': 1}), df['GECE_NUFUS'], df['GUNDUZ_NUFUS'],\n",
    "                     c=hrc_preds, s=20, cmap=\"rainbow\")\n",
    "\n",
    "\n",
    "ax.set_title('Cluster Dist.')\n",
    "ax.set_xlabel('SES')\n",
    "ax.set_ylabel('GECE_NUFUS')\n",
    "ax.set_zlabel('GUNDUZ_NUFUS')\n",
    "plt.show()"
   ]
  },
  {
   "cell_type": "markdown",
   "metadata": {},
   "source": [
    "## Results"
   ]
  },
  {
   "cell_type": "code",
   "execution_count": null,
   "metadata": {},
   "outputs": [],
   "source": [
    "# extract coordinates\n",
    "df[\"x\"] = df[\"GEOGPOINT\"].apply(lambda x: x.split(\")\")[0].split(\"POINT(\")[1].split(\" \")[1])\n",
    "df[\"y\"] = df[\"GEOGPOINT\"].apply(lambda x: x.split(\")\")[0].split(\"POINT(\")[1].split(\" \")[0])"
   ]
  },
  {
   "cell_type": "code",
   "execution_count": null,
   "metadata": {},
   "outputs": [],
   "source": [
    "df[\"y\"] = pd.to_numeric(df[\"y\"], downcast=\"float\")\n",
    "df[\"x\"] = pd.to_numeric(df[\"x\"], downcast=\"float\")"
   ]
  },
  {
   "cell_type": "code",
   "execution_count": null,
   "metadata": {},
   "outputs": [],
   "source": [
    "cluster_0 = df.query(\"hrc_cluster == 0\")\n",
    "cluster_1 = df.query(\"hrc_cluster == 1\")\n",
    "cluster_2 = df.query(\"hrc_cluster == 2\")\n",
    "cluster_3 = df.query(\"hrc_cluster == 3\")\n",
    "cluster_4 = df.query(\"hrc_cluster == 4\")"
   ]
  },
  {
   "cell_type": "markdown",
   "metadata": {},
   "source": [
    "### General Info."
   ]
  },
  {
   "cell_type": "code",
   "execution_count": null,
   "metadata": {},
   "outputs": [],
   "source": [
    "print(\"Toplam outlet sayısı : \", df.outlet_number.nunique(), \"\\n\")\n",
    "\n",
    "print(\"Totaldeki ortalama aylık harcama: \",df['AYLIK_HARCAMA'].mean(), \"\\n\")\n",
    "\n",
    "print(\"Ortalama Alkol/Tütün harcaması: \", (df['AYLIK_HARCAMA'].mean() / df.ALKOLTUTUN_ORAN.mean()), \"\\n\")\n",
    "\n",
    "print(\"Totaldeki A,B,C1 kategorisindeki toplam outlet sayısı: \", df.query(\"SES == 'A' or SES == 'B' or SES == 'C1'\").outlet_number.nunique(), \"\\n\")\n",
    "\n",
    "print(\"'Genç' kategorisi kapsamındaki toplam outlet sayısı: \", df.query(\"YAS_CLUSTER == 'YOUNG' or YAS_CLUSTER == 'TEEN' or YAS_CLUSTER == 'YOUNG ADULT'\").outlet_number.nunique(), \"\\n\")\n",
    "\n",
    "print(\"Geneldeki ortalama Alkol/Tütün oranı: \", '%', (df.ALKOLTUTUN_ORAN.mean()), \"\\n\")\n",
    "\n",
    "print(\"Ortalama Gıda/İçecek oranı: \", '%', (df.GIDAVEICECEK_ORAN.mean()), \"\\n\")\n",
    "\n",
    "print(\"Ortalama Lokanta/Otel oranı: \", '%', (df.LOKANTAOTEL_ORAN.mean()), \"\\n\")\n",
    "\n",
    "print(\"Ortalama Eğlence/Kültür oranı: \", '%', (df.EGLENCEKULTUR_ORAN.mean()), \"\\n\")\n",
    "\n",
    "print(\"Ortalama hane büyüklüğü: \", df.HANE_BUYUKLUGU.mean(), \"\\n\")\n",
    "\n",
    "print(\"Ortalama Eğitim birimi sayısı: \", df.EGITIM.mean(), \"\\n\")\n",
    "\n",
    "print(\"Ortalama Üniversite birimi sayısı: \", df.UNIVERSITE.mean(), \"\\n\")"
   ]
  },
  {
   "cell_type": "markdown",
   "metadata": {},
   "source": [
    "&nbsp;"
   ]
  },
  {
   "cell_type": "markdown",
   "metadata": {},
   "source": [
    "### Cluster-0 (Orta Yaş & Orta sınıf) "
   ]
  },
  {
   "cell_type": "markdown",
   "metadata": {},
   "source": [
    "<font color='DarkSeaGreen'>  \n",
    "<dd>1. Aylık harcama ortalamanın biraz altında.</dd> \n",
    "<dd>2. SES'te C1 ve C2 en yüksek.</dd>\n",
    "<dd>3. Adult ve Middle age çoğunlukta.</dd>\n",
    "<dd>4. Alkol/Tütün kullanımı ortalamanın üstünde.</dd>\n",
    "</font>"
   ]
  },
  {
   "cell_type": "code",
   "execution_count": null,
   "metadata": {},
   "outputs": [],
   "source": [
    "print(\"Cluster-0'daki toplam outlet sayısı : \",cluster_0.outlet_number.nunique(), \"\\n\")\n",
    "\n",
    "print(\"Cluster-0'ın ortalama aylık harcaması: \",cluster_0['AYLIK_HARCAMA'].mean(), \"\\n\")\n",
    "\n",
    "print(\"Cluster-0'ın ortalama Alkol/Tütün harcaması: \", (cluster_0['AYLIK_HARCAMA'].mean() / cluster_0.ALKOLTUTUN_ORAN.mean()), \"\\n\")\n",
    "\n",
    "print(\"Cluster-0'ın A,B,C1 kategorisindeki outlet oranı: \", '%' ,len(cluster_0.query(\"SES == 'A' or SES == 'B' or SES == 'C1'\").outlet_number)/len(cluster_0.outlet_number)*100, \"\\n\")\n",
    "\n",
    "print(\"Cluster-0'ın 'Genç' kategorisi kapsamındaki outlet yüzdesi: \", '%', len(cluster_0.query(\"YAS_CLUSTER == 'YOUNG' or YAS_CLUSTER == 'TEEN' or YAS_CLUSTER == 'YOUNG ADULT'\").outlet_number)/len(cluster_0.outlet_number)*100, \"\\n\")\n",
    "\n",
    "print(\"Cluster-0'ın 'Yaşlı' kategorisi kapsamındaki outlet yüzdesi: \", '%', len(cluster_0.query(\"YAS_CLUSTER == 'OLD'\").outlet_number)/len(cluster_0.outlet_number)*100, \"\\n\")\n",
    "\n",
    "print(\"Cluster-0'ın clusterlar genelindeki Alkol/Tütün oranı: \", '%', (cluster_0.ALKOLTUTUN_ORAN.sum() / df.ALKOLTUTUN_ORAN.sum())*100, \"\\n\")\n",
    "\n",
    "print(\"Cluster-1'in kendi içindeki ortalama Alkol/Tütün oranı: \", '%', (cluster_1.ALKOLTUTUN_ORAN.mean()), \"\\n\")\n",
    "\n",
    "print(\"Cluster-0'ın ortalama Gıda/İçecek oranı: \", '%', (cluster_0.GIDAVEICECEK_ORAN.mean()), \"\\n\")\n",
    "\n",
    "print(\"Cluster-0'ın ortalama Lokanta/Otel oranı: \", '%', (cluster_0.LOKANTAOTEL_ORAN.mean()), \"\\n\")\n",
    "\n",
    "print(\"Cluster-0'ın ortalama Eğlence/Kültür oranı: \", '%', (cluster_0.EGLENCEKULTUR_ORAN.mean()), \"\\n\")\n",
    "\n",
    "print(\"Cluster-0'ın ortalama hane büyüklüğü: \", cluster_0.HANE_BUYUKLUGU.mean(), \"\\n\")\n",
    "\n",
    "print(\"Cluster-0'ın ortalama Eğitim birimi sayısı: \", cluster_0.EGITIM.mean(), \"\\n\")\n",
    "\n",
    "print(\"Cluster-0'ın ortalama Üniversite birimi sayısı: \", cluster_0.UNIVERSITE.mean(), \"\\n\")"
   ]
  },
  {
   "cell_type": "markdown",
   "metadata": {},
   "source": [
    "&nbsp;"
   ]
  },
  {
   "cell_type": "markdown",
   "metadata": {},
   "source": [
    "### Cluster-1 (Orta Yaş & Orta Üst)"
   ]
  },
  {
   "cell_type": "markdown",
   "metadata": {},
   "source": [
    "<font color='DarkSeaGreen'>  \n",
    "<dd>1. Aylık harcama ortalama.</dd> \n",
    "<dd>2. SES'te C1 en yüksek.</dd>\n",
    "<dd>3. Middle Age en fazla.</dd>\n",
    "<dd>4. Alkol/Tütün kullanımı ortalama.</dd>\n",
    "</font>"
   ]
  },
  {
   "cell_type": "code",
   "execution_count": null,
   "metadata": {},
   "outputs": [],
   "source": [
    "print(\"Cluster-1'deki toplam outlet sayısı : \",cluster_1.outlet_number.nunique(), \"\\n\")\n",
    "\n",
    "print(\"Cluster-1'in ortalama aylık harcaması: \",cluster_1['AYLIK_HARCAMA'].mean(), \"\\n\")\n",
    "\n",
    "print(\"Cluster-1'in ortalama Alkol/Tütün harcaması: \", (cluster_1['AYLIK_HARCAMA'].mean() / cluster_1.ALKOLTUTUN_ORAN.mean()), \"\\n\")\n",
    "\n",
    "print(\"Cluster-1'in A,B,C1 kategorisindeki outlet oranı: \",'%' ,len(cluster_1.query(\"SES == 'A' or SES == 'B' or SES == 'C1'\").outlet_number)/len(cluster_1.outlet_number)*100, \"\\n\")\n",
    "\n",
    "print(\"Cluster-1'in 'Genç' kategorisi kapsamındaki outlet yüzdesi: \", '%', len(cluster_1.query(\"YAS_CLUSTER == 'YOUNG' or YAS_CLUSTER == 'TEEN' or YAS_CLUSTER == 'YOUNG ADULT'\").outlet_number)/len(cluster_1.outlet_number)*100, \"\\n\")\n",
    "\n",
    "print(\"Cluster-1'in 'Yaşlı' kategorisi kapsamındaki outlet yüzdesi: \", '%', len(cluster_1.query(\"YAS_CLUSTER == 'OLD'\").outlet_number)/len(cluster_1.outlet_number)*100, \"\\n\")\n",
    "\n",
    "print(\"Cluster-1'in clusterlar genelindeki Alkol/Tütün oranı: \", '%', (cluster_1.ALKOLTUTUN_ORAN.sum() / df.ALKOLTUTUN_ORAN.sum())*100, \"\\n\")\n",
    "\n",
    "print(\"Cluster-1'in kendi içindeki ortalama Alkol/Tütün oranı: \", '%', (cluster_1.ALKOLTUTUN_ORAN.mean()), \"\\n\")\n",
    "\n",
    "print(\"Cluster-1'in ortalama Gıda/İçecek oranı: \", '%', (cluster_1.GIDAVEICECEK_ORAN.mean()), \"\\n\")\n",
    "\n",
    "print(\"Cluster-1'in ortalama Lokanta/Otel oranı: \", '%', (cluster_1.LOKANTAOTEL_ORAN.mean()), \"\\n\")\n",
    "\n",
    "print(\"Cluster-1'in ortalama Eğlence/Kültür oranı: \", '%', (cluster_1.EGLENCEKULTUR_ORAN.mean()), \"\\n\")\n",
    "\n",
    "print(\"Cluster-1'in ortalama hane büyüklüğü: \", cluster_1.HANE_BUYUKLUGU.mean(), \"\\n\")\n",
    "\n",
    "print(\"Cluster-1'in ortalama Eğitim birimi sayısı: \", cluster_1.EGITIM.mean(), \"\\n\")\n",
    "\n",
    "print(\"Cluster-1'in ortalama Üniversite birimi sayısı: \", cluster_1.UNIVERSITE.mean(), \"\\n\")"
   ]
  },
  {
   "cell_type": "markdown",
   "metadata": {},
   "source": [
    "&nbsp;"
   ]
  },
  {
   "cell_type": "markdown",
   "metadata": {},
   "source": [
    "### Cluster-2 (Üst Sınıf)"
   ]
  },
  {
   "cell_type": "markdown",
   "metadata": {},
   "source": [
    "<font color='DarkSeaGreen'>  \n",
    "<dd>1. Aylık harcama en yüksek.</dd> \n",
    "<dd>2. SES'te A ve B yoğunlukta.</dd>\n",
    "<dd>3. Old ve Middle Age en fazla.</dd>\n",
    "<dd>4. Alkol/Tütün kullanımı ortalamanın altında.</dd>\n",
    "</font>"
   ]
  },
  {
   "cell_type": "code",
   "execution_count": null,
   "metadata": {},
   "outputs": [],
   "source": [
    "print(\"Cluster-2'deki toplam outlet sayısı : \",cluster_2.outlet_number.nunique(), \"\\n\")\n",
    "\n",
    "print(\"Cluster-2'nin ortalama aylık harcaması: \",cluster_2['AYLIK_HARCAMA'].mean(), \"\\n\")\n",
    "\n",
    "print(\"Cluster-2'nin ortalama Alkol/Tütün harcaması: \", (cluster_2['AYLIK_HARCAMA'].mean() / cluster_2.ALKOLTUTUN_ORAN.mean()), \"\\n\")\n",
    "\n",
    "print(\"Cluster-2'nin A,B,C1 kategorisindeki outlet oranı: \",'%' ,len(cluster_2.query(\"SES == 'A' or SES == 'B' or SES == 'C1'\").outlet_number)/len(cluster_2.outlet_number)*100, \"\\n\")\n",
    "\n",
    "print(\"Cluster-2'nin 'Genç' kategorisi kapsamındaki outlet yüzdesi: \", '%', len(cluster_2.query(\"YAS_CLUSTER == 'YOUNG' or YAS_CLUSTER == 'TEEN' or YAS_CLUSTER == 'YOUNG ADULT'\").outlet_number)/len(cluster_2.outlet_number)*100, \"\\n\")\n",
    "\n",
    "print(\"Cluster-2'nin 'Yaşlı' kategorisi kapsamındaki outlet yüzdesi: \", '%', len(cluster_2.query(\"YAS_CLUSTER == 'OLD'\").outlet_number)/len(cluster_2.outlet_number)*100, \"\\n\")\n",
    "\n",
    "print(\"Cluster-2'nin clusterlar genelindeki Alkol/Tütün oranı: \", '%', (cluster_2.ALKOLTUTUN_ORAN.sum() / df.ALKOLTUTUN_ORAN.sum())*100, \"\\n\")\n",
    "\n",
    "print(\"Cluster-2'in kendi içindeki ortalama Alkol/Tütün oranı: \", '%', (cluster_2.ALKOLTUTUN_ORAN.mean()), \"\\n\")\n",
    "\n",
    "print(\"Cluster-2'in ortalama Gıda/İçecek oranı: \", '%', (cluster_2.GIDAVEICECEK_ORAN.mean()), \"\\n\")\n",
    "\n",
    "print(\"Cluster-2'in ortalama Lokanta/Otel oranı: \", '%', (cluster_2.LOKANTAOTEL_ORAN.mean()), \"\\n\")\n",
    "\n",
    "print(\"Cluster-2'in ortalama Eğlence/Kültür oranı: \", '%', (cluster_2.EGLENCEKULTUR_ORAN.mean()), \"\\n\")\n",
    "\n",
    "print(\"Cluster-2'in ortalama hane büyüklüğü: \", cluster_2.HANE_BUYUKLUGU.mean(), \"\\n\")"
   ]
  },
  {
   "cell_type": "markdown",
   "metadata": {},
   "source": [
    "&nbsp;"
   ]
  },
  {
   "cell_type": "markdown",
   "metadata": {},
   "source": [
    "### Cluster-3 (Genç & Orta Alt Sınıf)"
   ]
  },
  {
   "cell_type": "markdown",
   "metadata": {},
   "source": [
    "<font color='DarkSeaGreen'>  \n",
    "<dd>1. Aylık harcama düşük.</dd> \n",
    "<dd>2. SES'te C2 ve C1 yoğunlukta.</dd>\n",
    "<dd>3. Young ve Young Adult fazla</dd>\n",
    "<dd>4. Alkol/Tütün kullanımı yüksek.</dd>\n",
    "</font>"
   ]
  },
  {
   "cell_type": "code",
   "execution_count": null,
   "metadata": {},
   "outputs": [],
   "source": [
    "print(\"Cluster-3'deki toplam outlet sayısı : \",cluster_3.outlet_number.nunique(), \"\\n\")\n",
    "\n",
    "print(\"Cluster-3'ün ortalama aylık harcaması: \",cluster_3['AYLIK_HARCAMA'].mean(), \"\\n\")\n",
    "\n",
    "print(\"Cluster-3'in ortalama Alkol/Tütün harcaması: \", (cluster_3['AYLIK_HARCAMA'].mean() / cluster_3.ALKOLTUTUN_ORAN.mean()), \"\\n\")\n",
    "\n",
    "print(\"Cluster-3'ün A,B,C1 kategorisindeki outlet oranı: \",'%' ,len(cluster_3.query(\"SES == 'A' or SES == 'B' or SES == 'C1'\").outlet_number)/len(cluster_3.outlet_number)*100, \"\\n\")\n",
    "\n",
    "print(\"Cluster-3'ün 'Genç' kategorisi kapsamındaki outlet yüzdesi: \", '%', len(cluster_3.query(\"YAS_CLUSTER == 'YOUNG' or YAS_CLUSTER == 'TEEN' or YAS_CLUSTER == 'YOUNG ADULT'\").outlet_number)/len(cluster_3.outlet_number)*100, \"\\n\")\n",
    "\n",
    "print(\"Cluster-3'ün 'Yaşlı' kategorisi kapsamındaki outlet yüzdesi: \", '%', len(cluster_3.query(\"YAS_CLUSTER == 'OLD'\").outlet_number)/len(cluster_3.outlet_number)*100, \"\\n\")\n",
    "\n",
    "print(\"Cluster-3'ün clusterlar genelindeki Alkol/Tütün oranı: \", '%', (cluster_3.ALKOLTUTUN_ORAN.sum() / df.ALKOLTUTUN_ORAN.sum())*100, \"\\n\")\n",
    "\n",
    "print(\"Cluster-3'ün kendi içindeki ortalama Alkol/Tütün oranı: \", '%', (cluster_3.ALKOLTUTUN_ORAN.mean()), \"\\n\")\n",
    "\n",
    "print(\"Cluster-3'ün ortalama Gıda/İçecek oranı: \", '%', (cluster_3.GIDAVEICECEK_ORAN.mean()), \"\\n\")\n",
    "\n",
    "print(\"Cluster-3'ün ortalama Lokanta/Otel oranı: \", '%', (cluster_3.LOKANTAOTEL_ORAN.mean()), \"\\n\")\n",
    "\n",
    "print(\"Cluster-3'ün ortalama Eğlence/Kültür oranı: \", '%', (cluster_3.EGLENCEKULTUR_ORAN.mean()), \"\\n\")\n",
    "\n",
    "print(\"Cluster-3'ün ortalama hane büyüklüğü: \", cluster_3.HANE_BUYUKLUGU.mean(), \"\\n\")"
   ]
  },
  {
   "cell_type": "markdown",
   "metadata": {},
   "source": [
    "&nbsp;"
   ]
  },
  {
   "cell_type": "markdown",
   "metadata": {},
   "source": [
    "### Cluster-4 (Genç & Alt Sınıf)"
   ]
  },
  {
   "cell_type": "markdown",
   "metadata": {},
   "source": [
    "<font color='DarkSeaGreen'>  \n",
    "<dd>1. Aylık harcama en düşük.</dd> \n",
    "<dd>2. SES kategorisi düşük.</dd>\n",
    "<dd>3. Gençler çok yoğunlukta.</dd>\n",
    "<dd>4. Alkol/Tütün kullanımı en yüksek.</dd>\n",
    "</font>"
   ]
  },
  {
   "cell_type": "code",
   "execution_count": null,
   "metadata": {},
   "outputs": [],
   "source": [
    "print(\"Cluster-4'deki toplam outlet sayısı : \",cluster_4.outlet_number.nunique(), \"\\n\")\n",
    "\n",
    "print(\"Cluster-4'ün ortalama aylık harcaması: \",cluster_4['AYLIK_HARCAMA'].mean(), \"\\n\")\n",
    "\n",
    "print(\"Cluster-4'ün ortalama Alkol/Tütün harcaması: \", (cluster_4['AYLIK_HARCAMA'].mean() / cluster_4.ALKOLTUTUN_ORAN.mean()), \"\\n\")\n",
    "\n",
    "print(\"Cluster-4'ün A,B,C1 kategorisindeki outlet oranı: \",'%' ,len(cluster_4.query(\"SES == 'A' or SES == 'B' or SES == 'C1'\").outlet_number)/len(cluster_4.outlet_number)*100, \"\\n\")\n",
    "\n",
    "print(\"Cluster-4'ün 'Genç' kategorisi kapsamındaki outlet yüzdesi: \", '%', len(cluster_4.query(\"YAS_CLUSTER == 'YOUNG' or YAS_CLUSTER == 'TEEN' or YAS_CLUSTER == 'YOUNG ADULT'\").outlet_number)/len(cluster_4.outlet_number)*100, \"\\n\")\n",
    "\n",
    "print(\"Cluster-4'ün 'Yaşlı' kategorisi kapsamındaki outlet yüzdesi: \", '%', len(cluster_4.query(\"YAS_CLUSTER == 'OLD'\").outlet_number)/len(cluster_4.outlet_number)*100, \"\\n\")\n",
    "\n",
    "print(\"Cluster-4'ün clusterlar genelindeki Alkol/Tütün oranı: \", '%', (cluster_4.ALKOLTUTUN_ORAN.sum() / df.ALKOLTUTUN_ORAN.sum())*100, \"\\n\")\n",
    "\n",
    "print(\"Cluster-4'ün kendi içindeki ortalama Alkol/Tütün oranı: \", '%', (cluster_4.ALKOLTUTUN_ORAN.mean()), \"\\n\")\n",
    "\n",
    "print(\"Cluster-4'ün ortalama Gıda/İçecek oranı: \", '%', (cluster_4.GIDAVEICECEK_ORAN.mean()), \"\\n\")\n",
    "\n",
    "print(\"Cluster-4'ün ortalama Lokanta/Otel oranı: \", '%', (cluster_4.LOKANTAOTEL_ORAN.mean()), \"\\n\")\n",
    "\n",
    "print(\"Cluster-4'ün ortalama Eğlence/Kültür oranı: \", '%', (cluster_4.EGLENCEKULTUR_ORAN.mean()), \"\\n\")\n",
    "\n",
    "print(\"Cluster-4'ün ortalama hane büyüklüğü: \", cluster_4.HANE_BUYUKLUGU.mean(), \"\\n\")"
   ]
  },
  {
   "cell_type": "code",
   "execution_count": null,
   "metadata": {},
   "outputs": [],
   "source": [
    "breakhere"
   ]
  },
  {
   "cell_type": "markdown",
   "metadata": {},
   "source": [
    "<h1><center>Cluster-0</center></h1>"
   ]
  },
  {
   "cell_type": "code",
   "execution_count": null,
   "metadata": {},
   "outputs": [],
   "source": [
    "pie=cluster_0.groupby('YAS_CLUSTER').size().reset_index()\n",
    "pie.columns=['YAS_CLUSTER','value']\n",
    "px.pie(pie,values='value',names='YAS_CLUSTER', title='Age Dist. in CLUSTER-0')"
   ]
  },
  {
   "cell_type": "code",
   "execution_count": null,
   "metadata": {},
   "outputs": [],
   "source": [
    "pie=cluster_0.groupby('SES').size().reset_index()\n",
    "pie.columns=['SES','value']\n",
    "px.pie(pie,values='value',names='SES', title='SES Dist. in CLUSTER-0')"
   ]
  },
  {
   "cell_type": "code",
   "execution_count": null,
   "metadata": {},
   "outputs": [],
   "source": [
    "yas_brand_0 = cluster_0[['YAS_CLUSTER'\n",
    ",'BURN'                \n",
    ",'CAPPY'               \n",
    ",'CC_LIGHT'                   \n",
    ",'COCACOLA'            \n",
    ",'COCACOLA_ENERGY'     \n",
    ",'DAMLA_MINERA'        \n",
    ",'DAMLA_WATER'         \n",
    ",'EXOTIC'         \n",
    ",'FANTA'         \n",
    ",'FUSETEA'         \n",
    ",'MONSTER'         \n",
    ",'POWERADE'         \n",
    ",'SCHWEPPES'         \n",
    ",'SPRITE']].groupby(['YAS_CLUSTER']).sum().reset_index()"
   ]
  },
  {
   "cell_type": "code",
   "execution_count": null,
   "metadata": {},
   "outputs": [],
   "source": [
    "yas_brand_0"
   ]
  },
  {
   "cell_type": "code",
   "execution_count": null,
   "metadata": {},
   "outputs": [],
   "source": [
    "# Hangi yaş grubundan bakmak istediğini burdan filtreleyebilirsin.\n",
    "yas_cluster_0 = yas_brand_0.query(\"YAS_CLUSTER=='MIDDLE AGED'\").groupby(\"YAS_CLUSTER\").sum().T"
   ]
  },
  {
   "cell_type": "code",
   "execution_count": null,
   "metadata": {},
   "outputs": [],
   "source": [
    "yas_cluster_0"
   ]
  },
  {
   "cell_type": "code",
   "execution_count": null,
   "metadata": {},
   "outputs": [],
   "source": [
    "fig = px.pie(yas_cluster_0.reset_index(), values='MIDDLE AGED', names=\"index\", title='Brand Dist. in Middle Age Category (CLUSTER-0)')\n",
    "fig.show()"
   ]
  },
  {
   "cell_type": "code",
   "execution_count": null,
   "metadata": {},
   "outputs": [],
   "source": [
    "# Hangi yaş grubundan bakmak istediğini burdan filtreleyebilirsin.\n",
    "yas_cluster_teen_0 = yas_brand_0.query(\"YAS_CLUSTER=='ADULT'\").groupby(\"YAS_CLUSTER\").sum().T"
   ]
  },
  {
   "cell_type": "code",
   "execution_count": null,
   "metadata": {},
   "outputs": [],
   "source": [
    "fig = px.pie(yas_cluster_teen_0.reset_index(), values='ADULT', names=\"index\", title='Brand Dist. in Old Category (CLUSTER-0)')\n",
    "fig.show()"
   ]
  },
  {
   "cell_type": "code",
   "execution_count": null,
   "metadata": {},
   "outputs": [],
   "source": [
    "pie=cluster_0.groupby('SES').size().reset_index()\n",
    "pie.columns=['SES','value']\n",
    "px.pie(pie,values='value',names='SES', title='SES Dist. in CLUSTER-0')"
   ]
  },
  {
   "cell_type": "code",
   "execution_count": null,
   "metadata": {},
   "outputs": [],
   "source": [
    "IC_FC_c0 = pd.DataFrame()\n",
    "\n",
    "IC_FC_c0['CAPPY_IC_FC'] = cluster_0['CAPPY_IC'] / cluster_0['CAPPY_FC']\n",
    "IC_FC_c0['CC_LIGHT_IC_FC'] = cluster_0['CC_LIGHT_IC'] / cluster_0['CC_LIGHT_FC']\n",
    "IC_FC_c0['CC_NO_SUGAR_IC_FC'] = cluster_0['CC_NO_SUGAR_IC'] / cluster_0['CC_NO_SUGAR_FC']\n",
    "IC_FC_c0['COCACOLA_IC_FC'] = cluster_0['COCACOLA_IC'] / cluster_0['COCACOLA_FC']    \n",
    "IC_FC_c0['COCACOLA_ENERGY_IC_FC'] = cluster_0['COCACOLA_ENERGY_IC'] / cluster_0['COCACOLA_ENERGY_FC']\n",
    "IC_FC_c0['DAMLA_MINERA_IC_FC'] = cluster_0['DAMLA_MINERA_IC'] / cluster_0['DAMLA_MINERA_FC']\n",
    "IC_FC_c0['DAMLA_WATER_IC_FC'] = cluster_0['DAMLA_WATER_IC'] / cluster_0['DAMLA_WATER_FC']\n",
    "IC_FC_c0['FUSETEA_IC_FC'] = cluster_0['FUSETEA_IC'] / cluster_0['FUSETEA_FC']\n",
    "IC_FC_c0['BURN_IC_FC'] = cluster_0['BURN_IC'] / cluster_0['BURN_FC']\n",
    "IC_FC_c0['EXOTIC_IC_FC'] = cluster_0['EXOTIC_IC'] / cluster_0['EXOTIC_FC']\n",
    "IC_FC_c0['FANTA_IC_FC'] = cluster_0['FANTA_IC'] / cluster_0['FANTA_FC']\n",
    "IC_FC_c0['SPRITE_IC_FC'] = cluster_0['SPRITE_IC'] / cluster_0['SPRITE_FC']\n",
    "IC_FC_c0['SCHWEPPES_IC_FC'] = cluster_0['SCHWEPPES_IC'] / cluster_0['SCHWEPPES_FC']\n",
    "IC_FC_c0['POWERADE_IC_FC'] = cluster_0['POWERADE_IC'] / cluster_0['POWERADE_FC']\n",
    "IC_FC_c0['MONSTER_IC_FC'] = cluster_0['MONSTER_IC'] / cluster_0['MONSTER_FC']\n",
    "\n",
    "IC_FC_c0 = IC_FC_c0.reset_index(drop=True)\n",
    "IC_FC_c0 = IC_FC_c0.replace([np.inf, -np.inf], np.nan)\n",
    "IC_FC_c0.fillna(0, inplace=True)\n",
    "IC_FC_c0 = IC_FC_c0.sum().reset_index()\n",
    "IC_FC_c0.rename({0: \"value\"}, inplace=True, axis=1)"
   ]
  },
  {
   "cell_type": "code",
   "execution_count": null,
   "metadata": {},
   "outputs": [],
   "source": [
    "fig = px.pie(IC_FC_c0, values='value', names=\"index\", title='IC/FC Dist. in CLUSTER-0')\n",
    "fig.show()"
   ]
  },
  {
   "cell_type": "code",
   "execution_count": null,
   "metadata": {},
   "outputs": [],
   "source": [
    "c0_rb200 = cluster_0[['burn_rb200',\n",
    " 'cappy_rb200',\n",
    " 'cc_light_rb200',\n",
    " 'cc_rb200',\n",
    " 'damla_minera_rb200',\n",
    " 'damla_water_rb200',\n",
    " 'exotic_rb200',\n",
    " 'fanta_rb200',\n",
    " 'fusetea_rb200',\n",
    " 'monster_rb200',\n",
    " 'powerade_rb200',\n",
    " 'schweppes_rb200',\n",
    " 'sprite_rb200']].reset_index(drop=True)\n",
    "\n",
    "c0_rb200.fillna(0, inplace=True)\n",
    "c0_rb200 = c0_rb200.sum().reset_index()\n",
    "c0_rb200.rename({0: \"value\"}, inplace=True, axis=1)"
   ]
  },
  {
   "cell_type": "code",
   "execution_count": null,
   "metadata": {},
   "outputs": [],
   "source": [
    "fig = px.pie(c0_rb200, values='value', names=\"index\", title='RB200 Dist. in CLUSTER-0')\n",
    "fig.show()"
   ]
  },
  {
   "cell_type": "code",
   "execution_count": null,
   "metadata": {},
   "outputs": [],
   "source": [
    "c0_product = cluster_0[['STILL','SPARKLING','WATER']].sum().reset_index()"
   ]
  },
  {
   "cell_type": "code",
   "execution_count": null,
   "metadata": {},
   "outputs": [],
   "source": [
    "c0_product.rename({0: \"value\"}, inplace=True, axis=1)\n",
    "c0_product = c0_product.iloc[1: , :]"
   ]
  },
  {
   "cell_type": "code",
   "execution_count": null,
   "metadata": {},
   "outputs": [],
   "source": [
    "fig = px.pie(c0_product, values='value', names=\"index\", title='Sparkling Water and Still Dist. in CLUSTER-0')\n",
    "fig.show()"
   ]
  },
  {
   "cell_type": "markdown",
   "metadata": {},
   "source": [
    "<h1><center>Cluster-1</center></h1>"
   ]
  },
  {
   "cell_type": "code",
   "execution_count": null,
   "metadata": {},
   "outputs": [],
   "source": [
    "pie=cluster_1.groupby('YAS_CLUSTER').size().reset_index()\n",
    "pie.columns=['YAS_CLUSTER','value']\n",
    "px.pie(pie,values='value',names='YAS_CLUSTER', title='Age Dist. in CLUSTER-1')"
   ]
  },
  {
   "cell_type": "code",
   "execution_count": null,
   "metadata": {},
   "outputs": [],
   "source": [
    "pie=cluster_1.groupby('SES').size().reset_index()\n",
    "pie.columns=['SES','value']\n",
    "px.pie(pie,values='value',names='SES', title='SES Dist. in CLUSTER-1')"
   ]
  },
  {
   "cell_type": "code",
   "execution_count": null,
   "metadata": {},
   "outputs": [],
   "source": [
    "yas_brand_1 = cluster_1[['YAS_CLUSTER','BURN'                \n",
    ",'CAPPY'               \n",
    ",'CC_LIGHT'               \n",
    ",'COCACOLA'            \n",
    ",'COCACOLA_ENERGY'     \n",
    ",'DAMLA_MINERA'        \n",
    ",'DAMLA_WATER'         \n",
    ",'EXOTIC'         \n",
    ",'FANTA'         \n",
    ",'FUSETEA'         \n",
    ",'MONSTER'         \n",
    ",'POWERADE'         \n",
    ",'SCHWEPPES'         \n",
    ",'SPRITE']].groupby(['YAS_CLUSTER']).sum().reset_index()"
   ]
  },
  {
   "cell_type": "code",
   "execution_count": null,
   "metadata": {},
   "outputs": [],
   "source": [
    "yas_cluster_1 = yas_brand_1.query(\"YAS_CLUSTER=='MIDDLE AGED'\").groupby(\"YAS_CLUSTER\").sum().T"
   ]
  },
  {
   "cell_type": "code",
   "execution_count": null,
   "metadata": {},
   "outputs": [],
   "source": [
    "fig = px.pie(yas_cluster_1.reset_index(), values='MIDDLE AGED', names=\"index\", title='Brand Dist. in Middle Aged Category (CLUSTER-1)')\n",
    "fig.show()"
   ]
  },
  {
   "cell_type": "code",
   "execution_count": null,
   "metadata": {},
   "outputs": [],
   "source": [
    "IC_FC_c1 = pd.DataFrame()\n",
    "\n",
    "IC_FC_c1['CAPPY_IC_FC'] = cluster_1['CAPPY_IC'] / cluster_1['CAPPY_FC']\n",
    "IC_FC_c1['CC_LIGHT_IC_FC'] = cluster_1['CC_LIGHT_IC'] / cluster_1['CC_LIGHT_FC']\n",
    "IC_FC_c1['CC_NO_SUGAR_IC_FC'] = cluster_1['CC_NO_SUGAR_IC'] / cluster_1['CC_NO_SUGAR_FC']\n",
    "IC_FC_c1['COCACOLA_IC_FC'] = cluster_1['COCACOLA_IC'] / cluster_1['COCACOLA_FC']    \n",
    "IC_FC_c1['COCACOLA_ENERGY_IC_FC'] = cluster_1['COCACOLA_ENERGY_IC'] / cluster_1['COCACOLA_ENERGY_FC']\n",
    "IC_FC_c1['DAMLA_MINERA_IC_FC'] = cluster_1['DAMLA_MINERA_IC'] / cluster_1['DAMLA_MINERA_FC']\n",
    "IC_FC_c1['DAMLA_WATER_IC_FC'] = cluster_1['DAMLA_WATER_IC'] / cluster_1['DAMLA_WATER_FC']\n",
    "IC_FC_c1['FUSETEA_IC_FC'] = cluster_1['FUSETEA_IC'] / cluster_1['FUSETEA_FC']\n",
    "IC_FC_c1['BURN_IC_FC'] = cluster_1['BURN_IC'] / cluster_1['BURN_FC']\n",
    "IC_FC_c1['EXOTIC_IC_FC'] = cluster_1['EXOTIC_IC'] / cluster_1['EXOTIC_FC']\n",
    "IC_FC_c1['FANTA_IC_FC'] = cluster_1['FANTA_IC'] / cluster_1['FANTA_FC']\n",
    "IC_FC_c1['SPRITE_IC_FC'] = cluster_1['SPRITE_IC'] / cluster_1['SPRITE_FC']\n",
    "IC_FC_c1['SCHWEPPES_IC_FC'] = cluster_1['SCHWEPPES_IC'] / cluster_1['SCHWEPPES_FC']\n",
    "IC_FC_c1['POWERADE_IC_FC'] = cluster_1['POWERADE_IC'] / cluster_1['POWERADE_FC']\n",
    "IC_FC_c1['MONSTER_IC_FC'] = cluster_1['MONSTER_IC'] / cluster_1['MONSTER_FC']\n",
    "\n",
    "IC_FC_c1 = IC_FC_c1.reset_index(drop=True)\n",
    "IC_FC_c1 = IC_FC_c1.replace([np.inf, -np.inf], np.nan)\n",
    "IC_FC_c1.fillna(0, inplace=True)\n",
    "IC_FC_c1 = IC_FC_c1.sum().reset_index()\n",
    "IC_FC_c1.rename({0: \"value\"}, inplace=True, axis=1)"
   ]
  },
  {
   "cell_type": "code",
   "execution_count": null,
   "metadata": {},
   "outputs": [],
   "source": [
    "fig = px.pie(IC_FC_c1, values='value', names=\"index\", title='IC/FC Dist. in CLUSTER-1')\n",
    "fig.show()"
   ]
  },
  {
   "cell_type": "code",
   "execution_count": null,
   "metadata": {},
   "outputs": [],
   "source": [
    "c1_rb200 = cluster_1[['burn_rb200',\n",
    " 'cappy_rb200',\n",
    " 'cc_light_rb200',\n",
    " 'cc_rb200',\n",
    " 'damla_minera_rb200',\n",
    " 'damla_water_rb200',\n",
    " 'exotic_rb200',\n",
    " 'fanta_rb200',\n",
    " 'fusetea_rb200',\n",
    " 'monster_rb200',\n",
    " 'powerade_rb200',\n",
    " 'schweppes_rb200',\n",
    " 'sprite_rb200']].reset_index(drop=True)\n",
    "\n",
    "c1_rb200.fillna(0, inplace=True)\n",
    "c1_rb200 = c1_rb200.sum().reset_index()\n",
    "c1_rb200.rename({0: \"value\"}, inplace=True, axis=1)"
   ]
  },
  {
   "cell_type": "code",
   "execution_count": null,
   "metadata": {},
   "outputs": [],
   "source": [
    "fig = px.pie(c1_rb200, values='value', names=\"index\", title='RB200 Dist. in CLUSTER-1')\n",
    "fig.show()"
   ]
  },
  {
   "cell_type": "code",
   "execution_count": null,
   "metadata": {},
   "outputs": [],
   "source": [
    "c1_product = cluster_1[['STILL','SPARKLING','WATER']].sum().reset_index()"
   ]
  },
  {
   "cell_type": "code",
   "execution_count": null,
   "metadata": {},
   "outputs": [],
   "source": [
    "c1_product.rename({0: \"value\"}, inplace=True, axis=1)\n",
    "c1_product = c1_product.iloc[1: , :]"
   ]
  },
  {
   "cell_type": "code",
   "execution_count": null,
   "metadata": {},
   "outputs": [],
   "source": [
    "fig = px.pie(c1_product, values='value', names=\"index\", title='Sparkling Water and Still Dist. in CLUSTER-1')\n",
    "fig.show()"
   ]
  },
  {
   "cell_type": "markdown",
   "metadata": {},
   "source": [
    "<h1><center>Cluster-2</center></h1>\n",
    "\n"
   ]
  },
  {
   "cell_type": "code",
   "execution_count": null,
   "metadata": {},
   "outputs": [],
   "source": [
    "pie=cluster_2.groupby('YAS_CLUSTER').size().reset_index()\n",
    "pie.columns=['YAS_CLUSTER','value']\n",
    "px.pie(pie,values='value',names='YAS_CLUSTER', title='Age Dist. in CLUSTER-2')"
   ]
  },
  {
   "cell_type": "code",
   "execution_count": null,
   "metadata": {},
   "outputs": [],
   "source": [
    "pie=cluster_2.groupby('SES').size().reset_index()\n",
    "pie.columns=['SES','value']\n",
    "px.pie(pie,values='value',names='SES', title='SES Dist. in CLUSTER-2')"
   ]
  },
  {
   "cell_type": "code",
   "execution_count": null,
   "metadata": {},
   "outputs": [],
   "source": [
    "yas_brand_2 = cluster_2[['YAS_CLUSTER','BURN'                \n",
    ",'CAPPY'               \n",
    ",'CC_LIGHT'                    \n",
    ",'COCACOLA'            \n",
    ",'COCACOLA_ENERGY'     \n",
    ",'DAMLA_MINERA'        \n",
    ",'DAMLA_WATER'         \n",
    ",'EXOTIC'         \n",
    ",'FANTA'         \n",
    ",'FUSETEA'         \n",
    ",'MONSTER'         \n",
    ",'POWERADE'         \n",
    ",'SCHWEPPES'         \n",
    ",'SPRITE']].groupby(['YAS_CLUSTER']).sum().reset_index()"
   ]
  },
  {
   "cell_type": "code",
   "execution_count": null,
   "metadata": {},
   "outputs": [],
   "source": [
    "yas_brand_2"
   ]
  },
  {
   "cell_type": "code",
   "execution_count": null,
   "metadata": {},
   "outputs": [],
   "source": [
    "yas_cluster_2 = yas_brand_2.query(\"YAS_CLUSTER=='MIDDLE AGED'\").groupby(\"YAS_CLUSTER\").sum().T"
   ]
  },
  {
   "cell_type": "code",
   "execution_count": null,
   "metadata": {},
   "outputs": [],
   "source": [
    "yas_cluster_2"
   ]
  },
  {
   "cell_type": "code",
   "execution_count": null,
   "metadata": {},
   "outputs": [],
   "source": [
    "yas_brand_2_sum = cluster_2[['YAS_CLUSTER','BURN'                \n",
    ",'CAPPY'               \n",
    ",'CC_LIGHT'                    \n",
    ",'COCACOLA'            \n",
    ",'COCACOLA_ENERGY'     \n",
    ",'DAMLA_MINERA'        \n",
    ",'DAMLA_WATER'         \n",
    ",'EXOTIC'         \n",
    ",'FANTA'         \n",
    ",'FUSETEA'         \n",
    ",'MONSTER'         \n",
    ",'POWERADE'         \n",
    ",'SCHWEPPES'         \n",
    ",'SPRITE']].sum().reset_index()"
   ]
  },
  {
   "cell_type": "code",
   "execution_count": null,
   "metadata": {},
   "outputs": [],
   "source": [
    "yas_brand_2_sum.rename({0: \"value\"}, inplace=True, axis=1)\n",
    "yas_brand_2_sum = yas_brand_2_sum.iloc[1: , :]"
   ]
  },
  {
   "cell_type": "code",
   "execution_count": null,
   "metadata": {},
   "outputs": [],
   "source": [
    "yas_brand_2_sum"
   ]
  },
  {
   "cell_type": "code",
   "execution_count": null,
   "metadata": {},
   "outputs": [],
   "source": [
    "fig = px.pie(yas_brand_2_sum, values='value', names=\"index\", title='Brand Dist. in CLUSTER-2')\n",
    "fig.show()"
   ]
  },
  {
   "cell_type": "code",
   "execution_count": null,
   "metadata": {},
   "outputs": [],
   "source": [
    "fig = px.pie(yas_cluster_2.reset_index(), values='MIDDLE AGED', names=\"index\", title='Brand Dist. in Middle Aged Category (CLUSTER-2)')\n",
    "fig.show()"
   ]
  },
  {
   "cell_type": "code",
   "execution_count": null,
   "metadata": {},
   "outputs": [],
   "source": [
    "yas_cluster_2_old = yas_brand_2.query(\"YAS_CLUSTER=='OLD'\").groupby(\"YAS_CLUSTER\").sum().T"
   ]
  },
  {
   "cell_type": "code",
   "execution_count": null,
   "metadata": {},
   "outputs": [],
   "source": [
    "yas_cluster_2_old"
   ]
  },
  {
   "cell_type": "code",
   "execution_count": null,
   "metadata": {},
   "outputs": [],
   "source": [
    "fig = px.pie(yas_cluster_2_old.reset_index(), values='OLD', names=\"index\", title='Brand Dist. in Old Category (CLUSTER-2)')\n",
    "fig.show()"
   ]
  },
  {
   "cell_type": "code",
   "execution_count": null,
   "metadata": {},
   "outputs": [],
   "source": [
    "IC_FC_c2 = pd.DataFrame()\n",
    "\n",
    "IC_FC_c2['CAPPY_IC_FC'] = cluster_2['CAPPY_IC'] / cluster_2['CAPPY_FC']\n",
    "IC_FC_c2['CC_LIGHT_IC_FC'] = cluster_2['CC_LIGHT_IC'] / cluster_2['CC_LIGHT_FC']\n",
    "IC_FC_c2['CC_NO_SUGAR_IC_FC'] = cluster_2['CC_NO_SUGAR_IC'] / cluster_2['CC_NO_SUGAR_FC']\n",
    "IC_FC_c2['COCACOLA_IC_FC'] = cluster_2['COCACOLA_IC'] / cluster_2['COCACOLA_FC']    \n",
    "IC_FC_c2['COCACOLA_ENERGY_IC_FC'] = cluster_2['COCACOLA_ENERGY_IC'] / cluster_2['COCACOLA_ENERGY_FC']\n",
    "IC_FC_c2['DAMLA_MINERA_IC_FC'] = cluster_2['DAMLA_MINERA_IC'] / cluster_2['DAMLA_MINERA_FC']\n",
    "IC_FC_c2['DAMLA_WATER_IC_FC'] = cluster_2['DAMLA_WATER_IC'] / cluster_2['DAMLA_WATER_FC']\n",
    "IC_FC_c2['FUSETEA_IC_FC'] = cluster_2['FUSETEA_IC'] / cluster_2['FUSETEA_FC']\n",
    "IC_FC_c2['BURN_IC_FC'] = cluster_2['BURN_IC'] / cluster_2['BURN_FC']\n",
    "IC_FC_c2['EXOTIC_IC_FC'] = cluster_2['EXOTIC_IC'] / cluster_2['EXOTIC_FC']\n",
    "IC_FC_c2['FANTA_IC_FC'] = cluster_2['FANTA_IC'] / cluster_2['FANTA_FC']\n",
    "IC_FC_c2['SPRITE_IC_FC'] = cluster_2['SPRITE_IC'] / cluster_2['SPRITE_FC']\n",
    "IC_FC_c2['SCHWEPPES_IC_FC'] = cluster_2['SCHWEPPES_IC'] / cluster_2['SCHWEPPES_FC']\n",
    "IC_FC_c2['POWERADE_IC_FC'] = cluster_2['POWERADE_IC'] / cluster_2['POWERADE_FC']\n",
    "IC_FC_c2['MONSTER_IC_FC'] = cluster_2['MONSTER_IC'] / cluster_2['MONSTER_FC']\n",
    "\n",
    "IC_FC_c2 = IC_FC_c2.reset_index(drop=True)\n",
    "IC_FC_c2 = IC_FC_c2.replace([np.inf, -np.inf], np.nan)\n",
    "IC_FC_c2.fillna(0, inplace=True)\n",
    "IC_FC_c2 = IC_FC_c2.sum().reset_index()\n",
    "IC_FC_c2.rename({0: \"value\"}, inplace=True, axis=1)"
   ]
  },
  {
   "cell_type": "code",
   "execution_count": null,
   "metadata": {},
   "outputs": [],
   "source": [
    "fig = px.pie(IC_FC_c2, values='value', names=\"index\", title='IC/FC Dist. in CLUSTER-2')\n",
    "fig.show()"
   ]
  },
  {
   "cell_type": "code",
   "execution_count": null,
   "metadata": {},
   "outputs": [],
   "source": [
    "c2_rb200 = cluster_2[['burn_rb200',\n",
    " 'cappy_rb200',\n",
    " 'cc_light_rb200',\n",
    " 'cc_rb200',\n",
    " 'damla_minera_rb200',\n",
    " 'damla_water_rb200',\n",
    " 'exotic_rb200',\n",
    " 'fanta_rb200',\n",
    " 'fusetea_rb200',\n",
    " 'monster_rb200',\n",
    " 'powerade_rb200',\n",
    " 'schweppes_rb200',\n",
    " 'sprite_rb200']].reset_index(drop=True)\n",
    "\n",
    "c2_rb200.fillna(0, inplace=True)\n",
    "c2_rb200 = c2_rb200.sum().reset_index()\n",
    "c2_rb200.rename({0: \"value\"}, inplace=True, axis=1)"
   ]
  },
  {
   "cell_type": "code",
   "execution_count": null,
   "metadata": {},
   "outputs": [],
   "source": [
    "fig = px.pie(c2_rb200, values='value', names=\"index\", title='RB200 Dist. in CLUSTER-2')\n",
    "fig.show()"
   ]
  },
  {
   "cell_type": "code",
   "execution_count": null,
   "metadata": {},
   "outputs": [],
   "source": [
    "c2_product = cluster_2[['STILL','SPARKLING','WATER']].sum().reset_index()"
   ]
  },
  {
   "cell_type": "code",
   "execution_count": null,
   "metadata": {},
   "outputs": [],
   "source": [
    "c2_product.rename({0: \"value\"}, inplace=True, axis=1)\n",
    "c2_product = c2_product.iloc[1: , :]"
   ]
  },
  {
   "cell_type": "code",
   "execution_count": null,
   "metadata": {},
   "outputs": [],
   "source": [
    "fig = px.pie(c2_product, values='value', names=\"index\", title='Sparkling Water and Still Dist. in CLUSTER-2')\n",
    "fig.show()"
   ]
  },
  {
   "cell_type": "markdown",
   "metadata": {},
   "source": [
    "<h1><center>Cluster-3</center></h1>"
   ]
  },
  {
   "cell_type": "code",
   "execution_count": null,
   "metadata": {},
   "outputs": [],
   "source": [
    "pie=cluster_3.groupby('YAS_CLUSTER').size().reset_index()\n",
    "pie.columns=['YAS_CLUSTER','value']\n",
    "px.pie(pie,values='value',names='YAS_CLUSTER', title='Age Dist. in CLUSTER-3')"
   ]
  },
  {
   "cell_type": "code",
   "execution_count": null,
   "metadata": {},
   "outputs": [],
   "source": [
    "pie=cluster_3.groupby('SES').size().reset_index()\n",
    "pie.columns=['SES','value']\n",
    "px.pie(pie,values='value',names='SES', title='SES Dist. in CLUSTER-3')"
   ]
  },
  {
   "cell_type": "code",
   "execution_count": null,
   "metadata": {},
   "outputs": [],
   "source": [
    "yas_brand_3 = cluster_3[['YAS_CLUSTER','BURN'                \n",
    ",'CAPPY'               \n",
    ",'CC_LIGHT'                 \n",
    ",'COCACOLA'            \n",
    ",'COCACOLA_ENERGY'     \n",
    ",'DAMLA_MINERA'        \n",
    ",'DAMLA_WATER'         \n",
    ",'EXOTIC'         \n",
    ",'FANTA'         \n",
    ",'FUSETEA'         \n",
    ",'MONSTER'         \n",
    ",'POWERADE'         \n",
    ",'SCHWEPPES'         \n",
    ",'SPRITE']].groupby(['YAS_CLUSTER']).sum().reset_index()"
   ]
  },
  {
   "cell_type": "code",
   "execution_count": null,
   "metadata": {},
   "outputs": [],
   "source": [
    "yas_brand_3"
   ]
  },
  {
   "cell_type": "code",
   "execution_count": null,
   "metadata": {},
   "outputs": [],
   "source": [
    "yas_cluster_3 = yas_brand_3.query(\"YAS_CLUSTER=='OLD'\").groupby(\"YAS_CLUSTER\").sum().T"
   ]
  },
  {
   "cell_type": "code",
   "execution_count": null,
   "metadata": {},
   "outputs": [],
   "source": [
    "yas_cluster_3"
   ]
  },
  {
   "cell_type": "code",
   "execution_count": null,
   "metadata": {},
   "outputs": [],
   "source": [
    "yas_brand_3_sum = cluster_3[['YAS_CLUSTER','BURN'                \n",
    ",'CAPPY'               \n",
    ",'CC_LIGHT'                     \n",
    ",'COCACOLA'            \n",
    ",'COCACOLA_ENERGY'     \n",
    ",'DAMLA_MINERA'        \n",
    ",'DAMLA_WATER'         \n",
    ",'EXOTIC'         \n",
    ",'FANTA'         \n",
    ",'FUSETEA'         \n",
    ",'MONSTER'         \n",
    ",'POWERADE'         \n",
    ",'SCHWEPPES'         \n",
    ",'SPRITE']].sum().reset_index()"
   ]
  },
  {
   "cell_type": "code",
   "execution_count": null,
   "metadata": {},
   "outputs": [],
   "source": [
    "yas_brand_3_sum.rename({0: \"value\"}, inplace=True, axis=1)\n",
    "yas_brand_3_sum = yas_brand_3_sum.iloc[1: , :]"
   ]
  },
  {
   "cell_type": "code",
   "execution_count": null,
   "metadata": {},
   "outputs": [],
   "source": [
    "yas_brand_3_sum"
   ]
  },
  {
   "cell_type": "code",
   "execution_count": null,
   "metadata": {},
   "outputs": [],
   "source": [
    "fig = px.pie(yas_brand_3_sum, values='value', names=\"index\", title='Brand Dist. in CLUSTER-3')\n",
    "fig.show()"
   ]
  },
  {
   "cell_type": "code",
   "execution_count": null,
   "metadata": {},
   "outputs": [],
   "source": [
    "IC_FC_c3 = pd.DataFrame()\n",
    "\n",
    "IC_FC_c3['CAPPY_IC_FC'] = cluster_3['CAPPY_IC'] / cluster_3['CAPPY_FC']\n",
    "IC_FC_c3['CC_LIGHT_IC_FC'] = cluster_3['CC_LIGHT_IC'] / cluster_3['CC_LIGHT_FC']\n",
    "IC_FC_c3['CC_NO_SUGAR_IC_FC'] = cluster_3['CC_NO_SUGAR_IC'] / cluster_3['CC_NO_SUGAR_FC']\n",
    "IC_FC_c3['COCACOLA_IC_FC'] = cluster_3['COCACOLA_IC'] / cluster_3['COCACOLA_FC']    \n",
    "IC_FC_c3['COCACOLA_ENERGY_IC_FC'] = cluster_3['COCACOLA_ENERGY_IC'] / cluster_3['COCACOLA_ENERGY_FC']\n",
    "IC_FC_c3['DAMLA_MINERA_IC_FC'] = cluster_3['DAMLA_MINERA_IC'] / cluster_3['DAMLA_MINERA_FC']\n",
    "IC_FC_c3['DAMLA_WATER_IC_FC'] = cluster_3['DAMLA_WATER_IC'] / cluster_3['DAMLA_WATER_FC']\n",
    "IC_FC_c3['FUSETEA_IC_FC'] = cluster_2['FUSETEA_IC'] / cluster_3['FUSETEA_FC']\n",
    "IC_FC_c3['BURN_IC_FC'] = cluster_3['BURN_IC'] / cluster_3['BURN_FC']\n",
    "IC_FC_c3['EXOTIC_IC_FC'] = cluster_3['EXOTIC_IC'] / cluster_3['EXOTIC_FC']\n",
    "IC_FC_c3['FANTA_IC_FC'] = cluster_3['FANTA_IC'] / cluster_3['FANTA_FC']\n",
    "IC_FC_c3['SPRITE_IC_FC'] = cluster_3['SPRITE_IC'] / cluster_3['SPRITE_FC']\n",
    "IC_FC_c3['SCHWEPPES_IC_FC'] = cluster_3['SCHWEPPES_IC'] / cluster_3['SCHWEPPES_FC']\n",
    "IC_FC_c3['POWERADE_IC_FC'] = cluster_3['POWERADE_IC'] / cluster_3['POWERADE_FC']\n",
    "IC_FC_c3['MONSTER_IC_FC'] = cluster_3['MONSTER_IC'] / cluster_3['MONSTER_FC']\n",
    "\n",
    "IC_FC_c3 = IC_FC_c3.reset_index(drop=True)\n",
    "IC_FC_c3 = IC_FC_c3.replace([np.inf, -np.inf], np.nan)\n",
    "IC_FC_c3.fillna(0, inplace=True)\n",
    "IC_FC_c3 = IC_FC_c3.sum().reset_index()\n",
    "IC_FC_c3.rename({0: \"value\"}, inplace=True, axis=1)"
   ]
  },
  {
   "cell_type": "code",
   "execution_count": null,
   "metadata": {},
   "outputs": [],
   "source": [
    "fig = px.pie(IC_FC_c3, values='value', names=\"index\", title='IC/FC Dist. in CLUSTER-3')\n",
    "fig.show()"
   ]
  },
  {
   "cell_type": "code",
   "execution_count": null,
   "metadata": {},
   "outputs": [],
   "source": [
    "c3_rb200 = cluster_3[['burn_rb200',\n",
    " 'cappy_rb200',\n",
    " 'cc_light_rb200',\n",
    " 'cc_rb200',\n",
    " 'damla_minera_rb200',\n",
    " 'damla_water_rb200',\n",
    " 'exotic_rb200',\n",
    " 'fanta_rb200',\n",
    " 'fusetea_rb200',\n",
    " 'monster_rb200',\n",
    " 'powerade_rb200',\n",
    " 'schweppes_rb200',\n",
    " 'sprite_rb200']].reset_index(drop=True)\n",
    "\n",
    "c3_rb200.fillna(0, inplace=True)\n",
    "c3_rb200 = c3_rb200.sum().reset_index()\n",
    "c3_rb200.rename({0: \"value\"}, inplace=True, axis=1)"
   ]
  },
  {
   "cell_type": "code",
   "execution_count": null,
   "metadata": {},
   "outputs": [],
   "source": [
    "fig = px.pie(c3_rb200, values='value', names=\"index\", title='RB200 Dist. in CLUSTER-3')\n",
    "fig.show()"
   ]
  },
  {
   "cell_type": "code",
   "execution_count": null,
   "metadata": {},
   "outputs": [],
   "source": [
    "c3_product = cluster_3[['STILL','SPARKLING','WATER']].sum().reset_index()"
   ]
  },
  {
   "cell_type": "code",
   "execution_count": null,
   "metadata": {},
   "outputs": [],
   "source": [
    "c3_product.rename({0: \"value\"}, inplace=True, axis=1)\n",
    "c3_product = c3_product.iloc[1: , :]"
   ]
  },
  {
   "cell_type": "code",
   "execution_count": null,
   "metadata": {},
   "outputs": [],
   "source": [
    "fig = px.pie(c3_product, values='value', names=\"index\", title='Sparkling Water and Still Dist. in CLUSTER-3')\n",
    "fig.show()"
   ]
  },
  {
   "cell_type": "markdown",
   "metadata": {},
   "source": [
    "<h1><center>Cluster-4</center></h1>"
   ]
  },
  {
   "cell_type": "code",
   "execution_count": null,
   "metadata": {},
   "outputs": [],
   "source": [
    "pie=cluster_4.groupby('YAS_CLUSTER').size().reset_index()\n",
    "pie.columns=['YAS_CLUSTER','value']\n",
    "px.pie(pie,values='value',names='YAS_CLUSTER', title='Age Dist. in CLUSTER-4')"
   ]
  },
  {
   "cell_type": "code",
   "execution_count": null,
   "metadata": {},
   "outputs": [],
   "source": [
    "pie=cluster_4.groupby('SES').size().reset_index()\n",
    "pie.columns=['SES','value']\n",
    "px.pie(pie,values='value',names='SES', title='SES Dist. in CLUSTER-4')"
   ]
  },
  {
   "cell_type": "code",
   "execution_count": null,
   "metadata": {},
   "outputs": [],
   "source": [
    "yas_brand_4 = cluster_4[['YAS_CLUSTER','BURN'                \n",
    ",'CAPPY'               \n",
    ",'CC_LIGHT'                 \n",
    ",'COCACOLA'            \n",
    ",'COCACOLA_ENERGY'     \n",
    ",'DAMLA_MINERA'        \n",
    ",'DAMLA_WATER'         \n",
    ",'EXOTIC'         \n",
    ",'FANTA'         \n",
    ",'FUSETEA'         \n",
    ",'MONSTER'         \n",
    ",'POWERADE'         \n",
    ",'SCHWEPPES'         \n",
    ",'SPRITE']].groupby(['YAS_CLUSTER']).sum().reset_index()"
   ]
  },
  {
   "cell_type": "code",
   "execution_count": null,
   "metadata": {},
   "outputs": [],
   "source": [
    "yas_brand_4"
   ]
  },
  {
   "cell_type": "code",
   "execution_count": null,
   "metadata": {},
   "outputs": [],
   "source": [
    "# Hangi yaş grubundan bakmak istediğini burdan filtreleyebilirsin.\n",
    "yas_cluster_4 = yas_brand_4.query(\"YAS_CLUSTER=='YOUNG ADULT'\").groupby(\"YAS_CLUSTER\").sum().T"
   ]
  },
  {
   "cell_type": "code",
   "execution_count": null,
   "metadata": {},
   "outputs": [],
   "source": [
    "fig = px.pie(yas_cluster_4.reset_index(), values='YOUNG ADULT', names=\"index\", title='Brand Dist. in Young Adult Category (CLUSTER-4)')\n",
    "fig.show()"
   ]
  },
  {
   "cell_type": "code",
   "execution_count": null,
   "metadata": {},
   "outputs": [],
   "source": [
    "# Hangi yaş grubundan bakmak istediğini burdan filtreleyebilirsin.\n",
    "yas_cluster_mid_4 = yas_brand_4.query(\"YAS_CLUSTER=='YOUNG'\").groupby(\"YAS_CLUSTER\").sum().T"
   ]
  },
  {
   "cell_type": "code",
   "execution_count": null,
   "metadata": {},
   "outputs": [],
   "source": [
    "fig = px.pie(yas_cluster_mid_4.reset_index(), values='YOUNG', names=\"index\", title='Brand Dist. in Young Category (CLUSTER-4)')\n",
    "fig.show()"
   ]
  },
  {
   "cell_type": "code",
   "execution_count": null,
   "metadata": {},
   "outputs": [],
   "source": [
    "IC_FC_c4 = pd.DataFrame()\n",
    "\n",
    "IC_FC_c4['CAPPY_IC_FC'] = cluster_4['CAPPY_IC'] / cluster_4['CAPPY_FC']\n",
    "IC_FC_c4['CC_LIGHT_IC_FC'] = cluster_4['CC_LIGHT_IC'] / cluster_4['CC_LIGHT_FC']\n",
    "IC_FC_c4['CC_NO_SUGAR_IC_FC'] = cluster_4['CC_NO_SUGAR_IC'] / cluster_4['CC_NO_SUGAR_FC']\n",
    "IC_FC_c4['COCACOLA_IC_FC'] = cluster_4['COCACOLA_IC'] / cluster_4['COCACOLA_FC']    \n",
    "IC_FC_c4['COCACOLA_ENERGY_IC_FC'] = cluster_4['COCACOLA_ENERGY_IC'] / cluster_4['COCACOLA_ENERGY_FC']\n",
    "IC_FC_c4['DAMLA_MINERA_IC_FC'] = cluster_4['DAMLA_MINERA_IC'] / cluster_4['DAMLA_MINERA_FC']\n",
    "IC_FC_c4['DAMLA_WATER_IC_FC'] = cluster_4['DAMLA_WATER_IC'] / cluster_4['DAMLA_WATER_FC']\n",
    "IC_FC_c4['FUSETEA_IC_FC'] = cluster_4['FUSETEA_IC'] / cluster_4['FUSETEA_FC']\n",
    "IC_FC_c4['BURN_IC_FC'] = cluster_4['BURN_IC'] / cluster_4['BURN_FC']\n",
    "IC_FC_c4['EXOTIC_IC_FC'] = cluster_4['EXOTIC_IC'] / cluster_4['EXOTIC_FC']\n",
    "IC_FC_c4['FANTA_IC_FC'] = cluster_4['FANTA_IC'] / cluster_4['FANTA_FC']\n",
    "IC_FC_c4['SPRITE_IC_FC'] = cluster_4['SPRITE_IC'] / cluster_4['SPRITE_FC']\n",
    "IC_FC_c4['SCHWEPPES_IC_FC'] = cluster_4['SCHWEPPES_IC'] / cluster_4['SCHWEPPES_FC']\n",
    "IC_FC_c4['POWERADE_IC_FC'] = cluster_4['POWERADE_IC'] / cluster_4['POWERADE_FC']\n",
    "IC_FC_c4['MONSTER_IC_FC'] = cluster_4['MONSTER_IC'] / cluster_4['MONSTER_FC']\n",
    "\n",
    "IC_FC_c4 = IC_FC_c4.reset_index(drop=True)\n",
    "IC_FC_c4 = IC_FC_c4.replace([np.inf, -np.inf], np.nan)\n",
    "IC_FC_c4.fillna(0, inplace=True)\n",
    "IC_FC_c4 = IC_FC_c4.sum().reset_index()\n",
    "IC_FC_c4.rename({0: \"value\"}, inplace=True, axis=1)"
   ]
  },
  {
   "cell_type": "code",
   "execution_count": null,
   "metadata": {},
   "outputs": [],
   "source": [
    "fig = px.pie(IC_FC_c4, values='value', names=\"index\", title='IC/FC Dist. in CLUSTER-4')\n",
    "fig.show()"
   ]
  },
  {
   "cell_type": "code",
   "execution_count": null,
   "metadata": {},
   "outputs": [],
   "source": [
    "IC_c4 = cluster_4[['CAPPY_IC',\n",
    "'CC_LIGHT_IC',\n",
    "'CC_NO_SUGAR_IC',\n",
    "'COCACOLA_IC',    \n",
    "'COCACOLA_ENERGY_IC',\n",
    "'DAMLA_MINERA_IC',\n",
    "'DAMLA_WATER_IC',\n",
    "'FUSETEA_IC',\n",
    "'BURN_IC',\n",
    "'EXOTIC_IC',\n",
    "'FANTA_IC',\n",
    "'SPRITE_IC',\n",
    "'SCHWEPPES_IC',\n",
    "'POWERADE_IC',\n",
    "'MONSTER_IC']].sum().reset_index()"
   ]
  },
  {
   "cell_type": "code",
   "execution_count": null,
   "metadata": {},
   "outputs": [],
   "source": [
    "IC_c4.rename({0: \"value\"}, inplace=True, axis=1)\n",
    "IC_c4 = IC_c4.iloc[1: , :]"
   ]
  },
  {
   "cell_type": "code",
   "execution_count": null,
   "metadata": {},
   "outputs": [],
   "source": [
    "fig = px.pie(IC_c4, values='value', names=\"index\", title='IC Dist. in CLUSTER-4')\n",
    "fig.show()"
   ]
  },
  {
   "cell_type": "code",
   "execution_count": null,
   "metadata": {},
   "outputs": [],
   "source": [
    "FC_c4= cluster_4[['CAPPY_FC',\n",
    "'CC_LIGHT_FC',\n",
    "'CC_NO_SUGAR_FC',\n",
    "'COCACOLA_FC',\n",
    "'COCACOLA_ENERGY_FC',\n",
    "'DAMLA_MINERA_FC',\n",
    "'DAMLA_WATER_FC',\n",
    "'FUSETEA_FC',\n",
    "'BURN_FC',\n",
    "'EXOTIC_FC',\n",
    "'FANTA_FC',\n",
    "'MONSTER_FC',\n",
    "'POWERADE_FC',\n",
    "'SCHWEPPES_FC',\n",
    "'SPRITE_FC']].sum().reset_index()"
   ]
  },
  {
   "cell_type": "code",
   "execution_count": null,
   "metadata": {},
   "outputs": [],
   "source": [
    "FC_c4.rename({0: \"value\"}, inplace=True, axis=1)\n",
    "FC_c4 = FC_c4.iloc[1: , :]"
   ]
  },
  {
   "cell_type": "code",
   "execution_count": null,
   "metadata": {},
   "outputs": [],
   "source": [
    "fig = px.pie(FC_c4, values='value', names=\"index\", title='FC Dist. in CLUSTER-4')\n",
    "fig.show()"
   ]
  },
  {
   "cell_type": "code",
   "execution_count": null,
   "metadata": {},
   "outputs": [],
   "source": [
    "c4_product = cluster_4[['STILL','SPARKLING','WATER']].sum().reset_index()"
   ]
  },
  {
   "cell_type": "code",
   "execution_count": null,
   "metadata": {},
   "outputs": [],
   "source": [
    "c4_product.rename({0: \"value\"}, inplace=True, axis=1)\n",
    "c4_product = c4_product.iloc[1: , :]"
   ]
  },
  {
   "cell_type": "code",
   "execution_count": null,
   "metadata": {},
   "outputs": [],
   "source": [
    "fig = px.pie(c4_product, values='value', names=\"index\", title='Sparkling Water and Still Dist. in CLUSTER-4')\n",
    "fig.show()"
   ]
  },
  {
   "cell_type": "markdown",
   "metadata": {},
   "source": [
    "----"
   ]
  },
  {
   "cell_type": "code",
   "execution_count": null,
   "metadata": {},
   "outputs": [],
   "source": [
    "stophere"
   ]
  },
  {
   "cell_type": "code",
   "execution_count": null,
   "metadata": {},
   "outputs": [],
   "source": [
    "df.to_csv(\"shopper_clusters.csv\")"
   ]
  },
  {
   "cell_type": "code",
   "execution_count": null,
   "metadata": {},
   "outputs": [],
   "source": [
    "# bigquery'e tabloyu ekleme\n",
    "# Database Connection\n",
    "from google.cloud import bigquery, bigquery_storage_v1beta1\n",
    "\n",
    "client = bigquery.Client()\n",
    "\n",
    "table_id = \"coca-cola-data-lake.predictive_order.shopper_profile_hier_clusters_IC_FC_v3\" \n",
    "\n",
    "job_config = bigquery.LoadJobConfig(\n",
    "    schema=[\n",
    "        bigquery.SchemaField(\"outlet_name\", bigquery.enums.SqlTypeNames.STRING),\n",
    "    ],  write_disposition=\"WRITE_TRUNCATE\"\n",
    ")\n",
    "\n",
    "job = client.load_table_from_dataframe(df, table_id, job_config=job_config)  \n",
    "job.result()  \n",
    "\n",
    "table = client.get_table(table_id)  \n",
    "print(\"Loaded {} rows and {} columns to {}\".format(table.num_rows, len(table.schema), table_id))"
   ]
  }
 ],
 "metadata": {
  "environment": {
   "name": "tf2-gpu.2-1.m46",
   "type": "gcloud",
   "uri": "gcr.io/deeplearning-platform-release/tf2-gpu.2-1:m46"
  },
  "kernelspec": {
   "display_name": "Python 3",
   "language": "python",
   "name": "python3"
  },
  "language_info": {
   "codemirror_mode": {
    "name": "ipython",
    "version": 3
   },
   "file_extension": ".py",
   "mimetype": "text/x-python",
   "name": "python",
   "nbconvert_exporter": "python",
   "pygments_lexer": "ipython3",
   "version": "3.7.6"
  }
 },
 "nbformat": 4,
 "nbformat_minor": 4
}
